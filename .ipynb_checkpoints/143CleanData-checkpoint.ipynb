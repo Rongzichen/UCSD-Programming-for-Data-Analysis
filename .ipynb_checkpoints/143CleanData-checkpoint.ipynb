{
 "cells": [
  {
   "cell_type": "code",
   "execution_count": 7,
   "metadata": {},
   "outputs": [
    {
     "name": "stdout",
     "output_type": "stream",
     "text": [
      "{'industryName': 'Computer Software', 'lastName': 'Wang', 'locationName': 'United States', 'student': False, 'geoCountryName': 'United States', 'geoCountryUrn': 'urn:li:fs_geo:103644278', 'geoLocationBackfilled': True, 'elt': False, 'industryUrn': 'urn:li:fs_industry:4', 'firstName': 'Yirui', 'entityUrn': 'urn:li:fs_profile:ACoAACiQY70B8Qj29NKQBjnGoTRrcQFAbwuxxjo', 'geoLocation': {'geoUrn': 'urn:li:fs_geo:103644278'}, 'location': {'preferredGeoPlace': 'urn:li:fs_city:(us,27-8)', 'basicLocation': {'countryCode': 'us'}}, 'headline': 'Seeking SDE intern opportunities in 2020 summer', 'displayPictureUrl': 'https://media.licdn.com/dms/image/C5103AQEoW27BfnkweQ/profile-displayphoto-shrink_', 'profile_id': 'ACoAACiQY70B8Qj29NKQBjnGoTRrcQFAbwuxxjo', 'experience': [{'locationName': 'Hangzhou, Zhejiang, China', 'entityUrn': 'urn:li:fs_position:(ACoAACiQY70B8Qj29NKQBjnGoTRrcQFAbwuxxjo,1496495174)', 'geoLocationName': 'Hangzhou, Zhejiang, China', 'geoUrn': 'urn:li:fs_geo:90009563', 'companyName': 'Alibaba Group', 'timePeriod': {'endDate': {'month': 8, 'year': 2018}, 'startDate': {'month': 7, 'year': 2018}}, 'description': '- Modiﬁed user management system based on Webx (internal web framework) to improve the user experience\\n- Added orders’ logistics information to orders’ delivery app with HSF (internal RPC framework) for better security\\n- Contributed to RocketMQ (distributed message middle-ware) by designing a non-persistent broker which stores messages in memory instead of ﬂushing to disk, decreasing the message delivery latency', 'company': {'employeeCountRange': {'start': 10001}, 'industries': ['Information Technology and Services']}, 'title': 'Software Engineer Intern', 'region': 'urn:li:fs_region:(cn,8931)', 'companyUrn': 'urn:li:fs_miniCompany:3839570', 'companyLogoUrl': 'https://media.licdn.com/dms/image/C510BAQF8nHU8UQ1ESQ/company-logo_'}, {'locationName': 'Hangzhou, Zhejiang, China', 'entityUrn': 'urn:li:fs_position:(ACoAACiQY70B8Qj29NKQBjnGoTRrcQFAbwuxxjo,1496494622)', 'geoLocationName': 'Hangzhou, Zhejiang, China', 'geoUrn': 'urn:li:fs_geo:90009563', 'companyName': 'DeepThink', 'timePeriod': {'endDate': {'month': 3, 'year': 2018}, 'startDate': {'month': 1, 'year': 2018}}, 'description': '- Developed a back-end service using WeChat’s API in Java, satisfying users’ requests for latest information on WeChat Open Platform\\n- Wrote shell scripts to deploy the back-end server using Apache Tomcat on Alibaba Cloud', 'company': {}, 'title': 'Software Engineer Intern', 'region': 'urn:li:fs_region:(cn,8931)', 'companyUrn': 'urn:li:fs_miniCompany:18280604'}], 'skills': [{'name': 'Java', 'standardizedSkillUrn': 'urn:li:fs_miniSkill:147', 'standardizedSkill': {'name': 'Java', 'entityUrn': 'urn:li:fs_miniSkill:147'}}, {'name': 'C++', 'standardizedSkillUrn': 'urn:li:fs_miniSkill:198', 'standardizedSkill': {'name': 'C++', 'entityUrn': 'urn:li:fs_miniSkill:198'}}, {'name': 'Python'}, {'name': 'Software Design Patterns', 'standardizedSkillUrn': 'urn:li:fs_miniSkill:18348', 'standardizedSkill': {'name': 'Software Design Patterns', 'entityUrn': 'urn:li:fs_miniSkill:18348'}}, {'name': 'SQL', 'standardizedSkillUrn': 'urn:li:fs_miniSkill:483', 'standardizedSkill': {'name': 'SQL', 'entityUrn': 'urn:li:fs_miniSkill:483'}}, {'name': 'Shell Scripting', 'standardizedSkillUrn': 'urn:li:fs_miniSkill:2132', 'standardizedSkill': {'name': 'Shell Scripting', 'entityUrn': 'urn:li:fs_miniSkill:2132'}}, {'name': 'C (Programming Language)'}], 'education': [{'entityUrn': 'urn:li:fs_education:(ACoAACiQY70B8Qj29NKQBjnGoTRrcQFAbwuxxjo,605281644)', 'school': {'objectUrn': 'urn:li:school:17954', 'entityUrn': 'urn:li:fs_miniSchool:17954', 'active': True, 'schoolName': 'University of California San Diego', 'trackingId': '61EMGKg3REu2xXJAwcryXg==', 'logoUrl': 'https://media.licdn.com/dms/image/C560BAQHQYa-3EY_aaQ/company-logo_'}, 'timePeriod': {'endDate': {'year': 2021}, 'startDate': {'year': 2019}}, 'fieldOfStudyUrn': 'urn:li:fs_fieldOfStudy:100189', 'degreeName': 'Master of Science - MS', 'schoolName': 'University of California San Diego', 'fieldOfStudy': 'Computer Science', 'degreeUrn': 'urn:li:fs_degree:626', 'schoolUrn': 'urn:li:fs_miniSchool:17954'}, {'projects': ['urn:li:fs_project:(ACoAACiQY70B8Qj29NKQBjnGoTRrcQFAbwuxxjo,1973996020)', 'urn:li:fs_project:(ACoAACiQY70B8Qj29NKQBjnGoTRrcQFAbwuxxjo,1974639677)', 'urn:li:fs_project:(ACoAACiQY70B8Qj29NKQBjnGoTRrcQFAbwuxxjo,1974709954)', 'urn:li:fs_project:(ACoAACiQY70B8Qj29NKQBjnGoTRrcQFAbwuxxjo,1974882501)'], 'entityUrn': 'urn:li:fs_education:(ACoAACiQY70B8Qj29NKQBjnGoTRrcQFAbwuxxjo,552887448)', 'school': {'objectUrn': 'urn:li:school:11469', 'entityUrn': 'urn:li:fs_miniSchool:11469', 'active': True, 'schoolName': 'Zhejiang University', 'trackingId': 'mcfejy3tS8iBCK5SPXp5Bw==', 'logoUrl': 'https://media.licdn.com/dms/image/C510BAQFqHuGrMlNcfg/company-logo_'}, 'timePeriod': {'endDate': {'year': 2019}, 'startDate': {'year': 2015}}, 'description': 'Selected Coursework: Discrete Mathematics, Data Structures & Algorithms, Database Systems, Object Oriented Programming, Computer Organization, Operating Systems, Computer Networks, Compiler Principles', 'fieldOfStudyUrn': 'urn:li:fs_fieldOfStudy:100379', 'degreeName': 'Bachelor of Engineering - BE', 'schoolName': 'Zhejiang University', 'fieldOfStudy': 'Automation', 'degreeUrn': 'urn:li:fs_degree:269', 'schoolUrn': 'urn:li:fs_miniSchool:11469'}, {'entityUrn': 'urn:li:fs_education:(ACoAACiQY70B8Qj29NKQBjnGoTRrcQFAbwuxxjo,607132307)', 'school': {'objectUrn': 'urn:li:school:17939', 'entityUrn': 'urn:li:fs_miniSchool:17939', 'active': True, 'schoolName': 'University of California, Berkeley', 'trackingId': 'Dkq/rbroTQqIroIw+NA5cQ==', 'logoUrl': 'https://media.licdn.com/dms/image/C560BAQHylmb-tm1JOw/company-logo_'}, 'timePeriod': {'endDate': {'year': 2017}, 'startDate': {'year': 2017}}, 'degreeName': 'Summer Session', 'schoolName': 'University of California, Berkeley', 'schoolUrn': 'urn:li:fs_miniSchool:17939'}]}\n"
     ]
    },
    {
     "ename": "KeyError",
     "evalue": "'geoLocationName'",
     "output_type": "error",
     "traceback": [
      "\u001b[0;31m---------------------------------------------------------------------------\u001b[0m",
      "\u001b[0;31mKeyError\u001b[0m                                  Traceback (most recent call last)",
      "\u001b[0;32m<ipython-input-7-4c90fd3eaf09>\u001b[0m in \u001b[0;36m<module>\u001b[0;34m\u001b[0m\n\u001b[1;32m     21\u001b[0m         \u001b[0;32mif\u001b[0m \u001b[0;34m'geoLocationName'\u001b[0m \u001b[0;32mnot\u001b[0m \u001b[0;32min\u001b[0m \u001b[0minfo\u001b[0m\u001b[0;34m:\u001b[0m\u001b[0;34m\u001b[0m\u001b[0;34m\u001b[0m\u001b[0m\n\u001b[1;32m     22\u001b[0m             \u001b[0mprint\u001b[0m\u001b[0;34m(\u001b[0m\u001b[0minfo\u001b[0m\u001b[0;34m)\u001b[0m\u001b[0;34m\u001b[0m\u001b[0;34m\u001b[0m\u001b[0m\n\u001b[0;32m---> 23\u001b[0;31m         \u001b[0mcurPlace\u001b[0m \u001b[0;34m=\u001b[0m \u001b[0minfo\u001b[0m\u001b[0;34m[\u001b[0m\u001b[0;34m'geoLocationName'\u001b[0m\u001b[0;34m]\u001b[0m\u001b[0;34m\u001b[0m\u001b[0;34m\u001b[0m\u001b[0m\n\u001b[0m\u001b[1;32m     24\u001b[0m         \u001b[0mcity\u001b[0m\u001b[0;34m,\u001b[0m \u001b[0mstate\u001b[0m \u001b[0;34m=\u001b[0m \u001b[0mcurPlace\u001b[0m\u001b[0;34m.\u001b[0m\u001b[0msplit\u001b[0m\u001b[0;34m(\u001b[0m\u001b[0;34m','\u001b[0m\u001b[0;34m)\u001b[0m\u001b[0;34m\u001b[0m\u001b[0;34m\u001b[0m\u001b[0m\n\u001b[1;32m     25\u001b[0m         \u001b[0mfound\u001b[0m \u001b[0;34m=\u001b[0m \u001b[0;32mNone\u001b[0m \u001b[0;31m#indicator of whether location has found in certain format\u001b[0m\u001b[0;34m\u001b[0m\u001b[0;34m\u001b[0m\u001b[0m\n",
      "\u001b[0;31mKeyError\u001b[0m: 'geoLocationName'"
     ]
    }
   ],
   "source": [
    "import json\n",
    "from collections import defaultdict\n",
    "\n",
    "companies = defaultdict(int)\n",
    "location = defaultdict(int)\n",
    "skills = defaultdict(int)\n",
    "industry = defaultdict(int)\n",
    "\n",
    "with open('143data1to437.json','r') as f:\n",
    "    allpeople = f.readlines()\n",
    "    \n",
    "    for person in allpeople:\n",
    "        info = json.loads(person)\n",
    "\n",
    "#         print(info[\"lastName\"], info[\"firstName\"])\n",
    "        industry[info['industryName']] += 1\n",
    "\n",
    "        if not info['student'] and info['experience']:\n",
    "            companies[info['experience'][0]['companyName']] += 1\n",
    "         \n",
    "        try:\n",
    "            curPlace = info['geoLocationName']\n",
    "            city, state = curPlace.split(',')\n",
    "            found = None #indicator of whether location has found in certain format\n",
    "            for savedCity, savedState in location:\n",
    "                if city in savedCity:\n",
    "                    found = True\n",
    "                    location[(savedCity, savedState)] += 1\n",
    "\n",
    "            if not found:\n",
    "                location[(city,state)] += 1\n",
    "        except:\n",
    "            print(info)\n",
    "        \n",
    "        try:\n",
    "            if info['skills']:\n",
    "                for skill in info['skills']:\n",
    "                    if skill['name'].lower() == 'c' or skill['name'].lower() == 'c++' or skill['name'].lower() == 'c/c++' :\n",
    "                        skills['c/c++'] += 1\n",
    "                    else:\n",
    "                        skills[skill['name'].lower()] += 1\n",
    "        except:\n",
    "            print(info)\n",
    "print(companies)\n",
    "print(location)\n",
    "print(industry)\n",
    "print(skills)\n",
    "        \n",
    "            "
   ]
  },
  {
   "cell_type": "code",
   "execution_count": null,
   "metadata": {},
   "outputs": [],
   "source": []
  }
 ],
 "metadata": {
  "kernelspec": {
   "display_name": "Python 3",
   "language": "python",
   "name": "python3"
  },
  "language_info": {
   "codemirror_mode": {
    "name": "ipython",
    "version": 3
   },
   "file_extension": ".py",
   "mimetype": "text/x-python",
   "name": "python",
   "nbconvert_exporter": "python",
   "pygments_lexer": "ipython3",
   "version": "3.7.3"
  }
 },
 "nbformat": 4,
 "nbformat_minor": 2
}
