{
 "cells": [
  {
   "cell_type": "code",
   "execution_count": 2,
   "metadata": {},
   "outputs": [],
   "source": [
    "import json\n",
    "import matplotlib.pyplot as plt"
   ]
  },
  {
   "cell_type": "code",
   "execution_count": 3,
   "metadata": {},
   "outputs": [],
   "source": [
    "profile_list = []\n",
    "with open('143dataall.json', 'r') as f:\n",
    "    for n in f.readlines():\n",
    "        d = json.loads(n)\n",
    "        profile_list.append(d)"
   ]
  },
  {
   "cell_type": "code",
   "execution_count": 4,
   "metadata": {},
   "outputs": [],
   "source": [
    "totalStudent = len(profile_list)"
   ]
  },
  {
   "cell_type": "code",
   "execution_count": 5,
   "metadata": {},
   "outputs": [
    {
     "data": {
      "text/plain": [
       "852"
      ]
     },
     "execution_count": 5,
     "metadata": {},
     "output_type": "execute_result"
    }
   ],
   "source": [
    "totalStudent"
   ]
  },
  {
   "cell_type": "code",
   "execution_count": 6,
   "metadata": {},
   "outputs": [],
   "source": [
    "firstMajor = {}\n",
    "majorChange = {}"
   ]
  },
  {
   "cell_type": "code",
   "execution_count": 7,
   "metadata": {},
   "outputs": [],
   "source": [
    "n = 0\n",
    "idx = 0\n",
    "m = 0\n",
    "not_Uni = False\n",
    "for i in profile_list:\n",
    "    if 'education' not in i:\n",
    "        continue\n",
    "    edu = i['education']    \n",
    "    idx += 1\n",
    "    if len(edu) > 1:\n",
    "        n += 1\n",
    "        for e in edu:\n",
    "            if 'fieldOfStudy' not in e:\n",
    "                not_Uni = True    \n",
    "    if not_Uni:\n",
    "        n -= 1\n",
    "        not_Uni = False\n",
    "        continue\n",
    "        \n",
    "    if len(edu) > 1:\n",
    "        \n",
    "        first = edu[0]['fieldOfStudy']\n",
    "        \n",
    "        if first.lower() not in firstMajor:\n",
    "            firstMajor[first.lower()] = 0\n",
    "        \n",
    "        for i in range(1, len(edu)):\n",
    "            second = edu[i]['fieldOfStudy']\n",
    "            \n",
    "            if second.lower() != first.lower():\n",
    "                firstMajor[first.lower()] += 1\n",
    "                \n",
    "        if first.lower() not in majorChange:\n",
    "            majorChange[first.lower()] = []\n",
    "        \n",
    "        for i in range(1, len(edu)):\n",
    "            second = edu[i]['fieldOfStudy']\n",
    "            \n",
    "            if second.lower() != first.lower():\n",
    "                \n",
    "                majorChange[first.lower()].append(second.lower())"
   ]
  },
  {
   "cell_type": "code",
   "execution_count": 8,
   "metadata": {},
   "outputs": [],
   "source": [
    "changeStudent = 0"
   ]
  },
  {
   "cell_type": "code",
   "execution_count": 9,
   "metadata": {},
   "outputs": [],
   "source": [
    "firstMajorList = []\n",
    "for k, v in firstMajor.items():\n",
    "    firstMajorList.append((v,k))\n",
    "    changeStudent += v"
   ]
  },
  {
   "cell_type": "code",
   "execution_count": 10,
   "metadata": {},
   "outputs": [
    {
     "data": {
      "text/plain": [
       "550"
      ]
     },
     "execution_count": 10,
     "metadata": {},
     "output_type": "execute_result"
    }
   ],
   "source": [
    "changeStudent"
   ]
  },
  {
   "cell_type": "code",
   "execution_count": null,
   "metadata": {},
   "outputs": [],
   "source": []
  },
  {
   "cell_type": "code",
   "execution_count": 11,
   "metadata": {},
   "outputs": [],
   "source": [
    "firstMajorList.sort(reverse=True)"
   ]
  },
  {
   "cell_type": "code",
   "execution_count": 12,
   "metadata": {},
   "outputs": [],
   "source": [
    "csCount = 0"
   ]
  },
  {
   "cell_type": "code",
   "execution_count": 13,
   "metadata": {},
   "outputs": [],
   "source": [
    "li = firstMajorList.copy()"
   ]
  },
  {
   "cell_type": "code",
   "execution_count": 14,
   "metadata": {},
   "outputs": [
    {
     "name": "stdout",
     "output_type": "stream",
     "text": [
      "computer science\n",
      "computer science and engineering\n",
      "mathematics and computer science\n",
      "computer science in machine learning (online)\n",
      "computer science engineering\n",
      "computer science & systems\n",
      "mathematics-computer science\n",
      "master program of computer science\n",
      "computer science, computer graphics specialization\n",
      "computer science and pure mathematics\n",
      "computer science / applied mathematics\n",
      "computer science (robotics)\n"
     ]
    }
   ],
   "source": [
    "i = 0\n",
    "leng = len(li)\n",
    "while i < leng:\n",
    "    n, m = li[i]\n",
    "    if 'computer science' in m:\n",
    "        print(m)\n",
    "        csCount += n\n",
    "        li.remove((n, m))\n",
    "        leng -= 1\n",
    "        continue\n",
    "    i += 1"
   ]
  },
  {
   "cell_type": "code",
   "execution_count": 15,
   "metadata": {},
   "outputs": [
    {
     "data": {
      "text/plain": [
       "287"
      ]
     },
     "execution_count": 15,
     "metadata": {},
     "output_type": "execute_result"
    }
   ],
   "source": [
    "csCount"
   ]
  },
  {
   "cell_type": "code",
   "execution_count": 16,
   "metadata": {},
   "outputs": [],
   "source": [
    "eceCount = 0"
   ]
  },
  {
   "cell_type": "code",
   "execution_count": 17,
   "metadata": {},
   "outputs": [
    {
     "name": "stdout",
     "output_type": "stream",
     "text": [
      "electrical and computer engineering\n",
      "computer engineering\n",
      "electrical and electronics engineering\n",
      "intelligent system, robotics, and control\n",
      "electrical & computer engineering\n",
      "intelligent systems, robotics, and control\n",
      "intelligent systems and robotics control\n",
      "intelligent system, robotics and control\n",
      "electronic and computer engineer\n",
      "electrical, electronics and communications engineering\n",
      "electrical and computer engineering (ece): intelligent systems, robotics, control (isrc)\n",
      "eecs\n",
      "ece\n",
      "data science and machine learning (dept. of electrical and computer engineering)\n",
      "electronic and computer engineering\n",
      "electrical engineering, machine learning depth\n",
      "electrical engineering\n",
      "electrical and comuputer engineering\n",
      "electrical and computer engineering (machine learning and data science)\n",
      "computer engineering, mathematics (minor)\n"
     ]
    }
   ],
   "source": [
    "i = 0\n",
    "leng = len(li)\n",
    "while i < leng:\n",
    "    n, m = li[i]\n",
    "    if 'computer engineering' in m or 'electrical' in m or 'ece' in m or 'eecs' in m or 'electronic' in m or 'intelligent' in m:\n",
    "        print(m)\n",
    "        eceCount += n\n",
    "        li.remove((n, m))\n",
    "        leng -= 1\n",
    "        continue\n",
    "    i += 1"
   ]
  },
  {
   "cell_type": "code",
   "execution_count": 18,
   "metadata": {},
   "outputs": [
    {
     "data": {
      "text/plain": [
       "136"
      ]
     },
     "execution_count": 18,
     "metadata": {},
     "output_type": "execute_result"
    }
   ],
   "source": [
    "eceCount"
   ]
  },
  {
   "cell_type": "code",
   "execution_count": 19,
   "metadata": {},
   "outputs": [],
   "source": [
    "financeCount = 0"
   ]
  },
  {
   "cell_type": "code",
   "execution_count": 20,
   "metadata": {},
   "outputs": [
    {
     "name": "stdout",
     "output_type": "stream",
     "text": [
      "business analytics\n",
      "finance\n",
      "quantitative finance (stem)\n",
      "finance, general\n",
      "business analytics and data science\n",
      "business analytics (stem)\n",
      "analytics\n",
      "quantitative finance\n",
      "international business\n",
      "business\n"
     ]
    }
   ],
   "source": [
    "i = 0\n",
    "leng = len(li)\n",
    "while i < leng:\n",
    "    n, m = li[i]\n",
    "    if 'business' in m or 'analytics' in m or 'finance' in m:\n",
    "        print(m)\n",
    "        financeCount += n\n",
    "        li.remove((n, m))\n",
    "        leng -= 1\n",
    "        continue\n",
    "    i += 1"
   ]
  },
  {
   "cell_type": "code",
   "execution_count": 21,
   "metadata": {},
   "outputs": [
    {
     "data": {
      "text/plain": [
       "38"
      ]
     },
     "execution_count": 21,
     "metadata": {},
     "output_type": "execute_result"
    }
   ],
   "source": [
    "financeCount"
   ]
  },
  {
   "cell_type": "code",
   "execution_count": 22,
   "metadata": {},
   "outputs": [],
   "source": [
    "mldsCount = 0"
   ]
  },
  {
   "cell_type": "code",
   "execution_count": 23,
   "metadata": {},
   "outputs": [
    {
     "name": "stdout",
     "output_type": "stream",
     "text": [
      "machine learning and data science\n",
      "machine learning\n",
      "data science\n",
      "machine learning & data science\n",
      "computational data science\n"
     ]
    }
   ],
   "source": [
    "i = 0\n",
    "leng = len(li)\n",
    "while i < leng:\n",
    "    n, m = li[i]\n",
    "    if 'machine learning' in m or 'data science' in m:\n",
    "        print(m)\n",
    "        mldsCount += n\n",
    "        li.remove((n, m))\n",
    "        leng -= 1\n",
    "        continue\n",
    "    i += 1"
   ]
  },
  {
   "cell_type": "code",
   "execution_count": 24,
   "metadata": {},
   "outputs": [
    {
     "data": {
      "text/plain": [
       "29"
      ]
     },
     "execution_count": 24,
     "metadata": {},
     "output_type": "execute_result"
    }
   ],
   "source": [
    "mldsCount"
   ]
  },
  {
   "cell_type": "code",
   "execution_count": 25,
   "metadata": {},
   "outputs": [],
   "source": [
    "maCount = 0"
   ]
  },
  {
   "cell_type": "code",
   "execution_count": 26,
   "metadata": {},
   "outputs": [
    {
     "name": "stdout",
     "output_type": "stream",
     "text": [
      "computational science\n",
      "mathematics and economics\n",
      "statistics\n",
      "mathematical statistics and probability\n",
      "computitional science (csme)\n",
      "biochemistry and biostatistics\n",
      "mathematics/economics\n",
      "mathematics with applied science\n",
      "mathematics with a specialization in statistics\n",
      "mathematics\n",
      "computational science mathematics and enginering\n",
      "biology, bioinformatics, and computational biology\n",
      "bioengineering, specialized in computational biology and bioinformatics\n",
      "applied mathematics\n"
     ]
    }
   ],
   "source": [
    "i = 0\n",
    "leng = len(li)\n",
    "while i < leng:\n",
    "    n, m = li[i]\n",
    "    if 'mathematics' in m or 'computational' in m or 'mathematical' in m or 'statistics' in m or 'computitional' in m:\n",
    "        print(m)\n",
    "        maCount += n\n",
    "        li.remove((n, m))\n",
    "        leng -= 1\n",
    "        continue\n",
    "    i += 1"
   ]
  },
  {
   "cell_type": "code",
   "execution_count": 27,
   "metadata": {},
   "outputs": [
    {
     "data": {
      "text/plain": [
       "28"
      ]
     },
     "execution_count": 27,
     "metadata": {},
     "output_type": "execute_result"
    }
   ],
   "source": [
    "maCount"
   ]
  },
  {
   "cell_type": "code",
   "execution_count": 28,
   "metadata": {},
   "outputs": [
    {
     "data": {
      "text/plain": [
       "[(5, 'cognitive science'),\n",
       " (2, 'operations research'),\n",
       " (2, 'nanoscale devices and systems'),\n",
       " (2, 'management information systems, general'),\n",
       " (2, 'information technology - mobility'),\n",
       " (2, 'executive management (epse)'),\n",
       " (2, 'cybersecurity '),\n",
       " (2, 'cognitive science-human computer interaction'),\n",
       " (2, 'chemistry'),\n",
       " (2, 'biology/biological sciences, general'),\n",
       " (2, 'bioengineering and biomedical engineering'),\n",
       " (1, 'technology innovation'),\n",
       " (1, 'software management, product management'),\n",
       " (1, 'management science'),\n",
       " (1, 'integrated circuit design'),\n",
       " (1, 'conputer science'),\n",
       " (1, 'biomedical engineering'),\n",
       " (1, 'bioinformatics and systems biology'),\n",
       " (0, 'mechanical engineering'),\n",
       " (0, 'mechanical and aerospace engineering')]"
      ]
     },
     "execution_count": 28,
     "metadata": {},
     "output_type": "execute_result"
    }
   ],
   "source": [
    "li"
   ]
  },
  {
   "cell_type": "code",
   "execution_count": 29,
   "metadata": {},
   "outputs": [
    {
     "data": {
      "text/plain": [
       "Text(0.5, 1.0, 'Which major they changed to')"
      ]
     },
     "execution_count": 29,
     "metadata": {},
     "output_type": "execute_result"
    },
    {
     "data": {
      "image/png": "[encoded data removed]",
      "text/plain": [
       "<Figure size 432x288 with 1 Axes>"
      ]
     },
     "metadata": {},
     "output_type": "display_data"
    }
   ],
   "source": [
    "# Data to plot\n",
    "labels ='computer science','ece', 'mathematics','finance'\n",
    "sizes = [csCount,eceCount + mldsCount, maCount, financeCount]\n",
    "colors = ['gold', 'lightskyblue', 'pink', 'lightgreen']\n",
    "explode = (.1,0,0,0)  # explode 1st slice\n",
    "\n",
    "# Plot\n",
    "plt.pie(sizes, explode=explode, labels=labels, colors=colors,\n",
    "autopct='%1.1f%%', shadow=False, startangle=140)\n",
    "\n",
    "plt.axis('equal')\n",
    "plt.title('Which major they changed to', fontsize = 20)"
   ]
  },
  {
   "cell_type": "code",
   "execution_count": 30,
   "metadata": {},
   "outputs": [
    {
     "data": {
      "text/plain": [
       "Text(0.5, 1.0, 'How many students change their major')"
      ]
     },
     "execution_count": 30,
     "metadata": {},
     "output_type": "execute_result"
    },
    {
     "data": {
      "image/png": "[encoded data removed]",
      "text/plain": [
       "<Figure size 432x288 with 1 Axes>"
      ]
     },
     "metadata": {},
     "output_type": "display_data"
    }
   ],
   "source": [
    "# Data to plot\n",
    "labels = 'Same major','Change their major'\n",
    "sizes = [totalStudent - changeStudent, changeStudent]\n",
    "colors = ['gold', 'lightskyblue']\n",
    "explode = (0.1, 0)  # explode 1st slice\n",
    "\n",
    "# Plot\n",
    "plt.pie(sizes, explode=explode, labels=labels, colors=colors,\n",
    "autopct='%1.1f%%', shadow=False, startangle=140)\n",
    "\n",
    "plt.axis('equal')\n",
    "plt.title('How many students change their major', fontsize = 20)"
   ]
  },
  {
   "cell_type": "code",
   "execution_count": 31,
   "metadata": {},
   "outputs": [],
   "source": [
    "changeToCs = majorChange['computer science']"
   ]
  },
  {
   "cell_type": "code",
   "execution_count": 32,
   "metadata": {},
   "outputs": [],
   "source": [
    "changeToCsCount = {}"
   ]
  },
  {
   "cell_type": "code",
   "execution_count": 33,
   "metadata": {},
   "outputs": [],
   "source": [
    "changeToCsCount['ece'] = 0"
   ]
  },
  {
   "cell_type": "code",
   "execution_count": 34,
   "metadata": {},
   "outputs": [
    {
     "name": "stdout",
     "output_type": "stream",
     "text": [
      "computer engineering\n",
      "computer engineering\n",
      "electronics and electric engineering & computer science\n",
      "electrical engineering\n",
      "computer engineering\n",
      "communication engineering\n",
      "computer science, computer engineering\n",
      "computer engineering\n",
      "electronic information science and technology\n",
      "electrical engineering\n",
      "electronics and information engineering\n",
      "computer engineering\n",
      "electronic information engineering\n",
      "electrical engineering\n",
      "microelectronic science and engineering\n",
      "eecs\n",
      "electrical and electronics engineering\n",
      "electronic engineering\n",
      "electrical engineering\n",
      "electrical and information engineering\n",
      "electrical engineering technologies/technicians\n",
      "electrical and electronics engineering\n",
      "electrical and computer engineering\n",
      "electrical and electronics engineering\n",
      "electrical and electronics engineering\n",
      "microelectronics(computer architecture)\n",
      "electronic information science and technology\n",
      "electrical engineering\n",
      "electrical and computer engineering\n",
      "electrical and electronics engineering\n",
      "electrical and computer engineering\n",
      "computer engineering\n",
      "microelectronics engineering\n",
      "electrical and electronics engineering\n",
      "electronics science and engineering\n",
      "telecommunication\n",
      "telecommunications engineering\n",
      "electrical and computer engineering\n",
      "electrical engineering and computer science\n",
      "electrical and electronics engineering\n",
      "electrical engineering\n",
      "electrical engineering and automation\n",
      "communication engineering\n",
      "computer engineering\n",
      "electronic science and technology\n",
      "electronic information science and technology\n",
      "electrical & computer engineering\n",
      "electrical engineering\n",
      "electronic engineering\n",
      "electrical and computer engineering\n",
      "eecs\n",
      "me/ece\n",
      "electrical and electronics engineering\n",
      "electronic information science and technology\n",
      "electrical engineering\n",
      "computer engineering\n",
      "computer engineering\n",
      "microelectronics\n",
      "electrical and computer engineering\n",
      "electronic information science and technology\n",
      "electronic information science and technology\n",
      "electrical and electronics engineering\n",
      "electrical and electronics engineering\n",
      "electronic information engineering\n",
      "electrical and computer engineering\n",
      "electronic and information engineering\n",
      "electrical engineering\n",
      "telecommunication engineering\n",
      "electrical engineering\n",
      "computer engineering\n",
      "microelectronics\n",
      "computer engineering\n",
      "electrical and electronics engineering\n",
      "communication engineering\n",
      "electronic science and technology\n",
      "electrical and electronics engineering\n",
      "electronic information engineering\n",
      "electrical engineering\n",
      "electrical and computer engineering\n",
      "electronic information engineering\n",
      "electrical and electronics engineering\n",
      "computer science and electronic engineering\n",
      "electrical and computer engineering\n",
      "electrical and electronics engineering\n"
     ]
    }
   ],
   "source": [
    "\n",
    "i = 0\n",
    "leng = len(changeToCs)\n",
    "while i < leng:\n",
    "    m = changeToCs[i]\n",
    "    if 'computer engineering' in m or 'electrical' in m or 'ece' in m or 'eecs' in m or 'electronic' in m or 'intelligent' in m or 'telecommunication' in m or 'communication' in m:\n",
    "        print(m)\n",
    "        changeToCsCount['ece'] += 1\n",
    "        \n",
    "        changeToCs.remove(m)\n",
    "        leng -= 1\n",
    "        continue\n",
    "    i += 1"
   ]
  },
  {
   "cell_type": "code",
   "execution_count": 35,
   "metadata": {},
   "outputs": [
    {
     "data": {
      "text/plain": [
       "{'ece': 84}"
      ]
     },
     "execution_count": 35,
     "metadata": {},
     "output_type": "execute_result"
    }
   ],
   "source": [
    "changeToCsCount"
   ]
  },
  {
   "cell_type": "code",
   "execution_count": 36,
   "metadata": {},
   "outputs": [
    {
     "data": {
      "text/plain": [
       "156"
      ]
     },
     "execution_count": 36,
     "metadata": {},
     "output_type": "execute_result"
    }
   ],
   "source": [
    "len(changeToCs)"
   ]
  },
  {
   "cell_type": "code",
   "execution_count": 37,
   "metadata": {},
   "outputs": [],
   "source": [
    "changeToCsCount['ma'] = 0"
   ]
  },
  {
   "cell_type": "code",
   "execution_count": 38,
   "metadata": {},
   "outputs": [
    {
     "name": "stdout",
     "output_type": "stream",
     "text": [
      "mathematics and computer science\n",
      "mathematics and computer science\n",
      "financial mathematics\n",
      "mathematics and computer science\n",
      "computing and data analytics, minor in mathematics\n",
      "double majors in b.s. computer science, b.s. mathematics\n",
      "applied & computational math sciences\n",
      "mathematics\n",
      "advanced level: mathematics, physics, computerscience, economics\n",
      "statistics\n",
      "mathematics and information engineering\n",
      "mathematics and computer science\n",
      "double major in applied mathematics and finance\n",
      "computational mathematics\n",
      "mathematics and computer science\n",
      "mathematics\n"
     ]
    }
   ],
   "source": [
    "i = 0\n",
    "leng = len(changeToCs)\n",
    "while i < leng:\n",
    "    m = changeToCs[i]\n",
    "    if 'mathematics' in m or 'computational' in m or 'mathematical' in m or 'statistics' in m or 'computitional' in m:\n",
    "        print(m)\n",
    "        changeToCsCount['ma'] += 1\n",
    "        \n",
    "        changeToCs.remove(m)\n",
    "        leng -= 1\n",
    "        continue\n",
    "    i += 1"
   ]
  },
  {
   "cell_type": "code",
   "execution_count": 39,
   "metadata": {},
   "outputs": [
    {
     "data": {
      "text/plain": [
       "{'ece': 84, 'ma': 16}"
      ]
     },
     "execution_count": 39,
     "metadata": {},
     "output_type": "execute_result"
    }
   ],
   "source": [
    "changeToCsCount"
   ]
  },
  {
   "cell_type": "code",
   "execution_count": 40,
   "metadata": {},
   "outputs": [],
   "source": [
    "changeToCsCount['cs related'] = 0"
   ]
  },
  {
   "cell_type": "code",
   "execution_count": 41,
   "metadata": {},
   "outputs": [
    {
     "name": "stdout",
     "output_type": "stream",
     "text": [
      "computer science and technology\n",
      "computer software engineering\n",
      "computer software engineering\n",
      "information engineering\n",
      "information engineering\n",
      "computer science and engineering \n",
      "computer science information engineering, industrial and information management (double major)\n",
      "computer science and enginering\n",
      "computer software engineering\n",
      "computer software engineering\n",
      "computer science and technology\n",
      "information systems  \n",
      "computer software engineering\n",
      "computer software engineering\n",
      "computer software engineering\n",
      "computer science and engineering\n",
      "computer science (ieee honor class)\n",
      "information engineering\n",
      "computer science and engineering\n",
      "software engineering\n",
      "software engineering\n",
      "information engineering\n",
      "mechanical engineering, minor in computer science\n",
      "mechanical engineering, minor in computer science\n",
      "computer science and engineering\n",
      "software engineering\n",
      "computer science and cognitive science\n",
      "computer software engineering\n",
      "computer science and engineering\n",
      "computer science and technology\n",
      "biochemistry & computer science\n",
      "computer science and technology\n",
      "information engineering\n",
      "information engineering\n",
      "computer software engineering\n",
      "information security\n",
      "information security\n",
      "accounting and computer science\n",
      "computer software\n",
      "geographic information science and cartography\n",
      "computer science and engineering\n",
      "computer science and chemistry \n",
      "computer science and engineering\n",
      "information and computing science\n",
      "software engineering\n",
      "information engineering\n",
      "computer software engineering\n",
      "computer and information engineering\n",
      "computer science, research intern student\n",
      "computer software engineering\n",
      "computer science and information engineering\n",
      "computer science, gpa 3.98/4.0, ranking 2/358\n",
      "computer science, gpa 4.0/4.0\n",
      "software engineering\n",
      "digital media technology in department of computer science and technology\n",
      "information engineering\n",
      "information engineering\n",
      "information security\n",
      "software engineering\n",
      "computer science, economics\n",
      "information engineering\n",
      "computer science, game and interactive media design\n",
      "information engineering\n",
      "information security\n",
      "computer science (artificial intelligence) with a year abroad\n",
      "information and computing science \n",
      "computer software engineering\n",
      "software engineering\n",
      "computer science (national elite program, tang ao-qing honors program in computer science)\n",
      "computer science and technology\n",
      "information science and technology, automation\n",
      "computer software engineering\n",
      "computer software engineering\n"
     ]
    }
   ],
   "source": [
    "i = 0\n",
    "leng = len(changeToCs)\n",
    "while i < leng:\n",
    "    m = changeToCs[i]\n",
    "    if 'computer science' in m or 'software' in m or 'information' in m:\n",
    "        print(m)\n",
    "        changeToCsCount['cs related'] += 1\n",
    "        \n",
    "        changeToCs.remove(m)\n",
    "        leng -= 1\n",
    "        continue\n",
    "    i += 1"
   ]
  },
  {
   "cell_type": "code",
   "execution_count": 42,
   "metadata": {},
   "outputs": [],
   "source": [
    "changeToCsCount['finance'] = 0"
   ]
  },
  {
   "cell_type": "code",
   "execution_count": 43,
   "metadata": {},
   "outputs": [
    {
     "name": "stdout",
     "output_type": "stream",
     "text": [
      "business administration and management, general\n",
      "economics\n",
      "the elite program of finance, an honors program for the top 10% of student\n",
      "economics\n",
      "international business\n",
      "finance, general\n",
      "finance, general\n",
      "economics\n",
      "business administration and management, general\n",
      "korean language and literature | technology business management\n",
      "economics\n",
      "economics\n",
      "data science, business & finance\n",
      "business administration and management, general\n",
      "finance\n"
     ]
    }
   ],
   "source": [
    "i = 0\n",
    "leng = len(changeToCs)\n",
    "while i < leng:\n",
    "    m = changeToCs[i]\n",
    "    if 'business' in m or 'analytics' in m or 'finance' in m or 'economics' in m:\n",
    "        print(m)\n",
    "        changeToCsCount['finance'] += 1\n",
    "        \n",
    "        changeToCs.remove(m)\n",
    "        leng -= 1\n",
    "        continue\n",
    "    i += 1"
   ]
  },
  {
   "cell_type": "code",
   "execution_count": 44,
   "metadata": {},
   "outputs": [
    {
     "data": {
      "text/plain": [
       "{'ece': 84, 'ma': 16, 'cs related': 73, 'finance': 15}"
      ]
     },
     "execution_count": 44,
     "metadata": {},
     "output_type": "execute_result"
    }
   ],
   "source": [
    "changeToCsCount"
   ]
  },
  {
   "cell_type": "code",
   "execution_count": 45,
   "metadata": {},
   "outputs": [
    {
     "data": {
      "text/plain": [
       "52"
      ]
     },
     "execution_count": 45,
     "metadata": {},
     "output_type": "execute_result"
    }
   ],
   "source": [
    "len(changeToCs)"
   ]
  },
  {
   "cell_type": "code",
   "execution_count": 46,
   "metadata": {},
   "outputs": [
    {
     "data": {
      "text/plain": [
       "{'ece': 84, 'ma': 16, 'cs related': 73, 'finance': 15}"
      ]
     },
     "execution_count": 46,
     "metadata": {},
     "output_type": "execute_result"
    }
   ],
   "source": [
    "changeToCsCount"
   ]
  },
  {
   "cell_type": "code",
   "execution_count": 49,
   "metadata": {},
   "outputs": [
    {
     "name": "stdout",
     "output_type": "stream",
     "text": [
      "Using matplotlib backend: Qt5Agg\n"
     ]
    },
    {
     "data": {
      "text/plain": [
       "(-1.1756823653069808,\n",
       " 1.1171621295261829,\n",
       " -1.1897488533780884,\n",
       " 1.105016107166773)"
      ]
     },
     "execution_count": 49,
     "metadata": {},
     "output_type": "execute_result"
    }
   ],
   "source": [
    "%matplotlib\n",
    "labels = 'ece', 'other', 'mathematics', 'finance'\n",
    "sizes = [changeToCsCount['ece'], len(changeToCs), changeToCsCount['ma'], changeToCsCount['finance']]\n",
    "colors = ['gold', 'lightskyblue', 'pink', 'lightgreen']\n",
    "explode = (.1,0,0,0)  # explode 1st slice\n",
    "\n",
    "# Plot\n",
    "\n",
    "patches,l_text,p_text = plt.pie(sizes, explode=explode, labels=labels, colors=colors,autopct='%1.1f%%', shadow=False, startangle=140)\n",
    "\n",
    "for t in l_text:\n",
    "    t.set_size=(120)\n",
    "for t in p_text:\n",
    "    t.set_size=(120)\n",
    "\n",
    "plt.axis('equal')\n"
   ]
  },
  {
   "cell_type": "code",
   "execution_count": null,
   "metadata": {},
   "outputs": [],
   "source": []
  }
 ],
 "metadata": {
  "kernelspec": {
   "display_name": "Python 3",
   "language": "python",
   "name": "python3"
  },
  "language_info": {
   "codemirror_mode": {
    "name": "ipython",
    "version": 3
   },
   "file_extension": ".py",
   "mimetype": "text/x-python",
   "name": "python",
   "nbconvert_exporter": "python",
   "pygments_lexer": "ipython3",
   "version": "3.7.3"
  }
 },
 "nbformat": 4,
 "nbformat_minor": 2
}
