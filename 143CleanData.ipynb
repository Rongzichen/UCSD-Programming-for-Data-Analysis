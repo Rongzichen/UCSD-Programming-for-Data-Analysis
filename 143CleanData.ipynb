{
 "cells": [
  {
   "cell_type": "markdown",
   "metadata": {},
   "source": [
    "# UCSD ECE143 Final Project"
   ]
  },
  {
   "cell_type": "markdown",
   "metadata": {},
   "source": [
    "## 1. Data Clean Up"
   ]
  },
  {
   "cell_type": "code",
   "execution_count": 8,
   "metadata": {},
   "outputs": [
    {
     "name": "stdout",
     "output_type": "stream",
     "text": [
      "geoloc\n",
      "{'industryName': 'Computer Software', 'lastName': 'Wang', 'locationName': 'United States', 'student': False, 'geoCountryName': 'United States', 'geoCountryUrn': 'urn:li:fs_geo:103644278', 'geoLocationBackfilled': True, 'elt': False, 'industryUrn': 'urn:li:fs_industry:4', 'firstName': 'Yirui', 'entityUrn': 'urn:li:fs_profile:ACoAACiQY70B8Qj29NKQBjnGoTRrcQFAbwuxxjo', 'geoLocation': {'geoUrn': 'urn:li:fs_geo:103644278'}, 'location': {'preferredGeoPlace': 'urn:li:fs_city:(us,27-8)', 'basicLocation': {'countryCode': 'us'}}, 'headline': 'Seeking SDE intern opportunities in 2020 summer', 'displayPictureUrl': 'https://media.licdn.com/dms/image/C5103AQEoW27BfnkweQ/profile-displayphoto-shrink_', 'profile_id': 'ACoAACiQY70B8Qj29NKQBjnGoTRrcQFAbwuxxjo', 'experience': [{'locationName': 'Hangzhou, Zhejiang, China', 'entityUrn': 'urn:li:fs_position:(ACoAACiQY70B8Qj29NKQBjnGoTRrcQFAbwuxxjo,1496495174)', 'geoLocationName': 'Hangzhou, Zhejiang, China', 'geoUrn': 'urn:li:fs_geo:90009563', 'companyName': 'Alibaba Group', 'timePeriod': {'endDate': {'month': 8, 'year': 2018}, 'startDate': {'month': 7, 'year': 2018}}, 'description': '- Modiﬁed user management system based on Webx (internal web framework) to improve the user experience\\n- Added orders’ logistics information to orders’ delivery app with HSF (internal RPC framework) for better security\\n- Contributed to RocketMQ (distributed message middle-ware) by designing a non-persistent broker which stores messages in memory instead of ﬂushing to disk, decreasing the message delivery latency', 'company': {'employeeCountRange': {'start': 10001}, 'industries': ['Information Technology and Services']}, 'title': 'Software Engineer Intern', 'region': 'urn:li:fs_region:(cn,8931)', 'companyUrn': 'urn:li:fs_miniCompany:3839570', 'companyLogoUrl': 'https://media.licdn.com/dms/image/C510BAQF8nHU8UQ1ESQ/company-logo_'}, {'locationName': 'Hangzhou, Zhejiang, China', 'entityUrn': 'urn:li:fs_position:(ACoAACiQY70B8Qj29NKQBjnGoTRrcQFAbwuxxjo,1496494622)', 'geoLocationName': 'Hangzhou, Zhejiang, China', 'geoUrn': 'urn:li:fs_geo:90009563', 'companyName': 'DeepThink', 'timePeriod': {'endDate': {'month': 3, 'year': 2018}, 'startDate': {'month': 1, 'year': 2018}}, 'description': '- Developed a back-end service using WeChat’s API in Java, satisfying users’ requests for latest information on WeChat Open Platform\\n- Wrote shell scripts to deploy the back-end server using Apache Tomcat on Alibaba Cloud', 'company': {}, 'title': 'Software Engineer Intern', 'region': 'urn:li:fs_region:(cn,8931)', 'companyUrn': 'urn:li:fs_miniCompany:18280604'}], 'skills': [{'name': 'Java', 'standardizedSkillUrn': 'urn:li:fs_miniSkill:147', 'standardizedSkill': {'name': 'Java', 'entityUrn': 'urn:li:fs_miniSkill:147'}}, {'name': 'C++', 'standardizedSkillUrn': 'urn:li:fs_miniSkill:198', 'standardizedSkill': {'name': 'C++', 'entityUrn': 'urn:li:fs_miniSkill:198'}}, {'name': 'Python'}, {'name': 'Software Design Patterns', 'standardizedSkillUrn': 'urn:li:fs_miniSkill:18348', 'standardizedSkill': {'name': 'Software Design Patterns', 'entityUrn': 'urn:li:fs_miniSkill:18348'}}, {'name': 'SQL', 'standardizedSkillUrn': 'urn:li:fs_miniSkill:483', 'standardizedSkill': {'name': 'SQL', 'entityUrn': 'urn:li:fs_miniSkill:483'}}, {'name': 'Shell Scripting', 'standardizedSkillUrn': 'urn:li:fs_miniSkill:2132', 'standardizedSkill': {'name': 'Shell Scripting', 'entityUrn': 'urn:li:fs_miniSkill:2132'}}, {'name': 'C (Programming Language)'}], 'education': [{'entityUrn': 'urn:li:fs_education:(ACoAACiQY70B8Qj29NKQBjnGoTRrcQFAbwuxxjo,605281644)', 'school': {'objectUrn': 'urn:li:school:17954', 'entityUrn': 'urn:li:fs_miniSchool:17954', 'active': True, 'schoolName': 'University of California San Diego', 'trackingId': '61EMGKg3REu2xXJAwcryXg==', 'logoUrl': 'https://media.licdn.com/dms/image/C560BAQHQYa-3EY_aaQ/company-logo_'}, 'timePeriod': {'endDate': {'year': 2021}, 'startDate': {'year': 2019}}, 'fieldOfStudyUrn': 'urn:li:fs_fieldOfStudy:100189', 'degreeName': 'Master of Science - MS', 'schoolName': 'University of California San Diego', 'fieldOfStudy': 'Computer Science', 'degreeUrn': 'urn:li:fs_degree:626', 'schoolUrn': 'urn:li:fs_miniSchool:17954'}, {'projects': ['urn:li:fs_project:(ACoAACiQY70B8Qj29NKQBjnGoTRrcQFAbwuxxjo,1973996020)', 'urn:li:fs_project:(ACoAACiQY70B8Qj29NKQBjnGoTRrcQFAbwuxxjo,1974639677)', 'urn:li:fs_project:(ACoAACiQY70B8Qj29NKQBjnGoTRrcQFAbwuxxjo,1974709954)', 'urn:li:fs_project:(ACoAACiQY70B8Qj29NKQBjnGoTRrcQFAbwuxxjo,1974882501)'], 'entityUrn': 'urn:li:fs_education:(ACoAACiQY70B8Qj29NKQBjnGoTRrcQFAbwuxxjo,552887448)', 'school': {'objectUrn': 'urn:li:school:11469', 'entityUrn': 'urn:li:fs_miniSchool:11469', 'active': True, 'schoolName': 'Zhejiang University', 'trackingId': 'mcfejy3tS8iBCK5SPXp5Bw==', 'logoUrl': 'https://media.licdn.com/dms/image/C510BAQFqHuGrMlNcfg/company-logo_'}, 'timePeriod': {'endDate': {'year': 2019}, 'startDate': {'year': 2015}}, 'description': 'Selected Coursework: Discrete Mathematics, Data Structures & Algorithms, Database Systems, Object Oriented Programming, Computer Organization, Operating Systems, Computer Networks, Compiler Principles', 'fieldOfStudyUrn': 'urn:li:fs_fieldOfStudy:100379', 'degreeName': 'Bachelor of Engineering - BE', 'schoolName': 'Zhejiang University', 'fieldOfStudy': 'Automation', 'degreeUrn': 'urn:li:fs_degree:269', 'schoolUrn': 'urn:li:fs_miniSchool:11469'}, {'entityUrn': 'urn:li:fs_education:(ACoAACiQY70B8Qj29NKQBjnGoTRrcQFAbwuxxjo,607132307)', 'school': {'objectUrn': 'urn:li:school:17939', 'entityUrn': 'urn:li:fs_miniSchool:17939', 'active': True, 'schoolName': 'University of California, Berkeley', 'trackingId': 'Dkq/rbroTQqIroIw+NA5cQ==', 'logoUrl': 'https://media.licdn.com/dms/image/C560BAQHylmb-tm1JOw/company-logo_'}, 'timePeriod': {'endDate': {'year': 2017}, 'startDate': {'year': 2017}}, 'degreeName': 'Summer Session', 'schoolName': 'University of California, Berkeley', 'schoolUrn': 'urn:li:fs_miniSchool:17939'}]}\n",
      "\n",
      "\n",
      "\n",
      "\n",
      "geoloc\n",
      "{'summary': \"UCSD CS '19 | Software Engineer\", 'industryName': 'Computer Software', 'lastName': 'Suresh', 'locationName': 'United States', 'student': False, 'geoCountryName': 'United States', 'geoCountryUrn': 'urn:li:fs_geo:103644278', 'geoLocationBackfilled': True, 'elt': False, 'industryUrn': 'urn:li:fs_industry:4', 'firstName': 'Gokul', 'entityUrn': 'urn:li:fs_profile:ACoAABqFbzgBSdVPZ7T3ERM2NBXPZQc9aD90tYQ', 'geoLocation': {'geoUrn': 'urn:li:fs_geo:90000084'}, 'geoLocationName': 'San Francisco Bay Area', 'location': {'basicLocation': {'countryCode': 'us'}}, 'headline': 'Software Engineer at Facebook', 'displayPictureUrl': 'https://media.licdn.com/dms/image/C5603AQFuAMA7qK5D4g/profile-displayphoto-shrink_', 'profile_id': 'ACoAABqFbzgBSdVPZ7T3ERM2NBXPZQc9aD90tYQ', 'experience': [{'locationName': 'Menlo Park, CA', 'entityUrn': 'urn:li:fs_position:(ACoAABqFbzgBSdVPZ7T3ERM2NBXPZQc9aD90tYQ,1510638028)', 'geoLocationName': 'Menlo Park, CA', 'companyName': 'Facebook', 'timePeriod': {'startDate': {'month': 9, 'year': 2019}}, 'description': 'Messenger Sharing ', 'company': {'employeeCountRange': {'start': 10001}, 'industries': ['Internet']}, 'title': 'Software Engineer', 'companyUrn': 'urn:li:fs_miniCompany:10667', 'companyLogoUrl': 'https://media.licdn.com/dms/image/C560BAQFjQHzcZz7J6g/company-logo_'}, {'locationName': 'Seattle, WA', 'entityUrn': 'urn:li:fs_position:(ACoAABqFbzgBSdVPZ7T3ERM2NBXPZQc9aD90tYQ,1389974834)', 'geoLocationName': 'Seattle, WA', 'companyName': 'Amazon', 'timePeriod': {'endDate': {'month': 12, 'year': 2018}, 'startDate': {'month': 9, 'year': 2018}}, 'description': 'Interned on the AWS Data Platform team.\\n\\nAdded extensions to the backend service to enable customers to run Athena and Elastic MapReduce jobs.\\n\\nImplemented features on the AWS Data Lake UI in Node.js and React to allow customers to easily create and manage jobs.', 'company': {'employeeCountRange': {'start': 10001}, 'industries': ['Internet']}, 'title': 'Software Development Engineer Intern', 'companyUrn': 'urn:li:fs_miniCompany:1586', 'companyLogoUrl': 'https://media.licdn.com/dms/image/C560BAQFdwVGpSOHmgw/company-logo_'}, {'locationName': 'Sunnyvale, CA', 'entityUrn': 'urn:li:fs_position:(ACoAABqFbzgBSdVPZ7T3ERM2NBXPZQc9aD90tYQ,1329761009)', 'geoLocationName': 'Sunnyvale, CA', 'companyName': 'Google', 'timePeriod': {'endDate': {'month': 9, 'year': 2018}, 'startDate': {'month': 6, 'year': 2018}}, 'description': 'Interned on the Google Voice for G Suite team.\\n\\nImplemented data-parallel pipelines in Java and MapReduce to compute metrics on user call data at scale.\\n\\nWorked on the admin console UI using JavaScript and Closure templates to add features for phone number management.', 'company': {'employeeCountRange': {'start': 10001}, 'industries': ['Internet']}, 'title': 'Software Engineering Intern', 'companyUrn': 'urn:li:fs_miniCompany:1441', 'companyLogoUrl': 'https://media.licdn.com/dms/image/C4D0BAQHiNSL4Or29cg/company-logo_'}, {'locationName': 'San Diego, CA', 'entityUrn': 'urn:li:fs_position:(ACoAABqFbzgBSdVPZ7T3ERM2NBXPZQc9aD90tYQ,1198425417)', 'geoLocationName': 'San Diego, CA', 'geoUrn': 'urn:li:fs_geo:100737633', 'companyName': 'University of California, San Diego - Jacobs School of Engineering', 'timePeriod': {'endDate': {'month': 6, 'year': 2018}, 'startDate': {'month': 9, 'year': 2017}}, 'description': 'Tutor under Professor Paul Cao for Introduction to Computer Science (CSE 8A/8B).\\n\\nDeveloped grading scripts to facilitate auto-grading of student assignments.\\n\\nAssisted in the design of programming assignments and labs.\\n\\nProvided lab hours to assist students with introductory programming concepts like recursion, inheritance, and polymorphism.\\n', 'company': {'employeeCountRange': {'start': 1001, 'end': 5000}, 'industries': ['Higher Education']}, 'title': 'CSE Tutor', 'region': 'urn:li:fs_region:(us,732)', 'companyUrn': 'urn:li:fs_miniCompany:15096606', 'companyLogoUrl': 'https://media.licdn.com/dms/image/C4D0BAQHEc15VMuDaGg/company-logo_'}, {'locationName': 'Greater Los Angeles Area', 'entityUrn': 'urn:li:fs_position:(ACoAABqFbzgBSdVPZ7T3ERM2NBXPZQc9aD90tYQ,1024935909)', 'geoLocationName': 'Greater Los Angeles Area', 'geoUrn': 'urn:li:fs_geo:90000049', 'companyName': 'Bank of America', 'timePeriod': {'endDate': {'month': 9, 'year': 2017}, 'startDate': {'month': 6, 'year': 2017}}, 'description': 'Member of the Applications Development team responsible for loss-mitigation software.\\n\\nDeveloped a Single-Page Application for internal tools using the .NET MVC and AngularJS frameworks.\\n\\nOptimized the middle layer of loan modification software by implementing a centralized rule engine using Java EE and the ILOG JRules API, leading to an increase in process efficiency by over 20%.', 'company': {'employeeCountRange': {'start': 10001}, 'industries': ['Banking']}, 'title': 'Summer Technology Analyst - Developer', 'region': 'urn:li:fs_region:(us,49)', 'companyUrn': 'urn:li:fs_miniCompany:1123', 'companyLogoUrl': 'https://media.licdn.com/dms/image/C4E0BAQEBvcSTMKJPqw/company-logo_'}], 'skills': [{'name': 'Java'}, {'name': 'C++'}, {'name': 'C'}, {'name': 'Python'}, {'name': 'Bootstrap'}, {'name': 'Unix'}, {'name': 'HTML'}, {'name': 'CSS'}, {'name': 'Android Development'}], 'education': [{'courses': ['urn:li:fs_course:(ACoAABqFbzgBSdVPZ7T3ERM2NBXPZQc9aD90tYQ,1)', 'urn:li:fs_course:(ACoAABqFbzgBSdVPZ7T3ERM2NBXPZQc9aD90tYQ,12)', 'urn:li:fs_course:(ACoAABqFbzgBSdVPZ7T3ERM2NBXPZQc9aD90tYQ,14)', 'urn:li:fs_course:(ACoAABqFbzgBSdVPZ7T3ERM2NBXPZQc9aD90tYQ,15)', 'urn:li:fs_course:(ACoAABqFbzgBSdVPZ7T3ERM2NBXPZQc9aD90tYQ,16)', 'urn:li:fs_course:(ACoAABqFbzgBSdVPZ7T3ERM2NBXPZQc9aD90tYQ,17)'], 'projects': ['urn:li:fs_project:(ACoAABqFbzgBSdVPZ7T3ERM2NBXPZQc9aD90tYQ,1699627819)'], 'entityUrn': 'urn:li:fs_education:(ACoAABqFbzgBSdVPZ7T3ERM2NBXPZQc9aD90tYQ,299627176)', 'school': {'objectUrn': 'urn:li:school:17954', 'entityUrn': 'urn:li:fs_miniSchool:17954', 'active': True, 'schoolName': 'University of California San Diego', 'trackingId': 'P0u0G1ECT2OGfVF8AtERow==', 'logoUrl': 'https://media.licdn.com/dms/image/C560BAQHQYa-3EY_aaQ/company-logo_'}, 'activities': 'Tau Beta Pi - Engineering Honor Society', 'grade': 'magna cum laude', 'timePeriod': {'endDate': {'year': 2019}, 'startDate': {'year': 2015}}, 'degreeName': 'Bachelor of Science (B.S.)', 'schoolName': 'University of California, San Diego', 'fieldOfStudy': 'Computer Science', 'honors': ['urn:li:fs_honor:(ACoAABqFbzgBSdVPZ7T3ERM2NBXPZQc9aD90tYQ,1696710467)'], 'schoolUrn': 'urn:li:fs_miniSchool:17954'}, {'courses': ['urn:li:fs_course:(ACoAABqFbzgBSdVPZ7T3ERM2NBXPZQc9aD90tYQ,5)', 'urn:li:fs_course:(ACoAABqFbzgBSdVPZ7T3ERM2NBXPZQc9aD90tYQ,6)', 'urn:li:fs_course:(ACoAABqFbzgBSdVPZ7T3ERM2NBXPZQc9aD90tYQ,7)', 'urn:li:fs_course:(ACoAABqFbzgBSdVPZ7T3ERM2NBXPZQc9aD90tYQ,8)', 'urn:li:fs_course:(ACoAABqFbzgBSdVPZ7T3ERM2NBXPZQc9aD90tYQ,9)', 'urn:li:fs_course:(ACoAABqFbzgBSdVPZ7T3ERM2NBXPZQc9aD90tYQ,10)'], 'entityUrn': 'urn:li:fs_education:(ACoAABqFbzgBSdVPZ7T3ERM2NBXPZQc9aD90tYQ,303337567)', 'timePeriod': {'endDate': {'year': 2015}, 'startDate': {'year': 2009}}, 'degreeName': 'International Baccalaureate Diploma, IGCSE', 'schoolName': 'The International School Bangalore', 'honors': ['urn:li:fs_honor:(ACoAABqFbzgBSdVPZ7T3ERM2NBXPZQc9aD90tYQ,1829982054)']}]}\n",
      "\n",
      "\n",
      "\n",
      "\n",
      "industry\n",
      "{'summary': 'Currently searching for Back-end, Data Science, Security and general Software Engineering Intern positions.', 'lastName': 'Ji', 'locationName': 'La Jolla, California', 'student': False, 'geoCountryName': 'United States', 'geoCountryUrn': 'urn:li:fs_geo:103644278', 'geoLocationBackfilled': True, 'elt': False, 'industryUrn': 'urn:li:fs_industry:-1', 'firstName': 'Mingjun', 'entityUrn': 'urn:li:fs_profile:ACoAABR45O8BGNeUwloR-uiyWTTcKoewiM1LzHs', 'geoLocation': {'geoUrn': 'urn:li:fs_geo:100737633'}, 'geoLocationName': 'San Diego County, California', 'location': {'preferredGeoPlace': 'urn:li:fs_city:(us,7-1-0-37-24)', 'basicLocation': {'countryCode': 'us'}}, 'headline': 'Undergraduate CSE Tutor at University of California, San Diego', 'profile_id': 'ACoAABR45O8BGNeUwloR-uiyWTTcKoewiM1LzHs', 'experience': [{'locationName': 'Greater Seattle Area', 'entityUrn': 'urn:li:fs_position:(ACoAABR45O8BGNeUwloR-uiyWTTcKoewiM1LzHs,1135017649)', 'geoLocationName': 'Greater Seattle Area', 'geoUrn': 'urn:li:fs_geo:90000091', 'companyName': 'Amazon', 'timePeriod': {'endDate': {'month': 9, 'year': 2017}, 'startDate': {'month': 6, 'year': 2017}}, 'description': 'Worked in Kindle Reader team.\\nMigrated deprecating service to new service and presented the changes on the client side.\\nDesigned Proof of Concept React Native component for part of Kindle for iPhone app.', 'company': {'employeeCountRange': {'start': 10001}, 'industries': ['Internet']}, 'title': 'Software Engineering Intern', 'region': 'urn:li:fs_region:(us,91)', 'companyUrn': 'urn:li:fs_miniCompany:1586', 'companyLogoUrl': 'https://media.licdn.com/dms/image/C560BAQFdwVGpSOHmgw/company-logo_'}, {'entityUrn': 'urn:li:fs_position:(ACoAABR45O8BGNeUwloR-uiyWTTcKoewiM1LzHs,815852868)', 'companyName': 'Qualcomm', 'timePeriod': {'endDate': {'month': 9, 'year': 2016}, 'startDate': {'month': 5, 'year': 2016}}, 'description': 'Developed customized in-house Test Pattern Control software for CPU, GPU & DDR benchmarking on Android device for gated measurements for QCT Failure Analysis team', 'company': {'employeeCountRange': {'start': 10001}, 'industries': ['Wireless']}, 'title': 'Software Engineering Intern', 'companyUrn': 'urn:li:fs_miniCompany:2017', 'companyLogoUrl': 'https://media.licdn.com/dms/image/C4E0BAQFIzy7XU945xg/company-logo_'}], 'skills': [{'name': 'Java'}, {'name': 'Microsoft Word'}, {'name': 'Public Speaking'}, {'name': 'Microsoft Office', 'standardizedSkillUrn': 'urn:li:fs_miniSkill:366', 'standardizedSkill': {'name': 'Microsoft Office', 'entityUrn': 'urn:li:fs_miniSkill:366'}}, {'name': 'Microsoft Excel', 'standardizedSkillUrn': 'urn:li:fs_miniSkill:163', 'standardizedSkill': {'name': 'Microsoft Excel', 'entityUrn': 'urn:li:fs_miniSkill:163'}}, {'name': 'PowerPoint', 'standardizedSkillUrn': 'urn:li:fs_miniSkill:310', 'standardizedSkill': {'name': 'Microsoft PowerPoint', 'entityUrn': 'urn:li:fs_miniSkill:310'}}, {'name': 'HTML', 'standardizedSkillUrn': 'urn:li:fs_miniSkill:280', 'standardizedSkill': {'name': 'HTML', 'entityUrn': 'urn:li:fs_miniSkill:280'}}, {'name': 'C++', 'standardizedSkillUrn': 'urn:li:fs_miniSkill:198', 'standardizedSkill': {'name': 'C++', 'entityUrn': 'urn:li:fs_miniSkill:198'}}, {'name': 'C', 'standardizedSkillUrn': 'urn:li:fs_miniSkill:438', 'standardizedSkill': {'name': 'C (Programming Language)', 'entityUrn': 'urn:li:fs_miniSkill:438'}}, {'name': 'English', 'standardizedSkillUrn': 'urn:li:fs_miniSkill:274', 'standardizedSkill': {'name': 'English', 'entityUrn': 'urn:li:fs_miniSkill:274'}}, {'name': 'python'}, {'name': 'ocaml'}, {'name': 'verilog'}, {'name': 'Linux'}, {'name': 'JavaScript'}, {'name': 'Matlab'}, {'name': 'Python'}, {'name': 'Software Development'}, {'name': 'Microsoft PowerPoint'}, {'name': 'Verilog'}], 'education': [{'courses': ['urn:li:fs_course:(ACoAABR45O8BGNeUwloR-uiyWTTcKoewiM1LzHs,1716259162)', 'urn:li:fs_course:(ACoAABR45O8BGNeUwloR-uiyWTTcKoewiM1LzHs,1716259284)', 'urn:li:fs_course:(ACoAABR45O8BGNeUwloR-uiyWTTcKoewiM1LzHs,1716259397)', 'urn:li:fs_course:(ACoAABR45O8BGNeUwloR-uiyWTTcKoewiM1LzHs,1716259528)', 'urn:li:fs_course:(ACoAABR45O8BGNeUwloR-uiyWTTcKoewiM1LzHs,1716259622)', 'urn:li:fs_course:(ACoAABR45O8BGNeUwloR-uiyWTTcKoewiM1LzHs,1716259715)', 'urn:li:fs_course:(ACoAABR45O8BGNeUwloR-uiyWTTcKoewiM1LzHs,1716259846)', 'urn:li:fs_course:(ACoAABR45O8BGNeUwloR-uiyWTTcKoewiM1LzHs,1716259964)', 'urn:li:fs_course:(ACoAABR45O8BGNeUwloR-uiyWTTcKoewiM1LzHs,1716259965)', 'urn:li:fs_course:(ACoAABR45O8BGNeUwloR-uiyWTTcKoewiM1LzHs,1716259966)', 'urn:li:fs_course:(ACoAABR45O8BGNeUwloR-uiyWTTcKoewiM1LzHs,1716259967)', 'urn:li:fs_course:(ACoAABR45O8BGNeUwloR-uiyWTTcKoewiM1LzHs,1716259968)', 'urn:li:fs_course:(ACoAABR45O8BGNeUwloR-uiyWTTcKoewiM1LzHs,1716259969)', 'urn:li:fs_course:(ACoAABR45O8BGNeUwloR-uiyWTTcKoewiM1LzHs,1716259970)', 'urn:li:fs_course:(ACoAABR45O8BGNeUwloR-uiyWTTcKoewiM1LzHs,1716259971)'], 'entityUrn': 'urn:li:fs_education:(ACoAABR45O8BGNeUwloR-uiyWTTcKoewiM1LzHs,220584886)', 'school': {'objectUrn': 'urn:li:school:17954', 'entityUrn': 'urn:li:fs_miniSchool:17954', 'active': True, 'schoolName': 'University of California San Diego', 'trackingId': '+I9gFFfYRv+RVJ7PsedlZw==', 'logoUrl': 'https://media.licdn.com/dms/image/C560BAQHQYa-3EY_aaQ/company-logo_'}, 'activities': 'Bodybuilding, Basketball', 'grade': '3.8', 'timePeriod': {'endDate': {'year': 2017}, 'startDate': {'year': 2013}}, 'degreeName': 'Bachelor’s Degree', 'schoolName': 'University of California, San Diego', 'fieldOfStudy': 'Computer Science', 'schoolUrn': 'urn:li:fs_miniSchool:17954'}]}\n",
      "\n",
      "\n",
      "\n",
      "\n",
      "geoloc\n",
      "{'summary': \"I'm a master's student at USCD. major in Image Processing and Computer Engineering, with the ability of Python, Tensorflow. Keras. I have experience in model acceleration, optimization, image/video data classification and detection in autonomous driving. Please contact me for the job opportunities.\", 'industryName': 'Computer Software', 'lastName': 'Zhang ', 'locationName': 'United States', 'student': False, 'geoCountryName': 'United States', 'geoCountryUrn': 'urn:li:fs_geo:103644278', 'geoLocationBackfilled': True, 'elt': False, 'industryUrn': 'urn:li:fs_industry:4', 'firstName': 'Kaiyu', 'entityUrn': 'urn:li:fs_profile:ACoAACPmgFUB_jdUZ1e6oamZFfqiXCmvFlsNB9U', 'geoLocation': {'geoUrn': 'urn:li:fs_geo:90000084'}, 'geoLocationName': 'San Francisco Bay Area', 'location': {'basicLocation': {'countryCode': 'us'}}, 'headline': 'Machine Learning and Deep Learning Engineer', 'displayPictureUrl': 'https://media.licdn.com/dms/image/C5603AQG_mf5cFSp5IQ/profile-displayphoto-shrink_', 'profile_id': 'ACoAACPmgFUB_jdUZ1e6oamZFfqiXCmvFlsNB9U', 'experience': [{'locationName': 'San Francisco Bay Area', 'entityUrn': 'urn:li:fs_position:(ACoAACPmgFUB_jdUZ1e6oamZFfqiXCmvFlsNB9U,1515664267)', 'geoLocationName': 'San Francisco Bay Area', 'companyName': 'OPPO', 'timePeriod': {'startDate': {'month': 9, 'year': 2019}}, 'description': 'Build state-of-art model using sequence model and CNN for OCR projects.', 'company': {'employeeCountRange': {'start': 10001}, 'industries': ['Telecommunications']}, 'title': 'Machine Learning and Deep Learning Engineer', 'companyUrn': 'urn:li:fs_miniCompany:2852649', 'companyLogoUrl': 'https://media.licdn.com/dms/image/C510BAQGFNdprqMN0ug/company-logo_'}, {'locationName': 'Greater New York City Area', 'entityUrn': 'urn:li:fs_position:(ACoAACPmgFUB_jdUZ1e6oamZFfqiXCmvFlsNB9U,1407125962)', 'geoLocationName': 'Greater New York City Area', 'geoUrn': 'urn:li:fs_geo:90000070', 'companyName': 'FutureWei Technologies, Inc', 'timePeriod': {'endDate': {'month': 9, 'year': 2019}, 'startDate': {'month': 1, 'year': 2019}}, 'description': 'Model Prune and Architecture Search Project\\n· Applied Neural Network Prune & Architecture Search to achieve state of the art accuracy in predicting future behavior using Multivariate Datesets using Auto-Keras and Tensorflow in Python\\n· Applied latest sparsing methods, including adding l_0-norm, Proximal Optimization, Magnitude Pruning methods in Python with Keras and Tensorflow and utilized GPUs to accelerate training process \\n· Finalized Dense-Sparse-Dense(DSD) model in Resnet50 and increased the F1-score from 84% to 96% while reduced 60% model size, significantly better than widely used model such as XGboost and LightGBM.', 'company': {'employeeCountRange': {'start': 10001}, 'industries': ['Telecommunications']}, 'title': 'Machine Learning and Deep Learning Researcher', 'region': 'urn:li:fs_region:(us,70)', 'companyUrn': 'urn:li:fs_miniCompany:3014', 'companyLogoUrl': 'https://media.licdn.com/dms/image/C510BAQHDjJMzWUhMfg/company-logo_'}, {'locationName': 'Greater San Diego Area', 'entityUrn': 'urn:li:fs_position:(ACoAACPmgFUB_jdUZ1e6oamZFfqiXCmvFlsNB9U,1392952416)', 'geoLocationName': 'Greater San Diego Area', 'geoUrn': 'urn:li:fs_geo:100737633', 'companyName': 'University of California San Diego', 'timePeriod': {'endDate': {'month': 1, 'year': 2019}, 'startDate': {'month': 9, 'year': 2018}}, 'description': 'Teaching Assistant for class ECE253, Digital Image Processing.', 'company': {'employeeCountRange': {'start': 10001}, 'industries': ['Higher Education']}, 'title': 'Teaching Assistant', 'region': 'urn:li:fs_region:(us,732)', 'companyUrn': 'urn:li:fs_miniCompany:3382', 'companyLogoUrl': 'https://media.licdn.com/dms/image/C560BAQHQYa-3EY_aaQ/company-logo_'}, {'locationName': 'Shenzhen, Guangdong, China', 'entityUrn': 'urn:li:fs_position:(ACoAACPmgFUB_jdUZ1e6oamZFfqiXCmvFlsNB9U,1338149086)', 'geoLocationName': 'Shenzhen, Guangdong, China', 'geoUrn': 'urn:li:fs_geo:106750182', 'companyName': 'Huawei Technologies', 'timePeriod': {'endDate': {'month': 9, 'year': 2018}, 'startDate': {'month': 6, 'year': 2018}}, 'description': 'Application Recommender Systerm in Smart Phone\\n※\\tBuilt recommender system in smart-phone to recommend applications using Federated Learning in Java.\\n※\\tProcessed big data using Spark, and finished different feature engineering methods for increasing accuracy from 60% to above 90%\\n※\\tImplemented GBDT, SVM, Random Forrest and sequence model such as Markov Chain, HMM and LSTM for time series data ', 'company': {'employeeCountRange': {'start': 10001}, 'industries': ['Telecommunications']}, 'title': 'Machine Learning Engineer internship', 'region': 'urn:li:fs_region:(cn,8910)', 'companyUrn': 'urn:li:fs_miniCompany:3014', 'companyLogoUrl': 'https://media.licdn.com/dms/image/C510BAQHDjJMzWUhMfg/company-logo_'}, {'entityUrn': 'urn:li:fs_position:(ACoAACPmgFUB_jdUZ1e6oamZFfqiXCmvFlsNB9U,1095797964)', 'companyName': 'BOE Technology Group Co., Ltd.', 'timePeriod': {'endDate': {'month': 6, 'year': 2017}, 'startDate': {'month': 2, 'year': 2017}}, 'company': {'employeeCountRange': {'start': 10001}, 'industries': ['Semiconductors']}, 'title': 'Software Engineer', 'companyUrn': 'urn:li:fs_miniCompany:1360550', 'companyLogoUrl': 'https://media.licdn.com/dms/image/C4D0BAQGnmDQqfmUb6w/company-logo_'}], 'skills': [{'name': 'Python'}, {'name': 'Machine Learning'}, {'name': 'data analysis'}, {'name': 'Computer Vision'}, {'name': 'Android 开发', 'standardizedSkillUrn': 'urn:li:fs_miniSkill:26904', 'standardizedSkill': {'name': 'Android Development', 'entityUrn': 'urn:li:fs_miniSkill:26904'}}, {'name': 'Image Processing'}, {'name': 'Microsoft Office'}, {'name': 'Java'}, {'name': 'Keras'}, {'name': 'LightGBM'}, {'name': 'TensorFlow'}, {'name': 'Digital Image Processing'}, {'name': 'Feature Engineering'}, {'name': 'Long Short-term Memory (LSTM)'}, {'name': 'Apache Spark'}, {'name': 'Deep Learning'}, {'name': 'XGBoost'}, {'name': 'Pruning'}, {'name': 'SQL'}, {'name': 'MySQL'}, {'name': 'NoSQL'}, {'name': 'Linux'}], 'education': [{'entityUrn': 'urn:li:fs_education:(ACoAACPmgFUB_jdUZ1e6oamZFfqiXCmvFlsNB9U,454535387)', 'school': {'objectUrn': 'urn:li:school:17954', 'entityUrn': 'urn:li:fs_miniSchool:17954', 'active': True, 'schoolName': 'University of California San Diego', 'trackingId': 'zXtVYMQ0RviKtjJvcf9z7w==', 'logoUrl': 'https://media.licdn.com/dms/image/C560BAQHQYa-3EY_aaQ/company-logo_'}, 'grade': '3.68/4.0', 'timePeriod': {'endDate': {'year': 2019}, 'startDate': {'year': 2017}}, 'degreeName': 'Master of Science', 'schoolName': 'University of California, San Diego', 'fieldOfStudy': 'ECE', 'degreeUrn': 'urn:li:fs_degree:626', 'schoolUrn': 'urn:li:fs_miniSchool:17954'}, {'entityUrn': 'urn:li:fs_education:(ACoAACPmgFUB_jdUZ1e6oamZFfqiXCmvFlsNB9U,454535423)', 'school': {'objectUrn': 'urn:li:school:11028', 'entityUrn': 'urn:li:fs_miniSchool:11028', 'active': True, 'schoolName': 'Beijing Institute of Technology', 'trackingId': 'jRdRaygIS0qwNOMvT5CVkA==', 'logoUrl': 'https://media.licdn.com/dms/image/C4E0BAQFE_UMhu5FzlA/company-logo_'}, 'activities': 'Outstanding graduate；\\nOutstanding student；\\nOutstanding student cadre；\\nNational Scholarship Reward；\\nDiwen Scholarship Reward；', 'grade': '3.7/4.0', 'timePeriod': {'endDate': {'year': 2017}, 'startDate': {'year': 2013}}, 'fieldOfStudyUrn': 'urn:li:fs_fieldOfStudy:100351', 'degreeName': 'Bachelor of Engineering - BE', 'schoolName': 'Beijing Institute of Technology', 'fieldOfStudy': 'Electrical and Electronics Engineering', 'honors': ['urn:li:fs_honor:(ACoAACPmgFUB_jdUZ1e6oamZFfqiXCmvFlsNB9U,285961996)', 'urn:li:fs_honor:(ACoAACPmgFUB_jdUZ1e6oamZFfqiXCmvFlsNB9U,286021293)', 'urn:li:fs_honor:(ACoAACPmgFUB_jdUZ1e6oamZFfqiXCmvFlsNB9U,1359044476)'], 'degreeUrn': 'urn:li:fs_degree:269', 'schoolUrn': 'urn:li:fs_miniSchool:11028'}]}\n",
      "\n",
      "\n",
      "\n",
      "\n",
      "geoloc\n",
      "{'industryName': 'Computer Software', 'lastName': 'zhou', 'locationName': 'United States', 'student': False, 'geoCountryName': 'United States', 'geoCountryUrn': 'urn:li:fs_geo:103644278', 'geoLocationBackfilled': True, 'elt': False, 'industryUrn': 'urn:li:fs_industry:4', 'firstName': 'xiaolong', 'entityUrn': 'urn:li:fs_profile:ACoAACCc-_EBTlTxE4PdQQV-llYWeG037o880mc', 'geoLocation': {'geoUrn': 'urn:li:fs_geo:90000091'}, 'geoLocationName': 'Greater Seattle Area', 'location': {'basicLocation': {'countryCode': 'us'}}, 'headline': 'Software Development Engineer at Amazon', 'displayPictureUrl': 'https://media.licdn.com/dms/image/C4D03AQFnr8jBMnk9lg/profile-displayphoto-shrink_', 'profile_id': 'ACoAACCc-_EBTlTxE4PdQQV-llYWeG037o880mc', 'experience': [{'locationName': 'Greater Seattle Area', 'entityUrn': 'urn:li:fs_position:(ACoAACCc-_EBTlTxE4PdQQV-llYWeG037o880mc,1456025147)', 'geoLocationName': 'Greater Seattle Area', 'geoUrn': 'urn:li:fs_geo:90000091', 'companyName': 'Amazon', 'timePeriod': {'startDate': {'month': 4, 'year': 2019}}, 'description': 'Scot Inventory Planning', 'company': {'employeeCountRange': {'start': 10001}, 'industries': ['Internet']}, 'title': 'Software Development Engineer', 'region': 'urn:li:fs_region:(us,91)', 'companyUrn': 'urn:li:fs_miniCompany:1586', 'companyLogoUrl': 'https://media.licdn.com/dms/image/C560BAQFdwVGpSOHmgw/company-logo_'}, {'locationName': 'Greater Seattle Area', 'entityUrn': 'urn:li:fs_position:(ACoAACCc-_EBTlTxE4PdQQV-llYWeG037o880mc,1428302188)', 'geoLocationName': 'Greater Seattle Area', 'geoUrn': 'urn:li:fs_geo:90000091', 'companyName': 'Amazon', 'timePeriod': {'endDate': {'month': 4, 'year': 2019}, 'startDate': {'month': 2, 'year': 2019}}, 'description': 'Last Mile Technology\\nWorked on handling exceptions platform', 'company': {'employeeCountRange': {'start': 10001}, 'industries': ['Internet']}, 'title': 'Software Development Engineer', 'region': 'urn:li:fs_region:(us,91)', 'companyUrn': 'urn:li:fs_miniCompany:1586', 'companyLogoUrl': 'https://media.licdn.com/dms/image/C560BAQFdwVGpSOHmgw/company-logo_'}, {'locationName': 'Greater Seattle Area', 'entityUrn': 'urn:li:fs_position:(ACoAACCc-_EBTlTxE4PdQQV-llYWeG037o880mc,1426104677)', 'geoLocationName': 'Greater Seattle Area', 'geoUrn': 'urn:li:fs_geo:90000091', 'companyName': 'Amazon', 'timePeriod': {'endDate': {'month': 9, 'year': 2018}, 'startDate': {'month': 6, 'year': 2018}}, 'description': 'Last Mile Technology\\nBuilt an online phone call tool which can save at least 30s for each phone call.', 'company': {'employeeCountRange': {'start': 10001}, 'industries': ['Internet']}, 'title': 'Software Development Engineer Intern', 'region': 'urn:li:fs_region:(us,91)', 'companyUrn': 'urn:li:fs_miniCompany:1586', 'companyLogoUrl': 'https://media.licdn.com/dms/image/C560BAQFdwVGpSOHmgw/company-logo_'}], 'skills': [{'name': 'Java', 'standardizedSkillUrn': 'urn:li:fs_miniSkill:147', 'standardizedSkill': {'name': 'Java', 'entityUrn': 'urn:li:fs_miniSkill:147'}}, {'name': 'C++'}, {'name': 'JAVASCRIPT'}, {'name': 'CSS'}, {'name': 'PHP'}, {'name': 'PERL'}, {'name': 'MYSQL'}, {'name': 'HTML5'}], 'education': [{'projects': ['urn:li:fs_project:(ACoAACCc-_EBTlTxE4PdQQV-llYWeG037o880mc,1033895211)', 'urn:li:fs_project:(ACoAACCc-_EBTlTxE4PdQQV-llYWeG037o880mc,1033972176)', 'urn:li:fs_project:(ACoAACCc-_EBTlTxE4PdQQV-llYWeG037o880mc,1034123783)'], 'entityUrn': 'urn:li:fs_education:(ACoAACCc-_EBTlTxE4PdQQV-llYWeG037o880mc,389129158)', 'school': {'objectUrn': 'urn:li:school:17954', 'entityUrn': 'urn:li:fs_miniSchool:17954', 'active': True, 'schoolName': 'University of California San Diego', 'trackingId': 'VB55PTUVTcakacCIHpGI5A==', 'logoUrl': 'https://media.licdn.com/dms/image/C560BAQHQYa-3EY_aaQ/company-logo_'}, 'grade': 'Major Gpa 3.70', 'timePeriod': {'endDate': {'year': 2018}, 'startDate': {'year': 2015}}, 'degreeName': \"Bachelor's degree\", 'schoolName': 'University of California San Diego', 'fieldOfStudy': 'Math-Computer Science', 'schoolUrn': 'urn:li:fs_miniSchool:17954'}]}\n",
      "\n",
      "\n",
      "\n",
      "\n",
      "geoloc\n",
      "{'industryName': 'Computer Software', 'lastName': 'Wu', 'locationName': 'United States', 'student': False, 'geoCountryName': 'United States', 'geoCountryUrn': 'urn:li:fs_geo:103644278', 'geoLocationBackfilled': True, 'elt': False, 'industryUrn': 'urn:li:fs_industry:4', 'firstName': 'Wenyi', 'entityUrn': 'urn:li:fs_profile:ACoAAB3O2EkBuh6Jrg33QPF7XtqbjZ99X8T3wpY', 'geoLocation': {'geoUrn': 'urn:li:fs_geo:90000084'}, 'geoLocationName': 'San Francisco Bay Area', 'location': {'basicLocation': {'countryCode': 'us'}}, 'headline': 'Software Engineer I at Uber ATG', 'profile_id': 'ACoAAB3O2EkBuh6Jrg33QPF7XtqbjZ99X8T3wpY', 'experience': [{'locationName': 'San Francisco Bay Area', 'entityUrn': 'urn:li:fs_position:(ACoAAB3O2EkBuh6Jrg33QPF7XtqbjZ99X8T3wpY,1462819355)', 'geoLocationName': 'San Francisco Bay Area', 'companyName': 'Uber', 'timePeriod': {'startDate': {'month': 5, 'year': 2019}}, 'description': 'SDE 1 in Uber ATG', 'company': {'employeeCountRange': {'start': 10001}, 'industries': ['Internet']}, 'title': 'Software Engineer I', 'companyUrn': 'urn:li:fs_miniCompany:1815218', 'companyLogoUrl': 'https://media.licdn.com/dms/image/C4D0BAQFiYnR1Mbtxdg/company-logo_'}, {'locationName': 'Greater San Diego Area', 'entityUrn': 'urn:li:fs_position:(ACoAAB3O2EkBuh6Jrg33QPF7XtqbjZ99X8T3wpY,1361009246)', 'geoLocationName': 'Greater San Diego Area', 'geoUrn': 'urn:li:fs_geo:100737633', 'companyName': 'TuSimple', 'timePeriod': {'endDate': {'month': 12, 'year': 2018}, 'startDate': {'month': 6, 'year': 2018}}, 'description': '• Designed and implemented large-scale unit-test system’s backend and frontend with Python and Javascript, detected fatal failures like collision and sharp-turn over 500 hours of simulation data \\n• Deployed unit-test system on 4 servers while adding report generation, logging and access control features\\n• Adding Traffic Light feature for simulation platform using Javascript, CSS, HTML, Vue.js\\n• Analyzed and sliced important scenarios for analysis in Python, improve colleagues’ work efficiency by 95%\\n', 'company': {'employeeCountRange': {'start': 201, 'end': 500}, 'industries': ['Computer Software']}, 'title': 'Software Development Engineer Intern', 'region': 'urn:li:fs_region:(us,732)', 'companyUrn': 'urn:li:fs_miniCompany:10693191', 'companyLogoUrl': 'https://media.licdn.com/dms/image/C560BAQHSiBcbj6ZW0A/company-logo_'}, {'locationName': 'Chengdu, Sichuan, China', '$anti_abuse_annotations': [{'domainType': 'MEMBER_POSITION_LOCATION_NAME'}, {'domainType': 'MEMBER_POSITION_ID'}, {'domainType': 'MEMBER_POSITION_LOCATION_NAME'}, {'domainType': 'MEMBER_POSITION_COMPANY_NAME'}, {'domainType': 'MEMBER_POSITION_START_DATE'}, {'domainType': 'MEMBER_POSITION_END_DATE'}, {'domainType': 'MEMBER_POSITION_DESCRIPTION'}, {'domainType': 'MEMBER_POSITION_TITLE'}], 'entityUrn': 'urn:li:fs_position:(ACoAAB3O2EkBuh6Jrg33QPF7XtqbjZ99X8T3wpY,1118856085)', 'geoLocationName': 'Chengdu, Sichuan, China', 'geoUrn': 'urn:li:fs_geo:102855444', 'companyName': 'CHENSHI TECH', 'timePeriod': {'endDate': {'month': 5, 'year': 2017}, 'startDate': {'month': 11, 'year': 2016}}, 'description': 'Developed 5 python courses on Natural Language Processing and helped over 6000 users gain better understanding in Python.', 'title': 'Python Developer', 'region': 'urn:li:fs_region:(cn,8963)'}], 'skills': [{'name': 'C++'}, {'name': 'Python'}, {'name': 'Natural Language Processing'}, {'name': 'Java'}, {'name': 'Linux', 'standardizedSkillUrn': 'urn:li:fs_miniSkill:301', 'standardizedSkill': {'name': 'Linux', 'entityUrn': 'urn:li:fs_miniSkill:301'}}, {'name': 'C', 'standardizedSkillUrn': 'urn:li:fs_miniSkill:438', 'standardizedSkill': {'name': 'C (Programming Language)', 'entityUrn': 'urn:li:fs_miniSkill:438'}}, {'name': 'SQL', 'standardizedSkillUrn': 'urn:li:fs_miniSkill:483', 'standardizedSkill': {'name': 'SQL', 'entityUrn': 'urn:li:fs_miniSkill:483'}}, {'name': 'MySQL', 'standardizedSkillUrn': 'urn:li:fs_miniSkill:380', 'standardizedSkill': {'name': 'MySQL', 'entityUrn': 'urn:li:fs_miniSkill:380'}}, {'name': 'PHP', 'standardizedSkillUrn': 'urn:li:fs_miniSkill:261', 'standardizedSkill': {'name': 'PHP', 'entityUrn': 'urn:li:fs_miniSkill:261'}}, {'name': 'Vue.js'}, {'name': 'database'}, {'name': 'JavaScript'}, {'name': 'Git'}], 'education': [{'courses': ['urn:li:fs_course:(ACoAAB3O2EkBuh6Jrg33QPF7XtqbjZ99X8T3wpY,1213279416)', 'urn:li:fs_course:(ACoAAB3O2EkBuh6Jrg33QPF7XtqbjZ99X8T3wpY,1213310147)', 'urn:li:fs_course:(ACoAAB3O2EkBuh6Jrg33QPF7XtqbjZ99X8T3wpY,1213337944)', 'urn:li:fs_course:(ACoAAB3O2EkBuh6Jrg33QPF7XtqbjZ99X8T3wpY,2143942037)'], 'projects': ['urn:li:fs_project:(ACoAAB3O2EkBuh6Jrg33QPF7XtqbjZ99X8T3wpY,997160991)', 'urn:li:fs_project:(ACoAAB3O2EkBuh6Jrg33QPF7XtqbjZ99X8T3wpY,2144090440)'], 'degreeName': 'Master of Science - MS', 'schoolUrn': 'urn:li:fs_miniSchool:17954', 'entityUrn': 'urn:li:fs_education:(ACoAAB3O2EkBuh6Jrg33QPF7XtqbjZ99X8T3wpY,447452316)', 'school': {'objectUrn': 'urn:li:school:17954', 'entityUrn': 'urn:li:fs_miniSchool:17954', 'active': True, 'schoolName': 'University of California San Diego', 'trackingId': 'qgpNol89RRWGzY8r2/prtA==', 'logoUrl': 'https://media.licdn.com/dms/image/C560BAQHQYa-3EY_aaQ/company-logo_'}, 'activities': 'Major in Artificial Intelligence', 'timePeriod': {'endDate': {'year': 2019}, 'startDate': {'year': 2017}}, 'fieldOfStudyUrn': 'urn:li:fs_fieldOfStudy:100189', 'schoolName': 'University of California San Diego', 'fieldOfStudy': 'Computer Science', 'degreeUrn': 'urn:li:fs_degree:626'}, {'entityUrn': 'urn:li:fs_education:(ACoAAB3O2EkBuh6Jrg33QPF7XtqbjZ99X8T3wpY,344948681)', 'school': {'objectUrn': 'urn:li:school:11399', 'entityUrn': 'urn:li:fs_miniSchool:11399', 'active': True, 'schoolName': 'University of Electronic Science and Technology of China', 'trackingId': 'NvZToy6mR+qMOIB7ZQJB2A==', 'logoUrl': 'https://media.licdn.com/dms/image/C4D0BAQGLGzWGaWsaQQ/company-logo_'}, 'timePeriod': {'endDate': {'year': 2017}, 'startDate': {'year': 2013}}, 'fieldOfStudyUrn': 'urn:li:fs_fieldOfStudy:100349', 'degreeName': \"Bachelor's degree\", 'schoolName': 'University of Electronic Science and Technology', 'fieldOfStudy': 'Computer Software Engineering', 'degreeUrn': 'urn:li:fs_degree:200', 'schoolUrn': 'urn:li:fs_miniSchool:11399'}]}\n",
      "\n",
      "\n",
      "\n",
      "\n",
      "geoloc\n",
      "{'summary': 'ASIC digital design engineer with 5+ years of experience on developing microarchitecture and RTL, creating test bench and executing test plan, performing synthesis, timing closure, testability, physical design support. Digital design and mixed-signal design success includes PLL, DAC, ADC, and other RF mixed signal designs. Daily work including: RTL coding, verification, linting check, synthesis, writing constraints, CDC check, formal-verification, scan insertion, scan validation.', 'industryName': 'Semiconductors', 'lastName': 'huang', 'locationName': 'United States', 'student': False, 'geoCountryName': 'United States', 'geoCountryUrn': 'urn:li:fs_geo:103644278', 'geoLocationBackfilled': True, 'elt': False, 'industryUrn': 'urn:li:fs_industry:7', 'firstName': 'shu', 'entityUrn': 'urn:li:fs_profile:ACoAAAndRRwB4H9Zd-nQgDEeI_MJWF4ac2OxAFU', 'geoLocation': {'geoUrn': 'urn:li:fs_geo:90000084'}, 'geoLocationName': 'San Francisco Bay Area', 'location': {'basicLocation': {'countryCode': 'us'}}, 'headline': 'Digital Design Engineer at Intel Corporation', 'displayPictureUrl': 'https://media.licdn.com/dms/image/C5603AQFwxR7JHIFSpw/profile-displayphoto-shrink_', 'profile_id': 'ACoAAAndRRwB4H9Zd-nQgDEeI_MJWF4ac2OxAFU', 'experience': [{'locationName': 'Santa Clara', 'entityUrn': 'urn:li:fs_position:(ACoAAAndRRwB4H9Zd-nQgDEeI_MJWF4ac2OxAFU,1541968477)', 'geoLocationName': 'Santa Clara', 'companyName': 'Intel Corporation', 'timePeriod': {'startDate': {'month': 10, 'year': 2018}}, 'company': {'employeeCountRange': {'start': 10001}, 'industries': ['Semiconductors']}, 'title': 'Digital Design Engineer', 'companyUrn': 'urn:li:fs_miniCompany:1053', 'companyLogoUrl': 'https://media.licdn.com/dms/image/C4D0BAQEQxLTTAA1tTA/company-logo_'}, {'locationName': 'Greater San Diego Area', 'projects': ['urn:li:fs_project:(ACoAAAndRRwB4H9Zd-nQgDEeI_MJWF4ac2OxAFU,692649743)', 'urn:li:fs_project:(ACoAAAndRRwB4H9Zd-nQgDEeI_MJWF4ac2OxAFU,692859465)'], 'entityUrn': 'urn:li:fs_position:(ACoAAAndRRwB4H9Zd-nQgDEeI_MJWF4ac2OxAFU,829931374)', 'geoLocationName': 'Greater San Diego Area', 'companyName': 'Qualcomm', 'timePeriod': {'endDate': {'month': 9, 'year': 2018}, 'startDate': {'month': 6, 'year': 2016}}, 'description': 'RTL design，ASIC，Verilog，C++', 'company': {'employeeCountRange': {'start': 10001}, 'industries': ['Wireless']}, 'title': 'Senior Engineer', 'companyUrn': 'urn:li:fs_miniCompany:2017', 'companyLogoUrl': 'https://media.licdn.com/dms/image/C4E0BAQFIzy7XU945xg/company-logo_'}, {'locationName': 'San Diego', 'entityUrn': 'urn:li:fs_position:(ACoAAAndRRwB4H9Zd-nQgDEeI_MJWF4ac2OxAFU,542653266)', 'geoLocationName': 'San Diego', 'companyName': 'Qualcomm', 'timePeriod': {'endDate': {'month': 6, 'year': 2016}, 'startDate': {'month': 11, 'year': 2013}}, 'description': 'ASIC design for Mixed signal circuits', 'company': {'employeeCountRange': {'start': 10001}, 'industries': ['Wireless']}, 'title': 'Engineer', 'companyUrn': 'urn:li:fs_miniCompany:2017', 'companyLogoUrl': 'https://media.licdn.com/dms/image/C4E0BAQFIzy7XU945xg/company-logo_'}, {'projects': ['urn:li:fs_project:(ACoAAAndRRwB4H9Zd-nQgDEeI_MJWF4ac2OxAFU,53)'], 'entityUrn': 'urn:li:fs_position:(ACoAAAndRRwB4H9Zd-nQgDEeI_MJWF4ac2OxAFU,367736711)', 'companyName': 'Entropic Communications', 'timePeriod': {'endDate': {'month': 9, 'year': 2013}, 'startDate': {'month': 6, 'year': 2012}}, 'company': {'employeeCountRange': {'start': 501, 'end': 1000}, 'industries': ['Semiconductors']}, 'title': 'Intern', 'companyUrn': 'urn:li:fs_miniCompany:15718', 'companyLogoUrl': 'https://media.licdn.com/dms/image/C560BAQGFaRBfjdw0Ag/company-logo_'}], 'skills': [{'name': 'C'}, {'name': 'C++'}, {'name': 'Spices'}, {'name': 'Multisim'}, {'name': 'Quartus'}, {'name': 'VCS'}, {'name': 'Astro'}, {'name': 'DC'}, {'name': 'Primetime'}, {'name': 'Matlab'}, {'name': 'Verilog'}, {'name': 'VHDL'}, {'name': 'Cadence Virtuoso'}, {'name': 'ADS'}, {'name': 'Verilog-A'}, {'name': 'ASIC'}], 'education': [{'courses': ['urn:li:fs_course:(ACoAAAndRRwB4H9Zd-nQgDEeI_MJWF4ac2OxAFU,3)', 'urn:li:fs_course:(ACoAAAndRRwB4H9Zd-nQgDEeI_MJWF4ac2OxAFU,4)', 'urn:li:fs_course:(ACoAAAndRRwB4H9Zd-nQgDEeI_MJWF4ac2OxAFU,5)', 'urn:li:fs_course:(ACoAAAndRRwB4H9Zd-nQgDEeI_MJWF4ac2OxAFU,6)', 'urn:li:fs_course:(ACoAAAndRRwB4H9Zd-nQgDEeI_MJWF4ac2OxAFU,7)', 'urn:li:fs_course:(ACoAAAndRRwB4H9Zd-nQgDEeI_MJWF4ac2OxAFU,8)'], 'projects': ['urn:li:fs_project:(ACoAAAndRRwB4H9Zd-nQgDEeI_MJWF4ac2OxAFU,25)'], 'entityUrn': 'urn:li:fs_education:(ACoAAAndRRwB4H9Zd-nQgDEeI_MJWF4ac2OxAFU,97428816)', 'school': {'objectUrn': 'urn:li:school:17954', 'entityUrn': 'urn:li:fs_miniSchool:17954', 'active': True, 'schoolName': 'University of California San Diego', 'trackingId': 'daZDcOxRT8ajiAvAATWeew==', 'logoUrl': 'https://media.licdn.com/dms/image/C560BAQHQYa-3EY_aaQ/company-logo_'}, 'grade': '3.92', 'timePeriod': {'endDate': {'year': 2013}, 'startDate': {'year': 2011}}, 'degreeName': 'Master of Science (M.S.)', 'schoolName': 'University of California, San Diego', 'fieldOfStudy': 'Integrated Circuit Design', 'schoolUrn': 'urn:li:fs_miniSchool:17954'}, {'courses': ['urn:li:fs_course:(ACoAAAndRRwB4H9Zd-nQgDEeI_MJWF4ac2OxAFU,10)', 'urn:li:fs_course:(ACoAAAndRRwB4H9Zd-nQgDEeI_MJWF4ac2OxAFU,11)', 'urn:li:fs_course:(ACoAAAndRRwB4H9Zd-nQgDEeI_MJWF4ac2OxAFU,13)'], 'projects': ['urn:li:fs_project:(ACoAAAndRRwB4H9Zd-nQgDEeI_MJWF4ac2OxAFU,31)', 'urn:li:fs_project:(ACoAAAndRRwB4H9Zd-nQgDEeI_MJWF4ac2OxAFU,33)'], 'entityUrn': 'urn:li:fs_education:(ACoAAAndRRwB4H9Zd-nQgDEeI_MJWF4ac2OxAFU,101907405)', 'school': {'objectUrn': 'urn:li:school:11363', 'entityUrn': 'urn:li:fs_miniSchool:11363', 'active': True, 'schoolName': 'Southeast University', 'trackingId': 'E5FqmNYAQN+EK9fQzcV1FA==', 'logoUrl': 'https://media.licdn.com/dms/image/C4E0BAQFTFrmiX5-uOQ/company-logo_'}, 'grade': '3.62', 'timePeriod': {'endDate': {'year': 2011}, 'startDate': {'year': 2007}}, 'degreeName': 'Bachelor of Science (B.S.)', 'schoolName': 'Southeast University', 'fieldOfStudy': 'Electrical, Electronics and Communications Engineering', 'schoolUrn': 'urn:li:fs_miniSchool:11363'}]}\n",
      "\n",
      "\n",
      "\n",
      "\n",
      "geoloc\n",
      "{'summary': \"Hi, I'm a 3rd-year studying computer science at UCSD. I am currently looking for software engineering internship opportunities for Summer 2020 and Fall 2020!\", 'industryName': 'Computer Software', 'lastName': 'Chew', 'locationName': 'United States', 'student': False, 'geoCountryName': 'United States', 'geoCountryUrn': 'urn:li:fs_geo:103644278', 'geoLocationBackfilled': True, 'elt': False, 'industryUrn': 'urn:li:fs_industry:4', 'firstName': 'Gary', 'entityUrn': 'urn:li:fs_profile:ACoAACKns8gBeTK4yslU_3244GN3NV00qEefebU', 'geoLocation': {'geoUrn': 'urn:li:fs_geo:90000084'}, 'geoLocationName': 'San Francisco Bay Area', 'location': {'basicLocation': {'countryCode': 'us'}}, 'headline': 'SDE Intern at Amazon', 'displayPictureUrl': 'https://media.licdn.com/dms/image/C5603AQHer8XgCUhNJA/profile-displayphoto-shrink_', 'profile_id': 'ACoAACKns8gBeTK4yslU_3244GN3NV00qEefebU', 'experience': [{'locationName': 'Greater New York City Area', 'entityUrn': 'urn:li:fs_position:(ACoAACKns8gBeTK4yslU_3244GN3NV00qEefebU,1479964890)', 'geoLocationName': 'Greater New York City Area', 'geoUrn': 'urn:li:fs_geo:90000070', 'companyName': 'Amazon', 'timePeriod': {'endDate': {'month': 9, 'year': 2019}, 'startDate': {'month': 6, 'year': 2019}}, 'description': 'Amazon Display Ads Team.\\nTechnologies Used: Java, Guice, JavaScript, ReactJS, AWS DynamoDB\\nDesigned and implemented an auditing service that displays to advertisers a complete history of changes made to an advertising campaign.', 'company': {'employeeCountRange': {'start': 10001}, 'industries': ['Internet']}, 'title': 'Software Development Engineering Intern', 'region': 'urn:li:fs_region:(us,70)', 'companyUrn': 'urn:li:fs_miniCompany:1586', 'companyLogoUrl': 'https://media.licdn.com/dms/image/C560BAQFdwVGpSOHmgw/company-logo_'}, {'locationName': 'Greater Seattle Area', 'entityUrn': 'urn:li:fs_position:(ACoAACKns8gBeTK4yslU_3244GN3NV00qEefebU,1273538666)', 'geoLocationName': 'Greater Seattle Area', 'geoUrn': 'urn:li:fs_geo:90000091', 'companyName': 'Amazon', 'timePeriod': {'endDate': {'month': 9, 'year': 2018}, 'startDate': {'month': 6, 'year': 2018}}, 'description': \"Amazon's Fulfillment Technologies team.\\nTechnologies Used: Java, Spring, JSP, CSS, JavaScript, AWS S3\\nDesigned and built an internal tool to reconfigure, speed up, and benchmark one of Amazon's\\nTier-1 labor planning services.\", 'company': {'employeeCountRange': {'start': 10001}, 'industries': ['Internet']}, 'title': 'Software Development Engineering Intern', 'region': 'urn:li:fs_region:(us,91)', 'companyUrn': 'urn:li:fs_miniCompany:1586', 'companyLogoUrl': 'https://media.licdn.com/dms/image/C560BAQFdwVGpSOHmgw/company-logo_'}], 'skills': [{'name': 'Java', 'standardizedSkillUrn': 'urn:li:fs_miniSkill:147', 'standardizedSkill': {'name': 'Java', 'entityUrn': 'urn:li:fs_miniSkill:147'}}, {'name': 'C#'}, {'name': 'JavaScript'}, {'name': 'Python'}, {'name': 'C'}, {'name': 'Git'}, {'name': 'HTML'}, {'name': 'Cascading Style Sheets (CSS)'}, {'name': 'JavaServer Pages (JSP)'}, {'name': 'Spring Framework'}, {'name': 'Spring MVC'}, {'name': 'jQuery'}, {'name': 'AWS'}, {'name': 'AWS Lambda'}, {'name': 'AWS S3'}, {'name': 'Unix'}, {'name': 'Unity'}, {'name': 'SteamVR'}, {'name': 'Oculus'}, {'name': 'Virtual Reality'}, {'name': 'Java Swing'}, {'name': 'KnockoutJS'}, {'name': 'HTML5'}], 'education': [{'entityUrn': 'urn:li:fs_education:(ACoAACKns8gBeTK4yslU_3244GN3NV00qEefebU,441301134)', 'school': {'objectUrn': 'urn:li:school:17954', 'entityUrn': 'urn:li:fs_miniSchool:17954', 'active': True, 'schoolName': 'University of California San Diego', 'trackingId': 'wHBU9bpHTXGnbltV/QUEFg==', 'logoUrl': 'https://media.licdn.com/dms/image/C560BAQHQYa-3EY_aaQ/company-logo_'}, 'timePeriod': {'endDate': {'year': 2021}, 'startDate': {'year': 2017}}, 'description': \"Provost's Honors\", 'fieldOfStudyUrn': 'urn:li:fs_fieldOfStudy:100189', 'degreeName': 'Bachelor of Science - BS', 'schoolName': 'University of California San Diego', 'fieldOfStudy': 'Computer Science', 'degreeUrn': 'urn:li:fs_degree:400', 'schoolUrn': 'urn:li:fs_miniSchool:17954'}]}\n",
      "\n",
      "\n",
      "\n",
      "\n",
      "geoloc\n",
      "{'summary': 'Highly organized, detail-oriented and team-player with a history of productivity and successful outcomes, aspiring to design and develop large-scale software systems, embracing change and challenge', 'industryName': 'Computer Software', 'lastName': 'Vasuki Balasubramaniam', 'locationName': 'United States', 'student': False, 'geoCountryName': 'United States', 'geoCountryUrn': 'urn:li:fs_geo:103644278', 'geoLocationBackfilled': True, 'elt': False, 'industryUrn': 'urn:li:fs_industry:4', 'firstName': 'Karthikeyan', 'entityUrn': 'urn:li:fs_profile:ACoAAAZBPSQBIsJzScA_qcydcJZhR2Z73yjw5VM', 'geoLocation': {'geoUrn': 'urn:li:fs_geo:90000091'}, 'geoLocationName': 'Greater Seattle Area', 'location': {'basicLocation': {'countryCode': 'us'}}, 'headline': 'Software Devepment Engineer II at Amazon Web Services (AWS)', 'profile_id': 'ACoAAAZBPSQBIsJzScA_qcydcJZhR2Z73yjw5VM', 'experience': [{'locationName': 'Greater Seattle Area', 'entityUrn': 'urn:li:fs_position:(ACoAAAZBPSQBIsJzScA_qcydcJZhR2Z73yjw5VM,1484070061)', 'geoLocationName': 'Greater Seattle Area', 'geoUrn': 'urn:li:fs_geo:90000091', 'companyName': 'Amazon Web Services (AWS)', 'timePeriod': {'startDate': {'month': 7, 'year': 2019}}, 'description': 'Working as an SDE in Amplify Framework.\\n\\nAmplify Framework provides the foundation for your cloud-powered mobile & web apps. It includes a comprehensive library for building sophisticated cloud-powered apps, a powerful toolchain built for developers and a beautiful component library connected to the cloud.', 'company': {'employeeCountRange': {'start': 10001}, 'industries': ['Information Technology and Services']}, 'title': 'Software Devepment Engineer II', 'region': 'urn:li:fs_region:(us,91)', 'companyUrn': 'urn:li:fs_miniCompany:2382910', 'companyLogoUrl': 'https://media.licdn.com/dms/image/C4D0BAQGzuSBRRRuphw/company-logo_'}, {'locationName': 'Greater Seattle Area', 'entityUrn': 'urn:li:fs_position:(ACoAAAZBPSQBIsJzScA_qcydcJZhR2Z73yjw5VM,974659202)', 'geoLocationName': 'Greater Seattle Area', 'geoUrn': 'urn:li:fs_geo:90000091', 'companyName': 'Amazon Web Services', 'timePeriod': {'endDate': {'month': 6, 'year': 2019}, 'startDate': {'month': 4, 'year': 2017}}, 'description': 'Working as a Software Development Engineer in AWS Mobile SDK.\\n\\nThe AWS Mobile SDK helps you build high-quality mobile apps quickly and easily. It provides easy access to a range of AWS services, including AWS Lambda, Amazon S3, Amazon DynamoDB, Amazon Mobile Analytics, Amazon Machine Learning, Elastic Load balancing, Auto Scaling and more.\\n\\nThe AWS Mobile SDK includes libraries, code samples, and documentation for iOS, Android, Fire OS, and Unity so you can build apps that deliver great experiences across devices and platforms.\\n', 'company': {'employeeCountRange': {'start': 10001}, 'industries': ['Information Technology and Services']}, 'title': 'Software Development Engineer I', 'region': 'urn:li:fs_region:(us,91)', 'companyUrn': 'urn:li:fs_miniCompany:2382910', 'companyLogoUrl': 'https://media.licdn.com/dms/image/C4D0BAQGzuSBRRRuphw/company-logo_'}, {'locationName': 'Greater San Diego Area', 'entityUrn': 'urn:li:fs_position:(ACoAAAZBPSQBIsJzScA_qcydcJZhR2Z73yjw5VM,895650986)', 'geoLocationName': 'Greater San Diego Area', 'geoUrn': 'urn:li:fs_geo:100737633', 'companyName': 'University of California San Diego', 'timePeriod': {'endDate': {'month': 3, 'year': 2017}, 'startDate': {'month': 1, 'year': 2017}}, 'description': 'Working as a Teaching Assistant for the course on \"Networked Services\" : http://cseweb.ucsd.edu/~gmporter/classes/wi17/cse124/', 'company': {'employeeCountRange': {'start': 10001}, 'industries': ['Higher Education']}, 'title': 'Graduate Teaching Assistant', 'region': 'urn:li:fs_region:(us,732)', 'companyUrn': 'urn:li:fs_miniCompany:3382', 'companyLogoUrl': 'https://media.licdn.com/dms/image/C560BAQHQYa-3EY_aaQ/company-logo_'}, {'locationName': 'Greater San Diego Area', 'entityUrn': 'urn:li:fs_position:(ACoAAAZBPSQBIsJzScA_qcydcJZhR2Z73yjw5VM,852510897)', 'geoLocationName': 'Greater San Diego Area', 'geoUrn': 'urn:li:fs_geo:100737633', 'companyName': 'University of California, San Diego', 'timePeriod': {'endDate': {'month': 12, 'year': 2016}, 'startDate': {'month': 9, 'year': 2016}}, 'description': 'Working as a Teaching Assistant for the course on \"Principles of Computer Operating Systems\" : http://cseweb.ucsd.edu/classes/fa16/cse120-a/', 'company': {'employeeCountRange': {'start': 10001}, 'industries': ['Higher Education']}, 'title': 'Graduate Teaching Assistant', 'region': 'urn:li:fs_region:(us,732)', 'companyUrn': 'urn:li:fs_miniCompany:3382', 'companyLogoUrl': 'https://media.licdn.com/dms/image/C560BAQHQYa-3EY_aaQ/company-logo_'}, {'locationName': 'Greater Seattle Area', 'entityUrn': 'urn:li:fs_position:(ACoAAAZBPSQBIsJzScA_qcydcJZhR2Z73yjw5VM,819291725)', 'geoLocationName': 'Greater Seattle Area', 'geoUrn': 'urn:li:fs_geo:90000091', 'companyName': 'Amazon', 'timePeriod': {'endDate': {'month': 9, 'year': 2016}, 'startDate': {'month': 6, 'year': 2016}}, 'description': 'Working as a SDE Intern in Amazon Prime Business organization.\\nWorking on Checkout & Delivery Infrastructure of Amazon Retail.\\nRole : Full Stack Web Developer\\nSkills : Ruby on Rails, JRuby, Java, SOAP, Web Services, REST, HTML/CSS/angular.js', 'company': {'employeeCountRange': {'start': 10001}, 'industries': ['Internet']}, 'title': 'Software Development Engineer Intern', 'region': 'urn:li:fs_region:(us,91)', 'companyUrn': 'urn:li:fs_miniCompany:1586', 'companyLogoUrl': 'https://media.licdn.com/dms/image/C560BAQFdwVGpSOHmgw/company-logo_'}], 'skills': [{'name': 'C'}, {'name': 'Java'}, {'name': 'Hadoop'}, {'name': 'Data Structures'}, {'name': 'C++'}, {'name': 'Algorithms'}, {'name': 'Programming'}, {'name': 'Linux'}, {'name': 'Operating Systems'}, {'name': 'SQL'}, {'name': 'Distributed Systems'}, {'name': 'Software Development'}, {'name': 'MapReduce'}, {'name': 'Shell Scripting'}, {'name': 'Unix'}, {'name': 'Core Java'}, {'name': 'OOP'}, {'name': 'Object Oriented Design'}, {'name': 'Software Engineering'}, {'name': 'Perl'}, {'name': 'Scalability'}, {'name': 'JSP'}, {'name': 'Python'}, {'name': 'Genetic Algorithms'}, {'name': 'JavaScript'}, {'name': 'Databases'}, {'name': 'CUDA'}, {'name': 'MPI'}, {'name': 'OpenMP'}], 'education': [{'entityUrn': 'urn:li:fs_education:(ACoAAAZBPSQBIsJzScA_qcydcJZhR2Z73yjw5VM,299303263)', 'school': {'objectUrn': 'urn:li:school:17954', 'entityUrn': 'urn:li:fs_miniSchool:17954', 'active': True, 'schoolName': 'University of California San Diego', 'trackingId': '6kamDsZRT0Cl/Rr5yWirGw==', 'logoUrl': 'https://media.licdn.com/dms/image/C560BAQHQYa-3EY_aaQ/company-logo_'}, 'grade': '3.83/4.0', 'timePeriod': {'endDate': {'year': 2017}, 'startDate': {'year': 2015}}, 'description': 'Graduate Student specializing in Systems & Networking', 'degreeName': 'Master’s Degree', 'schoolName': 'University of California, San Diego', 'fieldOfStudy': 'Computer Science', 'schoolUrn': 'urn:li:fs_miniSchool:17954'}, {'courses': ['urn:li:fs_course:(ACoAAAZBPSQBIsJzScA_qcydcJZhR2Z73yjw5VM,77)', 'urn:li:fs_course:(ACoAAAZBPSQBIsJzScA_qcydcJZhR2Z73yjw5VM,78)', 'urn:li:fs_course:(ACoAAAZBPSQBIsJzScA_qcydcJZhR2Z73yjw5VM,79)', 'urn:li:fs_course:(ACoAAAZBPSQBIsJzScA_qcydcJZhR2Z73yjw5VM,80)', 'urn:li:fs_course:(ACoAAAZBPSQBIsJzScA_qcydcJZhR2Z73yjw5VM,81)', 'urn:li:fs_course:(ACoAAAZBPSQBIsJzScA_qcydcJZhR2Z73yjw5VM,82)', 'urn:li:fs_course:(ACoAAAZBPSQBIsJzScA_qcydcJZhR2Z73yjw5VM,83)', 'urn:li:fs_course:(ACoAAAZBPSQBIsJzScA_qcydcJZhR2Z73yjw5VM,84)', 'urn:li:fs_course:(ACoAAAZBPSQBIsJzScA_qcydcJZhR2Z73yjw5VM,85)', 'urn:li:fs_course:(ACoAAAZBPSQBIsJzScA_qcydcJZhR2Z73yjw5VM,89)', 'urn:li:fs_course:(ACoAAAZBPSQBIsJzScA_qcydcJZhR2Z73yjw5VM,90)', 'urn:li:fs_course:(ACoAAAZBPSQBIsJzScA_qcydcJZhR2Z73yjw5VM,91)', 'urn:li:fs_course:(ACoAAAZBPSQBIsJzScA_qcydcJZhR2Z73yjw5VM,92)', 'urn:li:fs_course:(ACoAAAZBPSQBIsJzScA_qcydcJZhR2Z73yjw5VM,93)', 'urn:li:fs_course:(ACoAAAZBPSQBIsJzScA_qcydcJZhR2Z73yjw5VM,94)', 'urn:li:fs_course:(ACoAAAZBPSQBIsJzScA_qcydcJZhR2Z73yjw5VM,95)'], 'projects': ['urn:li:fs_project:(ACoAAAZBPSQBIsJzScA_qcydcJZhR2Z73yjw5VM,34)', 'urn:li:fs_project:(ACoAAAZBPSQBIsJzScA_qcydcJZhR2Z73yjw5VM,31)'], 'description': 'As a Computer Science Undergraduate student, I have worked extensively on Distributed Systems and Parallel Computing including Hadoop, worked on projects and research publications in these areas.', 'degreeName': 'B.E', 'honors': ['urn:li:fs_honor:(ACoAAAZBPSQBIsJzScA_qcydcJZhR2Z73yjw5VM,1977372872)'], 'schoolUrn': 'urn:li:fs_miniSchool:20420', 'entityUrn': 'urn:li:fs_education:(ACoAAAZBPSQBIsJzScA_qcydcJZhR2Z73yjw5VM,64024330)', 'school': {'objectUrn': 'urn:li:school:20420', 'entityUrn': 'urn:li:fs_miniSchool:20420', 'active': True, 'schoolName': 'PSG College of Technology', 'trackingId': 'FM+8f/7AQqSXrl+CW/+KsA==', 'logoUrl': 'https://media.licdn.com/dms/image/C4D0BAQFBRbmAcoPNug/company-logo_'}, 'activities': 'Secretary in Indian Society Of Technical Education - Students Chapter, PSGTECH, CBE.', 'grade': '9.57/10', 'timePeriod': {'endDate': {'year': 2013}, 'startDate': {'year': 2009}}, 'testScores': ['urn:li:fs_testScore:(ACoAAAZBPSQBIsJzScA_qcydcJZhR2Z73yjw5VM,74)'], 'schoolName': 'PSG College of Technology', 'fieldOfStudy': 'Computer Science and Engineering'}, {'entityUrn': 'urn:li:fs_education:(ACoAAAZBPSQBIsJzScA_qcydcJZhR2Z73yjw5VM,117939925)', 'grade': '97.16%', 'timePeriod': {'endDate': {'year': 2009}, 'startDate': {'year': 2007}}, 'degreeName': 'XII Standard', 'schoolName': 'SRV Higher Secondary School', 'fieldOfStudy': 'Computer Science'}]}\n",
      "\n",
      "\n",
      "\n",
      "\n",
      "geoloc\n",
      "{'summary': 'Software Engineer with a focus on Backend, AWS, Microservices, Golang, Ruby on Rails', 'industryName': 'Computer Software', 'lastName': 'Luo', 'locationName': 'United States', 'student': False, 'geoCountryName': 'United States', 'geoCountryUrn': 'urn:li:fs_geo:103644278', 'geoLocationBackfilled': True, 'elt': False, 'industryUrn': 'urn:li:fs_industry:4', 'firstName': 'Michael', 'entityUrn': 'urn:li:fs_profile:ACoAABShj7QB_534zx5MRyGE53NjLNVjKuNfZR0', 'geoLocation': {'geoUrn': 'urn:li:fs_geo:90000084'}, 'geoLocationName': 'San Francisco Bay Area', 'location': {'basicLocation': {'countryCode': 'us'}}, 'headline': 'Software Engineer at Twitch', 'displayPictureUrl': 'https://media.licdn.com/dms/image/C5603AQHRRzT6NeqkTw/profile-displayphoto-shrink_', 'profile_id': 'ACoAABShj7QB_534zx5MRyGE53NjLNVjKuNfZR0', 'experience': [{'locationName': 'San Francisco Bay Area', 'entityUrn': 'urn:li:fs_position:(ACoAABShj7QB_534zx5MRyGE53NjLNVjKuNfZR0,901946860)', 'geoLocationName': 'San Francisco Bay Area', 'geoUrn': 'urn:li:fs_geo:90000084', 'companyName': 'Twitch', 'timePeriod': {'startDate': {'month': 1, 'year': 2017}}, 'description': 'Backend — Twitch Payments\\n\\n• Helping hundreds of thousands of content creators earn a living on our live-streaming platform\\n• Building microservices, event-driven systems, and infrastructure to process hundreds of millions of dollars in payments\\n\\n[Golang, Ruby on Rails, Python, PostgreSQL, GraphQL, AWS (EC2, Beanstalk, Lambda, RDS, DynamoDB, SQS, SNS, S3, CloudFormation, ElastiCache), Microservices, Infrastructure as Code, Serverless Architecture]', 'company': {'employeeCountRange': {'start': 1001, 'end': 5000}, 'industries': ['Internet']}, 'title': 'Software Engineer', 'region': 'urn:li:fs_region:(us,84)', 'companyUrn': 'urn:li:fs_miniCompany:2320329', 'companyLogoUrl': 'https://media.licdn.com/dms/image/C560BAQETQlcAuxqFwg/company-logo_'}, {'locationName': 'San Francisco Bay Area', 'entityUrn': 'urn:li:fs_position:(ACoAABShj7QB_534zx5MRyGE53NjLNVjKuNfZR0,713668227)', 'geoLocationName': 'San Francisco Bay Area', 'geoUrn': 'urn:li:fs_geo:90000084', 'companyName': 'Amazon', 'timePeriod': {'endDate': {'month': 1, 'year': 2017}, 'startDate': {'month': 9, 'year': 2015}}, 'description': 'Backend — Amazon Prime Music & Amazon Music Unlimited\\n\\n• Launched Amazon Music Unlimited, a music subscription service offering unlimited access to 50M+ songs\\n• Built APIs related to the discovery experiences, personalized home tab, recommended music, and tracks/albums/playlists/stations/artists metadata aggregation\\n\\n[Java, Spring]', 'company': {'employeeCountRange': {'start': 10001}, 'industries': ['Internet']}, 'title': 'Software Engineer', 'region': 'urn:li:fs_region:(us,84)', 'companyUrn': 'urn:li:fs_miniCompany:1586', 'companyLogoUrl': 'https://media.licdn.com/dms/image/C560BAQFdwVGpSOHmgw/company-logo_'}, {'locationName': 'Greater San Diego Area', '$anti_abuse_annotations': [{'domainType': 'MEMBER_POSITION_LOCATION_NAME'}, {'domainType': 'MEMBER_POSITION_ID'}, {'domainType': 'MEMBER_POSITION_LOCATION_NAME'}, {'domainType': 'MEMBER_POSITION_COMPANY_NAME'}, {'domainType': 'MEMBER_POSITION_START_DATE'}, {'domainType': 'MEMBER_POSITION_END_DATE'}, {'domainType': 'MEMBER_POSITION_DESCRIPTION'}, {'domainType': 'MEMBER_POSITION_TITLE'}], 'entityUrn': 'urn:li:fs_position:(ACoAABShj7QB_534zx5MRyGE53NjLNVjKuNfZR0,661608362)', 'geoLocationName': 'Greater San Diego Area', 'geoUrn': 'urn:li:fs_geo:100737633', 'companyName': 'Self Employed', 'timePeriod': {'endDate': {'month': 9, 'year': 2015}, 'startDate': {'month': 4, 'year': 2015}}, 'description': 'Fullstack — eCommerce projects\\n\\n• Designed, implemented, and deployed a web application to help my client store and analyze Google Analytics data for their internet businesses.\\n\\n[Python, HTML, CSS, JavaScript, Google App Engine]', 'title': 'Freelance Software Developer', 'region': 'urn:li:fs_region:(us,732)'}, {'locationName': 'La Jolla', 'entityUrn': 'urn:li:fs_position:(ACoAABShj7QB_534zx5MRyGE53NjLNVjKuNfZR0,543384873)', 'geoLocationName': 'La Jolla', 'companyName': 'University of California San Diego', 'timePeriod': {'endDate': {'month': 3, 'year': 2015}, 'startDate': {'month': 1, 'year': 2012}}, 'description': '• Guided students through Java and C++ programming assignments for Data Structures and Intro to Java courses, graded assignments, lead discussions, and proctored exams for 10+ hours each week.\\n\\nTutor under Professor Jundt\\n• Introduction to Computer Science and Object-Oriented Programming: Java (CSE 11)\\n\\nTutor under Professor Alvarado\\n• Advanced Data Structures (CSE 100)\\n• Introduction to Computer Science: Java B (CSE 8B)\\n\\nTutor under Professor Simon\\n• Fluency in Information Technology (CSE 3)', 'company': {'employeeCountRange': {'start': 10001}, 'industries': ['Higher Education']}, 'title': 'CS Department Tutor', 'companyUrn': 'urn:li:fs_miniCompany:3382', 'companyLogoUrl': 'https://media.licdn.com/dms/image/C560BAQHQYa-3EY_aaQ/company-logo_'}, {'locationName': 'Greater Seattle Area', 'entityUrn': 'urn:li:fs_position:(ACoAABShj7QB_534zx5MRyGE53NjLNVjKuNfZR0,549738285)', 'geoLocationName': 'Greater Seattle Area', 'geoUrn': 'urn:li:fs_geo:90000091', 'companyName': 'Amazon', 'timePeriod': {'endDate': {'month': 9, 'year': 2014}, 'startDate': {'month': 6, 'year': 2014}}, 'description': 'Frontend — Amazon Wish List\\n\\n• Implemented and A/B tested Wish List UI components, helping to replace the classic blue & orange navigation bar with the black & orange design.\\n\\n[HTML, CSS, JavaScript, Perl, Mason]', 'company': {'employeeCountRange': {'start': 10001}, 'industries': ['Internet']}, 'title': 'Software Engineer Intern', 'region': 'urn:li:fs_region:(us,91)', 'companyUrn': 'urn:li:fs_miniCompany:1586', 'companyLogoUrl': 'https://media.licdn.com/dms/image/C560BAQFdwVGpSOHmgw/company-logo_'}], 'skills': [{'name': 'Software Development'}, {'name': 'Amazon Web Services (AWS)', 'standardizedSkillUrn': 'urn:li:fs_miniSkill:10798', 'standardizedSkill': {'name': 'Amazon Web Services (AWS)', 'entityUrn': 'urn:li:fs_miniSkill:10798'}}, {'name': 'Web Services'}, {'name': 'Object Oriented Design'}, {'name': 'Computer Science'}, {'name': 'Web Applications'}, {'name': 'Programming'}, {'name': 'Software Documentation'}, {'name': 'Technical Documentation'}, {'name': 'Data Structures'}, {'name': 'Algorithms'}, {'name': 'AWS Lambda'}, {'name': 'Python'}, {'name': 'Ruby'}, {'name': 'Java'}, {'name': 'SQL'}, {'name': 'PostgreSQL'}, {'name': 'Node.js'}, {'name': 'JavaScript'}, {'name': 'RESTful WebServices'}, {'name': 'Ruby on Rails'}, {'name': 'Git'}, {'name': 'MongoDB'}, {'name': 'MySQL'}, {'name': 'C'}, {'name': 'C++'}, {'name': 'Terraform'}, {'name': 'JSP'}, {'name': 'Bootstrap'}, {'name': 'AngularJS'}, {'name': 'HTML'}, {'name': 'CSS'}, {'name': 'jQuery'}, {'name': 'Perl'}, {'name': 'Vue.js'}, {'name': 'Amazon S3'}, {'name': 'Linux'}, {'name': 'GraphQL'}, {'name': 'Golang'}, {'name': 'Amazon Dynamodb'}, {'name': 'Infrastructure as Code'}, {'name': 'Amazon SQS'}, {'name': 'Web Application Development'}, {'name': 'Vim'}, {'name': 'Google App Engine'}, {'name': 'AWS Cloudformation'}, {'name': 'AWS CodePipeline'}, {'name': 'AWS CodeBuild'}, {'name': 'Software Architectural Design'}, {'name': 'Data Modeling'}], 'education': [{'courses': ['urn:li:fs_course:(ACoAABShj7QB_534zx5MRyGE53NjLNVjKuNfZR0,30)', 'urn:li:fs_course:(ACoAABShj7QB_534zx5MRyGE53NjLNVjKuNfZR0,31)', 'urn:li:fs_course:(ACoAABShj7QB_534zx5MRyGE53NjLNVjKuNfZR0,32)', 'urn:li:fs_course:(ACoAABShj7QB_534zx5MRyGE53NjLNVjKuNfZR0,33)', 'urn:li:fs_course:(ACoAABShj7QB_534zx5MRyGE53NjLNVjKuNfZR0,34)', 'urn:li:fs_course:(ACoAABShj7QB_534zx5MRyGE53NjLNVjKuNfZR0,35)', 'urn:li:fs_course:(ACoAABShj7QB_534zx5MRyGE53NjLNVjKuNfZR0,36)', 'urn:li:fs_course:(ACoAABShj7QB_534zx5MRyGE53NjLNVjKuNfZR0,549738492)', 'urn:li:fs_course:(ACoAABShj7QB_534zx5MRyGE53NjLNVjKuNfZR0,549738493)', 'urn:li:fs_course:(ACoAABShj7QB_534zx5MRyGE53NjLNVjKuNfZR0,549738494)', 'urn:li:fs_course:(ACoAABShj7QB_534zx5MRyGE53NjLNVjKuNfZR0,549738495)', 'urn:li:fs_course:(ACoAABShj7QB_534zx5MRyGE53NjLNVjKuNfZR0,549738496)'], 'entityUrn': 'urn:li:fs_education:(ACoAABShj7QB_534zx5MRyGE53NjLNVjKuNfZR0,222450480)', 'school': {'objectUrn': 'urn:li:school:17954', 'entityUrn': 'urn:li:fs_miniSchool:17954', 'active': True, 'schoolName': 'University of California San Diego', 'trackingId': 'RDD7yJ5LT3epI7w6WNRS0w==', 'logoUrl': 'https://media.licdn.com/dms/image/C560BAQHQYa-3EY_aaQ/company-logo_'}, 'activities': 'Theta Tau', 'timePeriod': {'endDate': {'year': 2015}}, 'degreeName': 'Bachelor of Science (B.S.)', 'schoolName': 'University of California San Diego', 'fieldOfStudy': 'Computer Science', 'schoolUrn': 'urn:li:fs_miniSchool:17954'}]}\n",
      "\n",
      "\n",
      "\n",
      "\n",
      "geoloc\n",
      "{'industryName': 'Computer Software', 'lastName': 'Liu', 'locationName': 'United States', 'student': False, 'geoCountryName': 'United States', 'geoCountryUrn': 'urn:li:fs_geo:103644278', 'geoLocationBackfilled': True, 'elt': False, 'industryUrn': 'urn:li:fs_industry:4', 'firstName': 'Haolan', 'entityUrn': 'urn:li:fs_profile:ACoAACMckFgB6oJ2yF0Rt3ECisRT7m5So30opSU', 'geoLocation': {'geoUrn': 'urn:li:fs_geo:103644278'}, 'location': {'preferredGeoPlace': 'urn:li:fs_city:(us,27-8)', 'basicLocation': {'countryCode': 'us'}}, 'headline': 'Student at UCSD, working on system and machine learning.\\npersonal webpage: LiuHaolan.github.io', 'displayPictureUrl': 'https://media.licdn.com/dms/image/C5603AQFIq-qY00F-mA/profile-displayphoto-shrink_', 'profile_id': 'ACoAACMckFgB6oJ2yF0Rt3ECisRT7m5So30opSU', 'experience': [{'locationName': 'Greater San Diego Area', 'entityUrn': 'urn:li:fs_position:(ACoAACMckFgB6oJ2yF0Rt3ECisRT7m5So30opSU,1477929536)', 'geoLocationName': 'Greater San Diego Area', 'geoUrn': 'urn:li:fs_geo:100737633', 'companyName': 'University of California San Diego', 'timePeriod': {'startDate': {'month': 7, 'year': 2019}}, 'company': {'employeeCountRange': {'start': 10001}, 'industries': ['Higher Education']}, 'title': 'Graduate Student Researcher', 'region': 'urn:li:fs_region:(us,732)', 'companyUrn': 'urn:li:fs_miniCompany:3382', 'companyLogoUrl': 'https://media.licdn.com/dms/image/C560BAQHQYa-3EY_aaQ/company-logo_'}, {'locationName': 'Hangzhou, Zhejiang, China', 'entityUrn': 'urn:li:fs_position:(ACoAACMckFgB6oJ2yF0Rt3ECisRT7m5So30opSU,1341338480)', 'geoLocationName': 'Hangzhou, Zhejiang, China', 'geoUrn': 'urn:li:fs_geo:90009563', 'companyName': 'Netease Games', 'timePeriod': {'endDate': {'month': 3, 'year': 2018}, 'startDate': {'month': 12, 'year': 2017}}, 'company': {'employeeCountRange': {'start': 1001, 'end': 5000}, 'industries': ['Computer Games']}, 'title': 'Game Developer Intern', 'region': 'urn:li:fs_region:(cn,8931)', 'companyUrn': 'urn:li:fs_miniCompany:3595008', 'companyLogoUrl': 'https://media.licdn.com/dms/image/C510BAQHGbqwZpJLLlA/company-logo_'}], 'skills': [], 'education': [{'entityUrn': 'urn:li:fs_education:(ACoAACMckFgB6oJ2yF0Rt3ECisRT7m5So30opSU,544499693)', 'school': {'objectUrn': 'urn:li:school:17954', 'entityUrn': 'urn:li:fs_miniSchool:17954', 'active': True, 'schoolName': 'University of California San Diego', 'trackingId': 'pFwwXaMrS5OpAfRl/SYL0g==', 'logoUrl': 'https://media.licdn.com/dms/image/C560BAQHQYa-3EY_aaQ/company-logo_'}, 'timePeriod': {'endDate': {'year': 2020}, 'startDate': {'year': 2018}}, 'degreeName': \"Master's degree\", 'schoolName': 'University of California San Diego', 'fieldOfStudy': 'Computational Science', 'degreeUrn': 'urn:li:fs_degree:500', 'schoolUrn': 'urn:li:fs_miniSchool:17954'}, {'entityUrn': 'urn:li:fs_education:(ACoAACMckFgB6oJ2yF0Rt3ECisRT7m5So30opSU,439530193)', 'school': {'objectUrn': 'urn:li:school:11469', 'entityUrn': 'urn:li:fs_miniSchool:11469', 'active': True, 'schoolName': 'Zhejiang University', 'trackingId': 'J9dLOuanT1GZqRj6KWCiKw==', 'logoUrl': 'https://media.licdn.com/dms/image/C510BAQFqHuGrMlNcfg/company-logo_'}, 'timePeriod': {'endDate': {'year': 2018}, 'startDate': {'year': 2014}}, 'degreeName': 'Bachelor of Engineering - BE', 'schoolName': 'Zhejiang University', 'fieldOfStudy': 'Information Engineering', 'degreeUrn': 'urn:li:fs_degree:269', 'schoolUrn': 'urn:li:fs_miniSchool:11469'}]}\n",
      "\n",
      "\n",
      "\n",
      "\n",
      "geoloc\n",
      "{'industryName': 'Information Technology & Services', 'lastName': 'Yi', 'locationName': 'United States', 'student': False, 'geoCountryName': 'United States', 'geoCountryUrn': 'urn:li:fs_geo:103644278', 'geoLocationBackfilled': True, 'elt': False, 'industryUrn': 'urn:li:fs_industry:96', 'firstName': 'An', 'entityUrn': 'urn:li:fs_profile:ACoAAB1fzSYBVZggvedd6Cld-Lt_aZAIHcrvwHQ', 'geoLocation': {'geoUrn': 'urn:li:fs_geo:90000084'}, 'geoLocationName': 'San Francisco Bay Area', 'location': {'basicLocation': {'countryCode': 'us'}}, 'headline': 'Pony.ai - Software Developer', 'displayPictureUrl': 'https://media.licdn.com/dms/image/C5603AQGCl2LNL15rIw/profile-displayphoto-shrink_', 'profile_id': 'ACoAAB1fzSYBVZggvedd6Cld-Lt_aZAIHcrvwHQ', 'experience': [{'entityUrn': 'urn:li:fs_position:(ACoAAB1fzSYBVZggvedd6Cld-Lt_aZAIHcrvwHQ,1225490346)', 'companyName': 'Pony.ai', 'timePeriod': {'startDate': {'month': 3, 'year': 2018}}, 'company': {'employeeCountRange': {'start': 51, 'end': 200}, 'industries': ['Information Technology and Services']}, 'title': 'Software Developer', 'companyUrn': 'urn:li:fs_miniCompany:18199023', 'companyLogoUrl': 'https://media.licdn.com/dms/image/C560BAQGdX2Q612KGNQ/company-logo_'}, {'locationName': 'Seattle', 'entityUrn': 'urn:li:fs_position:(ACoAAB1fzSYBVZggvedd6Cld-Lt_aZAIHcrvwHQ,1041981374)', 'geoLocationName': 'Seattle', 'companyName': 'Amazon', 'timePeriod': {'endDate': {'month': 9, 'year': 2017}, 'startDate': {'month': 6, 'year': 2017}}, 'description': 'Project: Predictive Delivery Window\\nImplemented a new notification in Java using Queue, Lambda, Cloud Watch, etc\\nin AWS and some internal services. To give customers more precise information,\\nwe’re using Predictive Delivery Window when their packages will arrive. We\\nextend surfacing this to customers via notifications which will actively push the\\ninformation to the customer.', 'company': {'employeeCountRange': {'start': 10001}, 'industries': ['Internet']}, 'title': 'Software Developer Internship', 'companyUrn': 'urn:li:fs_miniCompany:1586', 'companyLogoUrl': 'https://media.licdn.com/dms/image/C560BAQFdwVGpSOHmgw/company-logo_'}, {'entityUrn': 'urn:li:fs_position:(ACoAAB1fzSYBVZggvedd6Cld-Lt_aZAIHcrvwHQ,906914558)', 'companyName': 'TalkingData 【北京腾云天下科技有限公司】', 'timePeriod': {'endDate': {'month': 7, 'year': 2015}, 'startDate': {'month': 6, 'year': 2015}}, 'description': 'Project: Activity Recognition using Phone Accelerometer Data\\nAnalyzed the collected labeled accelerometer data from ∼ 10, 000 users in their\\ndaily activities such as walking, jogging, climbing, sitting and standing, by ex-\\ntracting 43 data features; Developed a modified k-Nearest Neighbors algorithm\\nfor personalization and online training; Conducted systematic tests and demon-\\nstrated accuracy over 92% in activity recognition.', 'company': {'employeeCountRange': {'start': 501, 'end': 1000}, 'industries': ['Internet']}, 'title': 'Software Developer Internship', 'companyUrn': 'urn:li:fs_miniCompany:3670212', 'companyLogoUrl': 'https://media.licdn.com/dms/image/C4E0BAQGzDjUQJH_FHQ/company-logo_'}], 'skills': [{'name': 'C++', 'standardizedSkillUrn': 'urn:li:fs_miniSkill:198', 'standardizedSkill': {'name': 'C++', 'entityUrn': 'urn:li:fs_miniSkill:198'}}, {'name': 'Java', 'standardizedSkillUrn': 'urn:li:fs_miniSkill:147', 'standardizedSkill': {'name': 'Java', 'entityUrn': 'urn:li:fs_miniSkill:147'}}, {'name': 'Python', 'standardizedSkillUrn': 'urn:li:fs_miniSkill:1346', 'standardizedSkill': {'name': 'Python (Programming Language)', 'entityUrn': 'urn:li:fs_miniSkill:1346'}}, {'name': 'C', 'standardizedSkillUrn': 'urn:li:fs_miniSkill:438', 'standardizedSkill': {'name': 'C (Programming Language)', 'entityUrn': 'urn:li:fs_miniSkill:438'}}, {'name': 'MATLAB', 'standardizedSkillUrn': 'urn:li:fs_miniSkill:1442', 'standardizedSkill': {'name': 'Matlab', 'entityUrn': 'urn:li:fs_miniSkill:1442'}}, {'name': 'Linux', 'standardizedSkillUrn': 'urn:li:fs_miniSkill:301', 'standardizedSkill': {'name': 'Linux', 'entityUrn': 'urn:li:fs_miniSkill:301'}}, {'name': 'LaTeX', 'standardizedSkillUrn': 'urn:li:fs_miniSkill:6420', 'standardizedSkill': {'name': 'LaTeX', 'entityUrn': 'urn:li:fs_miniSkill:6420'}}, {'name': '算法', 'standardizedSkillUrn': 'urn:li:fs_miniSkill:1070', 'standardizedSkill': {'name': 'Algorithms', 'entityUrn': 'urn:li:fs_miniSkill:1070'}}, {'name': 'Go'}, {'name': 'Algorithm Design'}], 'education': [{'entityUrn': 'urn:li:fs_education:(ACoAAB1fzSYBVZggvedd6Cld-Lt_aZAIHcrvwHQ,378679071)', 'school': {'objectUrn': 'urn:li:school:17954', 'entityUrn': 'urn:li:fs_miniSchool:17954', 'active': True, 'schoolName': 'University of California San Diego', 'trackingId': 'CUIAnAZvSLyvX4I/YcbmaQ==', 'logoUrl': 'https://media.licdn.com/dms/image/C560BAQHQYa-3EY_aaQ/company-logo_'}, 'timePeriod': {'endDate': {'year': 2018}, 'startDate': {'year': 2016}}, 'degreeName': \"Master's degree\", 'schoolName': 'University of California San Diego', 'fieldOfStudy': 'Computer Science', 'degreeUrn': 'urn:li:fs_degree:500', 'schoolUrn': 'urn:li:fs_miniSchool:17954'}, {'entityUrn': 'urn:li:fs_education:(ACoAAB1fzSYBVZggvedd6Cld-Lt_aZAIHcrvwHQ,338810394)', 'school': {'objectUrn': 'urn:li:school:11398', 'entityUrn': 'urn:li:fs_miniSchool:11398', 'active': True, 'schoolName': 'Tsinghua University', 'trackingId': 'OAWOvhbDQp2IbQ46IGILeQ==', 'logoUrl': 'https://media.licdn.com/dms/image/C4D0BAQFJU3_2fIeNWw/company-logo_'}, 'timePeriod': {'endDate': {'year': 2016}, 'startDate': {'year': 2012}}, 'description': 'Graduated from the special pilot class (Yao class) in the institute of interdisciplinary information sciences (IIIS).', 'degreeName': \"Bachelor's degree\", 'schoolName': 'Tsinghua University', 'fieldOfStudy': 'Computer Science', 'schoolUrn': 'urn:li:fs_miniSchool:11398'}]}\n",
      "\n",
      "\n",
      "\n",
      "\n",
      "geoloc\n",
      "{'summary': 'Interested in a variety of software development technologies.', 'industryName': 'Computer Software', 'lastName': 'Zhang', 'locationName': 'United States', 'student': False, 'geoCountryName': 'United States', 'geoCountryUrn': 'urn:li:fs_geo:103644278', 'geoLocationBackfilled': True, 'elt': False, 'industryUrn': 'urn:li:fs_industry:4', 'firstName': 'Yaming', 'entityUrn': 'urn:li:fs_profile:ACoAACQheIUBQS_3qepgYi5cmcPMw13X21eVAiE', 'geoLocation': {'geoUrn': 'urn:li:fs_geo:90000091'}, 'geoLocationName': 'Greater Seattle Area', 'location': {'basicLocation': {'countryCode': 'us'}}, 'headline': 'Software development engineer I at Amazon', 'displayPictureUrl': 'https://media.licdn.com/dms/image/C5603AQHKEB4-tVU9wQ/profile-displayphoto-shrink_', 'profile_id': 'ACoAACQheIUBQS_3qepgYi5cmcPMw13X21eVAiE', 'experience': [{'entityUrn': 'urn:li:fs_position:(ACoAACQheIUBQS_3qepgYi5cmcPMw13X21eVAiE,1470713822)', 'companyName': 'Amazon', 'timePeriod': {'startDate': {'month': 6, 'year': 2019}}, 'company': {'employeeCountRange': {'start': 10001}, 'industries': ['Internet']}, 'title': 'Software development engineer I', 'companyUrn': 'urn:li:fs_miniCompany:1586', 'companyLogoUrl': 'https://media.licdn.com/dms/image/C560BAQFdwVGpSOHmgw/company-logo_'}, {'locationName': 'Greater San Diego Area', 'entityUrn': 'urn:li:fs_position:(ACoAACQheIUBQS_3qepgYi5cmcPMw13X21eVAiE,1361028619)', 'geoLocationName': 'Greater San Diego Area', 'companyName': 'Humana', 'timePeriod': {'endDate': {'month': 3, 'year': 2019}, 'startDate': {'month': 6, 'year': 2018}}, 'description': 'Backend Development (C++)\\nInternal Tool (Java)\\nEnd-to-end Test Automation (Batch)', 'company': {'employeeCountRange': {'start': 10001}, 'industries': ['Health, Wellness and Fitness']}, 'title': 'Software Engineer Intern', 'companyUrn': 'urn:li:fs_miniCompany:4257', 'companyLogoUrl': 'https://media.licdn.com/dms/image/C4E0BAQEIdKhiAKeARg/company-logo_'}, {'locationName': 'Davis, CA', 'entityUrn': 'urn:li:fs_position:(ACoAACQheIUBQS_3qepgYi5cmcPMw13X21eVAiE,1208802227)', 'geoLocationName': 'Davis, CA', 'companyName': 'University of California, Davis', 'timePeriod': {'endDate': {'month': 9, 'year': 2016}, 'startDate': {'month': 7, 'year': 2016}}, 'description': 'Research Assistant at UC Davis UAV lab.', 'company': {'employeeCountRange': {'start': 10001}, 'industries': ['Higher Education']}, 'title': 'Research Assistant', 'companyUrn': 'urn:li:fs_miniCompany:2842', 'companyLogoUrl': 'https://media.licdn.com/dms/image/C560BAQHPrWjMxJrTXQ/company-logo_'}], 'skills': [{'name': 'Java'}, {'name': 'SQL'}, {'name': 'C++'}, {'name': 'Research'}, {'name': 'Python'}, {'name': 'JavaScript'}, {'name': 'Matlab'}, {'name': 'Android'}, {'name': 'OCaml'}, {'name': 'prolog'}, {'name': 'ROS'}], 'education': [{'entityUrn': 'urn:li:fs_education:(ACoAACQheIUBQS_3qepgYi5cmcPMw13X21eVAiE,462302360)', 'school': {'objectUrn': 'urn:li:school:17954', 'entityUrn': 'urn:li:fs_miniSchool:17954', 'active': True, 'schoolName': 'University of California San Diego', 'trackingId': 'XjbQHykGSvmrD3aFLBE/Rg==', 'logoUrl': 'https://media.licdn.com/dms/image/C560BAQHQYa-3EY_aaQ/company-logo_'}, 'timePeriod': {'endDate': {'year': 2019}, 'startDate': {'year': 2017}}, 'fieldOfStudyUrn': 'urn:li:fs_fieldOfStudy:100347', 'degreeName': \"Master's degree\", 'schoolName': 'University of California San Diego', 'fieldOfStudy': 'Computer Engineering', 'degreeUrn': 'urn:li:fs_degree:500', 'schoolUrn': 'urn:li:fs_miniSchool:17954'}, {'entityUrn': 'urn:li:fs_education:(ACoAACQheIUBQS_3qepgYi5cmcPMw13X21eVAiE,462302393)', 'school': {'objectUrn': 'urn:li:school:11469', 'entityUrn': 'urn:li:fs_miniSchool:11469', 'active': True, 'schoolName': 'Zhejiang University', 'trackingId': '62WfjS5tSPihMmx98Fuv2A==', 'logoUrl': 'https://media.licdn.com/dms/image/C510BAQFqHuGrMlNcfg/company-logo_'}, 'timePeriod': {'endDate': {'year': 2017}, 'startDate': {'year': 2013}}, 'fieldOfStudyUrn': 'urn:li:fs_fieldOfStudy:100379', 'degreeName': \"Bachelor's degree\", 'schoolName': 'Zhejiang University', 'fieldOfStudy': 'Mechatronics, Robotics, and Automation Engineering', 'degreeUrn': 'urn:li:fs_degree:200', 'schoolUrn': 'urn:li:fs_miniSchool:11469'}]}\n",
      "\n",
      "\n",
      "\n",
      "\n",
      "geoloc\n",
      "{'summary': \"I'm looking for 2020 Full-time SDE positions!\", 'industryName': 'Internet', 'lastName': 'Gu', 'locationName': 'Pudongxin District, Shanghai, China', 'student': False, 'geoCountryName': 'China', 'geoCountryUrn': 'urn:li:fs_geo:102890883', 'geoLocationBackfilled': True, 'elt': False, 'industryUrn': 'urn:li:fs_industry:6', 'firstName': 'Zhetao', 'entityUrn': 'urn:li:fs_profile:ACoAACb5HR4B1RZqNd-S3tMwh2pSgg6X-Xu3ZK8', 'geoLocation': {'geoUrn': 'urn:li:fs_geo:102772228'}, 'geoLocationName': 'Shanghai', 'location': {'preferredGeoPlace': 'urn:li:fs_city:(cn,30-12)', 'basicLocation': {'countryCode': 'cn'}}, 'state': {'stateCode': '30', 'entityUrn': 'urn:li:fs_state:(cn,30)', 'stateName': 'Shanghai'}, 'headline': 'Amazon Development Center - Software Engineer', 'displayPictureUrl': 'https://media.licdn.com/dms/image/C5103AQHoCXltX399WA/profile-displayphoto-shrink_', 'profile_id': 'ACoAACb5HR4B1RZqNd-S3tMwh2pSgg6X-Xu3ZK8', 'experience': [{'locationName': 'Seattle', 'entityUrn': 'urn:li:fs_position:(ACoAACb5HR4B1RZqNd-S3tMwh2pSgg6X-Xu3ZK8,1481796815)', 'geoLocationName': 'Seattle', 'companyName': '亚马逊网', 'timePeriod': {'endDate': {'month': 9, 'year': 2019}, 'startDate': {'month': 6, 'year': 2019}}, 'company': {'employeeCountRange': {'start': 10001}, 'industries': ['Internet']}, 'title': 'Software Engineer', 'companyUrn': 'urn:li:fs_miniCompany:1586', 'companyLogoUrl': 'https://media.licdn.com/dms/image/C560BAQFdwVGpSOHmgw/company-logo_'}, {'locationName': 'Shanghai', 'entityUrn': 'urn:li:fs_position:(ACoAACb5HR4B1RZqNd-S3tMwh2pSgg6X-Xu3ZK8,1371446259)', 'geoLocationName': 'Shanghai', 'companyName': '清影科技(深圳)有限公司', 'timePeriod': {'endDate': {'month': 6, 'year': 2018}, 'startDate': {'month': 2, 'year': 2018}}, 'company': {'industries': ['Management Consulting']}, 'title': 'Algorithm Engineer', 'companyUrn': 'urn:li:fs_miniCompany:32424961'}, {'entityUrn': 'urn:li:fs_position:(ACoAACb5HR4B1RZqNd-S3tMwh2pSgg6X-Xu3ZK8,1371602775)', 'companyName': '复旦大学', 'timePeriod': {'endDate': {'year': 2018}, 'startDate': {'month': 9, 'year': 2015}}, 'company': {'employeeCountRange': {'start': 1001, 'end': 5000}, 'industries': ['Higher Education']}, 'title': 'Research Assistant', 'companyUrn': 'urn:li:fs_miniCompany:22859', 'companyLogoUrl': 'https://media.licdn.com/dms/image/C4E0BAQFqaH7FoO2N-w/company-logo_'}, {'locationName': 'Shanghai', 'entityUrn': 'urn:li:fs_position:(ACoAACb5HR4B1RZqNd-S3tMwh2pSgg6X-Xu3ZK8,1371448175)', 'geoLocationName': 'Shanghai', 'companyName': '沈阳新松机器人自动化股份有限公司', 'timePeriod': {'endDate': {'month': 2, 'year': 2016}, 'startDate': {'month': 1, 'year': 2016}}, 'company': {'employeeCountRange': {'start': 0, 'end': 1}, 'industries': ['Industrial Automation']}, 'title': 'Research Development Internship', 'companyUrn': 'urn:li:fs_miniCompany:9200757', 'companyLogoUrl': 'https://media.licdn.com/dms/image/C4D0BAQEOrWt8Poawlw/company-logo_'}], 'skills': [{'name': 'deep learning'}, {'name': 'computer vision'}, {'name': 'Python'}, {'name': 'Java'}, {'name': 'C++'}], 'education': [{'entityUrn': 'urn:li:fs_education:(ACoAACb5HR4B1RZqNd-S3tMwh2pSgg6X-Xu3ZK8,549670771)', 'school': {'objectUrn': 'urn:li:school:17954', 'entityUrn': 'urn:li:fs_miniSchool:17954', 'active': True, 'schoolName': 'University of California San Diego', 'trackingId': 'ZCWVpIUZQsueDfmT2XX6Sg==', 'logoUrl': 'https://media.licdn.com/dms/image/C560BAQHQYa-3EY_aaQ/company-logo_'}, 'timePeriod': {'endDate': {'year': 2020}, 'startDate': {'year': 2018}}, 'degreeName': 'Master of Science - MS', 'schoolName': '美国加州大学圣迭戈分校', 'fieldOfStudy': 'Electrical and Computer Engineering', 'degreeUrn': 'urn:li:fs_degree:626', 'schoolUrn': 'urn:li:fs_miniSchool:17954'}, {'entityUrn': 'urn:li:fs_education:(ACoAACb5HR4B1RZqNd-S3tMwh2pSgg6X-Xu3ZK8,557100655)', 'school': {'objectUrn': 'urn:li:school:11109', 'entityUrn': 'urn:li:fs_miniSchool:11109', 'active': True, 'schoolName': 'Fudan University', 'trackingId': '/Oc0bGArSYmDRMSTyV1ULg==', 'logoUrl': 'https://media.licdn.com/dms/image/C4E0BAQFqaH7FoO2N-w/company-logo_'}, 'timePeriod': {'endDate': {'year': 2018}, 'startDate': {'year': 2014}}, 'degreeName': 'Bachelor of Engineering - BE', 'schoolName': '复旦大学', 'fieldOfStudy': 'Electrical Information Scrience and Technology', 'degreeUrn': 'urn:li:fs_degree:269', 'schoolUrn': 'urn:li:fs_miniSchool:11109'}, {'entityUrn': 'urn:li:fs_education:(ACoAACb5HR4B1RZqNd-S3tMwh2pSgg6X-Xu3ZK8,553110021)', 'school': {'objectUrn': 'urn:li:school:18729', 'entityUrn': 'urn:li:fs_miniSchool:18729', 'active': True, 'schoolName': 'Washington University in St. Louis', 'trackingId': 'fxAylEs7QEOi7UoULNNMAg==', 'logoUrl': 'https://media.licdn.com/dms/image/C4D0BAQHsOGDME0U7Vg/company-logo_'}, 'timePeriod': {'endDate': {'year': 2017}, 'startDate': {'year': 2017}}, 'degreeName': 'Exchange Program', 'schoolName': 'Washington University in St. Louis', 'schoolUrn': 'urn:li:fs_miniSchool:18729'}]}\n",
      "\n",
      "\n",
      "\n",
      "\n",
      "geoloc\n",
      "{'industryName': 'Internet', 'lastName': 'Xie', 'locationName': 'United States', 'student': False, 'geoCountryName': 'United States', 'geoCountryUrn': 'urn:li:fs_geo:103644278', 'geoLocationBackfilled': True, 'elt': False, 'industryUrn': 'urn:li:fs_industry:6', 'firstName': 'Scarlet Jiali', 'entityUrn': 'urn:li:fs_profile:ACoAABppj_sBB-ibDsgEmQI5tmhucGi_Fy4tQlc', 'geoLocation': {'geoUrn': 'urn:li:fs_geo:90000091'}, 'geoLocationName': 'Greater Seattle Area', 'location': {'basicLocation': {'countryCode': 'us'}}, 'headline': 'Software Development Engineer at Amazon', 'profile_id': 'ACoAABppj_sBB-ibDsgEmQI5tmhucGi_Fy4tQlc', 'experience': [{'locationName': 'Seattle, Washington', 'entityUrn': 'urn:li:fs_position:(ACoAABppj_sBB-ibDsgEmQI5tmhucGi_Fy4tQlc,1221386038)', 'geoLocationName': 'Seattle, Washington', 'companyName': 'Amazon', 'timePeriod': {'startDate': {'month': 2, 'year': 2018}}, 'description': 'Alexa shopping platform', 'company': {'employeeCountRange': {'start': 10001}, 'industries': ['Internet']}, 'title': 'Software Development Engineer', 'companyUrn': 'urn:li:fs_miniCompany:1586', 'companyLogoUrl': 'https://media.licdn.com/dms/image/C560BAQFdwVGpSOHmgw/company-logo_'}, {'locationName': 'Greater Seattle Area', 'entityUrn': 'urn:li:fs_position:(ACoAABppj_sBB-ibDsgEmQI5tmhucGi_Fy4tQlc,1041520953)', 'geoLocationName': 'Greater Seattle Area', 'geoUrn': 'urn:li:fs_geo:90000091', 'companyName': 'Amazon', 'timePeriod': {'endDate': {'month': 9, 'year': 2017}, 'startDate': {'month': 7, 'year': 2017}}, 'company': {'employeeCountRange': {'start': 10001}, 'industries': ['Internet']}, 'title': 'Software Development Engineer Intern', 'region': 'urn:li:fs_region:(us,91)', 'companyUrn': 'urn:li:fs_miniCompany:1586', 'companyLogoUrl': 'https://media.licdn.com/dms/image/C560BAQFdwVGpSOHmgw/company-logo_'}, {'entityUrn': 'urn:li:fs_position:(ACoAABppj_sBB-ibDsgEmQI5tmhucGi_Fy4tQlc,895457449)', 'companyName': 'ServiceNow', 'timePeriod': {'endDate': {'month': 3, 'year': 2017}, 'startDate': {'month': 1, 'year': 2017}}, 'company': {'employeeCountRange': {'start': 5001, 'end': 10000}, 'industries': ['Computer Software']}, 'title': 'Application Development Intern', 'companyUrn': 'urn:li:fs_miniCompany:29352', 'companyLogoUrl': 'https://media.licdn.com/dms/image/C4E0BAQEA_U8R9KDIiQ/company-logo_'}, {'entityUrn': 'urn:li:fs_position:(ACoAABppj_sBB-ibDsgEmQI5tmhucGi_Fy4tQlc,857954041)', 'companyName': 'CSE Department, UCSD', 'timePeriod': {'endDate': {'month': 9, 'year': 2016}, 'startDate': {'month': 8, 'year': 2016}}, 'title': 'Tutor'}], 'skills': [{'name': 'Java'}, {'name': 'Management'}, {'name': 'HTML'}, {'name': 'SQL'}, {'name': 'Research'}, {'name': 'PowerPoint'}, {'name': 'C++'}, {'name': 'JavaScript'}, {'name': 'Strategic Planning'}, {'name': 'User Experience'}, {'name': 'Machine Learning'}, {'name': 'Google Analytics', 'standardizedSkillUrn': 'urn:li:fs_miniSkill:4071', 'standardizedSkill': {'name': 'Google Analytics', 'entityUrn': 'urn:li:fs_miniSkill:4071'}}, {'name': 'C'}, {'name': 'Matlab'}, {'name': 'Microsoft PowerPoint'}, {'name': 'Microsoft Office'}], 'education': [{'courses': ['urn:li:fs_course:(ACoAABppj_sBB-ibDsgEmQI5tmhucGi_Fy4tQlc,1)', 'urn:li:fs_course:(ACoAABppj_sBB-ibDsgEmQI5tmhucGi_Fy4tQlc,2)', 'urn:li:fs_course:(ACoAABppj_sBB-ibDsgEmQI5tmhucGi_Fy4tQlc,3)', 'urn:li:fs_course:(ACoAABppj_sBB-ibDsgEmQI5tmhucGi_Fy4tQlc,4)'], 'entityUrn': 'urn:li:fs_education:(ACoAABppj_sBB-ibDsgEmQI5tmhucGi_Fy4tQlc,298100774)', 'school': {'objectUrn': 'urn:li:school:17954', 'entityUrn': 'urn:li:fs_miniSchool:17954', 'active': True, 'schoolName': 'University of California San Diego', 'trackingId': 'og0Cy9KGTaWNT7wW22BDBA==', 'logoUrl': 'https://media.licdn.com/dms/image/C560BAQHQYa-3EY_aaQ/company-logo_'}, 'activities': 'Tau Beta Pi', 'timePeriod': {'endDate': {'year': 2017}, 'startDate': {'year': 2014}}, 'description': 'Main focus: Machine learning, Data analysis and User experience.', 'fieldOfStudyUrn': 'urn:li:fs_fieldOfStudy:100189', 'degreeName': 'Bachelor of Science (B.S.)', 'schoolName': 'University of California, San Diego', 'fieldOfStudy': 'Computer Science', 'degreeUrn': 'urn:li:fs_degree:400', 'schoolUrn': 'urn:li:fs_miniSchool:17954'}, {'entityUrn': 'urn:li:fs_education:(ACoAABppj_sBB-ibDsgEmQI5tmhucGi_Fy4tQlc,385346672)', 'school': {'objectUrn': 'urn:li:school:17954', 'entityUrn': 'urn:li:fs_miniSchool:17954', 'active': True, 'schoolName': 'University of California San Diego', 'trackingId': 'NcR0hxmnQ6y030AEReKkaw==', 'logoUrl': 'https://media.licdn.com/dms/image/C560BAQHQYa-3EY_aaQ/company-logo_'}, 'timePeriod': {'endDate': {'year': 2017}, 'startDate': {'year': 2014}}, 'fieldOfStudyUrn': 'urn:li:fs_fieldOfStudy:100779', 'degreeName': 'Bachelor of Science (B.S.)', 'schoolName': 'University of California, San Diego', 'fieldOfStudy': 'Cognitive Science', 'degreeUrn': 'urn:li:fs_degree:400', 'schoolUrn': 'urn:li:fs_miniSchool:17954'}]}\n",
      "\n",
      "\n",
      "\n",
      "\n",
      "geoloc\n",
      "{'summary': 'Member Of Technical Staff @ Pensando Systems\\n\\nGitHub: https://github.com/yansun1996', 'industryName': 'Computer Software', 'lastName': 'Sun', 'locationName': 'United States', 'student': False, 'geoCountryName': 'United States', 'geoCountryUrn': 'urn:li:fs_geo:103644278', 'geoLocationBackfilled': True, 'elt': False, 'industryUrn': 'urn:li:fs_industry:4', 'firstName': 'Yan', 'entityUrn': 'urn:li:fs_profile:ACoAABqVMtMBw6D6lYc8KHNGiq-NQZ8U9ajxhko', 'geoLocation': {'geoUrn': 'urn:li:fs_geo:90000084'}, 'geoLocationName': 'San Francisco Bay Area', 'location': {'basicLocation': {'countryCode': 'us'}}, 'headline': 'Member Of Technical Staff at Pensando Systems', 'displayPictureUrl': 'https://media.licdn.com/dms/image/C5603AQF3ffydsv5E_A/profile-displayphoto-shrink_', 'profile_id': 'ACoAABqVMtMBw6D6lYc8KHNGiq-NQZ8U9ajxhko', 'experience': [{'locationName': 'San Francisco Bay Area', 'entityUrn': 'urn:li:fs_position:(ACoAABqVMtMBw6D6lYc8KHNGiq-NQZ8U9ajxhko,1534973399)', 'geoLocationName': 'San Francisco Bay Area', 'geoUrn': 'urn:li:fs_geo:90000084', 'companyName': 'Pensando Systems', 'timePeriod': {'startDate': {'month': 11, 'year': 2019}}, 'company': {'employeeCountRange': {'start': 51, 'end': 200}, 'industries': ['Information Technology and Services']}, 'title': 'Member Of Technical Staff', 'region': 'urn:li:fs_region:(us,84)', 'companyUrn': 'urn:li:fs_miniCompany:51665663', 'companyLogoUrl': 'https://media.licdn.com/dms/image/C4E0BAQGCt_QaOqAHpg/company-logo_'}, {'locationName': 'Greater San Diego Area', 'entityUrn': 'urn:li:fs_position:(ACoAABqVMtMBw6D6lYc8KHNGiq-NQZ8U9ajxhko,1485271561)', 'geoLocationName': 'Greater San Diego Area', 'geoUrn': 'urn:li:fs_geo:100737633', 'companyName': '12 Sigma Technologies ', 'timePeriod': {'endDate': {'month': 11, 'year': 2019}, 'startDate': {'month': 7, 'year': 2019}}, 'description': '● Lung Nodule product: Built 3D Mask R-CNN based model for lung segmentation and trained 3D U-Net based multiple head model for lung lobe segmentation by PyTorch. Added as a new feature in a new released version to assist in lung lobe 3D visualization and lung nodule localization.\\n\\n● DevOps: Initialized portable R&D environment by Docker images and container registry service on Alibaba Cloud across several research teams. Maintained Jenkins automation test tools for CI/CD pipeline and conducted release tests for several products. In collaboration with customer service team to optimize product feature based on customer feedback.', 'company': {'employeeCountRange': {'start': 51, 'end': 200}, 'industries': ['Computer Software']}, 'title': 'Data Scientist', 'region': 'urn:li:fs_region:(us,732)', 'companyUrn': 'urn:li:fs_miniCompany:24980620', 'companyLogoUrl': 'https://media.licdn.com/dms/image/C4E0BAQE0L-RHJuSQxQ/company-logo_'}, {'locationName': 'Greater San Diego Area', 'entityUrn': 'urn:li:fs_position:(ACoAABqVMtMBw6D6lYc8KHNGiq-NQZ8U9ajxhko,1452047279)', 'geoLocationName': 'Greater San Diego Area', 'companyName': '12 Sigma Technologies ', 'timePeriod': {'endDate': {'month': 6, 'year': 2019}, 'startDate': {'month': 4, 'year': 2019}}, 'description': '● OCR product: Created a back-end service and implemented related API to collect medical document image from different third-party medical devices and recognize patient ID via Optical Character Recognition (OCR) technique. Trained U-Net based deep learning model by Python and TensorFlow on synthetic text images with data augmentation. Obtained 96% accuracy on character recognition and outperformed previous version by 5% for large-scale release test.', 'company': {'employeeCountRange': {'start': 51, 'end': 200}, 'industries': ['Computer Software']}, 'title': 'Data Scientist Intern', 'companyUrn': 'urn:li:fs_miniCompany:24980620', 'companyLogoUrl': 'https://media.licdn.com/dms/image/C4E0BAQE0L-RHJuSQxQ/company-logo_'}, {'locationName': 'Beijing City, China', 'entityUrn': 'urn:li:fs_position:(ACoAABqVMtMBw6D6lYc8KHNGiq-NQZ8U9ajxhko,1346108206)', 'geoLocationName': 'Beijing City, China', 'geoUrn': 'urn:li:fs_geo:103873152', 'companyName': 'Weibo Corporation', 'timePeriod': {'endDate': {'month': 8, 'year': 2018}, 'startDate': {'month': 6, 'year': 2018}}, 'description': '● Created a new data preprocess pipeline by transferring one billion daily advertising data with high dimension and sparse feature from LIBSVM format to TFRecord format and saved data partitions into HDFS.\\n● Built an asynchronous distributed training pipeline with between-graph replication for Click-Through Rate (CTR) prediction by Python and TensorFlow. Improved model training efficiency by 20% compared to old version pipeline for daily offline computing. Merged into Weibo internal Hadoop based infrastructure and used by production system.', 'company': {'employeeCountRange': {'start': 1001, 'end': 5000}, 'industries': ['Internet']}, 'title': 'Machine Learning Engineer Intern', 'region': 'urn:li:fs_region:(cn,8911)', 'companyUrn': 'urn:li:fs_miniCompany:3761243', 'companyLogoUrl': 'https://media.licdn.com/dms/image/C4D0BAQFnV9XsonAcBg/company-logo_'}, {'locationName': 'Shanghai City, China', 'entityUrn': 'urn:li:fs_position:(ACoAABqVMtMBw6D6lYc8KHNGiq-NQZ8U9ajxhko,1050785630)', 'geoLocationName': 'Shanghai City, China', 'geoUrn': 'urn:li:fs_geo:102772228', 'companyName': 'Shanghai QuantDo Network Technology Co., Ltd.', 'timePeriod': {'endDate': {'month': 9, 'year': 2017}, 'startDate': {'month': 7, 'year': 2017}}, 'description': '● Developed Python scripts to generate MySQL statements for processing data from different commodity exchanges. \\n● Supervised the calculation of margin for futures contracts based on settlement price between trading sessions.\\n● Merged new version back-end pipeline into company’s online futures and option quantitative trading system.', 'company': {'employeeCountRange': {'start': 51, 'end': 200}, 'industries': ['Information Technology and Services']}, 'title': 'Software Engineer Intern', 'region': 'urn:li:fs_region:(cn,8909)', 'companyUrn': 'urn:li:fs_miniCompany:13177539', 'companyLogoUrl': 'https://media.licdn.com/dms/image/C560BAQFB5gdhpwHjjg/company-logo_'}], 'skills': [{'name': 'Python', 'standardizedSkillUrn': 'urn:li:fs_miniSkill:1346', 'standardizedSkill': {'name': 'Python (Programming Language)', 'entityUrn': 'urn:li:fs_miniSkill:1346'}}, {'name': 'C++', 'standardizedSkillUrn': 'urn:li:fs_miniSkill:198', 'standardizedSkill': {'name': 'C++', 'entityUrn': 'urn:li:fs_miniSkill:198'}}, {'name': 'LAMMPS', 'standardizedSkillUrn': 'urn:li:fs_miniSkill:23580', 'standardizedSkill': {'name': 'LAMMPS', 'entityUrn': 'urn:li:fs_miniSkill:23580'}}, {'name': 'Data Analysis'}, {'name': 'Computer Vision'}, {'name': 'Machine Learning'}, {'name': 'Artificial Intelligence'}, {'name': 'Matlab', 'standardizedSkillUrn': 'urn:li:fs_miniSkill:1442', 'standardizedSkill': {'name': 'Matlab', 'entityUrn': 'urn:li:fs_miniSkill:1442'}}, {'name': 'SQL'}, {'name': 'Linux'}, {'name': 'Microsoft Office'}, {'name': 'Hadoop'}, {'name': 'MySQL'}, {'name': 'Docker'}, {'name': 'Java'}, {'name': 'HTML'}, {'name': 'JavaScript'}, {'name': 'VASP', 'standardizedSkillUrn': 'urn:li:fs_miniSkill:46947', 'standardizedSkill': {'name': 'VASP', 'entityUrn': 'urn:li:fs_miniSkill:46947'}}, {'name': 'Molecular Dynamics', 'standardizedSkillUrn': 'urn:li:fs_miniSkill:10141', 'standardizedSkill': {'name': 'Molecular Dynamics', 'entityUrn': 'urn:li:fs_miniSkill:10141'}}, {'name': 'Deep Learning'}, {'name': 'TensorFlow'}, {'name': 'PyTorch'}, {'name': 'Data Science'}, {'name': 'Python (Programming Language)'}, {'name': 'Scikit-Learn'}, {'name': 'NumPy'}, {'name': 'Neural Networks'}, {'name': 'CSS'}], 'education': [{'courses': ['urn:li:fs_course:(ACoAABqVMtMBw6D6lYc8KHNGiq-NQZ8U9ajxhko,316267381)', 'urn:li:fs_course:(ACoAABqVMtMBw6D6lYc8KHNGiq-NQZ8U9ajxhko,316297524)', 'urn:li:fs_course:(ACoAABqVMtMBw6D6lYc8KHNGiq-NQZ8U9ajxhko,1284201220)', 'urn:li:fs_course:(ACoAABqVMtMBw6D6lYc8KHNGiq-NQZ8U9ajxhko,1284251032)', 'urn:li:fs_course:(ACoAABqVMtMBw6D6lYc8KHNGiq-NQZ8U9ajxhko,1284319792)', 'urn:li:fs_course:(ACoAABqVMtMBw6D6lYc8KHNGiq-NQZ8U9ajxhko,111657610)', 'urn:li:fs_course:(ACoAABqVMtMBw6D6lYc8KHNGiq-NQZ8U9ajxhko,111705498)', 'urn:li:fs_course:(ACoAABqVMtMBw6D6lYc8KHNGiq-NQZ8U9ajxhko,111785874)', 'urn:li:fs_course:(ACoAABqVMtMBw6D6lYc8KHNGiq-NQZ8U9ajxhko,111878001)', 'urn:li:fs_course:(ACoAABqVMtMBw6D6lYc8KHNGiq-NQZ8U9ajxhko,1142713338)', 'urn:li:fs_course:(ACoAABqVMtMBw6D6lYc8KHNGiq-NQZ8U9ajxhko,1142750559)'], 'projects': ['urn:li:fs_project:(ACoAABqVMtMBw6D6lYc8KHNGiq-NQZ8U9ajxhko,317243078)', 'urn:li:fs_project:(ACoAABqVMtMBw6D6lYc8KHNGiq-NQZ8U9ajxhko,317485258)', 'urn:li:fs_project:(ACoAABqVMtMBw6D6lYc8KHNGiq-NQZ8U9ajxhko,317548712)', 'urn:li:fs_project:(ACoAABqVMtMBw6D6lYc8KHNGiq-NQZ8U9ajxhko,310251176)', 'urn:li:fs_project:(ACoAABqVMtMBw6D6lYc8KHNGiq-NQZ8U9ajxhko,1403568559)', 'urn:li:fs_project:(ACoAABqVMtMBw6D6lYc8KHNGiq-NQZ8U9ajxhko,1405110466)', 'urn:li:fs_project:(ACoAABqVMtMBw6D6lYc8KHNGiq-NQZ8U9ajxhko,1653653907)'], 'entityUrn': 'urn:li:fs_education:(ACoAABqVMtMBw6D6lYc8KHNGiq-NQZ8U9ajxhko,440876410)', 'school': {'objectUrn': 'urn:li:school:17954', 'entityUrn': 'urn:li:fs_miniSchool:17954', 'active': True, 'schoolName': 'University of California San Diego', 'trackingId': 'w0YoW1+aScapJN540FPUJg==', 'logoUrl': 'https://media.licdn.com/dms/image/C560BAQHQYa-3EY_aaQ/company-logo_'}, 'timePeriod': {'endDate': {'year': 2019}, 'startDate': {'year': 2017}}, 'description': 'Major: Machine Learning and Data Science', 'fieldOfStudyUrn': 'urn:li:fs_fieldOfStudy:100351', 'degreeName': 'Master of Science - MS', 'schoolName': 'University of California San Diego', 'fieldOfStudy': 'Electrical and Computer Engineering', 'degreeUrn': 'urn:li:fs_degree:626', 'schoolUrn': 'urn:li:fs_miniSchool:17954'}, {'courses': ['urn:li:fs_course:(ACoAABqVMtMBw6D6lYc8KHNGiq-NQZ8U9ajxhko,315870233)', 'urn:li:fs_course:(ACoAABqVMtMBw6D6lYc8KHNGiq-NQZ8U9ajxhko,315938185)', 'urn:li:fs_course:(ACoAABqVMtMBw6D6lYc8KHNGiq-NQZ8U9ajxhko,315964036)', 'urn:li:fs_course:(ACoAABqVMtMBw6D6lYc8KHNGiq-NQZ8U9ajxhko,315996670)', 'urn:li:fs_course:(ACoAABqVMtMBw6D6lYc8KHNGiq-NQZ8U9ajxhko,316022805)', 'urn:li:fs_course:(ACoAABqVMtMBw6D6lYc8KHNGiq-NQZ8U9ajxhko,316043944)', 'urn:li:fs_course:(ACoAABqVMtMBw6D6lYc8KHNGiq-NQZ8U9ajxhko,316108589)', 'urn:li:fs_course:(ACoAABqVMtMBw6D6lYc8KHNGiq-NQZ8U9ajxhko,316149074)', 'urn:li:fs_course:(ACoAABqVMtMBw6D6lYc8KHNGiq-NQZ8U9ajxhko,316179054)', 'urn:li:fs_course:(ACoAABqVMtMBw6D6lYc8KHNGiq-NQZ8U9ajxhko,316224192)'], 'entityUrn': 'urn:li:fs_education:(ACoAABqVMtMBw6D6lYc8KHNGiq-NQZ8U9ajxhko,440871564)', 'school': {'objectUrn': 'urn:li:school:11319', 'entityUrn': 'urn:li:fs_miniSchool:11319', 'active': True, 'schoolName': 'Shanghai Jiao Tong University', 'trackingId': '/HWEFbXERQyMpTV3kUruuw==', 'logoUrl': 'https://media.licdn.com/dms/image/C4E0BAQFkNUM4pr0xcg/company-logo_'}, 'timePeriod': {'endDate': {'year': 2017}, 'startDate': {'year': 2014}}, 'fieldOfStudyUrn': 'urn:li:fs_fieldOfStudy:100189', 'degreeName': 'Bachelor of Engineering - BE', 'schoolName': 'Shanghai Jiao Tong University', 'fieldOfStudy': 'Computer Science', 'degreeUrn': 'urn:li:fs_degree:269', 'schoolUrn': 'urn:li:fs_miniSchool:11319'}, {'entityUrn': 'urn:li:fs_education:(ACoAABqVMtMBw6D6lYc8KHNGiq-NQZ8U9ajxhko,300405430)', 'school': {'objectUrn': 'urn:li:school:11319', 'entityUrn': 'urn:li:fs_miniSchool:11319', 'active': True, 'schoolName': 'Shanghai Jiao Tong University', 'trackingId': 'VDn3nrAvR/2dO6/bKqP9Pg==', 'logoUrl': 'https://media.licdn.com/dms/image/C4E0BAQFkNUM4pr0xcg/company-logo_'}, 'timePeriod': {'endDate': {'year': 2017}, 'startDate': {'year': 2013}}, 'fieldOfStudyUrn': 'urn:li:fs_fieldOfStudy:100902', 'degreeName': 'Bachelor of Engineering - BE', 'schoolName': 'Shanghai Jiao Tong University', 'fieldOfStudy': 'Materials Science and Engineering', 'degreeUrn': 'urn:li:fs_degree:269', 'schoolUrn': 'urn:li:fs_miniSchool:11319'}]}\n",
      "\n",
      "\n",
      "\n",
      "\n",
      "geoloc\n",
      "{'industryName': 'Computer Software', 'lastName': 'G.', 'locationName': 'United States', 'student': False, 'geoCountryName': 'United States', 'geoCountryUrn': 'urn:li:fs_geo:103644278', 'geoLocationBackfilled': True, 'elt': False, 'industryUrn': 'urn:li:fs_industry:4', 'firstName': 'Jay', 'entityUrn': 'urn:li:fs_profile:ACoAABdpugABs3xv2qMtsiRHEx-MbzwfinE7LFk', 'geoLocation': {'geoUrn': 'urn:li:fs_geo:103644278'}, 'location': {'basicLocation': {'countryCode': 'us'}}, 'headline': 'Software Engineer at Microsoft', 'profile_id': 'ACoAABdpugABs3xv2qMtsiRHEx-MbzwfinE7LFk', 'experience': [{'entityUrn': 'urn:li:fs_position:(ACoAABdpugABs3xv2qMtsiRHEx-MbzwfinE7LFk,1509230146)', 'companyName': 'Microsoft', 'timePeriod': {'startDate': {'month': 1, 'year': 2019}}, 'description': 'Azure Data Warehouse.', 'company': {'employeeCountRange': {'start': 10001}, 'industries': ['Computer Software']}, 'title': 'Software Engineer', 'companyUrn': 'urn:li:fs_miniCompany:1035', 'companyLogoUrl': 'https://media.licdn.com/dms/image/C4D0BAQEko6uLz7XylA/company-logo_'}, {'entityUrn': 'urn:li:fs_position:(ACoAABdpugABs3xv2qMtsiRHEx-MbzwfinE7LFk,1509231217)', 'companyName': 'Microsoft', 'timePeriod': {'endDate': {'month': 8, 'year': 2018}, 'startDate': {'month': 6, 'year': 2018}}, 'description': 'Developed column level database encryption for Azure Data Warehouse.', 'company': {'employeeCountRange': {'start': 10001}, 'industries': ['Computer Software']}, 'title': 'Software Engineer Intern', 'companyUrn': 'urn:li:fs_miniCompany:1035', 'companyLogoUrl': 'https://media.licdn.com/dms/image/C4D0BAQEko6uLz7XylA/company-logo_'}, {'entityUrn': 'urn:li:fs_position:(ACoAABdpugABs3xv2qMtsiRHEx-MbzwfinE7LFk,1509229879)', 'companyName': 'University of California San Diego', 'timePeriod': {'endDate': {'month': 6, 'year': 2018}, 'startDate': {'month': 1, 'year': 2018}}, 'description': 'Implemented fast perceptron-based learning for robot collision detection.', 'company': {'employeeCountRange': {'start': 10001}, 'industries': ['Higher Education']}, 'title': 'Undergraduate Researcher', 'companyUrn': 'urn:li:fs_miniCompany:3382', 'companyLogoUrl': 'https://media.licdn.com/dms/image/C560BAQHQYa-3EY_aaQ/company-logo_'}, {'entityUrn': 'urn:li:fs_position:(ACoAABdpugABs3xv2qMtsiRHEx-MbzwfinE7LFk,1509230314)', 'companyName': 'Amazon', 'timePeriod': {'endDate': {'month': 8, 'year': 2017}, 'startDate': {'month': 6, 'year': 2017}}, 'description': 'Saved engineers 4+ hours per RCA during DevOps by building a log search tool.', 'company': {'employeeCountRange': {'start': 10001}, 'industries': ['Internet']}, 'title': 'Software Engineer Intern', 'companyUrn': 'urn:li:fs_miniCompany:1586', 'companyLogoUrl': 'https://media.licdn.com/dms/image/C560BAQFdwVGpSOHmgw/company-logo_'}, {'entityUrn': 'urn:li:fs_position:(ACoAABdpugABs3xv2qMtsiRHEx-MbzwfinE7LFk,1509229901)', 'companyName': 'University of California San Diego', 'timePeriod': {'endDate': {'month': 3, 'year': 2017}, 'startDate': {'month': 1, 'year': 2017}}, 'description': 'Tutored object-oriented programming (CSE11) for Prof. Joe Politz.', 'company': {'employeeCountRange': {'start': 10001}, 'industries': ['Higher Education']}, 'title': 'Computer Science Tutor', 'companyUrn': 'urn:li:fs_miniCompany:3382', 'companyLogoUrl': 'https://media.licdn.com/dms/image/C560BAQHQYa-3EY_aaQ/company-logo_'}], 'skills': [], 'education': [{'entityUrn': 'urn:li:fs_education:(ACoAABdpugABs3xv2qMtsiRHEx-MbzwfinE7LFk,611188855)', 'school': {'objectUrn': 'urn:li:school:17954', 'entityUrn': 'urn:li:fs_miniSchool:17954', 'active': True, 'schoolName': 'University of California San Diego', 'trackingId': '949EnngWRg6mZLh0pJjsbg==', 'logoUrl': 'https://media.licdn.com/dms/image/C560BAQHQYa-3EY_aaQ/company-logo_'}, 'timePeriod': {'endDate': {'year': 2018}, 'startDate': {'year': 2014}}, 'degreeName': 'Bachelor of Science - BS', 'schoolName': 'University of California San Diego', 'fieldOfStudy': 'Computer Engineering', 'degreeUrn': 'urn:li:fs_degree:400', 'schoolUrn': 'urn:li:fs_miniSchool:17954'}]}\n",
      "\n",
      "\n",
      "\n",
      "\n",
      "geoloc\n",
      "{'summary': 'My Personal Website - https://jiapingl.github.io/', 'industryName': 'Internet', 'lastName': 'Luo', 'locationName': 'United States', 'student': False, 'geoCountryName': 'United States', 'geoCountryUrn': 'urn:li:fs_geo:103644278', 'geoLocationBackfilled': True, 'elt': False, 'industryUrn': 'urn:li:fs_industry:6', 'firstName': 'Jiaping', 'entityUrn': 'urn:li:fs_profile:ACoAACQ1nP0BkJ3kLY11967mgGmmABywp8913LI', 'geoLocation': {'geoUrn': 'urn:li:fs_geo:103644278'}, 'location': {'basicLocation': {'countryCode': 'us'}}, 'headline': 'Software Engineer at Facebook', 'displayPictureUrl': 'https://media.licdn.com/dms/image/C5603AQGXYHh05WGraA/profile-displayphoto-shrink_', 'profile_id': 'ACoAACQ1nP0BkJ3kLY11967mgGmmABywp8913LI', 'experience': [{'locationName': 'Menlo Park, California', 'entityUrn': 'urn:li:fs_position:(ACoAACQ1nP0BkJ3kLY11967mgGmmABywp8913LI,1474155603)', 'geoLocationName': 'Menlo Park, California', 'companyName': 'Facebook', 'timePeriod': {'startDate': {'month': 6, 'year': 2019}}, 'company': {'employeeCountRange': {'start': 10001}, 'industries': ['Internet']}, 'title': 'Software Engineer', 'companyUrn': 'urn:li:fs_miniCompany:10667', 'companyLogoUrl': 'https://media.licdn.com/dms/image/C560BAQFjQHzcZz7J6g/company-logo_'}, {'locationName': 'Greater San Diego Area', 'entityUrn': 'urn:li:fs_position:(ACoAACQ1nP0BkJ3kLY11967mgGmmABywp8913LI,1373061865)', 'geoLocationName': 'Greater San Diego Area', 'geoUrn': 'urn:li:fs_geo:100737633', 'companyName': 'San Diego Supercomputer Center', 'timePeriod': {'endDate': {'month': 3, 'year': 2019}, 'startDate': {'month': 10, 'year': 2018}}, 'description': '•  Worked at Visualization Group to develop custom modules for SeedMe2 project.\\n•  Developed a Cookie/Session based authentication module with external gateways to allow seamless data sharing.\\n•  Built an activity stream system to log messages automatically using hooks on per-user data subscription.\\n•  Increased 80% of monthly active users by extending invitations to non-site users using Ajax and mail service.\\n•  Performed Unit test on developed module using Drupal testing framework on recurring basis.', 'company': {'employeeCountRange': {'start': 201, 'end': 500}, 'industries': ['Information Technology and Services']}, 'title': 'Software Engineer Intern', 'region': 'urn:li:fs_region:(us,732)', 'companyUrn': 'urn:li:fs_miniCompany:10843', 'companyLogoUrl': 'https://media.licdn.com/dms/image/C560BAQELHgCB8o5tSA/company-logo_'}, {'locationName': 'Greater Los Angeles Area', 'entityUrn': 'urn:li:fs_position:(ACoAACQ1nP0BkJ3kLY11967mgGmmABywp8913LI,1373062760)', 'geoLocationName': 'Greater Los Angeles Area', 'geoUrn': 'urn:li:fs_geo:90000049', 'companyName': 'Endorsify', 'timePeriod': {'endDate': {'month': 9, 'year': 2018}, 'startDate': {'month': 7, 'year': 2018}}, 'description': '•  Developed reusable modules for influencer profile screen with React Native.\\n•  Implemented HTTP requests to back-end RESTful APIs and managed application state by Redux, greatly reduced application latency when presenting and manipulating large datasets.\\n•  Implemented user authentication using Laravel Passport guard with OAuth2 server implementation.\\n•  Architected instagram API integration into machine learning framework to synchronize influencer profile, allowing seamless update of data for application use.\\n•  Built responsive and interactive influencer statistics visualization with highchart.js.\\n•  Scheduled periodic laraval command cronjobs and queue jobs on AWS worker environment with Amazon SQS and daemon process that decreases 91\\\\% average latency in milliseconds.\\n•  Configured inbound and outbound traffic securely with VPC and bastion server, setting up staging server with load balancer and ElasticSearch for heavy HTTPS traffic and application use.', 'company': {'employeeCountRange': {'start': 2, 'end': 10}, 'industries': ['Marketing and Advertising']}, 'title': 'Software Engineer Intern', 'region': 'urn:li:fs_region:(us,49)', 'companyUrn': 'urn:li:fs_miniCompany:10906923', 'companyLogoUrl': 'https://media.licdn.com/dms/image/C560BAQGmQYoInVvxSQ/company-logo_'}], 'skills': [{'name': 'JavaScript'}, {'name': 'PHP'}, {'name': 'React.js'}, {'name': 'MongoDB'}, {'name': 'PostgreSQL'}, {'name': 'MySQL'}, {'name': 'Bootstrap'}, {'name': 'HTML5'}, {'name': 'CSS'}, {'name': 'Node.js'}, {'name': 'Git'}, {'name': 'Github'}, {'name': 'SQL'}, {'name': 'Redux.js'}, {'name': 'Express.js'}, {'name': 'Secure Shell (SSH)'}, {'name': 'Python (Programming Language)'}], 'education': [{'entityUrn': 'urn:li:fs_education:(ACoAACQ1nP0BkJ3kLY11967mgGmmABywp8913LI,463165424)', 'school': {'objectUrn': 'urn:li:school:17954', 'entityUrn': 'urn:li:fs_miniSchool:17954', 'active': True, 'schoolName': 'University of California San Diego', 'trackingId': 'ViUqfj+/S52VZipQ/xD5Mg==', 'logoUrl': 'https://media.licdn.com/dms/image/C560BAQHQYa-3EY_aaQ/company-logo_'}, 'timePeriod': {'endDate': {'year': 2019}, 'startDate': {'year': 2017}}, 'fieldOfStudyUrn': 'urn:li:fs_fieldOfStudy:100189', 'degreeName': \"Master's degree\", 'schoolName': 'University of California San Diego', 'fieldOfStudy': 'Computer Science', 'degreeUrn': 'urn:li:fs_degree:500', 'schoolUrn': 'urn:li:fs_miniSchool:17954'}, {'entityUrn': 'urn:li:fs_education:(ACoAACQ1nP0BkJ3kLY11967mgGmmABywp8913LI,463166589)', 'school': {'objectUrn': 'urn:li:school:11399', 'entityUrn': 'urn:li:fs_miniSchool:11399', 'active': True, 'schoolName': 'University of Electronic Science and Technology of China', 'trackingId': 'NZMUHu3tTzGgDDXWGdUGKw==', 'logoUrl': 'https://media.licdn.com/dms/image/C4D0BAQGLGzWGaWsaQQ/company-logo_'}, 'grade': '3.94/4.0', 'timePeriod': {'endDate': {'year': 2017}, 'startDate': {'year': 2013}}, 'fieldOfStudyUrn': 'urn:li:fs_fieldOfStudy:100351', 'degreeName': \"Bachelor's degree\", 'schoolName': 'University of Electronic Science and Technology of China', 'fieldOfStudy': 'Electrical and Electronics Engineering', 'honors': ['urn:li:fs_honor:(ACoAACQ1nP0BkJ3kLY11967mgGmmABywp8913LI,1040982888)', 'urn:li:fs_honor:(ACoAACQ1nP0BkJ3kLY11967mgGmmABywp8913LI,1041010382)'], 'degreeUrn': 'urn:li:fs_degree:200', 'schoolUrn': 'urn:li:fs_miniSchool:11399'}]}\n",
      "\n",
      "\n",
      "\n",
      "\n",
      "industry\n",
      "{'summary': 'Looking for Software Engineering (Front-end/Back-end) Summer Intern 2020', 'lastName': 'Xing', 'locationName': 'La Jolla, California', 'student': False, 'geoCountryName': 'United States', 'geoCountryUrn': 'urn:li:fs_geo:103644278', 'geoLocationBackfilled': True, 'elt': False, 'firstName': 'Yuchen', 'entityUrn': 'urn:li:fs_profile:ACoAAC15ZCsB4CohhX2Sg3bqR_a9x9cu34fqhrc', 'geoLocation': {'geoUrn': 'urn:li:fs_geo:100737633'}, 'geoLocationName': 'San Diego County, California', 'location': {'preferredGeoPlace': 'urn:li:fs_city:(us,7-1-0-37-24)', 'basicLocation': {'countryCode': 'us'}}, 'headline': 'M.S. in ECE, University of California, San Diego', 'displayPictureUrl': 'https://media.licdn.com/dms/image/C5603AQEbN6Lukl_h7g/profile-displayphoto-shrink_', 'profile_id': 'ACoAAC15ZCsB4CohhX2Sg3bqR_a9x9cu34fqhrc', 'experience': [{'locationName': 'Beijing, China', 'entityUrn': 'urn:li:fs_position:(ACoAAC15ZCsB4CohhX2Sg3bqR_a9x9cu34fqhrc,1517188020)', 'geoLocationName': 'Beijing, China', 'companyName': 'Aqrose', 'timePeriod': {'endDate': {'month': 9, 'year': 2018}, 'startDate': {'month': 6, 'year': 2018}}, 'company': {}, 'title': 'Software Engineer', 'companyUrn': 'urn:li:fs_miniCompany:27041851'}], 'skills': [{'name': 'JavaScript', 'standardizedSkillUrn': 'urn:li:fs_miniSkill:218', 'standardizedSkill': {'name': 'JavaScript', 'entityUrn': 'urn:li:fs_miniSkill:218'}}, {'name': 'Java', 'standardizedSkillUrn': 'urn:li:fs_miniSkill:147', 'standardizedSkill': {'name': 'Java', 'entityUrn': 'urn:li:fs_miniSkill:147'}}, {'name': 'c++'}, {'name': 'C'}, {'name': 'HTML'}, {'name': 'CSS'}, {'name': 'MATLAB', 'standardizedSkillUrn': 'urn:li:fs_miniSkill:1442', 'standardizedSkill': {'name': 'Matlab', 'entityUrn': 'urn:li:fs_miniSkill:1442'}}, {'name': 'Python', 'standardizedSkillUrn': 'urn:li:fs_miniSkill:1346', 'standardizedSkill': {'name': 'Python (Programming Language)', 'entityUrn': 'urn:li:fs_miniSkill:1346'}}, {'name': 'Git'}, {'name': 'Node.js', 'standardizedSkillUrn': 'urn:li:fs_miniSkill:18276', 'standardizedSkill': {'name': 'Node.js', 'entityUrn': 'urn:li:fs_miniSkill:18276'}}, {'name': 'React.js', 'standardizedSkillUrn': 'urn:li:fs_miniSkill:55007', 'standardizedSkill': {'name': 'React.js', 'entityUrn': 'urn:li:fs_miniSkill:55007'}}, {'name': 'MongoDB', 'standardizedSkillUrn': 'urn:li:fs_miniSkill:18235', 'standardizedSkill': {'name': 'MongoDB', 'entityUrn': 'urn:li:fs_miniSkill:18235'}}, {'name': 'Bootstrap', 'standardizedSkillUrn': 'urn:li:fs_miniSkill:50099', 'standardizedSkill': {'name': 'Bootstrap', 'entityUrn': 'urn:li:fs_miniSkill:50099'}}, {'name': 'Linux', 'standardizedSkillUrn': 'urn:li:fs_miniSkill:301', 'standardizedSkill': {'name': 'Linux', 'entityUrn': 'urn:li:fs_miniSkill:301'}}, {'name': 'MySQL'}], 'education': [{'entityUrn': 'urn:li:fs_education:(ACoAAC15ZCsB4CohhX2Sg3bqR_a9x9cu34fqhrc,613789228)', 'school': {'objectUrn': 'urn:li:school:17954', 'entityUrn': 'urn:li:fs_miniSchool:17954', 'active': True, 'schoolName': 'University of California San Diego', 'trackingId': '1HmUCes5SoqJrp43ap6swA==', 'logoUrl': 'https://media.licdn.com/dms/image/C560BAQHQYa-3EY_aaQ/company-logo_'}, 'timePeriod': {'endDate': {'year': 2021}, 'startDate': {'year': 2019}}, 'degreeName': 'Master of Science - MS', 'schoolName': '美国加州大学圣迭戈分校', 'fieldOfStudy': 'Electrical and Computer Engineering', 'degreeUrn': 'urn:li:fs_degree:626', 'schoolUrn': 'urn:li:fs_miniSchool:17954'}, {'entityUrn': 'urn:li:fs_education:(ACoAAC15ZCsB4CohhX2Sg3bqR_a9x9cu34fqhrc,613789284)', 'school': {'objectUrn': 'urn:li:school:11398', 'entityUrn': 'urn:li:fs_miniSchool:11398', 'active': True, 'schoolName': 'Tsinghua University', 'trackingId': 'uIi6PutUQxyLuSAkiqr0Dg==', 'logoUrl': 'https://media.licdn.com/dms/image/C4D0BAQFJU3_2fIeNWw/company-logo_'}, 'timePeriod': {'endDate': {'year': 2019}, 'startDate': {'year': 2015}}, 'degreeName': '学士', 'schoolName': '清华大学', 'fieldOfStudy': '自动化', 'degreeUrn': 'urn:li:fs_degree:200', 'schoolUrn': 'urn:li:fs_miniSchool:11398'}]}\n",
      "\n",
      "\n",
      "\n",
      "\n",
      "geoloc\n",
      "{'industryName': 'Information Technology & Services', 'lastName': 'Liu', 'locationName': 'United States', 'student': False, 'geoCountryName': 'United States', 'geoCountryUrn': 'urn:li:fs_geo:103644278', 'geoLocationBackfilled': True, 'elt': False, 'industryUrn': 'urn:li:fs_industry:96', 'firstName': 'Alfred', 'entityUrn': 'urn:li:fs_profile:ACoAABMi5NAB5kO5qqJr9Su0tx7i9kEpN9IpoWs', 'geoLocation': {'geoUrn': 'urn:li:fs_geo:90000049'}, 'geoLocationName': 'Los Angeles Metropolitan Area', 'location': {'basicLocation': {'countryCode': 'us'}}, 'headline': '--', 'profile_id': 'ACoAABMi5NAB5kO5qqJr9Su0tx7i9kEpN9IpoWs', 'experience': [{'locationName': 'United States', 'entityUrn': 'urn:li:fs_position:(ACoAABMi5NAB5kO5qqJr9Su0tx7i9kEpN9IpoWs,1392475836)', 'geoLocationName': 'United States', 'geoUrn': 'urn:li:fs_geo:103644278', 'companyName': 'Self-employed', 'timePeriod': {'startDate': {'year': 2017}}, 'title': 'Entrepreneur', 'region': 'urn:li:fs_region:(us,0)'}], 'skills': [{'name': 'Microsoft Office'}, {'name': 'Management'}, {'name': 'Microsoft Excel'}, {'name': 'Research'}, {'name': 'Sales'}, {'name': 'Process Improvement'}, {'name': 'Recruiting'}, {'name': 'Marketing'}, {'name': 'Event Planning'}, {'name': 'Project Management'}, {'name': 'Strategic Planning'}, {'name': 'Microsoft Word'}, {'name': 'PowerPoint'}, {'name': 'Photoshop'}, {'name': 'Windows'}, {'name': 'Outlook'}, {'name': 'HTML'}, {'name': 'Leadership'}, {'name': 'Training'}, {'name': 'English'}, {'name': 'Mandarin'}], 'education': [{'entityUrn': 'urn:li:fs_education:(ACoAABMi5NAB5kO5qqJr9Su0tx7i9kEpN9IpoWs,565702661)', 'school': {'objectUrn': 'urn:li:school:17954', 'entityUrn': 'urn:li:fs_miniSchool:17954', 'active': True, 'schoolName': 'University of California San Diego', 'trackingId': 'Z5Gwj9IXTWy7FwRhZBV0Eg==', 'logoUrl': 'https://media.licdn.com/dms/image/C560BAQHQYa-3EY_aaQ/company-logo_'}, 'degreeName': \"Bachelor's degree\", 'schoolName': 'University of California San Diego', 'fieldOfStudy': 'Economics with a minor in Business', 'schoolUrn': 'urn:li:fs_miniSchool:17954'}]}\n",
      "\n",
      "\n",
      "\n",
      "\n",
      "geoloc\n",
      "{'summary': 'Seize the day.', 'industryName': 'Computer Software', 'lastName': 'L.', 'locationName': 'United States', 'student': False, 'geoCountryName': 'United States', 'geoCountryUrn': 'urn:li:fs_geo:103644278', 'geoLocationBackfilled': True, 'elt': False, 'industryUrn': 'urn:li:fs_industry:4', 'firstName': 'Jian', 'entityUrn': 'urn:li:fs_profile:ACoAAB1qqSkBU1BRNsEDcCez2JpDMePGHmiUfTI', 'geoLocation': {'geoUrn': 'urn:li:fs_geo:90000084'}, 'geoLocationName': 'San Francisco Bay Area', 'location': {'basicLocation': {'countryCode': 'us'}}, 'headline': 'Software Engineer at LinkedIn', 'displayPictureUrl': 'https://media.licdn.com/dms/image/C5603AQFhjjnCQuoBCA/profile-displayphoto-shrink_', 'profile_id': 'ACoAAB1qqSkBU1BRNsEDcCez2JpDMePGHmiUfTI', 'experience': [{'locationName': 'San Francisco Bay Area', 'entityUrn': 'urn:li:fs_position:(ACoAAB1qqSkBU1BRNsEDcCez2JpDMePGHmiUfTI,1236845479)', 'geoLocationName': 'San Francisco Bay Area', 'geoUrn': 'urn:li:fs_geo:90000084', 'companyName': 'LinkedIn', 'timePeriod': {'startDate': {'month': 3, 'year': 2018}}, 'description': 'Content Platform', 'company': {'employeeCountRange': {'start': 10001}, 'industries': ['Internet']}, 'title': 'Software Engineer', 'region': 'urn:li:fs_region:(us,84)', 'companyUrn': 'urn:li:fs_miniCompany:1337', 'companyLogoUrl': 'https://media.licdn.com/dms/image/C4E0BAQGBBp0LaObq0A/company-logo_'}, {'locationName': 'San Francisco Bay Area', 'entityUrn': 'urn:li:fs_position:(ACoAAB1qqSkBU1BRNsEDcCez2JpDMePGHmiUfTI,1024419291)', 'geoLocationName': 'San Francisco Bay Area', 'geoUrn': 'urn:li:fs_geo:90000084', 'companyName': 'LinkedIn', 'timePeriod': {'endDate': {'month': 9, 'year': 2017}, 'startDate': {'month': 6, 'year': 2017}}, 'company': {'employeeCountRange': {'start': 10001}, 'industries': ['Internet']}, 'title': 'Software Engineer Intern', 'region': 'urn:li:fs_region:(us,84)', 'companyUrn': 'urn:li:fs_miniCompany:1337', 'companyLogoUrl': 'https://media.licdn.com/dms/image/C4E0BAQGBBp0LaObq0A/company-logo_'}, {'locationName': 'Beijing City, China', 'entityUrn': 'urn:li:fs_position:(ACoAAB1qqSkBU1BRNsEDcCez2JpDMePGHmiUfTI,790499047)', 'geoLocationName': 'Beijing City, China', 'geoUrn': 'urn:li:fs_geo:103873152', 'companyName': 'IBM Research - China', 'timePeriod': {'endDate': {'month': 10, 'year': 2015}, 'startDate': {'month': 7, 'year': 2015}}, 'company': {'employeeCountRange': {'start': 10001}, 'industries': ['Information Technology and Services']}, 'title': 'Software Engineer Intern', 'region': 'urn:li:fs_region:(cn,8911)', 'companyUrn': 'urn:li:fs_miniCompany:1009', 'companyLogoUrl': 'https://media.licdn.com/dms/image/C4E0BAQHwshdBT8KsmA/company-logo_'}], 'skills': [{'name': 'Java', 'standardizedSkillUrn': 'urn:li:fs_miniSkill:147', 'standardizedSkill': {'name': 'Java', 'entityUrn': 'urn:li:fs_miniSkill:147'}}, {'name': 'Python', 'standardizedSkillUrn': 'urn:li:fs_miniSkill:1346', 'standardizedSkill': {'name': 'Python (Programming Language)', 'entityUrn': 'urn:li:fs_miniSkill:1346'}}, {'name': 'C++', 'standardizedSkillUrn': 'urn:li:fs_miniSkill:198', 'standardizedSkill': {'name': 'C++', 'entityUrn': 'urn:li:fs_miniSkill:198'}}, {'name': 'Machine Learning', 'standardizedSkillUrn': 'urn:li:fs_miniSkill:3289', 'standardizedSkill': {'name': 'Machine Learning', 'entityUrn': 'urn:li:fs_miniSkill:3289'}}, {'name': 'Distributed Systems', 'standardizedSkillUrn': 'urn:li:fs_miniSkill:1136', 'standardizedSkill': {'name': 'Distributed Systems', 'entityUrn': 'urn:li:fs_miniSkill:1136'}}, {'name': 'Matlab'}, {'name': 'SQL'}, {'name': 'Yii'}, {'name': 'Django'}, {'name': 'Espresso'}, {'name': 'Apache Kafka'}, {'name': 'Apache Spark'}, {'name': 'RESTful WebServices'}, {'name': 'OpenGL'}, {'name': 'Linux'}], 'education': [{'entityUrn': 'urn:li:fs_education:(ACoAAB1qqSkBU1BRNsEDcCez2JpDMePGHmiUfTI,343095310)', 'school': {'objectUrn': 'urn:li:school:17954', 'entityUrn': 'urn:li:fs_miniSchool:17954', 'active': True, 'schoolName': 'University of California San Diego', 'trackingId': 'Qd27QAfxSH6KpZ699vxDVA==', 'logoUrl': 'https://media.licdn.com/dms/image/C560BAQHQYa-3EY_aaQ/company-logo_'}, 'timePeriod': {'endDate': {'year': 2018}, 'startDate': {'year': 2016}}, 'degreeName': 'Master’s Degree', 'schoolName': 'University of California, San Diego', 'fieldOfStudy': 'Computer Science', 'schoolUrn': 'urn:li:fs_miniSchool:17954'}, {'entityUrn': 'urn:li:fs_education:(ACoAAB1qqSkBU1BRNsEDcCez2JpDMePGHmiUfTI,585803266)', 'school': {'objectUrn': 'urn:li:school:11253', 'entityUrn': 'urn:li:fs_miniSchool:11253', 'active': True, 'schoolName': 'Nanjing University', 'trackingId': 'jf8btsEKQOmKShdLoLY4Bw==', 'logoUrl': 'https://media.licdn.com/dms/image/C4D0BAQGsoyqBOckyJQ/company-logo_'}, 'timePeriod': {'endDate': {'year': 2016}, 'startDate': {'year': 2012}}, 'fieldOfStudyUrn': 'urn:li:fs_fieldOfStudy:100349', 'degreeName': \"Bachelor's degree\", 'schoolName': 'Nanjing University', 'fieldOfStudy': 'Computer Software Engineering', 'degreeUrn': 'urn:li:fs_degree:200', 'schoolUrn': 'urn:li:fs_miniSchool:11253'}, {'entityUrn': 'urn:li:fs_education:(ACoAAB1qqSkBU1BRNsEDcCez2JpDMePGHmiUfTI,591524102)', 'school': {'objectUrn': 'urn:li:school:5089023', 'entityUrn': 'urn:li:fs_miniSchool:5089023', 'active': True, 'schoolName': 'Ningbo Xiaoshi High School', 'trackingId': 'WHtFfWN+Sc+bfELSPUW2Cg==', 'logoUrl': 'https://media.licdn.com/dms/image/C4E0BAQF25Ie9XDVEpw/company-logo_'}, 'timePeriod': {'endDate': {'year': 2012}, 'startDate': {'year': 2009}}, 'degreeName': 'High School Diploma', 'schoolName': 'Ningbo Xiaoshi High School', 'degreeUrn': 'urn:li:fs_degree:10', 'schoolUrn': 'urn:li:fs_miniSchool:5089023'}]}\n",
      "\n",
      "\n",
      "\n",
      "\n",
      "geoloc\n",
      "{'industryName': 'Internet', 'lastName': 'Huang', 'locationName': 'United States', 'student': False, 'geoCountryName': 'United States', 'geoCountryUrn': 'urn:li:fs_geo:103644278', 'geoLocationBackfilled': True, 'elt': False, 'industryUrn': 'urn:li:fs_industry:6', 'firstName': 'Di', 'entityUrn': 'urn:li:fs_profile:ACoAABRFWNsBBWVzUwmhpZTigcHETBZ1WfeR9cQ', 'geoLocation': {'geoUrn': 'urn:li:fs_geo:103644278'}, 'location': {'basicLocation': {'countryCode': 'us'}}, 'headline': 'Software Engineer at Google', 'profile_id': 'ACoAABRFWNsBBWVzUwmhpZTigcHETBZ1WfeR9cQ', 'experience': [{'locationName': 'Sunnyvale, California', 'entityUrn': 'urn:li:fs_position:(ACoAABRFWNsBBWVzUwmhpZTigcHETBZ1WfeR9cQ,1327051917)', 'geoLocationName': 'Sunnyvale, California', 'companyName': 'Google', 'timePeriod': {'startDate': {'month': 3, 'year': 2017}}, 'company': {'employeeCountRange': {'start': 10001}, 'industries': ['Internet']}, 'title': 'Software Engineer', 'companyUrn': 'urn:li:fs_miniCompany:1441', 'companyLogoUrl': 'https://media.licdn.com/dms/image/C4D0BAQHiNSL4Or29cg/company-logo_'}, {'locationName': 'San Diego, California', 'entityUrn': 'urn:li:fs_position:(ACoAABRFWNsBBWVzUwmhpZTigcHETBZ1WfeR9cQ,1327051835)', 'geoLocationName': 'San Diego, California', 'companyName': 'TuSimple', 'timePeriod': {'endDate': {'month': 1, 'year': 2017}, 'startDate': {'month': 11, 'year': 2016}}, 'company': {'employeeCountRange': {'start': 201, 'end': 500}, 'industries': ['Computer Software']}, 'title': 'Software Engineer Intern', 'companyUrn': 'urn:li:fs_miniCompany:10693191', 'companyLogoUrl': 'https://media.licdn.com/dms/image/C560BAQHSiBcbj6ZW0A/company-logo_'}, {'locationName': 'San Francisco Bay Area', 'entityUrn': 'urn:li:fs_position:(ACoAABRFWNsBBWVzUwmhpZTigcHETBZ1WfeR9cQ,1327050719)', 'geoLocationName': 'San Francisco Bay Area', 'companyName': 'Amazon', 'timePeriod': {'endDate': {'month': 9, 'year': 2016}, 'startDate': {'month': 6, 'year': 2016}}, 'company': {'employeeCountRange': {'start': 10001}, 'industries': ['Internet']}, 'title': 'Software Engineer Intern', 'companyUrn': 'urn:li:fs_miniCompany:1586', 'companyLogoUrl': 'https://media.licdn.com/dms/image/C560BAQFdwVGpSOHmgw/company-logo_'}, {'locationName': 'San Diego, California', 'entityUrn': 'urn:li:fs_position:(ACoAABRFWNsBBWVzUwmhpZTigcHETBZ1WfeR9cQ,1327051734)', 'geoLocationName': 'San Diego, California', 'companyName': 'TuSimple', 'timePeriod': {'endDate': {'month': 5, 'year': 2016}, 'startDate': {'month': 12, 'year': 2015}}, 'company': {'employeeCountRange': {'start': 201, 'end': 500}, 'industries': ['Computer Software']}, 'title': 'Software Engineer Intern', 'companyUrn': 'urn:li:fs_miniCompany:10693191', 'companyLogoUrl': 'https://media.licdn.com/dms/image/C560BAQHSiBcbj6ZW0A/company-logo_'}, {'locationName': 'Hong Kong', 'projects': ['urn:li:fs_project:(ACoAABRFWNsBBWVzUwmhpZTigcHETBZ1WfeR9cQ,296370937)'], 'geoUrn': 'urn:li:fs_geo:103291313', 'companyName': 'HKUST', 'description': '· Designed and implemented a computation offloading system for wearable devices with Java\\n· Designed and implemented a hybrid computation offloading system with Android and Java\\n· Built a kernel regression based link prediction model and implemented it with Java and MySql', 'title': 'Research Assistant', 'companyUrn': 'urn:li:fs_miniCompany:11966', 'entityUrn': 'urn:li:fs_position:(ACoAABRFWNsBBWVzUwmhpZTigcHETBZ1WfeR9cQ,714776177)', 'geoLocationName': 'Hong Kong', 'timePeriod': {'endDate': {'month': 5, 'year': 2015}, 'startDate': {'month': 7, 'year': 2014}}, 'company': {'employeeCountRange': {'start': 1001, 'end': 5000}, 'industries': ['Higher Education']}, 'region': 'urn:li:fs_region:(hk,0)', 'companyLogoUrl': 'https://media.licdn.com/dms/image/C560BAQF8dPwt6VOtGw/company-logo_'}], 'skills': [{'name': 'Python'}, {'name': 'C++'}, {'name': 'Cloud Computing'}, {'name': 'Hadoop'}, {'name': 'Apache Spark'}, {'name': 'HBase'}, {'name': 'Android Development'}, {'name': 'Programming'}, {'name': 'Haskell'}, {'name': 'Java'}, {'name': 'LaTeX'}, {'name': 'Matlab'}, {'name': 'JavaScript'}, {'name': 'Microsoft Office'}, {'name': 'Machine Learning'}, {'name': 'C'}, {'name': 'Linux'}, {'name': 'Algorithms'}, {'name': 'Big Data'}, {'name': 'MySQL'}], 'education': [{'entityUrn': 'urn:li:fs_education:(ACoAABRFWNsBBWVzUwmhpZTigcHETBZ1WfeR9cQ,538809769)', 'school': {'objectUrn': 'urn:li:school:17954', 'entityUrn': 'urn:li:fs_miniSchool:17954', 'active': True, 'schoolName': 'University of California San Diego', 'trackingId': 'bUUK6kNUTOmqccvARjkUnA==', 'logoUrl': 'https://media.licdn.com/dms/image/C560BAQHQYa-3EY_aaQ/company-logo_'}, 'timePeriod': {'endDate': {'year': 2017}, 'startDate': {'year': 2016}}, 'fieldOfStudyUrn': 'urn:li:fs_fieldOfStudy:100189', 'degreeName': 'Master of Science - MS', 'schoolName': 'University of California San Diego', 'fieldOfStudy': 'Computer Science', 'degreeUrn': 'urn:li:fs_degree:626', 'schoolUrn': 'urn:li:fs_miniSchool:17954'}, {'courses': ['urn:li:fs_course:(ACoAABRFWNsBBWVzUwmhpZTigcHETBZ1WfeR9cQ,1740096067)', 'urn:li:fs_course:(ACoAABRFWNsBBWVzUwmhpZTigcHETBZ1WfeR9cQ,1740096068)', 'urn:li:fs_course:(ACoAABRFWNsBBWVzUwmhpZTigcHETBZ1WfeR9cQ,1740096069)', 'urn:li:fs_course:(ACoAABRFWNsBBWVzUwmhpZTigcHETBZ1WfeR9cQ,1740096070)', 'urn:li:fs_course:(ACoAABRFWNsBBWVzUwmhpZTigcHETBZ1WfeR9cQ,1740096071)', 'urn:li:fs_course:(ACoAABRFWNsBBWVzUwmhpZTigcHETBZ1WfeR9cQ,1740096072)', 'urn:li:fs_course:(ACoAABRFWNsBBWVzUwmhpZTigcHETBZ1WfeR9cQ,1740096073)', 'urn:li:fs_course:(ACoAABRFWNsBBWVzUwmhpZTigcHETBZ1WfeR9cQ,1740096074)'], 'entityUrn': 'urn:li:fs_education:(ACoAABRFWNsBBWVzUwmhpZTigcHETBZ1WfeR9cQ,269591492)', 'school': {'objectUrn': 'urn:li:school:11363', 'entityUrn': 'urn:li:fs_miniSchool:11363', 'active': True, 'schoolName': 'Southeast University', 'trackingId': 'WwaZUzM8RFWOkvZaS30vxA==', 'logoUrl': 'https://media.licdn.com/dms/image/C4E0BAQFTFrmiX5-uOQ/company-logo_'}, 'grade': '4', 'timePeriod': {'endDate': {'year': 2014}, 'startDate': {'year': 2010}}, 'degreeName': \"Bachelor's degree\", 'schoolName': 'Southeast University', 'fieldOfStudy': 'Computer Software Engineering', 'honors': ['urn:li:fs_honor:(ACoAABRFWNsBBWVzUwmhpZTigcHETBZ1WfeR9cQ,295742587)', 'urn:li:fs_honor:(ACoAABRFWNsBBWVzUwmhpZTigcHETBZ1WfeR9cQ,296484851)'], 'schoolUrn': 'urn:li:fs_miniSchool:11363'}]}\n",
      "\n",
      "\n",
      "\n",
      "\n",
      "geoloc\n",
      "{'summary': 'If you are interested in position in Google, please send your resume to me(weiweichenxie@gmail.com)', 'industryName': 'Computer Software', 'lastName': 'Xie', 'locationName': 'United States', 'student': False, 'geoCountryName': 'United States', 'geoCountryUrn': 'urn:li:fs_geo:103644278', 'geoLocationBackfilled': True, 'elt': False, 'industryUrn': 'urn:li:fs_industry:4', 'firstName': 'Chenwei', 'entityUrn': 'urn:li:fs_profile:ACoAABQ36o4BotyFSnXxp3a2SDt1zOOgHVL87rE', 'geoLocation': {'geoUrn': 'urn:li:fs_geo:90000091'}, 'geoLocationName': 'Greater Seattle Area', 'location': {'basicLocation': {'countryCode': 'us'}}, 'headline': 'Software Engineer at Google(We are hiring)', 'profile_id': 'ACoAABQ36o4BotyFSnXxp3a2SDt1zOOgHVL87rE', 'experience': [{'locationName': 'Kirkland, Washington', 'entityUrn': 'urn:li:fs_position:(ACoAABQ36o4BotyFSnXxp3a2SDt1zOOgHVL87rE,1400777360)', 'geoLocationName': 'Kirkland, Washington', 'companyName': 'Google', 'timePeriod': {'startDate': {'month': 12, 'year': 2018}}, 'description': '-Google Cloud Platform -- Cloud Asset Inventory\\n-https://cloud.google.com/resource-manager/docs/cloud-asset-inventory/overview', 'company': {'employeeCountRange': {'start': 10001}, 'industries': ['Internet']}, 'title': 'Software Engineer', 'companyUrn': 'urn:li:fs_miniCompany:1441', 'companyLogoUrl': 'https://media.licdn.com/dms/image/C4D0BAQHiNSL4Or29cg/company-logo_'}, {'locationName': 'Greater Los Angeles Area', 'entityUrn': 'urn:li:fs_position:(ACoAABQ36o4BotyFSnXxp3a2SDt1zOOgHVL87rE,1514434761)', 'geoLocationName': 'Greater Los Angeles Area', 'geoUrn': 'urn:li:fs_geo:90000049', 'companyName': 'Hulu', 'timePeriod': {'endDate': {'month': 12, 'year': 2018}, 'startDate': {'month': 6, 'year': 2018}}, 'company': {'employeeCountRange': {'start': 1001, 'end': 5000}, 'industries': ['Internet']}, 'title': 'Software Developer II', 'region': 'urn:li:fs_region:(us,49)', 'companyUrn': 'urn:li:fs_miniCompany:51941', 'companyLogoUrl': 'https://media.licdn.com/dms/image/C560BAQEeG6IY_9Qdgg/company-logo_'}, {'locationName': 'Greater Los Angeles Area', 'entityUrn': 'urn:li:fs_position:(ACoAABQ36o4BotyFSnXxp3a2SDt1zOOgHVL87rE,1367408208)', 'geoLocationName': 'Greater Los Angeles Area', 'geoUrn': 'urn:li:fs_geo:90000049', 'companyName': 'Hulu', 'timePeriod': {'endDate': {'month': 6, 'year': 2018}, 'startDate': {'month': 2, 'year': 2017}}, 'description': '-Work in content platform team.\\n-Build service to ingest Live TV metadata from our partner by using Django Framework.\\n-Build service to store/operate live TV metadata by using Spring boot.', 'company': {'employeeCountRange': {'start': 1001, 'end': 5000}, 'industries': ['Internet']}, 'title': 'Software Developer', 'region': 'urn:li:fs_region:(us,49)', 'companyUrn': 'urn:li:fs_miniCompany:51941', 'companyLogoUrl': 'https://media.licdn.com/dms/image/C560BAQEeG6IY_9Qdgg/company-logo_'}, {'locationName': 'Greater Los Angeles Area', 'entityUrn': 'urn:li:fs_position:(ACoAABQ36o4BotyFSnXxp3a2SDt1zOOgHVL87rE,1367407737)', 'geoLocationName': 'Greater Los Angeles Area', 'geoUrn': 'urn:li:fs_geo:90000049', 'companyName': 'Hulu', 'timePeriod': {'endDate': {'month': 8, 'year': 2016}, 'startDate': {'month': 6, 'year': 2016}}, 'description': 'A Great summer use Python and ReactJs as a FullStack Internship', 'company': {'employeeCountRange': {'start': 1001, 'end': 5000}, 'industries': ['Internet']}, 'title': 'Software Developer Internship', 'region': 'urn:li:fs_region:(us,49)', 'companyUrn': 'urn:li:fs_miniCompany:51941', 'companyLogoUrl': 'https://media.licdn.com/dms/image/C560BAQEeG6IY_9Qdgg/company-logo_'}, {'locationName': 'Greater San Diego Area', 'entityUrn': 'urn:li:fs_position:(ACoAABQ36o4BotyFSnXxp3a2SDt1zOOgHVL87rE,785028037)', 'geoLocationName': 'Greater San Diego Area', 'geoUrn': 'urn:li:fs_geo:100737633', 'companyName': 'University of California, San Diego', 'timePeriod': {'endDate': {'month': 6, 'year': 2016}, 'startDate': {'month': 3, 'year': 2016}}, 'description': '-Develop algorithms for privacy-preserving biomedical data analysis on Intel SGX.\\n-Develop an in-memory-database query system to accelerate query of health dataset by Apache Geode and Shiny framework.', 'company': {'employeeCountRange': {'start': 10001}, 'industries': ['Higher Education']}, 'title': 'Student Programmer', 'region': 'urn:li:fs_region:(us,732)', 'companyUrn': 'urn:li:fs_miniCompany:3382', 'companyLogoUrl': 'https://media.licdn.com/dms/image/C560BAQHQYa-3EY_aaQ/company-logo_'}], 'skills': [{'name': 'Python'}, {'name': 'Java'}, {'name': 'C++'}, {'name': 'C'}, {'name': 'Linux'}, {'name': 'Algorithms'}, {'name': 'JavaScript'}, {'name': 'Programming'}, {'name': 'HTML'}, {'name': 'SQL'}, {'name': 'Data Visualization'}, {'name': 'Machine Learning'}, {'name': 'LaTeX'}, {'name': 'Computer Science'}, {'name': 'PHP'}, {'name': 'R'}, {'name': 'React.js'}, {'name': 'Swift'}], 'education': [{'courses': ['urn:li:fs_course:(ACoAABQ36o4BotyFSnXxp3a2SDt1zOOgHVL87rE,1)', 'urn:li:fs_course:(ACoAABQ36o4BotyFSnXxp3a2SDt1zOOgHVL87rE,2)', 'urn:li:fs_course:(ACoAABQ36o4BotyFSnXxp3a2SDt1zOOgHVL87rE,3)', 'urn:li:fs_course:(ACoAABQ36o4BotyFSnXxp3a2SDt1zOOgHVL87rE,15)', 'urn:li:fs_course:(ACoAABQ36o4BotyFSnXxp3a2SDt1zOOgHVL87rE,16)', 'urn:li:fs_course:(ACoAABQ36o4BotyFSnXxp3a2SDt1zOOgHVL87rE,17)', 'urn:li:fs_course:(ACoAABQ36o4BotyFSnXxp3a2SDt1zOOgHVL87rE,18)', 'urn:li:fs_course:(ACoAABQ36o4BotyFSnXxp3a2SDt1zOOgHVL87rE,19)'], 'projects': ['urn:li:fs_project:(ACoAABQ36o4BotyFSnXxp3a2SDt1zOOgHVL87rE,414303748)', 'urn:li:fs_project:(ACoAABQ36o4BotyFSnXxp3a2SDt1zOOgHVL87rE,920008475)'], 'entityUrn': 'urn:li:fs_education:(ACoAABQ36o4BotyFSnXxp3a2SDt1zOOgHVL87rE,300299097)', 'school': {'objectUrn': 'urn:li:school:17954', 'entityUrn': 'urn:li:fs_miniSchool:17954', 'active': True, 'schoolName': 'University of California San Diego', 'trackingId': '8oJKPvxLTMiRyJhLsieNTQ==', 'logoUrl': 'https://media.licdn.com/dms/image/C560BAQHQYa-3EY_aaQ/company-logo_'}, 'grade': '3.88/4.00', 'timePeriod': {'endDate': {'year': 2016}, 'startDate': {'year': 2015}}, 'degreeName': \"Master's degree\", 'schoolName': 'University of California, San Diego', 'fieldOfStudy': 'Computer Science', 'honors': ['urn:li:fs_honor:(ACoAABQ36o4BotyFSnXxp3a2SDt1zOOgHVL87rE,1647284844)'], 'schoolUrn': 'urn:li:fs_miniSchool:17954'}, {'entityUrn': 'urn:li:fs_education:(ACoAABQ36o4BotyFSnXxp3a2SDt1zOOgHVL87rE,252304030)', 'school': {'objectUrn': 'urn:li:school:12879', 'entityUrn': 'urn:li:fs_miniSchool:12879', 'active': True, 'schoolName': 'The Hong Kong University of Science and Technology', 'trackingId': '1uTcTBc9TSmnn0ikluC50w==', 'logoUrl': 'https://media.licdn.com/dms/image/C560BAQF8dPwt6VOtGw/company-logo_'}, 'timePeriod': {'endDate': {'year': 2015}, 'startDate': {'year': 2014}}, 'description': '2014.09-2015.02\\n-Research Intern in Computer Science and Engineering Department.\\n-Received Full Stipend\\n-Advisor: Prof. Brian Mak', 'schoolName': 'The Hong Kong University of Science and Technology', 'fieldOfStudy': 'Computer Science, Research Intern Student', 'schoolUrn': 'urn:li:fs_miniSchool:12879'}, {'projects': ['urn:li:fs_project:(ACoAABQ36o4BotyFSnXxp3a2SDt1zOOgHVL87rE,701238764)'], 'entityUrn': 'urn:li:fs_education:(ACoAABQ36o4BotyFSnXxp3a2SDt1zOOgHVL87rE,252304072)', 'school': {'objectUrn': 'urn:li:school:17942', 'entityUrn': 'urn:li:fs_miniSchool:17942', 'active': True, 'schoolName': 'University of California, Davis', 'trackingId': 'LZNyiBt6SqSjKY2Yl8Gk7A==', 'logoUrl': 'https://media.licdn.com/dms/image/C560BAQHPrWjMxJrTXQ/company-logo_'}, 'grade': '4.0/4.0', 'timePeriod': {'endDate': {'year': 2014}, 'startDate': {'year': 2014}}, 'description': '2014.07-2014.09\\n-Global Research Experience in Advanced Technologies (GREAT) Program\\n-Advisor: Prof. Kwan-Liu Ma\\n-Course: Professional Research Development with grade A+.', 'schoolName': 'University of California, Davis', 'fieldOfStudy': 'Compute Science, Visiting Student', 'honors': ['urn:li:fs_honor:(ACoAABQ36o4BotyFSnXxp3a2SDt1zOOgHVL87rE,186286201)'], 'schoolUrn': 'urn:li:fs_miniSchool:17942'}]}\n",
      "\n",
      "\n",
      "\n",
      "\n",
      "geoloc\n",
      "{'summary': 'I am a PhD student at University of California San Diego in Computer Science. Recently, I am working on natural language processing, recommender system and data mining. My homepage is http://nijianmo.github.io. I am looking for full-time Research/SWE positions.', 'industryName': 'Computer Software', 'lastName': 'Ni', 'locationName': 'United States', 'student': False, 'geoCountryName': 'United States', 'geoCountryUrn': 'urn:li:fs_geo:103644278', 'geoLocationBackfilled': True, 'elt': False, 'industryUrn': 'urn:li:fs_industry:4', 'firstName': 'Jianmo', 'entityUrn': 'urn:li:fs_profile:ACoAAA9cWAABLf-nRx2yYIUROAE5r_J3O7CABAM', 'geoLocation': {'geoUrn': 'urn:li:fs_geo:103644278'}, 'location': {'basicLocation': {'countryCode': 'us'}}, 'headline': 'PhD student@UCSD, Former Research Intern@Google, MSR, Wechat AI, Alexa Prize Finalist. ', 'profile_id': 'ACoAAA9cWAABLf-nRx2yYIUROAE5r_J3O7CABAM', 'experience': [{'entityUrn': 'urn:li:fs_position:(ACoAAA9cWAABLf-nRx2yYIUROAE5r_J3O7CABAM,1479031870)', 'companyName': 'Google', 'timePeriod': {'endDate': {'month': 9, 'year': 2019}, 'startDate': {'month': 6, 'year': 2019}}, 'description': 'Medical brain team: working on information extraction.', 'company': {'employeeCountRange': {'start': 10001}, 'industries': ['Internet']}, 'title': 'Research Intern', 'companyUrn': 'urn:li:fs_miniCompany:1441', 'companyLogoUrl': 'https://media.licdn.com/dms/image/C4D0BAQHiNSL4Or29cg/company-logo_'}, {'locationName': 'Redmond ', 'entityUrn': 'urn:li:fs_position:(ACoAAA9cWAABLf-nRx2yYIUROAE5r_J3O7CABAM,1328876858)', 'geoLocationName': 'Redmond ', 'companyName': 'Microsoft', 'timePeriod': {'endDate': {'month': 9, 'year': 2018}, 'startDate': {'month': 6, 'year': 2018}}, 'description': 'Mircosoft research: working on reading comprehension. ', 'company': {'employeeCountRange': {'start': 10001}, 'industries': ['Computer Software']}, 'title': 'Research Intern', 'companyUrn': 'urn:li:fs_miniCompany:1035', 'companyLogoUrl': 'https://media.licdn.com/dms/image/C4D0BAQEko6uLz7XylA/company-logo_'}, {'locationName': 'San Francisco Bay Area', 'entityUrn': 'urn:li:fs_position:(ACoAAA9cWAABLf-nRx2yYIUROAE5r_J3O7CABAM,1044139404)', 'geoLocationName': 'San Francisco Bay Area', 'geoUrn': 'urn:li:fs_geo:90000084', 'companyName': 'Tencent', 'timePeriod': {'endDate': {'month': 9, 'year': 2017}, 'startDate': {'month': 6, 'year': 2017}}, 'description': '- Trained bilingual word-embedding using lexicon and sentence level parallel corpus in medical domain. \\n- Implemented Bi-Directional Attention Flow model with Tensorflow/Pytorch for reading comprehension on both span-based QA and sentence-based QA.\\n- Conducted multiple transfer learning experiments on different language resources (Chinese & English) and domain resources (Open-domain & Medical), showed efficacy of pre-trained models. \\n- Deployed deep learning models using Flask backend, MongoDB and AngularJS. \\n', 'company': {'employeeCountRange': {'start': 10001}, 'industries': ['Internet']}, 'title': 'Research Intern', 'region': 'urn:li:fs_region:(us,84)', 'companyUrn': 'urn:li:fs_miniCompany:166328', 'companyLogoUrl': 'https://media.licdn.com/dms/image/C510BAQEX2IR5gujwvQ/company-logo_'}, {'locationName': 'Shanghai City, China', 'entityUrn': 'urn:li:fs_position:(ACoAAA9cWAABLf-nRx2yYIUROAE5r_J3O7CABAM,780052274)', 'geoLocationName': 'Shanghai City, China', 'geoUrn': 'urn:li:fs_geo:102772228', 'companyName': 'PING AN INSURANCE (GROUP) COMPANY OF CHINA ,LTD', 'timePeriod': {'endDate': {'month': 8, 'year': 2016}, 'startDate': {'month': 3, 'year': 2016}}, 'description': '- Developed components of data management platform (Play MVC Framework) to provide middleware services between user and HDFS, implementing data search via Apache Lucene and designing database schema.\\n- Performed customer profiling (3 billion+ users) using both static and dynamic attributes (10 thousand+ dimensions) on big data platform (Hive).\\n', 'company': {'employeeCountRange': {'start': 10001}, 'industries': ['Financial Services']}, 'title': 'Data Mining Engineering Intern at Big Data Platform Division', 'region': 'urn:li:fs_region:(cn,8909)', 'companyUrn': 'urn:li:fs_miniCompany:1024580', 'companyLogoUrl': 'https://media.licdn.com/dms/image/C510BAQH63x3G_Ubpeg/company-logo_'}], 'skills': [{'name': 'Java'}, {'name': 'Python'}, {'name': 'C/C++'}, {'name': 'SQL'}, {'name': 'NumPy/Pandas'}, {'name': 'Hive'}, {'name': 'Theano'}, {'name': 'Keras'}, {'name': 'Hadoop'}, {'name': 'Data Mining'}, {'name': 'Machine Learning'}, {'name': 'Internet of Things'}, {'name': 'Power System/Smart Grid'}, {'name': 'VLSI CAD/HLS'}], 'education': [{'courses': ['urn:li:fs_course:(ACoAAA9cWAABLf-nRx2yYIUROAE5r_J3O7CABAM,1)', 'urn:li:fs_course:(ACoAAA9cWAABLf-nRx2yYIUROAE5r_J3O7CABAM,8)', 'urn:li:fs_course:(ACoAAA9cWAABLf-nRx2yYIUROAE5r_J3O7CABAM,9)', 'urn:li:fs_course:(ACoAAA9cWAABLf-nRx2yYIUROAE5r_J3O7CABAM,10)'], 'entityUrn': 'urn:li:fs_education:(ACoAAA9cWAABLf-nRx2yYIUROAE5r_J3O7CABAM,357469167)', 'school': {'objectUrn': 'urn:li:school:17954', 'entityUrn': 'urn:li:fs_miniSchool:17954', 'active': True, 'schoolName': 'University of California San Diego', 'trackingId': 'bnCncIf2RgCte0DxJTNH0g==', 'logoUrl': 'https://media.licdn.com/dms/image/C560BAQHQYa-3EY_aaQ/company-logo_'}, 'timePeriod': {'endDate': {'year': 2020}, 'startDate': {'year': 2016}}, 'description': 'About to join UC San Diego!', 'degreeName': 'Doctor of Philosophy (PhD)', 'schoolName': 'University of California, San Diego', 'fieldOfStudy': 'Computer Science', 'honors': ['urn:li:fs_honor:(ACoAAA9cWAABLf-nRx2yYIUROAE5r_J3O7CABAM,1418305931)'], 'schoolUrn': 'urn:li:fs_miniSchool:17954'}, {'entityUrn': 'urn:li:fs_education:(ACoAAA9cWAABLf-nRx2yYIUROAE5r_J3O7CABAM,300652741)', 'school': {'objectUrn': 'urn:li:school:11319', 'entityUrn': 'urn:li:fs_miniSchool:11319', 'active': True, 'schoolName': 'Shanghai Jiao Tong University', 'trackingId': '7MyzQi05S06W312yb18kWg==', 'logoUrl': 'https://media.licdn.com/dms/image/C4E0BAQFkNUM4pr0xcg/company-logo_'}, 'timePeriod': {'endDate': {'year': 2016}, 'startDate': {'year': 2013}}, 'degreeName': \"Master's degree\", 'schoolName': 'Shanghai Jiao Tong University', 'honors': ['urn:li:fs_honor:(ACoAAA9cWAABLf-nRx2yYIUROAE5r_J3O7CABAM,592861267)'], 'schoolUrn': 'urn:li:fs_miniSchool:11319'}, {'entityUrn': 'urn:li:fs_education:(ACoAAA9cWAABLf-nRx2yYIUROAE5r_J3O7CABAM,161115176)', 'school': {'objectUrn': 'urn:li:school:14410', 'entityUrn': 'urn:li:fs_miniSchool:14410', 'active': True, 'schoolName': 'Waseda University', 'trackingId': 'FQjD2hHUQxmbUBXzq3I+KQ==', 'logoUrl': 'https://media.licdn.com/dms/image/C4E0BAQF4RP7bTRMqbw/company-logo_'}, 'timePeriod': {'endDate': {'year': 2014}, 'startDate': {'year': 2012}}, 'degreeName': \"Master's degree\", 'schoolName': 'Waseda University', 'honors': ['urn:li:fs_honor:(ACoAAA9cWAABLf-nRx2yYIUROAE5r_J3O7CABAM,592903591)'], 'schoolUrn': 'urn:li:fs_miniSchool:14410'}]}\n",
      "\n",
      "\n",
      "\n",
      "\n",
      "geoloc\n",
      "{'industryName': 'Computer Software', 'lastName': 'Shyu', 'locationName': 'United States', 'student': False, 'geoCountryName': 'United States', 'geoCountryUrn': 'urn:li:fs_geo:103644278', 'geoLocationBackfilled': True, 'elt': False, 'industryUrn': 'urn:li:fs_industry:4', 'firstName': 'Patrick', 'entityUrn': 'urn:li:fs_profile:ACoAABGE4ogBuFen0MKJibuialMulRjf-igRX_A', 'geoLocation': {'geoUrn': 'urn:li:fs_geo:90000084'}, 'geoLocationName': 'San Francisco Bay Area', 'location': {'basicLocation': {'countryCode': 'us'}}, 'headline': 'Ex-Google Tech Lead', 'displayPictureUrl': 'https://media.licdn.com/dms/image/C5603AQGMqDcnCt9O8A/profile-displayphoto-shrink_', 'profile_id': 'ACoAABGE4ogBuFen0MKJibuialMulRjf-igRX_A', 'experience': [{'locationName': 'Menlo Park', 'entityUrn': 'urn:li:fs_position:(ACoAABGE4ogBuFen0MKJibuialMulRjf-igRX_A,1486623430)', 'geoLocationName': 'Menlo Park', 'companyName': 'Facebook', 'timePeriod': {'endDate': {'month': 7, 'year': 2019}, 'startDate': {'month': 5, 'year': 2018}}, 'description': 'Staff Software Engineer on Facebook Video (iOS/mobile).', 'company': {'employeeCountRange': {'start': 10001}, 'industries': ['Internet']}, 'title': 'Tech Lead', 'companyUrn': 'urn:li:fs_miniCompany:10667', 'companyLogoUrl': 'https://media.licdn.com/dms/image/C560BAQFjQHzcZz7J6g/company-logo_'}, {'locationName': 'San Bruno, CA', 'entityUrn': 'urn:li:fs_position:(ACoAABGE4ogBuFen0MKJibuialMulRjf-igRX_A,582741471)', 'geoLocationName': 'San Bruno, CA', 'companyName': 'Google', 'timePeriod': {'endDate': {'month': 4, 'year': 2018}, 'startDate': {'month': 9, 'year': 2014}}, 'description': 'Tech Lead of App Architecture & Core Features for the YouTube iOS app.  At 150+ million users, YouTube iOS frequently ranks #1 in the App Store.', 'company': {'employeeCountRange': {'start': 10001}, 'industries': ['Internet']}, 'title': 'Tech Lead', 'companyUrn': 'urn:li:fs_miniCompany:1441', 'companyLogoUrl': 'https://media.licdn.com/dms/image/C4D0BAQHiNSL4Or29cg/company-logo_'}, {'$anti_abuse_annotations': [{'domainType': 'MEMBER_POSITION_ID'}, {'domainType': 'MEMBER_POSITION_COMPANY_NAME'}, {'domainType': 'MEMBER_POSITION_START_DATE'}, {'domainType': 'MEMBER_POSITION_END_DATE'}, {'domainType': 'MEMBER_POSITION_DESCRIPTION'}, {'domainType': 'MEMBER_POSITION_TITLE'}], 'entityUrn': 'urn:li:fs_position:(ACoAABGE4ogBuFen0MKJibuialMulRjf-igRX_A,558875256)', 'companyName': 'Avalancia.com', 'timePeriod': {'endDate': {'month': 9, 'year': 2014}, 'startDate': {'month': 5, 'year': 2014}}, 'description': 'Launched 9 iOS apps & games to 100K+ downloads.  Developed and implemented code, UX, marketing, analytics, and feature specs including flexible client engine & API, server backend, database & caching, offline access, camera & filters, in-app payments, push notifications, game-center, localization, social API integration, etc.', 'title': 'Creator'}, {'$anti_abuse_annotations': [{'domainType': 'MEMBER_POSITION_ID'}, {'domainType': 'MEMBER_POSITION_COMPANY_NAME'}, {'domainType': 'MEMBER_POSITION_START_DATE'}, {'domainType': 'MEMBER_POSITION_END_DATE'}, {'domainType': 'MEMBER_POSITION_DESCRIPTION'}, {'domainType': 'MEMBER_POSITION_TITLE'}], 'entityUrn': 'urn:li:fs_position:(ACoAABGE4ogBuFen0MKJibuialMulRjf-igRX_A,467990291)', 'companyName': 'Panolapse360.com', 'timePeriod': {'endDate': {'month': 9, 'year': 2014}, 'startDate': {'month': 1, 'year': 2013}}, 'description': 'Created a popular timelapse software for perspective-correct simulated motion (500k user sessions).  Includes RAWBlend, a feature to analyze and interpolate camera exposure and RAW metadata.  Includes camera-accurate projection mappings and lens conversions, and real-time fisheye projection shader.', 'title': 'Creator'}, {'$anti_abuse_annotations': [{'domainType': 'MEMBER_POSITION_ID'}, {'domainType': 'MEMBER_POSITION_COMPANY_NAME'}, {'domainType': 'MEMBER_POSITION_START_DATE'}, {'domainType': 'MEMBER_POSITION_END_DATE'}, {'domainType': 'MEMBER_POSITION_DESCRIPTION'}, {'domainType': 'MEMBER_POSITION_TITLE'}], 'entityUrn': 'urn:li:fs_position:(ACoAABGE4ogBuFen0MKJibuialMulRjf-igRX_A,467990246)', 'companyName': 'HumanPets.com', 'timePeriod': {'endDate': {'month': 9, 'year': 2014}, 'startDate': {'month': 6, 'year': 2007}}, 'description': 'Created a social network website of 3.5 million users featuring games, auctions, forums, shops, marketplace, and chat rooms.', 'title': 'Creator'}], 'skills': [], 'education': [{'entityUrn': 'urn:li:fs_education:(ACoAABGE4ogBuFen0MKJibuialMulRjf-igRX_A,189430548)', 'school': {'objectUrn': 'urn:li:school:17939', 'entityUrn': 'urn:li:fs_miniSchool:17939', 'active': True, 'schoolName': 'University of California, Berkeley', 'trackingId': 'U4wAM5x+SGS54Ok9cvLrSg==', 'logoUrl': 'https://media.licdn.com/dms/image/C560BAQHylmb-tm1JOw/company-logo_'}, 'activities': 'Gene Kan Scholarship, University Winged Helmet, National Merit Scholarship, Computer Science and Business Association (CSBA), EECS Honor Society (HKN), CS Honor Society (TBP)', 'grade': 'High Honors', 'timePeriod': {'endDate': {'year': 2005}, 'startDate': {'year': 2001}}, 'degreeName': 'Bachelor of Science (BS)', 'schoolName': 'University of California, Berkeley', 'fieldOfStudy': 'EECS', 'schoolUrn': 'urn:li:fs_miniSchool:17939'}, {'entityUrn': 'urn:li:fs_education:(ACoAABGE4ogBuFen0MKJibuialMulRjf-igRX_A,189431273)', 'school': {'objectUrn': 'urn:li:school:17954', 'entityUrn': 'urn:li:fs_miniSchool:17954', 'active': True, 'schoolName': 'University of California San Diego', 'trackingId': 'U5Rsw3G/ShSyH86MZ+3+eg==', 'logoUrl': 'https://media.licdn.com/dms/image/C560BAQHQYa-3EY_aaQ/company-logo_'}, 'activities': 'ACM Programming Competition Regionals, TA Computer Graphics, TA Databases', 'timePeriod': {'endDate': {'year': 2006}, 'startDate': {'year': 2005}}, 'description': 'Emphasis in Computer Graphics', 'degreeName': 'Master of Science (MS)', 'schoolName': 'University of California San Diego', 'fieldOfStudy': 'Computer Science and Engineering', 'schoolUrn': 'urn:li:fs_miniSchool:17954'}, {'entityUrn': 'urn:li:fs_education:(ACoAABGE4ogBuFen0MKJibuialMulRjf-igRX_A,189434066)', 'school': {'objectUrn': 'urn:li:school:14382', 'entityUrn': 'urn:li:fs_miniSchool:14382', 'active': True, 'schoolName': 'Tokyo Institute of Technology', 'trackingId': 'Qz90Vi32SommX3TYmvQW6Q==', 'logoUrl': 'https://media.licdn.com/dms/image/C4E0BAQEGCJG4ukfFyA/company-logo_'}, 'activities': 'YSEP/EAP Study Abroad, Bridging Scholarship, JASSO Scholarship', 'timePeriod': {'endDate': {'year': 2005}, 'startDate': {'year': 2004}}, 'schoolName': 'Tokyo Institute of Technology', 'fieldOfStudy': 'Computer Science', 'schoolUrn': 'urn:li:fs_miniSchool:14382'}]}\n",
      "\n",
      "\n",
      "\n",
      "\n",
      "geoloc\n",
      "{'summary': 'When I was little, I wanted to play in the NBA. I was mesmerized by players and their creative style of play, dedication to the craft, and ability to lead their team to success. While I worked to embody those traits, unfortunately, I was not gifted with the athletic ability to take my talents to the NBA, so I had to pivot a little.\\n\\nThe next logical choice was a career in the tech industry. I am currently a student at Carnegie Mellon University, working on my Masters in Software Management. Aspiring to be a tech leader, I am passionate about developing innovative products that change the way people live their lives. Like many in the NBA, I bring creative direction, dedication to the craft, and leadership to take a product from ideation to market. Please reach out if you ever want to talk about technology, innovation, or basketball at josephhocmu@gmail.com.', 'industryName': 'Computer Software', 'lastName': 'Ho', 'locationName': 'United States', 'student': False, 'geoCountryName': 'United States', 'geoCountryUrn': 'urn:li:fs_geo:103644278', 'geoLocationBackfilled': True, 'elt': False, 'industryUrn': 'urn:li:fs_industry:4', 'firstName': 'Joseph', 'entityUrn': 'urn:li:fs_profile:ACoAACgx1nwBU7Ht4wY6xoa7sq_hMIKR79MnC80', 'geoLocation': {'geoUrn': 'urn:li:fs_geo:90000084'}, 'geoLocationName': 'San Francisco Bay Area', 'location': {'basicLocation': {'countryCode': 'us'}}, 'headline': 'Grad Student @ Carnegie Mellon University | Software Management | Product Management', 'displayPictureUrl': 'https://media.licdn.com/dms/image/C5603AQHUSenst8_qBg/profile-displayphoto-shrink_', 'profile_id': 'ACoAACgx1nwBU7Ht4wY6xoa7sq_hMIKR79MnC80', 'experience': [{'locationName': 'San Francisco Bay Area', 'entityUrn': 'urn:li:fs_position:(ACoAACgx1nwBU7Ht4wY6xoa7sq_hMIKR79MnC80,1468913324)', 'geoLocationName': 'San Francisco Bay Area', 'geoUrn': 'urn:li:fs_geo:90000084', 'companyName': 'Google', 'timePeriod': {'endDate': {'month': 8, 'year': 2019}, 'startDate': {'month': 5, 'year': 2019}}, 'description': '• Identified user pain points and key opportunities for product features, workflows, and internal tools for capacity planning team.\\n• Worked cross-functionally to build out product to effectively forecast and order the networking capacity required to support Google’s core infrastructure for products such as Search, Indexing, Research, Chrome, and Geo.\\n• Developed Python and SQL scripts that can be used by stakeholders to analyze infrastructure data and product area trends for costs benefits analysis of future infrastructure orders.\\n', 'company': {'employeeCountRange': {'start': 10001}, 'industries': ['Internet']}, 'title': 'Technical Program Manager', 'region': 'urn:li:fs_region:(us,84)', 'companyUrn': 'urn:li:fs_miniCompany:1441', 'companyLogoUrl': 'https://media.licdn.com/dms/image/C4D0BAQHiNSL4Or29cg/company-logo_'}, {'entityUrn': 'urn:li:fs_position:(ACoAACgx1nwBU7Ht4wY6xoa7sq_hMIKR79MnC80,1419484933)', 'companyName': 'Carnegie Mellon University', 'timePeriod': {'endDate': {'month': 5, 'year': 2019}, 'startDate': {'month': 1, 'year': 2019}}, 'description': '•\\tManaged software development lifecycle for student-teams building Emergency Social Network application to be used as a mobile communication platform by citizens and responders in case of emergency situations.\\n•\\tCreated user stories, project documentation, and monitored the software development lifecycle utilizing Jira and Confluence tools.', 'company': {'employeeCountRange': {'start': 5001, 'end': 10000}, 'industries': ['Higher Education']}, 'title': 'Graduate Teaching Assistant - Software Engineering Methods', 'companyUrn': 'urn:li:fs_miniCompany:3147', 'companyLogoUrl': 'https://media.licdn.com/dms/image/C4E0BAQFvWSshijvXyg/company-logo_'}, {'courses': ['urn:li:fs_course:(ACoAACgx1nwBU7Ht4wY6xoa7sq_hMIKR79MnC80,156644111)', 'urn:li:fs_course:(ACoAACgx1nwBU7Ht4wY6xoa7sq_hMIKR79MnC80,156670891)'], 'locationName': 'Greater San Diego Area', 'entityUrn': 'urn:li:fs_position:(ACoAACgx1nwBU7Ht4wY6xoa7sq_hMIKR79MnC80,1352755697)', 'geoLocationName': 'Greater San Diego Area', 'companyName': 'Northrop Grumman', 'timePeriod': {'endDate': {'month': 8, 'year': 2018}, 'startDate': {'month': 1, 'year': 2017}}, 'organizations': ['urn:li:fs_organization:(ACoAACgx1nwBU7Ht4wY6xoa7sq_hMIKR79MnC80,328045466)', 'urn:li:fs_organization:(ACoAACgx1nwBU7Ht4wY6xoa7sq_hMIKR79MnC80,328943933)'], 'description': \"•\\tDesigned and built security software for autonomous aircraft on the Global Hawk program. \\n•\\tAnalyzed product requirements, tracked KPI's for 15 build releases and executed product planning for a multi-year, software project.\\n•\\tPerformed market analysis and user research to understand customer behavior, and pain points before developing a Ride Sharing product strategy utilizing autonomous air vehicles. \\n•\\tReduced testing costs for future products under Global Hawk program by developing scripts to automate product's test procedures.\", 'company': {'employeeCountRange': {'start': 10001}, 'industries': ['Defense & Space']}, 'title': 'Software Engineer', 'companyUrn': 'urn:li:fs_miniCompany:1412', 'companyLogoUrl': 'https://media.licdn.com/dms/image/C4E0BAQH-hyDL3WkwSw/company-logo_'}, {'locationName': 'Greater San Diego Area', 'entityUrn': 'urn:li:fs_position:(ACoAACgx1nwBU7Ht4wY6xoa7sq_hMIKR79MnC80,1352754956)', 'geoLocationName': 'Greater San Diego Area', 'geoUrn': 'urn:li:fs_geo:100737633', 'companyName': 'Northrop Grumman', 'timePeriod': {'endDate': {'month': 12, 'year': 2016}, 'startDate': {'month': 4, 'year': 2015}}, 'description': \"•\\t Prepared and presented program and project status to upper management in weekly software technical meetings.\\n•\\tInitiated the improvement of the program's database and peer review tools by systematically cleaning up bugs and refactoring the source code. \", 'company': {'employeeCountRange': {'start': 10001}, 'industries': ['Defense & Space']}, 'title': 'Year-round Intern', 'region': 'urn:li:fs_region:(us,732)', 'companyUrn': 'urn:li:fs_miniCompany:1412', 'companyLogoUrl': 'https://media.licdn.com/dms/image/C4E0BAQH-hyDL3WkwSw/company-logo_'}], 'skills': [{'name': 'Java', 'standardizedSkillUrn': 'urn:li:fs_miniSkill:147', 'standardizedSkill': {'name': 'Java', 'entityUrn': 'urn:li:fs_miniSkill:147'}}, {'name': 'Python', 'standardizedSkillUrn': 'urn:li:fs_miniSkill:1346', 'standardizedSkill': {'name': 'Python (Programming Language)', 'entityUrn': 'urn:li:fs_miniSkill:1346'}}, {'name': 'C++'}, {'name': 'Data Structures'}, {'name': 'Algorithms'}, {'name': 'Market Research'}, {'name': 'Go-to-market Strategy'}, {'name': 'Testing'}, {'name': 'Project Management'}, {'name': 'Programming'}, {'name': 'Software Development Life Cycle (SDLC)'}, {'name': 'Product Management'}, {'name': 'Program Management'}, {'name': 'Technical Program Management'}, {'name': 'Microsoft Office'}, {'name': 'Visual Basic for Applications (VBA)', 'standardizedSkillUrn': 'urn:li:fs_miniSkill:2842', 'standardizedSkill': {'name': 'Visual Basic for Applications (VBA)', 'entityUrn': 'urn:li:fs_miniSkill:2842'}}, {'name': 'JIRA'}, {'name': 'Microsoft Excel'}, {'name': 'Microsoft Word'}, {'name': 'Microsoft PowerPoint'}, {'name': 'Eclipse'}, {'name': 'IntelliJ IDEA'}, {'name': 'HTML'}, {'name': 'Leadership'}, {'name': 'Cross-functional Team Leadership'}, {'name': 'Easily Adaptable'}, {'name': 'Communication'}, {'name': 'Management'}, {'name': 'Public Speaking'}, {'name': 'Product Analysis'}, {'name': 'Product Strategy'}, {'name': 'Adaptive Leadership'}, {'name': 'Cross-functional Collaborations'}, {'name': 'Cross-functional Communication'}, {'name': 'Sourcetree'}, {'name': 'Microsoft Visual Studio C++'}, {'name': 'Product Roadmap'}, {'name': 'Product Vision'}, {'name': 'Product Requirement Definition'}, {'name': 'Scrum'}, {'name': 'SQL'}, {'name': 'User Acceptance Testing'}, {'name': 'Agile & Waterfall Methodologies'}], 'education': [{'courses': ['urn:li:fs_course:(ACoAACgx1nwBU7Ht4wY6xoa7sq_hMIKR79MnC80,132464316)', 'urn:li:fs_course:(ACoAACgx1nwBU7Ht4wY6xoa7sq_hMIKR79MnC80,132525737)', 'urn:li:fs_course:(ACoAACgx1nwBU7Ht4wY6xoa7sq_hMIKR79MnC80,132565587)'], 'entityUrn': 'urn:li:fs_education:(ACoAACgx1nwBU7Ht4wY6xoa7sq_hMIKR79MnC80,547989180)', 'school': {'objectUrn': 'urn:li:school:19232', 'entityUrn': 'urn:li:fs_miniSchool:19232', 'active': True, 'schoolName': 'Carnegie Mellon University', 'trackingId': '43x0k7oRTUOquRtUmClN+A==', 'logoUrl': 'https://media.licdn.com/dms/image/C4E0BAQFvWSshijvXyg/company-logo_'}, 'activities': 'Product Management Club (Leadership Position 2018-Present)\\n\\n', 'timePeriod': {'endDate': {'year': 2019}, 'startDate': {'year': 2018}}, 'description': 'The MS in Software Management Program is an interdisciplinary program offered by the Integrated Innovation Institute (Tepper School of Business, College of Engineering and the School of Design)', 'degreeName': \"Master's degree\", 'schoolName': 'Carnegie Mellon University', 'fieldOfStudy': 'Software Management, Product Management', 'degreeUrn': 'urn:li:fs_degree:500', 'schoolUrn': 'urn:li:fs_miniSchool:19232'}, {'courses': ['urn:li:fs_course:(ACoAACgx1nwBU7Ht4wY6xoa7sq_hMIKR79MnC80,156630059)'], 'entityUrn': 'urn:li:fs_education:(ACoAACgx1nwBU7Ht4wY6xoa7sq_hMIKR79MnC80,547989338)', 'school': {'objectUrn': 'urn:li:school:17954', 'entityUrn': 'urn:li:fs_miniSchool:17954', 'active': True, 'schoolName': 'University of California San Diego', 'trackingId': 'PEfqgikMS4GSm4kv+qdpzQ==', 'logoUrl': 'https://media.licdn.com/dms/image/C560BAQHQYa-3EY_aaQ/company-logo_'}, 'activities': 'Lambda Chi Alpha (Recruitment Chair 2014-2015), Intramural Basketball (2012-2016)', 'timePeriod': {'endDate': {'year': 2016}, 'startDate': {'year': 2012}}, 'degreeName': 'Bachelor of Science - BS', 'schoolName': 'University of California San Diego', 'fieldOfStudy': 'Computer Science', 'degreeUrn': 'urn:li:fs_degree:400', 'schoolUrn': 'urn:li:fs_miniSchool:17954'}]}\n",
      "\n",
      "\n",
      "\n",
      "\n",
      "geoloc\n",
      "{'summary': 'Believe in leveraging technology to leave positive impact on the world! \\nI’ve interned at Hulu, Cobinhood, Intel as Software Dev/Eng Intern for Summer 2019, Summer 2018, 2017 respectively.\\nIf you have any questions or require further information, please feel free to contact me.\\n\\n', 'industryName': 'Internet', 'lastName': 'Yu', 'locationName': 'United States', 'student': False, 'geoCountryName': 'United States', 'geoCountryUrn': 'urn:li:fs_geo:103644278', 'geoLocationBackfilled': True, 'elt': False, 'industryUrn': 'urn:li:fs_industry:6', 'firstName': 'Richard', 'entityUrn': 'urn:li:fs_profile:ACoAACEDTD0BGLvIsn7jEeN6L-_zPLXHtc-CgPc', 'geoLocation': {'geoUrn': 'urn:li:fs_geo:90000084'}, 'geoLocationName': 'San Francisco Bay Area', 'location': {'basicLocation': {'countryCode': 'us'}}, 'headline': 'Software Developer Intern at Hulu | MS in CS at UCSD', 'displayPictureUrl': 'https://media.licdn.com/dms/image/C5603AQF4S1qT46LIgA/profile-displayphoto-shrink_', 'profile_id': 'ACoAACEDTD0BGLvIsn7jEeN6L-_zPLXHtc-CgPc', 'experience': [{'locationName': 'Greater Los Angeles Area', 'entityUrn': 'urn:li:fs_position:(ACoAACEDTD0BGLvIsn7jEeN6L-_zPLXHtc-CgPc,1513836734)', 'geoLocationName': 'Greater Los Angeles Area', 'geoUrn': 'urn:li:fs_geo:90000049', 'companyName': 'Hulu', 'timePeriod': {'endDate': {'month': 9, 'year': 2019}, 'startDate': {'month': 6, 'year': 2019}}, 'company': {'employeeCountRange': {'start': 1001, 'end': 5000}, 'industries': ['Internet']}, 'title': 'Software Developer Intern', 'region': 'urn:li:fs_region:(us,49)', 'companyUrn': 'urn:li:fs_miniCompany:51941', 'companyLogoUrl': 'https://media.licdn.com/dms/image/C560BAQEeG6IY_9Qdgg/company-logo_'}, {'$anti_abuse_annotations': [{'domainType': 'MEMBER_POSITION_ID'}, {'domainType': 'MEMBER_POSITION_COMPANY_NAME'}, {'domainType': 'MEMBER_POSITION_START_DATE'}, {'domainType': 'MEMBER_POSITION_END_DATE'}, {'domainType': 'MEMBER_POSITION_DESCRIPTION'}, {'domainType': 'MEMBER_POSITION_TITLE'}], 'entityUrn': 'urn:li:fs_position:(ACoAACEDTD0BGLvIsn7jEeN6L-_zPLXHtc-CgPc,1513838293)', 'companyName': 'COBINHOOD, Ltd.', 'timePeriod': {'endDate': {'month': 8, 'year': 2018}, 'startDate': {'month': 7, 'year': 2018}}, 'description': 'Software Intern on Backend Team for Summer 2018, working in Go(Golang) REST API. ', 'title': 'Software Engineer Intern', 'companyUrn': 'urn:li:fs_miniCompany:18173183'}, {'entityUrn': 'urn:li:fs_position:(ACoAACEDTD0BGLvIsn7jEeN6L-_zPLXHtc-CgPc,1212545445)', 'companyName': 'Intel Corporation', 'timePeriod': {'endDate': {'month': 12, 'year': 2017}, 'startDate': {'month': 3, 'year': 2017}}, 'description': 'Interned on Intel Media Dev Team, working in Graphics Driver Code using C++.', 'company': {'employeeCountRange': {'start': 10001}, 'industries': ['Semiconductors']}, 'title': 'Software Engineering Intern', 'companyUrn': 'urn:li:fs_miniCompany:1053', 'companyLogoUrl': 'https://media.licdn.com/dms/image/C4D0BAQEQxLTTAA1tTA/company-logo_'}], 'skills': [{'name': 'Python', 'standardizedSkillUrn': 'urn:li:fs_miniSkill:1346', 'standardizedSkill': {'name': 'Python (Programming Language)', 'entityUrn': 'urn:li:fs_miniSkill:1346'}}, {'name': 'C'}, {'name': 'C++'}, {'name': 'Data Structures', 'standardizedSkillUrn': 'urn:li:fs_miniSkill:4202', 'standardizedSkill': {'name': 'Data Structures', 'entityUrn': 'urn:li:fs_miniSkill:4202'}}, {'name': 'Matlab', 'standardizedSkillUrn': 'urn:li:fs_miniSkill:1442', 'standardizedSkill': {'name': 'Matlab', 'entityUrn': 'urn:li:fs_miniSkill:1442'}}, {'name': 'Javacript'}], 'education': [{'entityUrn': 'urn:li:fs_education:(ACoAACEDTD0BGLvIsn7jEeN6L-_zPLXHtc-CgPc,530749715)', 'school': {'objectUrn': 'urn:li:school:17954', 'entityUrn': 'urn:li:fs_miniSchool:17954', 'active': True, 'schoolName': 'University of California San Diego', 'trackingId': 'B0h4z6tfThugx8Ae2blSYA==', 'logoUrl': 'https://media.licdn.com/dms/image/C560BAQHQYa-3EY_aaQ/company-logo_'}, 'timePeriod': {'endDate': {'year': 2019}, 'startDate': {'year': 2018}}, 'description': 'COURSES:\\n\\nCSE224 (Graduate Networked Systems)\\nCSE258 (Recommender Sys&Web Mining)\\nCSE252A (Computer Vision)\\nCSE203B (Convex Optimization Algorithms)\\nCSE231 (Advanced Compiler Design)\\nCSE250B (Learning Algorithms)\\nCSE255 (Data Mining & Analytics)\\nCSE291 (Data Models in Big Data Era)\\nCSE100 (Advanced Data Structures)\\nCSE120 (Princ/Computer Operating System)', 'fieldOfStudyUrn': 'urn:li:fs_fieldOfStudy:100189', 'degreeName': 'Master of Science - MS', 'schoolName': 'University of California San Diego', 'fieldOfStudy': 'Computer Science', 'degreeUrn': 'urn:li:fs_degree:626', 'schoolUrn': 'urn:li:fs_miniSchool:17954'}, {'entityUrn': 'urn:li:fs_education:(ACoAACEDTD0BGLvIsn7jEeN6L-_zPLXHtc-CgPc,530751267)', 'school': {'objectUrn': 'urn:li:school:17950', 'entityUrn': 'urn:li:fs_miniSchool:17950', 'active': True, 'schoolName': 'University of California, Los Angeles', 'trackingId': 'oNAhR7kmRAqpkqrLht6mxA==', 'logoUrl': 'https://media.licdn.com/dms/image/C560BAQHaEKA3OirIlg/company-logo_'}, 'timePeriod': {'endDate': {'year': 2015}, 'startDate': {'year': 2015}}, 'description': 'With Full Scholarship', 'degreeName': 'Exchange Student', 'schoolName': 'University of California, Los Angeles', 'fieldOfStudy': 'Electrical and Computer Engineering', 'schoolUrn': 'urn:li:fs_miniSchool:17950'}, {'entityUrn': 'urn:li:fs_education:(ACoAACEDTD0BGLvIsn7jEeN6L-_zPLXHtc-CgPc,612956623)', 'school': {'objectUrn': 'urn:li:school:17469', 'entityUrn': 'urn:li:fs_miniSchool:17469', 'active': True, 'schoolName': 'National Taiwan University', 'trackingId': '6KyNroDRSMGcGjXB8ZgV0g==', 'logoUrl': 'https://media.licdn.com/dms/image/C510BAQFSDIZ_x0w64A/company-logo_'}, 'activities': 'HackNTU, NASA Hackathon @Taipei', 'timePeriod': {'endDate': {'year': 2017}}, 'description': 'COURSES: \\n\\nData Structures and Algorithms\\nOperating Systems\\nDatabase Management System – from SQL to NoSQL\\nGpu Programming\\nIntelligent Conversational Bot', 'schoolName': 'National Taiwan University', 'fieldOfStudy': 'EECS', 'schoolUrn': 'urn:li:fs_miniSchool:17469'}]}\n",
      "\n",
      "\n",
      "\n",
      "\n",
      "geoloc\n",
      "{'summary': 'Language: Java, C/C++, Python, Swift, JavaScript, Ocaml\\nArea of Interest: Mobile Development, Backend Development, Distributed System\\nDatabase: MySQL, PostgreSQL, Mongo DB\\nTechnologies: Node Js, Flask, Docker, Git, Android Development, iOS Development', 'industryName': 'Computer Software', 'lastName': 'Chen', 'locationName': 'United States', 'student': False, 'geoCountryName': 'United States', 'geoCountryUrn': 'urn:li:fs_geo:103644278', 'geoLocationBackfilled': True, 'elt': False, 'industryUrn': 'urn:li:fs_industry:4', 'firstName': 'Chen (Vincent)', 'entityUrn': 'urn:li:fs_profile:ACoAABZQsR4B_zBplgjpclEZMyL4l4PJ0zdJedE', 'geoLocation': {'geoUrn': 'urn:li:fs_geo:90000070'}, 'geoLocationName': 'New York City Metropolitan Area', 'location': {'basicLocation': {'countryCode': 'us'}}, 'headline': 'Software Engineer at Bloomberg LP', 'profile_id': 'ACoAABZQsR4B_zBplgjpclEZMyL4l4PJ0zdJedE', 'experience': [{'locationName': 'Greater New York City Area', 'entityUrn': 'urn:li:fs_position:(ACoAABZQsR4B_zBplgjpclEZMyL4l4PJ0zdJedE,1437556660)', 'geoLocationName': 'Greater New York City Area', 'companyName': 'Bloomberg LP', 'timePeriod': {'startDate': {'month': 7, 'year': 2019}}, 'description': 'Network Management Team', 'company': {'employeeCountRange': {'start': 10001}, 'industries': ['Financial Services']}, 'title': 'Software Engineer', 'companyUrn': 'urn:li:fs_miniCompany:2494', 'companyLogoUrl': 'https://media.licdn.com/dms/image/C4D0BAQF0uyE7RGKDGg/company-logo_'}, {'locationName': 'Newark, California', 'entityUrn': 'urn:li:fs_position:(ACoAABZQsR4B_zBplgjpclEZMyL4l4PJ0zdJedE,1331392463)', 'geoLocationName': 'Newark, California', 'companyName': 'Triple Ring Technologies', 'timePeriod': {'endDate': {'month': 9, 'year': 2018}, 'startDate': {'month': 6, 'year': 2018}}, 'description': 'Android, IOS and Web Development\\n\\n•\\tRefactored part of the existing Android application from MVC to MVVM design for greater testability. \\n•\\tEngineered one-way communication between Bluetooth Low Energy embedded modules and phones.\\n•\\tCached, uploaded and monitored real-time data with exp4j, MPAndroidChart, Realm and Azure IoT Hub.\\n•\\tConsumed RESTful API with Alamofire and parsed JSON data with Swiftyjson to retrieve users’ profiles. \\n•\\tIntegrated Braintree Payment Processing into the current iOS application with Swift and Node.js. \\n', 'company': {'employeeCountRange': {'start': 51, 'end': 200}, 'industries': ['Medical Devices']}, 'title': 'Software Engineer Intern', 'companyUrn': 'urn:li:fs_miniCompany:96183', 'companyLogoUrl': 'https://media.licdn.com/dms/image/C4E0BAQEryzw5aCHCwg/company-logo_'}, {'locationName': 'San Diego, California', 'entityUrn': 'urn:li:fs_position:(ACoAABZQsR4B_zBplgjpclEZMyL4l4PJ0zdJedE,1331392493)', 'geoLocationName': 'San Diego, California', 'companyName': 'SwiftChange', 'timePeriod': {'endDate': {'month': 6, 'year': 2018}, 'startDate': {'month': 3, 'year': 2018}}, 'description': 'Android Development Team\\n\\n•\\tDeveloped User Register/Login/Profile page in Java, following the MVVM design with DataBinding. \\n•\\tFetched Networked Data from RESTful API with Retrofit and cached collected data with Room database.\\n•\\tEnabled automated data fetching and refreshing with RxJava2 for every 20 seconds. \\n', 'company': {'employeeCountRange': {'start': 2, 'end': 10}, 'industries': ['Financial Services']}, 'title': 'Android Developer Intern', 'companyUrn': 'urn:li:fs_miniCompany:17995403', 'companyLogoUrl': 'https://media.licdn.com/dms/image/C560BAQHaRvtHRdFYPQ/company-logo_'}, {'locationName': 'Peter Kiewit Institute', 'entityUrn': 'urn:li:fs_position:(ACoAABZQsR4B_zBplgjpclEZMyL4l4PJ0zdJedE,779066260)', 'geoLocationName': 'Peter Kiewit Institute', 'companyName': 'University of Nebraska–Lincoln', 'timePeriod': {'endDate': {'month': 5, 'year': 2017}, 'startDate': {'month': 9, 'year': 2015}}, 'description': '•Provided over 30 students with assistance in Java programming, including brainstorming, debugging and testing. \\n\\nStudents I tutored learned concepts of Object Oriented Programming and various testing technique. \\n\\n•Mentored 4 freshmen engineering students by going through engineering problems weekly. \\n', 'company': {'employeeCountRange': {'start': 5001, 'end': 10000}, 'industries': ['Higher Education']}, 'title': 'Peer Tutor & Mentor', 'companyUrn': 'urn:li:fs_miniCompany:5926', 'companyLogoUrl': 'https://media.licdn.com/dms/image/C4E0BAQHjx5vs2YamEg/company-logo_'}, {'locationName': 'University of Nebraska (Omaha Campus)', 'entityUrn': 'urn:li:fs_position:(ACoAABZQsR4B_zBplgjpclEZMyL4l4PJ0zdJedE,717502635)', 'geoLocationName': 'University of Nebraska (Omaha Campus)', 'companyName': 'University of Nebraska Lincoln', 'timePeriod': {'endDate': {'month': 5, 'year': 2016}, 'startDate': {'month': 9, 'year': 2015}}, 'description': '•Developed a solution for Federal Aviation Administration (F.A.A.) to perform automated data collection for conductive concrete deicing experiment.\\n\\n•Took responsibility of developing automated scripts in AutoHotKey and building a website with Wix and JavaScript to provide the Live Video Feed of the ground surface and demonstrate the real-time data collection.\\n\\n•Designed and model filtering circuit embedded in the concrete with Simulink and Matlab to attenuate electromagnetic pulse (EMP) by 70dB. ', 'company': {'employeeCountRange': {'start': 5001, 'end': 10000}, 'industries': ['Higher Education']}, 'title': 'Undergraduate Student Researcher - Software Development', 'companyUrn': 'urn:li:fs_miniCompany:5926', 'companyLogoUrl': 'https://media.licdn.com/dms/image/C4E0BAQHjx5vs2YamEg/company-logo_'}], 'skills': [{'name': 'Microsoft Office'}, {'name': 'Java'}, {'name': 'PowerPoint'}, {'name': 'Microsoft Excel'}, {'name': 'Research'}, {'name': 'C'}, {'name': 'Programming'}, {'name': 'Microsoft Word'}, {'name': 'Customer Service'}, {'name': 'Leadership'}, {'name': 'Assembly Language'}, {'name': 'Android'}, {'name': 'Android SDK'}, {'name': 'Object-Oriented Programming (OOP)'}, {'name': 'JavaScript'}, {'name': 'HTML'}, {'name': 'CSS'}, {'name': 'AutoHotKey'}, {'name': 'Git'}, {'name': 'Python'}, {'name': 'Test Driven Development'}, {'name': 'MVC'}, {'name': 'Client Server Technologies'}, {'name': 'bootstrap'}, {'name': 'Agile Methodologies'}, {'name': 'Agile & Waterfall Methodologies'}, {'name': 'SQL'}], 'education': [{'courses': ['urn:li:fs_course:(ACoAABZQsR4B_zBplgjpclEZMyL4l4PJ0zdJedE,709393262)', 'urn:li:fs_course:(ACoAABZQsR4B_zBplgjpclEZMyL4l4PJ0zdJedE,709393263)', 'urn:li:fs_course:(ACoAABZQsR4B_zBplgjpclEZMyL4l4PJ0zdJedE,709393264)', 'urn:li:fs_course:(ACoAABZQsR4B_zBplgjpclEZMyL4l4PJ0zdJedE,709393265)', 'urn:li:fs_course:(ACoAABZQsR4B_zBplgjpclEZMyL4l4PJ0zdJedE,709393270)', 'urn:li:fs_course:(ACoAABZQsR4B_zBplgjpclEZMyL4l4PJ0zdJedE,1841644699)'], 'projects': ['urn:li:fs_project:(ACoAABZQsR4B_zBplgjpclEZMyL4l4PJ0zdJedE,1660685976)', 'urn:li:fs_project:(ACoAABZQsR4B_zBplgjpclEZMyL4l4PJ0zdJedE,1841187944)', 'urn:li:fs_project:(ACoAABZQsR4B_zBplgjpclEZMyL4l4PJ0zdJedE,1841305485)'], 'entityUrn': 'urn:li:fs_education:(ACoAABZQsR4B_zBplgjpclEZMyL4l4PJ0zdJedE,437055186)', 'school': {'objectUrn': 'urn:li:school:17954', 'entityUrn': 'urn:li:fs_miniSchool:17954', 'active': True, 'schoolName': 'University of California San Diego', 'trackingId': 'E9Ct7diFQNuBMrykV3tEpw==', 'logoUrl': 'https://media.licdn.com/dms/image/C560BAQHQYa-3EY_aaQ/company-logo_'}, 'timePeriod': {'endDate': {'year': 2017}, 'startDate': {'year': 2017}}, 'fieldOfStudyUrn': 'urn:li:fs_fieldOfStudy:100347', 'degreeName': 'Master of Science - MS', 'schoolName': 'University of California San Diego', 'fieldOfStudy': 'Computer Engineering', 'degreeUrn': 'urn:li:fs_degree:626', 'schoolUrn': 'urn:li:fs_miniSchool:17954'}, {'courses': ['urn:li:fs_course:(ACoAABZQsR4B_zBplgjpclEZMyL4l4PJ0zdJedE,709393260)', 'urn:li:fs_course:(ACoAABZQsR4B_zBplgjpclEZMyL4l4PJ0zdJedE,709393261)', 'urn:li:fs_course:(ACoAABZQsR4B_zBplgjpclEZMyL4l4PJ0zdJedE,709393266)', 'urn:li:fs_course:(ACoAABZQsR4B_zBplgjpclEZMyL4l4PJ0zdJedE,709393267)', 'urn:li:fs_course:(ACoAABZQsR4B_zBplgjpclEZMyL4l4PJ0zdJedE,709393269)', 'urn:li:fs_course:(ACoAABZQsR4B_zBplgjpclEZMyL4l4PJ0zdJedE,709393271)', 'urn:li:fs_course:(ACoAABZQsR4B_zBplgjpclEZMyL4l4PJ0zdJedE,886359772)', 'urn:li:fs_course:(ACoAABZQsR4B_zBplgjpclEZMyL4l4PJ0zdJedE,1841606853)'], 'projects': ['urn:li:fs_project:(ACoAABZQsR4B_zBplgjpclEZMyL4l4PJ0zdJedE,1661602361)'], 'entityUrn': 'urn:li:fs_education:(ACoAABZQsR4B_zBplgjpclEZMyL4l4PJ0zdJedE,242759663)', 'school': {'objectUrn': 'urn:li:school:18836', 'entityUrn': 'urn:li:fs_miniSchool:18836', 'active': True, 'schoolName': 'University of Nebraska-Lincoln', 'trackingId': 'PieZWfNgRReQPrFg/p5Aew==', 'logoUrl': 'https://media.licdn.com/dms/image/C4E0BAQHjx5vs2YamEg/company-logo_'}, 'activities': '●  Delta Epsilon Iota Honor society (2013-Present) ● Treasurer of International Student Service (2013-2014) ● Volunteer in UNO 7 Days’ Service &3 Days’ Service (2012-Present)', 'timePeriod': {'endDate': {'year': 2017}, 'startDate': {'year': 2013}}, 'degreeName': 'Bachelor of Science', 'schoolName': 'University of Nebraska-Lincoln', 'fieldOfStudy': 'Electrical and Electronics Engineering', 'honors': ['urn:li:fs_honor:(ACoAABZQsR4B_zBplgjpclEZMyL4l4PJ0zdJedE,709393283)'], 'schoolUrn': 'urn:li:fs_miniSchool:18836'}]}\n",
      "\n",
      "\n",
      "\n",
      "\n",
      "geoloc\n",
      "{'industryName': 'Computer Software', 'lastName': 'Jiang', 'locationName': 'United States', 'student': False, 'geoCountryName': 'United States', 'geoCountryUrn': 'urn:li:fs_geo:103644278', 'geoLocationBackfilled': True, 'elt': False, 'industryUrn': 'urn:li:fs_industry:4', 'firstName': 'Tong', 'entityUrn': 'urn:li:fs_profile:ACoAAAeedzQBM-5e1bFIxvfZn48C8MLwr3jWfBU', 'geoLocation': {'geoUrn': 'urn:li:fs_geo:90000091'}, 'geoLocationName': 'Greater Seattle Area', 'location': {'basicLocation': {'countryCode': 'us'}}, 'headline': 'Software Engineer at Microsoft', 'displayPictureUrl': 'https://media.licdn.com/dms/image/C5603AQHQHfr6d_G-xg/profile-displayphoto-shrink_', 'profile_id': 'ACoAAAeedzQBM-5e1bFIxvfZn48C8MLwr3jWfBU', 'experience': [{'locationName': 'United States', 'entityUrn': 'urn:li:fs_position:(ACoAAAeedzQBM-5e1bFIxvfZn48C8MLwr3jWfBU,950296014)', 'geoLocationName': 'United States', 'geoUrn': 'urn:li:fs_geo:103644278', 'companyName': 'Microsoft', 'timePeriod': {'startDate': {'month': 3, 'year': 2017}}, 'description': 'Working on Office Add-ins Platform', 'company': {'employeeCountRange': {'start': 10001}, 'industries': ['Computer Software']}, 'title': 'Software Engineer', 'region': 'urn:li:fs_region:(us,0)', 'companyUrn': 'urn:li:fs_miniCompany:1035', 'companyLogoUrl': 'https://media.licdn.com/dms/image/C4D0BAQEko6uLz7XylA/company-logo_'}, {'locationName': 'Greater Seattle Area', 'entityUrn': 'urn:li:fs_position:(ACoAAAeedzQBM-5e1bFIxvfZn48C8MLwr3jWfBU,814944540)', 'geoLocationName': 'Greater Seattle Area', 'companyName': 'Microsoft', 'timePeriod': {'endDate': {'month': 9, 'year': 2016}, 'startDate': {'month': 6, 'year': 2016}}, 'description': 'Designed and built a Xamarin based Excel Simulator to run and test Excel JavaScript Apps on real mobile devices across different platforms (iOS, Android and UWP).', 'company': {'employeeCountRange': {'start': 10001}, 'industries': ['Computer Software']}, 'title': 'Software Engineer Intern', 'companyUrn': 'urn:li:fs_miniCompany:1035', 'companyLogoUrl': 'https://media.licdn.com/dms/image/C4D0BAQEko6uLz7XylA/company-logo_'}], 'skills': [{'name': 'Machine Learning'}, {'name': 'Deep Learning'}, {'name': 'Software Development'}, {'name': 'Web Development'}, {'name': 'C++'}, {'name': 'Python'}, {'name': 'JavaScript'}], 'education': [{'entityUrn': 'urn:li:fs_education:(ACoAAAeedzQBM-5e1bFIxvfZn48C8MLwr3jWfBU,318666064)', 'school': {'objectUrn': 'urn:li:school:17954', 'entityUrn': 'urn:li:fs_miniSchool:17954', 'active': True, 'schoolName': 'University of California San Diego', 'trackingId': 'hD41HSOfSVOYsGkLf+V1tw==', 'logoUrl': 'https://media.licdn.com/dms/image/C560BAQHQYa-3EY_aaQ/company-logo_'}, 'timePeriod': {'endDate': {'year': 2016}, 'startDate': {'year': 2015}}, 'description': 'Graduated with depth in Artificial Intelligence and Computational Theory', 'degreeName': 'Master’s Degree', 'schoolName': 'University of California San Diego', 'fieldOfStudy': 'Computer Science', 'schoolUrn': 'urn:li:fs_miniSchool:17954'}, {'entityUrn': 'urn:li:fs_education:(ACoAAAeedzQBM-5e1bFIxvfZn48C8MLwr3jWfBU,74817348)', 'school': {'objectUrn': 'urn:li:school:11319', 'entityUrn': 'urn:li:fs_miniSchool:11319', 'active': True, 'schoolName': 'Shanghai Jiao Tong University', 'trackingId': 'mUCFr0idSjmXCuVLdFE9jA==', 'logoUrl': 'https://media.licdn.com/dms/image/C4E0BAQFkNUM4pr0xcg/company-logo_'}, 'timePeriod': {'endDate': {'year': 2015}, 'startDate': {'year': 2011}}, 'description': 'Graduated with Best Undergraduate Thesis and Project Award: Research on video abnormal event detection algorithms and system implementation', 'degreeName': 'Bachelor’s Degree', 'schoolName': 'Shanghai Jiao Tong University', 'fieldOfStudy': 'Computer Science', 'schoolUrn': 'urn:li:fs_miniSchool:11319'}]}\n",
      "\n",
      "\n",
      "\n",
      "\n",
      "geoloc\n",
      "{'summary': 'A master student major in Computer Science at the University of Chicago\\nExperience in software engineering programming using Java, Python, C/C++. \\nInterested in software engineering, web development, machine learning, big data and many other exciting fields of computer science. \\nIndependent problem solver, quick learner, and a team player.', 'industryName': 'Computer Software', 'lastName': 'Chen', 'locationName': 'United States', 'student': False, 'geoCountryName': 'United States', 'geoCountryUrn': 'urn:li:fs_geo:103644278', 'geoLocationBackfilled': True, 'elt': False, 'industryUrn': 'urn:li:fs_industry:4', 'firstName': 'Zhuo', 'entityUrn': 'urn:li:fs_profile:ACoAACCCqSABh5OWdaqs4Yl-i901wIZDEF0NVls', 'geoLocation': {'geoUrn': 'urn:li:fs_geo:90000084'}, 'geoLocationName': 'San Francisco Bay Area', 'location': {'basicLocation': {'countryCode': 'us'}}, 'headline': 'Actively seeking full-time Software Engineer', 'displayPictureUrl': 'https://media.licdn.com/dms/image/C4D03AQE5d1oz6MSFlg/profile-displayphoto-shrink_', 'profile_id': 'ACoAACCCqSABh5OWdaqs4Yl-i901wIZDEF0NVls', 'experience': [{'locationName': 'Beijing City, China', 'entityUrn': 'urn:li:fs_position:(ACoAACCCqSABh5OWdaqs4Yl-i901wIZDEF0NVls,1509877599)', 'geoLocationName': 'Beijing City, China', 'geoUrn': 'urn:li:fs_geo:103873152', 'companyName': 'Sohu.Com Inc.', 'timePeriod': {'endDate': {'month': 9, 'year': 2019}, 'startDate': {'month': 7, 'year': 2019}}, 'description': '•\\tWorked on Core Search Engine DevOps Team to improve intranet search performance\\n•\\tBuilt a custom analyzer and tokenizer in Lucene using Java, and registered the analyzer as an Elasticsearch plugin\\n•\\tMaintained a dictionary module in the analyzer, which in sync with company’s latest popular-word collection and achieved accuracy of around 80%\\n•\\tDeveloped Apache Maven POM file to automate the build process for the entire application\\n', 'company': {'employeeCountRange': {'start': 0, 'end': 1}, 'industries': ['Media Production']}, 'title': 'Back End Software Engineer Intern', 'region': 'urn:li:fs_region:(cn,8911)', 'companyUrn': 'urn:li:fs_miniCompany:3992829', 'companyLogoUrl': 'https://media.licdn.com/dms/image/C4E0BAQHobD5_L3JpTw/company-logo_'}, {'locationName': 'Greater Chicago Area', 'entityUrn': 'urn:li:fs_position:(ACoAACCCqSABh5OWdaqs4Yl-i901wIZDEF0NVls,1509878275)', 'geoLocationName': 'Greater Chicago Area', 'geoUrn': 'urn:li:fs_geo:90000014', 'companyName': 'PortSlate', 'timePeriod': {'endDate': {'month': 9, 'year': 2019}, 'startDate': {'month': 5, 'year': 2019}}, 'description': '•\\tDesigned and developed responsive e-commerce website with React and implemented backend features using Flask \\n•\\tDeployed the application on Amazon Web Service (AWS), and configured a load balancer to enhance its availability \\n•\\tParticipated actively in strategic discussions with board members, conducting competitor analysis\\n', 'company': {'employeeCountRange': {'start': 2, 'end': 10}, 'industries': ['Real Estate']}, 'title': 'Full Stack Developer Intern', 'region': 'urn:li:fs_region:(us,14)', 'companyUrn': 'urn:li:fs_miniCompany:35683406', 'companyLogoUrl': 'https://media.licdn.com/dms/image/C4E0BAQHJbQeLc4d0Tw/company-logo_'}, {'locationName': 'Irvine, California', 'entityUrn': 'urn:li:fs_position:(ACoAACCCqSABh5OWdaqs4Yl-i901wIZDEF0NVls,1021796757)', 'geoLocationName': 'Irvine, California', 'companyName': 'Thales', 'timePeriod': {'endDate': {'month': 9, 'year': 2017}, 'startDate': {'month': 6, 'year': 2017}}, 'description': '•\\tCompleted the development of an employee directory and company resource management service using Spring Boot, reducing the application procedures for a secure file resource within the company by 20% \\n•\\tInvolved in requirements gathering, analysis, design, and documentation of the service\\n', 'company': {'employeeCountRange': {'start': 10001}, 'industries': ['Information Technology and Services']}, 'title': 'Software Engineering Intern', 'companyUrn': 'urn:li:fs_miniCompany:1951', 'companyLogoUrl': 'https://media.licdn.com/dms/image/C4D0BAQEmnUAXTuLkJQ/company-logo_'}, {'entityUrn': 'urn:li:fs_position:(ACoAACCCqSABh5OWdaqs4Yl-i901wIZDEF0NVls,1016981835)', 'companyName': 'Chinese Business Society at UCSD', 'timePeriod': {'endDate': {'month': 9, 'year': 2017}, 'startDate': {'month': 2, 'year': 2017}}, 'company': {'employeeCountRange': {'start': 51, 'end': 200}, 'industries': ['Nonprofit Organization Management']}, 'title': 'Officer', 'companyUrn': 'urn:li:fs_miniCompany:18067278', 'companyLogoUrl': 'https://media.licdn.com/dms/image/C4E0BAQEtrsC7Rkuaeg/company-logo_'}], 'skills': [{'name': 'Java'}, {'name': 'C'}, {'name': 'C++'}, {'name': 'Data Structures'}, {'name': 'Android Development'}, {'name': 'Algorithm'}, {'name': 'Spring Framework'}, {'name': 'STS'}, {'name': 'Communication'}, {'name': 'Event Planning'}, {'name': 'Leadership'}, {'name': 'Teamwork'}, {'name': 'Microsoft Word'}], 'education': [{'entityUrn': 'urn:li:fs_education:(ACoAACCCqSABh5OWdaqs4Yl-i901wIZDEF0NVls,552427049)', 'school': {'objectUrn': 'urn:li:school:18314', 'entityUrn': 'urn:li:fs_miniSchool:18314', 'active': True, 'schoolName': 'University of Chicago', 'trackingId': 'cbmRH8bSRpO4SsvBWo4W1w==', 'logoUrl': 'https://media.licdn.com/dms/image/C560BAQHkPaNTCExvwQ/company-logo_'}, 'timePeriod': {'endDate': {'year': 2019}, 'startDate': {'year': 2018}}, 'fieldOfStudyUrn': 'urn:li:fs_fieldOfStudy:100189', 'degreeName': 'Master of Science - MS', 'schoolName': 'University of Chicago', 'fieldOfStudy': 'Computer Science', 'degreeUrn': 'urn:li:fs_degree:626', 'schoolUrn': 'urn:li:fs_miniSchool:18314'}, {'projects': ['urn:li:fs_project:(ACoAACCCqSABh5OWdaqs4Yl-i901wIZDEF0NVls,939053625)'], 'entityUrn': 'urn:li:fs_education:(ACoAACCCqSABh5OWdaqs4Yl-i901wIZDEF0NVls,381642412)', 'school': {'objectUrn': 'urn:li:school:17954', 'entityUrn': 'urn:li:fs_miniSchool:17954', 'active': True, 'schoolName': 'University of California San Diego', 'trackingId': 'yd4IAX3SQFWGRpfNUVGfeA==', 'logoUrl': 'https://media.licdn.com/dms/image/C560BAQHQYa-3EY_aaQ/company-logo_'}, 'timePeriod': {'endDate': {'month': 6, 'year': 2018}, 'startDate': {'year': 2014}}, 'fieldOfStudyUrn': 'urn:li:fs_fieldOfStudy:-1', 'degreeName': 'Bachelor Science - BS, Bachelor of Arts - BA', 'schoolName': 'University of California, San Diego', 'fieldOfStudy': 'Computer Science, Economics', 'schoolUrn': 'urn:li:fs_miniSchool:17954'}]}\n",
      "\n",
      "\n",
      "\n",
      "\n",
      "geoloc\n",
      "{'summary': 'Ask Alexa \"teach me about dolphins\" to get a glimpse of what my team at Amazon works on. I am a Software Engineer on a team that focuses on creating interactive learning experiences for Alexa users. I am passionate about coding because, to me, every problem is like a puzzle to solve that I could easily get lost in.\\nMy other passion is in mentorship and in helping provide resources to less-privileged students. I volunteer with TEALS to provide computer science support in high school classrooms. I am also involved with #BuiltByGirls to prepare young women and non-binary students for careers in the tech industry. I hope to get involved with more programs that support young women and students of color in pursuing fields that they are underrepresented in.', 'industryName': 'Computer Software', 'lastName': 'Batoon', 'locationName': 'United States', 'student': False, 'geoCountryName': 'United States', 'geoCountryUrn': 'urn:li:fs_geo:103644278', 'geoLocationBackfilled': True, 'elt': False, 'industryUrn': 'urn:li:fs_industry:4', 'firstName': 'Luzanne', 'entityUrn': 'urn:li:fs_profile:ACoAAB6GQO0B-7VajPvU4HgJoCoGnAWoiII82jY', 'geoLocation': {'geoUrn': 'urn:li:fs_geo:90000084'}, 'geoLocationName': 'San Francisco Bay Area', 'location': {'basicLocation': {'countryCode': 'us'}}, 'headline': 'Software Development Engineer at Amazon', 'profile_id': 'ACoAAB6GQO0B-7VajPvU4HgJoCoGnAWoiII82jY', 'experience': [{'locationName': 'Sunnyvale, CA', 'entityUrn': 'urn:li:fs_position:(ACoAAB6GQO0B-7VajPvU4HgJoCoGnAWoiII82jY,1363259049)', 'geoLocationName': 'Sunnyvale, CA', 'companyName': 'Amazon', 'timePeriod': {'startDate': {'month': 9, 'year': 2018}}, 'company': {'employeeCountRange': {'start': 10001}, 'industries': ['Internet']}, 'title': 'Software Development Engineer', 'companyUrn': 'urn:li:fs_miniCompany:1586', 'companyLogoUrl': 'https://media.licdn.com/dms/image/C560BAQFdwVGpSOHmgw/company-logo_'}, {'locationName': 'Seattle, WA', 'entityUrn': 'urn:li:fs_position:(ACoAAB6GQO0B-7VajPvU4HgJoCoGnAWoiII82jY,1028494480)', 'geoLocationName': 'Seattle, WA', 'geoUrn': 'urn:li:fs_geo:90000091', 'companyName': 'Amazon', 'timePeriod': {'endDate': {'month': 9, 'year': 2017}, 'startDate': {'month': 6, 'year': 2017}}, 'description': 'Developed an Android application for the Amazon Web Services AppSync team', 'company': {'employeeCountRange': {'start': 10001}, 'industries': ['Internet']}, 'title': 'Software Development Engineer Intern', 'region': 'urn:li:fs_region:(us,91)', 'companyUrn': 'urn:li:fs_miniCompany:1586', 'companyLogoUrl': 'https://media.licdn.com/dms/image/C560BAQFdwVGpSOHmgw/company-logo_'}, {'locationName': 'La Jolla, CA', '$anti_abuse_annotations': [{'domainType': 'MEMBER_POSITION_LOCATION_NAME'}, {'domainType': 'MEMBER_POSITION_ID'}, {'domainType': 'MEMBER_POSITION_LOCATION_NAME'}, {'domainType': 'MEMBER_POSITION_COMPANY_NAME'}, {'domainType': 'MEMBER_POSITION_START_DATE'}, {'domainType': 'MEMBER_POSITION_END_DATE'}, {'domainType': 'MEMBER_POSITION_DESCRIPTION'}, {'domainType': 'MEMBER_POSITION_TITLE'}], 'entityUrn': 'urn:li:fs_position:(ACoAAB6GQO0B-7VajPvU4HgJoCoGnAWoiII82jY,857919229)', 'geoLocationName': 'La Jolla, CA', 'companyName': 'UCSD The Village Residential Life', 'timePeriod': {'endDate': {'month': 6, 'year': 2017}, 'startDate': {'month': 9, 'year': 2016}}, 'description': '• Planned events aimed at promoting social development, academic success, or community involvement such as socials, workshops, and presentations\\n• Enforced policies in a residential setting while advocating for the use of on-campus resources\\n• Mediated situations and provided support for 70 residents through meetings and check-ins\\n', 'title': 'Resident Advisor'}, {'$anti_abuse_annotations': [{'domainType': 'MEMBER_POSITION_ID'}, {'domainType': 'MEMBER_POSITION_COMPANY_NAME'}, {'domainType': 'MEMBER_POSITION_START_DATE'}, {'domainType': 'MEMBER_POSITION_END_DATE'}, {'domainType': 'MEMBER_POSITION_DESCRIPTION'}, {'domainType': 'MEMBER_POSITION_TITLE'}], 'entityUrn': 'urn:li:fs_position:(ACoAAB6GQO0B-7VajPvU4HgJoCoGnAWoiII82jY,838542960)', 'companyName': 'UCSD COSMOS', 'timePeriod': {'endDate': {'month': 8, 'year': 2016}, 'startDate': {'month': 7, 'year': 2016}}, 'description': '• Programmed nightly social, educational, or active events for 180 high school students aimed at facilitating personal growth and forming lasting friendships\\n• Developed bonds and encouraged self discovery for 12 residents through nightly suite time\\n• Motivated and advised students about pursuing their interests in STEM\\n', 'title': 'Resident Advisor'}, {'$anti_abuse_annotations': [{'domainType': 'MEMBER_POSITION_ID'}, {'domainType': 'MEMBER_POSITION_COMPANY_NAME'}, {'domainType': 'MEMBER_POSITION_START_DATE'}, {'domainType': 'MEMBER_POSITION_END_DATE'}, {'domainType': 'MEMBER_POSITION_DESCRIPTION'}, {'domainType': 'MEMBER_POSITION_TITLE'}], 'entityUrn': 'urn:li:fs_position:(ACoAAB6GQO0B-7VajPvU4HgJoCoGnAWoiII82jY,838544654)', 'companyName': 'UCSD Warren College', 'timePeriod': {'endDate': {'month': 9, 'year': 2015}, 'startDate': {'month': 6, 'year': 2015}}, 'description': '• Guided groups of 20-30 incoming students through orientation and provided useful information\\n• Assimilated the students into the campus by sharing advice and answering all questions\\n• Encouraged thoughtful reflections after each workshop and connected students with each other', 'title': 'Orientation Leader'}], 'skills': [{'name': 'Java'}, {'name': 'Matlab'}, {'name': 'Soldering'}, {'name': 'Object-Oriented Programming (OOP)'}, {'name': 'C++'}, {'name': 'Python'}, {'name': 'Mentoring'}, {'name': 'Customer Service'}, {'name': 'Android Development'}, {'name': 'Python (Programming Language)'}], 'education': [{'entityUrn': 'urn:li:fs_education:(ACoAAB6GQO0B-7VajPvU4HgJoCoGnAWoiII82jY,356260553)', 'school': {'objectUrn': 'urn:li:school:17954', 'entityUrn': 'urn:li:fs_miniSchool:17954', 'active': True, 'schoolName': 'University of California San Diego', 'trackingId': 'U6Cx6Df+Rs+gckCsVUxtJw==', 'logoUrl': 'https://media.licdn.com/dms/image/C560BAQHQYa-3EY_aaQ/company-logo_'}, 'activities': 'Institute of Electrical and Electronics Engineers (IEEE)', 'timePeriod': {'endDate': {'year': 2018}, 'startDate': {'year': 2013}}, 'description': 'Concentration in Machine Learning', 'degreeName': 'Bachelor of Science (BS)', 'schoolName': 'University of California San Diego', 'fieldOfStudy': 'Electrical Engineering', 'degreeUrn': 'urn:li:fs_degree:400', 'schoolUrn': 'urn:li:fs_miniSchool:17954'}]}\n",
      "\n",
      "\n",
      "\n",
      "\n",
      "geoloc\n",
      "{'industryName': 'Computer Software', 'lastName': 'Huang', 'locationName': 'United States', 'student': False, 'geoCountryName': 'United States', 'geoCountryUrn': 'urn:li:fs_geo:103644278', 'geoLocationBackfilled': True, 'elt': False, 'industryUrn': 'urn:li:fs_industry:4', 'firstName': 'Suli', 'entityUrn': 'urn:li:fs_profile:ACoAABgn0pwByBaUyX3Wmp0bRRYHkSv05wNg5q8', 'geoLocation': {'geoUrn': 'urn:li:fs_geo:90000091'}, 'geoLocationName': 'Greater Seattle Area', 'location': {'basicLocation': {'countryCode': 'us'}}, 'headline': 'Software Engineer at Expedia Group', 'profile_id': 'ACoAABgn0pwByBaUyX3Wmp0bRRYHkSv05wNg5q8', 'experience': [{'locationName': 'Greater Seattle Area', 'entityUrn': 'urn:li:fs_position:(ACoAABgn0pwByBaUyX3Wmp0bRRYHkSv05wNg5q8,1316792279)', 'geoLocationName': 'Greater Seattle Area', 'geoUrn': 'urn:li:fs_geo:90000091', 'companyName': 'Expedia Group', 'timePeriod': {'startDate': {'month': 5, 'year': 2018}}, 'company': {'employeeCountRange': {'start': 10001}, 'industries': ['Internet']}, 'title': 'Software Engineer', 'region': 'urn:li:fs_region:(us,91)', 'companyUrn': 'urn:li:fs_miniCompany:2751', 'companyLogoUrl': 'https://media.licdn.com/dms/image/C560BAQHLDb34i5hgQg/company-logo_'}, {'locationName': 'Bellevue, Washington', 'entityUrn': 'urn:li:fs_position:(ACoAABgn0pwByBaUyX3Wmp0bRRYHkSv05wNg5q8,1020208795)', 'geoLocationName': 'Bellevue, Washington', 'companyName': 'Expedia, Inc.', 'timePeriod': {'endDate': {'month': 9, 'year': 2017}, 'startDate': {'month': 6, 'year': 2017}}, 'description': 'Help fraud modeling team build training data generator using Spark.', 'company': {'employeeCountRange': {'start': 10001}, 'industries': ['Internet']}, 'title': 'SDE Intern', 'companyUrn': 'urn:li:fs_miniCompany:2751', 'companyLogoUrl': 'https://media.licdn.com/dms/image/C560BAQHLDb34i5hgQg/company-logo_'}], 'skills': [{'name': 'C++'}, {'name': 'Java'}, {'name': 'C'}, {'name': 'Ruby on Rails'}, {'name': 'iOS Development'}, {'name': 'Spring Framework'}, {'name': 'java'}, {'name': 'Hive'}, {'name': 'Apache Spark'}, {'name': 'Hadoop'}], 'education': [{'entityUrn': 'urn:li:fs_education:(ACoAABgn0pwByBaUyX3Wmp0bRRYHkSv05wNg5q8,266689436)', 'school': {'objectUrn': 'urn:li:school:17954', 'entityUrn': 'urn:li:fs_miniSchool:17954', 'active': True, 'schoolName': 'University of California San Diego', 'trackingId': '/fYrIgb4RGKsa+VSLOGv4w==', 'logoUrl': 'https://media.licdn.com/dms/image/C560BAQHQYa-3EY_aaQ/company-logo_'}, 'timePeriod': {'endDate': {'year': 2017}, 'startDate': {'year': 2013}}, 'degreeName': 'Bachelor’s Degree', 'schoolName': 'University of California, San Diego', 'fieldOfStudy': 'Computer Science', 'schoolUrn': 'urn:li:fs_miniSchool:17954'}]}\n",
      "\n",
      "\n",
      "\n",
      "\n",
      "geoloc\n",
      "{'summary': 'https://liside.github.io  |  A doer with experience in building large-scale data system, machine learning frameworks, and data analytics tools. ', 'industryName': 'Internet', 'lastName': 'Li', 'locationName': 'United States', 'student': False, 'geoCountryName': 'United States', 'geoCountryUrn': 'urn:li:fs_geo:103644278', 'geoLocationBackfilled': True, 'elt': False, 'industryUrn': 'urn:li:fs_industry:6', 'firstName': 'Side', 'entityUrn': 'urn:li:fs_profile:ACoAABY7NRgBLv2_zadPxOr1YyMZKcLfNmUrmcA', 'geoLocation': {'geoUrn': 'urn:li:fs_geo:90000084'}, 'geoLocationName': 'San Francisco Bay Area', 'location': {'basicLocation': {'countryCode': 'us'}}, 'headline': 'Machine Learning Systems Researcher / Software Engineer', 'displayPictureUrl': 'https://media.licdn.com/dms/image/C5603AQGXOp0y5vIyyQ/profile-displayphoto-shrink_', 'profile_id': 'ACoAABY7NRgBLv2_zadPxOr1YyMZKcLfNmUrmcA', 'experience': [{'entityUrn': 'urn:li:fs_position:(ACoAABY7NRgBLv2_zadPxOr1YyMZKcLfNmUrmcA,1510712097)', 'companyName': 'University of California San Diego', 'timePeriod': {'startDate': {'month': 9, 'year': 2019}}, 'description': \"Arun's Data Analytics (ADA) Lab @ UCSD\", 'company': {'employeeCountRange': {'start': 10001}, 'industries': ['Higher Education']}, 'title': 'Graduate Research Assistant', 'companyUrn': 'urn:li:fs_miniCompany:3382', 'companyLogoUrl': 'https://media.licdn.com/dms/image/C560BAQHQYa-3EY_aaQ/company-logo_'}, {'locationName': 'San Francisco Bay Area', 'entityUrn': 'urn:li:fs_position:(ACoAABY7NRgBLv2_zadPxOr1YyMZKcLfNmUrmcA,1256635326)', 'geoLocationName': 'San Francisco Bay Area', 'geoUrn': 'urn:li:fs_geo:90000084', 'companyName': 'A9.com', 'timePeriod': {'endDate': {'month': 4, 'year': 2019}, 'startDate': {'month': 7, 'year': 2018}}, 'description': 'Amazon Ad Exchange, Amazon Owned and Operated Ads', 'company': {'employeeCountRange': {'start': 201, 'end': 500}, 'industries': ['Internet']}, 'title': 'Software Development Engineer', 'region': 'urn:li:fs_region:(us,84)', 'companyUrn': 'urn:li:fs_miniCompany:16551', 'companyLogoUrl': 'https://media.licdn.com/dms/image/C560BAQEXZN6mZAWLww/company-logo_'}, {'locationName': 'Greater San Diego Area', 'entityUrn': 'urn:li:fs_position:(ACoAABY7NRgBLv2_zadPxOr1YyMZKcLfNmUrmcA,994765796)', 'geoLocationName': 'Greater San Diego Area', 'geoUrn': 'urn:li:fs_geo:100737633', 'companyName': 'University of California San Diego', 'timePeriod': {'endDate': {'month': 7, 'year': 2018}, 'startDate': {'month': 6, 'year': 2017}}, 'description': 'Advanced data analytics LAB: https://adalabucsd.github.io\\n• Factorized machine learning on Numpy and Tensorflow.', 'company': {'employeeCountRange': {'start': 10001}, 'industries': ['Higher Education']}, 'title': 'Research Assistant', 'region': 'urn:li:fs_region:(us,732)', 'companyUrn': 'urn:li:fs_miniCompany:3382', 'companyLogoUrl': 'https://media.licdn.com/dms/image/C560BAQHQYa-3EY_aaQ/company-logo_'}, {'locationName': 'Greater San Diego Area', 'entityUrn': 'urn:li:fs_position:(ACoAABY7NRgBLv2_zadPxOr1YyMZKcLfNmUrmcA,782888592)', 'geoLocationName': 'Greater San Diego Area', 'companyName': 'UC San Diego Computer Science and Engineering Department (CSE)', 'timePeriod': {'endDate': {'month': 12, 'year': 2017}, 'startDate': {'month': 3, 'year': 2016}}, 'description': 'Classes: Mathematics for Algorithms and Systems, Design and Analysis of Algorithms', 'company': {'employeeCountRange': {'start': 10001}, 'industries': ['Education Management']}, 'title': 'Tutor', 'companyUrn': 'urn:li:fs_miniCompany:19117804', 'companyLogoUrl': 'https://media.licdn.com/dms/image/C560BAQGIXO6dE1du3w/company-logo_'}, {'locationName': 'Orange County, California Area', 'entityUrn': 'urn:li:fs_position:(ACoAABY7NRgBLv2_zadPxOr1YyMZKcLfNmUrmcA,1026346993)', 'geoLocationName': 'Orange County, California Area', 'companyName': 'Amazon', 'timePeriod': {'endDate': {'month': 9, 'year': 2017}, 'startDate': {'month': 6, 'year': 2017}}, 'description': 'Personalization and Recommendation System\\n• Boosted annualized profit up over million dollars.', 'company': {'employeeCountRange': {'start': 10001}, 'industries': ['Internet']}, 'title': 'Software Engineer Internship', 'companyUrn': 'urn:li:fs_miniCompany:1586', 'companyLogoUrl': 'https://media.licdn.com/dms/image/C560BAQFdwVGpSOHmgw/company-logo_'}], 'skills': [{'name': 'Python'}, {'name': 'Java'}, {'name': 'JavaScript'}, {'name': 'Machine Learning', 'standardizedSkillUrn': 'urn:li:fs_miniSkill:3289', 'standardizedSkill': {'name': 'Machine Learning', 'entityUrn': 'urn:li:fs_miniSkill:3289'}}, {'name': 'Distributed Systems'}, {'name': 'Web Development', 'standardizedSkillUrn': 'urn:li:fs_miniSkill:764', 'standardizedSkill': {'name': 'Web Development', 'entityUrn': 'urn:li:fs_miniSkill:764'}}, {'name': 'Data Analysis', 'standardizedSkillUrn': 'urn:li:fs_miniSkill:2470', 'standardizedSkill': {'name': 'Data Analysis', 'entityUrn': 'urn:li:fs_miniSkill:2470'}}, {'name': 'Software Development', 'standardizedSkillUrn': 'urn:li:fs_miniSkill:602', 'standardizedSkill': {'name': 'Software Development', 'entityUrn': 'urn:li:fs_miniSkill:602'}}, {'name': 'Docker'}, {'name': 'C++'}, {'name': 'HTML'}, {'name': 'CSS'}, {'name': 'SQL'}, {'name': 'Linux', 'standardizedSkillUrn': 'urn:li:fs_miniSkill:301', 'standardizedSkill': {'name': 'Linux', 'entityUrn': 'urn:li:fs_miniSkill:301'}}, {'name': 'Databases', 'standardizedSkillUrn': 'urn:li:fs_miniSkill:523', 'standardizedSkill': {'name': 'Databases', 'entityUrn': 'urn:li:fs_miniSkill:523'}}, {'name': 'Adobe Photoshop'}, {'name': 'PostgreSQL'}, {'name': 'MongoDB'}, {'name': 'Recommender Systems'}, {'name': 'Microservices'}, {'name': 'MapReduce'}, {'name': 'Containerization'}], 'education': [{'courses': ['urn:li:fs_course:(ACoAABY7NRgBLv2_zadPxOr1YyMZKcLfNmUrmcA,1)', 'urn:li:fs_course:(ACoAABY7NRgBLv2_zadPxOr1YyMZKcLfNmUrmcA,2)', 'urn:li:fs_course:(ACoAABY7NRgBLv2_zadPxOr1YyMZKcLfNmUrmcA,3)', 'urn:li:fs_course:(ACoAABY7NRgBLv2_zadPxOr1YyMZKcLfNmUrmcA,7)', 'urn:li:fs_course:(ACoAABY7NRgBLv2_zadPxOr1YyMZKcLfNmUrmcA,8)'], 'projects': ['urn:li:fs_project:(ACoAABY7NRgBLv2_zadPxOr1YyMZKcLfNmUrmcA,97996953)', 'urn:li:fs_project:(ACoAABY7NRgBLv2_zadPxOr1YyMZKcLfNmUrmcA,98148295)', 'urn:li:fs_project:(ACoAABY7NRgBLv2_zadPxOr1YyMZKcLfNmUrmcA,98245995)', 'urn:li:fs_project:(ACoAABY7NRgBLv2_zadPxOr1YyMZKcLfNmUrmcA,715612572)', 'urn:li:fs_project:(ACoAABY7NRgBLv2_zadPxOr1YyMZKcLfNmUrmcA,715745563)'], 'entityUrn': 'urn:li:fs_education:(ACoAABY7NRgBLv2_zadPxOr1YyMZKcLfNmUrmcA,241824614)', 'school': {'objectUrn': 'urn:li:school:17954', 'entityUrn': 'urn:li:fs_miniSchool:17954', 'active': True, 'schoolName': 'University of California San Diego', 'trackingId': 'bBrP549HTvKZMz442AaxLA==', 'logoUrl': 'https://media.licdn.com/dms/image/C560BAQHQYa-3EY_aaQ/company-logo_'}, 'timePeriod': {'endDate': {'year': 2018}, 'startDate': {'year': 2014}}, 'degreeName': 'Bachelor of Science (BS)', 'schoolName': 'University of California, San Diego', 'fieldOfStudy': 'Computer Science', 'honors': ['urn:li:fs_honor:(ACoAABY7NRgBLv2_zadPxOr1YyMZKcLfNmUrmcA,97609294)'], 'schoolUrn': 'urn:li:fs_miniSchool:17954'}, {'courses': ['urn:li:fs_course:(ACoAABY7NRgBLv2_zadPxOr1YyMZKcLfNmUrmcA,4)', 'urn:li:fs_course:(ACoAABY7NRgBLv2_zadPxOr1YyMZKcLfNmUrmcA,5)', 'urn:li:fs_course:(ACoAABY7NRgBLv2_zadPxOr1YyMZKcLfNmUrmcA,6)'], 'entityUrn': 'urn:li:fs_education:(ACoAABY7NRgBLv2_zadPxOr1YyMZKcLfNmUrmcA,294346266)', 'school': {'objectUrn': 'urn:li:school:17954', 'entityUrn': 'urn:li:fs_miniSchool:17954', 'active': True, 'schoolName': 'University of California San Diego', 'trackingId': 'wdZLeOE0Q7yYRu6EKROYyw==', 'logoUrl': 'https://media.licdn.com/dms/image/C560BAQHQYa-3EY_aaQ/company-logo_'}, 'timePeriod': {'endDate': {'year': 2018}, 'startDate': {'year': 2014}}, 'degreeName': 'Bachelor of Science (BS)', 'schoolName': 'University of California, San Diego', 'fieldOfStudy': 'Management Science', 'schoolUrn': 'urn:li:fs_miniSchool:17954'}]}\n",
      "\n",
      "\n",
      "\n",
      "\n",
      "geoloc\n",
      "{'summary': 'I am a Deep Learning Engineer, experienced in working on image- and vision-based tasks, but with interest in a lot of other technologies, such as Reinforcement Learning and Generative Models.', 'industryName': 'Computer Software', 'lastName': 'George', 'locationName': 'United States', 'student': False, 'geoCountryName': 'United States', 'geoCountryUrn': 'urn:li:fs_geo:103644278', 'geoLocationBackfilled': True, 'elt': False, 'industryUrn': 'urn:li:fs_industry:4', 'firstName': 'Melvin', 'entityUrn': 'urn:li:fs_profile:ACoAACoP8AsBLbLdyNBDGapK3phC7RhgvEG_7Ng', 'geoLocation': {'geoUrn': 'urn:li:fs_geo:90000084'}, 'geoLocationName': 'San Francisco Bay Area', 'location': {'basicLocation': {'countryCode': 'us'}}, 'headline': 'Student at University of California San Diego', 'displayPictureUrl': 'https://media.licdn.com/dms/image/C4E03AQFzk8AMVWP58Q/profile-displayphoto-shrink_', 'profile_id': 'ACoAACoP8AsBLbLdyNBDGapK3phC7RhgvEG_7Ng', 'experience': [{'locationName': 'Berkeley, CA', 'entityUrn': 'urn:li:fs_position:(ACoAACoP8AsBLbLdyNBDGapK3phC7RhgvEG_7Ng,1480217727)', 'geoLocationName': 'Berkeley, CA', 'companyName': 'University of California, Berkeley', 'timePeriod': {'endDate': {'month': 11, 'year': 2018}, 'startDate': {'month': 11, 'year': 2018}}, 'company': {'employeeCountRange': {'start': 10001}, 'industries': ['Higher Education']}, 'title': 'Machine Learning Mentor, Cal Hacks', 'companyUrn': 'urn:li:fs_miniCompany:2517', 'companyLogoUrl': 'https://media.licdn.com/dms/image/C560BAQHylmb-tm1JOw/company-logo_'}], 'skills': [{'name': 'Machine Learning'}, {'name': 'Software Development'}, {'name': 'Probability'}, {'name': 'Data Mining'}, {'name': 'Statistics'}, {'name': 'Data Science'}, {'name': 'Data Analysis'}, {'name': 'Operating Systems'}, {'name': 'Python (Programming Language)'}, {'name': 'PyTorch'}, {'name': 'C++'}, {'name': 'Java'}, {'name': 'Oracle SQL Developer'}, {'name': 'TensorFlow'}, {'name': 'Amazon Web Services (AWS)'}], 'education': [{'entityUrn': 'urn:li:fs_education:(ACoAACoP8AsBLbLdyNBDGapK3phC7RhgvEG_7Ng,599079958)', 'school': {'objectUrn': 'urn:li:school:17959', 'entityUrn': 'urn:li:fs_miniSchool:17959', 'active': True, 'schoolName': 'UC Santa Barbara', 'trackingId': 'YpzQhFRmRWmFdS6xs/NVoQ==', 'logoUrl': 'https://media.licdn.com/dms/image/C510BAQHEZRcLGw73jQ/company-logo_'}, 'timePeriod': {'endDate': {'year': 2020}, 'startDate': {'year': 2018}}, 'fieldOfStudyUrn': 'urn:li:fs_fieldOfStudy:100189', 'degreeName': \"Bachelor's degree\", 'schoolName': 'UC Santa Barbara', 'fieldOfStudy': 'Computer Science', 'degreeUrn': 'urn:li:fs_degree:200', 'schoolUrn': 'urn:li:fs_miniSchool:17959'}, {'entityUrn': 'urn:li:fs_education:(ACoAACoP8AsBLbLdyNBDGapK3phC7RhgvEG_7Ng,570688995)', 'school': {'objectUrn': 'urn:li:school:17954', 'entityUrn': 'urn:li:fs_miniSchool:17954', 'active': True, 'schoolName': 'University of California San Diego', 'trackingId': 'HOkh+laSQ/S6/ywot2+blg==', 'logoUrl': 'https://media.licdn.com/dms/image/C560BAQHQYa-3EY_aaQ/company-logo_'}, 'grade': '3.74', 'timePeriod': {'endDate': {'year': 2017}, 'startDate': {'year': 2016}}, 'description': 'Courses: \\nCSE 100 (Advanced Data Structure)\\nCSE 101 (Design & Analysis of Algorithms)\\nCSE 103 (Practical Intro to Probability & Statistics)\\nCSE 105 (Intro to Theory of Computation)\\nCSE 107 (Modern Cryptography)\\nCSE 110 (Software Engineering)\\n', 'fieldOfStudyUrn': 'urn:li:fs_fieldOfStudy:100189', 'degreeName': 'Bachelor of Science - BS', 'schoolName': 'University of California San Diego', 'fieldOfStudy': 'Computer Science', 'degreeUrn': 'urn:li:fs_degree:400', 'schoolUrn': 'urn:li:fs_miniSchool:17954'}]}\n",
      "\n",
      "\n",
      "\n",
      "\n",
      "geoloc\n",
      "{'industryName': 'Internet', 'lastName': 'He', 'locationName': 'United States', 'student': False, 'geoCountryName': 'United States', 'geoCountryUrn': 'urn:li:fs_geo:103644278', 'geoLocationBackfilled': True, 'elt': False, 'industryUrn': 'urn:li:fs_industry:6', 'firstName': 'Hanxiao', 'entityUrn': 'urn:li:fs_profile:ACoAACPl5VMBEy1V6h9JD9IxtIY_PG3AqV2Kmho', 'geoLocation': {'geoUrn': 'urn:li:fs_geo:90000084'}, 'geoLocationName': 'San Francisco Bay Area', 'location': {'basicLocation': {'countryCode': 'us'}}, 'headline': 'Software Engineer at Google', 'profile_id': 'ACoAACPl5VMBEy1V6h9JD9IxtIY_PG3AqV2Kmho', 'experience': [{'locationName': 'Mountain View', 'entityUrn': 'urn:li:fs_position:(ACoAACPl5VMBEy1V6h9JD9IxtIY_PG3AqV2Kmho,1427628452)', 'geoLocationName': 'Mountain View', 'companyName': 'Google', 'timePeriod': {'startDate': {'month': 2, 'year': 2019}}, 'company': {'employeeCountRange': {'start': 10001}, 'industries': ['Internet']}, 'title': 'Software Engineer', 'companyUrn': 'urn:li:fs_miniCompany:1441', 'companyLogoUrl': 'https://media.licdn.com/dms/image/C4D0BAQHiNSL4Or29cg/company-logo_'}, {'locationName': 'Mountain View', 'entityUrn': 'urn:li:fs_position:(ACoAACPl5VMBEy1V6h9JD9IxtIY_PG3AqV2Kmho,1332497898)', 'geoLocationName': 'Mountain View', 'companyName': 'Google', 'timePeriod': {'endDate': {'month': 9, 'year': 2018}, 'startDate': {'month': 6, 'year': 2018}}, 'company': {'employeeCountRange': {'start': 10001}, 'industries': ['Internet']}, 'title': 'Software Engineer Internship', 'companyUrn': 'urn:li:fs_miniCompany:1441', 'companyLogoUrl': 'https://media.licdn.com/dms/image/C4D0BAQHiNSL4Or29cg/company-logo_'}, {'locationName': 'Shanghai City, China', 'entityUrn': 'urn:li:fs_position:(ACoAACPl5VMBEy1V6h9JD9IxtIY_PG3AqV2Kmho,1092966255)', 'geoLocationName': 'Shanghai City, China', 'geoUrn': 'urn:li:fs_geo:100460093', 'companyName': 'YITUTech', 'timePeriod': {'endDate': {'month': 4, 'year': 2017}, 'startDate': {'month': 8, 'year': 2016}}, 'company': {'employeeCountRange': {'start': 501, 'end': 1000}, 'industries': ['Information Technology and Services']}, 'title': 'Software Engineer Internship', 'region': 'urn:li:fs_region:(cn,8909)', 'companyUrn': 'urn:li:fs_miniCompany:18049607', 'companyLogoUrl': 'https://media.licdn.com/dms/image/C510BAQHT9u6s_sxRsA/company-logo_'}], 'skills': [{'name': 'C++'}, {'name': 'C'}, {'name': 'Bash'}, {'name': 'Python'}, {'name': 'MatLab'}, {'name': 'Vim'}, {'name': 'Git'}, {'name': 'Verilog'}, {'name': 'VHDL'}, {'name': 'Java'}, {'name': 'Machine Learning'}, {'name': 'Linux'}, {'name': 'Artificial Intelligence (AI)'}, {'name': 'Matlab'}], 'education': [{'entityUrn': 'urn:li:fs_education:(ACoAACPl5VMBEy1V6h9JD9IxtIY_PG3AqV2Kmho,453369574)', 'school': {'objectUrn': 'urn:li:school:17954', 'entityUrn': 'urn:li:fs_miniSchool:17954', 'active': True, 'schoolName': 'University of California San Diego', 'trackingId': 'j3gpWRqxSTemn3gzpKN/vg==', 'logoUrl': 'https://media.licdn.com/dms/image/C560BAQHQYa-3EY_aaQ/company-logo_'}, 'timePeriod': {'endDate': {'year': 2018}, 'startDate': {'year': 2017}}, 'fieldOfStudyUrn': 'urn:li:fs_fieldOfStudy:100189', 'degreeName': 'Master of Science - MS', 'schoolName': 'University of California San Diego', 'fieldOfStudy': 'Computer Science', 'degreeUrn': 'urn:li:fs_degree:626', 'schoolUrn': 'urn:li:fs_miniSchool:17954'}, {'entityUrn': 'urn:li:fs_education:(ACoAACPl5VMBEy1V6h9JD9IxtIY_PG3AqV2Kmho,453370019)', 'school': {'objectUrn': 'urn:li:school:11319', 'entityUrn': 'urn:li:fs_miniSchool:11319', 'active': True, 'schoolName': 'Shanghai Jiao Tong University', 'trackingId': 'Z2I8qkMzQAur5bfLbwN04Q==', 'logoUrl': 'https://media.licdn.com/dms/image/C4E0BAQFkNUM4pr0xcg/company-logo_'}, 'timePeriod': {'endDate': {'year': 2017}, 'startDate': {'year': 2013}}, 'degreeName': 'Bachelor of Science - BS', 'schoolName': 'Shanghai Jiao Tong University', 'fieldOfStudy': 'Information Engineering', 'degreeUrn': 'urn:li:fs_degree:400', 'schoolUrn': 'urn:li:fs_miniSchool:11319'}, {'entityUrn': 'urn:li:fs_education:(ACoAACPl5VMBEy1V6h9JD9IxtIY_PG3AqV2Kmho,486835663)', 'school': {'objectUrn': 'urn:li:school:19657', 'entityUrn': 'urn:li:fs_miniSchool:19657', 'active': True, 'schoolName': 'University of Washington', 'trackingId': '1EPbXymsSLOSdTzyP8Qi1Q==', 'logoUrl': 'https://media.licdn.com/dms/image/C4D0BAQEMmhF9TqUCgA/company-logo_'}, 'timePeriod': {'endDate': {'year': 2015}, 'startDate': {'year': 2015}}, 'fieldOfStudyUrn': 'urn:li:fs_fieldOfStudy:100351', 'degreeName': 'Summer School', 'schoolName': 'University of Washington', 'fieldOfStudy': 'Electrical and Electronics Engineering', 'schoolUrn': 'urn:li:fs_miniSchool:19657'}]}\n",
      "\n",
      "\n",
      "\n",
      "\n",
      "industry\n",
      "{'lastName': 'Shen', 'locationName': 'La Jolla, California', 'student': False, 'geoCountryName': 'United States', 'geoCountryUrn': 'urn:li:fs_geo:103644278', 'geoLocationBackfilled': True, 'elt': False, 'firstName': 'Yuepeng', 'entityUrn': 'urn:li:fs_profile:ACoAAC1-YUUBvQKPG-wl1LQwBd1Ksq1yHL9WB98', 'geoLocation': {'geoUrn': 'urn:li:fs_geo:100737633'}, 'geoLocationName': 'San Diego County, California', 'location': {'preferredGeoPlace': 'urn:li:fs_city:(us,7-1-0-37-24)', 'basicLocation': {'countryCode': 'us'}}, 'headline': 'Seeking 2020 Summer Intern as SDE.', 'displayPictureUrl': 'https://media.licdn.com/dms/image/C4E03AQGCzTS3mSrfkw/profile-displayphoto-shrink_', 'profile_id': 'ACoAAC1-YUUBvQKPG-wl1LQwBd1Ksq1yHL9WB98', 'experience': [{'locationName': 'Beijing City, China', 'entityUrn': 'urn:li:fs_position:(ACoAAC1-YUUBvQKPG-wl1LQwBd1Ksq1yHL9WB98,1521469151)', 'geoLocationName': 'Beijing City, China', 'geoUrn': 'urn:li:fs_geo:103873152', 'companyName': 'Institute of Computing Technology, Chinese Academy of Sciences', 'timePeriod': {'endDate': {'month': 1, 'year': 2019}, 'startDate': {'month': 7, 'year': 2018}}, 'description': 'Built a SocialMediumComputing Toolbox using Python and TensorFlow, including three models: DeepHawkes: using information cascades in a small period of time to predict the popularity of information; StaticGreedy: finding a set of users who have the greatest influence to the whole graph efficiently; Cascade Dynamics Model: using the information cascades before this moment to predict the time that the next user joins into this cascade and who it is.\\n', 'company': {'employeeCountRange': {'start': 1001, 'end': 5000}, 'industries': ['Research']}, 'title': 'Research Assistant', 'region': 'urn:li:fs_region:(cn,8911)', 'companyUrn': 'urn:li:fs_miniCompany:5843237', 'companyLogoUrl': 'https://media.licdn.com/dms/image/C4D0BAQHeWjeE-uD58Q/company-logo_'}], 'skills': [{'name': 'Python (Programming Language)', 'standardizedSkillUrn': 'urn:li:fs_miniSkill:1346', 'standardizedSkill': {'name': 'Python (Programming Language)', 'entityUrn': 'urn:li:fs_miniSkill:1346'}}, {'name': 'Programming Languages', 'standardizedSkillUrn': 'urn:li:fs_miniSkill:13374', 'standardizedSkill': {'name': 'Programming Languages', 'entityUrn': 'urn:li:fs_miniSkill:13374'}}, {'name': 'TensorFlow', 'standardizedSkillUrn': 'urn:li:fs_miniSkill:55388', 'standardizedSkill': {'name': 'TensorFlow', 'entityUrn': 'urn:li:fs_miniSkill:55388'}}, {'name': 'Java', 'standardizedSkillUrn': 'urn:li:fs_miniSkill:147', 'standardizedSkill': {'name': 'Java', 'entityUrn': 'urn:li:fs_miniSkill:147'}}, {'name': 'C++'}, {'name': 'LabVIEW'}, {'name': 'Scala'}, {'name': 'Qt'}, {'name': 'Angular'}, {'name': 'Node.js'}, {'name': 'Git'}, {'name': 'Spark'}, {'name': 'SQL'}, {'name': 'Microsoft SQL Server'}, {'name': 'MySQL'}, {'name': 'MongoDB'}], 'education': [{'entityUrn': 'urn:li:fs_education:(ACoAAC1-YUUBvQKPG-wl1LQwBd1Ksq1yHL9WB98,614505461)', 'school': {'objectUrn': 'urn:li:school:17954', 'entityUrn': 'urn:li:fs_miniSchool:17954', 'active': True, 'schoolName': 'University of California San Diego', 'trackingId': 'y/thTYHkQL+LaFfuWcctkw==', 'logoUrl': 'https://media.licdn.com/dms/image/C560BAQHQYa-3EY_aaQ/company-logo_'}, 'timePeriod': {'endDate': {'year': 2021}, 'startDate': {'year': 2019}}, 'degreeName': 'Master of Science - MS', 'schoolName': 'University of California San Diego', 'fieldOfStudy': 'Electrical and Computer Engineering', 'schoolUrn': 'urn:li:fs_miniSchool:17954'}, {'courses': ['urn:li:fs_course:(ACoAAC1-YUUBvQKPG-wl1LQwBd1Ksq1yHL9WB98,1804308585)', 'urn:li:fs_course:(ACoAAC1-YUUBvQKPG-wl1LQwBd1Ksq1yHL9WB98,1804323375)', 'urn:li:fs_course:(ACoAAC1-YUUBvQKPG-wl1LQwBd1Ksq1yHL9WB98,1804339641)', 'urn:li:fs_course:(ACoAAC1-YUUBvQKPG-wl1LQwBd1Ksq1yHL9WB98,1804351520)', 'urn:li:fs_course:(ACoAAC1-YUUBvQKPG-wl1LQwBd1Ksq1yHL9WB98,1804365498)', 'urn:li:fs_course:(ACoAAC1-YUUBvQKPG-wl1LQwBd1Ksq1yHL9WB98,1804381933)', 'urn:li:fs_course:(ACoAAC1-YUUBvQKPG-wl1LQwBd1Ksq1yHL9WB98,1804398220)', 'urn:li:fs_course:(ACoAAC1-YUUBvQKPG-wl1LQwBd1Ksq1yHL9WB98,1804414413)', 'urn:li:fs_course:(ACoAAC1-YUUBvQKPG-wl1LQwBd1Ksq1yHL9WB98,1804428560)'], 'projects': ['urn:li:fs_project:(ACoAAC1-YUUBvQKPG-wl1LQwBd1Ksq1yHL9WB98,1804037465)', 'urn:li:fs_project:(ACoAAC1-YUUBvQKPG-wl1LQwBd1Ksq1yHL9WB98,1804122347)', 'urn:li:fs_project:(ACoAAC1-YUUBvQKPG-wl1LQwBd1Ksq1yHL9WB98,1804175025)'], 'entityUrn': 'urn:li:fs_education:(ACoAAC1-YUUBvQKPG-wl1LQwBd1Ksq1yHL9WB98,614946394)', 'school': {'objectUrn': 'urn:li:school:11039', 'entityUrn': 'urn:li:fs_miniSchool:11039', 'active': True, 'schoolName': 'Beijing University of Posts and Telecommunications', 'trackingId': 'bOYjMGQ+SJG7ROgTN6rk5w==', 'logoUrl': 'https://media.licdn.com/dms/image/C560BAQEN-CsxOZ3K9A/company-logo_'}, 'activities': 'Play backetball.', 'grade': '88/100', 'timePeriod': {'endDate': {'year': 2019}, 'startDate': {'year': 2015}}, 'degreeName': 'Bachelor of Engineering - BE', 'schoolName': 'Beijing University of Posts and Telecommunications', 'fieldOfStudy': 'Electronic Information Engineering', 'degreeUrn': 'urn:li:fs_degree:269', 'schoolUrn': 'urn:li:fs_miniSchool:11039'}]}\n",
      "\n",
      "\n",
      "\n",
      "\n",
      "geoloc\n",
      "{'summary': 'Software Engineer focusing on BackEnd, Full Stack with strong skills in Java, C++, C, and SQL\\n\\n• Solid knowledge in Data structure, Algorithm, Object Oriented Programming and Computer Science Fundamentals.\\n• 4+ years of extensive hands-on experience in Java, C++  and other Object-Oriented Programming Language\\n• 2+ years of experience in Web Development using Java, HTML, CSS, Javascript. Competence in developing high performance, highly scalable, database driven Web.\\n• Proficient in Web Application and Desktop Application Development\\n• Experience with ERP product application development', 'industryName': 'Computer Software', 'lastName': 'Zhou', 'locationName': 'United States', 'student': False, 'geoCountryName': 'United States', 'geoCountryUrn': 'urn:li:fs_geo:103644278', 'geoLocationBackfilled': True, 'elt': False, 'industryUrn': 'urn:li:fs_industry:4', 'firstName': 'Joe(Yuxiao)', 'entityUrn': 'urn:li:fs_profile:ACoAABRn0zEBn4ip-FhOmz2gXrcItddJXpP3mVw', 'geoLocation': {'geoUrn': 'urn:li:fs_geo:90000084'}, 'geoLocationName': 'San Francisco Bay Area', 'location': {'basicLocation': {'countryCode': 'us'}}, 'headline': 'Software Engineer II at Workday', 'profile_id': 'ACoAABRn0zEBn4ip-FhOmz2gXrcItddJXpP3mVw', 'experience': [{'entityUrn': 'urn:li:fs_position:(ACoAABRn0zEBn4ip-FhOmz2gXrcItddJXpP3mVw,1384595070)', 'companyName': 'Workday', 'timePeriod': {'startDate': {'month': 11, 'year': 2018}}, 'description': '• Build Financial Planning and Student Platform applications using Java and Workday proprietary language.\\n• Enhance exiting UI framework and deliver new UI layout, prompts style for internal application developers. \\n• Utilize Unified Modeling Language(UML) and apply object oriented design to create and maintain relationship of object classes. \\n• Mentor Interns and new hires to bring them up to speed at work.\\n• Develop ways to reduce one hour of system tests overall Runtime and expand test coverage.', 'company': {'employeeCountRange': {'start': 10001}, 'industries': ['Computer Software']}, 'title': 'Software Development Engineer II', 'companyUrn': 'urn:li:fs_miniCompany:17719', 'companyLogoUrl': 'https://media.licdn.com/dms/image/C4D0BAQH1uSVzuqHifg/company-logo_'}, {'locationName': 'Pleasanton, California', 'entityUrn': 'urn:li:fs_position:(ACoAABRn0zEBn4ip-FhOmz2gXrcItddJXpP3mVw,1060877141)', 'geoLocationName': 'Pleasanton, California', 'companyName': 'Workday', 'timePeriod': {'endDate': {'month': 10, 'year': 2018}, 'startDate': {'month': 9, 'year': 2017}}, 'company': {'employeeCountRange': {'start': 10001}, 'industries': ['Computer Software']}, 'title': 'Software Application Engineer', 'companyUrn': 'urn:li:fs_miniCompany:17719', 'companyLogoUrl': 'https://media.licdn.com/dms/image/C4D0BAQH1uSVzuqHifg/company-logo_'}, {'locationName': 'Rancho Bernardo', 'entityUrn': 'urn:li:fs_position:(ACoAABRn0zEBn4ip-FhOmz2gXrcItddJXpP3mVw,838501767)', 'geoLocationName': 'Rancho Bernardo', 'companyName': 'Hewlett Packard Enterprise', 'timePeriod': {'endDate': {'month': 9, 'year': 2017}, 'startDate': {'month': 8, 'year': 2016}}, 'description': '• Code and test  C# programs in .NET framework  to develop \"inspection hub\" desktop applications that is used by San Diego county customers for inspections purposes. \\n• Coordinate, analyze, design and development of  reports in Oracle E-Business Suite using XML Publisher/BI publisher desktop. \\n• Utilize Oracle technical tools such as SQL Developer, TOAD, Oracle Workflow, Forms, BI-Publisher, PL/SQL to develop solutions to support the business and to enhance functionality based on business requirements\\n• Troubleshoot issues to find the root cause and provide technical solutions to support San Diego   county end users', 'company': {'employeeCountRange': {'start': 10001}, 'industries': ['Information Technology and Services']}, 'title': 'Software Engineer', 'companyUrn': 'urn:li:fs_miniCompany:1025', 'companyLogoUrl': 'https://media.licdn.com/dms/image/C4D0BAQEzfzd-1PYMuA/company-logo_'}, {'locationName': 'Sunnyvale', 'entityUrn': 'urn:li:fs_position:(ACoAABRn0zEBn4ip-FhOmz2gXrcItddJXpP3mVw,681059620)', 'geoLocationName': 'Sunnyvale', 'companyName': 'PMC-Sierra', 'timePeriod': {'endDate': {'month': 8, 'year': 2015}, 'startDate': {'month': 6, 'year': 2015}}, 'description': '•\\tUsed Java Swing libraries to develop GUIs for Chiplink tool which is use to diagnose, tune, and debug hardware devices\\n•\\tTested storage boards with firmware to ensure qualified delivery\\n•\\tResearch on embedding videos into “Help Contents” of Java Help in NetBeans IDE.\\n•\\tResponsible for fixing Java code warnings and resolving bugs. \\n', 'company': {'employeeCountRange': {'start': 10001}, 'industries': ['Semiconductors']}, 'title': 'Software Engineer Coop', 'companyUrn': 'urn:li:fs_miniCompany:4583', 'companyLogoUrl': 'https://media.licdn.com/dms/image/C4E0BAQH4CKAeybIWaA/company-logo_'}], 'skills': [{'name': 'Java'}, {'name': 'Microsoft Excel'}, {'name': 'Microsoft Office'}, {'name': 'C++'}, {'name': 'Research'}, {'name': 'C'}, {'name': 'Microsoft Word'}, {'name': 'Linux'}, {'name': 'Programming'}, {'name': 'PowerPoint'}, {'name': 'Matlab'}, {'name': 'SQL'}, {'name': 'JavaScript'}, {'name': 'C#'}, {'name': '.NET Framework'}], 'education': [{'projects': ['urn:li:fs_project:(ACoAABRn0zEBn4ip-FhOmz2gXrcItddJXpP3mVw,1046959472)', 'urn:li:fs_project:(ACoAABRn0zEBn4ip-FhOmz2gXrcItddJXpP3mVw,1047042076)', 'urn:li:fs_project:(ACoAABRn0zEBn4ip-FhOmz2gXrcItddJXpP3mVw,1047217056)'], 'entityUrn': 'urn:li:fs_education:(ACoAABRn0zEBn4ip-FhOmz2gXrcItddJXpP3mVw,265153221)', 'school': {'objectUrn': 'urn:li:school:17954', 'entityUrn': 'urn:li:fs_miniSchool:17954', 'active': True, 'schoolName': 'University of California San Diego', 'trackingId': 'kOAS5ZOJSw2D9YP3PuWjIg==', 'logoUrl': 'https://media.licdn.com/dms/image/C560BAQHQYa-3EY_aaQ/company-logo_'}, 'grade': '3.9', 'timePeriod': {'endDate': {'year': 2016}, 'startDate': {'year': 2013}}, 'degreeName': \"Bachelor's Degree\", 'schoolName': 'University of California, San Diego', 'fieldOfStudy': 'Computer Science and Engineering', 'schoolUrn': 'urn:li:fs_miniSchool:17954'}]}\n",
      "\n",
      "\n",
      "\n",
      "\n",
      "geoloc\n",
      "{'industryName': 'Computer Software', 'lastName': 'Fu', 'locationName': 'United States', 'student': False, 'geoCountryName': 'United States', 'geoCountryUrn': 'urn:li:fs_geo:103644278', 'geoLocationBackfilled': True, 'elt': False, 'industryUrn': 'urn:li:fs_industry:4', 'firstName': 'Zijin (Ari)', 'entityUrn': 'urn:li:fs_profile:ACoAAB-n2uIBgCeBw-jDZ-7iJVeTwEjLbLHiX_U', 'geoLocation': {'geoUrn': 'urn:li:fs_geo:90000084'}, 'geoLocationName': 'San Francisco Bay Area', 'location': {'basicLocation': {'countryCode': 'us'}}, 'headline': 'Software Engineer at Facebook', 'profile_id': 'ACoAAB-n2uIBgCeBw-jDZ-7iJVeTwEjLbLHiX_U', 'experience': [{'entityUrn': 'urn:li:fs_position:(ACoAAB-n2uIBgCeBw-jDZ-7iJVeTwEjLbLHiX_U,1515183256)', 'companyName': 'Facebook', 'timePeriod': {'startDate': {'month': 8, 'year': 2019}}, 'company': {'employeeCountRange': {'start': 10001}, 'industries': ['Internet']}, 'title': 'Software Engineer', 'companyUrn': 'urn:li:fs_miniCompany:10667', 'companyLogoUrl': 'https://media.licdn.com/dms/image/C560BAQFjQHzcZz7J6g/company-logo_'}, {'locationName': 'Menlo Park, CA', 'entityUrn': 'urn:li:fs_position:(ACoAAB-n2uIBgCeBw-jDZ-7iJVeTwEjLbLHiX_U,1338419781)', 'geoLocationName': 'Menlo Park, CA', 'companyName': 'Facebook', 'timePeriod': {'endDate': {'month': 9, 'year': 2018}, 'startDate': {'month': 6, 'year': 2018}}, 'company': {'employeeCountRange': {'start': 10001}, 'industries': ['Internet']}, 'title': 'Software Engineer Intern', 'companyUrn': 'urn:li:fs_miniCompany:10667', 'companyLogoUrl': 'https://media.licdn.com/dms/image/C560BAQFjQHzcZz7J6g/company-logo_'}, {'locationName': 'Santa Clara, CA', 'entityUrn': 'urn:li:fs_position:(ACoAAB-n2uIBgCeBw-jDZ-7iJVeTwEjLbLHiX_U,1058067388)', 'geoLocationName': 'Santa Clara, CA', 'companyName': 'Medium One', 'timePeriod': {'endDate': {'month': 9, 'year': 2017}, 'startDate': {'month': 6, 'year': 2017}}, 'company': {'employeeCountRange': {'start': 11, 'end': 50}, 'industries': ['Computer Software']}, 'title': 'Software Developer Intern', 'companyUrn': 'urn:li:fs_miniCompany:3995740', 'companyLogoUrl': 'https://media.licdn.com/dms/image/C510BAQHhOrNCrlVZ9w/company-logo_'}], 'skills': [], 'education': [{'entityUrn': 'urn:li:fs_education:(ACoAAB-n2uIBgCeBw-jDZ-7iJVeTwEjLbLHiX_U,371175321)', 'school': {'objectUrn': 'urn:li:school:17954', 'entityUrn': 'urn:li:fs_miniSchool:17954', 'active': True, 'schoolName': 'University of California San Diego', 'trackingId': 'rNlFvqJ+SUqVACexuAqv2g==', 'logoUrl': 'https://media.licdn.com/dms/image/C560BAQHQYa-3EY_aaQ/company-logo_'}, 'activities': 'the National Society of Collegiate Scholars', 'timePeriod': {'endDate': {'year': 2019}, 'startDate': {'year': 2015}}, 'degreeName': 'Bachelor’s Degree', 'schoolName': 'University of California, San Diego', 'fieldOfStudy': 'Computer Science', 'schoolUrn': 'urn:li:fs_miniSchool:17954'}]}\n",
      "\n",
      "\n",
      "\n",
      "\n",
      "geoloc\n",
      "{'summary': '📖 Bio:\\n\\n✨ Credentials/Skills:\\n• M.S.+B.S. Degree in Computer Science from UCSD - Summa Cum Laude (Top 1%, highest departmental honors awarded)\\n• Fluent in JavaScript Java C++ Python\\n• Experienced Industry Mentor, Life Coach and Independent Consultant: From small startups to large enterprise software corporations, I can find and point out the pain points of any individual contributor or team, as well as provide constructive criticism and coaching on the organization as a whole and set the course to significantly increase the probability of success.\\n\\n💻 Specialties ( Technical ):\\n• User Experience and Interactivity. \"Always thinking about customers and the market, ways to improve the process, new emerging market prediction and product data analysis.\"\\n• Full-Stack Web Development. \"JavaScript Library Archaeologist - finding the best of the best and analyzing them to create new quality content and experiences.\"\\n• Computer Graphics/3D Math, Cameras, and Special (Post-Processing) FX for Movies, Games, AR/VR. \"Rendering Engine aficionado, down to the metal - fully equipped to handle modern rendering pipelines and shaders.\"\\n\\n💡 Specialties ( Creative ):\\n• Orator, Writer, and Presenter. \"Creator of The most dynamic presentation software in the world.\"\\n• World Music, Jazz Improvisation. \"Stunning, Breathtaking Piano Performances encompassing over a decade of training and learning techniques from masters spanning from across the globe.\"\\n• Eastern Philosophy, Tai Chi. \"The body is the temple of the mind; philosophy and martial arts allow me to fluidly express myself and engage each day to the fullest extent both in work and in life.\"\\n\\n📱 Feel free to reach out if you would like to inquire more about my services (or to let me know about any interesting projects that you\\'re working on - I am usually open for lunch.)\\n\\n✈ I am open to relocating!\\n\\n🌐 www.JonathanShamblen.com\\n\\n📕 End of Bio.', 'industryName': 'Computer Software', 'lastName': 'Shamblen', 'locationName': 'United States', 'student': False, 'geoCountryName': 'United States', 'geoCountryUrn': 'urn:li:fs_geo:103644278', 'geoLocationBackfilled': True, 'elt': False, 'industryUrn': 'urn:li:fs_industry:4', 'firstName': 'Jonathan', 'entityUrn': 'urn:li:fs_profile:ACoAACa10SABCELth4TANolbvApJsJyIxzVMdgg', 'geoLocation': {'geoUrn': 'urn:li:fs_geo:90000084'}, 'geoLocationName': 'San Francisco Bay Area', 'location': {'basicLocation': {'countryCode': 'us'}}, 'headline': 'Software Engineer Full Stack', 'profile_id': 'ACoAACa10SABCELth4TANolbvApJsJyIxzVMdgg', 'experience': [{'locationName': 'San Francisco Bay Area', 'entityUrn': 'urn:li:fs_position:(ACoAACa10SABCELth4TANolbvApJsJyIxzVMdgg,1493482856)', 'geoLocationName': 'San Francisco Bay Area', 'geoUrn': 'urn:li:fs_geo:90000084', 'companyName': 'Veeva Systems', 'timePeriod': {'startDate': {'month': 8, 'year': 2019}}, 'description': '● Veeva Vault Quality Applications suite developer - this includes application development using React for the frontend, the Java 8 API for the backend and testing of features using the mockito framework.\\n● Effectively communicate in person and online with teammates to meet all deadlines and requirements, primarily using agile sprints. Well-versed in talking with Project Managers, Quality Assurance teams and Senior Software Developers by creating and resolving user stories, defects, bugs, and upgrades directly from customers utilizing the JIRA platform.\\n● Currently heavily involved in the design and implementation of the classroom training suite, which has a plethora of features that allow you to test your knowledge about the pharmaceutical industry through quizzes, managing and uploading documents, reference materials and other features related to administering an online classroom simulator. \\n● All features are given strict code-reviews from a panel of software engineers and architects, as well as verification via automated build pipelines using Jenkins. Iterative retrospectives are done after each sprint which leads to improved code quality and team communication overall.\\n● Featuring a multilingual global customer base, our company is currently the #1 dominating industry leader in the life sciences and pharmaceutical industry, and the Quality Training application itself has over 3000 users and is growing rapidly!', 'company': {'employeeCountRange': {'start': 1001, 'end': 5000}, 'industries': ['Computer Software']}, 'title': 'Associate Software Engineer', 'region': 'urn:li:fs_region:(us,84)', 'companyUrn': 'urn:li:fs_miniCompany:402048', 'companyLogoUrl': 'https://media.licdn.com/dms/image/C4E0BAQHW29Wyz9Q11w/company-logo_'}, {'entityUrn': 'urn:li:fs_position:(ACoAACa10SABCELth4TANolbvApJsJyIxzVMdgg,1412774447)', 'companyName': 'San Diego Supercomputer Center', 'timePeriod': {'endDate': {'month': 2, 'year': 2019}, 'startDate': {'month': 12, 'year': 2018}}, 'description': '● Front End Engineer for SDSC/RCSB PDB, a protein data bank website with a global userbase viewed by over 350,000+ unique users spanning across the globe.\\n● Responsible for implementing modern web practices such as user experience, user interface design,  performance, and scalability via content delivery networks to enhance site usability and aesthetics. \\n● Created, designed and implemented an enhanced open-source charting library using D3.js and Node.js (known as TopChartJS) for enhanced user experience and usability, see images below for examples.', 'company': {'employeeCountRange': {'start': 201, 'end': 500}, 'industries': ['Information Technology and Services']}, 'title': 'Front End Web Engineer', 'companyUrn': 'urn:li:fs_miniCompany:10843', 'companyLogoUrl': 'https://media.licdn.com/dms/image/C560BAQELHgCB8o5tSA/company-logo_'}, {'locationName': 'Greater San Diego Area', 'entityUrn': 'urn:li:fs_position:(ACoAACa10SABCELth4TANolbvApJsJyIxzVMdgg,1333895686)', 'geoLocationName': 'Greater San Diego Area', 'geoUrn': 'urn:li:fs_geo:100737633', 'companyName': 'University of California San Diego', 'timePeriod': {'endDate': {'month': 11, 'year': 2018}, 'startDate': {'month': 9, 'year': 2017}}, 'description': '● Implemented on a variety of high-quality and performant rendering engines in C++/OpenGL for desktop and web using javascript/three.js. \\n● Includes a fully functioning scene graph, shader pipeline including postprocessing effects, a forward kinematics rigger and animations, model data parsing and loading. \\n● Also, built the Valhalla app, which allows you to find and filter the optimal notes to play for any kind of musical mode or scale using a cache-performant local storage DB to parse MIDI files using python/GNU lilypond. Also, Implemented a webcomic reader. Most of the work was supervised and guided by a UCSD professor or done freelance.', 'company': {'employeeCountRange': {'start': 10001}, 'industries': ['Higher Education']}, 'title': 'Software Engineer, Stealth Startup, Front-End Web', 'region': 'urn:li:fs_region:(us,732)', 'companyUrn': 'urn:li:fs_miniCompany:3382', 'companyLogoUrl': 'https://media.licdn.com/dms/image/C560BAQHQYa-3EY_aaQ/company-logo_'}, {'entityUrn': 'urn:li:fs_position:(ACoAACa10SABCELth4TANolbvApJsJyIxzVMdgg,1280640651)', 'companyName': 'University of California San Diego', 'timePeriod': {'endDate': {'month': 9, 'year': 2017}, 'startDate': {'month': 6, 'year': 2017}}, 'description': '● Teaching Assistant for Client-side and Server-Side Web Development (CSE 134B and CSE135).\\nLead discussion sections to help students in learning the basics of front-end design HTML, CSS, Javascript, and getting a back-end webserver online.', 'company': {'employeeCountRange': {'start': 10001}, 'industries': ['Higher Education']}, 'title': 'Graduate Teaching Assistant', 'companyUrn': 'urn:li:fs_miniCompany:3382', 'companyLogoUrl': 'https://media.licdn.com/dms/image/C560BAQHQYa-3EY_aaQ/company-logo_'}, {'entityUrn': 'urn:li:fs_position:(ACoAACa10SABCELth4TANolbvApJsJyIxzVMdgg,1333896186)', 'companyName': 'University of California San Diego', 'timePeriod': {'endDate': {'month': 9, 'year': 2016}, 'startDate': {'month': 6, 'year': 2016}}, 'description': '● Teaching assistant for CSE 141L, Digital Systems Laboratory. Held lab hours to help implement a multi-stage fully functional pipelined and performant MIPS processor with hazard detection and clock-cycle speed optimization.', 'company': {'employeeCountRange': {'start': 10001}, 'industries': ['Higher Education']}, 'title': 'Graduate Teaching Assistant', 'companyUrn': 'urn:li:fs_miniCompany:3382', 'companyLogoUrl': 'https://media.licdn.com/dms/image/C560BAQHQYa-3EY_aaQ/company-logo_'}], 'skills': [{'name': 'JavaScript', 'standardizedSkillUrn': 'urn:li:fs_miniSkill:218', 'standardizedSkill': {'name': 'JavaScript', 'entityUrn': 'urn:li:fs_miniSkill:218'}}, {'name': 'Java'}, {'name': 'WebGL'}, {'name': 'Web Development', 'standardizedSkillUrn': 'urn:li:fs_miniSkill:764', 'standardizedSkill': {'name': 'Web Development', 'entityUrn': 'urn:li:fs_miniSkill:764'}}, {'name': 'Agile'}, {'name': 'Aesthetics'}, {'name': 'Algorithms'}, {'name': 'Front-end Development'}, {'name': 'Optimization'}, {'name': 'Scrum'}, {'name': 'Web Services'}, {'name': 'Entrepreneurship'}, {'name': 'Programming'}, {'name': 'Music Composition'}, {'name': 'Piano'}, {'name': 'Design Patterns'}, {'name': 'Search Engine Optimization (SEO)'}, {'name': 'User Experience (UX)'}, {'name': 'User Interface Design'}, {'name': 'Cinematography'}, {'name': 'C++', 'standardizedSkillUrn': 'urn:li:fs_miniSkill:198', 'standardizedSkill': {'name': 'C++', 'entityUrn': 'urn:li:fs_miniSkill:198'}}, {'name': 'CSS'}, {'name': 'jQuery'}, {'name': 'HTML', 'standardizedSkillUrn': 'urn:li:fs_miniSkill:280', 'standardizedSkill': {'name': 'HTML', 'entityUrn': 'urn:li:fs_miniSkill:280'}}, {'name': 'C'}, {'name': 'LaTeX'}, {'name': 'bash'}, {'name': 'git'}, {'name': 'Linux'}, {'name': 'OpenGL'}, {'name': 'Matlab'}, {'name': 'Python'}, {'name': 'Eclipse'}, {'name': 'Node.js'}, {'name': 'Three.js'}, {'name': 'React.js'}, {'name': 'Cascading Style Sheets (CSS)'}, {'name': 'Teaching'}, {'name': 'Team Leadership'}, {'name': 'Management'}, {'name': 'OpenGL Shading Language (GLSL)'}, {'name': 'Erhu'}, {'name': 'Git'}], 'education': [{'courses': ['urn:li:fs_course:(ACoAACa10SABCELth4TANolbvApJsJyIxzVMdgg,3526322)', 'urn:li:fs_course:(ACoAACa10SABCELth4TANolbvApJsJyIxzVMdgg,3667507)'], 'entityUrn': 'urn:li:fs_education:(ACoAACa10SABCELth4TANolbvApJsJyIxzVMdgg,524622593)', 'school': {'objectUrn': 'urn:li:school:17954', 'entityUrn': 'urn:li:fs_miniSchool:17954', 'active': True, 'schoolName': 'University of California San Diego', 'trackingId': 'vumMllPGTa66Vkt5ILsbcw==', 'logoUrl': 'https://media.licdn.com/dms/image/C560BAQHQYa-3EY_aaQ/company-logo_'}, 'activities': 'Emphasis: Computer Graphics and Vision, focus on High-Quality Real-time Rendering and Non-Photorealistic Rendering. (Using OpenGL and javascript rendering libraries such as three.js to create advanced visually immersive experienced. Well-versed in 3D Matrix Math and GPU programming).', 'timePeriod': {'endDate': {'year': 2017}, 'startDate': {'year': 2015}}, 'degreeName': \"Master's degree\", 'schoolName': 'University of California San Diego', 'fieldOfStudy': 'Computer Science, Computer Graphics Specialization', 'degreeUrn': 'urn:li:fs_degree:500', 'schoolUrn': 'urn:li:fs_miniSchool:17954'}, {'courses': ['urn:li:fs_course:(ACoAACa10SABCELth4TANolbvApJsJyIxzVMdgg,1544216322)', 'urn:li:fs_course:(ACoAACa10SABCELth4TANolbvApJsJyIxzVMdgg,3555750)', 'urn:li:fs_course:(ACoAACa10SABCELth4TANolbvApJsJyIxzVMdgg,3620637)', 'urn:li:fs_course:(ACoAACa10SABCELth4TANolbvApJsJyIxzVMdgg,3886343)'], 'entityUrn': 'urn:li:fs_education:(ACoAACa10SABCELth4TANolbvApJsJyIxzVMdgg,524623976)', 'school': {'objectUrn': 'urn:li:school:17954', 'entityUrn': 'urn:li:fs_miniSchool:17954', 'active': True, 'schoolName': 'University of California San Diego', 'trackingId': 'JQFXjKHYR3ST81RIMVF91g==', 'logoUrl': 'https://media.licdn.com/dms/image/C560BAQHQYa-3EY_aaQ/company-logo_'}, 'activities': 'Highest Departmental Honors: Summa Cum Laude (Top 1%),\\nTutor for Digital Systems (CSE 140L),\\nHonors Thesis: Hierarchically Expanding Radial Menus for 3D User Interfaces', 'timePeriod': {'endDate': {'year': 2014}, 'startDate': {'year': 2010}}, 'fieldOfStudyUrn': 'urn:li:fs_fieldOfStudy:100189', 'degreeName': \"Bachelor's degree\", 'schoolName': 'University of California San Diego', 'fieldOfStudy': 'Computer Science', 'degreeUrn': 'urn:li:fs_degree:200', 'schoolUrn': 'urn:li:fs_miniSchool:17954'}]}\n",
      "\n",
      "\n",
      "\n",
      "\n",
      "geoloc\n",
      "{'summary': \"Graduated Bachelor Degree and Master's degree in Computer Science  from University of California San Diego. \\nTutor at UCSD Computer Science and Engineering Department. \\nStrong Knowledge in Java, C++, C, JS, and advanced data structure. \", 'industryName': 'Computer Software', 'lastName': 'Fakhourian', 'locationName': 'United States', 'student': False, 'geoCountryName': 'United States', 'geoCountryUrn': 'urn:li:fs_geo:103644278', 'geoLocationBackfilled': True, 'elt': False, 'industryUrn': 'urn:li:fs_industry:4', 'firstName': 'Eric', 'entityUrn': 'urn:li:fs_profile:ACoAAAz_FxoBf296MTaJ5QqfBO6nxexyah9qlaI', 'geoLocation': {'geoUrn': 'urn:li:fs_geo:90000049'}, 'geoLocationName': 'Los Angeles Metropolitan Area', 'location': {'basicLocation': {'countryCode': 'us'}}, 'headline': 'Software Engineer at Intuit', 'displayPictureUrl': 'https://media.licdn.com/dms/image/C5603AQET4DLR1mL5Sg/profile-displayphoto-shrink_', 'profile_id': 'ACoAAAz_FxoBf296MTaJ5QqfBO6nxexyah9qlaI', 'experience': [{'locationName': 'Greater Los Angeles Area', 'entityUrn': 'urn:li:fs_position:(ACoAAAz_FxoBf296MTaJ5QqfBO6nxexyah9qlaI,1207620969)', 'geoLocationName': 'Greater Los Angeles Area', 'geoUrn': 'urn:li:fs_geo:90000049', 'companyName': 'Intuit', 'timePeriod': {'startDate': {'month': 1, 'year': 2018}}, 'company': {'employeeCountRange': {'start': 5001, 'end': 10000}, 'industries': ['Computer Software']}, 'title': 'Software Engineer', 'region': 'urn:li:fs_region:(us,49)', 'companyUrn': 'urn:li:fs_miniCompany:1666', 'companyLogoUrl': 'https://media.licdn.com/dms/image/C560BAQGOogK4mROSpg/company-logo_'}, {'locationName': 'La jolla', 'entityUrn': 'urn:li:fs_position:(ACoAAAz_FxoBf296MTaJ5QqfBO6nxexyah9qlaI,861660246)', 'geoLocationName': 'La jolla', 'companyName': 'University of California, San Diego - Jacobs School of Engineering', 'timePeriod': {'endDate': {'month': 12, 'year': 2017}, 'startDate': {'month': 9, 'year': 2016}}, 'description': 'CSE 12/15L (Basic Data Structures and Object-Oriented Design and Software Tools and Techniques Laboratory. assisting students in the implementation of basic data structures such as stacks, linked lists, queues, hash tables and binary trees. As well as the basics of Git, Vim, gdb, writing test-cases, Eclipse, Makefiles and Valgrind.', 'company': {'employeeCountRange': {'start': 10001}, 'industries': ['Education Management']}, 'title': 'Graduate Teacher Assistant', 'companyUrn': 'urn:li:fs_miniCompany:1108506', 'companyLogoUrl': 'https://media.licdn.com/dms/image/C4D0BAQFcs3E9NN8icg/company-logo_'}, {'locationName': 'Greater San Diego Area', 'entityUrn': 'urn:li:fs_position:(ACoAAAz_FxoBf296MTaJ5QqfBO6nxexyah9qlaI,1015142702)', 'geoLocationName': 'Greater San Diego Area', 'geoUrn': 'urn:li:fs_geo:100737633', 'companyName': 'Intuit', 'timePeriod': {'endDate': {'month': 9, 'year': 2017}, 'startDate': {'month': 6, 'year': 2017}}, 'description': 'Working with the TurboTax on Tax Engine platform team. Developing new\\ncapability for the clients to be able to utilize the formsmode API', 'company': {'employeeCountRange': {'start': 5001, 'end': 10000}, 'industries': ['Computer Software']}, 'title': 'Software Engineering Intern', 'region': 'urn:li:fs_region:(us,732)', 'companyUrn': 'urn:li:fs_miniCompany:1666', 'companyLogoUrl': 'https://media.licdn.com/dms/image/C560BAQGOogK4mROSpg/company-logo_'}, {'entityUrn': 'urn:li:fs_position:(ACoAAAz_FxoBf296MTaJ5QqfBO6nxexyah9qlaI,979202202)', 'companyName': 'San Diego Supercomputer Center', 'timePeriod': {'endDate': {'month': 6, 'year': 2017}, 'startDate': {'month': 3, 'year': 2017}}, 'description': 'Working on WIFIRE project. \\nWorking on building an App that allows the user to take pictures of fire or smoke and upload to server, as well as viewing of all uploaded images.', 'company': {'employeeCountRange': {'start': 201, 'end': 500}, 'industries': ['Information Technology and Services']}, 'title': 'Graduate Researcher', 'companyUrn': 'urn:li:fs_miniCompany:10843', 'companyLogoUrl': 'https://media.licdn.com/dms/image/C560BAQELHgCB8o5tSA/company-logo_'}, {'entityUrn': 'urn:li:fs_position:(ACoAAAz_FxoBf296MTaJ5QqfBO6nxexyah9qlaI,820223329)', 'companyName': 'The Walt Disney Company', 'timePeriod': {'endDate': {'month': 9, 'year': 2016}, 'startDate': {'month': 6, 'year': 2016}}, 'description': 'Working with the mobile application team(Android and IOS). Developing on Disney LOL, Disney Gif and Star Wars IPhone and Android Applications. Implemented the share screen functionality and UI part that allows user to share with friends. Also implemented the ad targeting to serve ad for each category separately.', 'company': {'employeeCountRange': {'start': 10001}, 'industries': ['Entertainment']}, 'title': 'Software Engineering Intern', 'companyUrn': 'urn:li:fs_miniCompany:1292', 'companyLogoUrl': 'https://media.licdn.com/dms/image/C510BAQGBIYk0THbu4w/company-logo_'}], 'skills': [{'name': 'C++'}, {'name': 'Java'}, {'name': 'C'}, {'name': 'Programming'}, {'name': 'Computer Science'}, {'name': 'HTML'}, {'name': 'Windows'}, {'name': 'Microsoft Office'}, {'name': 'PHP'}, {'name': 'Eclipse'}, {'name': 'Software Development'}, {'name': 'Python'}, {'name': 'XML'}, {'name': 'OOP'}, {'name': 'Matlab'}, {'name': 'Linear Algebra'}, {'name': 'OCaml'}, {'name': 'Prolog'}, {'name': 'Swift'}, {'name': 'Microsoft Excel'}, {'name': 'JavaScript'}], 'education': [{'entityUrn': 'urn:li:fs_education:(ACoAAAz_FxoBf296MTaJ5QqfBO6nxexyah9qlaI,338572641)', 'school': {'objectUrn': 'urn:li:school:17954', 'entityUrn': 'urn:li:fs_miniSchool:17954', 'active': True, 'schoolName': 'University of California San Diego', 'trackingId': '5P1GLA9qRZaiPtdyRfH14A==', 'logoUrl': 'https://media.licdn.com/dms/image/C560BAQHQYa-3EY_aaQ/company-logo_'}, 'timePeriod': {'endDate': {'year': 2018}, 'startDate': {'year': 2016}}, 'degreeName': 'Master of Science (M.S.)', 'schoolName': 'University of California, San Diego', 'fieldOfStudy': 'Computer Science', 'schoolUrn': 'urn:li:fs_miniSchool:17954'}, {'courses': ['urn:li:fs_course:(ACoAAAz_FxoBf296MTaJ5QqfBO6nxexyah9qlaI,1)', 'urn:li:fs_course:(ACoAAAz_FxoBf296MTaJ5QqfBO6nxexyah9qlaI,2)', 'urn:li:fs_course:(ACoAAAz_FxoBf296MTaJ5QqfBO6nxexyah9qlaI,3)', 'urn:li:fs_course:(ACoAAAz_FxoBf296MTaJ5QqfBO6nxexyah9qlaI,4)', 'urn:li:fs_course:(ACoAAAz_FxoBf296MTaJ5QqfBO6nxexyah9qlaI,5)', 'urn:li:fs_course:(ACoAAAz_FxoBf296MTaJ5QqfBO6nxexyah9qlaI,6)', 'urn:li:fs_course:(ACoAAAz_FxoBf296MTaJ5QqfBO6nxexyah9qlaI,7)', 'urn:li:fs_course:(ACoAAAz_FxoBf296MTaJ5QqfBO6nxexyah9qlaI,8)', 'urn:li:fs_course:(ACoAAAz_FxoBf296MTaJ5QqfBO6nxexyah9qlaI,9)', 'urn:li:fs_course:(ACoAAAz_FxoBf296MTaJ5QqfBO6nxexyah9qlaI,10)', 'urn:li:fs_course:(ACoAAAz_FxoBf296MTaJ5QqfBO6nxexyah9qlaI,11)', 'urn:li:fs_course:(ACoAAAz_FxoBf296MTaJ5QqfBO6nxexyah9qlaI,12)', 'urn:li:fs_course:(ACoAAAz_FxoBf296MTaJ5QqfBO6nxexyah9qlaI,13)', 'urn:li:fs_course:(ACoAAAz_FxoBf296MTaJ5QqfBO6nxexyah9qlaI,14)', 'urn:li:fs_course:(ACoAAAz_FxoBf296MTaJ5QqfBO6nxexyah9qlaI,15)', 'urn:li:fs_course:(ACoAAAz_FxoBf296MTaJ5QqfBO6nxexyah9qlaI,16)', 'urn:li:fs_course:(ACoAAAz_FxoBf296MTaJ5QqfBO6nxexyah9qlaI,17)'], 'projects': ['urn:li:fs_project:(ACoAAAz_FxoBf296MTaJ5QqfBO6nxexyah9qlaI,1068859198)', 'urn:li:fs_project:(ACoAAAz_FxoBf296MTaJ5QqfBO6nxexyah9qlaI,208592239)'], 'entityUrn': 'urn:li:fs_education:(ACoAAAz_FxoBf296MTaJ5QqfBO6nxexyah9qlaI,189318889)', 'school': {'objectUrn': 'urn:li:school:17954', 'entityUrn': 'urn:li:fs_miniSchool:17954', 'active': True, 'schoolName': 'University of California San Diego', 'trackingId': 'q7yRPm4rQqeVeceBowFMqg==', 'logoUrl': 'https://media.licdn.com/dms/image/C560BAQHQYa-3EY_aaQ/company-logo_'}, 'activities': 'I joined Global Ties Program. Global Ties Teams in Engineering Service is an innovative humanitarian engineering program of the Jacobs School of Engineering at UC San Diego.', 'timePeriod': {'endDate': {'year': 2016}, 'startDate': {'year': 2013}}, 'degreeName': \"Bachelor's degree\", 'schoolName': 'University of California, San Diego', 'fieldOfStudy': 'Computer Science', 'honors': ['urn:li:fs_honor:(ACoAAAz_FxoBf296MTaJ5QqfBO6nxexyah9qlaI,960708163)'], 'schoolUrn': 'urn:li:fs_miniSchool:17954'}, {'entityUrn': 'urn:li:fs_education:(ACoAAAz_FxoBf296MTaJ5QqfBO6nxexyah9qlaI,135170551)', 'school': {'objectUrn': 'urn:li:school:20127', 'entityUrn': 'urn:li:fs_miniSchool:20127', 'active': True, 'schoolName': 'Santa Monica College', 'trackingId': '3+Vqi4QKRKa8tfI98+ZJsg==', 'logoUrl': 'https://media.licdn.com/dms/image/C560BAQEiJNL1oWf50g/company-logo_'}, 'timePeriod': {'endDate': {'year': 2013}, 'startDate': {'year': 2010}}, 'schoolName': 'Santa Monica College', 'fieldOfStudy': 'Computer Science', 'honors': ['urn:li:fs_honor:(ACoAAAz_FxoBf296MTaJ5QqfBO6nxexyah9qlaI,1828433666)', 'urn:li:fs_honor:(ACoAAAz_FxoBf296MTaJ5QqfBO6nxexyah9qlaI,380989477)', 'urn:li:fs_honor:(ACoAAAz_FxoBf296MTaJ5QqfBO6nxexyah9qlaI,381065134)'], 'schoolUrn': 'urn:li:fs_miniSchool:20127'}]}\n",
      "\n",
      "\n",
      "\n",
      "\n",
      "geoloc\n",
      "{'summary': '“So many books, so little time.” ― Frank Zappa', 'industryName': 'Internet', 'lastName': 'Burns', 'locationName': 'United States', 'student': False, 'geoCountryName': 'United States', 'geoCountryUrn': 'urn:li:fs_geo:103644278', 'geoLocationBackfilled': True, 'elt': False, 'industryUrn': 'urn:li:fs_industry:6', 'firstName': 'William', 'entityUrn': 'urn:li:fs_profile:ACoAACmse6IBuxS0VWAz78BeKRYCC5TiF3lcMeY', 'geoLocation': {'geoUrn': 'urn:li:fs_geo:90000077'}, 'geoLocationName': 'Greater Philadelphia', 'location': {'basicLocation': {'countryCode': 'us'}}, 'headline': 'Student at University of California, San Diego', 'displayPictureUrl': 'https://media.licdn.com/dms/image/C4E03AQFeWs0fcDbo2w/profile-displayphoto-shrink_', 'profile_id': 'ACoAACmse6IBuxS0VWAz78BeKRYCC5TiF3lcMeY', 'experience': [{'locationName': 'Mississauga, ON ', 'entityUrn': 'urn:li:fs_position:(ACoAACmse6IBuxS0VWAz78BeKRYCC5TiF3lcMeY,1393880415)', 'geoLocationName': 'Mississauga, ON ', 'companyName': 'Advanced Webhosting', 'timePeriod': {'endDate': {'year': 2010}, 'startDate': {'year': 2006}}, 'title': 'Network And Database Administrator'}, {'locationName': 'Toronto, ON', 'entityUrn': 'urn:li:fs_position:(ACoAACmse6IBuxS0VWAz78BeKRYCC5TiF3lcMeY,1393885189)', 'geoLocationName': 'Toronto, ON', 'companyName': 'ScriptLance', 'timePeriod': {'endDate': {'year': 2010}, 'startDate': {'year': 2002}}, 'company': {'employeeCountRange': {'start': 11, 'end': 50}, 'industries': ['Computer Software']}, 'title': 'Freelance Web Developer', 'companyUrn': 'urn:li:fs_miniCompany:1211285', 'companyLogoUrl': 'https://media.licdn.com/dms/image/C4E0BAQFEC-A2fRxngA/company-logo_'}, {'entityUrn': 'urn:li:fs_position:(ACoAACmse6IBuxS0VWAz78BeKRYCC5TiF3lcMeY,1393878743)', 'companyName': 'HYPERACTIVE, INC.', 'timePeriod': {'endDate': {'year': 2009}, 'startDate': {'year': 2005}}, 'company': {'employeeCountRange': {'start': 11, 'end': 50}}, 'title': 'Web Developer', 'companyUrn': 'urn:li:fs_miniCompany:16137370'}, {'locationName': 'Georgetown, DE', 'entityUrn': 'urn:li:fs_position:(ACoAACmse6IBuxS0VWAz78BeKRYCC5TiF3lcMeY,1393881905)', 'geoLocationName': 'Georgetown, DE', 'companyName': 'Burns Well Drilling', 'timePeriod': {'endDate': {'year': 2002}, 'startDate': {'year': 1997}}, 'company': {'employeeCountRange': {'start': 2, 'end': 10}}, 'title': 'IT Network Administrator', 'companyUrn': 'urn:li:fs_miniCompany:4522281'}], 'skills': [{'name': 'Machine Learning'}, {'name': 'Artificial Intelligence (AI)'}, {'name': 'Python (Programming Language)'}, {'name': 'Network Administration'}, {'name': 'Database Administration'}, {'name': 'Web Development'}, {'name': 'Data Mining'}, {'name': 'Web Design'}, {'name': 'Research'}, {'name': 'Programming'}, {'name': 'Data Analysis'}, {'name': 'Computer Science'}, {'name': 'Artificial Intelligence'}, {'name': 'PHP'}, {'name': 'Python'}, {'name': 'MySQL'}, {'name': 'SQL'}, {'name': 'HTML'}, {'name': 'XML'}, {'name': 'CSS'}, {'name': 'R'}, {'name': 'JavaScript'}, {'name': 'Keras'}, {'name': 'Databases'}, {'name': 'TensorFlow'}, {'name': 'Visual Studio'}, {'name': 'Theano'}, {'name': 'Unity3D'}, {'name': 'Pandas'}, {'name': 'Adobe Photoshop'}, {'name': 'Matlab'}, {'name': 'Hadoop'}, {'name': 'Tableau'}, {'name': 'Azure'}, {'name': 'Microsoft Azure'}, {'name': 'Git'}, {'name': 'Amazon Web Services (AWS)'}, {'name': 'Data Science'}, {'name': 'NumPy'}, {'name': 'Neural Networks'}, {'name': 'Scikit-Learn'}, {'name': 'Genetic Algorithms'}, {'name': 'Panda3D'}, {'name': 'Apache Spark'}, {'name': 'Seaborn'}, {'name': 'PhpStorm'}, {'name': 'Pycharm'}], 'education': [{'entityUrn': 'urn:li:fs_education:(ACoAACmse6IBuxS0VWAz78BeKRYCC5TiF3lcMeY,566317978)', 'school': {'objectUrn': 'urn:li:school:17954', 'entityUrn': 'urn:li:fs_miniSchool:17954', 'active': True, 'schoolName': 'University of California San Diego', 'trackingId': 'jMo0MJMASNy6tysSq0tTXQ==', 'logoUrl': 'https://media.licdn.com/dms/image/C560BAQHQYa-3EY_aaQ/company-logo_'}, 'timePeriod': {'endDate': {'year': 2020}, 'startDate': {'year': 2018}}, 'description': '- Python for Data Science\\n- Machine Learning Fundamentals\\n- Probability and Statistics in Data Science using Python\\n- Big Data Analytics Using Spark\\n\\n- Dynamic Programming: Applications In Machine Learning and Genomics\\n- Graph Algorithms in Genome Sequencing\\n- Analyze Your Genome!\\n', 'degreeName': 'Certificate', 'schoolName': 'University of California San Diego', 'fieldOfStudy': 'Data Science', 'schoolUrn': 'urn:li:fs_miniSchool:17954'}, {'entityUrn': 'urn:li:fs_education:(ACoAACmse6IBuxS0VWAz78BeKRYCC5TiF3lcMeY,566321429)', 'school': {'objectUrn': 'urn:li:school:18070', 'entityUrn': 'urn:li:fs_miniSchool:18070', 'active': True, 'schoolName': 'University of Delaware', 'trackingId': 'eLSua1DQRNirYAE+xY+26g==', 'logoUrl': 'https://media.licdn.com/dms/image/C4E0BAQHY5ca2fPA0Hw/company-logo_'}, 'timePeriod': {'endDate': {'year': 1997}, 'startDate': {'year': 1995}}, 'fieldOfStudyUrn': 'urn:li:fs_fieldOfStudy:100195', 'schoolName': 'University of Delaware', 'fieldOfStudy': 'Computer Systems Networking and Telecommunications', 'schoolUrn': 'urn:li:fs_miniSchool:18070'}]}\n",
      "\n",
      "\n",
      "\n",
      "\n",
      "geoloc\n",
      "{'summary': 'Software engineer, computer scientist.', 'industryName': 'Computer Software', 'lastName': 'Liu', 'locationName': 'United States', 'student': False, 'geoCountryName': 'United States', 'geoCountryUrn': 'urn:li:fs_geo:103644278', 'geoLocationBackfilled': True, 'elt': False, 'industryUrn': 'urn:li:fs_industry:4', 'firstName': 'Xiaochu', 'entityUrn': 'urn:li:fs_profile:ACoAAAdvOogBmOiltNui5AAxCJH8U9gQLHVswLY', 'geoLocation': {'geoUrn': 'urn:li:fs_geo:90000084'}, 'geoLocationName': 'San Francisco Bay Area', 'location': {'basicLocation': {'countryCode': 'us'}}, 'headline': 'Software Engineer at Google.', 'profile_id': 'ACoAAAdvOogBmOiltNui5AAxCJH8U9gQLHVswLY', 'experience': [{'locationName': 'San Francisco Bay Area', 'entityUrn': 'urn:li:fs_position:(ACoAAAdvOogBmOiltNui5AAxCJH8U9gQLHVswLY,886664244)', 'geoLocationName': 'San Francisco Bay Area', 'geoUrn': 'urn:li:fs_geo:90000084', 'companyName': 'Google', 'timePeriod': {'startDate': {'month': 12, 'year': 2016}}, 'description': 'Google Cloud Platform\\n\\nPreviously Chrome OS Platform', 'company': {'employeeCountRange': {'start': 10001}, 'industries': ['Internet']}, 'title': 'Software Engineer', 'region': 'urn:li:fs_region:(us,84)', 'companyUrn': 'urn:li:fs_miniCompany:1441', 'companyLogoUrl': 'https://media.licdn.com/dms/image/C4D0BAQHiNSL4Or29cg/company-logo_'}, {'locationName': 'Greater San Diego Area', 'entityUrn': 'urn:li:fs_position:(ACoAAAdvOogBmOiltNui5AAxCJH8U9gQLHVswLY,193336016)', 'geoLocationName': 'Greater San Diego Area', 'companyName': 'UC San Diego', 'timePeriod': {'endDate': {'month': 12, 'year': 2016}, 'startDate': {'month': 9, 'year': 2013}}, 'description': 'Compiler, computer architecture,  programming language, binary translation, software system.', 'company': {'employeeCountRange': {'start': 10001}, 'industries': ['Higher Education']}, 'title': 'Graduate Student Researcher', 'companyUrn': 'urn:li:fs_miniCompany:3382', 'companyLogoUrl': 'https://media.licdn.com/dms/image/C560BAQHQYa-3EY_aaQ/company-logo_'}, {'locationName': 'Redmond', 'entityUrn': 'urn:li:fs_position:(ACoAAAdvOogBmOiltNui5AAxCJH8U9gQLHVswLY,811866824)', 'geoLocationName': 'Redmond', 'companyName': 'Microsoft', 'timePeriod': {'endDate': {'month': 9, 'year': 2016}, 'startDate': {'month': 6, 'year': 2016}}, 'description': 'Developing LLVM-based compilation tools (http://research.microsoft.com/en-us/projects/e2/).', 'company': {'employeeCountRange': {'start': 10001}, 'industries': ['Computer Software']}, 'title': 'Research Intern', 'companyUrn': 'urn:li:fs_miniCompany:1035', 'companyLogoUrl': 'https://media.licdn.com/dms/image/C4D0BAQEko6uLz7XylA/company-logo_'}, {'locationName': 'Redmond', 'entityUrn': 'urn:li:fs_position:(ACoAAAdvOogBmOiltNui5AAxCJH8U9gQLHVswLY,677962397)', 'geoLocationName': 'Redmond', 'companyName': 'Microsoft', 'timePeriod': {'endDate': {'month': 9, 'year': 2015}, 'startDate': {'month': 6, 'year': 2015}}, 'description': 'Developing LLVM-based compilation tools targeting Microsoft E(DGE)2 architecture (http://research.microsoft.com/en-us/projects/e2/).', 'company': {'employeeCountRange': {'start': 10001}, 'industries': ['Computer Software']}, 'title': 'Research Intern', 'companyUrn': 'urn:li:fs_miniCompany:1035', 'companyLogoUrl': 'https://media.licdn.com/dms/image/C4D0BAQEko6uLz7XylA/company-logo_'}], 'skills': [{'name': 'Computer Architecture'}, {'name': 'C++'}, {'name': 'Algorithms'}, {'name': 'C'}, {'name': 'Java'}, {'name': 'Python'}, {'name': 'Compilers'}, {'name': 'LLVM'}, {'name': 'Machine Learning'}, {'name': 'Distributed Systems'}, {'name': 'Perl'}, {'name': 'Computer Science'}, {'name': 'LaTeX'}, {'name': 'Software Engineering'}, {'name': 'Linux'}, {'name': 'Programming'}, {'name': 'Matlab'}, {'name': 'QEMU'}, {'name': 'System Software'}, {'name': 'Software Development'}], 'education': [{'entityUrn': 'urn:li:fs_education:(ACoAAAdvOogBmOiltNui5AAxCJH8U9gQLHVswLY,380262145)', 'school': {'objectUrn': 'urn:li:school:17954', 'entityUrn': 'urn:li:fs_miniSchool:17954', 'active': True, 'schoolName': 'University of California San Diego', 'trackingId': '7eBnZBIhQlain2lSZQsGuQ==', 'logoUrl': 'https://media.licdn.com/dms/image/C560BAQHQYa-3EY_aaQ/company-logo_'}, 'timePeriod': {'endDate': {'year': 2016}, 'startDate': {'year': 2013}}, 'description': 'Acquired M.S. in Computer Science', 'degreeName': 'Master of Science (M.S.)', 'schoolName': 'University of California, San Diego', 'fieldOfStudy': 'Computer Science', 'schoolUrn': 'urn:li:fs_miniSchool:17954'}, {'entityUrn': 'urn:li:fs_education:(ACoAAAdvOogBmOiltNui5AAxCJH8U9gQLHVswLY,501963666)', 'school': {'objectUrn': 'urn:li:school:19504', 'entityUrn': 'urn:li:fs_miniSchool:19504', 'active': True, 'schoolName': 'Texas State University', 'trackingId': 'j/VxN6uuQQ6eCyH4iYcqyg==', 'logoUrl': 'https://media.licdn.com/dms/image/C560BAQGo7TTg-tgkdQ/company-logo_'}, 'timePeriod': {'endDate': {'year': 2013}, 'startDate': {'year': 2012}}, 'description': 'Finished two semesters and transfered to UCSD', 'fieldOfStudyUrn': 'urn:li:fs_fieldOfStudy:100189', 'degreeName': \"Master's degree\", 'schoolName': 'Texas State University', 'fieldOfStudy': 'Computer Science', 'degreeUrn': 'urn:li:fs_degree:500', 'schoolUrn': 'urn:li:fs_miniSchool:19504'}, {'entityUrn': 'urn:li:fs_education:(ACoAAAdvOogBmOiltNui5AAxCJH8U9gQLHVswLY,76986924)', 'school': {'objectUrn': 'urn:li:school:11307', 'entityUrn': 'urn:li:fs_miniSchool:11307', 'active': True, 'schoolName': 'Shandong University', 'trackingId': 'PzmDKh9+S5+K5aWUwujC3g==', 'logoUrl': 'https://media.licdn.com/dms/image/C4E0BAQFB8n1zQEvcYQ/company-logo_'}, 'timePeriod': {'endDate': {'year': 2012}, 'startDate': {'year': 2008}}, 'description': 'Acquired B.E. in Computer Science', 'degreeName': 'Bachelor of Engineering (B.E.)', 'schoolName': 'Shandong University', 'fieldOfStudy': 'Computer Science', 'schoolUrn': 'urn:li:fs_miniSchool:11307'}]}\n",
      "\n",
      "\n",
      "\n",
      "\n",
      "geoloc\n",
      "{'summary': 'Computer Science sophomore at UC San Diego. Tech enthusiast interested in a range of fields and technologies including front-end development, back-end development, data structures and algorithms, and machine learning. Actively seeking software engineering internship opportunities in Summer 2020.', 'industryName': 'Computer Software', 'lastName': 'Yuan', 'locationName': 'United States', 'student': False, 'geoCountryName': 'United States', 'geoCountryUrn': 'urn:li:fs_geo:103644278', 'geoLocationBackfilled': True, 'elt': False, 'industryUrn': 'urn:li:fs_industry:4', 'firstName': 'Bryan (Yizhi)', 'entityUrn': 'urn:li:fs_profile:ACoAACfhqPABo3Txtr8YOLk-uafXkhgm0p8sBIk', 'geoLocation': {'geoUrn': 'urn:li:fs_geo:90000049'}, 'geoLocationName': 'Los Angeles Metropolitan Area', 'location': {'basicLocation': {'countryCode': 'us'}}, 'headline': 'Lead Full-stack Developer & Co-Founder at Harvesthru', 'displayPictureUrl': 'https://media.licdn.com/dms/image/C5603AQHYmx_xYVmWRw/profile-displayphoto-shrink_', 'profile_id': 'ACoAACfhqPABo3Txtr8YOLk-uafXkhgm0p8sBIk', 'experience': [{'locationName': 'San Diego, CA', 'entityUrn': 'urn:li:fs_position:(ACoAACfhqPABo3Txtr8YOLk-uafXkhgm0p8sBIk,1532375476)', 'geoLocationName': 'San Diego, CA', 'companyName': 'LaunchIt', 'timePeriod': {'startDate': {'month': 4, 'year': 2019}}, 'description': 'LaunchIt is a student team-forming facilitator that breaks down the boundaries between all majors and any ideas. It provides an alternative solution that helps create projects with a well-structured team formation.\\n- Coordinated the development of a forum for UCSD engineering students to create posts and share academic resources.\\n- Provided the post browser with sorting, filtering, and recommendation functionalities using Algolia.\\n- Directed the front-end development and tackled with difficult issues using React and Redux.\\n- Reconstructed the login/signup panel by using Google Firebase, React-Redux, and browser localStorage cache.\\n- Greatly improved user experience by refurbishing the user interface and reorganizing components using Adobe XD.', 'company': {'employeeCountRange': {'start': 11, 'end': 50}, 'industries': ['Internet']}, 'title': 'Technology Manager', 'companyUrn': 'urn:li:fs_miniCompany:29319553', 'companyLogoUrl': 'https://media.licdn.com/dms/image/C560BAQHXNFs63qucoA/company-logo_'}, {'locationName': 'Greater San Diego Area', 'entityUrn': 'urn:li:fs_position:(ACoAACfhqPABo3Txtr8YOLk-uafXkhgm0p8sBIk,1532355494)', 'geoLocationName': 'Greater San Diego Area', 'companyName': 'Harvesthru', 'timePeriod': {'startDate': {'month': 10, 'year': 2019}}, 'description': 'Harvesthru is a community focused marketplace platform where users can buy, sell and trade homegrown crops. I am the co-founder and the lead web developer using the MERN (MongoDB, Express.js, React.js, Node.js) stack.', 'company': {'employeeCountRange': {'start': 0, 'end': 1}, 'industries': ['Food & Beverages']}, 'title': 'Co-Founder', 'companyUrn': 'urn:li:fs_miniCompany:37899521', 'companyLogoUrl': 'https://media.licdn.com/dms/image/C560BAQGjDCJkfjxvDg/company-logo_'}, {'locationName': 'San Diego, California', 'entityUrn': 'urn:li:fs_position:(ACoAACfhqPABo3Txtr8YOLk-uafXkhgm0p8sBIk,1507653847)', 'geoLocationName': 'San Diego, California', 'companyName': 'Triton Software Engineering', 'timePeriod': {'startDate': {'month': 10, 'year': 2018}}, 'company': {'employeeCountRange': {'start': 11, 'end': 50}, 'industries': ['Computer Software']}, 'title': 'Developer', 'companyUrn': 'urn:li:fs_miniCompany:18076747', 'companyLogoUrl': 'https://media.licdn.com/dms/image/C560BAQFAF8cKAw8XFQ/company-logo_'}, {'locationName': 'Greater San Diego Area', 'entityUrn': 'urn:li:fs_position:(ACoAACfhqPABo3Txtr8YOLk-uafXkhgm0p8sBIk,1495926249)', 'geoLocationName': 'Greater San Diego Area', 'companyName': 'Buztubr', 'timePeriod': {'endDate': {'month': 8, 'year': 2019}, 'startDate': {'month': 6, 'year': 2019}}, 'description': '- Cooperated with a team at Buztubr to build a web platform for digital marketing, where we efficiently advertise products by seamlessly connecting influencers to target audiences.\\n- Developed the product landing page from scratch, adapted full-page animations on mouse scroll using GSAP CSS library.\\n- Rebuilt the payment account page using Stripe, React, and Redux, simplified the registration process for users. \\n- Refactored the code base to optimize API calls with Redux-Saga.', 'company': {'employeeCountRange': {'start': 11, 'end': 50}, 'industries': ['Marketing and Advertising']}, 'title': 'Software Engineering Intern', 'companyUrn': 'urn:li:fs_miniCompany:18839618', 'companyLogoUrl': 'https://media.licdn.com/dms/image/C560BAQGoo1iMlol7VA/company-logo_'}, {'locationName': 'La Jolla, California', 'entityUrn': 'urn:li:fs_position:(ACoAACfhqPABo3Txtr8YOLk-uafXkhgm0p8sBIk,1503180954)', 'geoLocationName': 'La Jolla, California', 'companyName': 'UC San Diego Health', 'timePeriod': {'endDate': {'month': 8, 'year': 2019}, 'startDate': {'month': 6, 'year': 2019}}, 'description': 'I worked in Professor Chunnan Hsu and Dr. Mohammed Eghtedari’s lab on a project in Natural Language Processing. The goal is to develop an AI clinical assistant for breast care by summarizing clinical records of patients and making clinical decision suggestions.\\n\\nHere is a list of my responsibilities:\\n- Integrate a Bert-TensorFlow NLP model with AWS SageMaker, created endpoints for users to make API requests.\\n- Implemented a full-stack web interface with React, Python, Flask-RESTful, and HTML/CSS, allowed users to upload text data, run the prediction and visualize the results.', 'company': {'employeeCountRange': {'start': 10001}, 'industries': ['Hospital & Health Care']}, 'title': 'Summer Research Intern', 'companyUrn': 'urn:li:fs_miniCompany:3384', 'companyLogoUrl': 'https://media.licdn.com/dms/image/C560BAQHOuav9D9b55A/company-logo_'}], 'skills': [{'name': 'React.js'}, {'name': 'JavaScript'}, {'name': 'Node.js'}, {'name': 'Machine Learning'}, {'name': 'Data Structures'}, {'name': 'Algorithms'}, {'name': 'Web Development'}, {'name': 'Java'}, {'name': 'Python'}, {'name': 'CSS'}, {'name': 'HTML'}, {'name': 'C'}, {'name': 'MATLAB', 'standardizedSkillUrn': 'urn:li:fs_miniSkill:1442', 'standardizedSkill': {'name': 'Matlab', 'entityUrn': 'urn:li:fs_miniSkill:1442'}}, {'name': 'Microsoft Office'}, {'name': 'Linux'}, {'name': 'Microsoft Visual Studio'}, {'name': 'Git'}, {'name': 'Redux.js'}, {'name': 'Vue'}, {'name': 'Flask'}, {'name': 'Version Control'}, {'name': 'TypeScript'}, {'name': 'Front-end Development'}, {'name': 'Flutter'}, {'name': 'Dart'}, {'name': 'Agile Web Development'}, {'name': 'ASP.NET MVC Framework'}, {'name': 'C#'}, {'name': 'MongoDB'}, {'name': 'Express.js'}], 'education': [{'courses': ['urn:li:fs_course:(ACoAACfhqPABo3Txtr8YOLk-uafXkhgm0p8sBIk,1267566921)', 'urn:li:fs_course:(ACoAACfhqPABo3Txtr8YOLk-uafXkhgm0p8sBIk,1267609793)'], 'entityUrn': 'urn:li:fs_education:(ACoAACfhqPABo3Txtr8YOLk-uafXkhgm0p8sBIk,543984260)', 'school': {'objectUrn': 'urn:li:school:17954', 'entityUrn': 'urn:li:fs_miniSchool:17954', 'active': True, 'schoolName': 'University of California San Diego', 'trackingId': '+Nv0s3c4SzKqoRJsGuvdkA==', 'logoUrl': 'https://media.licdn.com/dms/image/C560BAQHQYa-3EY_aaQ/company-logo_'}, 'activities': 'Triton Software Engineering, Chinese Engineering Society', 'grade': 'GPA: 3.94', 'timePeriod': {'endDate': {'year': 2022}, 'startDate': {'year': 2018}}, 'degreeName': '学士', 'schoolName': 'University of California San Diego', 'fieldOfStudy': 'Computer Science', 'degreeUrn': 'urn:li:fs_degree:200', 'schoolUrn': 'urn:li:fs_miniSchool:17954'}]}\n",
      "\n",
      "\n",
      "\n",
      "\n",
      "geoloc\n",
      "{'summary': 'I am a Software Engineer at Uber. I graduated from UC San Diego with Master and Bachelor degrees in Computer Science. \\n\\nI am experienced in REST service, neural network architectures, low-level infrastructure programming, and cloud computing.', 'industryName': 'Internet', 'lastName': 'Zheng', 'locationName': 'United States', 'student': False, 'geoCountryName': 'United States', 'geoCountryUrn': 'urn:li:fs_geo:103644278', 'geoLocationBackfilled': True, 'elt': False, 'industryUrn': 'urn:li:fs_industry:6', 'firstName': 'Zihan', 'entityUrn': 'urn:li:fs_profile:ACoAABr_hB0BKWWUxgtt7Tqakt_7Fk72MaOJ5MY', 'geoLocation': {'geoUrn': 'urn:li:fs_geo:90000084'}, 'geoLocationName': 'San Francisco Bay Area', 'location': {'basicLocation': {'countryCode': 'us'}}, 'headline': 'Software Engineer @ Uber', 'profile_id': 'ACoAABr_hB0BKWWUxgtt7Tqakt_7Fk72MaOJ5MY', 'experience': [{'locationName': 'San Francisco Bay Area', 'entityUrn': 'urn:li:fs_position:(ACoAABr_hB0BKWWUxgtt7Tqakt_7Fk72MaOJ5MY,1494612823)', 'geoLocationName': 'San Francisco Bay Area', 'geoUrn': 'urn:li:fs_geo:90000084', 'companyName': 'Uber', 'timePeriod': {'startDate': {'month': 7, 'year': 2019}}, 'description': 'UberEats: Recommendation and search backend team', 'company': {'employeeCountRange': {'start': 10001}, 'industries': ['Internet']}, 'title': 'Software Engineer', 'region': 'urn:li:fs_region:(us,84)', 'companyUrn': 'urn:li:fs_miniCompany:1815218', 'companyLogoUrl': 'https://media.licdn.com/dms/image/C4D0BAQFiYnR1Mbtxdg/company-logo_'}, {'locationName': 'San Francisco, California', 'entityUrn': 'urn:li:fs_position:(ACoAABr_hB0BKWWUxgtt7Tqakt_7Fk72MaOJ5MY,1329748358)', 'geoLocationName': 'San Francisco, California', 'companyName': 'Uber', 'timePeriod': {'endDate': {'month': 9, 'year': 2018}, 'startDate': {'month': 6, 'year': 2018}}, 'description': 'Work on UberEats team', 'company': {'employeeCountRange': {'start': 10001}, 'industries': ['Internet']}, 'title': 'Software Engineer Intern', 'companyUrn': 'urn:li:fs_miniCompany:1815218', 'companyLogoUrl': 'https://media.licdn.com/dms/image/C4D0BAQFiYnR1Mbtxdg/company-logo_'}, {'locationName': 'San Diego, California', 'entityUrn': 'urn:li:fs_position:(ACoAABr_hB0BKWWUxgtt7Tqakt_7Fk72MaOJ5MY,1194850472)', 'geoLocationName': 'San Diego, California', 'companyName': 'San Diego Supercomputer Center', 'timePeriod': {'endDate': {'month': 8, 'year': 2018}, 'startDate': {'month': 1, 'year': 2018}}, 'description': 'Work on Structural Bioinformatics Lab @ SDSC.\\n\\nProject: metal binding sites prediction on amino acid sequences\\n- First, predict the type of metal ion that binds to a sequence. \\n- Second, predict the positions/fingerprints of metal binding on the sequence.\\n\\nTopics: Deep learning, neural network, bioinformatics', 'company': {'employeeCountRange': {'start': 201, 'end': 500}, 'industries': ['Information Technology and Services']}, 'title': 'Researcher', 'companyUrn': 'urn:li:fs_miniCompany:10843', 'companyLogoUrl': 'https://media.licdn.com/dms/image/C560BAQELHgCB8o5tSA/company-logo_'}, {'locationName': 'San Diego, California', 'entityUrn': 'urn:li:fs_position:(ACoAABr_hB0BKWWUxgtt7Tqakt_7Fk72MaOJ5MY,982865443)', 'geoLocationName': 'San Diego, California', 'companyName': 'University of California San Diego', 'timePeriod': {'endDate': {'month': 8, 'year': 2018}, 'startDate': {'month': 4, 'year': 2017}}, 'description': 'Work on Zoran Radic’s Lab @ UCSD Skaggs School of Pharmacy.\\n\\nProject: a Java desktop application that does overlay-independent comparison for biologically active macromolecular structures\\n\\nVisualization of overlay output in web browser (WebGL)\\n\\nTopics: Bioinformatics, Molecular Dynamics, Java, JavaScript', 'company': {'employeeCountRange': {'start': 10001}, 'industries': ['Higher Education']}, 'title': 'Research Assistant', 'companyUrn': 'urn:li:fs_miniCompany:3382', 'companyLogoUrl': 'https://media.licdn.com/dms/image/C560BAQHQYa-3EY_aaQ/company-logo_'}, {'locationName': 'Greater San Diego Area', 'entityUrn': 'urn:li:fs_position:(ACoAABr_hB0BKWWUxgtt7Tqakt_7Fk72MaOJ5MY,868969763)', 'geoLocationName': 'Greater San Diego Area', 'geoUrn': 'urn:li:fs_geo:100737633', 'companyName': 'University of California, San Diego - Jacobs School of Engineering', 'timePeriod': {'endDate': {'month': 12, 'year': 2017}, 'startDate': {'month': 9, 'year': 2016}}, 'description': 'Worked with Prof. Paul Cao and Marina Langlois.\\n\\n- Taught Java (basic data structures & OOD)\\n\\n- Developed bash script & python tool to collect and distribute programming homework for graders & students\\n\\n- Managed all tutors’ (43 in total) work schedules', 'company': {'employeeCountRange': {'start': 1001, 'end': 5000}, 'industries': ['Higher Education']}, 'title': 'CSE Java Head Tutor', 'region': 'urn:li:fs_region:(us,732)', 'companyUrn': 'urn:li:fs_miniCompany:15096606', 'companyLogoUrl': 'https://media.licdn.com/dms/image/C4D0BAQHEc15VMuDaGg/company-logo_'}], 'skills': [{'name': 'Java'}, {'name': 'C++'}, {'name': '.net core'}, {'name': 'container'}, {'name': 'Web Development'}, {'name': 'Android Development'}, {'name': 'Project Management'}, {'name': 'research'}, {'name': 'Artificial Intelligence'}, {'name': 'Keras'}, {'name': 'RESTful WebServices'}, {'name': 'docker'}, {'name': 'C#'}, {'name': 'Amazon Web Services (AWS)'}, {'name': 'C'}, {'name': 'Assembly Language'}, {'name': 'JavaScript'}, {'name': 'HTML'}, {'name': 'Android'}, {'name': 'Cascading Style Sheets (CSS)'}, {'name': 'Unix'}, {'name': 'Linux'}, {'name': 'Windows'}, {'name': 'OS X'}, {'name': 'Python'}, {'name': 'SQL'}, {'name': 'Eclipse'}, {'name': 'CentOS'}, {'name': 'Ubuntu'}, {'name': 'Visual Studio'}, {'name': 'python'}, {'name': 'React.js'}, {'name': 'Jupyter'}, {'name': 'Go (Programming Language)'}, {'name': 'Windows Nano Server'}, {'name': 'Ansible'}, {'name': 'Microservices'}, {'name': 'AMI'}, {'name': 'Amazon EC2'}, {'name': 'Firebase'}, {'name': 'Android Studio'}, {'name': 'Cassandra'}, {'name': 'Git'}], 'education': [{'entityUrn': 'urn:li:fs_education:(ACoAABr_hB0BKWWUxgtt7Tqakt_7Fk72MaOJ5MY,445100874)', 'school': {'objectUrn': 'urn:li:school:17954', 'entityUrn': 'urn:li:fs_miniSchool:17954', 'active': True, 'schoolName': 'University of California San Diego', 'trackingId': 'lCMFDo4ZSNKfy6dRwX9qTw==', 'logoUrl': 'https://media.licdn.com/dms/image/C560BAQHQYa-3EY_aaQ/company-logo_'}, 'grade': 'GPA 3.7/4', 'timePeriod': {'endDate': {'year': 2019}, 'startDate': {'year': 2018}}, 'description': 'Area of Interest: Network system, Machine Learning', 'fieldOfStudyUrn': 'urn:li:fs_fieldOfStudy:100189', 'degreeName': 'Master of Science - MS', 'schoolName': 'University of California San Diego', 'fieldOfStudy': 'Computer Science', 'degreeUrn': 'urn:li:fs_degree:626', 'schoolUrn': 'urn:li:fs_miniSchool:17954'}, {'courses': ['urn:li:fs_course:(ACoAABr_hB0BKWWUxgtt7Tqakt_7Fk72MaOJ5MY,805696786)', 'urn:li:fs_course:(ACoAABr_hB0BKWWUxgtt7Tqakt_7Fk72MaOJ5MY,805696868)', 'urn:li:fs_course:(ACoAABr_hB0BKWWUxgtt7Tqakt_7Fk72MaOJ5MY,805696949)', 'urn:li:fs_course:(ACoAABr_hB0BKWWUxgtt7Tqakt_7Fk72MaOJ5MY,805697051)', 'urn:li:fs_course:(ACoAABr_hB0BKWWUxgtt7Tqakt_7Fk72MaOJ5MY,805697124)', 'urn:li:fs_course:(ACoAABr_hB0BKWWUxgtt7Tqakt_7Fk72MaOJ5MY,805697202)', 'urn:li:fs_course:(ACoAABr_hB0BKWWUxgtt7Tqakt_7Fk72MaOJ5MY,916950409)', 'urn:li:fs_course:(ACoAABr_hB0BKWWUxgtt7Tqakt_7Fk72MaOJ5MY,916999976)', 'urn:li:fs_course:(ACoAABr_hB0BKWWUxgtt7Tqakt_7Fk72MaOJ5MY,917097725)'], 'projects': ['urn:li:fs_project:(ACoAABr_hB0BKWWUxgtt7Tqakt_7Fk72MaOJ5MY,803953283)', 'urn:li:fs_project:(ACoAABr_hB0BKWWUxgtt7Tqakt_7Fk72MaOJ5MY,804182534)', 'urn:li:fs_project:(ACoAABr_hB0BKWWUxgtt7Tqakt_7Fk72MaOJ5MY,804758407)'], 'entityUrn': 'urn:li:fs_education:(ACoAABr_hB0BKWWUxgtt7Tqakt_7Fk72MaOJ5MY,306315214)', 'school': {'objectUrn': 'urn:li:school:17954', 'entityUrn': 'urn:li:fs_miniSchool:17954', 'active': True, 'schoolName': 'University of California San Diego', 'trackingId': 'S4LDUj5HSzmxjEcWmNGWZg==', 'logoUrl': 'https://media.licdn.com/dms/image/C560BAQHQYa-3EY_aaQ/company-logo_'}, 'activities': '- SD Hack 2016 - UCSD WIC Beginner’s Programming Competition 2014', 'grade': 'GPA 3.9/4', 'timePeriod': {'endDate': {'year': 2018}, 'startDate': {'year': 2014}}, 'degreeName': 'Bachelor’s Degree', 'schoolName': 'University of California San Diego', 'fieldOfStudy': 'Computer Science', 'honors': ['urn:li:fs_honor:(ACoAABr_hB0BKWWUxgtt7Tqakt_7Fk72MaOJ5MY,805770487)', 'urn:li:fs_honor:(ACoAABr_hB0BKWWUxgtt7Tqakt_7Fk72MaOJ5MY,805803763)'], 'schoolUrn': 'urn:li:fs_miniSchool:17954'}]}\n",
      "\n",
      "\n",
      "\n",
      "\n",
      "geoloc\n",
      "{'industryName': 'Computer Software', 'lastName': 'Yu', 'locationName': 'United States', 'student': False, 'geoCountryName': 'United States', 'geoCountryUrn': 'urn:li:fs_geo:103644278', 'geoLocationBackfilled': True, 'elt': False, 'industryUrn': 'urn:li:fs_industry:4', 'firstName': 'Renjie', 'entityUrn': 'urn:li:fs_profile:ACoAAARawIYBcsXycYHpJwBvl5XT-m9VDgAIXas', 'geoLocation': {'geoUrn': 'urn:li:fs_geo:90000091'}, 'geoLocationName': 'Greater Seattle Area', 'location': {'basicLocation': {'countryCode': 'us'}}, 'headline': 'Software Development Engineer II at Amazon Web Services', 'profile_id': 'ACoAAARawIYBcsXycYHpJwBvl5XT-m9VDgAIXas', 'experience': [{'entityUrn': 'urn:li:fs_position:(ACoAAARawIYBcsXycYHpJwBvl5XT-m9VDgAIXas,1333124520)', 'companyName': 'Amazon Web Services', 'timePeriod': {'startDate': {'month': 6, 'year': 2018}}, 'company': {'employeeCountRange': {'start': 10001}, 'industries': ['Information Technology and Services']}, 'title': 'Software Development Engineer', 'companyUrn': 'urn:li:fs_miniCompany:2382910', 'companyLogoUrl': 'https://media.licdn.com/dms/image/C4D0BAQGzuSBRRRuphw/company-logo_'}, {'locationName': 'Greater Seattle Area', 'entityUrn': 'urn:li:fs_position:(ACoAAARawIYBcsXycYHpJwBvl5XT-m9VDgAIXas,884015643)', 'geoLocationName': 'Greater Seattle Area', 'geoUrn': 'urn:li:fs_geo:90000091', 'companyName': 'Amazon', 'timePeriod': {'endDate': {'month': 6, 'year': 2018}, 'startDate': {'month': 11, 'year': 2016}}, 'company': {'employeeCountRange': {'start': 10001}, 'industries': ['Internet']}, 'title': 'Software Development Engineer', 'region': 'urn:li:fs_region:(us,91)', 'companyUrn': 'urn:li:fs_miniCompany:1586', 'companyLogoUrl': 'https://media.licdn.com/dms/image/C560BAQFdwVGpSOHmgw/company-logo_'}, {'locationName': 'Greater San Diego Area', 'entityUrn': 'urn:li:fs_position:(ACoAAARawIYBcsXycYHpJwBvl5XT-m9VDgAIXas,479270966)', 'geoLocationName': 'Greater San Diego Area', 'geoUrn': 'urn:li:fs_geo:100737633', 'companyName': 'Qualcomm', 'timePeriod': {'endDate': {'month': 11, 'year': 2016}, 'startDate': {'month': 9, 'year': 2011}}, 'company': {'employeeCountRange': {'start': 10001}, 'industries': ['Wireless']}, 'title': 'Senior Engineer - Modem LTE', 'region': 'urn:li:fs_region:(us,732)', 'companyUrn': 'urn:li:fs_miniCompany:2017', 'companyLogoUrl': 'https://media.licdn.com/dms/image/C4E0BAQFIzy7XU945xg/company-logo_'}], 'skills': [{'name': 'Amazon Web Services (AWS)'}, {'name': 'ElasticSearch'}, {'name': 'Microservices'}, {'name': 'Machine Learning'}, {'name': 'Software Development'}, {'name': 'Linux'}, {'name': 'Databases'}, {'name': 'Java'}, {'name': 'Python'}], 'education': [{'entityUrn': 'urn:li:fs_education:(ACoAAARawIYBcsXycYHpJwBvl5XT-m9VDgAIXas,59844423)', 'school': {'objectUrn': 'urn:li:school:17954', 'entityUrn': 'urn:li:fs_miniSchool:17954', 'active': True, 'schoolName': 'University of California San Diego', 'trackingId': '/n3opnBpRVOQ2ZyBSEdBGw==', 'logoUrl': 'https://media.licdn.com/dms/image/C560BAQHQYa-3EY_aaQ/company-logo_'}, 'timePeriod': {'endDate': {'year': 2011}, 'startDate': {'year': 2009}}, 'fieldOfStudyUrn': 'urn:li:fs_fieldOfStudy:100189', 'degreeName': 'M.S', 'schoolName': 'University of California, San Diego', 'fieldOfStudy': 'Computer Science', 'schoolUrn': 'urn:li:fs_miniSchool:17954'}]}\n",
      "\n",
      "\n",
      "\n",
      "\n",
      "geoloc\n",
      "{'summary': '•\\tSoftware Development Engineer at Amazon Kindle Publishing Technology Team \\n•\\tStrong in Web Development with Amazon Internal Technologies and Mobile App Development on Android (Java) and Windows (C#) platforms\\n•\\tAdept at applying data structures, algorithms, OOD to solve challenging problems\\n•\\tAccumulated solid knowledge from work experience and academics. Bilingual in Mandarin Chinese.\\n•\\tPositive attitude in Life', 'industryName': 'Internet', 'lastName': 'Xue', 'locationName': 'United States', 'student': False, 'geoCountryName': 'United States', 'geoCountryUrn': 'urn:li:fs_geo:103644278', 'geoLocationBackfilled': True, 'elt': False, 'industryUrn': 'urn:li:fs_industry:6', 'firstName': 'Evan J.', 'entityUrn': 'urn:li:fs_profile:ACoAABqSHNEBYP30xh-87E2JcQSyHwTjx1ldr20', 'geoLocation': {'geoUrn': 'urn:li:fs_geo:90000049'}, 'geoLocationName': 'Los Angeles Metropolitan Area', 'location': {'basicLocation': {'countryCode': 'us'}}, 'headline': 'Software Engineer at Google', 'profile_id': 'ACoAABqSHNEBYP30xh-87E2JcQSyHwTjx1ldr20', 'experience': [{'locationName': 'Mountain View, California', 'entityUrn': 'urn:li:fs_position:(ACoAABqSHNEBYP30xh-87E2JcQSyHwTjx1ldr20,1533579719)', 'geoLocationName': 'Mountain View, California', 'companyName': 'Google', 'timePeriod': {'startDate': {'month': 10, 'year': 2019}}, 'company': {'employeeCountRange': {'start': 10001}, 'industries': ['Internet']}, 'title': 'Software Engineer', 'companyUrn': 'urn:li:fs_miniCompany:1441', 'companyLogoUrl': 'https://media.licdn.com/dms/image/C4D0BAQHiNSL4Or29cg/company-logo_'}, {'locationName': 'Irvine, California', 'entityUrn': 'urn:li:fs_position:(ACoAABqSHNEBYP30xh-87E2JcQSyHwTjx1ldr20,1520143927)', 'geoLocationName': 'Irvine, California', 'companyName': 'iHerb, LLC', 'timePeriod': {'endDate': {'month': 10, 'year': 2019}, 'startDate': {'month': 9, 'year': 2018}}, 'company': {'employeeCountRange': {'start': 1001, 'end': 5000}, 'industries': ['Retail']}, 'title': 'Software Engineer', 'companyUrn': 'urn:li:fs_miniCompany:437225', 'companyLogoUrl': 'https://media.licdn.com/dms/image/C4E0BAQHjOWzoHqjkCg/company-logo_'}, {'locationName': 'San Luis Obispo, California Area', 'entityUrn': 'urn:li:fs_position:(ACoAABqSHNEBYP30xh-87E2JcQSyHwTjx1ldr20,994666902)', 'geoLocationName': 'San Luis Obispo, California Area', 'companyName': 'Amazon', 'timePeriod': {'endDate': {'month': 8, 'year': 2018}, 'startDate': {'month': 5, 'year': 2017}}, 'company': {'employeeCountRange': {'start': 10001}, 'industries': ['Internet']}, 'title': 'Software Development Engineer', 'companyUrn': 'urn:li:fs_miniCompany:1586', 'companyLogoUrl': 'https://media.licdn.com/dms/image/C560BAQFdwVGpSOHmgw/company-logo_'}, {'locationName': 'Dallas/Fort Worth Area', 'entityUrn': 'urn:li:fs_position:(ACoAABqSHNEBYP30xh-87E2JcQSyHwTjx1ldr20,993786838)', 'geoLocationName': 'Dallas/Fort Worth Area', 'geoUrn': 'urn:li:fs_geo:90000031', 'companyName': 'Omnitracs', 'timePeriod': {'endDate': {'month': 5, 'year': 2017}, 'startDate': {'month': 11, 'year': 2016}}, 'company': {'employeeCountRange': {'start': 1001, 'end': 5000}, 'industries': ['Computer Software']}, 'title': 'Software Engineer', 'region': 'urn:li:fs_region:(us,31)', 'companyUrn': 'urn:li:fs_miniCompany:2669550', 'companyLogoUrl': 'https://media.licdn.com/dms/image/C4E0BAQEN5Zk-myogVA/company-logo_'}, {'locationName': 'Fremont', 'entityUrn': 'urn:li:fs_position:(ACoAABqSHNEBYP30xh-87E2JcQSyHwTjx1ldr20,828737187)', 'geoLocationName': 'Fremont', 'companyName': 'Defie', 'timePeriod': {'endDate': {'month': 11, 'year': 2016}, 'startDate': {'month': 4, 'year': 2016}}, 'description': 'Full Stack Software Engineer, Using Polymer, Go, Cassandra, Micro Services, Docker, HTML 5, CSS, JavaScript on Linux System to make Accounting Software. ', 'title': 'Software Engineer'}], 'skills': [{'name': 'C'}, {'name': 'C++'}, {'name': 'Java'}, {'name': 'Python'}, {'name': 'Linux'}, {'name': 'Polymers'}, {'name': 'Databases'}, {'name': 'c#'}, {'name': 'Object Oriented Design'}, {'name': 'Android Development'}, {'name': 'JIRA'}, {'name': 'Ruby'}], 'education': [{'entityUrn': 'urn:li:fs_education:(ACoAABqSHNEBYP30xh-87E2JcQSyHwTjx1ldr20,311441541)', 'timePeriod': {'endDate': {'year': 2016}, 'startDate': {'year': 2013}}, 'degreeName': 'Bachelor’s Degree', 'schoolName': 'UCSD', 'fieldOfStudy': 'Computer Science'}]}\n",
      "\n",
      "\n",
      "\n",
      "\n",
      "geoloc\n",
      "{'industryName': 'Computer Software', 'lastName': 'Hu', 'locationName': 'United States', 'student': False, 'geoCountryName': 'United States', 'geoCountryUrn': 'urn:li:fs_geo:103644278', 'geoLocationBackfilled': True, 'elt': False, 'industryUrn': 'urn:li:fs_industry:4', 'firstName': 'Dingcheng', 'entityUrn': 'urn:li:fs_profile:ACoAAB9RsSMByi1p9vooYVutz1yFi6klVXQVHLs', 'geoLocation': {'geoUrn': 'urn:li:fs_geo:90000084'}, 'geoLocationName': 'San Francisco Bay Area', 'location': {'basicLocation': {'countryCode': 'us'}}, 'headline': 'Student at University of California, San Diego', 'profile_id': 'ACoAAB9RsSMByi1p9vooYVutz1yFi6klVXQVHLs', 'experience': [{'locationName': 'La Jolla, CA', 'entityUrn': 'urn:li:fs_position:(ACoAAB9RsSMByi1p9vooYVutz1yFi6klVXQVHLs,1039364031)', 'geoLocationName': 'La Jolla, CA', 'companyName': 'University of California, San Diego - Jacobs School of Engineering', 'timePeriod': {'startDate': {'month': 3, 'year': 2017}}, 'description': '- CSE 8B Introduction to Computer Science: Java II - March - June 2017\\n- CSE 100 Advanced Data Structures - August - September 2017\\n- CSE 12 Basic Data Structures and Object-Oriented Design - September - December 2017\\n- CSE 140 Components and Design Techniques for Digital Systems - January - March 2018', 'company': {'employeeCountRange': {'start': 1001, 'end': 5000}, 'industries': ['Higher Education']}, 'title': 'CSE Tutor', 'companyUrn': 'urn:li:fs_miniCompany:15096606', 'companyLogoUrl': 'https://media.licdn.com/dms/image/C4D0BAQHEc15VMuDaGg/company-logo_'}, {'locationName': 'San jose, CA', 'entityUrn': 'urn:li:fs_position:(ACoAAB9RsSMByi1p9vooYVutz1yFi6klVXQVHLs,1039360940)', 'geoLocationName': 'San jose, CA', 'companyName': 'Baytech Web Design', 'timePeriod': {'endDate': {'month': 8, 'year': 2017}, 'startDate': {'month': 6, 'year': 2017}}, 'description': '- Designed and developed a responsive website using HTML & CSS\\n- Implemented the website functionality of Call to Action with Infusionsoft \\n- Learned the strategies of branding, marketing, and web design \\n- Used case study template to introduce a new design for the blog website\\n- Applied Search Engine Optimization (SEO), SSL, Backup/Security/backend tools for Wordpress\\n- Performed regression test to the functionality of website and user experience   ', 'company': {'employeeCountRange': {'start': 51, 'end': 200}, 'industries': ['Information Technology and Services']}, 'title': 'Web Developing & Engineering Intern', 'companyUrn': 'urn:li:fs_miniCompany:268646', 'companyLogoUrl': 'https://media.licdn.com/dms/image/C4E0BAQHxe-lDLXSAFA/company-logo_'}, {'locationName': 'Shanghai, China', 'entityUrn': 'urn:li:fs_position:(ACoAAB9RsSMByi1p9vooYVutz1yFi6klVXQVHLs,1039362667)', 'geoLocationName': 'Shanghai, China', 'companyName': 'UNIQLO China 优衣库中国', 'timePeriod': {'endDate': {'month': 12, 'year': 2016}, 'startDate': {'month': 12, 'year': 2016}}, 'description': '- Provided the customer service of the store\\n- Exceeded customer expectations by listening to customer needs. \\n- Found products that meet their needs.', 'company': {'employeeCountRange': {'start': 10001}, 'industries': ['Retail']}, 'title': 'Retail Sales Associate ', 'companyUrn': 'urn:li:fs_miniCompany:15253341', 'companyLogoUrl': 'https://media.licdn.com/dms/image/C4D0BAQHip8iPD8Xz_A/company-logo_'}], 'skills': [{'name': 'Microsoft Office', 'standardizedSkillUrn': 'urn:li:fs_miniSkill:366', 'standardizedSkill': {'name': 'Microsoft Office', 'entityUrn': 'urn:li:fs_miniSkill:366'}}, {'name': 'Java', 'standardizedSkillUrn': 'urn:li:fs_miniSkill:147', 'standardizedSkill': {'name': 'Java', 'entityUrn': 'urn:li:fs_miniSkill:147'}}, {'name': 'Web Development'}, {'name': 'C'}, {'name': 'C++'}, {'name': 'Python'}, {'name': 'HTML'}, {'name': 'CSS'}, {'name': 'JavaScript', 'standardizedSkillUrn': 'urn:li:fs_miniSkill:218', 'standardizedSkill': {'name': 'JavaScript', 'entityUrn': 'urn:li:fs_miniSkill:218'}}], 'education': [{'entityUrn': 'urn:li:fs_education:(ACoAAB9RsSMByi1p9vooYVutz1yFi6klVXQVHLs,438506891)', 'school': {'objectUrn': 'urn:li:school:161025', 'entityUrn': 'urn:li:fs_miniSchool:161025', 'active': True, 'schoolName': 'International Baccalaureate', 'trackingId': '8nkNgybLRXaIyxrDJH9qOQ==', 'logoUrl': 'https://media.licdn.com/dms/image/C4E0BAQH1trVeMU7kyA/company-logo_'}, 'degreeName': 'High School Affiliated to Shanghai Jiao Tong University', 'schoolName': 'International Baccalaureate', 'schoolUrn': 'urn:li:fs_miniSchool:161025'}, {'entityUrn': 'urn:li:fs_education:(ACoAAB9RsSMByi1p9vooYVutz1yFi6klVXQVHLs,367901368)', 'school': {'objectUrn': 'urn:li:school:17954', 'entityUrn': 'urn:li:fs_miniSchool:17954', 'active': True, 'schoolName': 'University of California San Diego', 'trackingId': 'a4/Gi4eDQBmZ1zcPWXCihw==', 'logoUrl': 'https://media.licdn.com/dms/image/C560BAQHQYa-3EY_aaQ/company-logo_'}, 'degreeName': 'Bachelor of Science - BS', 'schoolName': 'University of California San Diego', 'fieldOfStudy': 'Computer Science', 'degreeUrn': 'urn:li:fs_degree:400', 'schoolUrn': 'urn:li:fs_miniSchool:17954'}, {'entityUrn': 'urn:li:fs_education:(ACoAAB9RsSMByi1p9vooYVutz1yFi6klVXQVHLs,620991432)', 'school': {'objectUrn': 'urn:li:school:17954', 'entityUrn': 'urn:li:fs_miniSchool:17954', 'active': True, 'schoolName': 'University of California San Diego', 'trackingId': 'F+o1LADBTeOjbirVUOk1Fw==', 'logoUrl': 'https://media.licdn.com/dms/image/C560BAQHQYa-3EY_aaQ/company-logo_'}, 'fieldOfStudyUrn': 'urn:li:fs_fieldOfStudy:100189', 'degreeName': 'Master of Science - MS', 'schoolName': 'University of California San Diego', 'fieldOfStudy': 'Computer Science', 'degreeUrn': 'urn:li:fs_degree:626', 'schoolUrn': 'urn:li:fs_miniSchool:17954'}]}\n",
      "\n",
      "\n",
      "\n",
      "\n",
      "geoloc\n",
      "{'industryName': 'Computer Software', 'lastName': 'Wang', 'locationName': 'United States', 'student': False, 'geoCountryName': 'United States', 'geoCountryUrn': 'urn:li:fs_geo:103644278', 'geoLocationBackfilled': True, 'elt': False, 'industryUrn': 'urn:li:fs_industry:4', 'firstName': 'Siman', 'entityUrn': 'urn:li:fs_profile:ACoAACGvMtwBGqfDemMoGxNae_4lYl-N2Xab8uM', 'geoLocation': {'geoUrn': 'urn:li:fs_geo:103644278'}, 'location': {'basicLocation': {'countryCode': 'us'}}, 'headline': 'CS Master student at UCSD', 'displayPictureUrl': 'https://media.licdn.com/dms/image/C5603AQFIeUmDdLp9Bw/profile-displayphoto-shrink_', 'profile_id': 'ACoAACGvMtwBGqfDemMoGxNae_4lYl-N2Xab8uM', 'experience': [{'entityUrn': 'urn:li:fs_position:(ACoAACGvMtwBGqfDemMoGxNae_4lYl-N2Xab8uM,1500750930)', 'companyName': 'University of California San Diego', 'timePeriod': {'startDate': {'month': 4, 'year': 2019}}, 'description': 'TA for CSE 255 Data Mining and Analytics by Prof. Yoav Freund, Spring 2019.\\nTA for CSE 258 Recommender System and Web Mining by Prof. Julian McAuley, Fall 2019.', 'company': {'employeeCountRange': {'start': 10001}, 'industries': ['Higher Education']}, 'title': 'Teaching Assistant', 'companyUrn': 'urn:li:fs_miniCompany:3382', 'companyLogoUrl': 'https://media.licdn.com/dms/image/C560BAQHQYa-3EY_aaQ/company-logo_'}, {'locationName': 'Greater New York City Area', 'entityUrn': 'urn:li:fs_position:(ACoAACGvMtwBGqfDemMoGxNae_4lYl-N2Xab8uM,1500752545)', 'geoLocationName': 'Greater New York City Area', 'geoUrn': 'urn:li:fs_geo:90000070', 'companyName': 'Amazon', 'timePeriod': {'endDate': {'month': 9, 'year': 2019}, 'startDate': {'month': 6, 'year': 2019}}, 'description': 'Working on building a real-time inconsistent variation family (IVF) detection feature for Catalog Relationship tools with machine learning models.', 'company': {'employeeCountRange': {'start': 10001}, 'industries': ['Internet']}, 'title': 'Software Engineer Intern', 'region': 'urn:li:fs_region:(us,70)', 'companyUrn': 'urn:li:fs_miniCompany:1586', 'companyLogoUrl': 'https://media.licdn.com/dms/image/C560BAQFdwVGpSOHmgw/company-logo_'}, {'locationName': 'Shanghai City, China', 'entityUrn': 'urn:li:fs_position:(ACoAACGvMtwBGqfDemMoGxNae_4lYl-N2Xab8uM,1329525853)', 'geoLocationName': 'Shanghai City, China', 'geoUrn': 'urn:li:fs_geo:102772228', 'companyName': 'Intel Corporation', 'timePeriod': {'endDate': {'month': 8, 'year': 2018}, 'startDate': {'month': 5, 'year': 2018}}, 'description': 'Development work on Analytics Zoo, the Analytics + AI platform for distributed deep learning on Spark. (source code: https://github.com/intel-analytics/analytics-zoo)\\n• Built autograd APIs to provide automatic differentiation for math operations for custom loss and layers(in both Python and Scala).\\n• Constructed k-NRM model using Analytics Zoo APIs, preprocessed WikiQA dataset, trained the model on the dataset and performed answer sentence selection, improved NDCG@5 from 0.6696 to 0.8486.\\n• Added Keras-style and Torch-style layers and tested their forward and backward computation both locally and distributedly.\\n• Built the pipeline to generate Analytics Zoo documentation website using MkDocs (https://analytics-zoo.github.io/).', 'company': {'employeeCountRange': {'start': 10001}, 'industries': ['Semiconductors']}, 'title': 'Deep Learning Software Intern', 'region': 'urn:li:fs_region:(cn,8909)', 'companyUrn': 'urn:li:fs_miniCompany:1053', 'companyLogoUrl': 'https://media.licdn.com/dms/image/C4D0BAQEQxLTTAA1tTA/company-logo_'}, {'locationName': 'Greater Los Angeles Area', 'entityUrn': 'urn:li:fs_position:(ACoAACGvMtwBGqfDemMoGxNae_4lYl-N2Xab8uM,1069565395)', 'geoLocationName': 'Greater Los Angeles Area', 'geoUrn': 'urn:li:fs_geo:90000049', 'companyName': 'University of California, Los Angeles', 'timePeriod': {'endDate': {'month': 9, 'year': 2017}, 'startDate': {'month': 7, 'year': 2017}}, 'description': \"Contributed to data visualization of BigDebug and BigSift, an interactive and automated Debugging toolkit for Spark, in Software Evolution and Analysis Laboratory, UCLA, advised by Prof. Miryung Kim. The paper about my work was published at ESEC/FSE ’18.\\n• Visualized key-value pair outputs in Spark programs to make outlier detection easier.\\n• Visualized the data cleaning process of BigSift to show the process of fault localization.\\n• Transformed the DAG in Spark to pie DAG to enable users view the passing and failing data ratio in different program stages.\\n• Improved the interactive interface of BigDebug and helped to integrate it to Apache Spark's UI. \", 'company': {'employeeCountRange': {'start': 10001}, 'industries': ['Higher Education']}, 'title': 'Research Intern', 'region': 'urn:li:fs_region:(us,49)', 'companyUrn': 'urn:li:fs_miniCompany:2477', 'companyLogoUrl': 'https://media.licdn.com/dms/image/C560BAQHaEKA3OirIlg/company-logo_'}, {'locationName': 'Kunshan, China', 'entityUrn': 'urn:li:fs_position:(ACoAACGvMtwBGqfDemMoGxNae_4lYl-N2Xab8uM,1363265563)', 'geoLocationName': 'Kunshan, China', 'companyName': 'Duke Kunshan University', 'timePeriod': {'endDate': {'month': 6, 'year': 2016}, 'startDate': {'month': 4, 'year': 2016}}, 'description': 'Contributed to build a gigapixel imaging system, which captures images in ultra-high definition by synchronizing small cameras into one single device.\\n• Implemented the scale-invariant feature transform (SIFT) algorithm in OpenCV to stitch images.\\n• Applied RANSAC algorithm to remove the mismatch feature points.', 'company': {'employeeCountRange': {'start': 51, 'end': 200}, 'industries': ['Higher Education']}, 'title': 'Intern', 'companyUrn': 'urn:li:fs_miniCompany:3569707', 'companyLogoUrl': 'https://media.licdn.com/dms/image/C560BAQGEcybz3YZs6A/company-logo_'}], 'skills': [{'name': 'JavaScript'}, {'name': 'C/C++'}, {'name': 'Python'}], 'education': [{'entityUrn': 'urn:li:fs_education:(ACoAACGvMtwBGqfDemMoGxNae_4lYl-N2Xab8uM,544745820)', 'school': {'objectUrn': 'urn:li:school:17954', 'entityUrn': 'urn:li:fs_miniSchool:17954', 'active': True, 'schoolName': 'University of California San Diego', 'trackingId': 'F7BxExAISWSxp/AywmGxGA==', 'logoUrl': 'https://media.licdn.com/dms/image/C560BAQHQYa-3EY_aaQ/company-logo_'}, 'timePeriod': {'endDate': {'year': 2020}, 'startDate': {'year': 2018}}, 'degreeName': 'Master of Science - MS', 'schoolName': 'University of California San Diego', 'fieldOfStudy': 'Computer Science and Engineering', 'degreeUrn': 'urn:li:fs_degree:626', 'schoolUrn': 'urn:li:fs_miniSchool:17954'}, {'entityUrn': 'urn:li:fs_education:(ACoAACGvMtwBGqfDemMoGxNae_4lYl-N2Xab8uM,394466328)', 'school': {'objectUrn': 'urn:li:school:4060025', 'entityUrn': 'urn:li:fs_miniSchool:4060025', 'active': False, 'schoolName': 'Hunan University', 'trackingId': 'r+SFP04TQhmnxcfoA9dl8Q==', 'logoUrl': 'https://media.licdn.com/dms/image/C510BAQG2IttwZkfIlg/company-logo_'}, 'timePeriod': {'endDate': {'year': 2018}, 'startDate': {'year': 2014}}, 'degreeName': \"Bachelor's degree\", 'schoolName': 'Hunan University', 'fieldOfStudy': 'Internet of Things', 'degreeUrn': 'urn:li:fs_degree:200', 'schoolUrn': 'urn:li:fs_miniSchool:4060025'}, {'entityUrn': 'urn:li:fs_education:(ACoAACGvMtwBGqfDemMoGxNae_4lYl-N2Xab8uM,448333762)', 'school': {'objectUrn': 'urn:li:school:17950', 'entityUrn': 'urn:li:fs_miniSchool:17950', 'active': True, 'schoolName': 'University of California, Los Angeles', 'trackingId': 'BCnvOSzTSbCtbGNEaFAvlQ==', 'logoUrl': 'https://media.licdn.com/dms/image/C560BAQHaEKA3OirIlg/company-logo_'}, 'timePeriod': {'endDate': {'year': 2017}, 'startDate': {'year': 2017}}, 'description': 'Summer research program CSST (Cross-disciplinary Scholar of Science and Technology)', 'fieldOfStudyUrn': 'urn:li:fs_fieldOfStudy:100189', 'degreeName': 'Summer Research Program', 'schoolName': 'University of California, Los Angeles', 'fieldOfStudy': 'Computer Science', 'schoolUrn': 'urn:li:fs_miniSchool:17950'}]}\n",
      "\n",
      "\n",
      "\n",
      "\n",
      "geoloc\n",
      "{'summary': 'Experienced Software Engineer with a demonstrated history of working in the information technology and services industry. Skilled in Microsoft Word, Haskell, PHP, Test Automation, and English. Strong engineering professional with a Master’s Degree focused in Computer Science from University of California, San Diego. ', 'industryName': 'Computer Networking', 'lastName': 'Zhou', 'locationName': 'United States', 'student': False, 'geoCountryName': 'United States', 'geoCountryUrn': 'urn:li:fs_geo:103644278', 'geoLocationBackfilled': True, 'elt': False, 'industryUrn': 'urn:li:fs_industry:5', 'firstName': 'Qingyu', 'entityUrn': 'urn:li:fs_profile:ACoAABFnDjgBh_XRPvZvIKsdIHa6lxX8oPnkcL8', 'geoLocation': {'geoUrn': 'urn:li:fs_geo:90000084'}, 'geoLocationName': 'San Francisco Bay Area', 'location': {'basicLocation': {'countryCode': 'us'}}, 'headline': 'Software Engineer ', 'profile_id': 'ACoAABFnDjgBh_XRPvZvIKsdIHa6lxX8oPnkcL8', 'experience': [{'entityUrn': 'urn:li:fs_position:(ACoAABFnDjgBh_XRPvZvIKsdIHa6lxX8oPnkcL8,1456449998)', 'companyName': 'Uber', 'timePeriod': {'startDate': {'month': 4, 'year': 2019}}, 'description': 'Building the next generation of logging platform now\\nWorked on log search team in Uber\\nImproved the ingestion performance of Logstash pipelines', 'company': {'employeeCountRange': {'start': 10001}, 'industries': ['Internet']}, 'title': 'Software Engineer', 'companyUrn': 'urn:li:fs_miniCompany:1815218', 'companyLogoUrl': 'https://media.licdn.com/dms/image/C4D0BAQFiYnR1Mbtxdg/company-logo_'}, {'locationName': 'San Francisco Bay Area', 'entityUrn': 'urn:li:fs_position:(ACoAABFnDjgBh_XRPvZvIKsdIHa6lxX8oPnkcL8,912146749)', 'geoLocationName': 'San Francisco Bay Area', 'geoUrn': 'urn:li:fs_geo:90000084', 'companyName': 'Amazon Web Services', 'timePeriod': {'endDate': {'month': 4, 'year': 2019}, 'startDate': {'month': 2, 'year': 2017}}, 'description': 'AWS Search Services\\n• Working in AWS Search services team, focusing on AWS CloudSearch and Elasticsearch Service\\n• Migrated Search Services infrastructure to AWS Cloudformation as infrastructure as code project\\n• Optimized Amazon Logstash plugin based on the open-source version and increased transition speed by 40%\\n• Expanded Elasticsearch Services to new regions, including London, Paris, Beijing, Ningxia, Sweden\\n• Implemented Elasticsearch Node-to-node Encryption feature, based on AWS ELB/ACM/KMS and HAProxy\\n• Leveraged day-to-day experiences to troubleshoot customer issues and maintained 100k+ clusters\\n• Open source projects: \\nhttps://github.com/awslabs/logstash-output-amazon_es\\nhttps://opendistro.github.io/for-elasticsearch/ ', 'company': {'employeeCountRange': {'start': 10001}, 'industries': ['Information Technology and Services']}, 'title': 'Software Engineer', 'region': 'urn:li:fs_region:(us,84)', 'companyUrn': 'urn:li:fs_miniCompany:2382910', 'companyLogoUrl': 'https://media.licdn.com/dms/image/C4D0BAQGzuSBRRRuphw/company-logo_'}, {'locationName': 'Greater San Diego Area', 'entityUrn': 'urn:li:fs_position:(ACoAABFnDjgBh_XRPvZvIKsdIHa6lxX8oPnkcL8,858510817)', 'geoLocationName': 'Greater San Diego Area', 'geoUrn': 'urn:li:fs_geo:100737633', 'companyName': 'TuSimple LLC', 'timePeriod': {'endDate': {'month': 1, 'year': 2017}, 'startDate': {'month': 10, 'year': 2016}}, 'description': 'Build data visualization toosl and internal applications', 'company': {'employeeCountRange': {'start': 201, 'end': 500}, 'industries': ['Computer Software']}, 'title': 'Software Engineer Intern [front end]', 'region': 'urn:li:fs_region:(us,732)', 'companyUrn': 'urn:li:fs_miniCompany:10693191', 'companyLogoUrl': 'https://media.licdn.com/dms/image/C560BAQHSiBcbj6ZW0A/company-logo_'}, {'locationName': 'Greater Seattle Area', 'entityUrn': 'urn:li:fs_position:(ACoAABFnDjgBh_XRPvZvIKsdIHa6lxX8oPnkcL8,814407256)', 'geoLocationName': 'Greater Seattle Area', 'geoUrn': 'urn:li:fs_geo:90000091', 'companyName': 'Amazon', 'timePeriod': {'endDate': {'month': 8, 'year': 2016}, 'startDate': {'month': 6, 'year': 2016}}, 'description': '• Migrated an inventory movement reporting system from oracle DB to AWS dynamoDB in Amazon Seller Central\\n• Changed the report data source from daily data warehouse ETL job to real-time source by using AWS SQS', 'company': {'employeeCountRange': {'start': 10001}, 'industries': ['Internet']}, 'title': 'Software Engineer Intern @ Amazon Global Selling', 'region': 'urn:li:fs_region:(us,91)', 'companyUrn': 'urn:li:fs_miniCompany:1586', 'companyLogoUrl': 'https://media.licdn.com/dms/image/C560BAQFdwVGpSOHmgw/company-logo_'}, {'locationName': 'Greater San Diego Area', 'entityUrn': 'urn:li:fs_position:(ACoAABFnDjgBh_XRPvZvIKsdIHa6lxX8oPnkcL8,804401736)', 'geoLocationName': 'Greater San Diego Area', 'geoUrn': 'urn:li:fs_geo:100737633', 'companyName': 'TuSimple LLC', 'timePeriod': {'endDate': {'month': 5, 'year': 2016}, 'startDate': {'month': 4, 'year': 2016}}, 'description': '• add new features to Hcomp, an platform for collecting data from user to train machine learning algorithm\\n• launch Hcomp admin, an admin system to mange data collected from Hcomp\\nMainly use angularJS.', 'company': {'employeeCountRange': {'start': 201, 'end': 500}, 'industries': ['Computer Software']}, 'title': 'Software Engineer Intern [front end]', 'region': 'urn:li:fs_region:(us,732)', 'companyUrn': 'urn:li:fs_miniCompany:10693191', 'companyLogoUrl': 'https://media.licdn.com/dms/image/C560BAQHSiBcbj6ZW0A/company-logo_'}], 'skills': [{'name': 'C++'}, {'name': 'C'}, {'name': 'Java'}, {'name': 'Matlab'}, {'name': 'Programming'}, {'name': 'Linux'}, {'name': 'Python'}, {'name': 'LaTeX'}, {'name': 'Microsoft Office'}, {'name': 'Networking'}, {'name': 'Customer Service'}, {'name': 'JavaScript'}, {'name': 'SQL'}, {'name': 'Verilog'}, {'name': 'HTML'}, {'name': 'Mathematica'}, {'name': 'Windows'}, {'name': 'Microsoft Word'}, {'name': 'Microsoft Excel'}, {'name': 'PowerPoint'}, {'name': 'TCL'}, {'name': 'PHP'}, {'name': 'MySQL'}, {'name': 'Android Development'}, {'name': 'Web Development'}, {'name': 'Test Automation'}, {'name': 'English'}, {'name': 'Apache Spark'}, {'name': 'React.js'}, {'name': 'AngularJS'}, {'name': 'web d'}, {'name': 'Amazon Dynamodb'}, {'name': 'Amazon EC2'}, {'name': 'Haskell'}, {'name': 'SQLite'}, {'name': 'android'}, {'name': 'Search Engines'}, {'name': 'ElasticSearch'}, {'name': 'Lucene'}, {'name': 'lucene'}, {'name': 'Relevance'}], 'education': [{'courses': ['urn:li:fs_course:(ACoAABFnDjgBh_XRPvZvIKsdIHa6lxX8oPnkcL8,9)', 'urn:li:fs_course:(ACoAABFnDjgBh_XRPvZvIKsdIHa6lxX8oPnkcL8,10)', 'urn:li:fs_course:(ACoAABFnDjgBh_XRPvZvIKsdIHa6lxX8oPnkcL8,11)', 'urn:li:fs_course:(ACoAABFnDjgBh_XRPvZvIKsdIHa6lxX8oPnkcL8,12)', 'urn:li:fs_course:(ACoAABFnDjgBh_XRPvZvIKsdIHa6lxX8oPnkcL8,13)', 'urn:li:fs_course:(ACoAABFnDjgBh_XRPvZvIKsdIHa6lxX8oPnkcL8,14)'], 'projects': ['urn:li:fs_project:(ACoAABFnDjgBh_XRPvZvIKsdIHa6lxX8oPnkcL8,435025378)', 'urn:li:fs_project:(ACoAABFnDjgBh_XRPvZvIKsdIHa6lxX8oPnkcL8,435188714)', 'urn:li:fs_project:(ACoAABFnDjgBh_XRPvZvIKsdIHa6lxX8oPnkcL8,1166793274)', 'urn:li:fs_project:(ACoAABFnDjgBh_XRPvZvIKsdIHa6lxX8oPnkcL8,1006324651)', 'urn:li:fs_project:(ACoAABFnDjgBh_XRPvZvIKsdIHa6lxX8oPnkcL8,1006865018)'], 'entityUrn': 'urn:li:fs_education:(ACoAABFnDjgBh_XRPvZvIKsdIHa6lxX8oPnkcL8,297005183)', 'school': {'objectUrn': 'urn:li:school:17954', 'entityUrn': 'urn:li:fs_miniSchool:17954', 'active': True, 'schoolName': 'University of California San Diego', 'trackingId': 'OJsespr0QLinvRKi9cNIjA==', 'logoUrl': 'https://media.licdn.com/dms/image/C560BAQHQYa-3EY_aaQ/company-logo_'}, 'timePeriod': {'endDate': {'year': 2016}, 'startDate': {'year': 2015}}, 'degreeName': 'Master’s Degree', 'schoolName': 'University of California, San Diego', 'fieldOfStudy': 'Computer Science', 'schoolUrn': 'urn:li:fs_miniSchool:17954'}, {'courses': ['urn:li:fs_course:(ACoAABFnDjgBh_XRPvZvIKsdIHa6lxX8oPnkcL8,1)', 'urn:li:fs_course:(ACoAABFnDjgBh_XRPvZvIKsdIHa6lxX8oPnkcL8,2)', 'urn:li:fs_course:(ACoAABFnDjgBh_XRPvZvIKsdIHa6lxX8oPnkcL8,3)', 'urn:li:fs_course:(ACoAABFnDjgBh_XRPvZvIKsdIHa6lxX8oPnkcL8,4)', 'urn:li:fs_course:(ACoAABFnDjgBh_XRPvZvIKsdIHa6lxX8oPnkcL8,5)', 'urn:li:fs_course:(ACoAABFnDjgBh_XRPvZvIKsdIHa6lxX8oPnkcL8,6)', 'urn:li:fs_course:(ACoAABFnDjgBh_XRPvZvIKsdIHa6lxX8oPnkcL8,7)', 'urn:li:fs_course:(ACoAABFnDjgBh_XRPvZvIKsdIHa6lxX8oPnkcL8,8)'], 'projects': ['urn:li:fs_project:(ACoAABFnDjgBh_XRPvZvIKsdIHa6lxX8oPnkcL8,1772812259)', 'urn:li:fs_project:(ACoAABFnDjgBh_XRPvZvIKsdIHa6lxX8oPnkcL8,1772957149)', 'urn:li:fs_project:(ACoAABFnDjgBh_XRPvZvIKsdIHa6lxX8oPnkcL8,1773032277)', 'urn:li:fs_project:(ACoAABFnDjgBh_XRPvZvIKsdIHa6lxX8oPnkcL8,1773102655)', 'urn:li:fs_project:(ACoAABFnDjgBh_XRPvZvIKsdIHa6lxX8oPnkcL8,1773194504)', 'urn:li:fs_project:(ACoAABFnDjgBh_XRPvZvIKsdIHa6lxX8oPnkcL8,1773460559)', 'urn:li:fs_project:(ACoAABFnDjgBh_XRPvZvIKsdIHa6lxX8oPnkcL8,1773602111)'], 'entityUrn': 'urn:li:fs_education:(ACoAABFnDjgBh_XRPvZvIKsdIHa6lxX8oPnkcL8,187514517)', 'school': {'objectUrn': 'urn:li:school:11319', 'entityUrn': 'urn:li:fs_miniSchool:11319', 'active': True, 'schoolName': 'Shanghai Jiao Tong University', 'trackingId': 'VCrXTqjSQcmqCN/N6th7tQ==', 'logoUrl': 'https://media.licdn.com/dms/image/C4E0BAQFkNUM4pr0xcg/company-logo_'}, 'activities': 'UMJI Network Department', 'timePeriod': {'endDate': {'year': 2015}, 'startDate': {'year': 2011}}, 'description': 'In University of Michigan – Shanghai Jiao Tong University Joint Institute.', 'degreeName': \"Bachelor's Degree\", 'schoolName': 'Shanghai Jiao Tong University', 'fieldOfStudy': 'Electrical and Computer Engineering', 'honors': ['urn:li:fs_honor:(ACoAABFnDjgBh_XRPvZvIKsdIHa6lxX8oPnkcL8,1773748916)', 'urn:li:fs_honor:(ACoAABFnDjgBh_XRPvZvIKsdIHa6lxX8oPnkcL8,1773775300)'], 'schoolUrn': 'urn:li:fs_miniSchool:11319'}]}\n",
      "\n",
      "\n",
      "\n",
      "\n",
      "geoloc\n",
      "{'summary': 'Interested in cloud, distributed systems, large scale services. ', 'industryName': 'Computer Software', 'lastName': 'G.', 'locationName': 'United States', 'student': False, 'geoCountryName': 'United States', 'geoCountryUrn': 'urn:li:fs_geo:103644278', 'geoLocationBackfilled': True, 'elt': False, 'industryUrn': 'urn:li:fs_industry:4', 'firstName': 'Yishun', 'entityUrn': 'urn:li:fs_profile:ACoAABfU1e0BgYV8nKBkivFb19SHTeSYCy622yY', 'geoLocation': {'geoUrn': 'urn:li:fs_geo:90000091'}, 'geoLocationName': 'Greater Seattle Area', 'location': {'basicLocation': {'countryCode': 'us'}}, 'headline': 'Software Engineer II @ Microsoft Bing | Ex VMware Cloud', 'profile_id': 'ACoAABfU1e0BgYV8nKBkivFb19SHTeSYCy622yY', 'experience': [{'locationName': 'Greater Seattle Area', 'entityUrn': 'urn:li:fs_position:(ACoAABfU1e0BgYV8nKBkivFb19SHTeSYCy622yY,1537986149)', 'geoLocationName': 'Greater Seattle Area', 'geoUrn': 'urn:li:fs_geo:90000091', 'companyName': 'Microsoft', 'timePeriod': {'startDate': {'month': 11, 'year': 2019}}, 'description': 'Bing IndexServe XAP', 'company': {'employeeCountRange': {'start': 10001}, 'industries': ['Computer Software']}, 'title': 'Software Engineer II', 'region': 'urn:li:fs_region:(us,91)', 'companyUrn': 'urn:li:fs_miniCompany:1035', 'companyLogoUrl': 'https://media.licdn.com/dms/image/C4D0BAQEko6uLz7XylA/company-logo_'}, {'locationName': 'Greater Seattle Area', 'entityUrn': 'urn:li:fs_position:(ACoAABfU1e0BgYV8nKBkivFb19SHTeSYCy622yY,1231951833)', 'geoLocationName': 'Greater Seattle Area', 'companyName': 'VMware', 'timePeriod': {'endDate': {'month': 11, 'year': 2019}, 'startDate': {'month': 5, 'year': 2018}}, 'description': 'VMC Hybrid Cloud - Cloud Platform (https://cloud.vmware.com/vmc-aws)\\n\\nBuilding the Feature Flag Service for VMC.\\nUsage Metering and Billing team for VMC.\\nVMware Gov Cloud project.\\n', 'company': {'employeeCountRange': {'start': 10001}, 'industries': ['Computer Software']}, 'title': 'Member Of Technical Staff II', 'companyUrn': 'urn:li:fs_miniCompany:2988', 'companyLogoUrl': 'https://media.licdn.com/dms/image/C4E0BAQHtEC7Ej7q_UQ/company-logo_'}, {'entityUrn': 'urn:li:fs_position:(ACoAABfU1e0BgYV8nKBkivFb19SHTeSYCy622yY,1343302627)', 'companyName': 'The Apache Software Foundation', 'timePeriod': {'endDate': {'month': 11, 'year': 2018}, 'startDate': {'month': 5, 'year': 2018}}, 'description': 'Work on the Apache Kafka Project. Proposed and implemented various Kafka improvement plans.', 'company': {'employeeCountRange': {'start': 5001, 'end': 10000}, 'industries': ['Computer Software']}, 'title': 'Contributor', 'companyUrn': 'urn:li:fs_miniCompany:215982', 'companyLogoUrl': 'https://media.licdn.com/dms/image/C4D0BAQHJvZ24dgZcHg/company-logo_'}, {'locationName': 'Greater Seattle Area', 'entityUrn': 'urn:li:fs_position:(ACoAABfU1e0BgYV8nKBkivFb19SHTeSYCy622yY,1021798210)', 'geoLocationName': 'Greater Seattle Area', 'companyName': 'Amazon Web Services', 'timePeriod': {'endDate': {'month': 11, 'year': 2017}, 'startDate': {'month': 8, 'year': 2017}}, 'description': 'Worked for AWS Lambda (Serverless)\\n- Built an auto-scaling warming pool for a distributed system to improve utilization and lower costs. ', 'company': {'employeeCountRange': {'start': 10001}, 'industries': ['Information Technology and Services']}, 'title': 'Software Engineering Intern', 'companyUrn': 'urn:li:fs_miniCompany:2382910', 'companyLogoUrl': 'https://media.licdn.com/dms/image/C4D0BAQGzuSBRRRuphw/company-logo_'}, {'locationName': 'San Francisco Bay Area', 'entityUrn': 'urn:li:fs_position:(ACoAABfU1e0BgYV8nKBkivFb19SHTeSYCy622yY,1021798149)', 'geoLocationName': 'San Francisco Bay Area', 'companyName': 'BlackRock', 'timePeriod': {'endDate': {'month': 8, 'year': 2017}, 'startDate': {'month': 6, 'year': 2017}}, 'description': \"-Help building a portfolio in the Portfolio challenge.\\nWorked at the Aladdin Product Group(APG), specically under Core Platform Team.\\n- Built an API for registration that provides interfaces to communicates with Blackrock's backend database to access user information, verify accounts, send out confirmation emails, etc.\\n- Fixed and improved certain UI logics.\", 'company': {'employeeCountRange': {'start': 10001}, 'industries': ['Financial Services']}, 'title': 'Technology Summer Analyst', 'companyUrn': 'urn:li:fs_miniCompany:4764', 'companyLogoUrl': 'https://media.licdn.com/dms/image/C4D0BAQFHPXqSKoYQng/company-logo_'}], 'skills': [{'name': 'Java'}, {'name': 'SQL'}, {'name': 'Programming'}, {'name': 'C++'}, {'name': 'HTML'}, {'name': 'Linux'}, {'name': 'C'}, {'name': 'Python'}, {'name': 'Software Development'}, {'name': 'JavaScript', 'standardizedSkillUrn': 'urn:li:fs_miniSkill:218', 'standardizedSkill': {'name': 'JavaScript', 'entityUrn': 'urn:li:fs_miniSkill:218'}}, {'name': 'Algorithms'}, {'name': 'Data Analysis'}, {'name': 'Matlab'}, {'name': 'Machine Learning'}, {'name': 'Cloud Computing'}, {'name': 'Infrastructure'}, {'name': 'Distributed Systems'}], 'education': [{'entityUrn': 'urn:li:fs_education:(ACoAABfU1e0BgYV8nKBkivFb19SHTeSYCy622yY,268469114)', 'school': {'objectUrn': 'urn:li:school:17954', 'entityUrn': 'urn:li:fs_miniSchool:17954', 'active': True, 'schoolName': 'University of California San Diego', 'trackingId': 'a/yQ/ZK4Rzm1isJV3S4NQw==', 'logoUrl': 'https://media.licdn.com/dms/image/C560BAQHQYa-3EY_aaQ/company-logo_'}, 'timePeriod': {'endDate': {'month': 6, 'year': 2018}, 'startDate': {'year': 2014}}, 'degreeName': 'Bachelor of Science (BS)', 'schoolName': 'University of California, San Diego', 'fieldOfStudy': 'Computer Science', 'schoolUrn': 'urn:li:fs_miniSchool:17954'}]}\n",
      "\n",
      "\n",
      "\n",
      "\n",
      "geoloc\n",
      "{'summary': '★ https://supshen.com ★', 'industryName': 'Computer Software', 'lastName': 'Liu', 'locationName': 'United States', 'student': False, 'geoCountryName': 'United States', 'geoCountryUrn': 'urn:li:fs_geo:103644278', 'geoLocationBackfilled': True, 'elt': False, 'industryUrn': 'urn:li:fs_industry:4', 'firstName': 'Shen', 'entityUrn': 'urn:li:fs_profile:ACoAABtm11UBZdpo4XuEp22cvKogZqD-z9DF0RI', 'geoLocation': {'geoUrn': 'urn:li:fs_geo:90000091'}, 'geoLocationName': 'Greater Seattle Area', 'location': {'basicLocation': {'countryCode': 'us'}}, 'headline': 'Software Development Engineer II at Amazon', 'displayPictureUrl': 'https://media.licdn.com/dms/image/C5603AQEdYHtrGOw0_w/profile-displayphoto-shrink_', 'profile_id': 'ACoAABtm11UBZdpo4XuEp22cvKogZqD-z9DF0RI', 'experience': [{'locationName': 'Greater Seattle Area', 'entityUrn': 'urn:li:fs_position:(ACoAABtm11UBZdpo4XuEp22cvKogZqD-z9DF0RI,1446842845)', 'geoLocationName': 'Greater Seattle Area', 'geoUrn': 'urn:li:fs_geo:90000091', 'companyName': 'Amazon', 'timePeriod': {'startDate': {'month': 4, 'year': 2019}}, 'company': {'employeeCountRange': {'start': 10001}, 'industries': ['Internet']}, 'title': 'Software Development Engineer II', 'region': 'urn:li:fs_region:(us,91)', 'companyUrn': 'urn:li:fs_miniCompany:1586', 'companyLogoUrl': 'https://media.licdn.com/dms/image/C560BAQFdwVGpSOHmgw/company-logo_'}, {'locationName': 'Greater Seattle Area', 'entityUrn': 'urn:li:fs_position:(ACoAABtm11UBZdpo4XuEp22cvKogZqD-z9DF0RI,1053833766)', 'geoLocationName': 'Greater Seattle Area', 'geoUrn': 'urn:li:fs_geo:90000091', 'companyName': 'Amazon', 'timePeriod': {'endDate': {'month': 3, 'year': 2019}, 'startDate': {'month': 8, 'year': 2017}}, 'company': {'employeeCountRange': {'start': 10001}, 'industries': ['Internet']}, 'title': 'Software Development Engineer', 'region': 'urn:li:fs_region:(us,91)', 'companyUrn': 'urn:li:fs_miniCompany:1586', 'companyLogoUrl': 'https://media.licdn.com/dms/image/C560BAQFdwVGpSOHmgw/company-logo_'}, {'locationName': 'West Lafayette, IN, United States', 'entityUrn': 'urn:li:fs_position:(ACoAABtm11UBZdpo4XuEp22cvKogZqD-z9DF0RI,738062121)', 'geoLocationName': 'West Lafayette, IN, United States', 'companyName': 'Purdue University', 'timePeriod': {'endDate': {'month': 5, 'year': 2015}, 'startDate': {'month': 1, 'year': 2015}}, 'description': 'DzineSteps.com is a company that allows customer decorate house interior virtually online\\n\\n●  Designed Homography Matrix algorithms in order to attach a pattern to the surface of the furniture in the image with a right perspective. \\n●  Designed method of Anti-Aliasing to smooth Jagged Edges of images. \\n●  Achieved above two algorithms in Matlab.', 'company': {'employeeCountRange': {'start': 10001}, 'industries': ['Higher Education']}, 'title': 'Image Processing Researcher', 'companyUrn': 'urn:li:fs_miniCompany:3846', 'companyLogoUrl': 'https://media.licdn.com/dms/image/C4E0BAQE6srx5-9YuEQ/company-logo_'}, {'locationName': 'West Lafayette, IN, United States', 'entityUrn': 'urn:li:fs_position:(ACoAABtm11UBZdpo4XuEp22cvKogZqD-z9DF0RI,738063047)', 'geoLocationName': 'West Lafayette, IN, United States', 'companyName': 'Purdue University', 'timePeriod': {'endDate': {'month': 5, 'year': 2015}, 'startDate': {'month': 1, 'year': 2015}}, 'description': '● Taught undergraduate students coding in VPython during Labs.', 'company': {'employeeCountRange': {'start': 10001}, 'industries': ['Higher Education']}, 'title': 'Teaching Assistant', 'companyUrn': 'urn:li:fs_miniCompany:3846', 'companyLogoUrl': 'https://media.licdn.com/dms/image/C4E0BAQE6srx5-9YuEQ/company-logo_'}, {'locationName': 'West Lafayette, IN, United States', 'entityUrn': 'urn:li:fs_position:(ACoAABtm11UBZdpo4XuEp22cvKogZqD-z9DF0RI,738059409)', 'geoLocationName': 'West Lafayette, IN, United States', 'companyName': 'Purdue University', 'timePeriod': {'endDate': {'month': 5, 'year': 2014}, 'startDate': {'month': 8, 'year': 2013}}, 'description': 'The research focuses on achieving recover of an image with loss of phases(known as Phase Retrieval and Image Reconstruction) using (Fast) Fourier Transform and different algorithms and packages. \\n\\n●  Recovered phase information by given Fourier Magnitude data in Fourier domain using Error Reduction Algorithm and Hybrid Input-Output Algorithm. \\n●  Familiarized the famous package named TFOCS (written by Prof. J.Candes from Stanford University) and generated test cases in Matlab and Python. \\n●  Utilized TFOCS package combining with self-designed program to reconstruct more complex images and signals.', 'company': {'employeeCountRange': {'start': 10001}, 'industries': ['Higher Education']}, 'title': 'Image Processing Researcher', 'companyUrn': 'urn:li:fs_miniCompany:3846', 'companyLogoUrl': 'https://media.licdn.com/dms/image/C4E0BAQE6srx5-9YuEQ/company-logo_'}], 'skills': [{'name': 'Java'}, {'name': 'JavaScript'}, {'name': 'C'}, {'name': 'Matlab'}, {'name': 'AngularJS'}, {'name': 'Web Development'}, {'name': 'Node.js'}, {'name': 'MongoDB'}, {'name': 'Bootstrap'}, {'name': 'HTML'}, {'name': 'Python'}, {'name': 'Linux'}, {'name': 'SQL'}, {'name': 'GruntJS'}, {'name': 'Gulp.js'}, {'name': 'JSON'}, {'name': 'Photoshop'}, {'name': 'Eclipse'}, {'name': 'Dreamweaver'}, {'name': 'IntelliJ IDEA'}, {'name': 'Android Development'}, {'name': 'Cascading Style Sheets (CSS)'}, {'name': 'Bash'}, {'name': 'npm'}], 'education': [{'entityUrn': 'urn:li:fs_education:(ACoAABtm11UBZdpo4XuEp22cvKogZqD-z9DF0RI,311099753)', 'school': {'objectUrn': 'urn:li:school:17954', 'entityUrn': 'urn:li:fs_miniSchool:17954', 'active': True, 'schoolName': 'University of California San Diego', 'trackingId': 'RuNqrifjTjG2YL02lBBBLw==', 'logoUrl': 'https://media.licdn.com/dms/image/C560BAQHQYa-3EY_aaQ/company-logo_'}, 'grade': '3.54', 'timePeriod': {'endDate': {'year': 2017}, 'startDate': {'year': 2015}}, 'degreeName': 'Master’s Degree', 'schoolName': 'University of California San Diego', 'fieldOfStudy': 'Electrical and Computer Engineering', 'schoolUrn': 'urn:li:fs_miniSchool:17954'}, {'projects': ['urn:li:fs_project:(ACoAABtm11UBZdpo4XuEp22cvKogZqD-z9DF0RI,180320093)', 'urn:li:fs_project:(ACoAABtm11UBZdpo4XuEp22cvKogZqD-z9DF0RI,178832976)'], 'entityUrn': 'urn:li:fs_education:(ACoAABtm11UBZdpo4XuEp22cvKogZqD-z9DF0RI,311302475)', 'school': {'objectUrn': 'urn:li:school:18357', 'entityUrn': 'urn:li:fs_miniSchool:18357', 'active': True, 'schoolName': 'Purdue University', 'trackingId': 'WvBJ51DeQ6WVCzKO1M34Qg==', 'logoUrl': 'https://media.licdn.com/dms/image/C4E0BAQE6srx5-9YuEQ/company-logo_'}, 'activities': 'Solar Racing Club, Undergraduate Chinese Association', 'grade': 'Average 3.62 / Core Course 3.74', 'timePeriod': {'endDate': {'year': 2015}, 'startDate': {'year': 2011}}, 'degreeName': 'Bachelor’s Degree', 'schoolName': 'Purdue University', 'fieldOfStudy': 'Electrical and Computer Engineering', 'honors': ['urn:li:fs_honor:(ACoAABtm11UBZdpo4XuEp22cvKogZqD-z9DF0RI,178417914)'], 'schoolUrn': 'urn:li:fs_miniSchool:18357'}]}\n",
      "\n",
      "\n",
      "\n",
      "\n",
      "geoloc\n",
      "{'summary': 'Enjoy coding', 'industryName': 'Computer Software', 'lastName': 'Lyu', 'locationName': 'United States', 'student': False, 'geoCountryName': 'United States', 'geoCountryUrn': 'urn:li:fs_geo:103644278', 'geoLocationBackfilled': True, 'elt': False, 'industryUrn': 'urn:li:fs_industry:4', 'firstName': 'Chunyi', 'entityUrn': 'urn:li:fs_profile:ACoAABtNTYgB2BudSg4W2VcB0qGmYWOrzdQ2NG0', 'geoLocation': {'geoUrn': 'urn:li:fs_geo:90000084'}, 'geoLocationName': 'San Francisco Bay Area', 'location': {'basicLocation': {'countryCode': 'us'}}, 'headline': 'Software Engineer at Uber', 'displayPictureUrl': 'https://media.licdn.com/dms/image/C5603AQEcIAKaT8jDKw/profile-displayphoto-shrink_', 'profile_id': 'ACoAABtNTYgB2BudSg4W2VcB0qGmYWOrzdQ2NG0', 'experience': [{'locationName': 'Palo Alto, California', 'entityUrn': 'urn:li:fs_position:(ACoAABtNTYgB2BudSg4W2VcB0qGmYWOrzdQ2NG0,1390752713)', 'geoLocationName': 'Palo Alto, California', 'companyName': 'Uber', 'timePeriod': {'startDate': {'month': 11, 'year': 2018}}, 'company': {'employeeCountRange': {'start': 10001}, 'industries': ['Internet']}, 'title': 'Software Engineer', 'companyUrn': 'urn:li:fs_miniCompany:1815218', 'companyLogoUrl': 'https://media.licdn.com/dms/image/C4D0BAQFiYnR1Mbtxdg/company-logo_'}, {'entityUrn': 'urn:li:fs_position:(ACoAABtNTYgB2BudSg4W2VcB0qGmYWOrzdQ2NG0,1361040409)', 'companyName': 'Kneron', 'timePeriod': {'endDate': {'month': 11, 'year': 2018}, 'startDate': {'month': 4, 'year': 2018}}, 'description': '♣\\tDesigned a well-received model concerning a food dataset (25 categories, 40K items) with bounding box from scratch, leading to a decrease in human workload within a fast-paced, high-stress work environment.\\n♣\\tGenerated custom CNN model to detect complex hand gestures reliably, delivering loss of 0.4 with milliseconds inference time, exceeding expected performance goals by 60%.\\n', 'company': {'employeeCountRange': {'start': 51, 'end': 200}, 'industries': ['Computer Hardware']}, 'title': 'Data Engineer / Internship', 'companyUrn': 'urn:li:fs_miniCompany:18611732', 'companyLogoUrl': 'https://media.licdn.com/dms/image/C560BAQG3iZT5eGX_0A/company-logo_'}, {'locationName': 'Greater San Diego Area', 'entityUrn': 'urn:li:fs_position:(ACoAABtNTYgB2BudSg4W2VcB0qGmYWOrzdQ2NG0,1121409500)', 'geoLocationName': 'Greater San Diego Area', 'geoUrn': 'urn:li:fs_geo:100737633', 'companyName': 'Dermala Inc.', 'timePeriod': {'endDate': {'month': 9, 'year': 2017}, 'startDate': {'month': 7, 'year': 2017}}, 'description': '♣\\tChampioned an IOS application based on React Native, taking pictures and adding comments to track skin acne while integrating multiple analytic techniques to ensure application organization and usability.\\n♣\\tBuilt custom web application based on Flask to monitor backend status and manipulate data, supporting the uncovering and integration of various insights to improve app efficiencies. \\n♣\\tGuided flawless integration of Google Cloud API to store pictures and reduce related operational costs.', 'company': {'employeeCountRange': {'start': 2, 'end': 10}, 'industries': ['Biotechnology']}, 'title': 'IOS Developer Intern', 'region': 'urn:li:fs_region:(us,732)', 'companyUrn': 'urn:li:fs_miniCompany:3990828', 'companyLogoUrl': 'https://media.licdn.com/dms/image/C560BAQG7I6I1qtAZrw/company-logo_'}, {'locationName': 'United States', 'entityUrn': 'urn:li:fs_position:(ACoAABtNTYgB2BudSg4W2VcB0qGmYWOrzdQ2NG0,1003744580)', 'geoLocationName': 'United States', 'geoUrn': 'urn:li:fs_geo:103644278', 'companyName': 'Kaggle', 'timePeriod': {'endDate': {'month': 4, 'year': 2017}, 'startDate': {'month': 3, 'year': 2017}}, 'description': '♣Used python to deal with 20000 house information and remove outliers by k-means.\\n♣Used XGBoost to select feature and XGBoost to regression. And rank to top 15% in Kaggle.\\n♣Used latitude and longitude to detect wrong data point.\\n', 'company': {'employeeCountRange': {'start': 11, 'end': 50}, 'industries': ['Information Technology and Services']}, 'title': 'Data Analyst', 'region': 'urn:li:fs_region:(us,0)', 'companyUrn': 'urn:li:fs_miniCompany:1061689', 'companyLogoUrl': 'https://media.licdn.com/dms/image/C4E0BAQGbmegZ9h1otw/company-logo_'}, {'locationName': 'United States', 'entityUrn': 'urn:li:fs_position:(ACoAABtNTYgB2BudSg4W2VcB0qGmYWOrzdQ2NG0,1003746372)', 'geoLocationName': 'United States', 'geoUrn': 'urn:li:fs_geo:103644278', 'companyName': 'University of California San Diego', 'timePeriod': {'endDate': {'month': 4, 'year': 2017}, 'startDate': {'month': 9, 'year': 2016}}, 'description': '♣Tutor calculus.', 'company': {'employeeCountRange': {'start': 10001}, 'industries': ['Higher Education']}, 'title': 'Teaching Assistant', 'region': 'urn:li:fs_region:(us,0)', 'companyUrn': 'urn:li:fs_miniCompany:3382', 'companyLogoUrl': 'https://media.licdn.com/dms/image/C560BAQHQYa-3EY_aaQ/company-logo_'}], 'skills': [{'name': 'python'}, {'name': 'Java'}, {'name': 'iOS Development'}, {'name': 'Android Development'}, {'name': 'Data Analysis'}, {'name': 'Software Development'}, {'name': 'Software Engineering'}, {'name': 'Product Development'}, {'name': 'Data Structures'}, {'name': 'AngularJS'}, {'name': 'JavaScript'}, {'name': 'SQL'}, {'name': 'Django'}, {'name': 'Matlab'}, {'name': 'R'}, {'name': 'C++'}, {'name': 'C'}, {'name': 'MySQL'}, {'name': 'React.js'}, {'name': 'Python'}, {'name': 'Linux'}, {'name': 'Creative Problem Solving'}, {'name': 'Deep Learning'}, {'name': 'Keras'}, {'name': 'TensorFlow'}, {'name': 'React Native'}, {'name': 'Object-Oriented Design'}, {'name': 'Analytical Thinking'}], 'education': [{'entityUrn': 'urn:li:fs_education:(ACoAABtNTYgB2BudSg4W2VcB0qGmYWOrzdQ2NG0,422791357)', 'school': {'objectUrn': 'urn:li:school:17954', 'entityUrn': 'urn:li:fs_miniSchool:17954', 'active': True, 'schoolName': 'University of California San Diego', 'trackingId': 'EpJFg5wuQGaynTEoJAGJSg==', 'logoUrl': 'https://media.licdn.com/dms/image/C560BAQHQYa-3EY_aaQ/company-logo_'}, 'timePeriod': {'endDate': {'year': 2018}, 'startDate': {'year': 2016}}, 'description': 'Focus on data science', 'fieldOfStudyUrn': 'urn:li:fs_fieldOfStudy:100784', 'degreeName': \"Master's degree\", 'schoolName': 'University of California San Diego', 'fieldOfStudy': 'Computational Science', 'degreeUrn': 'urn:li:fs_degree:500', 'schoolUrn': 'urn:li:fs_miniSchool:17954'}, {'entityUrn': 'urn:li:fs_education:(ACoAABtNTYgB2BudSg4W2VcB0qGmYWOrzdQ2NG0,309951260)', 'school': {'objectUrn': 'urn:li:school:11039', 'entityUrn': 'urn:li:fs_miniSchool:11039', 'active': True, 'schoolName': 'Beijing University of Posts and Telecommunications', 'trackingId': 'Rj9iqB3iRxa31+43L4s/9Q==', 'logoUrl': 'https://media.licdn.com/dms/image/C560BAQEN-CsxOZ3K9A/company-logo_'}, 'timePeriod': {'endDate': {'year': 2016}, 'startDate': {'year': 2012}}, 'description': 'Focus on software engineering as well as hardware design', 'fieldOfStudyUrn': 'urn:li:fs_fieldOfStudy:100189', 'degreeName': \"Bachelor's degree\", 'schoolName': 'Beijing University of Posts and Telecommunications', 'fieldOfStudy': 'Computer Science', 'degreeUrn': 'urn:li:fs_degree:200', 'schoolUrn': 'urn:li:fs_miniSchool:11039'}, {'entityUrn': 'urn:li:fs_education:(ACoAABtNTYgB2BudSg4W2VcB0qGmYWOrzdQ2NG0,422790897)', 'school': {'objectUrn': 'urn:li:school:12626', 'entityUrn': 'urn:li:fs_miniSchool:12626', 'active': True, 'schoolName': 'Queen Mary University of London', 'trackingId': '0q9pB3iDSW2b4c5OolBYTg==', 'logoUrl': 'https://media.licdn.com/dms/image/C4D0BAQF7Oxz2IfMeVg/company-logo_'}, 'timePeriod': {'endDate': {'year': 2016}, 'startDate': {'year': 2012}}, 'fieldOfStudyUrn': 'urn:li:fs_fieldOfStudy:100189', 'degreeName': \"Bachelor's degree\", 'schoolName': 'Queen Mary University of London', 'fieldOfStudy': 'Computer Science', 'degreeUrn': 'urn:li:fs_degree:200', 'schoolUrn': 'urn:li:fs_miniSchool:12626'}]}\n",
      "\n",
      "\n",
      "\n",
      "\n",
      "geoloc\n",
      "{'summary': 'BS/MS student in computer science at University of California, San Diego with a specific interest in machine learning and its applications in vision and natural language processing.', 'industryName': 'Internet', 'lastName': 'Weaver', 'locationName': 'United States', 'student': False, 'geoCountryName': 'United States', 'geoCountryUrn': 'urn:li:fs_geo:103644278', 'geoLocationBackfilled': True, 'elt': False, 'industryUrn': 'urn:li:fs_industry:6', 'firstName': 'Christopher', 'entityUrn': 'urn:li:fs_profile:ACoAACFJz2EB-Rxi0TVy3cjyn1Un-KN6gB0TJgU', 'geoLocation': {'geoUrn': 'urn:li:fs_geo:90000084'}, 'geoLocationName': 'San Francisco Bay Area', 'location': {'basicLocation': {'countryCode': 'us'}}, 'headline': 'Software Engineering Intern at Amazon', 'displayPictureUrl': 'https://media.licdn.com/dms/image/C5603AQEo3TVgGgVFyQ/profile-displayphoto-shrink_', 'profile_id': 'ACoAACFJz2EB-Rxi0TVy3cjyn1Un-KN6gB0TJgU', 'experience': [{'locationName': 'Greater San Diego Area', 'entityUrn': 'urn:li:fs_position:(ACoAACFJz2EB-Rxi0TVy3cjyn1Un-KN6gB0TJgU,1519140977)', 'geoLocationName': 'Greater San Diego Area', 'geoUrn': 'urn:li:fs_geo:100737633', 'companyName': 'Center for Microbiome Innovation at UC San Diego', 'timePeriod': {'startDate': {'month': 9, 'year': 2019}}, 'description': 'Working with Professor Chun-Nan Hsu on applying state-of-the-art deep learning/natural language processing techniques to build biological knowledge bases.', 'company': {'employeeCountRange': {'start': 51, 'end': 200}, 'industries': ['Research']}, 'title': 'Graduate Student Researcher', 'region': 'urn:li:fs_region:(us,732)', 'companyUrn': 'urn:li:fs_miniCompany:18005492', 'companyLogoUrl': 'https://media.licdn.com/dms/image/C560BAQEHC2MgeClWww/company-logo_'}, {'locationName': 'La Jolla, CA', 'entityUrn': 'urn:li:fs_position:(ACoAACFJz2EB-Rxi0TVy3cjyn1Un-KN6gB0TJgU,1509878061)', 'geoLocationName': 'La Jolla, CA', 'companyName': 'UC San Diego Computer Science and Engineering Department (CSE)', 'timePeriod': {'startDate': {'month': 9, 'year': 2019}}, 'description': 'Teaching assistant in CSE 120, Operating Systems for the Fall 2019 quarter.', 'company': {'employeeCountRange': {'start': 10001}, 'industries': ['Education Management']}, 'title': 'Teaching Assistant', 'companyUrn': 'urn:li:fs_miniCompany:19117804', 'companyLogoUrl': 'https://media.licdn.com/dms/image/C560BAQGIXO6dE1du3w/company-logo_'}, {'locationName': 'Greater Seattle Area', 'entityUrn': 'urn:li:fs_position:(ACoAACFJz2EB-Rxi0TVy3cjyn1Un-KN6gB0TJgU,1485069400)', 'geoLocationName': 'Greater Seattle Area', 'geoUrn': 'urn:li:fs_geo:90000091', 'companyName': 'Amazon', 'timePeriod': {'endDate': {'month': 9, 'year': 2019}, 'startDate': {'month': 6, 'year': 2019}}, 'description': 'Part of the Tax Platforms team.\\n- Improved invoice processing speed and accuracy by designing and building a service to perform OCR and systematic rule based key/value pair extraction.\\n- Decreased onboarding costs to the service by 65% by creating a machine learning system that enabled other teams to easily build sets of rules and add new key/value pair targets.', 'company': {'employeeCountRange': {'start': 10001}, 'industries': ['Internet']}, 'title': 'SDE Intern', 'region': 'urn:li:fs_region:(us,91)', 'companyUrn': 'urn:li:fs_miniCompany:1586', 'companyLogoUrl': 'https://media.licdn.com/dms/image/C560BAQFdwVGpSOHmgw/company-logo_'}, {'locationName': 'La Jolla, California', 'entityUrn': 'urn:li:fs_position:(ACoAACFJz2EB-Rxi0TVy3cjyn1Un-KN6gB0TJgU,1225017394)', 'geoLocationName': 'La Jolla, California', 'companyName': 'UC San Diego Computer Science and Engineering Department (CSE)', 'timePeriod': {'endDate': {'month': 6, 'year': 2019}, 'startDate': {'month': 3, 'year': 2018}}, 'description': 'Tutor for Operating Systems under Professor Geoff Voelker (Spring 2019), Data Structures/Object Oriented Programming and Software Engineering under Professor Gary Gillespie (Winter/Fall 2019), and Advanced Data Structures under Professor Hau Nguyen (Spring, 2018). Duties include helping explain concepts that students are struggling with, assisting students with programming assignments, grading, building assignments, and other administrative tasks.', 'company': {'employeeCountRange': {'start': 10001}, 'industries': ['Education Management']}, 'title': 'Tutor', 'companyUrn': 'urn:li:fs_miniCompany:19117804', 'companyLogoUrl': 'https://media.licdn.com/dms/image/C560BAQGIXO6dE1du3w/company-logo_'}, {'locationName': 'Greater Seattle Area', 'entityUrn': 'urn:li:fs_position:(ACoAACFJz2EB-Rxi0TVy3cjyn1Un-KN6gB0TJgU,1263774619)', 'geoLocationName': 'Greater Seattle Area', 'geoUrn': 'urn:li:fs_geo:90000091', 'companyName': 'Amazon', 'timePeriod': {'endDate': {'month': 9, 'year': 2018}, 'startDate': {'month': 6, 'year': 2018}}, 'description': 'Part of the Media Services team.\\n- Using JavaScript, created ten invocable actions that allow other internal applications to easily perform one line integrations with Amazon’s internal image hosting service. The action suite provides a variety of different ways (automated vs.  interactive, raw binary upload vs. URL upload, etc.) to perform downloads, uploads, and deletions. Each action takes care of user input requirements, validity checks, file format manipulations, optimizations,authentication, error handling, API return formatting, and cache busting. Currently in use in multiple internal tools to greatly simplify merchandiser workflow, saving tens of thousands of merchandiser hours.\\n- Developed an internal application that allows for navigation, browsing, search, upload, deletion, and information gathering (i.e.  image size, transaction details, etc.)  of the directory structure housing all general images available to be displayed on Amazon.com. This tool is used by over ten thousand Amazon employees to view/upload images for promotions on the retail site. ', 'company': {'employeeCountRange': {'start': 10001}, 'industries': ['Internet']}, 'title': 'SDE Intern', 'region': 'urn:li:fs_region:(us,91)', 'companyUrn': 'urn:li:fs_miniCompany:1586', 'companyLogoUrl': 'https://media.licdn.com/dms/image/C560BAQFdwVGpSOHmgw/company-logo_'}], 'skills': [{'name': 'Java'}, {'name': 'C++'}, {'name': 'Python'}, {'name': 'Object-Oriented Programming (OOP)', 'standardizedSkillUrn': 'urn:li:fs_miniSkill:1328', 'standardizedSkill': {'name': 'Object-Oriented Programming (OOP)', 'entityUrn': 'urn:li:fs_miniSkill:1328'}}, {'name': 'Agile Development'}, {'name': 'C'}, {'name': 'SQL'}, {'name': 'JavaScript'}, {'name': 'HTML'}, {'name': 'Algorithm Design', 'standardizedSkillUrn': 'urn:li:fs_miniSkill:6001', 'standardizedSkill': {'name': 'Algorithm Design', 'entityUrn': 'urn:li:fs_miniSkill:6001'}}], 'education': [{'entityUrn': 'urn:li:fs_education:(ACoAACFJz2EB-Rxi0TVy3cjyn1Un-KN6gB0TJgU,591715518)', 'school': {'objectUrn': 'urn:li:school:17954', 'entityUrn': 'urn:li:fs_miniSchool:17954', 'active': True, 'schoolName': 'University of California San Diego', 'trackingId': 'ciUcKrnhQDKM5kAAgpBsQw==', 'logoUrl': 'https://media.licdn.com/dms/image/C560BAQHQYa-3EY_aaQ/company-logo_'}, 'timePeriod': {'endDate': {'year': 2020}, 'startDate': {'year': 2019}}, 'description': 'Thesis track with a concentration on Artificial Intelligence.', 'degreeName': \"Master's degree\", 'schoolName': 'University of California San Diego', 'fieldOfStudy': 'Computer Science', 'schoolUrn': 'urn:li:fs_miniSchool:17954'}, {'entityUrn': 'urn:li:fs_education:(ACoAACFJz2EB-Rxi0TVy3cjyn1Un-KN6gB0TJgU,471375356)', 'school': {'objectUrn': 'urn:li:school:17954', 'entityUrn': 'urn:li:fs_miniSchool:17954', 'active': True, 'schoolName': 'University of California San Diego', 'trackingId': 'U4tf1IuaSua4oBdkTnUNmw==', 'logoUrl': 'https://media.licdn.com/dms/image/C560BAQHQYa-3EY_aaQ/company-logo_'}, 'grade': '3.95 - Summa Cum Laude', 'timePeriod': {'endDate': {'year': 2019}, 'startDate': {'year': 2015}}, 'fieldOfStudyUrn': 'urn:li:fs_fieldOfStudy:100189', 'degreeName': \"Bachelor's degree\", 'schoolName': 'University of California San Diego', 'fieldOfStudy': 'Computer Science', 'degreeUrn': 'urn:li:fs_degree:200', 'schoolUrn': 'urn:li:fs_miniSchool:17954'}]}\n",
      "\n",
      "\n",
      "\n",
      "\n",
      "defaultdict(<class 'int'>, {'Wish': 1, 'Autodesk': 1, 'Moebius Solutions, Inc.': 3, 'University of California, Los Angeles': 1, 'Amazon': 87, 'Eureka By SAP S/4HANA': 1, 'YouTube': 1, 'Microsoft': 21, 'CliniComp, Intl.': 1, 'ICPC Lab of Zhejiang University City Colleage': 1, 'Zocdoc': 1, 'SAP': 1, 'University of California San Diego': 54, 'UCSD': 4, 'Facebook': 26, 'PlayStation': 1, 'Tencent': 8, 'Expedia Group': 2, 'Alibaba Group': 2, 'Google': 41, 'Yelp': 2, 'iTradeNetwork, Inc.': 1, 'Skyoo LLC': 1, '北京思图场景数据科技服务有限公司': 1, 'Amazon Web Services': 7, 'Hulu': 3, 'Underworld Productions': 1, 'Teradata': 8, '谷歌': 4, 'YAMAHA MUSIC': 1, 'Salesforce': 10, 'Intuit': 4, 'UC San Diego Academic Jobs': 1, 'Tucodec': 1, 'AppFolio, Inc.': 4, 'University of Wollongong': 1, 'Amazon Web Services (AWS)': 18, 'Bloomberg LP': 2, 'SAS': 1, 'Pony.ai': 4, 'Sansay': 1, 'Strong Technology': 1, 'American Express': 3, 'TuSimple': 19, 'CardConnect': 1, 'Qualcomm Institute - UCSD Division of Calit2': 4, 'Northrop Grumman': 1, 'University of California, San Diego - Jacobs School of Engineering': 29, 'Wuhan Gas & Heat Planning and Design Institute Co., Ltd': 1, 'Capital One': 1, 'Seismic': 1, 'Symantec': 1, 'Triton Software Engineering': 2, 'Pocket Gems': 1, 'Fortune Wealth Center': 1, 'UCSD Department of Computer Science and Engineering': 1, 'SenseTime 商汤科技': 1, 'Intel Corporation': 6, 'VeriCrypt': 1, 'Walmart Labs': 1, 'Computer Vision Lab': 1, 'Lytx, Inc.': 7, 'Morpheus Biolabs': 1, 'OPPO': 2, 'Med Data Quest': 1, 'DiDi': 2, 'YH Art Education': 1, 'System Energy Efficiency Lab - CSE Department - UC San Diego': 1, 'Whova': 5, 'Intel Software': 1, '清华大学': 2, 'UCSD Chinese Computer Community': 2, 'China Merchants Securities Co., Ltd.': 1, 'Apple': 5, 'ServiceNow': 14, 'Beijing Siemens Cerberus Electronics Ltd.': 1, 'Quantum Design': 1, 'Box': 1, 'Center for Applied Internet Data Analysis (CAIDA)': 2, 'National Taiwan University': 1, 'Momenta.ai': 1, 'UCSD CSE Department': 4, 'Kneron': 6, 'LiveRamp': 1, '美国加州大学圣地亚哥分校': 2, 'IBM': 3, 'Qualcomm': 10, 'Statistical Visual Computing Lab': 1, 'Amazon Lab126': 2, 'Verizon Wireless': 1, 'UCSD ARCLab': 1, 'Uber': 7, 'BAEBot': 1, '2Go Products LLC': 1, 'Yimian Data': 1, 'ForYoung Sports': 1, 'WeRide.ai': 1, 'The Good Face Project': 1, 'Zillow': 1, 'L3Harris Technologies': 1, 'DataHinge': 2, 'Aijia Home Furnishing Products Co., Ltd.': 1, 'LinkedIn': 5, 'AiLink Co.': 1, 'Swapsy': 1, 'Women in Computing at UCSD': 1, 'Single Particle': 1, 'Nullmax': 1, 'Xiaomi USA': 1, 'Deep Force': 1, 'Computer Science and Engineering at UC San Diego': 1, 'Synopsys Inc': 2, 'Cisco': 2, 'GoDaddy': 1, 'China Electronics Technology Group Corporation': 1, 'Segway Robotics': 1, 'Ai Master': 1, 'Visa': 1, 'Bentley Systems': 2, 'SES Networks': 1, 'San Diego Supercomputer Center': 3, 'ASML': 1, 'NiceChapter (lintcode.com & jiuzhang.com)': 1, 'Housecall Pro': 3, 'Salk Institute for Biological Studies': 1, 'University of Liverpool': 1, 'Memjet Technology': 1, 'NeuroLeap Corp': 1, '字节跳动': 1, 'Centauri': 1, 'Twitch': 1, 'SMIC': 1, '亚马逊': 2, 'Computational & Cognitive Neuroscience Lab, CogSci, UCSD': 1, 'Snap Inc.': 3, 'Horizon Robotics': 1, 'Vibely': 1, 'Perfect World Entertainment': 1, 'Deloitte': 1, 'Dassault Systèmes': 1, 'General Atomics Aeronautical Systems': 2, 'Pure Storage': 7, 'Beijing Tongtech Co,. Ltd.': 1, 'VMware': 8, 'Dhc Software Co., Ltd': 1, '腾讯': 2, '美国加州大学圣迭戈分校': 1, 'pSemi, A Murata Company': 1, 'Achieve Internet': 1, 'University of California, San Diego - School of Medicine': 2, 'Accenture': 1, 'Midea Group (Fortune Global 500 Company)': 1, 'Forkaia': 2, 'American Specialty Health': 1, 'Opendoor': 1, 'Dropbox': 2, 'Harvesthru': 1, 'Informatica': 1, 'SenseTime Group Limited': 1, 'UC San Diego Computer Science and Engineering Department (CSE)': 1, 'GrantPA': 1, 'Intelligent Software Engineering Laboratory': 1, 'China General Chamber of Commerce - USA': 1, '亚马逊网': 1, '力扣（LeetCode）': 1, 'Tsinghua Tongfang': 1, 'Private Tutoring Work': 1, 'BaySand Inc.': 1, 'TuSimple LLC': 1, 'The Goodface Project': 1, 'Bioprober Corporation': 1, 'Arista Networks': 2, 'Tezign 特赞': 1, 'Certona': 1, 'Smart Wheelchair at UCSD': 1, 'Webroot': 1, 'MediaTek': 2, 'BD': 1, 'China Life Asset Management Company': 1, 'National Chiao Tung University': 1, '英特尔': 1, 'Pensando Systems': 1, 'BiAffect': 3, 'Bagelcode': 1, 'Pure Technologies': 1, 'Experian DataLabs': 1, 'L3 Interstate Electronics Corporation': 1, '中国银行': 1, 'Yahoo': 2, '衍盛中国': 1, \"Macy's Technology\": 1, 'LaunchIt': 3, 'General Atomics': 1, 'Audible, Inc.': 1, 'Workday': 4, 'Havas Edge': 1, 'University of Cincinnati': 1, 'Center for Microbiome Innovation at UC San Diego': 2, 'Univeristy of  Delaware': 1, 'Aqrose': 1, 'Information Technique Dept. Bank of China': 1, 'Ometa Labs': 1, 'MobilityWare': 1, 'paq LLC': 1, 'TripAdvisor': 1, 'MEGVII旷视': 1, 'Self-employed': 1, 'Snowflake': 1, 'Shutterfly, Inc.': 1, 'Tusimple': 1, 'UCSD Machine Learning, Perception, and Cognition Lab': 1, '依图科技': 1, 'JD.COM': 2, 'Chinese Engineering Society ': 1, '南京大学': 1, 'Piper Networks': 1, 'Beijing MinSi Science and Technology LTd': 1, 'Dexcom ': 1, 'Mentor Graphics': 1, 'Fujian Newland Software Engineering Co., Ltd.': 1, 'HP': 2, 'CSBio': 1, 'Tandem Diabetes Care': 1, 'Bloom Energy': 1, 'Changjiang Securities Co., Ltd': 1, 'Industrial Technology Research Institute (ITRI)(工業技術研究院, 工研院)': 1, 'Oriza Fofs': 1, 'Soochow University': 1, 'University of Massachusetts Medical School': 1, 'PushAuto': 1, 'Product Space': 2, 'Lumnus Consulting': 1, 'Seeking Alpha': 1, 'San Diego Unified School District': 1, 'Varfaj Partners': 1, 'PetDesk': 1, 'eBATTERY': 1, 'Huawei': 1, 'UC San Diego Health': 1, 'Brain Corp': 2, 'Shift Technologies, Inc.': 1, '中国银河证券': 1, 'SAP SuccessFactors': 1, '阿里巴巴': 2, 'UCSD Computer Science and Engineering Department': 1, 'JT Asset Management': 1, 'Versa Inc.': 1, 'Shanghai Hengqi Education Training Co Ltd': 1, 'Singapore University of Technology and Design (SUTD)': 1, 'Ezoic': 1, 'Kwai Inc.': 1, 'QueUp': 1, 'Oracle': 2, 'Verily Life Sciences': 1, 'Verizon Media': 1, 'Beijing Thunisoft Corporation Limited': 1, 'AL International Education Center': 1, 'ByteDance Inc.': 1, 'Sohu.Com Inc.': 1, 'Shanghai LinkSure Network Technology Co., Ltd.（WiFi Master Key）': 1, 'Dexcom': 1, 'Don Cleveland Lab': 1, 'Laserfiche': 2, 'Asian Infrastructure Investment Bank': 1, 'Lucid Fusion': 1, 'Boston Consulting Group (BCG)': 1, 'Muslim Women in Tech': 1, 'Anhui USTC iFLYTEK Co': 1, 'Texas Instruments': 1, 'Electrical and Computer Engineering Department, UC San Diego': 1, 'Huawei, Hisilicon': 1, 'GAC R&D Center Silicon Valley': 1, 'AWM Smart Shelf': 1, 'Essential': 1, 'CITIC Securities Company Limited': 1, 'Ad-Juster, Inc.': 1, 'Nanome Inc.': 3, 'TRITON FUNDS LLC': 1, 'Oath': 1, '美國加州大學聖地牙哥分校': 1, 'InMotion USA': 1, 'University of California, Berkeley': 1, 'group project': 1, 'Hookit | Sponsorship Analytics & Valuation': 1, 'UCSD Design Lab': 2, 'UCSD Advanced Robotics and Controls Lab': 1, 'China Everbright Technology': 1, 'MadCap Software, Inc.': 1, 'Triton Engineering Student Council (TESC)': 1, 'Databricks': 1, 'UCLA Henry Samueli School of Engineering and Applied Science': 1, 'Stanford University': 1, 'Altum': 1, 'BioDuro': 1, 'Tsinghua University': 1, 'Tsunami XR': 1, 'UC San Diego CSE Department': 1, 'Nokia Bell Labs': 1, 'StepStone Group': 1, 'State Key Lab of CAD & CG, Zhejiang Unviersity': 1, 'Stockwell ': 1, 'Google Summer of Code': 1, 'Institute of Computing Technology, Chinese Academy of Sciences': 1, 'ResMed': 2, 'Jingoal Inc': 1, 'San Diego Labsandmore': 1, 'University of California, San Diego': 1, 'Halıcıoğlu Data Science Institute, UC San Diego': 2, '日月光集團': 1, 'University of Illinois at Urbana-Champaign': 2, 'GraphPad': 1, 'snapIoT': 1, 'Huatai Security Ltd.': 1, 'Airbnb': 1, 'Agora.io': 1, 'Princeton University': 1, 'MyCase': 1, 'Scripps Institution of Oceanography': 1, 'VectorZero': 1, 'HJX (shenzhen) Investment Co., Ltd.': 1, 'Veeva Systems': 1, 'UC San Diego Extension': 1, 'Raken': 1, 'Schneider Electric': 1, 'Zhao Yunde‘s lab': 1, 'Juvo': 1, 'Professor Curt Schurgers': 1, 'UC San Diego Thurgood Marshall College Student Council': 1, 'InGenius Inc.': 1, 'Marcus & Millichap': 1, 'Advanced Webhosting': 1, 'MongoDB': 1, 'State Grid Corporation of China': 1, 'UC San Diego Natural Language Processing Lab': 1, 'LUFAX Co., Ltd, Associate Of China Ping An Group': 1, 'Aspire Team': 1, 'ThoughtSTEM': 1, 'Three Wire Systems': 1, 'Cymer': 1, 'FICO®': 1, 'Fresh Brewed Tech': 1, 'Foodla AB': 1, 'Goldman Sachs': 1, 'Hikvision': 1, 'Illumina': 1, 'Alhambra Unified School District': 1, 'BitUniverse': 1, 'Indeed.com': 1, 'Shepherd Ventures': 2, 'Wuhan Magicision Intelligent Technology co., Ltd': 1, 'University of Colorado Boulder': 1, '京东': 1, 'Cognomotiv': 1, 'ByteDance': 1, 'CR Medicon': 1, 'San Diego Super Computer Ctr': 1, 'mlPC Lab, Department of Cognitive Science, UCSD': 1, 'Overleaf (Writelatex Limited)': 1, 'Instagram': 1, 'Daasity': 1, 'University of Southampton': 1, 'Ignidus Technology, Inc.': 1, 'PlayStation Network': 1, 'Simon Fraser University': 1, 'MAIVEN.AI (Neocortex Ventures)': 1, 'Zhejiang Guozi Robotics Co., Ltd': 1, 'Kitu Systems, Inc.': 1, 'Locbit': 1, 'Sojern': 1, 'NewDo Venture': 1})\n",
      "defaultdict(<class 'int'>, {('San Diego County', ' California'): 725, ('Sunnyvale', ' California'): 5, ('San Francisco', ' California'): 5, ('Seattle', ' Washington'): 17, ('Redmond', ' Washington'): 1, ('Palo Alto', ' California'): 4, ('DuPage County', ' Illinois'): 1, ('Mountain View', ' California'): 6, ('San Jose', ' California'): 1, ('Chula Vista', ' California'): 1, ('Pittsburgh', ' Pennsylvania'): 4, ('Los Angeles', ' California'): 3, ('Morgan Hill', ' California'): 1, ('Bellevue', ' Washington'): 2, ('Castro Valley', ' California'): 1, ('Richardson', ' Texas'): 1, ('Irvine', ' California'): 1, ('Cupertino', ' California'): 1, ('El Cajon', ' California'): 2, ('Trabuco Canyon', ' California'): 1, ('New York', ' New York'): 2, ('Santa Clara', ' California'): 1, ('Orange County', ' California'): 3, ('Corona', ' California'): 1, ('Carlsbad', ' California'): 1, ('Stanford', ' California'): 1, ('Milpitas', ' California'): 1, ('Princeton', ' New Jersey'): 1, ('Walnut', ' California'): 1, ('Berlin', ' Berlin'): 1, ('Encinitas', ' California'): 1, ('Minneapolis', ' Minnesota'): 1, ('Fremont', ' California'): 1, ('La Puente', ' California'): 1})\n",
      "defaultdict(<class 'int'>, {'Computer Software': 608, 'Internet': 108, 'Higher Education': 17, 'Management Consulting': 3, 'Information Technology & Services': 31, 'Financial Services': 12, 'Marketing & Advertising': 2, 'Semiconductors': 3, 'Investment Management': 1, 'Consumer Electronics': 1, 'Computer Hardware': 5, 'Research': 13, 'Investment Banking/Venture': 1, 'Computer Networking': 7, 'Electrical & Electronic Manufacturing': 8, 'Computer & Network Security': 3, 'Venture Capital': 5, 'Wireless': 2, 'Biotechnology': 5, 'Chemicals': 1, 'Banking': 1, 'Program Development': 2, 'Pharmaceuticals': 1, 'Medical Device': 1, 'Computer Games': 1, 'Online Publishing': 1, 'Mechanical or Industrial Engineering': 2, 'Education Management': 1, 'Telecommunications': 1})\n",
      "defaultdict(<class 'int'>, {'c/c++': 1021, 'python (programming language)': 191, 'artificial intelligence (ai)': 27, 'deep learning': 81, 'mongodb': 85, 'airflow': 1, 'r': 101, 'python': 562, 'java': 656, 'javascript': 383, 'software development': 158, 'data analysis': 173, 'bash': 32, 'latex': 91, 'html5': 47, 'css': 146, 'jquery': 65, 'go': 20, 'arm assembly': 24, 'sql': 304, 'databases': 41, 'html': 306, 'javaserver pages (jsp)': 6, 'object oriented design': 21, 'parallel programming': 3, 'software engineering': 18, 'angularjs': 38, 'eclipse': 36, 'sony vegas': 2, 'webstorm': 1, 'matlab': 320, 'cascading style sheets (css)': 97, 'agile methodologies': 36, 'machine learning': 252, 'django': 48, 'linux': 259, 'bootstrap': 55, 'pytorch': 55, 'tensorflow': 82, 'scala': 21, 'apache spark': 43, 'computer security': 3, 'information security': 2, 'distributed systems': 30, 'network security': 1, 'android development': 56, 'penetration testing': 1, 'web development': 96, 'web applications': 16, 'game development': 6, 'artificial intelligence': 19, 'operating systems': 28, 'mysql': 178, 'hadoop': 46, 'json': 19, 'representational state transfer (rest)': 5, 'node.js': 134, 'kali linux': 1, 'restful architecture': 1, 'information security engineering': 1, 'bitcoin': 1, 'socket programming': 3, 'software engineering practices': 1, 'blockchains': 1, 'golang': 8, 'computer architecture': 13, 'computer hardware': 6, 'computer networking': 6, 'algorithms': 131, 'computer science': 68, 'computer programming': 1, 'c#': 95, 'research': 153, 'keras': 31, 'artificial neural networks': 7, 'large-scale data analysis': 1, 'react.js': 113, 'c (programming language)': 69, 'front-end development': 18, 'image processing': 23, 'network': 1, '软件开发': 5, 'design': 4, 'relational databases': 4, 'programming languages': 6, 'distributed applications': 6, 'data structures': 96, 'leadership': 146, 'computer vision': 70, 'ibm db2': 1, 'labview': 9, 'perl': 11, 'vhdl': 15, 'verilog': 45, 'arduino': 23, 'git': 185, 'ruby': 23, 'cadence virtuoso': 5, 'modelsim': 3, 'altera quartus': 4, 'php': 53, 'laravel': 2, 'vim': 32, 'i3': 1, 'redis': 16, 'back-end web development': 17, 'logo design': 1, 'user interface design': 12, 'graphic design': 6, 'web design': 11, 'photoshop': 21, 'illustrator': 2, 'unity3d': 18, 'redux.js': 21, 'amazon aurora': 2, 'user experience (ux)': 7, 'programming': 118, 'microcontrollers': 4, 'big data': 24, 'powerpoint': 41, 'microsoft word': 114, 'microsoft office': 238, 'microsoft excel': 159, '.net framework': 11, 'android': 39, 'amazon web services (aws)': 70, 'xgboost': 4, 'database management system (dbms)': 2, 'microprocessors': 1, 'numpy': 20, 'data science': 44, 'guice': 4, 'scikit-learn': 20, 'data': 3, 'public s': 1, 'haskell': 22, 'ocaml': 32, 'prolog': 14, 'coq': 1, 'compilers': 5, 'functional programming': 2, 'object-oriented programming (oop)': 44, 'public speaking': 99, 'theory of computation': 1, 'communication': 27, 'teamwork': 80, 'postgresql': 34, 'android studio': 35, 'raml': 1, 'rest api': 6, 'intellij idea': 10, 'microsoft powerpoint': 78, 'social media': 31, '算法': 5, '程序设计': 3, '写作': 1, 'xml': 27, 'aws': 8, '软件设计': 1, 'software design patterns': 6, 'shell scripting': 31, 'swift': 38, 'objective-c': 12, 'spring framework': 32, 'spring mvc': 21, 'struts': 2, 'hibernate': 14, 'openssl': 1, 'wireshark': 1, 'iptables': 1, 'zmap': 1, 'project management': 58, 'community outreach': 3, 'unix': 62, 'software engineers': 5, 'statistical data analysis': 13, 'critical thinking': 7, 'easily adaptable': 3, 'self-directed learning': 2, '机器学习': 4, '数据分析': 5, '研究': 4, 'assembly language': 35, 'javaserver pages standard tag library (jstl)': 1, 'data mining': 46, 'algorithm development': 3, 'academic writing': 2, 'scrum': 14, 'product design': 2, 'wireframing': 3, 'market research': 7, 'data entry': 2, 'editing': 5, 'social media marketing': 5, 'creative writing': 2, 'windows': 27, 'facebook': 2, 'youtube': 1, 'fundraising': 4, 'logical thinker': 1, 'social networking': 4, 'learning quickly': 1, 'pyspark': 8, 'dsp': 2, 'system design': 1, '网页程式设计': 1, 'docker': 45, 'algorithm': 6, 'data network': 1, 'restful 架构': 1, 'kotlin': 6, 'audio signal processing': 1, 'psychoacoustics': 1, 'digital signal processing': 4, 'angular': 16, 'spring boot': 23, 'flask': 22, 'express.js': 27, 'tomcat': 7, 'jenkins': 11, 'github': 23, 'continuous integration': 7, 'restful webservices': 20, 'test driven development': 2, '.net': 4, 'swift (programming language)': 9, 'mockito': 8, 'junit': 16, 'a/b testing': 7, 'multithreading': 1, 'queueing': 1, 'messaging': 1, 'teaching': 24, 'team leadership': 25, 'sparc assembly': 4, 'firebase': 29, 'econometrics': 5, 'computer graphics': 5, 'spark': 26, 'llvm': 6, 'agile application development': 5, 'selenium': 6, 'ruby on rails': 19, 'sas': 7, 'drinking boba': 1, 'agile': 8, 'english': 34, 'pascal': 3, 'opencv': 41, 'debugging': 9, 'student outreach': 1, 'quality assurance': 2, 'financial accounting': 3, 'meteor': 2, 'apache cordova': 1, 'natural language processing (nlp)': 15, 'video codec': 1, 'customer service': 53, '4g/lte': 1, 'hevc/h.265': 1, 'unix/linux': 3, 'visual studio': 20, 'internet protocol suite (tcp/ip)': 4, 'ios development': 22, 'blockchain': 2, 'ethereum': 1, 'open street maps': 1, 'react': 21, 'celery': 1, 'redux': 9, 'heroku': 5, 'd3': 1, 'jira': 12, 'webpack': 2, 'gunicore': 1, 'nginx': 6, 'json web token (jwt)': 2, 'hip hop': 1, 'java ': 3, 'caffe': 14, 'data analytics': 10, 'full-stack development': 12, 'nosql': 12, 'google cloud platform': 1, 'vue.js': 10, 'three.js': 3, 'pandas': 7, 'nodejs': 3, 'product management': 9, 'characterization': 1, 'materials science': 1, 'physics': 3, 'solidworks': 16, 'originlab': 5, 'x-ray diffraction analysis': 2, 'scanning electron microscope': 1, 'fluorescence spectrometer': 1, 'opengl': 18, 'sparc': 11, 'natural language processing': 16, 'html scripting': 2, 'server side programming': 2, 'user interface programming': 1, 'cloud computing': 14, 'microsoft sql server': 12, 'bluespec': 2, 'augular': 1, 'outlook': 5, 'photography': 5, 'nonprofits': 3, 'event planning': 18, 'public relations': 1, 'asp.net mvc framework': 2, 'unit testing': 10, 'system integration testing': 1, 'full stack': 1, 'testng': 1, 'dagger': 2, 'jackson': 1, 'maven': 7, 'thymeleaf': 1, 'mathematics': 21, 'tutoring': 10, 'calculus': 3, 'vector calculus': 1, 'linear algebra': 9, 'scratch': 1, 'r 语言': 3, 'node': 5, 'digital image processing': 2, 'operations research': 1, 'accounting': 1, 'business strategy': 5, 'finance': 5, 'spss': 6, 'management': 43, 'problem solving': 16, 'written communication': 3, 'business analysis': 5, 'presentations': 4, 'sales': 3, 'workday': 1, 'analytical skills': 9, 'operations management': 2, 'stata': 17, 'customer relationship management (crm)': 3, 'python3': 1, 'posix': 1, 'unity (游戏引擎)': 2, 'markdown': 2, 'elasticsearch': 10, 'mxnet': 3, 'pyqt': 3, 'visual basic': 3, 'jupyter notebook': 2, 'r studio': 1, 'mapreduce': 13, 'lua': 2, 'network programming': 1, 'multithreaded development': 1, 'microservices': 9, 'kubernetes': 14, 'jaeger': 1, 'fpga': 6, 'automation': 2, 'control systems design': 1, 'statistical modeling': 13, 'numerical analysis': 5, 'simulations': 4, 'mandarin': 5, 'ni labview': 2, 'autonomous vehicles': 4, 'point clouds': 1, 'internet information services (iis)': 1, 'powershell': 2, 'spanish': 2, 'chinese': 15, 'nsis': 1, 'msbuild': 1, 'violin': 1, 'nuget': 1, 'convolutional neural networks (cnn)': 4, 'testing': 11, 'japanese': 5, 'hive': 12, 'splunk': 3, 'pipeline development': 1, 'molecular biology': 6, 'biotechnology': 2, 'cell biology': 2, 'statistics': 33, 'data processing': 2, 'ngs': 1, 'rnaseq': 2, 'pipeline construction': 1, 'bioinformatics': 6, 'visual basic for applications (vba)': 6, 'retail': 1, 'recommender systems': 20, 'tableau': 36, 'google analytics': 6, 'customer analysis': 4, 'microsoft azure machine learning': 1, 'r shiny': 2, 'data visualization': 24, 'retail sales analysis': 1, 'predictive analytics': 5, 'kpi dashboards': 2, 'vba': 1, 'web scraping': 7, 'script': 1, 'quantitative analytics': 5, 'quantitative research': 2, 'marketing strategy': 4, 'python 3': 1, 'neural networks': 14, 'optimization theory': 1, 'html5 & css3': 1, 'jdbc': 3, 'javafx': 2, 'servlet': 1, 'tomcat 8': 1, 'cuda': 11, 'theano': 5, 'shell': 5, 'altas': 1, 'blas': 1, 'mpi': 3, 'marketing': 13, 'human resources': 1, 'recruiting': 3, 'business development': 3, 'software design': 10, 'writing': 5, 'coaching': 1, 'text-to-speech': 1, 'speech recognition': 2, 'linkedin': 4, 'pycharm': 2, 'clion': 1, 'google api': 1, 'android 开发': 1, 'lightgbm': 1, 'feature engineering': 4, 'long short-term memory (lstm)': 1, 'pruning': 1, 'linux/unix': 2, 'operating system': 2, 'jsp': 8, 'ajax': 22, 'electronics': 4, 'electrical engineering': 7, 'mybatis': 7, 'extract, transform, load (etl)': 3, 'database design': 1, 'netbeans': 3, 'soapui': 1, 'swagger': 1, 'visual studio code': 1, 'ant design': 2, 'hystrix': 1, 'back-end development': 2, 'assistant teaching': 1, 'mocha chai': 1, 'parallel computing': 5, 'pandas (software)': 9, 'pyramid': 1, 'stddraw': 1, 'sqlite': 12, 'xcode': 11, 'sql express': 1, 'apple numbers': 1, 'bioinfomatics': 1, 'biostatistics': 2, 'neuroscience': 1, 'immunology': 1, 'epidemiology': 1, 'graph mining': 1, 'computational biology': 2, 'unity': 19, 'virtual reality (vr)': 2, 'collaborative problem solving': 4, 'computer network': 1, 'javascript(es6+)': 1, 'html/css': 5, 'typescript': 10, 'self learning': 2, 'amazon s3': 6, 'aws lambda': 7, 'amazon sqs': 4, 'amazon simple notification service (sns)': 1, 'rabbitmq': 3, 'aws cloudformation': 3, 'amazon cloudwatch': 1, 'amazon api gateway': 1, 'web services': 6, 'data a': 1, 'web': 2, 'machi': 1, 'solution architecture': 1, 'applica': 1, 'human resources (hr)': 1, 'strategic planning': 16, 'project planning': 5, 'organization skills': 2, 'mikecrm': 1, 'bloomberg terminal': 2, 'microsoft access': 3, 'biochemistry': 4, 'spectroscopy': 1, 'organic synthesis': 1, 'nuclear magnetic resonance (nmr)': 1, 'uv/vis spectroscopy': 1, 'organic chemistry': 2, 'analytical chemistry': 2, 'catalysis': 1, 'chemdraw': 1, 'gc-ms': 1, 'esi-ms': 1, 'x-ray crystallography': 1, 'inorganic chemistry': 1, 'medicinal chemistry': 1, 'physical chemistry': 1, 'organometallic chemistry': 1, 'ir spectroscopy': 1, 'column chromatography': 1, 'scientific presentation': 1, 'thin-layer chromatography (tlc)': 1, 'adobe photoshop': 29, 'digital photography': 3, 'non-governmental organizations (ngos)': 1, 'lightroom': 2, 'adobe premiere pro': 5, 'lisp': 1, 'android testing': 1, 'android sdk': 4, 'android design': 1, 'agile & waterfall methodologies': 6, 'nlu': 1, 'integration testing': 1, 'scripting': 2, 'algorithm design': 14, 'telecommunications': 1, 'mathematica': 4, 'mathematical modeling': 6, 'ui design': 1, 'wordpress': 5, 'opengl shading language (glsl)': 3, 'backend engineering': 1, 'mobile application development': 6, 'database systems': 2, 'marketing materials': 1, 'team building': 6, 'react native': 20, 'flutter': 3, 'arm architecture': 7, 'basic': 1, 'jsx': 1, 'csharp': 1, 'express': 5, 'qt': 12, 'wxwidgets': 2, 'macroeconomics': 4, 'java database connectivity (jdbc)': 4, 'microeconomics': 3, 'atom': 2, 'game theory': 3, 'data access object (dao)': 1, 'code review': 1, 'drupal': 1, 'apache kafka': 8, 'machine learning algorithms': 3, 'adobe audition': 1, 'perforce 软件': 1, 'spring security': 4, 'xamarin': 1, 'tcl': 5, 'digital electronics': 1, 'analog circuits': 3, 'autocad': 5, 'mips assembly': 5, 'web framework': 1, 'bluetooth': 1, 'backbone.js': 3, 'perl script': 1, 'arm': 6, 'embedded software': 4, 'budgets': 1, 'negotiation': 2, 'beans': 1, 'pcr': 2, 'yaml': 1, 'matplotlib': 5, 'click': 1, 'ionic framework': 2, 'openstack': 3, 'red hat linux': 1, 'computer-aided design (cad)': 3, 'robotics': 10, 'electric motors': 1, 'manufacturing': 1, 'finite element analysis (fea)': 2, 'technical support': 2, 'database': 3, 'asp.net': 5, 'x86 assembly': 6, 'information technology': 6, 'api development': 3, 'bayesian inference': 2, 'start-ups': 2, 'neo4j': 6, 'analytics': 7, 'probability': 4, 'raspberry pi': 7, 'embedded systems': 10, 'java, c++, python, javascript, go': 1, 'pandas numpy and skilearn': 1, 'd3.js': 12, 'full web development stack(php, html, css, js, xml, xquery)': 1, 'financial analysis': 10, 'valuation': 1, 'excel vba': 3, 'presentation skills': 5, 'information processing': 1, 'quantative analysis': 1, 'quantitative models': 1, 'written expression': 1, 'sklearn': 3, 'web crawling': 5, 'cfa level iii candidate': 1, 'flume': 1, 'pipeline': 1, 'service': 1, 'selenium webdriver': 2, 'compiler': 2, 'aws ': 1, 'j2ee web services': 1, 'virtual reality': 5, 'axure rp': 4, 'user experience design': 1, 'human computer interaction': 3, 'indesign': 1, 'model united nations': 1, 'computer literacy': 1, 'scipy': 6, 'spices': 1, 'multisim': 2, 'quartus': 1, 'vcs': 1, 'astro': 1, 'dc': 1, 'primetime': 1, 'ads': 1, 'verilog-a': 1, 'asic': 2, 'aws command line interface (cli)': 1, 'applied machine learning': 1, 'jest': 3, 'product presentation': 1, 'software engineer': 1, 'javascript libraries': 1, 'micro': 1, 'software testing': 5, 'python 3.5': 1, 'rust (programming language)': 1, 'business analytics': 7, 'internal control': 1, 'radiant': 2, 'qgis': 1, 'team coordination': 1, 'software security': 1, 'debugging code': 1, 'rust': 2, 'server administration': 1, '计算机视觉': 2, 'reinforcement learning': 10, 'image recognition': 1, 'microcontroller': 1, 'analog signal processing': 1, 'openai': 2, 'image inpainting': 1, 'deep neural network': 1, 'support vector machine (svm)': 3, 'deep q learning': 1, 'ddpg': 1, 'policy gradient': 1, 'slam': 6, 'onnx': 1, 'image signal processing': 1, 'halide': 1, 'chinese translation': 1, 'engineering': 6, ' algorithms ': 1, 'keil': 1, 'ni multisim 软件': 1, 'altium designer': 3, 'modelsim 软件': 1, 'vivado': 1, 'sublime text': 3, 'full stack web development': 1, 'front-end design': 2, 'mean stack': 4, 'xilinx ise': 2, 'orcad': 1, '社交媒体': 1, '活动策划': 2, '项目管理': 2, '团队合作': 1, 'software project management': 1, 'apache': 4, 'team management': 4, 'software industry': 1, 'datatables': 1, 'valgrind': 4, 'salesforce.com': 1, 'aws s3': 1, 'steamvr': 1, 'oculus': 1, 'java swing': 1, 'knockoutjs': 1, 'google fit api': 1, 'firebase cloud firestore': 1, 'expresso': 1, 'robolectric': 1, 'zenhub': 1, 'gitlab': 1, 'circleci': 1, 'object mocking': 1, 'ui automation': 2, 'dependency injection': 1, 'design by contract': 1, 'jpa': 3, 'cypher query language': 1, 'printed circuit board (pcb) design': 1, 'autocad mechanical': 1, 'mechanical product design': 1, 'adobe illustrator': 5, 'oo software development': 1, 'algorithm analysis': 4, 'gdb': 4, 'graphql': 6, 'after effects': 1, 'animation': 1, 'selenium 测试': 1, '亚马逊网络服务系统 (aws)': 3, 'spring': 3, 'rdmbs': 1, 'rally': 1, 'html/css/js': 1, 'electron': 1, 'algorithm optimization': 1, 'systemverilog': 8, 'kaggle': 1, 'jupyter': 4, 'laboratory skills': 2, 'troubleshooting': 5, 'os x': 4, 'mac os': 2, 'qbasic': 1, 'vpython': 1, 'ssh': 1, 'logic design': 1, 'core java': 3, 'oop': 3, 'scalability': 3, 'genetic algorithms': 2, 'openmp': 3, 'creative problem solving': 3, 'team motivation': 1, 'priority management': 1, 'business innovation': 1, 'resource efficiency': 1, 'test automation': 4, 'ios': 5, 'text mining': 2, 'key performance indicators': 1, 'data modeling': 4, 'statistical modelling': 1, 'probabilistic models': 1, 'qlikview development': 1, 'data quality': 1, 'probabilistic modelling': 1, 'diango': 1, 'interaction design': 1, 'rapid prototyping': 2, 'websocket': 1, 'ux research': 2, 'fortran': 1, 'data cleaning': 4, 'cpp': 1, 'falsk': 1, 'scrapy': 2, 'applied mathematics': 2, 'multi-tasking': 1, 'self-study': 1, 'time management': 9, 'maple': 1, 'external audit': 1, 'sass': 1, '后端开发': 1, '统计数据分析': 1, 'probability theory': 1, 'software documentation': 2, 'technical documentation': 2, 'terraform': 1, 'amazon dynamodb': 6, 'infrastructure as code': 1, 'web application development': 2, 'google app engine': 3, 'aws codepipeline': 1, 'aws codebuild': 1, 'software architectural design': 1, 'social network analysis': 2, 'affective computing': 1, 'signal processing': 12, 'bayesian methods': 1, 'security': 2, 'passion': 1, 'philosophy & literature': 1, 'psychology analysis': 1, 'ros': 5, 'stm32': 2, 'data management': 2, 'back-end operations': 1, 'mobile product development': 1, 'coding experience': 2, 'web standards': 1, 'cef': 1, 'soft renderer': 1, 'task driven': 1, 'microsoft azure': 7, 'google cloud platform (gcp)': 8, 'strtuts': 1, 'codesys': 1, 'code composer studio': 1, 'circuit design': 3, 'speech': 1, 'freescale': 1, 'distributed system': 1, '分布式系统': 2, '电气工程': 2, '现场可编程逻辑门阵列': 1, 'powerbuilder': 1, 'gnu debugger': 1, 'play framework': 3, 'rubymine': 2, 'sqlalchemy': 2, 'computer systems': 1, 'agile software development': 1, 'cassandra': 4, 'raft': 1, 'hdfs': 2, 'training': 4, 'mobile applications': 5, 'design patterns': 5, 'easymock': 1, 'amazon ec2': 6, 'amazon ses': 1, 'bluespec verilog': 1, 'risc-v': 1, 'lambda expressions': 1, 'oracle sql developer': 4, 'computing theory': 1, 'vi': 1, 'gnu make': 1, 'arm 架构': 1, 'secure shell': 1, 'gnu/linux': 2, 'slam (simultaneous localization and mapping)': 1, 'arduino ide': 2, 'robot operating system (ros)': 3, 'creo parametric': 2, 'my batis': 1, 'rpc': 1, 'microsoft visual studio c++': 3, 'blender': 2, 'figma (software)': 1, 'sketch': 1, 'system testing': 2, 'front-end engineering': 2, 'agile web development': 2, 'less': 2, 'exploratory data analysis': 2, 'amazon ebs': 1, 'software': 3, '计算机科学': 1, 'competitive programming': 1, 'nesc': 1, 'visual analytics': 1, 'vlsi': 2, 'semiconductors': 1, 'eda': 3, 'strategic partnerships': 1, 'mergers': 1, 'product development': 5, 'executive management': 1, 'soc': 1, 'hardware': 2, 'sales management': 1, 'new business development': 1, 'international development': 1, 'mixed signal': 1, 'go-to-market strategy': 2, 'mergers & acquisitions': 1, 'consumer electronics': 2, 'ic': 1, 'analog': 1, 'digital signal processors': 1, 'integrated circuit design': 1, 'semiconductor industry': 1, 'lvs': 1, 'hardware architecture': 1, 'timing closure': 1, 'physical design': 1, 'cmos': 1, 'clock tree synthesis': 1, 'application-specific integrated circuits (asic)': 2, 'system on a chip (soc)': 1, 'integrated circuits (ic)': 1, 'field-programmable gate arrays (fpga)': 5, 'very-large-scale integration (vlsi)': 1, 'tex': 1, 'ibatis': 1, 'influxdb': 1, 'digital system': 1, 'networking': 10, 'python developing': 1, 'transmission control protocol (tcp)': 1, 'hypothesis testing': 3, 'internet protocol (ip)': 1, 'user experience': 5, 'gnu system building and management': 1, 'dom': 1, 'cli': 1, 'software solution architecture': 1, 'couchdb': 1, 'spirng mvn': 1, 'yarn': 1, 'ipsolve': 1, 'singing': 1, 'basketball': 1, 'guitar playing': 1, 'piano playing': 3, 'hip-hop dance': 1, 'version control': 3, 'polymorphism': 1, 'c language': 1, 'ms office suite': 1, 'monte carlo simulation': 1, '人工智能': 1, '数据挖掘': 1, '数据科学': 1, 'kubeflow': 1, 'sofrware engineering': 1, 'sentiment analysis': 3, 'microsoft project': 3, 'pantaho': 1, 'financial services': 1, 'confidentiality': 1, 'reporting & analysis': 1, 'pivot tables': 3, 'analog circuit design': 5, 'sockets': 1, 'continuous integration and continuous delivery (ci/cd)': 3, 'aws identity and access management (aws iam)': 1, 'amazon vpc': 1, 'amazon redshift': 2, 'docker products': 4, 'bootstrap 4': 1, 'css3': 2, 'javascript (es6)': 1, 'solr': 2, 'asterixdb': 2, 'nltk': 2, 'corenlp': 1, 'spacy': 1, 'asp.net core': 2, '.net core': 3, 'dart': 2, 'multithread programming ': 1, 'public key cryptography': 1, 'digital certificates': 1, 'financial markets': 1, 'linear regression': 1, 'gazebo': 1, 'libgdx': 1, 'ml': 1, 'al': 2, 'microstrategy': 1, 'polymerase chain reaction (pcr)': 1, 'lammps': 1, 'vasp': 1, 'molecular dynamics': 1, 'data engineering': 3, 'optimization': 7, 'c #': 1, 'apache hadoop': 3, 'spring cloud': 3, '自然语言处理': 1, 'cadence': 5, 'eat': 1, 'circuit': 2, 'embedded javascript (ejs)': 2, 'routing': 1, 'slack': 1, 'quantitative finance': 1, 'object detection': 4, 'financial engineering': 1, 'waterfall project management': 1, 'parse': 1, 'member of ieee': 1, 'tinyxml-2': 1, 'jquery mobile': 1, 'microsoft visual studio': 3, 'make': 2, 'qt designer': 1, 'keyboardist': 1, 'music': 1, 'gulp.js': 2, 'spring batch': 1, 'spring data': 2, 'firmware': 1, 'core data': 1, 'unreal engine 4': 1, 'data scraping': 2, 'application security': 1, 'etl tools': 2, 'economics': 3, 'time series analysis': 3, 'secure shell (ssh)': 1, 'apache zookeeper': 1, 'jmeter': 1, 'postman api': 2, 'swagger api': 1, ' jest': 1, 'npm': 3, 'elastic stack (elk)': 3, 'alibaba cloud': 2, 'eureka': 1, 'zuul api gateway': 1, '3d reconstruction': 1, 'openresty': 1, 'phantomjs': 1, 'scheme': 1, 'assembly': 1, 'pymongo': 1, 'web scrawler': 1, 'chinese&english': 1, 'diversity': 1, 'investigation': 2, 'reliability': 2, 'e-commerce': 2, 'python statistical libraries ': 1, 'wix': 1, 'design sprints': 1, 'storyboarding': 1, 'strategic roadmaps': 1, 'c++/c': 1, 'adobe lightroom': 2, 'french': 3, 'hospitality industry': 1, 'logistics management': 1, 'yoga': 1, 'pcl': 1, 'sensor fusion': 1, 'keynote': 1, 'apple pages': 1, 'adobe indesign': 1, 'hbase': 4, 'mokito': 1, 'metabolomics': 1, 'microbiome': 1, 'mass spectrometry': 1, 'music production': 1, 'logic pro': 1, 'final cut pro': 1, 'visualization': 2, 'musical directing': 1, 'etl': 4, 'modelling': 1, 'hadoop hive': 1, 'data analyze': 1, 'statistical analysis': 1, 'machine learning&deep learning': 1, 'mysq': 2, 'video post-production': 1, 'manifold learning': 1, 'software implementation': 1, 'apache pig': 1, 'oauth': 1, 'jboss application server': 1, 'javamail': 1, 'quartz': 1, 'idle': 1, 'software development life cycle (sdlc)': 3, 'process improvement': 2, 'biology': 1, 'business intelligence tools': 1, 'intelligence analysis': 1, 'interpersonal skills': 1, 'pentaho': 1, 'paper prototyping': 1, 'user interface prototyping': 1, 'ml algorithm building and optimization(gbm, neural network)': 1, 'data representation': 2, 'information extraction': 1, 'protocol buffers': 1, 'arm cortex-m': 2, 'mobile robotics': 1, 'gpu programming': 1, 'feature selection': 1, 'pattern recognition': 3, 'igor pro': 1, 'yii': 1, 'espresso': 1, 'pspice': 4, 'electromagnetics': 1, 'big data analytics': 2, 'xaml': 1, 'neuro-linguistic programming (nlp)': 2, 'path planning': 1, 'statistical learning': 1, 'posture estimation': 1, 'commercial products': 1, 'product analysis': 2, 'data manipulation': 3, 'web dev': 1, 'numpy/pandas': 1, 'internet of things': 2, 'power system/smart grid': 1, 'vlsi cad/hls': 1, 'oracle database': 3, 'pl/sql': 1, 'strategy': 3, 'digital marketing': 2, 'market analysis': 1, 'business process improvement': 1, 'powerbi': 1, 'interpreting data': 1, 'ｓｑｌ': 1, 'analytic problem solving': 1, 'marketing campaigns': 1, 'data preparation': 1, 'databricks': 1, 'management information systems (mis)': 1, 'marketing analytics': 1, 'cyber-security': 2, 'entrepreneurship': 5, 'social entrepreneurship': 1, 'software development tools': 1, 'microsoft visual studio code': 1, 'scipi': 1, 'apache zeppelin': 1, 'hadoop ecosystem': 1, 'log analysis': 1, 'spc': 1, 'chemical engineering': 1, 'process engineering': 1, 'arduino 平台': 1, 'cell culturing': 1, 'biomedical research': 1, 'nanobioelectronics fabrication (screen printing)': 1, 'aspen plus 软件': 1, 'comsol 软件': 1, 'jmp 软件': 1, 'bloomberg': 1, 'design thinking': 1, 'isa': 1, 'unsupervised learning': 2, 'supervised learning': 2, 'recurrent neural networks (rnn)': 1, 'cell phone repair': 1, 'inkscape': 3, 'eagle pcb': 3, 'app development': 1, '機器學習': 1, '軟體開發': 1, 'forth': 1, 'academic tutoring': 2, \"rubik's cube\": 2, 'marathon': 1, 'product demonstration': 1, 'cloud applications': 1, 'r programming': 1, 'financial modeling': 2, 'socket.io': 1, 'semantic ui': 3, 'json-rpc': 1, 'sql server': 1, 'j2ee application development': 1, 'multi-threaded development': 1, 'mason': 1, 'rest': 1, 'subversion': 3, 'digital circuit design': 2, 'vivado design suite': 1, 'orcad capture cis': 1, 'eaglecad': 1, 'http': 3, 'mvc': 2, 'grpc': 2, 'cookies': 1, 'web hosting': 1, 'go (programming language)': 5, 'openshift': 1, 'moq': 1, 'nunit': 1, 'information retrieval': 4, 'bootstrapjs': 1, 'webgl': 2, 'asp.net mvc': 3, 'linq': 1, 'white box testing': 1, 'webrtc': 1, 'jazz music': 1, 'competetive math': 1, 'technical analysis': 1, 'risk management': 2, 'derivatives': 2, 'alternative investments': 1, 'bonds': 1, 'trading': 1, 'econ 171': 1, 'mocha': 2, 'protractor': 2, 'htt': 1, 'https': 1, 'search engines': 2, 'quantum mechanics': 2, 'program management': 3, 'technical program management': 1, 'cross-functional team leadership': 1, 'product strategy': 1, 'adaptive leadership': 1, 'cross-functional collaborations': 1, 'cross-functional communication': 1, 'sourcetree': 1, 'product roadmap': 1, 'product vision': 1, 'product requirement definition': 1, 'user acceptance testing': 1, 'adobe after effects': 2, 'metadata': 1, 'parsing': 1, 'technical recruiting': 1, 'full-life cycle recruiting': 1, 'phone screening': 1, 'resume writing': 1, 'relationship building': 1, 'business relationship building': 1, 'interpersonal relationships': 1, 'interviewing': 1, 'interview preparation': 1, 'telephone interviewing': 1, 'mock interviews': 1, 'linkedin recruiter': 1, 'boolean searching': 1, 'job fairs': 1, 'job description development': 1, 'screening': 1, 'it recruitment': 1, 'talent management': 1, 'sourcing': 1, 'strategic sourcing': 1, 'executive search': 1, 'nanotechnology': 1, 'julia ': 1, 'compiler optimization': 1, 'linux shell': 1, 'arcgis pro': 1, 'geographic information systems (gis)': 1, 'arcgis': 1, 'bahasa indonesia': 1, 'ubuntu': 3, '领导力': 2, '团队建设': 1, 'cmocka': 1, 'microscopy': 1, 'molecular cloning': 1, 'cell culture': 1, 'fluorescence microscopy': 1, 'confocal microscopy': 1, 'protein purification': 1, 'protein expression': 1, 'western blotting': 1, 'gimp': 1, 'graphpad prism': 1, 'imagej': 1, 'flowjo': 1, 'animal behavior': 1, 'drosophila': 1, 'genetic engineering': 1, 'consolidation': 1, 'flow cytometry': 1, 'cell sorting': 1, 'lentivirus': 1, 'facs': 1, 'deep neural networks (dnn)': 1, 'rstudio': 1, 'tcp/ip': 2, 'agile method': 1, 'javacript': 1, 'hindi': 1, 'operating s': 1, 'aws sagemaker': 1, 'korean': 1, 'apis': 1, 'artifactory': 2, 'computational complexity': 1, 'education': 1, 'music performance': 1, 'data collection': 1, 'high performance computing (hpc)': 1, 'mentoring': 2, 'account management': 1, 'multimedia': 1, 'educational technology': 1, 'cluster analysis': 1, 'feedback control systems': 1, 'digital circuit': 1, 'machine vision': 3, 'gradle': 2, 'autohotkey': 1, 'client server technologies': 1, 'wireless communications systems': 1, 'satellite communications (satcom)': 1, 'terahertz communications': 1, 'personalized search': 1, 'computational advertising': 1, 'hplc': 1, 'adobe creative suite': 1, 'java web': 1, 'dockor': 1, 'reporting and documantation': 1, 'trilingual- mandarin, english and japanese': 1, 'matlab & stata': 1, 'inventory coordination': 1, 'revenue forecasting': 1, 'investment consulting': 1, 'liaison and coordination': 1, 'nlp': 1, '网页制作html，css，javascri': 1, 'sts': 1, 'centos': 2, 'excel': 4, 'product engineering': 1, 'soldering': 6, 'particle filters': 1, 'biomedical engineering': 1, 'microfluidics': 1, 'bioprinting': 1, 'windows software development': 1, 'life sciences': 1, 'science': 1, 'multivariate statistics ': 1, 'vue': 2, 'html/css/javascript': 1, 'c+': 1, 'project team management': 2, 'circuit analysis': 4, 'afm': 1, 'filmetrics': 1, 'chemical mechanical polishing': 1, 'rtl coding': 1, 'rtl design': 1, 'proficient in logic pro x, adobe premiere pro; familiar with java and c++': 1, 'distribued systems': 1, 'business intelligence': 2, 'predictive modeling': 2, 'piano performance': 1, 'ureal engine 4': 1, 'database administration': 2, 'team problem solving': 1, 'system administration': 2, 'network administration': 3, 'hive sql': 1, 'mechanical engineering': 1, 'computing': 1, 'mems': 1, 'l-edit': 1, 'biophotonics': 1, 'comsol': 3, 'vive': 1, 'graphics': 1, 'data retrieval': 1, 'gaming': 1, 'c++ language': 1, 'solid-state drive (ssd)': 1, 'process automation': 2, 'systems programming': 2, 'combinatorics': 1, 'discrete mathematics': 2, 'differential equations': 1, 'qa': 1, 'python ': 1, 'linux ': 1, 'unix ': 1, 'volunteer management': 1, 'circuits': 1, 'containerization': 1, 'computational modeling': 1, 'numerical simulation': 1, 'cantonese': 1, 'group work': 2, 'debate': 2, 'translation': 1, 'robotc': 1, '核心 java': 1, 'java 小程序': 1, 'text analytics': 1, 'academic research': 1, 'gradient boosting': 1, 'evolutionary algorithms': 1, 'fast rcnn': 1, 'keyword trend revelation': 1, 'user intention understanding': 1, 'knowledge discovery': 1, 'user research': 1, 'lamp': 1, 'phpmyadmin': 1, 'cmake': 1, 'mariadb': 2, 'owncloud': 1, 'ceph': 1, 'glusterfs': 1, 'gerrit': 1, 'octave': 2, 'deluge': 1, 'flexget': 1, 'vsftpd': 1, 'samba': 1, 'emby': 1, 'crystal reports': 1, 'selenium testing': 1, 'scss': 1, 'kibana': 1, 'cisco networking': 1, 'microsoft servers': 1, 'virtualization': 2, 'cybersecurity': 1, 'it infrastructure management': 1, 'linux server': 1, 'numerical optimization': 1, 'continuous delivery': 1, 'web analytics': 2, 'chemistry': 2, 'community service': 1, 'generic programming': 1, 'game programming': 1, 'game design': 3, 'modding': 1, 'bayesian statistics': 1, 'tensor flow': 1, 'optimizations': 1, 'genetics': 1, 'bowtie': 1, 'cufflinks': 1, 'homer': 1, 'cytoscape': 1, 'sequence alignment': 1, 'technological innovation': 1, 'multivariable calculus': 1, 'laboratory': 1, 'video production': 1, 'phylogenetics': 1, 'instructional design': 1, 'sequence analysis': 1, 'r ': 1, 'julia (programming language)': 1, 'jmp': 2, 'regression analysis': 2, 'vex robotics structure and programming': 1, 'corel videostudio pro multilingual': 1, 'openmpi': 1, 'mkl-dnn': 1, 'anaconda': 1, 'seaborn': 2, 'snowboarding': 1, 'computer engineering': 1, 'original research': 1, 'javascript extension (jsx)': 1, 'open source software': 1, 'backend': 1, 'angular material': 1, 'apache tomcat': 2, 'asynctask': 1, 'devops': 1, 'database development': 1, 'auditing': 1, 'budget control': 1, 'reporting': 1, '计算机图形': 1, '游戏编程': 1, '虚拟实境': 1, '培训': 1, '管理人员': 1, '顾客服务': 1, '公开演讲': 1, '教学': 1, 'sagemath': 1, 'xhr': 1, 'pdo': 1, 'user experience design (ued)': 1, 'dota2 professional player': 1, 'metadata management': 1, 'computer repair': 2, 'wireless networking': 1, 'software installation': 1, 'rxjava': 2, 'cognitive science': 1, 'japanese culture': 1, 'augmented reality': 1, 'peer tutoring': 2, 'servicenow': 1, 'failure analysis': 1, 'lumerical fdtd': 1, 'ultrafast spectroscopy': 1, 'design of experiments (doe)': 1, 'django/python': 1, 'virtual machine': 1, 'sdlc': 1, 'virtual environment': 1, 'cat herding': 1, 'story writing': 1, 'story telling': 1, 'pan handling': 1, 'six sigma': 1, 'customer support': 1, 'travel': 1, 'technical writing': 1, 'report writing': 1, 'proposal writing': 1, 'adobe xd': 1, 'collaborative filtering': 1, 'restorative': 1, 'qt creator': 1, 'ruby ': 1, 'es6': 1, 'american sign language': 1, 'bilingual communications': 1, 'openqa': 1, 'localization': 1, 'gameplay': 1, 'shiro': 1, 'get things done': 1, 'fast learner': 1, 'concurrent program reliability': 1, 'big data analysis': 1, 'code analysis': 1, 'analysis': 1, 'mobile devices': 1, 'rspec': 1, 'edge computing': 1, 'actionscript': 1, 'teamcity': 1, 'amazon rds': 1, 'aws gateway': 1, 'c++ ': 1, 'algorithmic trading': 1, 'real estate': 1, 'eviews': 1, 'aesthetics': 1, 'music composition': 1, 'piano': 1, 'search engine optimization (seo)': 2, 'cinematography': 1, 'erhu': 1, 'data visualisation': 1, 'amazon elastic mapreduce (emr)': 1, 'amazon elastic beanstalk': 1, 'kafka': 1, 'ar.js': 1, 'serverless computing': 1, 'pig': 1, 'android mobile development': 1, 'programming (java, c++, python)': 1, 'jade': 1, 'qa engineering': 1, 'performance testing': 1, 'agile project management': 2, 'trello': 1, 'mongoose': 1, 'jqu': 1, 'lecturing': 1, 'xilinx': 1, 'vmware': 1, 'autodesk inventor': 2, 'mathematical analysis': 1, 'mathematical physics': 1, 'sql ': 1, 'fintech': 1, 'astrophysics': 1, 'relational data modeling': 1, 'ancient philosophy': 1, 'adobe creative suite (photoshop, illustrator, sketch3)': 1, 'understanding of customer relationship management (crm) systems': 1, 'international relations': 1, 'international business': 1, 'direct mail': 1, 'azure': 1, 'panda3d': 1, 'phpstorm': 1, 'qemu': 1, 'system software': 1, 'azure service bus': 1, 'sql azure': 1, 'confluence': 1, 'insomnia': 1, 'dagger (software)': 1, 'python/pycharm': 1, 'autodesk fusion 360': 1, 'system modeling': 1, 'arduino c': 1, 'black belt in taekwondo': 1, 'affinity designer': 1, 'mac': 1, 'ansible': 2, 'spice': 1, 'synopsys tools': 1, 'synopsys primetime': 1, 'javasc': 1, 'elixir': 1, 'toefl': 1, 'ap calculus': 1, 'algebra': 1, 'sap hana': 1, 'litho': 1, 'technical leadership': 1, 'ext js': 1, 'container': 1, 'windows nano server': 1, 'ami': 2, 'matlab, simulink, python, c++11, javascript': 1, 'classic/modern control theory': 1, 'motion planning, slam, ros': 1, 'sensors': 1, 'mechanical design': 1, '3d printing': 1, 'computational fluid dynamics (cfd)': 1, 'simulink': 3, 'solidworks (autocad)': 1, 'mechatronics': 1, 'rethinkdb': 1, 'scala 语言': 1, 'bootstrapping': 1, 'cocos2d': 1, 'writer': 1, 'polymers': 1, 'medical imaging': 1, 'human anatomy': 1, 'data structure': 1, 'data visulization': 1, 'sprint': 1, 'cryptography': 1, 'network systems': 1, 'verification and validation (v&v)': 1, 'fpga prototyping': 1, 'video games': 1, 'game testing': 1, 'construct 2': 1, 'aws(ec2, emr)': 1, 'sql server express': 1, 'apsys (advanced physical models of semiconductor devices)': 1, 'silvaco': 1, 'electron beam lithography': 1, 'e-beam evaporation': 1, 'plasma etch': 1, 'photolithography': 1, 'plasma-enhanced chemical vapor deposition (pecvd)': 1, 'ellipsometry': 1, 'technology consulting': 1, 'financial statements': 1, 'portfolio management': 1, 'business planning': 1, 'pure mathematics': 1, 'windows azure pack': 1, 'web d': 1, 'lucene': 2, 'relevance': 1, 's&p capital iq': 1, 'military': 1, 'navy': 1, 'systems engineering': 2, 'organizational leadership': 1, 'convex optimization': 1, 'multilayer perceptron': 1, 'hadoop/spark': 1, 'probabilistic graphical models': 1, 'clinical data management': 1, 'tableau 智能软件': 2, 'administration': 1, 'kanban': 1, 'suse linux enterprise server (sles)': 1, 'stacki': 1, 'c programming': 1, 'jsf': 1, 'vdhl': 1, 'infrastructure': 1, 'gruntjs': 1, 'dreamweaver': 1, 'mamp': 1, 'random forest': 1, 'logistic regression': 1, '经济学': 1, 'terminal emulation': 1, 'zend framework': 1, 'consulting': 1, 'sap businessobjects': 1, 'object-oriented design': 1, 'analytical thinking': 1, 'cucumber': 1, 'adb/flashtool': 1, 'basic circuits': 1, 'multimeter': 1, 'oscilloscope': 1, 'function generator': 1, 'fourier analysis': 1, 'akka': 1, 'elementui': 1, 'travis ci': 1, 'sbt': 1, 'svrkit': 1, 'clinical trials': 1, 'survival analysis': 1, 'model-view-controller (mvc)': 1, 'gensim': 1, 'beautiful soup': 1, 'java programming ': 1, 'cobol': 1, 'visual fox pro': 1, 'qualitative research': 1, 'elementary education': 1, 'research and development (r&d)': 1, 'cad': 1, 'demand forecasting': 1, 'agile development': 1})\n"
     ]
    }
   ],
   "source": [
    "import json\n",
    "from collections import defaultdict\n",
    "\n",
    "companies = defaultdict(int)\n",
    "location = defaultdict(int)\n",
    "skills = defaultdict(int)\n",
    "industry = defaultdict(int)\n",
    "\n",
    "with open('143dataall.json','r') as f:\n",
    "    allpeople = f.readlines()\n",
    "    \n",
    "    for person in allpeople:\n",
    "        info = json.loads(person)\n",
    "        if info:\n",
    "\n",
    "#         print(info[\"lastName\"], info[\"firstName\"])\n",
    "            try:\n",
    "                industry[info['industryName']] += 1\n",
    "            except:\n",
    "                print(\"industry\")\n",
    "                print(info)\n",
    "                print()\n",
    "                print()\n",
    "                print()\n",
    "                print()\n",
    "\n",
    "            if info['experience']:\n",
    "                companies[info['experience'][0]['companyName']] += 1\n",
    "\n",
    "            try:\n",
    "                curPlace = info['geoLocationName']\n",
    "                city, state = curPlace.split(',')\n",
    "                found = None #indicator of whether location has found in certain format\n",
    "                for savedCity, savedState in location:\n",
    "                    if city in savedCity:\n",
    "                        found = True\n",
    "                        location[(savedCity, savedState)] += 1\n",
    "\n",
    "                if not found:\n",
    "                    location[(city,state)] += 1\n",
    "            except:\n",
    "                print('geoloc')\n",
    "                print(info)\n",
    "                print()\n",
    "                print()\n",
    "                print()\n",
    "                print()\n",
    "\n",
    "            try:\n",
    "                if info['skills']:\n",
    "                    for skill in info['skills']:\n",
    "                        if skill['name'].lower() == 'c' or skill['name'].lower() == 'c++' or skill['name'].lower() == 'c/c++' :\n",
    "                            skills['c/c++'] += 1\n",
    "                        else:\n",
    "                            skills[skill['name'].lower()] += 1\n",
    "            except:\n",
    "                print('skill')\n",
    "                print(info)\n",
    "                print()\n",
    "                print()\n",
    "                print()\n",
    "                print()\n",
    "print(companies)\n",
    "print(location)\n",
    "print(industry)\n",
    "print(skills)\n",
    "        \n",
    "            "
   ]
  },
  {
   "cell_type": "code",
   "execution_count": 2,
   "metadata": {},
   "outputs": [],
   "source": [
    "assert info"
   ]
  },
  {
   "cell_type": "code",
   "execution_count": null,
   "metadata": {},
   "outputs": [],
   "source": []
  },
  {
   "cell_type": "markdown",
   "metadata": {},
   "source": [
    "## 2. Data Visualization"
   ]
  },
  {
   "cell_type": "markdown",
   "metadata": {},
   "source": [
    "### a. Necessary methods and constant"
   ]
  },
  {
   "cell_type": "code",
   "execution_count": 9,
   "metadata": {},
   "outputs": [],
   "source": [
    "import json\n",
    "from collections import defaultdict\n",
    "import plotly\n",
    "# import plotly.plotly as py\n",
    "import plotly.offline as of\n",
    "import plotly.graph_objs as go\n",
    "import math\n",
    "import addfips\n",
    "\n",
    "# seperate the dict to be two lists\n",
    "def seperateData(data):\n",
    "    dictionary = dict(data)\n",
    "    keys = dictionary.keys()\n",
    "    values = dictionary.values()\n",
    "    return list(keys), list(values)\n",
    "\n",
    "# Set the top most skills we want to display\n",
    "def getHighest(key, values, num):\n",
    "    newKey = key[:num]\n",
    "    newValue = values[:num]\n",
    "    if num < len(key):\n",
    "        newKey.append(\"Others\")\n",
    "        newValue.append(sum(values[num:]))\n",
    "    return newKey, newValue\n",
    "\n",
    "# Sort the key and values\n",
    "def getSorted(key, values):\n",
    "    tmpDict = dict(zip(key, values))\n",
    "    tmpDict_inv = {str(v):k for k, v in tmpDict.items()}\n",
    "    print(tmpDict_inv)\n",
    "    tmp = values[:]\n",
    "    tmp.sort(reverse=True)\n",
    "    return [tmpDict_inv[str(i)] for i in tmp], tmp\n",
    "\n",
    "# seperate the data for location information\n",
    "def seperate_Loc_Data(data):\n",
    "    dictionary = dict(data)\n",
    "    keys = dictionary.keys()\n",
    "    tmp = list(keys)\n",
    "    values = dictionary.values()\n",
    "    res = []\n",
    "    for elem in keys:\n",
    "        state = elem[1].strip()\n",
    "        if state in us_state_abbrev:\n",
    "            res.append(us_state_abbrev[state])\n",
    "    return res, list(values)\n",
    "\n",
    "def seperate_City_Data(data):\n",
    "    dictionary = dict(data)\n",
    "    keys = dictionary.keys()\n",
    "    tmp = list(keys)\n",
    "    values = dictionary.values()\n",
    "    res = []\n",
    "    for elem in keys:\n",
    "        state = elem[1].strip()\n",
    "        city = elem[0].strip()\n",
    "        if state in us_state_abbrev:\n",
    "            res.append(city)\n",
    "    return res, list(values)\n",
    "\n",
    "# count statistics data for loc and values\n",
    "def coordinate_Loc_Val(loc, values):\n",
    "    res = dict()\n",
    "    for i in range(len(loc)):\n",
    "        if loc[i] not in res: res[loc[i]] = values[i]\n",
    "        else: res[loc[i]] += values[i]\n",
    "    return list(res.keys()), [math.log(i+1) for i in list(res.values())]\n",
    "\n",
    "def coordinate_City_Val(loc, city, values):\n",
    "    res = dict()\n",
    "    for i in range(len(loc)):\n",
    "        if (loc[i],city[i]) not in res: res[(loc[i],city[i])] = values[i]\n",
    "        else: res[(loc[i],city[i])] += values[i]\n",
    "    return list(res.keys()), list(res.values())\n",
    "\n",
    "def getFIPS_General(city_tuple, values): # not used as the addfips lib can not recognize some cities\n",
    "    res = []\n",
    "    af = addfips.AddFIPS()\n",
    "    for i in range(len (values)):\n",
    "        res.append(af.get_county_fips(city_tuple[i][1], state=city_tuple[0]))\n",
    "    res, values = getSorted(res, values)\n",
    "    return res\n",
    "\n",
    "\n",
    "def getFIPS(city_tuple, values):\n",
    "    res = []\n",
    "    for i in range(len(values)):\n",
    "        if city_tuple[i][1] == 'San Diego County':\n",
    "            res.append('06073')\n",
    "        elif city_tuple[i][1] == 'Sunnyvale':\n",
    "            res.append('06085')\n",
    "        elif city_tuple[i][1] == 'San Francisco':\n",
    "            res.append('06075')\n",
    "        elif city_tuple[i][1] == 'Seattle':\n",
    "            res.append('63000')\n",
    "        elif city_tuple[i][1] == 'Redmond':\n",
    "            res.append('57535')\n",
    "        elif city_tuple[i][1] == 'Palo Alto':\n",
    "            res.append('06086') # should be the same with sunnyvale\n",
    "        elif city_tuple[i][1] == 'DuPage County':\n",
    "            res.append('17043')\n",
    "        elif city_tuple[i][1] == 'Mountain View':\n",
    "            res.append('06087') # should be the same with sunnyvale\n",
    "    res, values = getSorted(res, values)\n",
    "    return res\n",
    "\n",
    "us_state_abbrev = {\n",
    "    'Alabama': 'AL',\n",
    "    'Alaska': 'AK',\n",
    "    'Arizona': 'AZ',\n",
    "    'Arkansas': 'AR',\n",
    "    'California': 'CA',\n",
    "    'Colorado': 'CO',\n",
    "    'Connecticut': 'CT',\n",
    "    'Delaware': 'DE',\n",
    "    'District of Columbia': 'DC',\n",
    "    'Florida': 'FL',\n",
    "    'Georgia': 'GA',\n",
    "    'Hawaii': 'HI',\n",
    "    'Idaho': 'ID',\n",
    "    'Illinois': 'IL',\n",
    "    'Indiana': 'IN',\n",
    "    'Iowa': 'IA',\n",
    "    'Kansas': 'KS',\n",
    "    'Kentucky': 'KY',\n",
    "    'Louisiana': 'LA',\n",
    "    'Maine': 'ME',\n",
    "    'Maryland': 'MD',\n",
    "    'Massachusetts': 'MA',\n",
    "    'Michigan': 'MI',\n",
    "    'Minnesota': 'MN',\n",
    "    'Mississippi': 'MS',\n",
    "    'Missouri': 'MO',\n",
    "    'Montana': 'MT',\n",
    "    'Nebraska': 'NE',\n",
    "    'Nevada': 'NV',\n",
    "    'New Hampshire': 'NH',\n",
    "    'New Jersey': 'NJ',\n",
    "    'New Mexico': 'NM',\n",
    "    'New York': 'NY',\n",
    "    'North Carolina': 'NC',\n",
    "    'North Dakota': 'ND',\n",
    "    'Northern Mariana Islands':'MP',\n",
    "    'Ohio': 'OH',\n",
    "    'Oklahoma': 'OK',\n",
    "    'Oregon': 'OR',\n",
    "    'Palau': 'PW',\n",
    "    'Pennsylvania': 'PA',\n",
    "    'Puerto Rico': 'PR',\n",
    "    'Rhode Island': 'RI',\n",
    "    'South Carolina': 'SC',\n",
    "    'South Dakota': 'SD',\n",
    "    'Tennessee': 'TN',\n",
    "    'Texas': 'TX',\n",
    "    'Utah': 'UT',\n",
    "    'Vermont': 'VT',\n",
    "    'Virgin Islands': 'VI',\n",
    "    'Virginia': 'VA',\n",
    "    'Washington': 'WA',\n",
    "    'West Virginia': 'WV',\n",
    "    'Wisconsin': 'WI',\n",
    "    'Wyoming': 'WY',\n",
    "}"
   ]
  },
  {
   "cell_type": "markdown",
   "metadata": {},
   "source": [
    "### a. Employees Skills --- Pie Plot"
   ]
  },
  {
   "cell_type": "code",
   "execution_count": 3,
   "metadata": {
    "scrolled": false
   },
   "outputs": [
    {
     "data": {
      "text/html": [
       "        <script type=\"text/javascript\">\n",
       "        window.PlotlyConfig = {MathJaxConfig: 'local'};\n",
       "        if (window.MathJax) {MathJax.Hub.Config({SVG: {font: \"STIX-Web\"}});}\n",
       "        if (typeof require !== 'undefined') {\n",
       "        require.undef(\"plotly\");\n",
       "        requirejs.config({\n",
       "            paths: {\n",
       "                'plotly': ['https://cdn.plot.ly/plotly-latest.min']\n",
       "            }\n",
       "        });\n",
       "        require(['plotly'], function(Plotly) {\n",
       "            window._Plotly = Plotly;\n",
       "        });\n",
       "        }\n",
       "        </script>\n",
       "        "
      ]
     },
     "metadata": {},
     "output_type": "display_data"
    },
    {
     "data": {
      "application/vnd.plotly.v1+json": {
       "config": {
        "linkText": "Export to plot.ly",
        "plotlyServerURL": "https://plot.ly",
        "showLink": false
       },
       "data": [
        {
         "hole": 0,
         "hoverinfo": "label+percent",
         "labels": [
          "c/c++",
          "python (programming language)",
          "artificial intelligence (ai)",
          "deep learning",
          "mongodb",
          "airflow",
          "r",
          "python",
          "java",
          "javascript",
          "software development",
          "data analysis",
          "bash",
          "latex",
          "html5",
          "Others"
         ],
         "type": "pie",
         "values": [
          0.07293378098435603,
          0.013643831702264447,
          0.0019287091935138224,
          0.005786127580541468,
          0.006071862275876848,
          7.143367383384528e-05,
          0.007214801057218373,
          0.04014572469462104,
          0.0468604900350025,
          0.02735909707836274,
          0.011286520465747553,
          0.012358025573255233,
          0.002285877562683049,
          0.00650046431887992,
          0.003357382670190728,
          0.7421958711336872
         ]
        }
       ],
       "layout": {
        "template": {
         "data": {
          "bar": [
           {
            "error_x": {
             "color": "#2a3f5f"
            },
            "error_y": {
             "color": "#2a3f5f"
            },
            "marker": {
             "line": {
              "color": "#E5ECF6",
              "width": 0.5
             }
            },
            "type": "bar"
           }
          ],
          "barpolar": [
           {
            "marker": {
             "line": {
              "color": "#E5ECF6",
              "width": 0.5
             }
            },
            "type": "barpolar"
           }
          ],
          "carpet": [
           {
            "aaxis": {
             "endlinecolor": "#2a3f5f",
             "gridcolor": "white",
             "linecolor": "white",
             "minorgridcolor": "white",
             "startlinecolor": "#2a3f5f"
            },
            "baxis": {
             "endlinecolor": "#2a3f5f",
             "gridcolor": "white",
             "linecolor": "white",
             "minorgridcolor": "white",
             "startlinecolor": "#2a3f5f"
            },
            "type": "carpet"
           }
          ],
          "choropleth": [
           {
            "colorbar": {
             "outlinewidth": 0,
             "ticks": ""
            },
            "type": "choropleth"
           }
          ],
          "contour": [
           {
            "colorbar": {
             "outlinewidth": 0,
             "ticks": ""
            },
            "colorscale": [
             [
              0,
              "#0d0887"
             ],
             [
              0.1111111111111111,
              "#46039f"
             ],
             [
              0.2222222222222222,
              "#7201a8"
             ],
             [
              0.3333333333333333,
              "#9c179e"
             ],
             [
              0.4444444444444444,
              "#bd3786"
             ],
             [
              0.5555555555555556,
              "#d8576b"
             ],
             [
              0.6666666666666666,
              "#ed7953"
             ],
             [
              0.7777777777777778,
              "#fb9f3a"
             ],
             [
              0.8888888888888888,
              "#fdca26"
             ],
             [
              1,
              "#f0f921"
             ]
            ],
            "type": "contour"
           }
          ],
          "contourcarpet": [
           {
            "colorbar": {
             "outlinewidth": 0,
             "ticks": ""
            },
            "type": "contourcarpet"
           }
          ],
          "heatmap": [
           {
            "colorbar": {
             "outlinewidth": 0,
             "ticks": ""
            },
            "colorscale": [
             [
              0,
              "#0d0887"
             ],
             [
              0.1111111111111111,
              "#46039f"
             ],
             [
              0.2222222222222222,
              "#7201a8"
             ],
             [
              0.3333333333333333,
              "#9c179e"
             ],
             [
              0.4444444444444444,
              "#bd3786"
             ],
             [
              0.5555555555555556,
              "#d8576b"
             ],
             [
              0.6666666666666666,
              "#ed7953"
             ],
             [
              0.7777777777777778,
              "#fb9f3a"
             ],
             [
              0.8888888888888888,
              "#fdca26"
             ],
             [
              1,
              "#f0f921"
             ]
            ],
            "type": "heatmap"
           }
          ],
          "heatmapgl": [
           {
            "colorbar": {
             "outlinewidth": 0,
             "ticks": ""
            },
            "colorscale": [
             [
              0,
              "#0d0887"
             ],
             [
              0.1111111111111111,
              "#46039f"
             ],
             [
              0.2222222222222222,
              "#7201a8"
             ],
             [
              0.3333333333333333,
              "#9c179e"
             ],
             [
              0.4444444444444444,
              "#bd3786"
             ],
             [
              0.5555555555555556,
              "#d8576b"
             ],
             [
              0.6666666666666666,
              "#ed7953"
             ],
             [
              0.7777777777777778,
              "#fb9f3a"
             ],
             [
              0.8888888888888888,
              "#fdca26"
             ],
             [
              1,
              "#f0f921"
             ]
            ],
            "type": "heatmapgl"
           }
          ],
          "histogram": [
           {
            "marker": {
             "colorbar": {
              "outlinewidth": 0,
              "ticks": ""
             }
            },
            "type": "histogram"
           }
          ],
          "histogram2d": [
           {
            "colorbar": {
             "outlinewidth": 0,
             "ticks": ""
            },
            "colorscale": [
             [
              0,
              "#0d0887"
             ],
             [
              0.1111111111111111,
              "#46039f"
             ],
             [
              0.2222222222222222,
              "#7201a8"
             ],
             [
              0.3333333333333333,
              "#9c179e"
             ],
             [
              0.4444444444444444,
              "#bd3786"
             ],
             [
              0.5555555555555556,
              "#d8576b"
             ],
             [
              0.6666666666666666,
              "#ed7953"
             ],
             [
              0.7777777777777778,
              "#fb9f3a"
             ],
             [
              0.8888888888888888,
              "#fdca26"
             ],
             [
              1,
              "#f0f921"
             ]
            ],
            "type": "histogram2d"
           }
          ],
          "histogram2dcontour": [
           {
            "colorbar": {
             "outlinewidth": 0,
             "ticks": ""
            },
            "colorscale": [
             [
              0,
              "#0d0887"
             ],
             [
              0.1111111111111111,
              "#46039f"
             ],
             [
              0.2222222222222222,
              "#7201a8"
             ],
             [
              0.3333333333333333,
              "#9c179e"
             ],
             [
              0.4444444444444444,
              "#bd3786"
             ],
             [
              0.5555555555555556,
              "#d8576b"
             ],
             [
              0.6666666666666666,
              "#ed7953"
             ],
             [
              0.7777777777777778,
              "#fb9f3a"
             ],
             [
              0.8888888888888888,
              "#fdca26"
             ],
             [
              1,
              "#f0f921"
             ]
            ],
            "type": "histogram2dcontour"
           }
          ],
          "mesh3d": [
           {
            "colorbar": {
             "outlinewidth": 0,
             "ticks": ""
            },
            "type": "mesh3d"
           }
          ],
          "parcoords": [
           {
            "line": {
             "colorbar": {
              "outlinewidth": 0,
              "ticks": ""
             }
            },
            "type": "parcoords"
           }
          ],
          "scatter": [
           {
            "marker": {
             "colorbar": {
              "outlinewidth": 0,
              "ticks": ""
             }
            },
            "type": "scatter"
           }
          ],
          "scatter3d": [
           {
            "line": {
             "colorbar": {
              "outlinewidth": 0,
              "ticks": ""
             }
            },
            "marker": {
             "colorbar": {
              "outlinewidth": 0,
              "ticks": ""
             }
            },
            "type": "scatter3d"
           }
          ],
          "scattercarpet": [
           {
            "marker": {
             "colorbar": {
              "outlinewidth": 0,
              "ticks": ""
             }
            },
            "type": "scattercarpet"
           }
          ],
          "scattergeo": [
           {
            "marker": {
             "colorbar": {
              "outlinewidth": 0,
              "ticks": ""
             }
            },
            "type": "scattergeo"
           }
          ],
          "scattergl": [
           {
            "marker": {
             "colorbar": {
              "outlinewidth": 0,
              "ticks": ""
             }
            },
            "type": "scattergl"
           }
          ],
          "scattermapbox": [
           {
            "marker": {
             "colorbar": {
              "outlinewidth": 0,
              "ticks": ""
             }
            },
            "type": "scattermapbox"
           }
          ],
          "scatterpolar": [
           {
            "marker": {
             "colorbar": {
              "outlinewidth": 0,
              "ticks": ""
             }
            },
            "type": "scatterpolar"
           }
          ],
          "scatterpolargl": [
           {
            "marker": {
             "colorbar": {
              "outlinewidth": 0,
              "ticks": ""
             }
            },
            "type": "scatterpolargl"
           }
          ],
          "scatterternary": [
           {
            "marker": {
             "colorbar": {
              "outlinewidth": 0,
              "ticks": ""
             }
            },
            "type": "scatterternary"
           }
          ],
          "surface": [
           {
            "colorbar": {
             "outlinewidth": 0,
             "ticks": ""
            },
            "colorscale": [
             [
              0,
              "#0d0887"
             ],
             [
              0.1111111111111111,
              "#46039f"
             ],
             [
              0.2222222222222222,
              "#7201a8"
             ],
             [
              0.3333333333333333,
              "#9c179e"
             ],
             [
              0.4444444444444444,
              "#bd3786"
             ],
             [
              0.5555555555555556,
              "#d8576b"
             ],
             [
              0.6666666666666666,
              "#ed7953"
             ],
             [
              0.7777777777777778,
              "#fb9f3a"
             ],
             [
              0.8888888888888888,
              "#fdca26"
             ],
             [
              1,
              "#f0f921"
             ]
            ],
            "type": "surface"
           }
          ],
          "table": [
           {
            "cells": {
             "fill": {
              "color": "#EBF0F8"
             },
             "line": {
              "color": "white"
             }
            },
            "header": {
             "fill": {
              "color": "#C8D4E3"
             },
             "line": {
              "color": "white"
             }
            },
            "type": "table"
           }
          ]
         },
         "layout": {
          "annotationdefaults": {
           "arrowcolor": "#2a3f5f",
           "arrowhead": 0,
           "arrowwidth": 1
          },
          "colorscale": {
           "diverging": [
            [
             0,
             "#8e0152"
            ],
            [
             0.1,
             "#c51b7d"
            ],
            [
             0.2,
             "#de77ae"
            ],
            [
             0.3,
             "#f1b6da"
            ],
            [
             0.4,
             "#fde0ef"
            ],
            [
             0.5,
             "#f7f7f7"
            ],
            [
             0.6,
             "#e6f5d0"
            ],
            [
             0.7,
             "#b8e186"
            ],
            [
             0.8,
             "#7fbc41"
            ],
            [
             0.9,
             "#4d9221"
            ],
            [
             1,
             "#276419"
            ]
           ],
           "sequential": [
            [
             0,
             "#0d0887"
            ],
            [
             0.1111111111111111,
             "#46039f"
            ],
            [
             0.2222222222222222,
             "#7201a8"
            ],
            [
             0.3333333333333333,
             "#9c179e"
            ],
            [
             0.4444444444444444,
             "#bd3786"
            ],
            [
             0.5555555555555556,
             "#d8576b"
            ],
            [
             0.6666666666666666,
             "#ed7953"
            ],
            [
             0.7777777777777778,
             "#fb9f3a"
            ],
            [
             0.8888888888888888,
             "#fdca26"
            ],
            [
             1,
             "#f0f921"
            ]
           ],
           "sequentialminus": [
            [
             0,
             "#0d0887"
            ],
            [
             0.1111111111111111,
             "#46039f"
            ],
            [
             0.2222222222222222,
             "#7201a8"
            ],
            [
             0.3333333333333333,
             "#9c179e"
            ],
            [
             0.4444444444444444,
             "#bd3786"
            ],
            [
             0.5555555555555556,
             "#d8576b"
            ],
            [
             0.6666666666666666,
             "#ed7953"
            ],
            [
             0.7777777777777778,
             "#fb9f3a"
            ],
            [
             0.8888888888888888,
             "#fdca26"
            ],
            [
             1,
             "#f0f921"
            ]
           ]
          },
          "colorway": [
           "#636efa",
           "#EF553B",
           "#00cc96",
           "#ab63fa",
           "#FFA15A",
           "#19d3f3",
           "#FF6692",
           "#B6E880",
           "#FF97FF",
           "#FECB52"
          ],
          "font": {
           "color": "#2a3f5f"
          },
          "geo": {
           "bgcolor": "white",
           "lakecolor": "white",
           "landcolor": "#E5ECF6",
           "showlakes": true,
           "showland": true,
           "subunitcolor": "white"
          },
          "hoverlabel": {
           "align": "left"
          },
          "hovermode": "closest",
          "mapbox": {
           "style": "light"
          },
          "paper_bgcolor": "white",
          "plot_bgcolor": "#E5ECF6",
          "polar": {
           "angularaxis": {
            "gridcolor": "white",
            "linecolor": "white",
            "ticks": ""
           },
           "bgcolor": "#E5ECF6",
           "radialaxis": {
            "gridcolor": "white",
            "linecolor": "white",
            "ticks": ""
           }
          },
          "scene": {
           "xaxis": {
            "backgroundcolor": "#E5ECF6",
            "gridcolor": "white",
            "gridwidth": 2,
            "linecolor": "white",
            "showbackground": true,
            "ticks": "",
            "zerolinecolor": "white"
           },
           "yaxis": {
            "backgroundcolor": "#E5ECF6",
            "gridcolor": "white",
            "gridwidth": 2,
            "linecolor": "white",
            "showbackground": true,
            "ticks": "",
            "zerolinecolor": "white"
           },
           "zaxis": {
            "backgroundcolor": "#E5ECF6",
            "gridcolor": "white",
            "gridwidth": 2,
            "linecolor": "white",
            "showbackground": true,
            "ticks": "",
            "zerolinecolor": "white"
           }
          },
          "shapedefaults": {
           "line": {
            "color": "#2a3f5f"
           }
          },
          "ternary": {
           "aaxis": {
            "gridcolor": "white",
            "linecolor": "white",
            "ticks": ""
           },
           "baxis": {
            "gridcolor": "white",
            "linecolor": "white",
            "ticks": ""
           },
           "bgcolor": "#E5ECF6",
           "caxis": {
            "gridcolor": "white",
            "linecolor": "white",
            "ticks": ""
           }
          },
          "title": {
           "x": 0.05
          },
          "xaxis": {
           "automargin": true,
           "gridcolor": "white",
           "linecolor": "white",
           "ticks": "",
           "zerolinecolor": "white",
           "zerolinewidth": 2
          },
          "yaxis": {
           "automargin": true,
           "gridcolor": "white",
           "linecolor": "white",
           "ticks": "",
           "zerolinecolor": "white",
           "zerolinewidth": 2
          }
         }
        },
        "title": {
         "font": {
          "color": "rgb(200, 100, 100)",
          "size": 30
         },
         "text": "Skills UCSD alumni mastered"
        }
       }
      },
      "text/html": [
       "<div>\n",
       "        \n",
       "        \n",
       "            <div id=\"214dc137-4093-4e67-9586-6996d5e7623e\" class=\"plotly-graph-div\" style=\"height:525px; width:100%;\"></div>\n",
       "            <script type=\"text/javascript\">\n",
       "                require([\"plotly\"], function(Plotly) {\n",
       "                    window.PLOTLYENV=window.PLOTLYENV || {};\n",
       "                    \n",
       "                if (document.getElementById(\"214dc137-4093-4e67-9586-6996d5e7623e\")) {\n",
       "                    Plotly.newPlot(\n",
       "                        '214dc137-4093-4e67-9586-6996d5e7623e',\n",
       "                        [{\"hole\": 0, \"hoverinfo\": \"label+percent\", \"labels\": [\"c/c++\", \"python (programming language)\", \"artificial intelligence (ai)\", \"deep learning\", \"mongodb\", \"airflow\", \"r\", \"python\", \"java\", \"javascript\", \"software development\", \"data analysis\", \"bash\", \"latex\", \"html5\", \"Others\"], \"type\": \"pie\", \"values\": [0.07293378098435603, 0.013643831702264447, 0.0019287091935138224, 0.005786127580541468, 0.006071862275876848, 7.143367383384528e-05, 0.007214801057218373, 0.04014572469462104, 0.0468604900350025, 0.02735909707836274, 0.011286520465747553, 0.012358025573255233, 0.002285877562683049, 0.00650046431887992, 0.003357382670190728, 0.7421958711336872]}],\n",
       "                        {\"template\": {\"data\": {\"bar\": [{\"error_x\": {\"color\": \"#2a3f5f\"}, \"error_y\": {\"color\": \"#2a3f5f\"}, \"marker\": {\"line\": {\"color\": \"#E5ECF6\", \"width\": 0.5}}, \"type\": \"bar\"}], \"barpolar\": [{\"marker\": {\"line\": {\"color\": \"#E5ECF6\", \"width\": 0.5}}, \"type\": \"barpolar\"}], \"carpet\": [{\"aaxis\": {\"endlinecolor\": \"#2a3f5f\", \"gridcolor\": \"white\", \"linecolor\": \"white\", \"minorgridcolor\": \"white\", \"startlinecolor\": \"#2a3f5f\"}, \"baxis\": {\"endlinecolor\": \"#2a3f5f\", \"gridcolor\": \"white\", \"linecolor\": \"white\", \"minorgridcolor\": \"white\", \"startlinecolor\": \"#2a3f5f\"}, \"type\": \"carpet\"}], \"choropleth\": [{\"colorbar\": {\"outlinewidth\": 0, \"ticks\": \"\"}, \"type\": \"choropleth\"}], \"contour\": [{\"colorbar\": {\"outlinewidth\": 0, \"ticks\": \"\"}, \"colorscale\": [[0.0, \"#0d0887\"], [0.1111111111111111, \"#46039f\"], [0.2222222222222222, \"#7201a8\"], [0.3333333333333333, \"#9c179e\"], [0.4444444444444444, \"#bd3786\"], [0.5555555555555556, \"#d8576b\"], [0.6666666666666666, \"#ed7953\"], [0.7777777777777778, \"#fb9f3a\"], [0.8888888888888888, \"#fdca26\"], [1.0, \"#f0f921\"]], \"type\": \"contour\"}], \"contourcarpet\": [{\"colorbar\": {\"outlinewidth\": 0, \"ticks\": \"\"}, \"type\": \"contourcarpet\"}], \"heatmap\": [{\"colorbar\": {\"outlinewidth\": 0, \"ticks\": \"\"}, \"colorscale\": [[0.0, \"#0d0887\"], [0.1111111111111111, \"#46039f\"], [0.2222222222222222, \"#7201a8\"], [0.3333333333333333, \"#9c179e\"], [0.4444444444444444, \"#bd3786\"], [0.5555555555555556, \"#d8576b\"], [0.6666666666666666, \"#ed7953\"], [0.7777777777777778, \"#fb9f3a\"], [0.8888888888888888, \"#fdca26\"], [1.0, \"#f0f921\"]], \"type\": \"heatmap\"}], \"heatmapgl\": [{\"colorbar\": {\"outlinewidth\": 0, \"ticks\": \"\"}, \"colorscale\": [[0.0, \"#0d0887\"], [0.1111111111111111, \"#46039f\"], [0.2222222222222222, \"#7201a8\"], [0.3333333333333333, \"#9c179e\"], [0.4444444444444444, \"#bd3786\"], [0.5555555555555556, \"#d8576b\"], [0.6666666666666666, \"#ed7953\"], [0.7777777777777778, \"#fb9f3a\"], [0.8888888888888888, \"#fdca26\"], [1.0, \"#f0f921\"]], \"type\": \"heatmapgl\"}], \"histogram\": [{\"marker\": {\"colorbar\": {\"outlinewidth\": 0, \"ticks\": \"\"}}, \"type\": \"histogram\"}], \"histogram2d\": [{\"colorbar\": {\"outlinewidth\": 0, \"ticks\": \"\"}, \"colorscale\": [[0.0, \"#0d0887\"], [0.1111111111111111, \"#46039f\"], [0.2222222222222222, \"#7201a8\"], [0.3333333333333333, \"#9c179e\"], [0.4444444444444444, \"#bd3786\"], [0.5555555555555556, \"#d8576b\"], [0.6666666666666666, \"#ed7953\"], [0.7777777777777778, \"#fb9f3a\"], [0.8888888888888888, \"#fdca26\"], [1.0, \"#f0f921\"]], \"type\": \"histogram2d\"}], \"histogram2dcontour\": [{\"colorbar\": {\"outlinewidth\": 0, \"ticks\": \"\"}, \"colorscale\": [[0.0, \"#0d0887\"], [0.1111111111111111, \"#46039f\"], [0.2222222222222222, \"#7201a8\"], [0.3333333333333333, \"#9c179e\"], [0.4444444444444444, \"#bd3786\"], [0.5555555555555556, \"#d8576b\"], [0.6666666666666666, \"#ed7953\"], [0.7777777777777778, \"#fb9f3a\"], [0.8888888888888888, \"#fdca26\"], [1.0, \"#f0f921\"]], \"type\": \"histogram2dcontour\"}], \"mesh3d\": [{\"colorbar\": {\"outlinewidth\": 0, \"ticks\": \"\"}, \"type\": \"mesh3d\"}], \"parcoords\": [{\"line\": {\"colorbar\": {\"outlinewidth\": 0, \"ticks\": \"\"}}, \"type\": \"parcoords\"}], \"scatter\": [{\"marker\": {\"colorbar\": {\"outlinewidth\": 0, \"ticks\": \"\"}}, \"type\": \"scatter\"}], \"scatter3d\": [{\"line\": {\"colorbar\": {\"outlinewidth\": 0, \"ticks\": \"\"}}, \"marker\": {\"colorbar\": {\"outlinewidth\": 0, \"ticks\": \"\"}}, \"type\": \"scatter3d\"}], \"scattercarpet\": [{\"marker\": {\"colorbar\": {\"outlinewidth\": 0, \"ticks\": \"\"}}, \"type\": \"scattercarpet\"}], \"scattergeo\": [{\"marker\": {\"colorbar\": {\"outlinewidth\": 0, \"ticks\": \"\"}}, \"type\": \"scattergeo\"}], \"scattergl\": [{\"marker\": {\"colorbar\": {\"outlinewidth\": 0, \"ticks\": \"\"}}, \"type\": \"scattergl\"}], \"scattermapbox\": [{\"marker\": {\"colorbar\": {\"outlinewidth\": 0, \"ticks\": \"\"}}, \"type\": \"scattermapbox\"}], \"scatterpolar\": [{\"marker\": {\"colorbar\": {\"outlinewidth\": 0, \"ticks\": \"\"}}, \"type\": \"scatterpolar\"}], \"scatterpolargl\": [{\"marker\": {\"colorbar\": {\"outlinewidth\": 0, \"ticks\": \"\"}}, \"type\": \"scatterpolargl\"}], \"scatterternary\": [{\"marker\": {\"colorbar\": {\"outlinewidth\": 0, \"ticks\": \"\"}}, \"type\": \"scatterternary\"}], \"surface\": [{\"colorbar\": {\"outlinewidth\": 0, \"ticks\": \"\"}, \"colorscale\": [[0.0, \"#0d0887\"], [0.1111111111111111, \"#46039f\"], [0.2222222222222222, \"#7201a8\"], [0.3333333333333333, \"#9c179e\"], [0.4444444444444444, \"#bd3786\"], [0.5555555555555556, \"#d8576b\"], [0.6666666666666666, \"#ed7953\"], [0.7777777777777778, \"#fb9f3a\"], [0.8888888888888888, \"#fdca26\"], [1.0, \"#f0f921\"]], \"type\": \"surface\"}], \"table\": [{\"cells\": {\"fill\": {\"color\": \"#EBF0F8\"}, \"line\": {\"color\": \"white\"}}, \"header\": {\"fill\": {\"color\": \"#C8D4E3\"}, \"line\": {\"color\": \"white\"}}, \"type\": \"table\"}]}, \"layout\": {\"annotationdefaults\": {\"arrowcolor\": \"#2a3f5f\", \"arrowhead\": 0, \"arrowwidth\": 1}, \"colorscale\": {\"diverging\": [[0, \"#8e0152\"], [0.1, \"#c51b7d\"], [0.2, \"#de77ae\"], [0.3, \"#f1b6da\"], [0.4, \"#fde0ef\"], [0.5, \"#f7f7f7\"], [0.6, \"#e6f5d0\"], [0.7, \"#b8e186\"], [0.8, \"#7fbc41\"], [0.9, \"#4d9221\"], [1, \"#276419\"]], \"sequential\": [[0.0, \"#0d0887\"], [0.1111111111111111, \"#46039f\"], [0.2222222222222222, \"#7201a8\"], [0.3333333333333333, \"#9c179e\"], [0.4444444444444444, \"#bd3786\"], [0.5555555555555556, \"#d8576b\"], [0.6666666666666666, \"#ed7953\"], [0.7777777777777778, \"#fb9f3a\"], [0.8888888888888888, \"#fdca26\"], [1.0, \"#f0f921\"]], \"sequentialminus\": [[0.0, \"#0d0887\"], [0.1111111111111111, \"#46039f\"], [0.2222222222222222, \"#7201a8\"], [0.3333333333333333, \"#9c179e\"], [0.4444444444444444, \"#bd3786\"], [0.5555555555555556, \"#d8576b\"], [0.6666666666666666, \"#ed7953\"], [0.7777777777777778, \"#fb9f3a\"], [0.8888888888888888, \"#fdca26\"], [1.0, \"#f0f921\"]]}, \"colorway\": [\"#636efa\", \"#EF553B\", \"#00cc96\", \"#ab63fa\", \"#FFA15A\", \"#19d3f3\", \"#FF6692\", \"#B6E880\", \"#FF97FF\", \"#FECB52\"], \"font\": {\"color\": \"#2a3f5f\"}, \"geo\": {\"bgcolor\": \"white\", \"lakecolor\": \"white\", \"landcolor\": \"#E5ECF6\", \"showlakes\": true, \"showland\": true, \"subunitcolor\": \"white\"}, \"hoverlabel\": {\"align\": \"left\"}, \"hovermode\": \"closest\", \"mapbox\": {\"style\": \"light\"}, \"paper_bgcolor\": \"white\", \"plot_bgcolor\": \"#E5ECF6\", \"polar\": {\"angularaxis\": {\"gridcolor\": \"white\", \"linecolor\": \"white\", \"ticks\": \"\"}, \"bgcolor\": \"#E5ECF6\", \"radialaxis\": {\"gridcolor\": \"white\", \"linecolor\": \"white\", \"ticks\": \"\"}}, \"scene\": {\"xaxis\": {\"backgroundcolor\": \"#E5ECF6\", \"gridcolor\": \"white\", \"gridwidth\": 2, \"linecolor\": \"white\", \"showbackground\": true, \"ticks\": \"\", \"zerolinecolor\": \"white\"}, \"yaxis\": {\"backgroundcolor\": \"#E5ECF6\", \"gridcolor\": \"white\", \"gridwidth\": 2, \"linecolor\": \"white\", \"showbackground\": true, \"ticks\": \"\", \"zerolinecolor\": \"white\"}, \"zaxis\": {\"backgroundcolor\": \"#E5ECF6\", \"gridcolor\": \"white\", \"gridwidth\": 2, \"linecolor\": \"white\", \"showbackground\": true, \"ticks\": \"\", \"zerolinecolor\": \"white\"}}, \"shapedefaults\": {\"line\": {\"color\": \"#2a3f5f\"}}, \"ternary\": {\"aaxis\": {\"gridcolor\": \"white\", \"linecolor\": \"white\", \"ticks\": \"\"}, \"baxis\": {\"gridcolor\": \"white\", \"linecolor\": \"white\", \"ticks\": \"\"}, \"bgcolor\": \"#E5ECF6\", \"caxis\": {\"gridcolor\": \"white\", \"linecolor\": \"white\", \"ticks\": \"\"}}, \"title\": {\"x\": 0.05}, \"xaxis\": {\"automargin\": true, \"gridcolor\": \"white\", \"linecolor\": \"white\", \"ticks\": \"\", \"zerolinecolor\": \"white\", \"zerolinewidth\": 2}, \"yaxis\": {\"automargin\": true, \"gridcolor\": \"white\", \"linecolor\": \"white\", \"ticks\": \"\", \"zerolinecolor\": \"white\", \"zerolinewidth\": 2}}}, \"title\": {\"font\": {\"color\": \"rgb(200, 100, 100)\", \"size\": 30}, \"text\": \"Skills UCSD alumni mastered\"}},\n",
       "                        {\"responsive\": true}\n",
       "                    ).then(function(){\n",
       "                            \n",
       "var gd = document.getElementById('214dc137-4093-4e67-9586-6996d5e7623e');\n",
       "var x = new MutationObserver(function (mutations, observer) {{\n",
       "        var display = window.getComputedStyle(gd).display;\n",
       "        if (!display || display === 'none') {{\n",
       "            console.log([gd, 'removed!']);\n",
       "            Plotly.purge(gd);\n",
       "            observer.disconnect();\n",
       "        }}\n",
       "}});\n",
       "\n",
       "// Listen for the removal of the full notebook cells\n",
       "var notebookContainer = gd.closest('#notebook-container');\n",
       "if (notebookContainer) {{\n",
       "    x.observe(notebookContainer, {childList: true});\n",
       "}}\n",
       "\n",
       "// Listen for the clearing of the current output cell\n",
       "var outputEl = gd.closest('.output');\n",
       "if (outputEl) {{\n",
       "    x.observe(outputEl, {childList: true});\n",
       "}}\n",
       "\n",
       "                        })\n",
       "                };\n",
       "                });\n",
       "            </script>\n",
       "        </div>"
      ]
     },
     "metadata": {},
     "output_type": "display_data"
    }
   ],
   "source": [
    "\n",
    "if __name__ == '__main__':\n",
    "    \n",
    "    #=============== Set up the data ===================#\n",
    "    skill, number = seperateData(kills)\n",
    "    number = [number[i]/sum(number) for i in range(len(number))] #convert number to percentage\n",
    "    skill, number = getHighest(skill, number, 15)  # Only display the top NO.15 skills\n",
    "\n",
    "    #===============Then Set up the figures ============#\n",
    "    of.offline.init_notebook_mode(connected=True)\n",
    "    trace = [go.Pie(\n",
    "        labels = skill, \n",
    "        values = number, \n",
    "        hole =  0,                          # Modify the radius of the hole, higher means larger hole\n",
    "        hoverinfo = \"label + percent\")]\n",
    "    layout = go.Layout(title =\"Skills UCSD alumni mastered\", titlefont=dict(color='rgb(200, 100, 100)',size=30))\n",
    "    data = [trace]\n",
    "    fig = go.Figure(data = trace, layout = layout)\n",
    "    of.iplot(fig)\n"
   ]
  },
  {
   "cell_type": "markdown",
   "metadata": {},
   "source": [
    "### b. People in different companies  -- Bar Chart"
   ]
  },
  {
   "cell_type": "code",
   "execution_count": 4,
   "metadata": {
    "scrolled": false
   },
   "outputs": [
    {
     "name": "stdout",
     "output_type": "stream",
     "text": [
      "{'1': 'University of California, Los Angeles', '3': 'Moebius Solutions, Inc.', '87': 'Amazon', '744': 'Others'}\n"
     ]
    },
    {
     "data": {
      "text/html": [
       "        <script type=\"text/javascript\">\n",
       "        window.PlotlyConfig = {MathJaxConfig: 'local'};\n",
       "        if (window.MathJax) {MathJax.Hub.Config({SVG: {font: \"STIX-Web\"}});}\n",
       "        if (typeof require !== 'undefined') {\n",
       "        require.undef(\"plotly\");\n",
       "        requirejs.config({\n",
       "            paths: {\n",
       "                'plotly': ['https://cdn.plot.ly/plotly-latest.min']\n",
       "            }\n",
       "        });\n",
       "        require(['plotly'], function(Plotly) {\n",
       "            window._Plotly = Plotly;\n",
       "        });\n",
       "        }\n",
       "        </script>\n",
       "        "
      ]
     },
     "metadata": {},
     "output_type": "display_data"
    },
    {
     "data": {
      "application/vnd.plotly.v1+json": {
       "config": {
        "linkText": "Export to plot.ly",
        "plotlyServerURL": "https://plot.ly",
        "showLink": false
       },
       "data": [
        {
         "orientation": "v",
         "type": "bar",
         "x": [
          "Others",
          "Amazon",
          "Moebius Solutions, Inc.",
          "University of California, Los Angeles",
          "University of California, Los Angeles",
          "University of California, Los Angeles"
         ],
         "y": [
          744,
          87,
          3,
          1,
          1,
          1
         ]
        }
       ],
       "layout": {
        "plot_bgcolor": "#E6E6FA",
        "template": {
         "data": {
          "bar": [
           {
            "error_x": {
             "color": "#2a3f5f"
            },
            "error_y": {
             "color": "#2a3f5f"
            },
            "marker": {
             "line": {
              "color": "#E5ECF6",
              "width": 0.5
             }
            },
            "type": "bar"
           }
          ],
          "barpolar": [
           {
            "marker": {
             "line": {
              "color": "#E5ECF6",
              "width": 0.5
             }
            },
            "type": "barpolar"
           }
          ],
          "carpet": [
           {
            "aaxis": {
             "endlinecolor": "#2a3f5f",
             "gridcolor": "white",
             "linecolor": "white",
             "minorgridcolor": "white",
             "startlinecolor": "#2a3f5f"
            },
            "baxis": {
             "endlinecolor": "#2a3f5f",
             "gridcolor": "white",
             "linecolor": "white",
             "minorgridcolor": "white",
             "startlinecolor": "#2a3f5f"
            },
            "type": "carpet"
           }
          ],
          "choropleth": [
           {
            "colorbar": {
             "outlinewidth": 0,
             "ticks": ""
            },
            "type": "choropleth"
           }
          ],
          "contour": [
           {
            "colorbar": {
             "outlinewidth": 0,
             "ticks": ""
            },
            "colorscale": [
             [
              0,
              "#0d0887"
             ],
             [
              0.1111111111111111,
              "#46039f"
             ],
             [
              0.2222222222222222,
              "#7201a8"
             ],
             [
              0.3333333333333333,
              "#9c179e"
             ],
             [
              0.4444444444444444,
              "#bd3786"
             ],
             [
              0.5555555555555556,
              "#d8576b"
             ],
             [
              0.6666666666666666,
              "#ed7953"
             ],
             [
              0.7777777777777778,
              "#fb9f3a"
             ],
             [
              0.8888888888888888,
              "#fdca26"
             ],
             [
              1,
              "#f0f921"
             ]
            ],
            "type": "contour"
           }
          ],
          "contourcarpet": [
           {
            "colorbar": {
             "outlinewidth": 0,
             "ticks": ""
            },
            "type": "contourcarpet"
           }
          ],
          "heatmap": [
           {
            "colorbar": {
             "outlinewidth": 0,
             "ticks": ""
            },
            "colorscale": [
             [
              0,
              "#0d0887"
             ],
             [
              0.1111111111111111,
              "#46039f"
             ],
             [
              0.2222222222222222,
              "#7201a8"
             ],
             [
              0.3333333333333333,
              "#9c179e"
             ],
             [
              0.4444444444444444,
              "#bd3786"
             ],
             [
              0.5555555555555556,
              "#d8576b"
             ],
             [
              0.6666666666666666,
              "#ed7953"
             ],
             [
              0.7777777777777778,
              "#fb9f3a"
             ],
             [
              0.8888888888888888,
              "#fdca26"
             ],
             [
              1,
              "#f0f921"
             ]
            ],
            "type": "heatmap"
           }
          ],
          "heatmapgl": [
           {
            "colorbar": {
             "outlinewidth": 0,
             "ticks": ""
            },
            "colorscale": [
             [
              0,
              "#0d0887"
             ],
             [
              0.1111111111111111,
              "#46039f"
             ],
             [
              0.2222222222222222,
              "#7201a8"
             ],
             [
              0.3333333333333333,
              "#9c179e"
             ],
             [
              0.4444444444444444,
              "#bd3786"
             ],
             [
              0.5555555555555556,
              "#d8576b"
             ],
             [
              0.6666666666666666,
              "#ed7953"
             ],
             [
              0.7777777777777778,
              "#fb9f3a"
             ],
             [
              0.8888888888888888,
              "#fdca26"
             ],
             [
              1,
              "#f0f921"
             ]
            ],
            "type": "heatmapgl"
           }
          ],
          "histogram": [
           {
            "marker": {
             "colorbar": {
              "outlinewidth": 0,
              "ticks": ""
             }
            },
            "type": "histogram"
           }
          ],
          "histogram2d": [
           {
            "colorbar": {
             "outlinewidth": 0,
             "ticks": ""
            },
            "colorscale": [
             [
              0,
              "#0d0887"
             ],
             [
              0.1111111111111111,
              "#46039f"
             ],
             [
              0.2222222222222222,
              "#7201a8"
             ],
             [
              0.3333333333333333,
              "#9c179e"
             ],
             [
              0.4444444444444444,
              "#bd3786"
             ],
             [
              0.5555555555555556,
              "#d8576b"
             ],
             [
              0.6666666666666666,
              "#ed7953"
             ],
             [
              0.7777777777777778,
              "#fb9f3a"
             ],
             [
              0.8888888888888888,
              "#fdca26"
             ],
             [
              1,
              "#f0f921"
             ]
            ],
            "type": "histogram2d"
           }
          ],
          "histogram2dcontour": [
           {
            "colorbar": {
             "outlinewidth": 0,
             "ticks": ""
            },
            "colorscale": [
             [
              0,
              "#0d0887"
             ],
             [
              0.1111111111111111,
              "#46039f"
             ],
             [
              0.2222222222222222,
              "#7201a8"
             ],
             [
              0.3333333333333333,
              "#9c179e"
             ],
             [
              0.4444444444444444,
              "#bd3786"
             ],
             [
              0.5555555555555556,
              "#d8576b"
             ],
             [
              0.6666666666666666,
              "#ed7953"
             ],
             [
              0.7777777777777778,
              "#fb9f3a"
             ],
             [
              0.8888888888888888,
              "#fdca26"
             ],
             [
              1,
              "#f0f921"
             ]
            ],
            "type": "histogram2dcontour"
           }
          ],
          "mesh3d": [
           {
            "colorbar": {
             "outlinewidth": 0,
             "ticks": ""
            },
            "type": "mesh3d"
           }
          ],
          "parcoords": [
           {
            "line": {
             "colorbar": {
              "outlinewidth": 0,
              "ticks": ""
             }
            },
            "type": "parcoords"
           }
          ],
          "scatter": [
           {
            "marker": {
             "colorbar": {
              "outlinewidth": 0,
              "ticks": ""
             }
            },
            "type": "scatter"
           }
          ],
          "scatter3d": [
           {
            "line": {
             "colorbar": {
              "outlinewidth": 0,
              "ticks": ""
             }
            },
            "marker": {
             "colorbar": {
              "outlinewidth": 0,
              "ticks": ""
             }
            },
            "type": "scatter3d"
           }
          ],
          "scattercarpet": [
           {
            "marker": {
             "colorbar": {
              "outlinewidth": 0,
              "ticks": ""
             }
            },
            "type": "scattercarpet"
           }
          ],
          "scattergeo": [
           {
            "marker": {
             "colorbar": {
              "outlinewidth": 0,
              "ticks": ""
             }
            },
            "type": "scattergeo"
           }
          ],
          "scattergl": [
           {
            "marker": {
             "colorbar": {
              "outlinewidth": 0,
              "ticks": ""
             }
            },
            "type": "scattergl"
           }
          ],
          "scattermapbox": [
           {
            "marker": {
             "colorbar": {
              "outlinewidth": 0,
              "ticks": ""
             }
            },
            "type": "scattermapbox"
           }
          ],
          "scatterpolar": [
           {
            "marker": {
             "colorbar": {
              "outlinewidth": 0,
              "ticks": ""
             }
            },
            "type": "scatterpolar"
           }
          ],
          "scatterpolargl": [
           {
            "marker": {
             "colorbar": {
              "outlinewidth": 0,
              "ticks": ""
             }
            },
            "type": "scatterpolargl"
           }
          ],
          "scatterternary": [
           {
            "marker": {
             "colorbar": {
              "outlinewidth": 0,
              "ticks": ""
             }
            },
            "type": "scatterternary"
           }
          ],
          "surface": [
           {
            "colorbar": {
             "outlinewidth": 0,
             "ticks": ""
            },
            "colorscale": [
             [
              0,
              "#0d0887"
             ],
             [
              0.1111111111111111,
              "#46039f"
             ],
             [
              0.2222222222222222,
              "#7201a8"
             ],
             [
              0.3333333333333333,
              "#9c179e"
             ],
             [
              0.4444444444444444,
              "#bd3786"
             ],
             [
              0.5555555555555556,
              "#d8576b"
             ],
             [
              0.6666666666666666,
              "#ed7953"
             ],
             [
              0.7777777777777778,
              "#fb9f3a"
             ],
             [
              0.8888888888888888,
              "#fdca26"
             ],
             [
              1,
              "#f0f921"
             ]
            ],
            "type": "surface"
           }
          ],
          "table": [
           {
            "cells": {
             "fill": {
              "color": "#EBF0F8"
             },
             "line": {
              "color": "white"
             }
            },
            "header": {
             "fill": {
              "color": "#C8D4E3"
             },
             "line": {
              "color": "white"
             }
            },
            "type": "table"
           }
          ]
         },
         "layout": {
          "annotationdefaults": {
           "arrowcolor": "#2a3f5f",
           "arrowhead": 0,
           "arrowwidth": 1
          },
          "colorscale": {
           "diverging": [
            [
             0,
             "#8e0152"
            ],
            [
             0.1,
             "#c51b7d"
            ],
            [
             0.2,
             "#de77ae"
            ],
            [
             0.3,
             "#f1b6da"
            ],
            [
             0.4,
             "#fde0ef"
            ],
            [
             0.5,
             "#f7f7f7"
            ],
            [
             0.6,
             "#e6f5d0"
            ],
            [
             0.7,
             "#b8e186"
            ],
            [
             0.8,
             "#7fbc41"
            ],
            [
             0.9,
             "#4d9221"
            ],
            [
             1,
             "#276419"
            ]
           ],
           "sequential": [
            [
             0,
             "#0d0887"
            ],
            [
             0.1111111111111111,
             "#46039f"
            ],
            [
             0.2222222222222222,
             "#7201a8"
            ],
            [
             0.3333333333333333,
             "#9c179e"
            ],
            [
             0.4444444444444444,
             "#bd3786"
            ],
            [
             0.5555555555555556,
             "#d8576b"
            ],
            [
             0.6666666666666666,
             "#ed7953"
            ],
            [
             0.7777777777777778,
             "#fb9f3a"
            ],
            [
             0.8888888888888888,
             "#fdca26"
            ],
            [
             1,
             "#f0f921"
            ]
           ],
           "sequentialminus": [
            [
             0,
             "#0d0887"
            ],
            [
             0.1111111111111111,
             "#46039f"
            ],
            [
             0.2222222222222222,
             "#7201a8"
            ],
            [
             0.3333333333333333,
             "#9c179e"
            ],
            [
             0.4444444444444444,
             "#bd3786"
            ],
            [
             0.5555555555555556,
             "#d8576b"
            ],
            [
             0.6666666666666666,
             "#ed7953"
            ],
            [
             0.7777777777777778,
             "#fb9f3a"
            ],
            [
             0.8888888888888888,
             "#fdca26"
            ],
            [
             1,
             "#f0f921"
            ]
           ]
          },
          "colorway": [
           "#636efa",
           "#EF553B",
           "#00cc96",
           "#ab63fa",
           "#FFA15A",
           "#19d3f3",
           "#FF6692",
           "#B6E880",
           "#FF97FF",
           "#FECB52"
          ],
          "font": {
           "color": "#2a3f5f"
          },
          "geo": {
           "bgcolor": "white",
           "lakecolor": "white",
           "landcolor": "#E5ECF6",
           "showlakes": true,
           "showland": true,
           "subunitcolor": "white"
          },
          "hoverlabel": {
           "align": "left"
          },
          "hovermode": "closest",
          "mapbox": {
           "style": "light"
          },
          "paper_bgcolor": "white",
          "plot_bgcolor": "#E5ECF6",
          "polar": {
           "angularaxis": {
            "gridcolor": "white",
            "linecolor": "white",
            "ticks": ""
           },
           "bgcolor": "#E5ECF6",
           "radialaxis": {
            "gridcolor": "white",
            "linecolor": "white",
            "ticks": ""
           }
          },
          "scene": {
           "xaxis": {
            "backgroundcolor": "#E5ECF6",
            "gridcolor": "white",
            "gridwidth": 2,
            "linecolor": "white",
            "showbackground": true,
            "ticks": "",
            "zerolinecolor": "white"
           },
           "yaxis": {
            "backgroundcolor": "#E5ECF6",
            "gridcolor": "white",
            "gridwidth": 2,
            "linecolor": "white",
            "showbackground": true,
            "ticks": "",
            "zerolinecolor": "white"
           },
           "zaxis": {
            "backgroundcolor": "#E5ECF6",
            "gridcolor": "white",
            "gridwidth": 2,
            "linecolor": "white",
            "showbackground": true,
            "ticks": "",
            "zerolinecolor": "white"
           }
          },
          "shapedefaults": {
           "line": {
            "color": "#2a3f5f"
           }
          },
          "ternary": {
           "aaxis": {
            "gridcolor": "white",
            "linecolor": "white",
            "ticks": ""
           },
           "baxis": {
            "gridcolor": "white",
            "linecolor": "white",
            "ticks": ""
           },
           "bgcolor": "#E5ECF6",
           "caxis": {
            "gridcolor": "white",
            "linecolor": "white",
            "ticks": ""
           }
          },
          "title": {
           "x": 0.05
          },
          "xaxis": {
           "automargin": true,
           "gridcolor": "white",
           "linecolor": "white",
           "ticks": "",
           "zerolinecolor": "white",
           "zerolinewidth": 2
          },
          "yaxis": {
           "automargin": true,
           "gridcolor": "white",
           "linecolor": "white",
           "ticks": "",
           "zerolinecolor": "white",
           "zerolinewidth": 2
          }
         }
        },
        "title": {
         "font": {
          "color": "rgb(200, 100, 100)",
          "size": 30
         },
         "text": " Companies UCSD alumni went to"
        }
       }
      },
      "text/html": [
       "<div>\n",
       "        \n",
       "        \n",
       "            <div id=\"705fdef2-592e-42e3-9075-a31eaf9dc9b2\" class=\"plotly-graph-div\" style=\"height:525px; width:100%;\"></div>\n",
       "            <script type=\"text/javascript\">\n",
       "                require([\"plotly\"], function(Plotly) {\n",
       "                    window.PLOTLYENV=window.PLOTLYENV || {};\n",
       "                    \n",
       "                if (document.getElementById(\"705fdef2-592e-42e3-9075-a31eaf9dc9b2\")) {\n",
       "                    Plotly.newPlot(\n",
       "                        '705fdef2-592e-42e3-9075-a31eaf9dc9b2',\n",
       "                        [{\"orientation\": \"v\", \"type\": \"bar\", \"x\": [\"Others\", \"Amazon\", \"Moebius Solutions, Inc.\", \"University of California, Los Angeles\", \"University of California, Los Angeles\", \"University of California, Los Angeles\"], \"y\": [744, 87, 3, 1, 1, 1]}],\n",
       "                        {\"plot_bgcolor\": \"#E6E6FA\", \"template\": {\"data\": {\"bar\": [{\"error_x\": {\"color\": \"#2a3f5f\"}, \"error_y\": {\"color\": \"#2a3f5f\"}, \"marker\": {\"line\": {\"color\": \"#E5ECF6\", \"width\": 0.5}}, \"type\": \"bar\"}], \"barpolar\": [{\"marker\": {\"line\": {\"color\": \"#E5ECF6\", \"width\": 0.5}}, \"type\": \"barpolar\"}], \"carpet\": [{\"aaxis\": {\"endlinecolor\": \"#2a3f5f\", \"gridcolor\": \"white\", \"linecolor\": \"white\", \"minorgridcolor\": \"white\", \"startlinecolor\": \"#2a3f5f\"}, \"baxis\": {\"endlinecolor\": \"#2a3f5f\", \"gridcolor\": \"white\", \"linecolor\": \"white\", \"minorgridcolor\": \"white\", \"startlinecolor\": \"#2a3f5f\"}, \"type\": \"carpet\"}], \"choropleth\": [{\"colorbar\": {\"outlinewidth\": 0, \"ticks\": \"\"}, \"type\": \"choropleth\"}], \"contour\": [{\"colorbar\": {\"outlinewidth\": 0, \"ticks\": \"\"}, \"colorscale\": [[0.0, \"#0d0887\"], [0.1111111111111111, \"#46039f\"], [0.2222222222222222, \"#7201a8\"], [0.3333333333333333, \"#9c179e\"], [0.4444444444444444, \"#bd3786\"], [0.5555555555555556, \"#d8576b\"], [0.6666666666666666, \"#ed7953\"], [0.7777777777777778, \"#fb9f3a\"], [0.8888888888888888, \"#fdca26\"], [1.0, \"#f0f921\"]], \"type\": \"contour\"}], \"contourcarpet\": [{\"colorbar\": {\"outlinewidth\": 0, \"ticks\": \"\"}, \"type\": \"contourcarpet\"}], \"heatmap\": [{\"colorbar\": {\"outlinewidth\": 0, \"ticks\": \"\"}, \"colorscale\": [[0.0, \"#0d0887\"], [0.1111111111111111, \"#46039f\"], [0.2222222222222222, \"#7201a8\"], [0.3333333333333333, \"#9c179e\"], [0.4444444444444444, \"#bd3786\"], [0.5555555555555556, \"#d8576b\"], [0.6666666666666666, \"#ed7953\"], [0.7777777777777778, \"#fb9f3a\"], [0.8888888888888888, \"#fdca26\"], [1.0, \"#f0f921\"]], \"type\": \"heatmap\"}], \"heatmapgl\": [{\"colorbar\": {\"outlinewidth\": 0, \"ticks\": \"\"}, \"colorscale\": [[0.0, \"#0d0887\"], [0.1111111111111111, \"#46039f\"], [0.2222222222222222, \"#7201a8\"], [0.3333333333333333, \"#9c179e\"], [0.4444444444444444, \"#bd3786\"], [0.5555555555555556, \"#d8576b\"], [0.6666666666666666, \"#ed7953\"], [0.7777777777777778, \"#fb9f3a\"], [0.8888888888888888, \"#fdca26\"], [1.0, \"#f0f921\"]], \"type\": \"heatmapgl\"}], \"histogram\": [{\"marker\": {\"colorbar\": {\"outlinewidth\": 0, \"ticks\": \"\"}}, \"type\": \"histogram\"}], \"histogram2d\": [{\"colorbar\": {\"outlinewidth\": 0, \"ticks\": \"\"}, \"colorscale\": [[0.0, \"#0d0887\"], [0.1111111111111111, \"#46039f\"], [0.2222222222222222, \"#7201a8\"], [0.3333333333333333, \"#9c179e\"], [0.4444444444444444, \"#bd3786\"], [0.5555555555555556, \"#d8576b\"], [0.6666666666666666, \"#ed7953\"], [0.7777777777777778, \"#fb9f3a\"], [0.8888888888888888, \"#fdca26\"], [1.0, \"#f0f921\"]], \"type\": \"histogram2d\"}], \"histogram2dcontour\": [{\"colorbar\": {\"outlinewidth\": 0, \"ticks\": \"\"}, \"colorscale\": [[0.0, \"#0d0887\"], [0.1111111111111111, \"#46039f\"], [0.2222222222222222, \"#7201a8\"], [0.3333333333333333, \"#9c179e\"], [0.4444444444444444, \"#bd3786\"], [0.5555555555555556, \"#d8576b\"], [0.6666666666666666, \"#ed7953\"], [0.7777777777777778, \"#fb9f3a\"], [0.8888888888888888, \"#fdca26\"], [1.0, \"#f0f921\"]], \"type\": \"histogram2dcontour\"}], \"mesh3d\": [{\"colorbar\": {\"outlinewidth\": 0, \"ticks\": \"\"}, \"type\": \"mesh3d\"}], \"parcoords\": [{\"line\": {\"colorbar\": {\"outlinewidth\": 0, \"ticks\": \"\"}}, \"type\": \"parcoords\"}], \"scatter\": [{\"marker\": {\"colorbar\": {\"outlinewidth\": 0, \"ticks\": \"\"}}, \"type\": \"scatter\"}], \"scatter3d\": [{\"line\": {\"colorbar\": {\"outlinewidth\": 0, \"ticks\": \"\"}}, \"marker\": {\"colorbar\": {\"outlinewidth\": 0, \"ticks\": \"\"}}, \"type\": \"scatter3d\"}], \"scattercarpet\": [{\"marker\": {\"colorbar\": {\"outlinewidth\": 0, \"ticks\": \"\"}}, \"type\": \"scattercarpet\"}], \"scattergeo\": [{\"marker\": {\"colorbar\": {\"outlinewidth\": 0, \"ticks\": \"\"}}, \"type\": \"scattergeo\"}], \"scattergl\": [{\"marker\": {\"colorbar\": {\"outlinewidth\": 0, \"ticks\": \"\"}}, \"type\": \"scattergl\"}], \"scattermapbox\": [{\"marker\": {\"colorbar\": {\"outlinewidth\": 0, \"ticks\": \"\"}}, \"type\": \"scattermapbox\"}], \"scatterpolar\": [{\"marker\": {\"colorbar\": {\"outlinewidth\": 0, \"ticks\": \"\"}}, \"type\": \"scatterpolar\"}], \"scatterpolargl\": [{\"marker\": {\"colorbar\": {\"outlinewidth\": 0, \"ticks\": \"\"}}, \"type\": \"scatterpolargl\"}], \"scatterternary\": [{\"marker\": {\"colorbar\": {\"outlinewidth\": 0, \"ticks\": \"\"}}, \"type\": \"scatterternary\"}], \"surface\": [{\"colorbar\": {\"outlinewidth\": 0, \"ticks\": \"\"}, \"colorscale\": [[0.0, \"#0d0887\"], [0.1111111111111111, \"#46039f\"], [0.2222222222222222, \"#7201a8\"], [0.3333333333333333, \"#9c179e\"], [0.4444444444444444, \"#bd3786\"], [0.5555555555555556, \"#d8576b\"], [0.6666666666666666, \"#ed7953\"], [0.7777777777777778, \"#fb9f3a\"], [0.8888888888888888, \"#fdca26\"], [1.0, \"#f0f921\"]], \"type\": \"surface\"}], \"table\": [{\"cells\": {\"fill\": {\"color\": \"#EBF0F8\"}, \"line\": {\"color\": \"white\"}}, \"header\": {\"fill\": {\"color\": \"#C8D4E3\"}, \"line\": {\"color\": \"white\"}}, \"type\": \"table\"}]}, \"layout\": {\"annotationdefaults\": {\"arrowcolor\": \"#2a3f5f\", \"arrowhead\": 0, \"arrowwidth\": 1}, \"colorscale\": {\"diverging\": [[0, \"#8e0152\"], [0.1, \"#c51b7d\"], [0.2, \"#de77ae\"], [0.3, \"#f1b6da\"], [0.4, \"#fde0ef\"], [0.5, \"#f7f7f7\"], [0.6, \"#e6f5d0\"], [0.7, \"#b8e186\"], [0.8, \"#7fbc41\"], [0.9, \"#4d9221\"], [1, \"#276419\"]], \"sequential\": [[0.0, \"#0d0887\"], [0.1111111111111111, \"#46039f\"], [0.2222222222222222, \"#7201a8\"], [0.3333333333333333, \"#9c179e\"], [0.4444444444444444, \"#bd3786\"], [0.5555555555555556, \"#d8576b\"], [0.6666666666666666, \"#ed7953\"], [0.7777777777777778, \"#fb9f3a\"], [0.8888888888888888, \"#fdca26\"], [1.0, \"#f0f921\"]], \"sequentialminus\": [[0.0, \"#0d0887\"], [0.1111111111111111, \"#46039f\"], [0.2222222222222222, \"#7201a8\"], [0.3333333333333333, \"#9c179e\"], [0.4444444444444444, \"#bd3786\"], [0.5555555555555556, \"#d8576b\"], [0.6666666666666666, \"#ed7953\"], [0.7777777777777778, \"#fb9f3a\"], [0.8888888888888888, \"#fdca26\"], [1.0, \"#f0f921\"]]}, \"colorway\": [\"#636efa\", \"#EF553B\", \"#00cc96\", \"#ab63fa\", \"#FFA15A\", \"#19d3f3\", \"#FF6692\", \"#B6E880\", \"#FF97FF\", \"#FECB52\"], \"font\": {\"color\": \"#2a3f5f\"}, \"geo\": {\"bgcolor\": \"white\", \"lakecolor\": \"white\", \"landcolor\": \"#E5ECF6\", \"showlakes\": true, \"showland\": true, \"subunitcolor\": \"white\"}, \"hoverlabel\": {\"align\": \"left\"}, \"hovermode\": \"closest\", \"mapbox\": {\"style\": \"light\"}, \"paper_bgcolor\": \"white\", \"plot_bgcolor\": \"#E5ECF6\", \"polar\": {\"angularaxis\": {\"gridcolor\": \"white\", \"linecolor\": \"white\", \"ticks\": \"\"}, \"bgcolor\": \"#E5ECF6\", \"radialaxis\": {\"gridcolor\": \"white\", \"linecolor\": \"white\", \"ticks\": \"\"}}, \"scene\": {\"xaxis\": {\"backgroundcolor\": \"#E5ECF6\", \"gridcolor\": \"white\", \"gridwidth\": 2, \"linecolor\": \"white\", \"showbackground\": true, \"ticks\": \"\", \"zerolinecolor\": \"white\"}, \"yaxis\": {\"backgroundcolor\": \"#E5ECF6\", \"gridcolor\": \"white\", \"gridwidth\": 2, \"linecolor\": \"white\", \"showbackground\": true, \"ticks\": \"\", \"zerolinecolor\": \"white\"}, \"zaxis\": {\"backgroundcolor\": \"#E5ECF6\", \"gridcolor\": \"white\", \"gridwidth\": 2, \"linecolor\": \"white\", \"showbackground\": true, \"ticks\": \"\", \"zerolinecolor\": \"white\"}}, \"shapedefaults\": {\"line\": {\"color\": \"#2a3f5f\"}}, \"ternary\": {\"aaxis\": {\"gridcolor\": \"white\", \"linecolor\": \"white\", \"ticks\": \"\"}, \"baxis\": {\"gridcolor\": \"white\", \"linecolor\": \"white\", \"ticks\": \"\"}, \"bgcolor\": \"#E5ECF6\", \"caxis\": {\"gridcolor\": \"white\", \"linecolor\": \"white\", \"ticks\": \"\"}}, \"title\": {\"x\": 0.05}, \"xaxis\": {\"automargin\": true, \"gridcolor\": \"white\", \"linecolor\": \"white\", \"ticks\": \"\", \"zerolinecolor\": \"white\", \"zerolinewidth\": 2}, \"yaxis\": {\"automargin\": true, \"gridcolor\": \"white\", \"linecolor\": \"white\", \"ticks\": \"\", \"zerolinecolor\": \"white\", \"zerolinewidth\": 2}}}, \"title\": {\"font\": {\"color\": \"rgb(200, 100, 100)\", \"size\": 30}, \"text\": \" Companies UCSD alumni went to\"}},\n",
       "                        {\"responsive\": true}\n",
       "                    ).then(function(){\n",
       "                            \n",
       "var gd = document.getElementById('705fdef2-592e-42e3-9075-a31eaf9dc9b2');\n",
       "var x = new MutationObserver(function (mutations, observer) {{\n",
       "        var display = window.getComputedStyle(gd).display;\n",
       "        if (!display || display === 'none') {{\n",
       "            console.log([gd, 'removed!']);\n",
       "            Plotly.purge(gd);\n",
       "            observer.disconnect();\n",
       "        }}\n",
       "}});\n",
       "\n",
       "// Listen for the removal of the full notebook cells\n",
       "var notebookContainer = gd.closest('#notebook-container');\n",
       "if (notebookContainer) {{\n",
       "    x.observe(notebookContainer, {childList: true});\n",
       "}}\n",
       "\n",
       "// Listen for the clearing of the current output cell\n",
       "var outputEl = gd.closest('.output');\n",
       "if (outputEl) {{\n",
       "    x.observe(outputEl, {childList: true});\n",
       "}}\n",
       "\n",
       "                        })\n",
       "                };\n",
       "                });\n",
       "            </script>\n",
       "        </div>"
      ]
     },
     "metadata": {},
     "output_type": "display_data"
    }
   ],
   "source": [
    "if __name__ == '__main__':\n",
    "    #=============== Set up the data ===================#\n",
    "    company, number = seperateData(companies)\n",
    "    company, number = getHighest(company, number, 5)  # Only display the top NO.15 companies\n",
    "#     print(company, number)\n",
    "    company, number = getSorted(company, number)\n",
    "#     print(company, number)\n",
    "    #============== Set up the Figures =================#\n",
    "    of.offline.init_notebook_mode(connected=True)\n",
    "    trace = [go.Bar(\n",
    "        x = company, \n",
    "        y = number, \n",
    "        orientation='v'\n",
    "    )]\n",
    "    layout = go.Layout(plot_bgcolor='#E6E6FA', title =\" Companies UCSD alumni went to\", titlefont=dict(color='rgb(200, 100, 100)',size=30))\n",
    "    data = [trace]\n",
    "    fig = go.Figure(data = trace, layout = layout)\n",
    "    of.iplot(fig)\n",
    "    "
   ]
  },
  {
   "cell_type": "markdown",
   "metadata": {},
   "source": [
    "### c. Industry that UCSD Alumni went to -- radar chart\n",
    "#### reference links: https://plot.ly/python/radar-chart/"
   ]
  },
  {
   "cell_type": "code",
   "execution_count": 5,
   "metadata": {},
   "outputs": [
    {
     "name": "stdout",
     "output_type": "stream",
     "text": [
      "['Computer Software', 'Internet', 'Higher Education', 'Management Consulting', 'Information Technology & Services', 'Financial Services', 'Marketing & Advertising', 'Semiconductors', 'Investment Management', 'Consumer Electronics', 'Computer Hardware', 'Research', 'Investment Banking/Venture', 'Computer Networking', 'Electrical & Electronic Manufacturing', 'Computer & Network Security', 'Venture Capital', 'Wireless', 'Biotechnology', 'Chemicals', 'Banking', 'Program Development', 'Pharmaceuticals', 'Medical Device', 'Computer Games', 'Online Publishing', 'Mechanical or Industrial Engineering', 'Education Management', 'Telecommunications']\n"
     ]
    },
    {
     "data": {
      "application/vnd.plotly.v1+json": {
       "config": {
        "plotlyServerURL": "https://plot.ly"
       },
       "data": [
        {
         "fill": "toself",
         "name": "Industry that UCSD Alumni went to",
         "opacity": 0.5,
         "r": [
          608,
          108,
          17,
          3,
          31,
          12,
          2,
          3,
          1,
          1,
          5,
          13,
          1,
          7,
          8,
          27
         ],
         "theta": [
          "Computer Software",
          "Internet",
          "Higher Education",
          "Management Consulting",
          "Information Technology & Services",
          "Financial Services",
          "Marketing & Advertising",
          "Semiconductors",
          "Investment Management",
          "Consumer Electronics",
          "Computer Hardware",
          "Research",
          "Investment Banking/Venture",
          "Computer Networking",
          "Electrical & Electronic Manufacturing",
          "Others"
         ],
         "type": "scatterpolar"
        }
       ],
       "layout": {
        "polar": {
         "radialaxis": {
          "range": [
           0,
           25
          ],
          "visible": true
         }
        },
        "showlegend": true,
        "template": {
         "data": {
          "bar": [
           {
            "error_x": {
             "color": "#2a3f5f"
            },
            "error_y": {
             "color": "#2a3f5f"
            },
            "marker": {
             "line": {
              "color": "#E5ECF6",
              "width": 0.5
             }
            },
            "type": "bar"
           }
          ],
          "barpolar": [
           {
            "marker": {
             "line": {
              "color": "#E5ECF6",
              "width": 0.5
             }
            },
            "type": "barpolar"
           }
          ],
          "carpet": [
           {
            "aaxis": {
             "endlinecolor": "#2a3f5f",
             "gridcolor": "white",
             "linecolor": "white",
             "minorgridcolor": "white",
             "startlinecolor": "#2a3f5f"
            },
            "baxis": {
             "endlinecolor": "#2a3f5f",
             "gridcolor": "white",
             "linecolor": "white",
             "minorgridcolor": "white",
             "startlinecolor": "#2a3f5f"
            },
            "type": "carpet"
           }
          ],
          "choropleth": [
           {
            "colorbar": {
             "outlinewidth": 0,
             "ticks": ""
            },
            "type": "choropleth"
           }
          ],
          "contour": [
           {
            "colorbar": {
             "outlinewidth": 0,
             "ticks": ""
            },
            "colorscale": [
             [
              0,
              "#0d0887"
             ],
             [
              0.1111111111111111,
              "#46039f"
             ],
             [
              0.2222222222222222,
              "#7201a8"
             ],
             [
              0.3333333333333333,
              "#9c179e"
             ],
             [
              0.4444444444444444,
              "#bd3786"
             ],
             [
              0.5555555555555556,
              "#d8576b"
             ],
             [
              0.6666666666666666,
              "#ed7953"
             ],
             [
              0.7777777777777778,
              "#fb9f3a"
             ],
             [
              0.8888888888888888,
              "#fdca26"
             ],
             [
              1,
              "#f0f921"
             ]
            ],
            "type": "contour"
           }
          ],
          "contourcarpet": [
           {
            "colorbar": {
             "outlinewidth": 0,
             "ticks": ""
            },
            "type": "contourcarpet"
           }
          ],
          "heatmap": [
           {
            "colorbar": {
             "outlinewidth": 0,
             "ticks": ""
            },
            "colorscale": [
             [
              0,
              "#0d0887"
             ],
             [
              0.1111111111111111,
              "#46039f"
             ],
             [
              0.2222222222222222,
              "#7201a8"
             ],
             [
              0.3333333333333333,
              "#9c179e"
             ],
             [
              0.4444444444444444,
              "#bd3786"
             ],
             [
              0.5555555555555556,
              "#d8576b"
             ],
             [
              0.6666666666666666,
              "#ed7953"
             ],
             [
              0.7777777777777778,
              "#fb9f3a"
             ],
             [
              0.8888888888888888,
              "#fdca26"
             ],
             [
              1,
              "#f0f921"
             ]
            ],
            "type": "heatmap"
           }
          ],
          "heatmapgl": [
           {
            "colorbar": {
             "outlinewidth": 0,
             "ticks": ""
            },
            "colorscale": [
             [
              0,
              "#0d0887"
             ],
             [
              0.1111111111111111,
              "#46039f"
             ],
             [
              0.2222222222222222,
              "#7201a8"
             ],
             [
              0.3333333333333333,
              "#9c179e"
             ],
             [
              0.4444444444444444,
              "#bd3786"
             ],
             [
              0.5555555555555556,
              "#d8576b"
             ],
             [
              0.6666666666666666,
              "#ed7953"
             ],
             [
              0.7777777777777778,
              "#fb9f3a"
             ],
             [
              0.8888888888888888,
              "#fdca26"
             ],
             [
              1,
              "#f0f921"
             ]
            ],
            "type": "heatmapgl"
           }
          ],
          "histogram": [
           {
            "marker": {
             "colorbar": {
              "outlinewidth": 0,
              "ticks": ""
             }
            },
            "type": "histogram"
           }
          ],
          "histogram2d": [
           {
            "colorbar": {
             "outlinewidth": 0,
             "ticks": ""
            },
            "colorscale": [
             [
              0,
              "#0d0887"
             ],
             [
              0.1111111111111111,
              "#46039f"
             ],
             [
              0.2222222222222222,
              "#7201a8"
             ],
             [
              0.3333333333333333,
              "#9c179e"
             ],
             [
              0.4444444444444444,
              "#bd3786"
             ],
             [
              0.5555555555555556,
              "#d8576b"
             ],
             [
              0.6666666666666666,
              "#ed7953"
             ],
             [
              0.7777777777777778,
              "#fb9f3a"
             ],
             [
              0.8888888888888888,
              "#fdca26"
             ],
             [
              1,
              "#f0f921"
             ]
            ],
            "type": "histogram2d"
           }
          ],
          "histogram2dcontour": [
           {
            "colorbar": {
             "outlinewidth": 0,
             "ticks": ""
            },
            "colorscale": [
             [
              0,
              "#0d0887"
             ],
             [
              0.1111111111111111,
              "#46039f"
             ],
             [
              0.2222222222222222,
              "#7201a8"
             ],
             [
              0.3333333333333333,
              "#9c179e"
             ],
             [
              0.4444444444444444,
              "#bd3786"
             ],
             [
              0.5555555555555556,
              "#d8576b"
             ],
             [
              0.6666666666666666,
              "#ed7953"
             ],
             [
              0.7777777777777778,
              "#fb9f3a"
             ],
             [
              0.8888888888888888,
              "#fdca26"
             ],
             [
              1,
              "#f0f921"
             ]
            ],
            "type": "histogram2dcontour"
           }
          ],
          "mesh3d": [
           {
            "colorbar": {
             "outlinewidth": 0,
             "ticks": ""
            },
            "type": "mesh3d"
           }
          ],
          "parcoords": [
           {
            "line": {
             "colorbar": {
              "outlinewidth": 0,
              "ticks": ""
             }
            },
            "type": "parcoords"
           }
          ],
          "scatter": [
           {
            "marker": {
             "colorbar": {
              "outlinewidth": 0,
              "ticks": ""
             }
            },
            "type": "scatter"
           }
          ],
          "scatter3d": [
           {
            "line": {
             "colorbar": {
              "outlinewidth": 0,
              "ticks": ""
             }
            },
            "marker": {
             "colorbar": {
              "outlinewidth": 0,
              "ticks": ""
             }
            },
            "type": "scatter3d"
           }
          ],
          "scattercarpet": [
           {
            "marker": {
             "colorbar": {
              "outlinewidth": 0,
              "ticks": ""
             }
            },
            "type": "scattercarpet"
           }
          ],
          "scattergeo": [
           {
            "marker": {
             "colorbar": {
              "outlinewidth": 0,
              "ticks": ""
             }
            },
            "type": "scattergeo"
           }
          ],
          "scattergl": [
           {
            "marker": {
             "colorbar": {
              "outlinewidth": 0,
              "ticks": ""
             }
            },
            "type": "scattergl"
           }
          ],
          "scattermapbox": [
           {
            "marker": {
             "colorbar": {
              "outlinewidth": 0,
              "ticks": ""
             }
            },
            "type": "scattermapbox"
           }
          ],
          "scatterpolar": [
           {
            "marker": {
             "colorbar": {
              "outlinewidth": 0,
              "ticks": ""
             }
            },
            "type": "scatterpolar"
           }
          ],
          "scatterpolargl": [
           {
            "marker": {
             "colorbar": {
              "outlinewidth": 0,
              "ticks": ""
             }
            },
            "type": "scatterpolargl"
           }
          ],
          "scatterternary": [
           {
            "marker": {
             "colorbar": {
              "outlinewidth": 0,
              "ticks": ""
             }
            },
            "type": "scatterternary"
           }
          ],
          "surface": [
           {
            "colorbar": {
             "outlinewidth": 0,
             "ticks": ""
            },
            "colorscale": [
             [
              0,
              "#0d0887"
             ],
             [
              0.1111111111111111,
              "#46039f"
             ],
             [
              0.2222222222222222,
              "#7201a8"
             ],
             [
              0.3333333333333333,
              "#9c179e"
             ],
             [
              0.4444444444444444,
              "#bd3786"
             ],
             [
              0.5555555555555556,
              "#d8576b"
             ],
             [
              0.6666666666666666,
              "#ed7953"
             ],
             [
              0.7777777777777778,
              "#fb9f3a"
             ],
             [
              0.8888888888888888,
              "#fdca26"
             ],
             [
              1,
              "#f0f921"
             ]
            ],
            "type": "surface"
           }
          ],
          "table": [
           {
            "cells": {
             "fill": {
              "color": "#EBF0F8"
             },
             "line": {
              "color": "white"
             }
            },
            "header": {
             "fill": {
              "color": "#C8D4E3"
             },
             "line": {
              "color": "white"
             }
            },
            "type": "table"
           }
          ]
         },
         "layout": {
          "annotationdefaults": {
           "arrowcolor": "#2a3f5f",
           "arrowhead": 0,
           "arrowwidth": 1
          },
          "colorscale": {
           "diverging": [
            [
             0,
             "#8e0152"
            ],
            [
             0.1,
             "#c51b7d"
            ],
            [
             0.2,
             "#de77ae"
            ],
            [
             0.3,
             "#f1b6da"
            ],
            [
             0.4,
             "#fde0ef"
            ],
            [
             0.5,
             "#f7f7f7"
            ],
            [
             0.6,
             "#e6f5d0"
            ],
            [
             0.7,
             "#b8e186"
            ],
            [
             0.8,
             "#7fbc41"
            ],
            [
             0.9,
             "#4d9221"
            ],
            [
             1,
             "#276419"
            ]
           ],
           "sequential": [
            [
             0,
             "#0d0887"
            ],
            [
             0.1111111111111111,
             "#46039f"
            ],
            [
             0.2222222222222222,
             "#7201a8"
            ],
            [
             0.3333333333333333,
             "#9c179e"
            ],
            [
             0.4444444444444444,
             "#bd3786"
            ],
            [
             0.5555555555555556,
             "#d8576b"
            ],
            [
             0.6666666666666666,
             "#ed7953"
            ],
            [
             0.7777777777777778,
             "#fb9f3a"
            ],
            [
             0.8888888888888888,
             "#fdca26"
            ],
            [
             1,
             "#f0f921"
            ]
           ],
           "sequentialminus": [
            [
             0,
             "#0d0887"
            ],
            [
             0.1111111111111111,
             "#46039f"
            ],
            [
             0.2222222222222222,
             "#7201a8"
            ],
            [
             0.3333333333333333,
             "#9c179e"
            ],
            [
             0.4444444444444444,
             "#bd3786"
            ],
            [
             0.5555555555555556,
             "#d8576b"
            ],
            [
             0.6666666666666666,
             "#ed7953"
            ],
            [
             0.7777777777777778,
             "#fb9f3a"
            ],
            [
             0.8888888888888888,
             "#fdca26"
            ],
            [
             1,
             "#f0f921"
            ]
           ]
          },
          "colorway": [
           "#636efa",
           "#EF553B",
           "#00cc96",
           "#ab63fa",
           "#FFA15A",
           "#19d3f3",
           "#FF6692",
           "#B6E880",
           "#FF97FF",
           "#FECB52"
          ],
          "font": {
           "color": "#2a3f5f"
          },
          "geo": {
           "bgcolor": "white",
           "lakecolor": "white",
           "landcolor": "#E5ECF6",
           "showlakes": true,
           "showland": true,
           "subunitcolor": "white"
          },
          "hoverlabel": {
           "align": "left"
          },
          "hovermode": "closest",
          "mapbox": {
           "style": "light"
          },
          "paper_bgcolor": "white",
          "plot_bgcolor": "#E5ECF6",
          "polar": {
           "angularaxis": {
            "gridcolor": "white",
            "linecolor": "white",
            "ticks": ""
           },
           "bgcolor": "#E5ECF6",
           "radialaxis": {
            "gridcolor": "white",
            "linecolor": "white",
            "ticks": ""
           }
          },
          "scene": {
           "xaxis": {
            "backgroundcolor": "#E5ECF6",
            "gridcolor": "white",
            "gridwidth": 2,
            "linecolor": "white",
            "showbackground": true,
            "ticks": "",
            "zerolinecolor": "white"
           },
           "yaxis": {
            "backgroundcolor": "#E5ECF6",
            "gridcolor": "white",
            "gridwidth": 2,
            "linecolor": "white",
            "showbackground": true,
            "ticks": "",
            "zerolinecolor": "white"
           },
           "zaxis": {
            "backgroundcolor": "#E5ECF6",
            "gridcolor": "white",
            "gridwidth": 2,
            "linecolor": "white",
            "showbackground": true,
            "ticks": "",
            "zerolinecolor": "white"
           }
          },
          "shapedefaults": {
           "line": {
            "color": "#2a3f5f"
           }
          },
          "ternary": {
           "aaxis": {
            "gridcolor": "white",
            "linecolor": "white",
            "ticks": ""
           },
           "baxis": {
            "gridcolor": "white",
            "linecolor": "white",
            "ticks": ""
           },
           "bgcolor": "#E5ECF6",
           "caxis": {
            "gridcolor": "white",
            "linecolor": "white",
            "ticks": ""
           }
          },
          "title": {
           "x": 0.05
          },
          "xaxis": {
           "automargin": true,
           "gridcolor": "white",
           "linecolor": "white",
           "ticks": "",
           "zerolinecolor": "white",
           "zerolinewidth": 2
          },
          "yaxis": {
           "automargin": true,
           "gridcolor": "white",
           "linecolor": "white",
           "ticks": "",
           "zerolinecolor": "white",
           "zerolinewidth": 2
          }
         }
        }
       }
      },
      "text/html": [
       "<div>\n",
       "        \n",
       "        \n",
       "            <div id=\"e625ef8f-0375-4d1b-9e5f-a2eb79d828cb\" class=\"plotly-graph-div\" style=\"height:525px; width:100%;\"></div>\n",
       "            <script type=\"text/javascript\">\n",
       "                require([\"plotly\"], function(Plotly) {\n",
       "                    window.PLOTLYENV=window.PLOTLYENV || {};\n",
       "                    \n",
       "                if (document.getElementById(\"e625ef8f-0375-4d1b-9e5f-a2eb79d828cb\")) {\n",
       "                    Plotly.newPlot(\n",
       "                        'e625ef8f-0375-4d1b-9e5f-a2eb79d828cb',\n",
       "                        [{\"fill\": \"toself\", \"name\": \"Industry that UCSD Alumni went to\", \"opacity\": 0.5, \"r\": [608, 108, 17, 3, 31, 12, 2, 3, 1, 1, 5, 13, 1, 7, 8, 27], \"theta\": [\"Computer Software\", \"Internet\", \"Higher Education\", \"Management Consulting\", \"Information Technology & Services\", \"Financial Services\", \"Marketing & Advertising\", \"Semiconductors\", \"Investment Management\", \"Consumer Electronics\", \"Computer Hardware\", \"Research\", \"Investment Banking/Venture\", \"Computer Networking\", \"Electrical & Electronic Manufacturing\", \"Others\"], \"type\": \"scatterpolar\"}],\n",
       "                        {\"polar\": {\"radialaxis\": {\"range\": [0, 25], \"visible\": true}}, \"showlegend\": true, \"template\": {\"data\": {\"bar\": [{\"error_x\": {\"color\": \"#2a3f5f\"}, \"error_y\": {\"color\": \"#2a3f5f\"}, \"marker\": {\"line\": {\"color\": \"#E5ECF6\", \"width\": 0.5}}, \"type\": \"bar\"}], \"barpolar\": [{\"marker\": {\"line\": {\"color\": \"#E5ECF6\", \"width\": 0.5}}, \"type\": \"barpolar\"}], \"carpet\": [{\"aaxis\": {\"endlinecolor\": \"#2a3f5f\", \"gridcolor\": \"white\", \"linecolor\": \"white\", \"minorgridcolor\": \"white\", \"startlinecolor\": \"#2a3f5f\"}, \"baxis\": {\"endlinecolor\": \"#2a3f5f\", \"gridcolor\": \"white\", \"linecolor\": \"white\", \"minorgridcolor\": \"white\", \"startlinecolor\": \"#2a3f5f\"}, \"type\": \"carpet\"}], \"choropleth\": [{\"colorbar\": {\"outlinewidth\": 0, \"ticks\": \"\"}, \"type\": \"choropleth\"}], \"contour\": [{\"colorbar\": {\"outlinewidth\": 0, \"ticks\": \"\"}, \"colorscale\": [[0.0, \"#0d0887\"], [0.1111111111111111, \"#46039f\"], [0.2222222222222222, \"#7201a8\"], [0.3333333333333333, \"#9c179e\"], [0.4444444444444444, \"#bd3786\"], [0.5555555555555556, \"#d8576b\"], [0.6666666666666666, \"#ed7953\"], [0.7777777777777778, \"#fb9f3a\"], [0.8888888888888888, \"#fdca26\"], [1.0, \"#f0f921\"]], \"type\": \"contour\"}], \"contourcarpet\": [{\"colorbar\": {\"outlinewidth\": 0, \"ticks\": \"\"}, \"type\": \"contourcarpet\"}], \"heatmap\": [{\"colorbar\": {\"outlinewidth\": 0, \"ticks\": \"\"}, \"colorscale\": [[0.0, \"#0d0887\"], [0.1111111111111111, \"#46039f\"], [0.2222222222222222, \"#7201a8\"], [0.3333333333333333, \"#9c179e\"], [0.4444444444444444, \"#bd3786\"], [0.5555555555555556, \"#d8576b\"], [0.6666666666666666, \"#ed7953\"], [0.7777777777777778, \"#fb9f3a\"], [0.8888888888888888, \"#fdca26\"], [1.0, \"#f0f921\"]], \"type\": \"heatmap\"}], \"heatmapgl\": [{\"colorbar\": {\"outlinewidth\": 0, \"ticks\": \"\"}, \"colorscale\": [[0.0, \"#0d0887\"], [0.1111111111111111, \"#46039f\"], [0.2222222222222222, \"#7201a8\"], [0.3333333333333333, \"#9c179e\"], [0.4444444444444444, \"#bd3786\"], [0.5555555555555556, \"#d8576b\"], [0.6666666666666666, \"#ed7953\"], [0.7777777777777778, \"#fb9f3a\"], [0.8888888888888888, \"#fdca26\"], [1.0, \"#f0f921\"]], \"type\": \"heatmapgl\"}], \"histogram\": [{\"marker\": {\"colorbar\": {\"outlinewidth\": 0, \"ticks\": \"\"}}, \"type\": \"histogram\"}], \"histogram2d\": [{\"colorbar\": {\"outlinewidth\": 0, \"ticks\": \"\"}, \"colorscale\": [[0.0, \"#0d0887\"], [0.1111111111111111, \"#46039f\"], [0.2222222222222222, \"#7201a8\"], [0.3333333333333333, \"#9c179e\"], [0.4444444444444444, \"#bd3786\"], [0.5555555555555556, \"#d8576b\"], [0.6666666666666666, \"#ed7953\"], [0.7777777777777778, \"#fb9f3a\"], [0.8888888888888888, \"#fdca26\"], [1.0, \"#f0f921\"]], \"type\": \"histogram2d\"}], \"histogram2dcontour\": [{\"colorbar\": {\"outlinewidth\": 0, \"ticks\": \"\"}, \"colorscale\": [[0.0, \"#0d0887\"], [0.1111111111111111, \"#46039f\"], [0.2222222222222222, \"#7201a8\"], [0.3333333333333333, \"#9c179e\"], [0.4444444444444444, \"#bd3786\"], [0.5555555555555556, \"#d8576b\"], [0.6666666666666666, \"#ed7953\"], [0.7777777777777778, \"#fb9f3a\"], [0.8888888888888888, \"#fdca26\"], [1.0, \"#f0f921\"]], \"type\": \"histogram2dcontour\"}], \"mesh3d\": [{\"colorbar\": {\"outlinewidth\": 0, \"ticks\": \"\"}, \"type\": \"mesh3d\"}], \"parcoords\": [{\"line\": {\"colorbar\": {\"outlinewidth\": 0, \"ticks\": \"\"}}, \"type\": \"parcoords\"}], \"scatter\": [{\"marker\": {\"colorbar\": {\"outlinewidth\": 0, \"ticks\": \"\"}}, \"type\": \"scatter\"}], \"scatter3d\": [{\"line\": {\"colorbar\": {\"outlinewidth\": 0, \"ticks\": \"\"}}, \"marker\": {\"colorbar\": {\"outlinewidth\": 0, \"ticks\": \"\"}}, \"type\": \"scatter3d\"}], \"scattercarpet\": [{\"marker\": {\"colorbar\": {\"outlinewidth\": 0, \"ticks\": \"\"}}, \"type\": \"scattercarpet\"}], \"scattergeo\": [{\"marker\": {\"colorbar\": {\"outlinewidth\": 0, \"ticks\": \"\"}}, \"type\": \"scattergeo\"}], \"scattergl\": [{\"marker\": {\"colorbar\": {\"outlinewidth\": 0, \"ticks\": \"\"}}, \"type\": \"scattergl\"}], \"scattermapbox\": [{\"marker\": {\"colorbar\": {\"outlinewidth\": 0, \"ticks\": \"\"}}, \"type\": \"scattermapbox\"}], \"scatterpolar\": [{\"marker\": {\"colorbar\": {\"outlinewidth\": 0, \"ticks\": \"\"}}, \"type\": \"scatterpolar\"}], \"scatterpolargl\": [{\"marker\": {\"colorbar\": {\"outlinewidth\": 0, \"ticks\": \"\"}}, \"type\": \"scatterpolargl\"}], \"scatterternary\": [{\"marker\": {\"colorbar\": {\"outlinewidth\": 0, \"ticks\": \"\"}}, \"type\": \"scatterternary\"}], \"surface\": [{\"colorbar\": {\"outlinewidth\": 0, \"ticks\": \"\"}, \"colorscale\": [[0.0, \"#0d0887\"], [0.1111111111111111, \"#46039f\"], [0.2222222222222222, \"#7201a8\"], [0.3333333333333333, \"#9c179e\"], [0.4444444444444444, \"#bd3786\"], [0.5555555555555556, \"#d8576b\"], [0.6666666666666666, \"#ed7953\"], [0.7777777777777778, \"#fb9f3a\"], [0.8888888888888888, \"#fdca26\"], [1.0, \"#f0f921\"]], \"type\": \"surface\"}], \"table\": [{\"cells\": {\"fill\": {\"color\": \"#EBF0F8\"}, \"line\": {\"color\": \"white\"}}, \"header\": {\"fill\": {\"color\": \"#C8D4E3\"}, \"line\": {\"color\": \"white\"}}, \"type\": \"table\"}]}, \"layout\": {\"annotationdefaults\": {\"arrowcolor\": \"#2a3f5f\", \"arrowhead\": 0, \"arrowwidth\": 1}, \"colorscale\": {\"diverging\": [[0, \"#8e0152\"], [0.1, \"#c51b7d\"], [0.2, \"#de77ae\"], [0.3, \"#f1b6da\"], [0.4, \"#fde0ef\"], [0.5, \"#f7f7f7\"], [0.6, \"#e6f5d0\"], [0.7, \"#b8e186\"], [0.8, \"#7fbc41\"], [0.9, \"#4d9221\"], [1, \"#276419\"]], \"sequential\": [[0.0, \"#0d0887\"], [0.1111111111111111, \"#46039f\"], [0.2222222222222222, \"#7201a8\"], [0.3333333333333333, \"#9c179e\"], [0.4444444444444444, \"#bd3786\"], [0.5555555555555556, \"#d8576b\"], [0.6666666666666666, \"#ed7953\"], [0.7777777777777778, \"#fb9f3a\"], [0.8888888888888888, \"#fdca26\"], [1.0, \"#f0f921\"]], \"sequentialminus\": [[0.0, \"#0d0887\"], [0.1111111111111111, \"#46039f\"], [0.2222222222222222, \"#7201a8\"], [0.3333333333333333, \"#9c179e\"], [0.4444444444444444, \"#bd3786\"], [0.5555555555555556, \"#d8576b\"], [0.6666666666666666, \"#ed7953\"], [0.7777777777777778, \"#fb9f3a\"], [0.8888888888888888, \"#fdca26\"], [1.0, \"#f0f921\"]]}, \"colorway\": [\"#636efa\", \"#EF553B\", \"#00cc96\", \"#ab63fa\", \"#FFA15A\", \"#19d3f3\", \"#FF6692\", \"#B6E880\", \"#FF97FF\", \"#FECB52\"], \"font\": {\"color\": \"#2a3f5f\"}, \"geo\": {\"bgcolor\": \"white\", \"lakecolor\": \"white\", \"landcolor\": \"#E5ECF6\", \"showlakes\": true, \"showland\": true, \"subunitcolor\": \"white\"}, \"hoverlabel\": {\"align\": \"left\"}, \"hovermode\": \"closest\", \"mapbox\": {\"style\": \"light\"}, \"paper_bgcolor\": \"white\", \"plot_bgcolor\": \"#E5ECF6\", \"polar\": {\"angularaxis\": {\"gridcolor\": \"white\", \"linecolor\": \"white\", \"ticks\": \"\"}, \"bgcolor\": \"#E5ECF6\", \"radialaxis\": {\"gridcolor\": \"white\", \"linecolor\": \"white\", \"ticks\": \"\"}}, \"scene\": {\"xaxis\": {\"backgroundcolor\": \"#E5ECF6\", \"gridcolor\": \"white\", \"gridwidth\": 2, \"linecolor\": \"white\", \"showbackground\": true, \"ticks\": \"\", \"zerolinecolor\": \"white\"}, \"yaxis\": {\"backgroundcolor\": \"#E5ECF6\", \"gridcolor\": \"white\", \"gridwidth\": 2, \"linecolor\": \"white\", \"showbackground\": true, \"ticks\": \"\", \"zerolinecolor\": \"white\"}, \"zaxis\": {\"backgroundcolor\": \"#E5ECF6\", \"gridcolor\": \"white\", \"gridwidth\": 2, \"linecolor\": \"white\", \"showbackground\": true, \"ticks\": \"\", \"zerolinecolor\": \"white\"}}, \"shapedefaults\": {\"line\": {\"color\": \"#2a3f5f\"}}, \"ternary\": {\"aaxis\": {\"gridcolor\": \"white\", \"linecolor\": \"white\", \"ticks\": \"\"}, \"baxis\": {\"gridcolor\": \"white\", \"linecolor\": \"white\", \"ticks\": \"\"}, \"bgcolor\": \"#E5ECF6\", \"caxis\": {\"gridcolor\": \"white\", \"linecolor\": \"white\", \"ticks\": \"\"}}, \"title\": {\"x\": 0.05}, \"xaxis\": {\"automargin\": true, \"gridcolor\": \"white\", \"linecolor\": \"white\", \"ticks\": \"\", \"zerolinecolor\": \"white\", \"zerolinewidth\": 2}, \"yaxis\": {\"automargin\": true, \"gridcolor\": \"white\", \"linecolor\": \"white\", \"ticks\": \"\", \"zerolinecolor\": \"white\", \"zerolinewidth\": 2}}}},\n",
       "                        {\"responsive\": true}\n",
       "                    ).then(function(){\n",
       "                            \n",
       "var gd = document.getElementById('e625ef8f-0375-4d1b-9e5f-a2eb79d828cb');\n",
       "var x = new MutationObserver(function (mutations, observer) {{\n",
       "        var display = window.getComputedStyle(gd).display;\n",
       "        if (!display || display === 'none') {{\n",
       "            console.log([gd, 'removed!']);\n",
       "            Plotly.purge(gd);\n",
       "            observer.disconnect();\n",
       "        }}\n",
       "}});\n",
       "\n",
       "// Listen for the removal of the full notebook cells\n",
       "var notebookContainer = gd.closest('#notebook-container');\n",
       "if (notebookContainer) {{\n",
       "    x.observe(notebookContainer, {childList: true});\n",
       "}}\n",
       "\n",
       "// Listen for the clearing of the current output cell\n",
       "var outputEl = gd.closest('.output');\n",
       "if (outputEl) {{\n",
       "    x.observe(outputEl, {childList: true});\n",
       "}}\n",
       "\n",
       "                        })\n",
       "                };\n",
       "                });\n",
       "            </script>\n",
       "        </div>"
      ]
     },
     "metadata": {},
     "output_type": "display_data"
    }
   ],
   "source": [
    "if __name__ == '__main__':\n",
    "    #=============== Set up the data ===================#\n",
    "    industries, number = seperateData(industry)\n",
    "    print(industries)\n",
    "    industries, number = getHighest(industries, number, 15)  # Only display the top NO.15 industries\n",
    "    \n",
    "    #============== Set up the Figures =================#\n",
    "    fig = go.Figure()\n",
    "    fig.add_trace(go.Scatterpolar(\n",
    "      r=number,\n",
    "      theta=industries,\n",
    "      fill='toself',\n",
    "      name='Industry that UCSD Alumni went to',\n",
    "      opacity  = 0.5, # Set up the opacity of the figure\n",
    "    ))\n",
    "    \n",
    "    fig.update_layout(\n",
    "    polar=dict(\n",
    "    radialaxis=dict(\n",
    "      visible=True,\n",
    "      range=[0, 25]\n",
    "    )),\n",
    "    showlegend=True\n",
    "        \n",
    ")\n",
    "    fig.show()"
   ]
  },
  {
   "cell_type": "markdown",
   "metadata": {},
   "source": [
    "### d. Location that UCSD Alumni went to"
   ]
  },
  {
   "cell_type": "code",
   "execution_count": 47,
   "metadata": {},
   "outputs": [
    {
     "name": "stdout",
     "output_type": "stream",
     "text": [
      "{'725': '06073', '5': '06075', '17': '63000', '1': '17043', '4': '06086', '6': '06087'}\n"
     ]
    },
    {
     "data": {
      "application/vnd.plotly.v1+json": {
       "config": {
        "plotlyServerURL": "https://plot.ly"
       },
       "data": [
        {
         "fill": "toself",
         "fillcolor": "rgb(68, 1, 84)",
         "hoverinfo": "none",
         "line": {
          "color": "rgb(155,155,255)",
          "width": 1
         },
         "mode": "lines",
         "name": "0",
         "type": "scatter",
         "x": [
          -117.596147232519,
          -117.57848,
          -117.508614,
          -117.509722,
          -117.364272,
          -117.241271,
          -116.085165,
          -116.10618141881301,
          -117.12486200000001,
          -117.168866,
          -117.246069,
          -117.28217000000001,
          -117.25447,
          -117.328359,
          -117.505919,
          -117.596147232519,
          null
         ],
         "y": [
          33.3871676935322,
          33.453927,
          33.469614,
          33.505019,
          33.505024999999996,
          33.431993,
          33.425931999999996,
          32.6186413746915,
          32.534155999999996,
          32.671952,
          32.669351999999996,
          32.839546999999996,
          32.900146,
          33.121842,
          33.333253,
          33.3871676935322,
          null
         ]
        },
        {
         "fill": "toself",
         "fillcolor": "rgb(71, 45, 123)",
         "hoverinfo": "none",
         "line": {
          "color": "rgb(155,155,255)",
          "width": 1
         },
         "mode": "lines",
         "name": "1",
         "type": "scatter",
         "x": [],
         "y": []
        },
        {
         "fill": "toself",
         "fillcolor": "rgb(59, 82, 139)",
         "hoverinfo": "none",
         "line": {
          "color": "rgb(155,155,255)",
          "width": 1
         },
         "mode": "lines",
         "name": "2",
         "type": "scatter",
         "x": [
          -122.31768199999999,
          -122.152774,
          -122.152278,
          -122.026107,
          -121.75492,
          -121.718762,
          -121.738697,
          -121.581354,
          -121.725594,
          -121.810551858284,
          -121.930069,
          -122.105976,
          -122.223799,
          -122.31768199999999,
          null
         ],
         "y": [
          37.186945,
          37.215444,
          37.286055,
          37.16681,
          37.048449999999995,
          37.007557,
          36.989990999999996,
          36.899152,
          36.914345,
          36.8506482495196,
          36.97815,
          36.955951,
          37.025672,
          37.186945,
          null
         ]
        },
        {
         "fill": "toself",
         "fillcolor": "rgb(38, 130, 142)",
         "hoverinfo": "none",
         "line": {
          "color": "rgb(155,155,255)",
          "width": 1
         },
         "mode": "lines",
         "name": "3",
         "type": "scatter",
         "x": [
          -123.013916,
          -123.003507,
          -122.99875399999999,
          -123.002794,
          -123.013916,
          null,
          -122.33204578072701,
          -122.327561619753,
          -122.33227,
          -122.33204578072701,
          null,
          -122.377679,
          -122.362911,
          -122.36229399999999,
          -122.372836,
          -122.377679,
          null,
          -122.420365736738,
          -122.41847,
          -122.419827349401,
          -122.420365736738,
          null,
          -122.514483,
          -122.407452,
          -122.360238,
          -122.502426880724,
          -122.514483,
          null
         ],
         "y": [
          37.700355,
          37.704395999999996,
          37.697438,
          37.692736,
          37.700355,
          null,
          37.7877603470098,
          37.7806441119025,
          37.781517,
          37.7877603470098,
          null,
          37.830459999999995,
          37.822696,
          37.807016,
          37.811068,
          37.830459999999995,
          null,
          37.863342297173695,
          37.861764,
          37.8600830082779,
          37.863342297173695,
          null,
          37.780829,
          37.811440999999995,
          37.719421,
          37.7081329861058,
          37.780829,
          null
         ]
        },
        {
         "fill": "toself",
         "fillcolor": "rgb(31, 160, 136)",
         "hoverinfo": "none",
         "line": {
          "color": "rgb(155,155,255)",
          "width": 1
         },
         "mode": "lines",
         "name": "4",
         "type": "scatter",
         "x": [
          -123.013916,
          -123.003507,
          -122.99875399999999,
          -123.002794,
          -123.013916,
          null,
          -122.33204578072701,
          -122.327561619753,
          -122.33227,
          -122.33204578072701,
          null,
          -122.377679,
          -122.362911,
          -122.36229399999999,
          -122.372836,
          -122.377679,
          null,
          -122.420365736738,
          -122.41847,
          -122.419827349401,
          -122.420365736738,
          null,
          -122.514483,
          -122.407452,
          -122.360238,
          -122.502426880724,
          -122.514483,
          null
         ],
         "y": [
          37.700355,
          37.704395999999996,
          37.697438,
          37.692736,
          37.700355,
          null,
          37.7877603470098,
          37.7806441119025,
          37.781517,
          37.7877603470098,
          null,
          37.830459999999995,
          37.822696,
          37.807016,
          37.811068,
          37.830459999999995,
          null,
          37.863342297173695,
          37.861764,
          37.8600830082779,
          37.863342297173695,
          null,
          37.780829,
          37.811440999999995,
          37.719421,
          37.7081329861058,
          37.780829,
          null
         ]
        },
        {
         "fill": "toself",
         "fillcolor": "rgb(94, 201, 98)",
         "hoverinfo": "none",
         "line": {
          "color": "rgb(155,155,255)",
          "width": 1
         },
         "mode": "lines",
         "name": "5",
         "type": "scatter",
         "x": [],
         "y": []
        },
        {
         "fill": "toself",
         "fillcolor": "rgb(173, 220, 48)",
         "hoverinfo": "none",
         "line": {
          "color": "rgb(155,155,255)",
          "width": 1
         },
         "mode": "lines",
         "name": "6",
         "type": "scatter",
         "x": [
          -88.263176,
          -87.92067,
          -87.914265,
          -88.026752,
          -88.03056099999999,
          -88.261952,
          -88.263176,
          null
         ],
         "y": [
          41.974644,
          41.994031,
          41.716746,
          41.685369,
          41.72893,
          41.724652,
          41.974644,
          null
         ]
        },
        {
         "fill": "toself",
         "fillcolor": "rgb(253, 231, 37)",
         "hoverinfo": "none",
         "line": {
          "color": "rgb(155,155,255)",
          "width": 1
         },
         "mode": "lines",
         "name": "7",
         "type": "scatter",
         "x": [
          -88.263176,
          -87.92067,
          -87.914265,
          -88.026752,
          -88.03056099999999,
          -88.261952,
          -88.263176,
          null
         ],
         "y": [
          41.974644,
          41.994031,
          41.716746,
          41.685369,
          41.72893,
          41.724652,
          41.974644,
          null
         ]
        },
        {
         "hoverinfo": "text",
         "legendgroup": "centroids",
         "marker": {
          "color": "white",
          "opacity": 0
         },
         "mode": "markers",
         "name": "US Counties",
         "selected": {
          "marker": {
           "color": "white",
           "opacity": 1,
           "size": 3
          }
         },
         "showlegend": false,
         "text": [
          "County: San Francisco<br>State: California<br>FIPS: 06075<br>Value: 4",
          "County: San Francisco<br>State: California<br>FIPS: 06075<br>Value: 4",
          "County: San Francisco<br>State: California<br>FIPS: 06075<br>Value: 4",
          "County: San Francisco<br>State: California<br>FIPS: 06075<br>Value: 4",
          "County: San Francisco<br>State: California<br>FIPS: 06075<br>Value: 4",
          "County: San Francisco<br>State: California<br>FIPS: 06075<br>Value: 3",
          "County: San Francisco<br>State: California<br>FIPS: 06075<br>Value: 3",
          "County: San Francisco<br>State: California<br>FIPS: 06075<br>Value: 3",
          "County: San Francisco<br>State: California<br>FIPS: 06075<br>Value: 3",
          "County: San Francisco<br>State: California<br>FIPS: 06075<br>Value: 3",
          "County: San Diego<br>State: California<br>FIPS: 06073<br>Value: 0",
          "County: Santa Cruz<br>State: California<br>FIPS: 06087<br>Value: 2",
          "County: DuPage<br>State: Illinois<br>FIPS: 17043<br>Value: 6",
          "County: DuPage<br>State: Illinois<br>FIPS: 17043<br>Value: 7"
         ],
         "type": "scatter",
         "unselected": {
          "marker": {
           "opacity": 0
          }
         },
         "x": [
          [
           -123.00529439291685
          ],
          [
           -122.33062580015999
          ],
          [
           -122.36897731254817
          ],
          [
           -122.41954035391676
          ],
          [
           -122.4408700569418
          ],
          [
           -123.00529439291685
          ],
          [
           -122.33062580015999
          ],
          [
           -122.36897731254817
          ],
          [
           -122.41954035391676
          ],
          [
           -122.4408700569418
          ],
          -116.73529316484134,
          -122.00183000196053,
          -88.08563348856732,
          -88.08563348856732
         ],
         "y": [
          [
           37.698262123124536
          ],
          [
           37.78330715297076
          ],
          [
           37.819750171626495
          ],
          [
           37.86191467461643
          ],
          [
           37.75512499012593
          ],
          [
           37.698262123124536
          ],
          [
           37.78330715297076
          ],
          [
           37.819750171626495
          ],
          [
           37.86191467461643
          ],
          [
           37.75512499012593
          ],
          33.03413701794012,
          37.05617890779834,
          41.85194704762981,
          41.85194704762981
         ]
        },
        {
         "hoverinfo": "text",
         "legendgroup": "States",
         "line": {
          "color": "rgb(240, 240, 240)",
          "width": 1
         },
         "mode": "lines",
         "showlegend": false,
         "type": "scatter",
         "x": [
          -118.604415,
          -118.370323,
          -118.305084,
          -118.465368,
          -118.48875,
          -118.575394,
          -118.604415,
          null,
          -118.6105,
          -118.573897,
          -118.354185,
          -118.431809,
          -118.50620599999999,
          -118.6105,
          null,
          -119.052774,
          -119.049684,
          -119.031145,
          -119.03233399999999,
          -119.052774,
          null,
          -119.441226,
          -119.396251,
          -119.373406,
          -119.357462,
          -119.441226,
          null,
          -119.577271,
          -119.528778,
          -119.434402,
          -119.546212,
          -119.577271,
          null,
          -119.929889,
          -119.759428,
          -119.637742,
          -119.584301,
          -119.52064,
          -119.560464,
          -119.818249,
          -119.873358,
          -119.876329,
          -119.929889,
          null,
          -120.249536,
          -120.043259,
          -120.046575,
          -119.980156,
          -119.968636,
          -120.11588499999999,
          -120.249536,
          null,
          -120.450064,
          -120.368278,
          -120.307219,
          -120.35793,
          -120.450064,
          null,
          -122.377679,
          -122.362911,
          -122.36229399999999,
          -122.372836,
          -122.377679,
          null,
          -122.446316,
          -122.424651,
          -122.41847,
          -122.441271,
          -122.446316,
          null,
          -123.013916,
          -123.003507,
          -122.99875399999999,
          -123.002794,
          -123.013916,
          null,
          -124.217495,
          -124.216181,
          -124.213021,
          -124.215001,
          -124.217495,
          null,
          -124.408601,
          -124.158322,
          -124.111756,
          -124.153622,
          -124.165414,
          -124.106986,
          -124.066057,
          -124.147412,
          -124.254954,
          -124.208439,
          -124.21160499999999,
          -119.999168,
          -120.001014,
          -117.500117,
          -114.633487,
          -114.634382,
          -114.470477,
          -114.436466,
          -114.380838,
          -114.386699,
          -114.176909,
          -114.131211,
          -114.434181,
          -114.438266,
          -114.535478,
          -114.50792,
          -114.52805,
          -114.494197,
          -114.53152299999999,
          -114.524599,
          -114.643302,
          -114.72528199999999,
          -114.698035,
          -114.731223,
          -114.672088,
          -114.706488,
          -114.66506,
          -114.52013,
          -114.469039,
          -114.468971,
          -114.530755,
          -114.526856,
          -114.618373,
          -114.701918,
          -114.719633,
          -117.12486200000001,
          -117.168866,
          -117.246069,
          -117.28217000000001,
          -117.25447,
          -117.328359,
          -117.46979400000001,
          -117.652692,
          -117.714617,
          -117.784888,
          -118.132698,
          -118.18035,
          -118.183342,
          -118.269645,
          -118.411211,
          -118.42840699999999,
          -118.391103,
          -118.519514,
          -118.744952,
          -118.806367,
          -119.129252,
          -119.216441,
          -119.278644,
          -119.563986,
          -119.878199,
          -120.008077,
          -120.141165,
          -120.452811,
          -120.511421,
          -120.63672199999999,
          -120.60045,
          -120.637415,
          -120.610266,
          -120.672269,
          -120.629931,
          -120.644311,
          -120.856047,
          -120.8996,
          -120.862684,
          -120.88475700000001,
          -121.003359,
          -121.166712,
          -121.28653,
          -121.332449,
          -121.46491,
          -121.503112,
          -121.574602,
          -121.717176,
          -121.902729,
          -121.903195,
          -121.95447300000001,
          -121.925937,
          -121.932508,
          -121.978714,
          -121.93643,
          -121.860604,
          -121.81446199999999,
          -121.78827799999999,
          -121.862266,
          -121.930069,
          -122.06642099999999,
          -122.135161,
          -122.405073,
          -122.40084999999999,
          -122.459577,
          -122.499289,
          -122.519533,
          -122.494085,
          -122.514483,
          -122.478083,
          -122.385323,
          -122.356784,
          -122.39319,
          -122.389313,
          -122.355627,
          -122.378545,
          -122.136422,
          -122.08874,
          -122.038599,
          -122.055541,
          -122.10942,
          -122.170648,
          -122.252172,
          -122.24394699999999,
          -122.33227,
          -122.342253,
          -122.296618,
          -122.311399,
          -122.390546,
          -122.430087,
          -122.367582,
          -122.367909,
          -122.283478,
          -122.262861,
          -122.282824,
          -122.393588,
          -122.489974,
          -122.497828,
          -122.447304,
          -122.495553,
          -122.479512,
          -122.50506,
          -122.438268,
          -122.457999,
          -122.501019,
          -122.472736,
          -122.527399,
          -122.641963,
          -122.72518099999999,
          -122.856573,
          -122.939711,
          -122.981776,
          -122.963544,
          -123.024066,
          -122.949074,
          -122.995631,
          -122.972101,
          -122.977082,
          -123.024333,
          -123.063671,
          -123.128825,
          -123.33189899999999,
          -123.441774,
          -123.727976,
          -123.74192099999999,
          -123.69124,
          -123.827716,
          -123.766475,
          -123.851714,
          -124.079983,
          -124.11054899999999,
          -124.360604,
          -124.347853,
          -124.408601,
          null,
          null
         ],
         "y": [
          33.478552,
          33.409285,
          33.310323,
          33.326056,
          33.419826,
          33.440179,
          33.478552,
          null,
          33.032941,
          33.03055,
          32.820918999999996,
          32.801462,
          32.852985,
          33.032941,
          null,
          33.46586,
          33.483900999999996,
          33.489649,
          33.468834,
          33.46586,
          null,
          34.014075,
          34.005918,
          34.015440999999996,
          34.015919,
          34.014075,
          null,
          33.278582,
          33.285416999999995,
          33.227021,
          33.232561,
          33.278582,
          null,
          34.059734,
          34.058835,
          34.013177999999996,
          34.053643,
          34.034262,
          33.995529999999995,
          33.959858,
          33.980374999999995,
          34.032087,
          34.059734,
          null,
          34.002477,
          34.035806,
          34.000001999999995,
          33.983653,
          33.942878,
          33.894360999999996,
          34.002477,
          null,
          34.034194,
          34.076465,
          34.022375,
          34.015029,
          34.034194,
          null,
          37.830459999999995,
          37.822696,
          37.807016,
          37.811068,
          37.830459999999995,
          null,
          37.861046,
          37.870736,
          37.852720999999995,
          37.855142,
          37.861046,
          null,
          37.700355,
          37.704395999999996,
          37.697438,
          37.692736,
          37.700355,
          null,
          41.95081,
          41.952211999999996,
          41.951023,
          41.949734,
          41.95081,
          null,
          40.443200999999995,
          40.876069,
          41.026883,
          41.05355,
          41.129822,
          41.229678,
          41.470258,
          41.717954999999996,
          41.778169999999996,
          41.888192,
          41.99846,
          41.99454,
          38.999573999999996,
          37.22038,
          35.001857,
          34.87289,
          34.711368,
          34.595400000000005,
          34.529724,
          34.457910999999996,
          34.349306,
          34.26273,
          34.087379,
          34.022608999999996,
          33.934650999999995,
          33.903807,
          33.814963,
          33.707921999999996,
          33.675108,
          33.552231,
          33.416745,
          33.405048,
          33.352441999999996,
          33.302434,
          33.258499,
          33.08816,
          33.033908,
          33.029984,
          32.972294999999995,
          32.845155,
          32.793485,
          32.757093999999995,
          32.728245,
          32.745548,
          32.718762999999996,
          32.534155999999996,
          32.671952,
          32.669351999999996,
          32.839546999999996,
          32.900146,
          33.121842,
          33.296417,
          33.446154,
          33.459914,
          33.541525,
          33.753217,
          33.763413,
          33.723186,
          33.704029999999996,
          33.741985,
          33.774715,
          33.838771,
          34.027509,
          34.032103,
          34.000198,
          34.10084,
          34.146105,
          34.266902,
          34.41532,
          34.406912999999996,
          34.460446999999995,
          34.473405,
          34.442442,
          34.522953,
          34.560967,
          34.70464,
          34.755894999999995,
          34.85818,
          34.90254,
          35.061515,
          35.139616,
          35.206486999999996,
          35.255337,
          35.346776,
          35.430195999999995,
          35.46071,
          35.635399,
          35.665524,
          35.783106,
          35.888456999999995,
          36.000299,
          36.025155999999996,
          36.195146,
          36.306379,
          36.393603,
          36.518904,
          36.525172999999995,
          36.559934999999996,
          36.581488,
          36.636745999999995,
          36.611135999999995,
          36.682857999999996,
          36.803993999999996,
          36.931551999999996,
          36.97815,
          36.948271,
          36.967774,
          37.195791,
          37.359224999999995,
          37.492731,
          37.495340999999996,
          37.537302,
          37.644034999999995,
          37.780829,
          37.810828,
          37.790724,
          37.729504999999996,
          37.707530999999996,
          37.640193,
          37.615293,
          37.605592,
          37.507576,
          37.452267,
          37.454622,
          37.49523,
          37.500254,
          37.678503,
          37.724952,
          37.751779,
          37.781517,
          37.805558,
          37.828465,
          37.895793999999995,
          37.90911,
          37.963114999999995,
          37.978168,
          38.01253,
          38.022673999999995,
          38.0446,
          38.082889,
          38.143449,
          38.112013999999995,
          38.019402,
          37.984387,
          37.970523,
          37.942526,
          37.936414,
          37.880973999999995,
          37.861768999999995,
          37.893662,
          37.831927,
          37.814947,
          37.897507,
          37.902691,
          38.016717,
          38.031908,
          38.009119,
          37.989914,
          37.994878,
          38.15406,
          38.238626,
          38.232652,
          38.267902,
          38.310573,
          38.302178,
          38.450418,
          38.565542,
          38.699743999999995,
          38.919429,
          38.956227999999996,
          39.050795,
          39.348433,
          39.552803,
          39.832041,
          40.029773,
          40.103764999999996,
          40.257206,
          40.314634,
          40.443200999999995,
          null,
          null
         ]
        }
       ],
       "layout": {
        "annotations": [
         {
          "showarrow": false,
          "text": "<b></b>",
          "x": 1,
          "xanchor": "right",
          "xref": "paper",
          "y": 1.05,
          "yref": "paper"
         }
        ],
        "dragmode": "select",
        "height": 450,
        "hovermode": "closest",
        "legend": {
         "traceorder": "reversed",
         "x": 1,
         "xanchor": "right",
         "y": 1,
         "yanchor": "top"
        },
        "margin": {
         "b": 20,
         "l": 20,
         "r": 20,
         "t": 40
        },
        "width": 900,
        "xaxis": {
         "autorange": false,
         "fixedrange": true,
         "range": [
          -124.408601,
          -87.914265
         ],
         "showgrid": false,
         "showticklabels": false,
         "zeroline": false
        },
        "yaxis": {
         "autorange": false,
         "fixedrange": true,
         "range": [
          29.967440799999995,
          44.5651752
         ],
         "showgrid": false,
         "showticklabels": false,
         "zeroline": false
        }
       }
      },
      "text/html": [
       "<div>\n",
       "        \n",
       "        \n",
       "            <div id=\"c8a803f4-a719-4206-9066-0f91da7c764c\" class=\"plotly-graph-div\" style=\"height:450px; width:900px;\"></div>\n",
       "            <script type=\"text/javascript\">\n",
       "                require([\"plotly\"], function(Plotly) {\n",
       "                    window.PLOTLYENV=window.PLOTLYENV || {};\n",
       "                    \n",
       "                if (document.getElementById(\"c8a803f4-a719-4206-9066-0f91da7c764c\")) {\n",
       "                    Plotly.newPlot(\n",
       "                        'c8a803f4-a719-4206-9066-0f91da7c764c',\n",
       "                        [{\"fill\": \"toself\", \"fillcolor\": \"rgb(68, 1, 84)\", \"hoverinfo\": \"none\", \"line\": {\"color\": \"rgb(155,155,255)\", \"width\": 1}, \"mode\": \"lines\", \"name\": \"0\", \"type\": \"scatter\", \"x\": [-117.596147232519, -117.57848, -117.508614, -117.509722, -117.364272, -117.241271, -116.085165, -116.10618141881301, -117.12486200000001, -117.168866, -117.246069, -117.28217000000001, -117.25447, -117.328359, -117.505919, -117.596147232519, null], \"y\": [33.3871676935322, 33.453927, 33.469614, 33.505019, 33.505024999999996, 33.431993, 33.425931999999996, 32.6186413746915, 32.534155999999996, 32.671952, 32.669351999999996, 32.839546999999996, 32.900146, 33.121842, 33.333253, 33.3871676935322, null]}, {\"fill\": \"toself\", \"fillcolor\": \"rgb(71, 45, 123)\", \"hoverinfo\": \"none\", \"line\": {\"color\": \"rgb(155,155,255)\", \"width\": 1}, \"mode\": \"lines\", \"name\": \"1\", \"type\": \"scatter\", \"x\": [], \"y\": []}, {\"fill\": \"toself\", \"fillcolor\": \"rgb(59, 82, 139)\", \"hoverinfo\": \"none\", \"line\": {\"color\": \"rgb(155,155,255)\", \"width\": 1}, \"mode\": \"lines\", \"name\": \"2\", \"type\": \"scatter\", \"x\": [-122.31768199999999, -122.152774, -122.152278, -122.026107, -121.75492, -121.718762, -121.738697, -121.581354, -121.725594, -121.810551858284, -121.930069, -122.105976, -122.223799, -122.31768199999999, null], \"y\": [37.186945, 37.215444, 37.286055, 37.16681, 37.048449999999995, 37.007557, 36.989990999999996, 36.899152, 36.914345, 36.8506482495196, 36.97815, 36.955951, 37.025672, 37.186945, null]}, {\"fill\": \"toself\", \"fillcolor\": \"rgb(38, 130, 142)\", \"hoverinfo\": \"none\", \"line\": {\"color\": \"rgb(155,155,255)\", \"width\": 1}, \"mode\": \"lines\", \"name\": \"3\", \"type\": \"scatter\", \"x\": [-123.013916, -123.003507, -122.99875399999999, -123.002794, -123.013916, null, -122.33204578072701, -122.327561619753, -122.33227, -122.33204578072701, null, -122.377679, -122.362911, -122.36229399999999, -122.372836, -122.377679, null, -122.420365736738, -122.41847, -122.419827349401, -122.420365736738, null, -122.514483, -122.407452, -122.360238, -122.502426880724, -122.514483, null], \"y\": [37.700355, 37.704395999999996, 37.697438, 37.692736, 37.700355, null, 37.7877603470098, 37.7806441119025, 37.781517, 37.7877603470098, null, 37.830459999999995, 37.822696, 37.807016, 37.811068, 37.830459999999995, null, 37.863342297173695, 37.861764, 37.8600830082779, 37.863342297173695, null, 37.780829, 37.811440999999995, 37.719421, 37.7081329861058, 37.780829, null]}, {\"fill\": \"toself\", \"fillcolor\": \"rgb(31, 160, 136)\", \"hoverinfo\": \"none\", \"line\": {\"color\": \"rgb(155,155,255)\", \"width\": 1}, \"mode\": \"lines\", \"name\": \"4\", \"type\": \"scatter\", \"x\": [-123.013916, -123.003507, -122.99875399999999, -123.002794, -123.013916, null, -122.33204578072701, -122.327561619753, -122.33227, -122.33204578072701, null, -122.377679, -122.362911, -122.36229399999999, -122.372836, -122.377679, null, -122.420365736738, -122.41847, -122.419827349401, -122.420365736738, null, -122.514483, -122.407452, -122.360238, -122.502426880724, -122.514483, null], \"y\": [37.700355, 37.704395999999996, 37.697438, 37.692736, 37.700355, null, 37.7877603470098, 37.7806441119025, 37.781517, 37.7877603470098, null, 37.830459999999995, 37.822696, 37.807016, 37.811068, 37.830459999999995, null, 37.863342297173695, 37.861764, 37.8600830082779, 37.863342297173695, null, 37.780829, 37.811440999999995, 37.719421, 37.7081329861058, 37.780829, null]}, {\"fill\": \"toself\", \"fillcolor\": \"rgb(94, 201, 98)\", \"hoverinfo\": \"none\", \"line\": {\"color\": \"rgb(155,155,255)\", \"width\": 1}, \"mode\": \"lines\", \"name\": \"5\", \"type\": \"scatter\", \"x\": [], \"y\": []}, {\"fill\": \"toself\", \"fillcolor\": \"rgb(173, 220, 48)\", \"hoverinfo\": \"none\", \"line\": {\"color\": \"rgb(155,155,255)\", \"width\": 1}, \"mode\": \"lines\", \"name\": \"6\", \"type\": \"scatter\", \"x\": [-88.263176, -87.92067, -87.914265, -88.026752, -88.03056099999999, -88.261952, -88.263176, null], \"y\": [41.974644, 41.994031, 41.716746, 41.685369, 41.72893, 41.724652, 41.974644, null]}, {\"fill\": \"toself\", \"fillcolor\": \"rgb(253, 231, 37)\", \"hoverinfo\": \"none\", \"line\": {\"color\": \"rgb(155,155,255)\", \"width\": 1}, \"mode\": \"lines\", \"name\": \"7\", \"type\": \"scatter\", \"x\": [-88.263176, -87.92067, -87.914265, -88.026752, -88.03056099999999, -88.261952, -88.263176, null], \"y\": [41.974644, 41.994031, 41.716746, 41.685369, 41.72893, 41.724652, 41.974644, null]}, {\"hoverinfo\": \"text\", \"legendgroup\": \"centroids\", \"marker\": {\"color\": \"white\", \"opacity\": 0}, \"mode\": \"markers\", \"name\": \"US Counties\", \"selected\": {\"marker\": {\"color\": \"white\", \"opacity\": 1, \"size\": 3}}, \"showlegend\": false, \"text\": [\"County: San Francisco<br>State: California<br>FIPS: 06075<br>Value: 4\", \"County: San Francisco<br>State: California<br>FIPS: 06075<br>Value: 4\", \"County: San Francisco<br>State: California<br>FIPS: 06075<br>Value: 4\", \"County: San Francisco<br>State: California<br>FIPS: 06075<br>Value: 4\", \"County: San Francisco<br>State: California<br>FIPS: 06075<br>Value: 4\", \"County: San Francisco<br>State: California<br>FIPS: 06075<br>Value: 3\", \"County: San Francisco<br>State: California<br>FIPS: 06075<br>Value: 3\", \"County: San Francisco<br>State: California<br>FIPS: 06075<br>Value: 3\", \"County: San Francisco<br>State: California<br>FIPS: 06075<br>Value: 3\", \"County: San Francisco<br>State: California<br>FIPS: 06075<br>Value: 3\", \"County: San Diego<br>State: California<br>FIPS: 06073<br>Value: 0\", \"County: Santa Cruz<br>State: California<br>FIPS: 06087<br>Value: 2\", \"County: DuPage<br>State: Illinois<br>FIPS: 17043<br>Value: 6\", \"County: DuPage<br>State: Illinois<br>FIPS: 17043<br>Value: 7\"], \"type\": \"scatter\", \"unselected\": {\"marker\": {\"opacity\": 0}}, \"x\": [[-123.00529439291685], [-122.33062580015999], [-122.36897731254817], [-122.41954035391676], [-122.4408700569418], [-123.00529439291685], [-122.33062580015999], [-122.36897731254817], [-122.41954035391676], [-122.4408700569418], -116.73529316484134, -122.00183000196053, -88.08563348856732, -88.08563348856732], \"y\": [[37.698262123124536], [37.78330715297076], [37.819750171626495], [37.86191467461643], [37.75512499012593], [37.698262123124536], [37.78330715297076], [37.819750171626495], [37.86191467461643], [37.75512499012593], 33.03413701794012, 37.05617890779834, 41.85194704762981, 41.85194704762981]}, {\"hoverinfo\": \"text\", \"legendgroup\": \"States\", \"line\": {\"color\": \"rgb(240, 240, 240)\", \"width\": 1}, \"mode\": \"lines\", \"showlegend\": false, \"type\": \"scatter\", \"x\": [-118.604415, -118.370323, -118.305084, -118.465368, -118.48875, -118.575394, -118.604415, null, -118.6105, -118.573897, -118.354185, -118.431809, -118.50620599999999, -118.6105, null, -119.052774, -119.049684, -119.031145, -119.03233399999999, -119.052774, null, -119.441226, -119.396251, -119.373406, -119.357462, -119.441226, null, -119.577271, -119.528778, -119.434402, -119.546212, -119.577271, null, -119.929889, -119.759428, -119.637742, -119.584301, -119.52064, -119.560464, -119.818249, -119.873358, -119.876329, -119.929889, null, -120.249536, -120.043259, -120.046575, -119.980156, -119.968636, -120.11588499999999, -120.249536, null, -120.450064, -120.368278, -120.307219, -120.35793, -120.450064, null, -122.377679, -122.362911, -122.36229399999999, -122.372836, -122.377679, null, -122.446316, -122.424651, -122.41847, -122.441271, -122.446316, null, -123.013916, -123.003507, -122.99875399999999, -123.002794, -123.013916, null, -124.217495, -124.216181, -124.213021, -124.215001, -124.217495, null, -124.408601, -124.158322, -124.111756, -124.153622, -124.165414, -124.106986, -124.066057, -124.147412, -124.254954, -124.208439, -124.21160499999999, -119.999168, -120.001014, -117.500117, -114.633487, -114.634382, -114.470477, -114.436466, -114.380838, -114.386699, -114.176909, -114.131211, -114.434181, -114.438266, -114.535478, -114.50792, -114.52805, -114.494197, -114.53152299999999, -114.524599, -114.643302, -114.72528199999999, -114.698035, -114.731223, -114.672088, -114.706488, -114.66506, -114.52013, -114.469039, -114.468971, -114.530755, -114.526856, -114.618373, -114.701918, -114.719633, -117.12486200000001, -117.168866, -117.246069, -117.28217000000001, -117.25447, -117.328359, -117.46979400000001, -117.652692, -117.714617, -117.784888, -118.132698, -118.18035, -118.183342, -118.269645, -118.411211, -118.42840699999999, -118.391103, -118.519514, -118.744952, -118.806367, -119.129252, -119.216441, -119.278644, -119.563986, -119.878199, -120.008077, -120.141165, -120.452811, -120.511421, -120.63672199999999, -120.60045, -120.637415, -120.610266, -120.672269, -120.629931, -120.644311, -120.856047, -120.8996, -120.862684, -120.88475700000001, -121.003359, -121.166712, -121.28653, -121.332449, -121.46491, -121.503112, -121.574602, -121.717176, -121.902729, -121.903195, -121.95447300000001, -121.925937, -121.932508, -121.978714, -121.93643, -121.860604, -121.81446199999999, -121.78827799999999, -121.862266, -121.930069, -122.06642099999999, -122.135161, -122.405073, -122.40084999999999, -122.459577, -122.499289, -122.519533, -122.494085, -122.514483, -122.478083, -122.385323, -122.356784, -122.39319, -122.389313, -122.355627, -122.378545, -122.136422, -122.08874, -122.038599, -122.055541, -122.10942, -122.170648, -122.252172, -122.24394699999999, -122.33227, -122.342253, -122.296618, -122.311399, -122.390546, -122.430087, -122.367582, -122.367909, -122.283478, -122.262861, -122.282824, -122.393588, -122.489974, -122.497828, -122.447304, -122.495553, -122.479512, -122.50506, -122.438268, -122.457999, -122.501019, -122.472736, -122.527399, -122.641963, -122.72518099999999, -122.856573, -122.939711, -122.981776, -122.963544, -123.024066, -122.949074, -122.995631, -122.972101, -122.977082, -123.024333, -123.063671, -123.128825, -123.33189899999999, -123.441774, -123.727976, -123.74192099999999, -123.69124, -123.827716, -123.766475, -123.851714, -124.079983, -124.11054899999999, -124.360604, -124.347853, -124.408601, null, null], \"y\": [33.478552, 33.409285, 33.310323, 33.326056, 33.419826, 33.440179, 33.478552, null, 33.032941, 33.03055, 32.820918999999996, 32.801462, 32.852985, 33.032941, null, 33.46586, 33.483900999999996, 33.489649, 33.468834, 33.46586, null, 34.014075, 34.005918, 34.015440999999996, 34.015919, 34.014075, null, 33.278582, 33.285416999999995, 33.227021, 33.232561, 33.278582, null, 34.059734, 34.058835, 34.013177999999996, 34.053643, 34.034262, 33.995529999999995, 33.959858, 33.980374999999995, 34.032087, 34.059734, null, 34.002477, 34.035806, 34.000001999999995, 33.983653, 33.942878, 33.894360999999996, 34.002477, null, 34.034194, 34.076465, 34.022375, 34.015029, 34.034194, null, 37.830459999999995, 37.822696, 37.807016, 37.811068, 37.830459999999995, null, 37.861046, 37.870736, 37.852720999999995, 37.855142, 37.861046, null, 37.700355, 37.704395999999996, 37.697438, 37.692736, 37.700355, null, 41.95081, 41.952211999999996, 41.951023, 41.949734, 41.95081, null, 40.443200999999995, 40.876069, 41.026883, 41.05355, 41.129822, 41.229678, 41.470258, 41.717954999999996, 41.778169999999996, 41.888192, 41.99846, 41.99454, 38.999573999999996, 37.22038, 35.001857, 34.87289, 34.711368, 34.595400000000005, 34.529724, 34.457910999999996, 34.349306, 34.26273, 34.087379, 34.022608999999996, 33.934650999999995, 33.903807, 33.814963, 33.707921999999996, 33.675108, 33.552231, 33.416745, 33.405048, 33.352441999999996, 33.302434, 33.258499, 33.08816, 33.033908, 33.029984, 32.972294999999995, 32.845155, 32.793485, 32.757093999999995, 32.728245, 32.745548, 32.718762999999996, 32.534155999999996, 32.671952, 32.669351999999996, 32.839546999999996, 32.900146, 33.121842, 33.296417, 33.446154, 33.459914, 33.541525, 33.753217, 33.763413, 33.723186, 33.704029999999996, 33.741985, 33.774715, 33.838771, 34.027509, 34.032103, 34.000198, 34.10084, 34.146105, 34.266902, 34.41532, 34.406912999999996, 34.460446999999995, 34.473405, 34.442442, 34.522953, 34.560967, 34.70464, 34.755894999999995, 34.85818, 34.90254, 35.061515, 35.139616, 35.206486999999996, 35.255337, 35.346776, 35.430195999999995, 35.46071, 35.635399, 35.665524, 35.783106, 35.888456999999995, 36.000299, 36.025155999999996, 36.195146, 36.306379, 36.393603, 36.518904, 36.525172999999995, 36.559934999999996, 36.581488, 36.636745999999995, 36.611135999999995, 36.682857999999996, 36.803993999999996, 36.931551999999996, 36.97815, 36.948271, 36.967774, 37.195791, 37.359224999999995, 37.492731, 37.495340999999996, 37.537302, 37.644034999999995, 37.780829, 37.810828, 37.790724, 37.729504999999996, 37.707530999999996, 37.640193, 37.615293, 37.605592, 37.507576, 37.452267, 37.454622, 37.49523, 37.500254, 37.678503, 37.724952, 37.751779, 37.781517, 37.805558, 37.828465, 37.895793999999995, 37.90911, 37.963114999999995, 37.978168, 38.01253, 38.022673999999995, 38.0446, 38.082889, 38.143449, 38.112013999999995, 38.019402, 37.984387, 37.970523, 37.942526, 37.936414, 37.880973999999995, 37.861768999999995, 37.893662, 37.831927, 37.814947, 37.897507, 37.902691, 38.016717, 38.031908, 38.009119, 37.989914, 37.994878, 38.15406, 38.238626, 38.232652, 38.267902, 38.310573, 38.302178, 38.450418, 38.565542, 38.699743999999995, 38.919429, 38.956227999999996, 39.050795, 39.348433, 39.552803, 39.832041, 40.029773, 40.103764999999996, 40.257206, 40.314634, 40.443200999999995, null, null]}],\n",
       "                        {\"annotations\": [{\"showarrow\": false, \"text\": \"<b></b>\", \"x\": 1, \"xanchor\": \"right\", \"xref\": \"paper\", \"y\": 1.05, \"yref\": \"paper\"}], \"dragmode\": \"select\", \"height\": 450, \"hovermode\": \"closest\", \"legend\": {\"traceorder\": \"reversed\", \"x\": 1, \"xanchor\": \"right\", \"y\": 1, \"yanchor\": \"top\"}, \"margin\": {\"b\": 20, \"l\": 20, \"r\": 20, \"t\": 40}, \"width\": 900, \"xaxis\": {\"autorange\": false, \"fixedrange\": true, \"range\": [-124.408601, -87.914265], \"showgrid\": false, \"showticklabels\": false, \"zeroline\": false}, \"yaxis\": {\"autorange\": false, \"fixedrange\": true, \"range\": [29.967440799999995, 44.5651752], \"showgrid\": false, \"showticklabels\": false, \"zeroline\": false}},\n",
       "                        {\"responsive\": true}\n",
       "                    ).then(function(){\n",
       "                            \n",
       "var gd = document.getElementById('c8a803f4-a719-4206-9066-0f91da7c764c');\n",
       "var x = new MutationObserver(function (mutations, observer) {{\n",
       "        var display = window.getComputedStyle(gd).display;\n",
       "        if (!display || display === 'none') {{\n",
       "            console.log([gd, 'removed!']);\n",
       "            Plotly.purge(gd);\n",
       "            observer.disconnect();\n",
       "        }}\n",
       "}});\n",
       "\n",
       "// Listen for the removal of the full notebook cells\n",
       "var notebookContainer = gd.closest('#notebook-container');\n",
       "if (notebookContainer) {{\n",
       "    x.observe(notebookContainer, {childList: true});\n",
       "}}\n",
       "\n",
       "// Listen for the clearing of the current output cell\n",
       "var outputEl = gd.closest('.output');\n",
       "if (outputEl) {{\n",
       "    x.observe(outputEl, {childList: true});\n",
       "}}\n",
       "\n",
       "                        })\n",
       "                };\n",
       "                });\n",
       "            </script>\n",
       "        </div>"
      ]
     },
     "metadata": {},
     "output_type": "display_data"
    }
   ],
   "source": [
    "import plotly.figure_factory as ff\n",
    "import plotly.graph_objects as go\n",
    "import plotly\n",
    "import geopandas\n",
    "\n",
    "loc, value = seperate_Loc_Data(location)\n",
    "loc, value = coordinate_Loc_Val(loc, value)\n",
    "city, value = seperate_City_Data(location)\n",
    "city_tuple, values = coordinate_City_Val(loc, city, value) # city is a tuple:(state, city)\n",
    "fips = getFIPS(city_tuple, values)\n",
    "\n",
    "scope = ['California']\n",
    "values = range(len(fips))\n",
    "colorscale = [\n",
    "    'rgb(193, 193, 193)',\n",
    "    'rgb(239,239,239)',\n",
    "    'rgb(195, 196, 222)',\n",
    "    'rgb(144,148,194)',\n",
    "    'rgb(101,104,168)',\n",
    "    'rgb(65, 53, 132)',\n",
    "    'rgb(65, 32, 145)',\n",
    "    'rgb(87, 96, 182)',\n",
    "    'rgb(90, 10, 78)',\n",
    "    'rgb(89, 32, 123)',\n",
    "    'rgb(50, 140, 132)'\n",
    "]\n",
    "\n",
    "fig = ff.create_choropleth(fips=fips, values=values, scope=['CA'],county_outline={'color': 'rgb(155,155,255)', 'width': 1}, \n",
    "                           round_legend_values=True)\n",
    "# fig = ff.create_choropleth(fips=fips, values=values, scope=scope, \n",
    "#                            colorscale=colorscale, round_legend_values=True,\n",
    "#         simplify_county=0, simplify_state=0,     county_outline={'color': 'rgb(255, 255, 255)', 'width': 0.5},\n",
    "#     state_outline={'width': 1},\n",
    "#     legend_title='pop. per county',\n",
    "#     title='California'                  \n",
    "#                           )\n",
    "fig.layout.template = None\n",
    "fig.show()\n"
   ]
  },
  {
   "cell_type": "code",
   "execution_count": 103,
   "metadata": {},
   "outputs": [
    {
     "data": {
      "application/vnd.plotly.v1+json": {
       "config": {
        "plotlyServerURL": "https://plot.ly"
       },
       "data": [
        {
         "colorbar": {
          "title": {
           "text": "Number of Alumni"
          }
         },
         "colorscale": [
          [
           0,
           "rgb(255,245,240)"
          ],
          [
           0.125,
           "rgb(254,224,210)"
          ],
          [
           0.25,
           "rgb(252,187,161)"
          ],
          [
           0.375,
           "rgb(252,146,114)"
          ],
          [
           0.5,
           "rgb(251,106,74)"
          ],
          [
           0.625,
           "rgb(239,59,44)"
          ],
          [
           0.75,
           "rgb(203,24,29)"
          ],
          [
           0.875,
           "rgb(165,15,21)"
          ],
          [
           1,
           "rgb(103,0,13)"
          ]
         ],
         "locationmode": "USA-states",
         "locations": [
          "CA",
          "WA",
          "IL",
          "PA",
          "TX",
          "NY",
          "NJ",
          "MN"
         ],
         "marker": {
          "line": {
           "color": "black"
          }
         },
         "type": "choropleth",
         "z": [
          6.646390514847729,
          3.044522437723423,
          0.6931471805599453,
          1.6094379124341003,
          0.6931471805599453,
          1.0986122886681098,
          0.6931471805599453,
          0.6931471805599453
         ]
        }
       ],
       "layout": {
        "geo": {
         "scope": "usa"
        },
        "template": {
         "data": {
          "bar": [
           {
            "error_x": {
             "color": "#2a3f5f"
            },
            "error_y": {
             "color": "#2a3f5f"
            },
            "marker": {
             "line": {
              "color": "#E5ECF6",
              "width": 0.5
             }
            },
            "type": "bar"
           }
          ],
          "barpolar": [
           {
            "marker": {
             "line": {
              "color": "#E5ECF6",
              "width": 0.5
             }
            },
            "type": "barpolar"
           }
          ],
          "carpet": [
           {
            "aaxis": {
             "endlinecolor": "#2a3f5f",
             "gridcolor": "white",
             "linecolor": "white",
             "minorgridcolor": "white",
             "startlinecolor": "#2a3f5f"
            },
            "baxis": {
             "endlinecolor": "#2a3f5f",
             "gridcolor": "white",
             "linecolor": "white",
             "minorgridcolor": "white",
             "startlinecolor": "#2a3f5f"
            },
            "type": "carpet"
           }
          ],
          "choropleth": [
           {
            "colorbar": {
             "outlinewidth": 0,
             "ticks": ""
            },
            "type": "choropleth"
           }
          ],
          "contour": [
           {
            "colorbar": {
             "outlinewidth": 0,
             "ticks": ""
            },
            "colorscale": [
             [
              0,
              "#0d0887"
             ],
             [
              0.1111111111111111,
              "#46039f"
             ],
             [
              0.2222222222222222,
              "#7201a8"
             ],
             [
              0.3333333333333333,
              "#9c179e"
             ],
             [
              0.4444444444444444,
              "#bd3786"
             ],
             [
              0.5555555555555556,
              "#d8576b"
             ],
             [
              0.6666666666666666,
              "#ed7953"
             ],
             [
              0.7777777777777778,
              "#fb9f3a"
             ],
             [
              0.8888888888888888,
              "#fdca26"
             ],
             [
              1,
              "#f0f921"
             ]
            ],
            "type": "contour"
           }
          ],
          "contourcarpet": [
           {
            "colorbar": {
             "outlinewidth": 0,
             "ticks": ""
            },
            "type": "contourcarpet"
           }
          ],
          "heatmap": [
           {
            "colorbar": {
             "outlinewidth": 0,
             "ticks": ""
            },
            "colorscale": [
             [
              0,
              "#0d0887"
             ],
             [
              0.1111111111111111,
              "#46039f"
             ],
             [
              0.2222222222222222,
              "#7201a8"
             ],
             [
              0.3333333333333333,
              "#9c179e"
             ],
             [
              0.4444444444444444,
              "#bd3786"
             ],
             [
              0.5555555555555556,
              "#d8576b"
             ],
             [
              0.6666666666666666,
              "#ed7953"
             ],
             [
              0.7777777777777778,
              "#fb9f3a"
             ],
             [
              0.8888888888888888,
              "#fdca26"
             ],
             [
              1,
              "#f0f921"
             ]
            ],
            "type": "heatmap"
           }
          ],
          "heatmapgl": [
           {
            "colorbar": {
             "outlinewidth": 0,
             "ticks": ""
            },
            "colorscale": [
             [
              0,
              "#0d0887"
             ],
             [
              0.1111111111111111,
              "#46039f"
             ],
             [
              0.2222222222222222,
              "#7201a8"
             ],
             [
              0.3333333333333333,
              "#9c179e"
             ],
             [
              0.4444444444444444,
              "#bd3786"
             ],
             [
              0.5555555555555556,
              "#d8576b"
             ],
             [
              0.6666666666666666,
              "#ed7953"
             ],
             [
              0.7777777777777778,
              "#fb9f3a"
             ],
             [
              0.8888888888888888,
              "#fdca26"
             ],
             [
              1,
              "#f0f921"
             ]
            ],
            "type": "heatmapgl"
           }
          ],
          "histogram": [
           {
            "marker": {
             "colorbar": {
              "outlinewidth": 0,
              "ticks": ""
             }
            },
            "type": "histogram"
           }
          ],
          "histogram2d": [
           {
            "colorbar": {
             "outlinewidth": 0,
             "ticks": ""
            },
            "colorscale": [
             [
              0,
              "#0d0887"
             ],
             [
              0.1111111111111111,
              "#46039f"
             ],
             [
              0.2222222222222222,
              "#7201a8"
             ],
             [
              0.3333333333333333,
              "#9c179e"
             ],
             [
              0.4444444444444444,
              "#bd3786"
             ],
             [
              0.5555555555555556,
              "#d8576b"
             ],
             [
              0.6666666666666666,
              "#ed7953"
             ],
             [
              0.7777777777777778,
              "#fb9f3a"
             ],
             [
              0.8888888888888888,
              "#fdca26"
             ],
             [
              1,
              "#f0f921"
             ]
            ],
            "type": "histogram2d"
           }
          ],
          "histogram2dcontour": [
           {
            "colorbar": {
             "outlinewidth": 0,
             "ticks": ""
            },
            "colorscale": [
             [
              0,
              "#0d0887"
             ],
             [
              0.1111111111111111,
              "#46039f"
             ],
             [
              0.2222222222222222,
              "#7201a8"
             ],
             [
              0.3333333333333333,
              "#9c179e"
             ],
             [
              0.4444444444444444,
              "#bd3786"
             ],
             [
              0.5555555555555556,
              "#d8576b"
             ],
             [
              0.6666666666666666,
              "#ed7953"
             ],
             [
              0.7777777777777778,
              "#fb9f3a"
             ],
             [
              0.8888888888888888,
              "#fdca26"
             ],
             [
              1,
              "#f0f921"
             ]
            ],
            "type": "histogram2dcontour"
           }
          ],
          "mesh3d": [
           {
            "colorbar": {
             "outlinewidth": 0,
             "ticks": ""
            },
            "type": "mesh3d"
           }
          ],
          "parcoords": [
           {
            "line": {
             "colorbar": {
              "outlinewidth": 0,
              "ticks": ""
             }
            },
            "type": "parcoords"
           }
          ],
          "scatter": [
           {
            "marker": {
             "colorbar": {
              "outlinewidth": 0,
              "ticks": ""
             }
            },
            "type": "scatter"
           }
          ],
          "scatter3d": [
           {
            "line": {
             "colorbar": {
              "outlinewidth": 0,
              "ticks": ""
             }
            },
            "marker": {
             "colorbar": {
              "outlinewidth": 0,
              "ticks": ""
             }
            },
            "type": "scatter3d"
           }
          ],
          "scattercarpet": [
           {
            "marker": {
             "colorbar": {
              "outlinewidth": 0,
              "ticks": ""
             }
            },
            "type": "scattercarpet"
           }
          ],
          "scattergeo": [
           {
            "marker": {
             "colorbar": {
              "outlinewidth": 0,
              "ticks": ""
             }
            },
            "type": "scattergeo"
           }
          ],
          "scattergl": [
           {
            "marker": {
             "colorbar": {
              "outlinewidth": 0,
              "ticks": ""
             }
            },
            "type": "scattergl"
           }
          ],
          "scattermapbox": [
           {
            "marker": {
             "colorbar": {
              "outlinewidth": 0,
              "ticks": ""
             }
            },
            "type": "scattermapbox"
           }
          ],
          "scatterpolar": [
           {
            "marker": {
             "colorbar": {
              "outlinewidth": 0,
              "ticks": ""
             }
            },
            "type": "scatterpolar"
           }
          ],
          "scatterpolargl": [
           {
            "marker": {
             "colorbar": {
              "outlinewidth": 0,
              "ticks": ""
             }
            },
            "type": "scatterpolargl"
           }
          ],
          "scatterternary": [
           {
            "marker": {
             "colorbar": {
              "outlinewidth": 0,
              "ticks": ""
             }
            },
            "type": "scatterternary"
           }
          ],
          "surface": [
           {
            "colorbar": {
             "outlinewidth": 0,
             "ticks": ""
            },
            "colorscale": [
             [
              0,
              "#0d0887"
             ],
             [
              0.1111111111111111,
              "#46039f"
             ],
             [
              0.2222222222222222,
              "#7201a8"
             ],
             [
              0.3333333333333333,
              "#9c179e"
             ],
             [
              0.4444444444444444,
              "#bd3786"
             ],
             [
              0.5555555555555556,
              "#d8576b"
             ],
             [
              0.6666666666666666,
              "#ed7953"
             ],
             [
              0.7777777777777778,
              "#fb9f3a"
             ],
             [
              0.8888888888888888,
              "#fdca26"
             ],
             [
              1,
              "#f0f921"
             ]
            ],
            "type": "surface"
           }
          ],
          "table": [
           {
            "cells": {
             "fill": {
              "color": "#EBF0F8"
             },
             "line": {
              "color": "white"
             }
            },
            "header": {
             "fill": {
              "color": "#C8D4E3"
             },
             "line": {
              "color": "white"
             }
            },
            "type": "table"
           }
          ]
         },
         "layout": {
          "annotationdefaults": {
           "arrowcolor": "#2a3f5f",
           "arrowhead": 0,
           "arrowwidth": 1
          },
          "colorscale": {
           "diverging": [
            [
             0,
             "#8e0152"
            ],
            [
             0.1,
             "#c51b7d"
            ],
            [
             0.2,
             "#de77ae"
            ],
            [
             0.3,
             "#f1b6da"
            ],
            [
             0.4,
             "#fde0ef"
            ],
            [
             0.5,
             "#f7f7f7"
            ],
            [
             0.6,
             "#e6f5d0"
            ],
            [
             0.7,
             "#b8e186"
            ],
            [
             0.8,
             "#7fbc41"
            ],
            [
             0.9,
             "#4d9221"
            ],
            [
             1,
             "#276419"
            ]
           ],
           "sequential": [
            [
             0,
             "#0d0887"
            ],
            [
             0.1111111111111111,
             "#46039f"
            ],
            [
             0.2222222222222222,
             "#7201a8"
            ],
            [
             0.3333333333333333,
             "#9c179e"
            ],
            [
             0.4444444444444444,
             "#bd3786"
            ],
            [
             0.5555555555555556,
             "#d8576b"
            ],
            [
             0.6666666666666666,
             "#ed7953"
            ],
            [
             0.7777777777777778,
             "#fb9f3a"
            ],
            [
             0.8888888888888888,
             "#fdca26"
            ],
            [
             1,
             "#f0f921"
            ]
           ],
           "sequentialminus": [
            [
             0,
             "#0d0887"
            ],
            [
             0.1111111111111111,
             "#46039f"
            ],
            [
             0.2222222222222222,
             "#7201a8"
            ],
            [
             0.3333333333333333,
             "#9c179e"
            ],
            [
             0.4444444444444444,
             "#bd3786"
            ],
            [
             0.5555555555555556,
             "#d8576b"
            ],
            [
             0.6666666666666666,
             "#ed7953"
            ],
            [
             0.7777777777777778,
             "#fb9f3a"
            ],
            [
             0.8888888888888888,
             "#fdca26"
            ],
            [
             1,
             "#f0f921"
            ]
           ]
          },
          "colorway": [
           "#636efa",
           "#EF553B",
           "#00cc96",
           "#ab63fa",
           "#FFA15A",
           "#19d3f3",
           "#FF6692",
           "#B6E880",
           "#FF97FF",
           "#FECB52"
          ],
          "font": {
           "color": "#2a3f5f"
          },
          "geo": {
           "bgcolor": "white",
           "lakecolor": "white",
           "landcolor": "#E5ECF6",
           "showlakes": true,
           "showland": true,
           "subunitcolor": "white"
          },
          "hoverlabel": {
           "align": "left"
          },
          "hovermode": "closest",
          "mapbox": {
           "style": "light"
          },
          "paper_bgcolor": "white",
          "plot_bgcolor": "#E5ECF6",
          "polar": {
           "angularaxis": {
            "gridcolor": "white",
            "linecolor": "white",
            "ticks": ""
           },
           "bgcolor": "#E5ECF6",
           "radialaxis": {
            "gridcolor": "white",
            "linecolor": "white",
            "ticks": ""
           }
          },
          "scene": {
           "xaxis": {
            "backgroundcolor": "#E5ECF6",
            "gridcolor": "white",
            "gridwidth": 2,
            "linecolor": "white",
            "showbackground": true,
            "ticks": "",
            "zerolinecolor": "white"
           },
           "yaxis": {
            "backgroundcolor": "#E5ECF6",
            "gridcolor": "white",
            "gridwidth": 2,
            "linecolor": "white",
            "showbackground": true,
            "ticks": "",
            "zerolinecolor": "white"
           },
           "zaxis": {
            "backgroundcolor": "#E5ECF6",
            "gridcolor": "white",
            "gridwidth": 2,
            "linecolor": "white",
            "showbackground": true,
            "ticks": "",
            "zerolinecolor": "white"
           }
          },
          "shapedefaults": {
           "line": {
            "color": "#2a3f5f"
           }
          },
          "ternary": {
           "aaxis": {
            "gridcolor": "white",
            "linecolor": "white",
            "ticks": ""
           },
           "baxis": {
            "gridcolor": "white",
            "linecolor": "white",
            "ticks": ""
           },
           "bgcolor": "#E5ECF6",
           "caxis": {
            "gridcolor": "white",
            "linecolor": "white",
            "ticks": ""
           }
          },
          "title": {
           "x": 0.05
          },
          "xaxis": {
           "automargin": true,
           "gridcolor": "white",
           "linecolor": "white",
           "ticks": "",
           "zerolinecolor": "white",
           "zerolinewidth": 2
          },
          "yaxis": {
           "automargin": true,
           "gridcolor": "white",
           "linecolor": "white",
           "ticks": "",
           "zerolinecolor": "white",
           "zerolinewidth": 2
          }
         }
        },
        "title": {
         "text": "UCSD Alumni Employment Localization Distribution"
        }
       }
      },
      "text/html": [
       "<div>\n",
       "        \n",
       "        \n",
       "            <div id=\"c02683bc-b2d0-4678-b9c0-077dc06a5661\" class=\"plotly-graph-div\" style=\"height:525px; width:100%;\"></div>\n",
       "            <script type=\"text/javascript\">\n",
       "                require([\"plotly\"], function(Plotly) {\n",
       "                    window.PLOTLYENV=window.PLOTLYENV || {};\n",
       "                    \n",
       "                if (document.getElementById(\"c02683bc-b2d0-4678-b9c0-077dc06a5661\")) {\n",
       "                    Plotly.newPlot(\n",
       "                        'c02683bc-b2d0-4678-b9c0-077dc06a5661',\n",
       "                        [{\"colorbar\": {\"title\": {\"text\": \"Number of Alumni\"}}, \"colorscale\": [[0.0, \"rgb(255,245,240)\"], [0.125, \"rgb(254,224,210)\"], [0.25, \"rgb(252,187,161)\"], [0.375, \"rgb(252,146,114)\"], [0.5, \"rgb(251,106,74)\"], [0.625, \"rgb(239,59,44)\"], [0.75, \"rgb(203,24,29)\"], [0.875, \"rgb(165,15,21)\"], [1.0, \"rgb(103,0,13)\"]], \"locationmode\": \"USA-states\", \"locations\": [\"CA\", \"WA\", \"IL\", \"PA\", \"TX\", \"NY\", \"NJ\", \"MN\"], \"marker\": {\"line\": {\"color\": \"black\"}}, \"type\": \"choropleth\", \"z\": [6.646390514847729, 3.044522437723423, 0.6931471805599453, 1.6094379124341003, 0.6931471805599453, 1.0986122886681098, 0.6931471805599453, 0.6931471805599453]}],\n",
       "                        {\"geo\": {\"scope\": \"usa\"}, \"template\": {\"data\": {\"bar\": [{\"error_x\": {\"color\": \"#2a3f5f\"}, \"error_y\": {\"color\": \"#2a3f5f\"}, \"marker\": {\"line\": {\"color\": \"#E5ECF6\", \"width\": 0.5}}, \"type\": \"bar\"}], \"barpolar\": [{\"marker\": {\"line\": {\"color\": \"#E5ECF6\", \"width\": 0.5}}, \"type\": \"barpolar\"}], \"carpet\": [{\"aaxis\": {\"endlinecolor\": \"#2a3f5f\", \"gridcolor\": \"white\", \"linecolor\": \"white\", \"minorgridcolor\": \"white\", \"startlinecolor\": \"#2a3f5f\"}, \"baxis\": {\"endlinecolor\": \"#2a3f5f\", \"gridcolor\": \"white\", \"linecolor\": \"white\", \"minorgridcolor\": \"white\", \"startlinecolor\": \"#2a3f5f\"}, \"type\": \"carpet\"}], \"choropleth\": [{\"colorbar\": {\"outlinewidth\": 0, \"ticks\": \"\"}, \"type\": \"choropleth\"}], \"contour\": [{\"colorbar\": {\"outlinewidth\": 0, \"ticks\": \"\"}, \"colorscale\": [[0.0, \"#0d0887\"], [0.1111111111111111, \"#46039f\"], [0.2222222222222222, \"#7201a8\"], [0.3333333333333333, \"#9c179e\"], [0.4444444444444444, \"#bd3786\"], [0.5555555555555556, \"#d8576b\"], [0.6666666666666666, \"#ed7953\"], [0.7777777777777778, \"#fb9f3a\"], [0.8888888888888888, \"#fdca26\"], [1.0, \"#f0f921\"]], \"type\": \"contour\"}], \"contourcarpet\": [{\"colorbar\": {\"outlinewidth\": 0, \"ticks\": \"\"}, \"type\": \"contourcarpet\"}], \"heatmap\": [{\"colorbar\": {\"outlinewidth\": 0, \"ticks\": \"\"}, \"colorscale\": [[0.0, \"#0d0887\"], [0.1111111111111111, \"#46039f\"], [0.2222222222222222, \"#7201a8\"], [0.3333333333333333, \"#9c179e\"], [0.4444444444444444, \"#bd3786\"], [0.5555555555555556, \"#d8576b\"], [0.6666666666666666, \"#ed7953\"], [0.7777777777777778, \"#fb9f3a\"], [0.8888888888888888, \"#fdca26\"], [1.0, \"#f0f921\"]], \"type\": \"heatmap\"}], \"heatmapgl\": [{\"colorbar\": {\"outlinewidth\": 0, \"ticks\": \"\"}, \"colorscale\": [[0.0, \"#0d0887\"], [0.1111111111111111, \"#46039f\"], [0.2222222222222222, \"#7201a8\"], [0.3333333333333333, \"#9c179e\"], [0.4444444444444444, \"#bd3786\"], [0.5555555555555556, \"#d8576b\"], [0.6666666666666666, \"#ed7953\"], [0.7777777777777778, \"#fb9f3a\"], [0.8888888888888888, \"#fdca26\"], [1.0, \"#f0f921\"]], \"type\": \"heatmapgl\"}], \"histogram\": [{\"marker\": {\"colorbar\": {\"outlinewidth\": 0, \"ticks\": \"\"}}, \"type\": \"histogram\"}], \"histogram2d\": [{\"colorbar\": {\"outlinewidth\": 0, \"ticks\": \"\"}, \"colorscale\": [[0.0, \"#0d0887\"], [0.1111111111111111, \"#46039f\"], [0.2222222222222222, \"#7201a8\"], [0.3333333333333333, \"#9c179e\"], [0.4444444444444444, \"#bd3786\"], [0.5555555555555556, \"#d8576b\"], [0.6666666666666666, \"#ed7953\"], [0.7777777777777778, \"#fb9f3a\"], [0.8888888888888888, \"#fdca26\"], [1.0, \"#f0f921\"]], \"type\": \"histogram2d\"}], \"histogram2dcontour\": [{\"colorbar\": {\"outlinewidth\": 0, \"ticks\": \"\"}, \"colorscale\": [[0.0, \"#0d0887\"], [0.1111111111111111, \"#46039f\"], [0.2222222222222222, \"#7201a8\"], [0.3333333333333333, \"#9c179e\"], [0.4444444444444444, \"#bd3786\"], [0.5555555555555556, \"#d8576b\"], [0.6666666666666666, \"#ed7953\"], [0.7777777777777778, \"#fb9f3a\"], [0.8888888888888888, \"#fdca26\"], [1.0, \"#f0f921\"]], \"type\": \"histogram2dcontour\"}], \"mesh3d\": [{\"colorbar\": {\"outlinewidth\": 0, \"ticks\": \"\"}, \"type\": \"mesh3d\"}], \"parcoords\": [{\"line\": {\"colorbar\": {\"outlinewidth\": 0, \"ticks\": \"\"}}, \"type\": \"parcoords\"}], \"scatter\": [{\"marker\": {\"colorbar\": {\"outlinewidth\": 0, \"ticks\": \"\"}}, \"type\": \"scatter\"}], \"scatter3d\": [{\"line\": {\"colorbar\": {\"outlinewidth\": 0, \"ticks\": \"\"}}, \"marker\": {\"colorbar\": {\"outlinewidth\": 0, \"ticks\": \"\"}}, \"type\": \"scatter3d\"}], \"scattercarpet\": [{\"marker\": {\"colorbar\": {\"outlinewidth\": 0, \"ticks\": \"\"}}, \"type\": \"scattercarpet\"}], \"scattergeo\": [{\"marker\": {\"colorbar\": {\"outlinewidth\": 0, \"ticks\": \"\"}}, \"type\": \"scattergeo\"}], \"scattergl\": [{\"marker\": {\"colorbar\": {\"outlinewidth\": 0, \"ticks\": \"\"}}, \"type\": \"scattergl\"}], \"scattermapbox\": [{\"marker\": {\"colorbar\": {\"outlinewidth\": 0, \"ticks\": \"\"}}, \"type\": \"scattermapbox\"}], \"scatterpolar\": [{\"marker\": {\"colorbar\": {\"outlinewidth\": 0, \"ticks\": \"\"}}, \"type\": \"scatterpolar\"}], \"scatterpolargl\": [{\"marker\": {\"colorbar\": {\"outlinewidth\": 0, \"ticks\": \"\"}}, \"type\": \"scatterpolargl\"}], \"scatterternary\": [{\"marker\": {\"colorbar\": {\"outlinewidth\": 0, \"ticks\": \"\"}}, \"type\": \"scatterternary\"}], \"surface\": [{\"colorbar\": {\"outlinewidth\": 0, \"ticks\": \"\"}, \"colorscale\": [[0.0, \"#0d0887\"], [0.1111111111111111, \"#46039f\"], [0.2222222222222222, \"#7201a8\"], [0.3333333333333333, \"#9c179e\"], [0.4444444444444444, \"#bd3786\"], [0.5555555555555556, \"#d8576b\"], [0.6666666666666666, \"#ed7953\"], [0.7777777777777778, \"#fb9f3a\"], [0.8888888888888888, \"#fdca26\"], [1.0, \"#f0f921\"]], \"type\": \"surface\"}], \"table\": [{\"cells\": {\"fill\": {\"color\": \"#EBF0F8\"}, \"line\": {\"color\": \"white\"}}, \"header\": {\"fill\": {\"color\": \"#C8D4E3\"}, \"line\": {\"color\": \"white\"}}, \"type\": \"table\"}]}, \"layout\": {\"annotationdefaults\": {\"arrowcolor\": \"#2a3f5f\", \"arrowhead\": 0, \"arrowwidth\": 1}, \"colorscale\": {\"diverging\": [[0, \"#8e0152\"], [0.1, \"#c51b7d\"], [0.2, \"#de77ae\"], [0.3, \"#f1b6da\"], [0.4, \"#fde0ef\"], [0.5, \"#f7f7f7\"], [0.6, \"#e6f5d0\"], [0.7, \"#b8e186\"], [0.8, \"#7fbc41\"], [0.9, \"#4d9221\"], [1, \"#276419\"]], \"sequential\": [[0.0, \"#0d0887\"], [0.1111111111111111, \"#46039f\"], [0.2222222222222222, \"#7201a8\"], [0.3333333333333333, \"#9c179e\"], [0.4444444444444444, \"#bd3786\"], [0.5555555555555556, \"#d8576b\"], [0.6666666666666666, \"#ed7953\"], [0.7777777777777778, \"#fb9f3a\"], [0.8888888888888888, \"#fdca26\"], [1.0, \"#f0f921\"]], \"sequentialminus\": [[0.0, \"#0d0887\"], [0.1111111111111111, \"#46039f\"], [0.2222222222222222, \"#7201a8\"], [0.3333333333333333, \"#9c179e\"], [0.4444444444444444, \"#bd3786\"], [0.5555555555555556, \"#d8576b\"], [0.6666666666666666, \"#ed7953\"], [0.7777777777777778, \"#fb9f3a\"], [0.8888888888888888, \"#fdca26\"], [1.0, \"#f0f921\"]]}, \"colorway\": [\"#636efa\", \"#EF553B\", \"#00cc96\", \"#ab63fa\", \"#FFA15A\", \"#19d3f3\", \"#FF6692\", \"#B6E880\", \"#FF97FF\", \"#FECB52\"], \"font\": {\"color\": \"#2a3f5f\"}, \"geo\": {\"bgcolor\": \"white\", \"lakecolor\": \"white\", \"landcolor\": \"#E5ECF6\", \"showlakes\": true, \"showland\": true, \"subunitcolor\": \"white\"}, \"hoverlabel\": {\"align\": \"left\"}, \"hovermode\": \"closest\", \"mapbox\": {\"style\": \"light\"}, \"paper_bgcolor\": \"white\", \"plot_bgcolor\": \"#E5ECF6\", \"polar\": {\"angularaxis\": {\"gridcolor\": \"white\", \"linecolor\": \"white\", \"ticks\": \"\"}, \"bgcolor\": \"#E5ECF6\", \"radialaxis\": {\"gridcolor\": \"white\", \"linecolor\": \"white\", \"ticks\": \"\"}}, \"scene\": {\"xaxis\": {\"backgroundcolor\": \"#E5ECF6\", \"gridcolor\": \"white\", \"gridwidth\": 2, \"linecolor\": \"white\", \"showbackground\": true, \"ticks\": \"\", \"zerolinecolor\": \"white\"}, \"yaxis\": {\"backgroundcolor\": \"#E5ECF6\", \"gridcolor\": \"white\", \"gridwidth\": 2, \"linecolor\": \"white\", \"showbackground\": true, \"ticks\": \"\", \"zerolinecolor\": \"white\"}, \"zaxis\": {\"backgroundcolor\": \"#E5ECF6\", \"gridcolor\": \"white\", \"gridwidth\": 2, \"linecolor\": \"white\", \"showbackground\": true, \"ticks\": \"\", \"zerolinecolor\": \"white\"}}, \"shapedefaults\": {\"line\": {\"color\": \"#2a3f5f\"}}, \"ternary\": {\"aaxis\": {\"gridcolor\": \"white\", \"linecolor\": \"white\", \"ticks\": \"\"}, \"baxis\": {\"gridcolor\": \"white\", \"linecolor\": \"white\", \"ticks\": \"\"}, \"bgcolor\": \"#E5ECF6\", \"caxis\": {\"gridcolor\": \"white\", \"linecolor\": \"white\", \"ticks\": \"\"}}, \"title\": {\"x\": 0.05}, \"xaxis\": {\"automargin\": true, \"gridcolor\": \"white\", \"linecolor\": \"white\", \"ticks\": \"\", \"zerolinecolor\": \"white\", \"zerolinewidth\": 2}, \"yaxis\": {\"automargin\": true, \"gridcolor\": \"white\", \"linecolor\": \"white\", \"ticks\": \"\", \"zerolinecolor\": \"white\", \"zerolinewidth\": 2}}}, \"title\": {\"text\": \"UCSD Alumni Employment Localization Distribution\"}},\n",
       "                        {\"responsive\": true}\n",
       "                    ).then(function(){\n",
       "                            \n",
       "var gd = document.getElementById('c02683bc-b2d0-4678-b9c0-077dc06a5661');\n",
       "var x = new MutationObserver(function (mutations, observer) {{\n",
       "        var display = window.getComputedStyle(gd).display;\n",
       "        if (!display || display === 'none') {{\n",
       "            console.log([gd, 'removed!']);\n",
       "            Plotly.purge(gd);\n",
       "            observer.disconnect();\n",
       "        }}\n",
       "}});\n",
       "\n",
       "// Listen for the removal of the full notebook cells\n",
       "var notebookContainer = gd.closest('#notebook-container');\n",
       "if (notebookContainer) {{\n",
       "    x.observe(notebookContainer, {childList: true});\n",
       "}}\n",
       "\n",
       "// Listen for the clearing of the current output cell\n",
       "var outputEl = gd.closest('.output');\n",
       "if (outputEl) {{\n",
       "    x.observe(outputEl, {childList: true});\n",
       "}}\n",
       "\n",
       "                        })\n",
       "                };\n",
       "                });\n",
       "            </script>\n",
       "        </div>"
      ]
     },
     "metadata": {},
     "output_type": "display_data"
    }
   ],
   "source": [
    "import plotly.graph_objects as go\n",
    "import pandas as pd\n",
    "\n",
    "# df = pd.read_csv('2011_us_ag_exports.csv')\n",
    "loc, value = seperate_Loc_Data(location)\n",
    "loc, value = coordinate_Loc_Val(loc, value)\n",
    "line = plotly.graph_objects.choropleth.marker.Line()\n",
    "\n",
    "fig = go.Figure(data=go.Choropleth(\n",
    "    locations=loc, # Spatial coordinates\n",
    "    z = value, # Data to be color-coded\n",
    "    locationmode = 'USA-states', # set of locations match entries in `locations`\n",
    "    marker_line_color = 'black', # display the color of the state boundary\n",
    "    colorscale = 'Reds',\n",
    "    colorbar_title = \"Number of Alumni\",\n",
    "))\n",
    "fig.update_layout(\n",
    "    title_text = 'UCSD Alumni Employment Localization Distribution',\n",
    "    geo_scope='usa', # limite map scope to USA\n",
    ")\n",
    "fig.show()\n"
   ]
  }
 ],
 "metadata": {
  "kernelspec": {
   "display_name": "Python 3",
   "language": "python",
   "name": "python3"
  },
  "language_info": {
   "codemirror_mode": {
    "name": "ipython",
    "version": 3
   },
   "file_extension": ".py",
   "mimetype": "text/x-python",
   "name": "python",
   "nbconvert_exporter": "python",
   "pygments_lexer": "ipython3",
   "version": "3.6.8"
  }
 },
 "nbformat": 4,
 "nbformat_minor": 2
}
