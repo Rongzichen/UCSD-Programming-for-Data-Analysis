{
 "cells": [
  {
   "cell_type": "code",
   "execution_count": 34,
   "metadata": {},
   "outputs": [
    {
     "name": "stdout",
     "output_type": "stream",
     "text": [
      "defaultdict(<class 'int'>, {'Amazon': 7, 'Uber': 1})\n",
      "defaultdict(<class 'int'>, {('San Diego County', ' California'): 8})\n",
      "defaultdict(<class 'int'>, {'Internet': 1, 'Computer Software': 6, 'Higher Education': 1})\n",
      "defaultdict(<class 'int'>, {'java': 8, 'javascript': 5, 'spring framework': 1, 'agile': 1, 'spring boot': 1, 'python': 7, 'react': 1, 'sql': 3, 'django': 1, 'mysql': 2, 'cascading style sheets (css)': 1, 'html': 3, 'linux': 5, 'hibernate': 1, 'git': 2, 'mybatis': 1, 'shiro': 1, 'redis': 1, 'data analysis': 1, 'software development': 2, 'front-end development': 1, 'image processing': 1, 'c/c++': 8, 'tensorflow': 1, 'network': 1, 'typescript': 1, 'amazon web services (aws)': 2, 'pytorch': 1, 'latex': 1, 'matlab': 2, 'r': 1, 'ocaml': 2, 'scala': 1, 'hadoop': 1, 'css': 1, 'apache spark': 2, 'elasticsearch': 1, 'distribued systems': 1, 'machine learning': 1, 'spring mvc': 1, 'node.js': 1, 'embedded software': 1, 'leadership': 1, 'big data analytics': 1, 'http': 1, 'mongodb': 1, 'web development': 1, 'computer science': 1, 'databases': 1, 'json': 1, 'algorithms': 1, 'python (programming language)': 1, 'data structures': 1, 'android': 1, 'hbase': 1, 'prolog': 1, 'guice': 1, 'mokito': 1})\n"
     ]
    }
   ],
   "source": [
    "import json\n",
    "from collections import defaultdict\n",
    "\n",
    "companies = defaultdict(int)\n",
    "location = defaultdict(int)\n",
    "skills = defaultdict(int)\n",
    "industry = defaultdict(int)\n",
    "\n",
    "with open('143data.json','r') as f:\n",
    "    allpeople = f.readlines()\n",
    "    \n",
    "    for person in allpeople:\n",
    "        info = json.loads(person)\n",
    "\n",
    "#         print(info[\"lastName\"], info[\"firstName\"])\n",
    "        industry[info['industryName']] += 1\n",
    "\n",
    "        if not info['student']:\n",
    "            companies[info['experience'][0]['companyName']] += 1\n",
    "            \n",
    "        curPlace = info['geoLocationName']\n",
    "        city, state = curPlace.split(',')\n",
    "        found = None #indicator of whether location has found in certain format\n",
    "        for savedCity, savedState in location:\n",
    "            if city in savedCity:\n",
    "                found = True\n",
    "                location[(savedCity, savedState)] += 1\n",
    "                \n",
    "        if not found:\n",
    "            location[(city,state)] += 1\n",
    "        \n",
    "        for skill in info['skills']:\n",
    "            if skill['name'].lower() == 'c' or skill['name'].lower() == 'c++' or skill['name'].lower() == 'c/c++' :\n",
    "                skills['c/c++'] += 1\n",
    "            else:\n",
    "                skills[skill['name'].lower()] += 1\n",
    "print(companies)\n",
    "print(location)\n",
    "print(industry)\n",
    "print(skills)\n",
    "        \n",
    "            "
   ]
  },
  {
   "cell_type": "code",
   "execution_count": null,
   "metadata": {},
   "outputs": [],
   "source": []
  }
 ],
 "metadata": {
  "kernelspec": {
   "display_name": "Python 3",
   "language": "python",
   "name": "python3"
  },
  "language_info": {
   "codemirror_mode": {
    "name": "ipython",
    "version": 3
   },
   "file_extension": ".py",
   "mimetype": "text/x-python",
   "name": "python",
   "nbconvert_exporter": "python",
   "pygments_lexer": "ipython3",
   "version": "3.7.3"
  }
 },
 "nbformat": 4,
 "nbformat_minor": 2
}
