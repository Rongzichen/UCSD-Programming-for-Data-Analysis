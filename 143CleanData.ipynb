{
 "cells": [
  {
   "cell_type": "markdown",
   "metadata": {},
   "source": [
    "# UCSD ECE143 Final Project"
   ]
  },
  {
   "cell_type": "markdown",
   "metadata": {},
   "source": [
    "## 1. Data Clean Up"
   ]
  },
  {
   "cell_type": "code",
   "execution_count": 10,

   "metadata": {},
   "outputs": [
    {
     "name": "stdout",
     "output_type": "stream",
     "text": [
      "geoloc\n",
      "{'industryName': 'Computer Software', 'lastName': 'Wang', 'locationName': 'United States', 'student': False, 'geoCountryName': 'United States', 'geoCountryUrn': 'urn:li:fs_geo:103644278', 'geoLocationBackfilled': True, 'elt': False, 'industryUrn': 'urn:li:fs_industry:4', 'firstName': 'Yirui', 'entityUrn': 'urn:li:fs_profile:ACoAACiQY70B8Qj29NKQBjnGoTRrcQFAbwuxxjo', 'geoLocation': {'geoUrn': 'urn:li:fs_geo:103644278'}, 'location': {'preferredGeoPlace': 'urn:li:fs_city:(us,27-8)', 'basicLocation': {'countryCode': 'us'}}, 'headline': 'Seeking SDE intern opportunities in 2020 summer', 'displayPictureUrl': 'https://media.licdn.com/dms/image/C5103AQEoW27BfnkweQ/profile-displayphoto-shrink_', 'profile_id': 'ACoAACiQY70B8Qj29NKQBjnGoTRrcQFAbwuxxjo', 'experience': [{'locationName': 'Hangzhou, Zhejiang, China', 'entityUrn': 'urn:li:fs_position:(ACoAACiQY70B8Qj29NKQBjnGoTRrcQFAbwuxxjo,1496495174)', 'geoLocationName': 'Hangzhou, Zhejiang, China', 'geoUrn': 'urn:li:fs_geo:90009563', 'companyName': 'Alibaba Group', 'timePeriod': {'endDate': {'month': 8, 'year': 2018}, 'startDate': {'month': 7, 'year': 2018}}, 'description': '- Modiﬁed user management system based on Webx (internal web framework) to improve the user experience\\n- Added orders’ logistics information to orders’ delivery app with HSF (internal RPC framework) for better security\\n- Contributed to RocketMQ (distributed message middle-ware) by designing a non-persistent broker which stores messages in memory instead of ﬂushing to disk, decreasing the message delivery latency', 'company': {'employeeCountRange': {'start': 10001}, 'industries': ['Information Technology and Services']}, 'title': 'Software Engineer Intern', 'region': 'urn:li:fs_region:(cn,8931)', 'companyUrn': 'urn:li:fs_miniCompany:3839570', 'companyLogoUrl': 'https://media.licdn.com/dms/image/C510BAQF8nHU8UQ1ESQ/company-logo_'}, {'locationName': 'Hangzhou, Zhejiang, China', 'entityUrn': 'urn:li:fs_position:(ACoAACiQY70B8Qj29NKQBjnGoTRrcQFAbwuxxjo,1496494622)', 'geoLocationName': 'Hangzhou, Zhejiang, China', 'geoUrn': 'urn:li:fs_geo:90009563', 'companyName': 'DeepThink', 'timePeriod': {'endDate': {'month': 3, 'year': 2018}, 'startDate': {'month': 1, 'year': 2018}}, 'description': '- Developed a back-end service using WeChat’s API in Java, satisfying users’ requests for latest information on WeChat Open Platform\\n- Wrote shell scripts to deploy the back-end server using Apache Tomcat on Alibaba Cloud', 'company': {}, 'title': 'Software Engineer Intern', 'region': 'urn:li:fs_region:(cn,8931)', 'companyUrn': 'urn:li:fs_miniCompany:18280604'}], 'skills': [{'name': 'Java', 'standardizedSkillUrn': 'urn:li:fs_miniSkill:147', 'standardizedSkill': {'name': 'Java', 'entityUrn': 'urn:li:fs_miniSkill:147'}}, {'name': 'C++', 'standardizedSkillUrn': 'urn:li:fs_miniSkill:198', 'standardizedSkill': {'name': 'C++', 'entityUrn': 'urn:li:fs_miniSkill:198'}}, {'name': 'Python'}, {'name': 'Software Design Patterns', 'standardizedSkillUrn': 'urn:li:fs_miniSkill:18348', 'standardizedSkill': {'name': 'Software Design Patterns', 'entityUrn': 'urn:li:fs_miniSkill:18348'}}, {'name': 'SQL', 'standardizedSkillUrn': 'urn:li:fs_miniSkill:483', 'standardizedSkill': {'name': 'SQL', 'entityUrn': 'urn:li:fs_miniSkill:483'}}, {'name': 'Shell Scripting', 'standardizedSkillUrn': 'urn:li:fs_miniSkill:2132', 'standardizedSkill': {'name': 'Shell Scripting', 'entityUrn': 'urn:li:fs_miniSkill:2132'}}, {'name': 'C (Programming Language)'}], 'education': [{'entityUrn': 'urn:li:fs_education:(ACoAACiQY70B8Qj29NKQBjnGoTRrcQFAbwuxxjo,605281644)', 'school': {'objectUrn': 'urn:li:school:17954', 'entityUrn': 'urn:li:fs_miniSchool:17954', 'active': True, 'schoolName': 'University of California San Diego', 'trackingId': '61EMGKg3REu2xXJAwcryXg==', 'logoUrl': 'https://media.licdn.com/dms/image/C560BAQHQYa-3EY_aaQ/company-logo_'}, 'timePeriod': {'endDate': {'year': 2021}, 'startDate': {'year': 2019}}, 'fieldOfStudyUrn': 'urn:li:fs_fieldOfStudy:100189', 'degreeName': 'Master of Science - MS', 'schoolName': 'University of California San Diego', 'fieldOfStudy': 'Computer Science', 'degreeUrn': 'urn:li:fs_degree:626', 'schoolUrn': 'urn:li:fs_miniSchool:17954'}, {'projects': ['urn:li:fs_project:(ACoAACiQY70B8Qj29NKQBjnGoTRrcQFAbwuxxjo,1973996020)', 'urn:li:fs_project:(ACoAACiQY70B8Qj29NKQBjnGoTRrcQFAbwuxxjo,1974639677)', 'urn:li:fs_project:(ACoAACiQY70B8Qj29NKQBjnGoTRrcQFAbwuxxjo,1974709954)', 'urn:li:fs_project:(ACoAACiQY70B8Qj29NKQBjnGoTRrcQFAbwuxxjo,1974882501)'], 'entityUrn': 'urn:li:fs_education:(ACoAACiQY70B8Qj29NKQBjnGoTRrcQFAbwuxxjo,552887448)', 'school': {'objectUrn': 'urn:li:school:11469', 'entityUrn': 'urn:li:fs_miniSchool:11469', 'active': True, 'schoolName': 'Zhejiang University', 'trackingId': 'mcfejy3tS8iBCK5SPXp5Bw==', 'logoUrl': 'https://media.licdn.com/dms/image/C510BAQFqHuGrMlNcfg/company-logo_'}, 'timePeriod': {'endDate': {'year': 2019}, 'startDate': {'year': 2015}}, 'description': 'Selected Coursework: Discrete Mathematics, Data Structures & Algorithms, Database Systems, Object Oriented Programming, Computer Organization, Operating Systems, Computer Networks, Compiler Principles', 'fieldOfStudyUrn': 'urn:li:fs_fieldOfStudy:100379', 'degreeName': 'Bachelor of Engineering - BE', 'schoolName': 'Zhejiang University', 'fieldOfStudy': 'Automation', 'degreeUrn': 'urn:li:fs_degree:269', 'schoolUrn': 'urn:li:fs_miniSchool:11469'}, {'entityUrn': 'urn:li:fs_education:(ACoAACiQY70B8Qj29NKQBjnGoTRrcQFAbwuxxjo,607132307)', 'school': {'objectUrn': 'urn:li:school:17939', 'entityUrn': 'urn:li:fs_miniSchool:17939', 'active': True, 'schoolName': 'University of California, Berkeley', 'trackingId': 'Dkq/rbroTQqIroIw+NA5cQ==', 'logoUrl': 'https://media.licdn.com/dms/image/C560BAQHylmb-tm1JOw/company-logo_'}, 'timePeriod': {'endDate': {'year': 2017}, 'startDate': {'year': 2017}}, 'degreeName': 'Summer Session', 'schoolName': 'University of California, Berkeley', 'schoolUrn': 'urn:li:fs_miniSchool:17939'}]}\n",
      "\n",
      "\n",
      "\n",
      "\n",
      "geoloc\n",
      "{'summary': \"UCSD CS '19 | Software Engineer\", 'industryName': 'Computer Software', 'lastName': 'Suresh', 'locationName': 'United States', 'student': False, 'geoCountryName': 'United States', 'geoCountryUrn': 'urn:li:fs_geo:103644278', 'geoLocationBackfilled': True, 'elt': False, 'industryUrn': 'urn:li:fs_industry:4', 'firstName': 'Gokul', 'entityUrn': 'urn:li:fs_profile:ACoAABqFbzgBSdVPZ7T3ERM2NBXPZQc9aD90tYQ', 'geoLocation': {'geoUrn': 'urn:li:fs_geo:90000084'}, 'geoLocationName': 'San Francisco Bay Area', 'location': {'basicLocation': {'countryCode': 'us'}}, 'headline': 'Software Engineer at Facebook', 'displayPictureUrl': 'https://media.licdn.com/dms/image/C5603AQFuAMA7qK5D4g/profile-displayphoto-shrink_', 'profile_id': 'ACoAABqFbzgBSdVPZ7T3ERM2NBXPZQc9aD90tYQ', 'experience': [{'locationName': 'Menlo Park, CA', 'entityUrn': 'urn:li:fs_position:(ACoAABqFbzgBSdVPZ7T3ERM2NBXPZQc9aD90tYQ,1510638028)', 'geoLocationName': 'Menlo Park, CA', 'companyName': 'Facebook', 'timePeriod': {'startDate': {'month': 9, 'year': 2019}}, 'description': 'Messenger Sharing ', 'company': {'employeeCountRange': {'start': 10001}, 'industries': ['Internet']}, 'title': 'Software Engineer', 'companyUrn': 'urn:li:fs_miniCompany:10667', 'companyLogoUrl': 'https://media.licdn.com/dms/image/C560BAQFjQHzcZz7J6g/company-logo_'}, {'locationName': 'Seattle, WA', 'entityUrn': 'urn:li:fs_position:(ACoAABqFbzgBSdVPZ7T3ERM2NBXPZQc9aD90tYQ,1389974834)', 'geoLocationName': 'Seattle, WA', 'companyName': 'Amazon', 'timePeriod': {'endDate': {'month': 12, 'year': 2018}, 'startDate': {'month': 9, 'year': 2018}}, 'description': 'Interned on the AWS Data Platform team.\\n\\nAdded extensions to the backend service to enable customers to run Athena and Elastic MapReduce jobs.\\n\\nImplemented features on the AWS Data Lake UI in Node.js and React to allow customers to easily create and manage jobs.', 'company': {'employeeCountRange': {'start': 10001}, 'industries': ['Internet']}, 'title': 'Software Development Engineer Intern', 'companyUrn': 'urn:li:fs_miniCompany:1586', 'companyLogoUrl': 'https://media.licdn.com/dms/image/C560BAQFdwVGpSOHmgw/company-logo_'}, {'locationName': 'Sunnyvale, CA', 'entityUrn': 'urn:li:fs_position:(ACoAABqFbzgBSdVPZ7T3ERM2NBXPZQc9aD90tYQ,1329761009)', 'geoLocationName': 'Sunnyvale, CA', 'companyName': 'Google', 'timePeriod': {'endDate': {'month': 9, 'year': 2018}, 'startDate': {'month': 6, 'year': 2018}}, 'description': 'Interned on the Google Voice for G Suite team.\\n\\nImplemented data-parallel pipelines in Java and MapReduce to compute metrics on user call data at scale.\\n\\nWorked on the admin console UI using JavaScript and Closure templates to add features for phone number management.', 'company': {'employeeCountRange': {'start': 10001}, 'industries': ['Internet']}, 'title': 'Software Engineering Intern', 'companyUrn': 'urn:li:fs_miniCompany:1441', 'companyLogoUrl': 'https://media.licdn.com/dms/image/C4D0BAQHiNSL4Or29cg/company-logo_'}, {'locationName': 'San Diego, CA', 'entityUrn': 'urn:li:fs_position:(ACoAABqFbzgBSdVPZ7T3ERM2NBXPZQc9aD90tYQ,1198425417)', 'geoLocationName': 'San Diego, CA', 'geoUrn': 'urn:li:fs_geo:100737633', 'companyName': 'University of California, San Diego - Jacobs School of Engineering', 'timePeriod': {'endDate': {'month': 6, 'year': 2018}, 'startDate': {'month': 9, 'year': 2017}}, 'description': 'Tutor under Professor Paul Cao for Introduction to Computer Science (CSE 8A/8B).\\n\\nDeveloped grading scripts to facilitate auto-grading of student assignments.\\n\\nAssisted in the design of programming assignments and labs.\\n\\nProvided lab hours to assist students with introductory programming concepts like recursion, inheritance, and polymorphism.\\n', 'company': {'employeeCountRange': {'start': 1001, 'end': 5000}, 'industries': ['Higher Education']}, 'title': 'CSE Tutor', 'region': 'urn:li:fs_region:(us,732)', 'companyUrn': 'urn:li:fs_miniCompany:15096606', 'companyLogoUrl': 'https://media.licdn.com/dms/image/C4D0BAQHEc15VMuDaGg/company-logo_'}, {'locationName': 'Greater Los Angeles Area', 'entityUrn': 'urn:li:fs_position:(ACoAABqFbzgBSdVPZ7T3ERM2NBXPZQc9aD90tYQ,1024935909)', 'geoLocationName': 'Greater Los Angeles Area', 'geoUrn': 'urn:li:fs_geo:90000049', 'companyName': 'Bank of America', 'timePeriod': {'endDate': {'month': 9, 'year': 2017}, 'startDate': {'month': 6, 'year': 2017}}, 'description': 'Member of the Applications Development team responsible for loss-mitigation software.\\n\\nDeveloped a Single-Page Application for internal tools using the .NET MVC and AngularJS frameworks.\\n\\nOptimized the middle layer of loan modification software by implementing a centralized rule engine using Java EE and the ILOG JRules API, leading to an increase in process efficiency by over 20%.', 'company': {'employeeCountRange': {'start': 10001}, 'industries': ['Banking']}, 'title': 'Summer Technology Analyst - Developer', 'region': 'urn:li:fs_region:(us,49)', 'companyUrn': 'urn:li:fs_miniCompany:1123', 'companyLogoUrl': 'https://media.licdn.com/dms/image/C4E0BAQEBvcSTMKJPqw/company-logo_'}], 'skills': [{'name': 'Java'}, {'name': 'C++'}, {'name': 'C'}, {'name': 'Python'}, {'name': 'Bootstrap'}, {'name': 'Unix'}, {'name': 'HTML'}, {'name': 'CSS'}, {'name': 'Android Development'}], 'education': [{'courses': ['urn:li:fs_course:(ACoAABqFbzgBSdVPZ7T3ERM2NBXPZQc9aD90tYQ,1)', 'urn:li:fs_course:(ACoAABqFbzgBSdVPZ7T3ERM2NBXPZQc9aD90tYQ,12)', 'urn:li:fs_course:(ACoAABqFbzgBSdVPZ7T3ERM2NBXPZQc9aD90tYQ,14)', 'urn:li:fs_course:(ACoAABqFbzgBSdVPZ7T3ERM2NBXPZQc9aD90tYQ,15)', 'urn:li:fs_course:(ACoAABqFbzgBSdVPZ7T3ERM2NBXPZQc9aD90tYQ,16)', 'urn:li:fs_course:(ACoAABqFbzgBSdVPZ7T3ERM2NBXPZQc9aD90tYQ,17)'], 'projects': ['urn:li:fs_project:(ACoAABqFbzgBSdVPZ7T3ERM2NBXPZQc9aD90tYQ,1699627819)'], 'entityUrn': 'urn:li:fs_education:(ACoAABqFbzgBSdVPZ7T3ERM2NBXPZQc9aD90tYQ,299627176)', 'school': {'objectUrn': 'urn:li:school:17954', 'entityUrn': 'urn:li:fs_miniSchool:17954', 'active': True, 'schoolName': 'University of California San Diego', 'trackingId': 'P0u0G1ECT2OGfVF8AtERow==', 'logoUrl': 'https://media.licdn.com/dms/image/C560BAQHQYa-3EY_aaQ/company-logo_'}, 'activities': 'Tau Beta Pi - Engineering Honor Society', 'grade': 'magna cum laude', 'timePeriod': {'endDate': {'year': 2019}, 'startDate': {'year': 2015}}, 'degreeName': 'Bachelor of Science (B.S.)', 'schoolName': 'University of California, San Diego', 'fieldOfStudy': 'Computer Science', 'honors': ['urn:li:fs_honor:(ACoAABqFbzgBSdVPZ7T3ERM2NBXPZQc9aD90tYQ,1696710467)'], 'schoolUrn': 'urn:li:fs_miniSchool:17954'}, {'courses': ['urn:li:fs_course:(ACoAABqFbzgBSdVPZ7T3ERM2NBXPZQc9aD90tYQ,5)', 'urn:li:fs_course:(ACoAABqFbzgBSdVPZ7T3ERM2NBXPZQc9aD90tYQ,6)', 'urn:li:fs_course:(ACoAABqFbzgBSdVPZ7T3ERM2NBXPZQc9aD90tYQ,7)', 'urn:li:fs_course:(ACoAABqFbzgBSdVPZ7T3ERM2NBXPZQc9aD90tYQ,8)', 'urn:li:fs_course:(ACoAABqFbzgBSdVPZ7T3ERM2NBXPZQc9aD90tYQ,9)', 'urn:li:fs_course:(ACoAABqFbzgBSdVPZ7T3ERM2NBXPZQc9aD90tYQ,10)'], 'entityUrn': 'urn:li:fs_education:(ACoAABqFbzgBSdVPZ7T3ERM2NBXPZQc9aD90tYQ,303337567)', 'timePeriod': {'endDate': {'year': 2015}, 'startDate': {'year': 2009}}, 'degreeName': 'International Baccalaureate Diploma, IGCSE', 'schoolName': 'The International School Bangalore', 'honors': ['urn:li:fs_honor:(ACoAABqFbzgBSdVPZ7T3ERM2NBXPZQc9aD90tYQ,1829982054)']}]}\n",
      "\n",
      "\n",
      "\n",
      "\n",
      "industry\n",
      "{'summary': 'Currently searching for Back-end, Data Science, Security and general Software Engineering Intern positions.', 'lastName': 'Ji', 'locationName': 'La Jolla, California', 'student': False, 'geoCountryName': 'United States', 'geoCountryUrn': 'urn:li:fs_geo:103644278', 'geoLocationBackfilled': True, 'elt': False, 'industryUrn': 'urn:li:fs_industry:-1', 'firstName': 'Mingjun', 'entityUrn': 'urn:li:fs_profile:ACoAABR45O8BGNeUwloR-uiyWTTcKoewiM1LzHs', 'geoLocation': {'geoUrn': 'urn:li:fs_geo:100737633'}, 'geoLocationName': 'San Diego County, California', 'location': {'preferredGeoPlace': 'urn:li:fs_city:(us,7-1-0-37-24)', 'basicLocation': {'countryCode': 'us'}}, 'headline': 'Undergraduate CSE Tutor at University of California, San Diego', 'profile_id': 'ACoAABR45O8BGNeUwloR-uiyWTTcKoewiM1LzHs', 'experience': [{'locationName': 'Greater Seattle Area', 'entityUrn': 'urn:li:fs_position:(ACoAABR45O8BGNeUwloR-uiyWTTcKoewiM1LzHs,1135017649)', 'geoLocationName': 'Greater Seattle Area', 'geoUrn': 'urn:li:fs_geo:90000091', 'companyName': 'Amazon', 'timePeriod': {'endDate': {'month': 9, 'year': 2017}, 'startDate': {'month': 6, 'year': 2017}}, 'description': 'Worked in Kindle Reader team.\\nMigrated deprecating service to new service and presented the changes on the client side.\\nDesigned Proof of Concept React Native component for part of Kindle for iPhone app.', 'company': {'employeeCountRange': {'start': 10001}, 'industries': ['Internet']}, 'title': 'Software Engineering Intern', 'region': 'urn:li:fs_region:(us,91)', 'companyUrn': 'urn:li:fs_miniCompany:1586', 'companyLogoUrl': 'https://media.licdn.com/dms/image/C560BAQFdwVGpSOHmgw/company-logo_'}, {'entityUrn': 'urn:li:fs_position:(ACoAABR45O8BGNeUwloR-uiyWTTcKoewiM1LzHs,815852868)', 'companyName': 'Qualcomm', 'timePeriod': {'endDate': {'month': 9, 'year': 2016}, 'startDate': {'month': 5, 'year': 2016}}, 'description': 'Developed customized in-house Test Pattern Control software for CPU, GPU & DDR benchmarking on Android device for gated measurements for QCT Failure Analysis team', 'company': {'employeeCountRange': {'start': 10001}, 'industries': ['Wireless']}, 'title': 'Software Engineering Intern', 'companyUrn': 'urn:li:fs_miniCompany:2017', 'companyLogoUrl': 'https://media.licdn.com/dms/image/C4E0BAQFIzy7XU945xg/company-logo_'}], 'skills': [{'name': 'Java'}, {'name': 'Microsoft Word'}, {'name': 'Public Speaking'}, {'name': 'Microsoft Office', 'standardizedSkillUrn': 'urn:li:fs_miniSkill:366', 'standardizedSkill': {'name': 'Microsoft Office', 'entityUrn': 'urn:li:fs_miniSkill:366'}}, {'name': 'Microsoft Excel', 'standardizedSkillUrn': 'urn:li:fs_miniSkill:163', 'standardizedSkill': {'name': 'Microsoft Excel', 'entityUrn': 'urn:li:fs_miniSkill:163'}}, {'name': 'PowerPoint', 'standardizedSkillUrn': 'urn:li:fs_miniSkill:310', 'standardizedSkill': {'name': 'Microsoft PowerPoint', 'entityUrn': 'urn:li:fs_miniSkill:310'}}, {'name': 'HTML', 'standardizedSkillUrn': 'urn:li:fs_miniSkill:280', 'standardizedSkill': {'name': 'HTML', 'entityUrn': 'urn:li:fs_miniSkill:280'}}, {'name': 'C++', 'standardizedSkillUrn': 'urn:li:fs_miniSkill:198', 'standardizedSkill': {'name': 'C++', 'entityUrn': 'urn:li:fs_miniSkill:198'}}, {'name': 'C', 'standardizedSkillUrn': 'urn:li:fs_miniSkill:438', 'standardizedSkill': {'name': 'C (Programming Language)', 'entityUrn': 'urn:li:fs_miniSkill:438'}}, {'name': 'English', 'standardizedSkillUrn': 'urn:li:fs_miniSkill:274', 'standardizedSkill': {'name': 'English', 'entityUrn': 'urn:li:fs_miniSkill:274'}}, {'name': 'python'}, {'name': 'ocaml'}, {'name': 'verilog'}, {'name': 'Linux'}, {'name': 'JavaScript'}, {'name': 'Matlab'}, {'name': 'Python'}, {'name': 'Software Development'}, {'name': 'Microsoft PowerPoint'}, {'name': 'Verilog'}], 'education': [{'courses': ['urn:li:fs_course:(ACoAABR45O8BGNeUwloR-uiyWTTcKoewiM1LzHs,1716259162)', 'urn:li:fs_course:(ACoAABR45O8BGNeUwloR-uiyWTTcKoewiM1LzHs,1716259284)', 'urn:li:fs_course:(ACoAABR45O8BGNeUwloR-uiyWTTcKoewiM1LzHs,1716259397)', 'urn:li:fs_course:(ACoAABR45O8BGNeUwloR-uiyWTTcKoewiM1LzHs,1716259528)', 'urn:li:fs_course:(ACoAABR45O8BGNeUwloR-uiyWTTcKoewiM1LzHs,1716259622)', 'urn:li:fs_course:(ACoAABR45O8BGNeUwloR-uiyWTTcKoewiM1LzHs,1716259715)', 'urn:li:fs_course:(ACoAABR45O8BGNeUwloR-uiyWTTcKoewiM1LzHs,1716259846)', 'urn:li:fs_course:(ACoAABR45O8BGNeUwloR-uiyWTTcKoewiM1LzHs,1716259964)', 'urn:li:fs_course:(ACoAABR45O8BGNeUwloR-uiyWTTcKoewiM1LzHs,1716259965)', 'urn:li:fs_course:(ACoAABR45O8BGNeUwloR-uiyWTTcKoewiM1LzHs,1716259966)', 'urn:li:fs_course:(ACoAABR45O8BGNeUwloR-uiyWTTcKoewiM1LzHs,1716259967)', 'urn:li:fs_course:(ACoAABR45O8BGNeUwloR-uiyWTTcKoewiM1LzHs,1716259968)', 'urn:li:fs_course:(ACoAABR45O8BGNeUwloR-uiyWTTcKoewiM1LzHs,1716259969)', 'urn:li:fs_course:(ACoAABR45O8BGNeUwloR-uiyWTTcKoewiM1LzHs,1716259970)', 'urn:li:fs_course:(ACoAABR45O8BGNeUwloR-uiyWTTcKoewiM1LzHs,1716259971)'], 'entityUrn': 'urn:li:fs_education:(ACoAABR45O8BGNeUwloR-uiyWTTcKoewiM1LzHs,220584886)', 'school': {'objectUrn': 'urn:li:school:17954', 'entityUrn': 'urn:li:fs_miniSchool:17954', 'active': True, 'schoolName': 'University of California San Diego', 'trackingId': '+I9gFFfYRv+RVJ7PsedlZw==', 'logoUrl': 'https://media.licdn.com/dms/image/C560BAQHQYa-3EY_aaQ/company-logo_'}, 'activities': 'Bodybuilding, Basketball', 'grade': '3.8', 'timePeriod': {'endDate': {'year': 2017}, 'startDate': {'year': 2013}}, 'degreeName': 'Bachelor’s Degree', 'schoolName': 'University of California, San Diego', 'fieldOfStudy': 'Computer Science', 'schoolUrn': 'urn:li:fs_miniSchool:17954'}]}\n",
      "\n",
      "\n",
      "\n",
      "\n",
      "geoloc\n",
      "{'summary': \"I'm a master's student at USCD. major in Image Processing and Computer Engineering, with the ability of Python, Tensorflow. Keras. I have experience in model acceleration, optimization, image/video data classification and detection in autonomous driving. Please contact me for the job opportunities.\", 'industryName': 'Computer Software', 'lastName': 'Zhang ', 'locationName': 'United States', 'student': False, 'geoCountryName': 'United States', 'geoCountryUrn': 'urn:li:fs_geo:103644278', 'geoLocationBackfilled': True, 'elt': False, 'industryUrn': 'urn:li:fs_industry:4', 'firstName': 'Kaiyu', 'entityUrn': 'urn:li:fs_profile:ACoAACPmgFUB_jdUZ1e6oamZFfqiXCmvFlsNB9U', 'geoLocation': {'geoUrn': 'urn:li:fs_geo:90000084'}, 'geoLocationName': 'San Francisco Bay Area', 'location': {'basicLocation': {'countryCode': 'us'}}, 'headline': 'Machine Learning and Deep Learning Engineer', 'displayPictureUrl': 'https://media.licdn.com/dms/image/C5603AQG_mf5cFSp5IQ/profile-displayphoto-shrink_', 'profile_id': 'ACoAACPmgFUB_jdUZ1e6oamZFfqiXCmvFlsNB9U', 'experience': [{'locationName': 'San Francisco Bay Area', 'entityUrn': 'urn:li:fs_position:(ACoAACPmgFUB_jdUZ1e6oamZFfqiXCmvFlsNB9U,1515664267)', 'geoLocationName': 'San Francisco Bay Area', 'companyName': 'OPPO', 'timePeriod': {'startDate': {'month': 9, 'year': 2019}}, 'description': 'Build state-of-art model using sequence model and CNN for OCR projects.', 'company': {'employeeCountRange': {'start': 10001}, 'industries': ['Telecommunications']}, 'title': 'Machine Learning and Deep Learning Engineer', 'companyUrn': 'urn:li:fs_miniCompany:2852649', 'companyLogoUrl': 'https://media.licdn.com/dms/image/C510BAQGFNdprqMN0ug/company-logo_'}, {'locationName': 'Greater New York City Area', 'entityUrn': 'urn:li:fs_position:(ACoAACPmgFUB_jdUZ1e6oamZFfqiXCmvFlsNB9U,1407125962)', 'geoLocationName': 'Greater New York City Area', 'geoUrn': 'urn:li:fs_geo:90000070', 'companyName': 'FutureWei Technologies, Inc', 'timePeriod': {'endDate': {'month': 9, 'year': 2019}, 'startDate': {'month': 1, 'year': 2019}}, 'description': 'Model Prune and Architecture Search Project\\n· Applied Neural Network Prune & Architecture Search to achieve state of the art accuracy in predicting future behavior using Multivariate Datesets using Auto-Keras and Tensorflow in Python\\n· Applied latest sparsing methods, including adding l_0-norm, Proximal Optimization, Magnitude Pruning methods in Python with Keras and Tensorflow and utilized GPUs to accelerate training process \\n· Finalized Dense-Sparse-Dense(DSD) model in Resnet50 and increased the F1-score from 84% to 96% while reduced 60% model size, significantly better than widely used model such as XGboost and LightGBM.', 'company': {'employeeCountRange': {'start': 10001}, 'industries': ['Telecommunications']}, 'title': 'Machine Learning and Deep Learning Researcher', 'region': 'urn:li:fs_region:(us,70)', 'companyUrn': 'urn:li:fs_miniCompany:3014', 'companyLogoUrl': 'https://media.licdn.com/dms/image/C510BAQHDjJMzWUhMfg/company-logo_'}, {'locationName': 'Greater San Diego Area', 'entityUrn': 'urn:li:fs_position:(ACoAACPmgFUB_jdUZ1e6oamZFfqiXCmvFlsNB9U,1392952416)', 'geoLocationName': 'Greater San Diego Area', 'geoUrn': 'urn:li:fs_geo:100737633', 'companyName': 'University of California San Diego', 'timePeriod': {'endDate': {'month': 1, 'year': 2019}, 'startDate': {'month': 9, 'year': 2018}}, 'description': 'Teaching Assistant for class ECE253, Digital Image Processing.', 'company': {'employeeCountRange': {'start': 10001}, 'industries': ['Higher Education']}, 'title': 'Teaching Assistant', 'region': 'urn:li:fs_region:(us,732)', 'companyUrn': 'urn:li:fs_miniCompany:3382', 'companyLogoUrl': 'https://media.licdn.com/dms/image/C560BAQHQYa-3EY_aaQ/company-logo_'}, {'locationName': 'Shenzhen, Guangdong, China', 'entityUrn': 'urn:li:fs_position:(ACoAACPmgFUB_jdUZ1e6oamZFfqiXCmvFlsNB9U,1338149086)', 'geoLocationName': 'Shenzhen, Guangdong, China', 'geoUrn': 'urn:li:fs_geo:106750182', 'companyName': 'Huawei Technologies', 'timePeriod': {'endDate': {'month': 9, 'year': 2018}, 'startDate': {'month': 6, 'year': 2018}}, 'description': 'Application Recommender Systerm in Smart Phone\\n※\\tBuilt recommender system in smart-phone to recommend applications using Federated Learning in Java.\\n※\\tProcessed big data using Spark, and finished different feature engineering methods for increasing accuracy from 60% to above 90%\\n※\\tImplemented GBDT, SVM, Random Forrest and sequence model such as Markov Chain, HMM and LSTM for time series data ', 'company': {'employeeCountRange': {'start': 10001}, 'industries': ['Telecommunications']}, 'title': 'Machine Learning Engineer internship', 'region': 'urn:li:fs_region:(cn,8910)', 'companyUrn': 'urn:li:fs_miniCompany:3014', 'companyLogoUrl': 'https://media.licdn.com/dms/image/C510BAQHDjJMzWUhMfg/company-logo_'}, {'entityUrn': 'urn:li:fs_position:(ACoAACPmgFUB_jdUZ1e6oamZFfqiXCmvFlsNB9U,1095797964)', 'companyName': 'BOE Technology Group Co., Ltd.', 'timePeriod': {'endDate': {'month': 6, 'year': 2017}, 'startDate': {'month': 2, 'year': 2017}}, 'company': {'employeeCountRange': {'start': 10001}, 'industries': ['Semiconductors']}, 'title': 'Software Engineer', 'companyUrn': 'urn:li:fs_miniCompany:1360550', 'companyLogoUrl': 'https://media.licdn.com/dms/image/C4D0BAQGnmDQqfmUb6w/company-logo_'}], 'skills': [{'name': 'Python'}, {'name': 'Machine Learning'}, {'name': 'data analysis'}, {'name': 'Computer Vision'}, {'name': 'Android 开发', 'standardizedSkillUrn': 'urn:li:fs_miniSkill:26904', 'standardizedSkill': {'name': 'Android Development', 'entityUrn': 'urn:li:fs_miniSkill:26904'}}, {'name': 'Image Processing'}, {'name': 'Microsoft Office'}, {'name': 'Java'}, {'name': 'Keras'}, {'name': 'LightGBM'}, {'name': 'TensorFlow'}, {'name': 'Digital Image Processing'}, {'name': 'Feature Engineering'}, {'name': 'Long Short-term Memory (LSTM)'}, {'name': 'Apache Spark'}, {'name': 'Deep Learning'}, {'name': 'XGBoost'}, {'name': 'Pruning'}, {'name': 'SQL'}, {'name': 'MySQL'}, {'name': 'NoSQL'}, {'name': 'Linux'}], 'education': [{'entityUrn': 'urn:li:fs_education:(ACoAACPmgFUB_jdUZ1e6oamZFfqiXCmvFlsNB9U,454535387)', 'school': {'objectUrn': 'urn:li:school:17954', 'entityUrn': 'urn:li:fs_miniSchool:17954', 'active': True, 'schoolName': 'University of California San Diego', 'trackingId': 'zXtVYMQ0RviKtjJvcf9z7w==', 'logoUrl': 'https://media.licdn.com/dms/image/C560BAQHQYa-3EY_aaQ/company-logo_'}, 'grade': '3.68/4.0', 'timePeriod': {'endDate': {'year': 2019}, 'startDate': {'year': 2017}}, 'degreeName': 'Master of Science', 'schoolName': 'University of California, San Diego', 'fieldOfStudy': 'ECE', 'degreeUrn': 'urn:li:fs_degree:626', 'schoolUrn': 'urn:li:fs_miniSchool:17954'}, {'entityUrn': 'urn:li:fs_education:(ACoAACPmgFUB_jdUZ1e6oamZFfqiXCmvFlsNB9U,454535423)', 'school': {'objectUrn': 'urn:li:school:11028', 'entityUrn': 'urn:li:fs_miniSchool:11028', 'active': True, 'schoolName': 'Beijing Institute of Technology', 'trackingId': 'jRdRaygIS0qwNOMvT5CVkA==', 'logoUrl': 'https://media.licdn.com/dms/image/C4E0BAQFE_UMhu5FzlA/company-logo_'}, 'activities': 'Outstanding graduate；\\nOutstanding student；\\nOutstanding student cadre；\\nNational Scholarship Reward；\\nDiwen Scholarship Reward；', 'grade': '3.7/4.0', 'timePeriod': {'endDate': {'year': 2017}, 'startDate': {'year': 2013}}, 'fieldOfStudyUrn': 'urn:li:fs_fieldOfStudy:100351', 'degreeName': 'Bachelor of Engineering - BE', 'schoolName': 'Beijing Institute of Technology', 'fieldOfStudy': 'Electrical and Electronics Engineering', 'honors': ['urn:li:fs_honor:(ACoAACPmgFUB_jdUZ1e6oamZFfqiXCmvFlsNB9U,285961996)', 'urn:li:fs_honor:(ACoAACPmgFUB_jdUZ1e6oamZFfqiXCmvFlsNB9U,286021293)', 'urn:li:fs_honor:(ACoAACPmgFUB_jdUZ1e6oamZFfqiXCmvFlsNB9U,1359044476)'], 'degreeUrn': 'urn:li:fs_degree:269', 'schoolUrn': 'urn:li:fs_miniSchool:11028'}]}\n",
      "\n",
      "\n",
      "\n",
      "\n",
      "geoloc\n",
      "{'industryName': 'Computer Software', 'lastName': 'zhou', 'locationName': 'United States', 'student': False, 'geoCountryName': 'United States', 'geoCountryUrn': 'urn:li:fs_geo:103644278', 'geoLocationBackfilled': True, 'elt': False, 'industryUrn': 'urn:li:fs_industry:4', 'firstName': 'xiaolong', 'entityUrn': 'urn:li:fs_profile:ACoAACCc-_EBTlTxE4PdQQV-llYWeG037o880mc', 'geoLocation': {'geoUrn': 'urn:li:fs_geo:90000091'}, 'geoLocationName': 'Greater Seattle Area', 'location': {'basicLocation': {'countryCode': 'us'}}, 'headline': 'Software Development Engineer at Amazon', 'displayPictureUrl': 'https://media.licdn.com/dms/image/C4D03AQFnr8jBMnk9lg/profile-displayphoto-shrink_', 'profile_id': 'ACoAACCc-_EBTlTxE4PdQQV-llYWeG037o880mc', 'experience': [{'locationName': 'Greater Seattle Area', 'entityUrn': 'urn:li:fs_position:(ACoAACCc-_EBTlTxE4PdQQV-llYWeG037o880mc,1456025147)', 'geoLocationName': 'Greater Seattle Area', 'geoUrn': 'urn:li:fs_geo:90000091', 'companyName': 'Amazon', 'timePeriod': {'startDate': {'month': 4, 'year': 2019}}, 'description': 'Scot Inventory Planning', 'company': {'employeeCountRange': {'start': 10001}, 'industries': ['Internet']}, 'title': 'Software Development Engineer', 'region': 'urn:li:fs_region:(us,91)', 'companyUrn': 'urn:li:fs_miniCompany:1586', 'companyLogoUrl': 'https://media.licdn.com/dms/image/C560BAQFdwVGpSOHmgw/company-logo_'}, {'locationName': 'Greater Seattle Area', 'entityUrn': 'urn:li:fs_position:(ACoAACCc-_EBTlTxE4PdQQV-llYWeG037o880mc,1428302188)', 'geoLocationName': 'Greater Seattle Area', 'geoUrn': 'urn:li:fs_geo:90000091', 'companyName': 'Amazon', 'timePeriod': {'endDate': {'month': 4, 'year': 2019}, 'startDate': {'month': 2, 'year': 2019}}, 'description': 'Last Mile Technology\\nWorked on handling exceptions platform', 'company': {'employeeCountRange': {'start': 10001}, 'industries': ['Internet']}, 'title': 'Software Development Engineer', 'region': 'urn:li:fs_region:(us,91)', 'companyUrn': 'urn:li:fs_miniCompany:1586', 'companyLogoUrl': 'https://media.licdn.com/dms/image/C560BAQFdwVGpSOHmgw/company-logo_'}, {'locationName': 'Greater Seattle Area', 'entityUrn': 'urn:li:fs_position:(ACoAACCc-_EBTlTxE4PdQQV-llYWeG037o880mc,1426104677)', 'geoLocationName': 'Greater Seattle Area', 'geoUrn': 'urn:li:fs_geo:90000091', 'companyName': 'Amazon', 'timePeriod': {'endDate': {'month': 9, 'year': 2018}, 'startDate': {'month': 6, 'year': 2018}}, 'description': 'Last Mile Technology\\nBuilt an online phone call tool which can save at least 30s for each phone call.', 'company': {'employeeCountRange': {'start': 10001}, 'industries': ['Internet']}, 'title': 'Software Development Engineer Intern', 'region': 'urn:li:fs_region:(us,91)', 'companyUrn': 'urn:li:fs_miniCompany:1586', 'companyLogoUrl': 'https://media.licdn.com/dms/image/C560BAQFdwVGpSOHmgw/company-logo_'}], 'skills': [{'name': 'Java', 'standardizedSkillUrn': 'urn:li:fs_miniSkill:147', 'standardizedSkill': {'name': 'Java', 'entityUrn': 'urn:li:fs_miniSkill:147'}}, {'name': 'C++'}, {'name': 'JAVASCRIPT'}, {'name': 'CSS'}, {'name': 'PHP'}, {'name': 'PERL'}, {'name': 'MYSQL'}, {'name': 'HTML5'}], 'education': [{'projects': ['urn:li:fs_project:(ACoAACCc-_EBTlTxE4PdQQV-llYWeG037o880mc,1033895211)', 'urn:li:fs_project:(ACoAACCc-_EBTlTxE4PdQQV-llYWeG037o880mc,1033972176)', 'urn:li:fs_project:(ACoAACCc-_EBTlTxE4PdQQV-llYWeG037o880mc,1034123783)'], 'entityUrn': 'urn:li:fs_education:(ACoAACCc-_EBTlTxE4PdQQV-llYWeG037o880mc,389129158)', 'school': {'objectUrn': 'urn:li:school:17954', 'entityUrn': 'urn:li:fs_miniSchool:17954', 'active': True, 'schoolName': 'University of California San Diego', 'trackingId': 'VB55PTUVTcakacCIHpGI5A==', 'logoUrl': 'https://media.licdn.com/dms/image/C560BAQHQYa-3EY_aaQ/company-logo_'}, 'grade': 'Major Gpa 3.70', 'timePeriod': {'endDate': {'year': 2018}, 'startDate': {'year': 2015}}, 'degreeName': \"Bachelor's degree\", 'schoolName': 'University of California San Diego', 'fieldOfStudy': 'Math-Computer Science', 'schoolUrn': 'urn:li:fs_miniSchool:17954'}]}\n",
      "\n",
      "\n",
      "\n",
      "\n",
      "geoloc\n",
      "{'industryName': 'Computer Software', 'lastName': 'Wu', 'locationName': 'United States', 'student': False, 'geoCountryName': 'United States', 'geoCountryUrn': 'urn:li:fs_geo:103644278', 'geoLocationBackfilled': True, 'elt': False, 'industryUrn': 'urn:li:fs_industry:4', 'firstName': 'Wenyi', 'entityUrn': 'urn:li:fs_profile:ACoAAB3O2EkBuh6Jrg33QPF7XtqbjZ99X8T3wpY', 'geoLocation': {'geoUrn': 'urn:li:fs_geo:90000084'}, 'geoLocationName': 'San Francisco Bay Area', 'location': {'basicLocation': {'countryCode': 'us'}}, 'headline': 'Software Engineer I at Uber ATG', 'profile_id': 'ACoAAB3O2EkBuh6Jrg33QPF7XtqbjZ99X8T3wpY', 'experience': [{'locationName': 'San Francisco Bay Area', 'entityUrn': 'urn:li:fs_position:(ACoAAB3O2EkBuh6Jrg33QPF7XtqbjZ99X8T3wpY,1462819355)', 'geoLocationName': 'San Francisco Bay Area', 'companyName': 'Uber', 'timePeriod': {'startDate': {'month': 5, 'year': 2019}}, 'description': 'SDE 1 in Uber ATG', 'company': {'employeeCountRange': {'start': 10001}, 'industries': ['Internet']}, 'title': 'Software Engineer I', 'companyUrn': 'urn:li:fs_miniCompany:1815218', 'companyLogoUrl': 'https://media.licdn.com/dms/image/C4D0BAQFiYnR1Mbtxdg/company-logo_'}, {'locationName': 'Greater San Diego Area', 'entityUrn': 'urn:li:fs_position:(ACoAAB3O2EkBuh6Jrg33QPF7XtqbjZ99X8T3wpY,1361009246)', 'geoLocationName': 'Greater San Diego Area', 'geoUrn': 'urn:li:fs_geo:100737633', 'companyName': 'TuSimple', 'timePeriod': {'endDate': {'month': 12, 'year': 2018}, 'startDate': {'month': 6, 'year': 2018}}, 'description': '• Designed and implemented large-scale unit-test system’s backend and frontend with Python and Javascript, detected fatal failures like collision and sharp-turn over 500 hours of simulation data \\n• Deployed unit-test system on 4 servers while adding report generation, logging and access control features\\n• Adding Traffic Light feature for simulation platform using Javascript, CSS, HTML, Vue.js\\n• Analyzed and sliced important scenarios for analysis in Python, improve colleagues’ work efficiency by 95%\\n', 'company': {'employeeCountRange': {'start': 201, 'end': 500}, 'industries': ['Computer Software']}, 'title': 'Software Development Engineer Intern', 'region': 'urn:li:fs_region:(us,732)', 'companyUrn': 'urn:li:fs_miniCompany:10693191', 'companyLogoUrl': 'https://media.licdn.com/dms/image/C560BAQHSiBcbj6ZW0A/company-logo_'}, {'locationName': 'Chengdu, Sichuan, China', '$anti_abuse_annotations': [{'domainType': 'MEMBER_POSITION_LOCATION_NAME'}, {'domainType': 'MEMBER_POSITION_ID'}, {'domainType': 'MEMBER_POSITION_LOCATION_NAME'}, {'domainType': 'MEMBER_POSITION_COMPANY_NAME'}, {'domainType': 'MEMBER_POSITION_START_DATE'}, {'domainType': 'MEMBER_POSITION_END_DATE'}, {'domainType': 'MEMBER_POSITION_DESCRIPTION'}, {'domainType': 'MEMBER_POSITION_TITLE'}], 'entityUrn': 'urn:li:fs_position:(ACoAAB3O2EkBuh6Jrg33QPF7XtqbjZ99X8T3wpY,1118856085)', 'geoLocationName': 'Chengdu, Sichuan, China', 'geoUrn': 'urn:li:fs_geo:102855444', 'companyName': 'CHENSHI TECH', 'timePeriod': {'endDate': {'month': 5, 'year': 2017}, 'startDate': {'month': 11, 'year': 2016}}, 'description': 'Developed 5 python courses on Natural Language Processing and helped over 6000 users gain better understanding in Python.', 'title': 'Python Developer', 'region': 'urn:li:fs_region:(cn,8963)'}], 'skills': [{'name': 'C++'}, {'name': 'Python'}, {'name': 'Natural Language Processing'}, {'name': 'Java'}, {'name': 'Linux', 'standardizedSkillUrn': 'urn:li:fs_miniSkill:301', 'standardizedSkill': {'name': 'Linux', 'entityUrn': 'urn:li:fs_miniSkill:301'}}, {'name': 'C', 'standardizedSkillUrn': 'urn:li:fs_miniSkill:438', 'standardizedSkill': {'name': 'C (Programming Language)', 'entityUrn': 'urn:li:fs_miniSkill:438'}}, {'name': 'SQL', 'standardizedSkillUrn': 'urn:li:fs_miniSkill:483', 'standardizedSkill': {'name': 'SQL', 'entityUrn': 'urn:li:fs_miniSkill:483'}}, {'name': 'MySQL', 'standardizedSkillUrn': 'urn:li:fs_miniSkill:380', 'standardizedSkill': {'name': 'MySQL', 'entityUrn': 'urn:li:fs_miniSkill:380'}}, {'name': 'PHP', 'standardizedSkillUrn': 'urn:li:fs_miniSkill:261', 'standardizedSkill': {'name': 'PHP', 'entityUrn': 'urn:li:fs_miniSkill:261'}}, {'name': 'Vue.js'}, {'name': 'database'}, {'name': 'JavaScript'}, {'name': 'Git'}], 'education': [{'courses': ['urn:li:fs_course:(ACoAAB3O2EkBuh6Jrg33QPF7XtqbjZ99X8T3wpY,1213279416)', 'urn:li:fs_course:(ACoAAB3O2EkBuh6Jrg33QPF7XtqbjZ99X8T3wpY,1213310147)', 'urn:li:fs_course:(ACoAAB3O2EkBuh6Jrg33QPF7XtqbjZ99X8T3wpY,1213337944)', 'urn:li:fs_course:(ACoAAB3O2EkBuh6Jrg33QPF7XtqbjZ99X8T3wpY,2143942037)'], 'projects': ['urn:li:fs_project:(ACoAAB3O2EkBuh6Jrg33QPF7XtqbjZ99X8T3wpY,997160991)', 'urn:li:fs_project:(ACoAAB3O2EkBuh6Jrg33QPF7XtqbjZ99X8T3wpY,2144090440)'], 'degreeName': 'Master of Science - MS', 'schoolUrn': 'urn:li:fs_miniSchool:17954', 'entityUrn': 'urn:li:fs_education:(ACoAAB3O2EkBuh6Jrg33QPF7XtqbjZ99X8T3wpY,447452316)', 'school': {'objectUrn': 'urn:li:school:17954', 'entityUrn': 'urn:li:fs_miniSchool:17954', 'active': True, 'schoolName': 'University of California San Diego', 'trackingId': 'qgpNol89RRWGzY8r2/prtA==', 'logoUrl': 'https://media.licdn.com/dms/image/C560BAQHQYa-3EY_aaQ/company-logo_'}, 'activities': 'Major in Artificial Intelligence', 'timePeriod': {'endDate': {'year': 2019}, 'startDate': {'year': 2017}}, 'fieldOfStudyUrn': 'urn:li:fs_fieldOfStudy:100189', 'schoolName': 'University of California San Diego', 'fieldOfStudy': 'Computer Science', 'degreeUrn': 'urn:li:fs_degree:626'}, {'entityUrn': 'urn:li:fs_education:(ACoAAB3O2EkBuh6Jrg33QPF7XtqbjZ99X8T3wpY,344948681)', 'school': {'objectUrn': 'urn:li:school:11399', 'entityUrn': 'urn:li:fs_miniSchool:11399', 'active': True, 'schoolName': 'University of Electronic Science and Technology of China', 'trackingId': 'NvZToy6mR+qMOIB7ZQJB2A==', 'logoUrl': 'https://media.licdn.com/dms/image/C4D0BAQGLGzWGaWsaQQ/company-logo_'}, 'timePeriod': {'endDate': {'year': 2017}, 'startDate': {'year': 2013}}, 'fieldOfStudyUrn': 'urn:li:fs_fieldOfStudy:100349', 'degreeName': \"Bachelor's degree\", 'schoolName': 'University of Electronic Science and Technology', 'fieldOfStudy': 'Computer Software Engineering', 'degreeUrn': 'urn:li:fs_degree:200', 'schoolUrn': 'urn:li:fs_miniSchool:11399'}]}\n",
      "\n",
      "\n",
      "\n",
      "\n",
      "geoloc\n",
      "{'summary': 'ASIC digital design engineer with 5+ years of experience on developing microarchitecture and RTL, creating test bench and executing test plan, performing synthesis, timing closure, testability, physical design support. Digital design and mixed-signal design success includes PLL, DAC, ADC, and other RF mixed signal designs. Daily work including: RTL coding, verification, linting check, synthesis, writing constraints, CDC check, formal-verification, scan insertion, scan validation.', 'industryName': 'Semiconductors', 'lastName': 'huang', 'locationName': 'United States', 'student': False, 'geoCountryName': 'United States', 'geoCountryUrn': 'urn:li:fs_geo:103644278', 'geoLocationBackfilled': True, 'elt': False, 'industryUrn': 'urn:li:fs_industry:7', 'firstName': 'shu', 'entityUrn': 'urn:li:fs_profile:ACoAAAndRRwB4H9Zd-nQgDEeI_MJWF4ac2OxAFU', 'geoLocation': {'geoUrn': 'urn:li:fs_geo:90000084'}, 'geoLocationName': 'San Francisco Bay Area', 'location': {'basicLocation': {'countryCode': 'us'}}, 'headline': 'Digital Design Engineer at Intel Corporation', 'displayPictureUrl': 'https://media.licdn.com/dms/image/C5603AQFwxR7JHIFSpw/profile-displayphoto-shrink_', 'profile_id': 'ACoAAAndRRwB4H9Zd-nQgDEeI_MJWF4ac2OxAFU', 'experience': [{'locationName': 'Santa Clara', 'entityUrn': 'urn:li:fs_position:(ACoAAAndRRwB4H9Zd-nQgDEeI_MJWF4ac2OxAFU,1541968477)', 'geoLocationName': 'Santa Clara', 'companyName': 'Intel Corporation', 'timePeriod': {'startDate': {'month': 10, 'year': 2018}}, 'company': {'employeeCountRange': {'start': 10001}, 'industries': ['Semiconductors']}, 'title': 'Digital Design Engineer', 'companyUrn': 'urn:li:fs_miniCompany:1053', 'companyLogoUrl': 'https://media.licdn.com/dms/image/C4D0BAQEQxLTTAA1tTA/company-logo_'}, {'locationName': 'Greater San Diego Area', 'projects': ['urn:li:fs_project:(ACoAAAndRRwB4H9Zd-nQgDEeI_MJWF4ac2OxAFU,692649743)', 'urn:li:fs_project:(ACoAAAndRRwB4H9Zd-nQgDEeI_MJWF4ac2OxAFU,692859465)'], 'entityUrn': 'urn:li:fs_position:(ACoAAAndRRwB4H9Zd-nQgDEeI_MJWF4ac2OxAFU,829931374)', 'geoLocationName': 'Greater San Diego Area', 'companyName': 'Qualcomm', 'timePeriod': {'endDate': {'month': 9, 'year': 2018}, 'startDate': {'month': 6, 'year': 2016}}, 'description': 'RTL design，ASIC，Verilog，C++', 'company': {'employeeCountRange': {'start': 10001}, 'industries': ['Wireless']}, 'title': 'Senior Engineer', 'companyUrn': 'urn:li:fs_miniCompany:2017', 'companyLogoUrl': 'https://media.licdn.com/dms/image/C4E0BAQFIzy7XU945xg/company-logo_'}, {'locationName': 'San Diego', 'entityUrn': 'urn:li:fs_position:(ACoAAAndRRwB4H9Zd-nQgDEeI_MJWF4ac2OxAFU,542653266)', 'geoLocationName': 'San Diego', 'companyName': 'Qualcomm', 'timePeriod': {'endDate': {'month': 6, 'year': 2016}, 'startDate': {'month': 11, 'year': 2013}}, 'description': 'ASIC design for Mixed signal circuits', 'company': {'employeeCountRange': {'start': 10001}, 'industries': ['Wireless']}, 'title': 'Engineer', 'companyUrn': 'urn:li:fs_miniCompany:2017', 'companyLogoUrl': 'https://media.licdn.com/dms/image/C4E0BAQFIzy7XU945xg/company-logo_'}, {'projects': ['urn:li:fs_project:(ACoAAAndRRwB4H9Zd-nQgDEeI_MJWF4ac2OxAFU,53)'], 'entityUrn': 'urn:li:fs_position:(ACoAAAndRRwB4H9Zd-nQgDEeI_MJWF4ac2OxAFU,367736711)', 'companyName': 'Entropic Communications', 'timePeriod': {'endDate': {'month': 9, 'year': 2013}, 'startDate': {'month': 6, 'year': 2012}}, 'company': {'employeeCountRange': {'start': 501, 'end': 1000}, 'industries': ['Semiconductors']}, 'title': 'Intern', 'companyUrn': 'urn:li:fs_miniCompany:15718', 'companyLogoUrl': 'https://media.licdn.com/dms/image/C560BAQGFaRBfjdw0Ag/company-logo_'}], 'skills': [{'name': 'C'}, {'name': 'C++'}, {'name': 'Spices'}, {'name': 'Multisim'}, {'name': 'Quartus'}, {'name': 'VCS'}, {'name': 'Astro'}, {'name': 'DC'}, {'name': 'Primetime'}, {'name': 'Matlab'}, {'name': 'Verilog'}, {'name': 'VHDL'}, {'name': 'Cadence Virtuoso'}, {'name': 'ADS'}, {'name': 'Verilog-A'}, {'name': 'ASIC'}], 'education': [{'courses': ['urn:li:fs_course:(ACoAAAndRRwB4H9Zd-nQgDEeI_MJWF4ac2OxAFU,3)', 'urn:li:fs_course:(ACoAAAndRRwB4H9Zd-nQgDEeI_MJWF4ac2OxAFU,4)', 'urn:li:fs_course:(ACoAAAndRRwB4H9Zd-nQgDEeI_MJWF4ac2OxAFU,5)', 'urn:li:fs_course:(ACoAAAndRRwB4H9Zd-nQgDEeI_MJWF4ac2OxAFU,6)', 'urn:li:fs_course:(ACoAAAndRRwB4H9Zd-nQgDEeI_MJWF4ac2OxAFU,7)', 'urn:li:fs_course:(ACoAAAndRRwB4H9Zd-nQgDEeI_MJWF4ac2OxAFU,8)'], 'projects': ['urn:li:fs_project:(ACoAAAndRRwB4H9Zd-nQgDEeI_MJWF4ac2OxAFU,25)'], 'entityUrn': 'urn:li:fs_education:(ACoAAAndRRwB4H9Zd-nQgDEeI_MJWF4ac2OxAFU,97428816)', 'school': {'objectUrn': 'urn:li:school:17954', 'entityUrn': 'urn:li:fs_miniSchool:17954', 'active': True, 'schoolName': 'University of California San Diego', 'trackingId': 'daZDcOxRT8ajiAvAATWeew==', 'logoUrl': 'https://media.licdn.com/dms/image/C560BAQHQYa-3EY_aaQ/company-logo_'}, 'grade': '3.92', 'timePeriod': {'endDate': {'year': 2013}, 'startDate': {'year': 2011}}, 'degreeName': 'Master of Science (M.S.)', 'schoolName': 'University of California, San Diego', 'fieldOfStudy': 'Integrated Circuit Design', 'schoolUrn': 'urn:li:fs_miniSchool:17954'}, {'courses': ['urn:li:fs_course:(ACoAAAndRRwB4H9Zd-nQgDEeI_MJWF4ac2OxAFU,10)', 'urn:li:fs_course:(ACoAAAndRRwB4H9Zd-nQgDEeI_MJWF4ac2OxAFU,11)', 'urn:li:fs_course:(ACoAAAndRRwB4H9Zd-nQgDEeI_MJWF4ac2OxAFU,13)'], 'projects': ['urn:li:fs_project:(ACoAAAndRRwB4H9Zd-nQgDEeI_MJWF4ac2OxAFU,31)', 'urn:li:fs_project:(ACoAAAndRRwB4H9Zd-nQgDEeI_MJWF4ac2OxAFU,33)'], 'entityUrn': 'urn:li:fs_education:(ACoAAAndRRwB4H9Zd-nQgDEeI_MJWF4ac2OxAFU,101907405)', 'school': {'objectUrn': 'urn:li:school:11363', 'entityUrn': 'urn:li:fs_miniSchool:11363', 'active': True, 'schoolName': 'Southeast University', 'trackingId': 'E5FqmNYAQN+EK9fQzcV1FA==', 'logoUrl': 'https://media.licdn.com/dms/image/C4E0BAQFTFrmiX5-uOQ/company-logo_'}, 'grade': '3.62', 'timePeriod': {'endDate': {'year': 2011}, 'startDate': {'year': 2007}}, 'degreeName': 'Bachelor of Science (B.S.)', 'schoolName': 'Southeast University', 'fieldOfStudy': 'Electrical, Electronics and Communications Engineering', 'schoolUrn': 'urn:li:fs_miniSchool:11363'}]}\n",
      "\n",
      "\n",
      "\n",
      "\n",
      "geoloc\n",
      "{'summary': \"Hi, I'm a 3rd-year studying computer science at UCSD. I am currently looking for software engineering internship opportunities for Summer 2020 and Fall 2020!\", 'industryName': 'Computer Software', 'lastName': 'Chew', 'locationName': 'United States', 'student': False, 'geoCountryName': 'United States', 'geoCountryUrn': 'urn:li:fs_geo:103644278', 'geoLocationBackfilled': True, 'elt': False, 'industryUrn': 'urn:li:fs_industry:4', 'firstName': 'Gary', 'entityUrn': 'urn:li:fs_profile:ACoAACKns8gBeTK4yslU_3244GN3NV00qEefebU', 'geoLocation': {'geoUrn': 'urn:li:fs_geo:90000084'}, 'geoLocationName': 'San Francisco Bay Area', 'location': {'basicLocation': {'countryCode': 'us'}}, 'headline': 'SDE Intern at Amazon', 'displayPictureUrl': 'https://media.licdn.com/dms/image/C5603AQHer8XgCUhNJA/profile-displayphoto-shrink_', 'profile_id': 'ACoAACKns8gBeTK4yslU_3244GN3NV00qEefebU', 'experience': [{'locationName': 'Greater New York City Area', 'entityUrn': 'urn:li:fs_position:(ACoAACKns8gBeTK4yslU_3244GN3NV00qEefebU,1479964890)', 'geoLocationName': 'Greater New York City Area', 'geoUrn': 'urn:li:fs_geo:90000070', 'companyName': 'Amazon', 'timePeriod': {'endDate': {'month': 9, 'year': 2019}, 'startDate': {'month': 6, 'year': 2019}}, 'description': 'Amazon Display Ads Team.\\nTechnologies Used: Java, Guice, JavaScript, ReactJS, AWS DynamoDB\\nDesigned and implemented an auditing service that displays to advertisers a complete history of changes made to an advertising campaign.', 'company': {'employeeCountRange': {'start': 10001}, 'industries': ['Internet']}, 'title': 'Software Development Engineering Intern', 'region': 'urn:li:fs_region:(us,70)', 'companyUrn': 'urn:li:fs_miniCompany:1586', 'companyLogoUrl': 'https://media.licdn.com/dms/image/C560BAQFdwVGpSOHmgw/company-logo_'}, {'locationName': 'Greater Seattle Area', 'entityUrn': 'urn:li:fs_position:(ACoAACKns8gBeTK4yslU_3244GN3NV00qEefebU,1273538666)', 'geoLocationName': 'Greater Seattle Area', 'geoUrn': 'urn:li:fs_geo:90000091', 'companyName': 'Amazon', 'timePeriod': {'endDate': {'month': 9, 'year': 2018}, 'startDate': {'month': 6, 'year': 2018}}, 'description': \"Amazon's Fulfillment Technologies team.\\nTechnologies Used: Java, Spring, JSP, CSS, JavaScript, AWS S3\\nDesigned and built an internal tool to reconfigure, speed up, and benchmark one of Amazon's\\nTier-1 labor planning services.\", 'company': {'employeeCountRange': {'start': 10001}, 'industries': ['Internet']}, 'title': 'Software Development Engineering Intern', 'region': 'urn:li:fs_region:(us,91)', 'companyUrn': 'urn:li:fs_miniCompany:1586', 'companyLogoUrl': 'https://media.licdn.com/dms/image/C560BAQFdwVGpSOHmgw/company-logo_'}], 'skills': [{'name': 'Java', 'standardizedSkillUrn': 'urn:li:fs_miniSkill:147', 'standardizedSkill': {'name': 'Java', 'entityUrn': 'urn:li:fs_miniSkill:147'}}, {'name': 'C#'}, {'name': 'JavaScript'}, {'name': 'Python'}, {'name': 'C'}, {'name': 'Git'}, {'name': 'HTML'}, {'name': 'Cascading Style Sheets (CSS)'}, {'name': 'JavaServer Pages (JSP)'}, {'name': 'Spring Framework'}, {'name': 'Spring MVC'}, {'name': 'jQuery'}, {'name': 'AWS'}, {'name': 'AWS Lambda'}, {'name': 'AWS S3'}, {'name': 'Unix'}, {'name': 'Unity'}, {'name': 'SteamVR'}, {'name': 'Oculus'}, {'name': 'Virtual Reality'}, {'name': 'Java Swing'}, {'name': 'KnockoutJS'}, {'name': 'HTML5'}], 'education': [{'entityUrn': 'urn:li:fs_education:(ACoAACKns8gBeTK4yslU_3244GN3NV00qEefebU,441301134)', 'school': {'objectUrn': 'urn:li:school:17954', 'entityUrn': 'urn:li:fs_miniSchool:17954', 'active': True, 'schoolName': 'University of California San Diego', 'trackingId': 'wHBU9bpHTXGnbltV/QUEFg==', 'logoUrl': 'https://media.licdn.com/dms/image/C560BAQHQYa-3EY_aaQ/company-logo_'}, 'timePeriod': {'endDate': {'year': 2021}, 'startDate': {'year': 2017}}, 'description': \"Provost's Honors\", 'fieldOfStudyUrn': 'urn:li:fs_fieldOfStudy:100189', 'degreeName': 'Bachelor of Science - BS', 'schoolName': 'University of California San Diego', 'fieldOfStudy': 'Computer Science', 'degreeUrn': 'urn:li:fs_degree:400', 'schoolUrn': 'urn:li:fs_miniSchool:17954'}]}\n",
      "\n",
      "\n",
      "\n",
      "\n",
      "geoloc\n",
      "{'summary': 'Highly organized, detail-oriented and team-player with a history of productivity and successful outcomes, aspiring to design and develop large-scale software systems, embracing change and challenge', 'industryName': 'Computer Software', 'lastName': 'Vasuki Balasubramaniam', 'locationName': 'United States', 'student': False, 'geoCountryName': 'United States', 'geoCountryUrn': 'urn:li:fs_geo:103644278', 'geoLocationBackfilled': True, 'elt': False, 'industryUrn': 'urn:li:fs_industry:4', 'firstName': 'Karthikeyan', 'entityUrn': 'urn:li:fs_profile:ACoAAAZBPSQBIsJzScA_qcydcJZhR2Z73yjw5VM', 'geoLocation': {'geoUrn': 'urn:li:fs_geo:90000091'}, 'geoLocationName': 'Greater Seattle Area', 'location': {'basicLocation': {'countryCode': 'us'}}, 'headline': 'Software Devepment Engineer II at Amazon Web Services (AWS)', 'profile_id': 'ACoAAAZBPSQBIsJzScA_qcydcJZhR2Z73yjw5VM', 'experience': [{'locationName': 'Greater Seattle Area', 'entityUrn': 'urn:li:fs_position:(ACoAAAZBPSQBIsJzScA_qcydcJZhR2Z73yjw5VM,1484070061)', 'geoLocationName': 'Greater Seattle Area', 'geoUrn': 'urn:li:fs_geo:90000091', 'companyName': 'Amazon Web Services (AWS)', 'timePeriod': {'startDate': {'month': 7, 'year': 2019}}, 'description': 'Working as an SDE in Amplify Framework.\\n\\nAmplify Framework provides the foundation for your cloud-powered mobile & web apps. It includes a comprehensive library for building sophisticated cloud-powered apps, a powerful toolchain built for developers and a beautiful component library connected to the cloud.', 'company': {'employeeCountRange': {'start': 10001}, 'industries': ['Information Technology and Services']}, 'title': 'Software Devepment Engineer II', 'region': 'urn:li:fs_region:(us,91)', 'companyUrn': 'urn:li:fs_miniCompany:2382910', 'companyLogoUrl': 'https://media.licdn.com/dms/image/C4D0BAQGzuSBRRRuphw/company-logo_'}, {'locationName': 'Greater Seattle Area', 'entityUrn': 'urn:li:fs_position:(ACoAAAZBPSQBIsJzScA_qcydcJZhR2Z73yjw5VM,974659202)', 'geoLocationName': 'Greater Seattle Area', 'geoUrn': 'urn:li:fs_geo:90000091', 'companyName': 'Amazon Web Services', 'timePeriod': {'endDate': {'month': 6, 'year': 2019}, 'startDate': {'month': 4, 'year': 2017}}, 'description': 'Working as a Software Development Engineer in AWS Mobile SDK.\\n\\nThe AWS Mobile SDK helps you build high-quality mobile apps quickly and easily. It provides easy access to a range of AWS services, including AWS Lambda, Amazon S3, Amazon DynamoDB, Amazon Mobile Analytics, Amazon Machine Learning, Elastic Load balancing, Auto Scaling and more.\\n\\nThe AWS Mobile SDK includes libraries, code samples, and documentation for iOS, Android, Fire OS, and Unity so you can build apps that deliver great experiences across devices and platforms.\\n', 'company': {'employeeCountRange': {'start': 10001}, 'industries': ['Information Technology and Services']}, 'title': 'Software Development Engineer I', 'region': 'urn:li:fs_region:(us,91)', 'companyUrn': 'urn:li:fs_miniCompany:2382910', 'companyLogoUrl': 'https://media.licdn.com/dms/image/C4D0BAQGzuSBRRRuphw/company-logo_'}, {'locationName': 'Greater San Diego Area', 'entityUrn': 'urn:li:fs_position:(ACoAAAZBPSQBIsJzScA_qcydcJZhR2Z73yjw5VM,895650986)', 'geoLocationName': 'Greater San Diego Area', 'geoUrn': 'urn:li:fs_geo:100737633', 'companyName': 'University of California San Diego', 'timePeriod': {'endDate': {'month': 3, 'year': 2017}, 'startDate': {'month': 1, 'year': 2017}}, 'description': 'Working as a Teaching Assistant for the course on \"Networked Services\" : http://cseweb.ucsd.edu/~gmporter/classes/wi17/cse124/', 'company': {'employeeCountRange': {'start': 10001}, 'industries': ['Higher Education']}, 'title': 'Graduate Teaching Assistant', 'region': 'urn:li:fs_region:(us,732)', 'companyUrn': 'urn:li:fs_miniCompany:3382', 'companyLogoUrl': 'https://media.licdn.com/dms/image/C560BAQHQYa-3EY_aaQ/company-logo_'}, {'locationName': 'Greater San Diego Area', 'entityUrn': 'urn:li:fs_position:(ACoAAAZBPSQBIsJzScA_qcydcJZhR2Z73yjw5VM,852510897)', 'geoLocationName': 'Greater San Diego Area', 'geoUrn': 'urn:li:fs_geo:100737633', 'companyName': 'University of California, San Diego', 'timePeriod': {'endDate': {'month': 12, 'year': 2016}, 'startDate': {'month': 9, 'year': 2016}}, 'description': 'Working as a Teaching Assistant for the course on \"Principles of Computer Operating Systems\" : http://cseweb.ucsd.edu/classes/fa16/cse120-a/', 'company': {'employeeCountRange': {'start': 10001}, 'industries': ['Higher Education']}, 'title': 'Graduate Teaching Assistant', 'region': 'urn:li:fs_region:(us,732)', 'companyUrn': 'urn:li:fs_miniCompany:3382', 'companyLogoUrl': 'https://media.licdn.com/dms/image/C560BAQHQYa-3EY_aaQ/company-logo_'}, {'locationName': 'Greater Seattle Area', 'entityUrn': 'urn:li:fs_position:(ACoAAAZBPSQBIsJzScA_qcydcJZhR2Z73yjw5VM,819291725)', 'geoLocationName': 'Greater Seattle Area', 'geoUrn': 'urn:li:fs_geo:90000091', 'companyName': 'Amazon', 'timePeriod': {'endDate': {'month': 9, 'year': 2016}, 'startDate': {'month': 6, 'year': 2016}}, 'description': 'Working as a SDE Intern in Amazon Prime Business organization.\\nWorking on Checkout & Delivery Infrastructure of Amazon Retail.\\nRole : Full Stack Web Developer\\nSkills : Ruby on Rails, JRuby, Java, SOAP, Web Services, REST, HTML/CSS/angular.js', 'company': {'employeeCountRange': {'start': 10001}, 'industries': ['Internet']}, 'title': 'Software Development Engineer Intern', 'region': 'urn:li:fs_region:(us,91)', 'companyUrn': 'urn:li:fs_miniCompany:1586', 'companyLogoUrl': 'https://media.licdn.com/dms/image/C560BAQFdwVGpSOHmgw/company-logo_'}], 'skills': [{'name': 'C'}, {'name': 'Java'}, {'name': 'Hadoop'}, {'name': 'Data Structures'}, {'name': 'C++'}, {'name': 'Algorithms'}, {'name': 'Programming'}, {'name': 'Linux'}, {'name': 'Operating Systems'}, {'name': 'SQL'}, {'name': 'Distributed Systems'}, {'name': 'Software Development'}, {'name': 'MapReduce'}, {'name': 'Shell Scripting'}, {'name': 'Unix'}, {'name': 'Core Java'}, {'name': 'OOP'}, {'name': 'Object Oriented Design'}, {'name': 'Software Engineering'}, {'name': 'Perl'}, {'name': 'Scalability'}, {'name': 'JSP'}, {'name': 'Python'}, {'name': 'Genetic Algorithms'}, {'name': 'JavaScript'}, {'name': 'Databases'}, {'name': 'CUDA'}, {'name': 'MPI'}, {'name': 'OpenMP'}], 'education': [{'entityUrn': 'urn:li:fs_education:(ACoAAAZBPSQBIsJzScA_qcydcJZhR2Z73yjw5VM,299303263)', 'school': {'objectUrn': 'urn:li:school:17954', 'entityUrn': 'urn:li:fs_miniSchool:17954', 'active': True, 'schoolName': 'University of California San Diego', 'trackingId': '6kamDsZRT0Cl/Rr5yWirGw==', 'logoUrl': 'https://media.licdn.com/dms/image/C560BAQHQYa-3EY_aaQ/company-logo_'}, 'grade': '3.83/4.0', 'timePeriod': {'endDate': {'year': 2017}, 'startDate': {'year': 2015}}, 'description': 'Graduate Student specializing in Systems & Networking', 'degreeName': 'Master’s Degree', 'schoolName': 'University of California, San Diego', 'fieldOfStudy': 'Computer Science', 'schoolUrn': 'urn:li:fs_miniSchool:17954'}, {'courses': ['urn:li:fs_course:(ACoAAAZBPSQBIsJzScA_qcydcJZhR2Z73yjw5VM,77)', 'urn:li:fs_course:(ACoAAAZBPSQBIsJzScA_qcydcJZhR2Z73yjw5VM,78)', 'urn:li:fs_course:(ACoAAAZBPSQBIsJzScA_qcydcJZhR2Z73yjw5VM,79)', 'urn:li:fs_course:(ACoAAAZBPSQBIsJzScA_qcydcJZhR2Z73yjw5VM,80)', 'urn:li:fs_course:(ACoAAAZBPSQBIsJzScA_qcydcJZhR2Z73yjw5VM,81)', 'urn:li:fs_course:(ACoAAAZBPSQBIsJzScA_qcydcJZhR2Z73yjw5VM,82)', 'urn:li:fs_course:(ACoAAAZBPSQBIsJzScA_qcydcJZhR2Z73yjw5VM,83)', 'urn:li:fs_course:(ACoAAAZBPSQBIsJzScA_qcydcJZhR2Z73yjw5VM,84)', 'urn:li:fs_course:(ACoAAAZBPSQBIsJzScA_qcydcJZhR2Z73yjw5VM,85)', 'urn:li:fs_course:(ACoAAAZBPSQBIsJzScA_qcydcJZhR2Z73yjw5VM,89)', 'urn:li:fs_course:(ACoAAAZBPSQBIsJzScA_qcydcJZhR2Z73yjw5VM,90)', 'urn:li:fs_course:(ACoAAAZBPSQBIsJzScA_qcydcJZhR2Z73yjw5VM,91)', 'urn:li:fs_course:(ACoAAAZBPSQBIsJzScA_qcydcJZhR2Z73yjw5VM,92)', 'urn:li:fs_course:(ACoAAAZBPSQBIsJzScA_qcydcJZhR2Z73yjw5VM,93)', 'urn:li:fs_course:(ACoAAAZBPSQBIsJzScA_qcydcJZhR2Z73yjw5VM,94)', 'urn:li:fs_course:(ACoAAAZBPSQBIsJzScA_qcydcJZhR2Z73yjw5VM,95)'], 'projects': ['urn:li:fs_project:(ACoAAAZBPSQBIsJzScA_qcydcJZhR2Z73yjw5VM,34)', 'urn:li:fs_project:(ACoAAAZBPSQBIsJzScA_qcydcJZhR2Z73yjw5VM,31)'], 'description': 'As a Computer Science Undergraduate student, I have worked extensively on Distributed Systems and Parallel Computing including Hadoop, worked on projects and research publications in these areas.', 'degreeName': 'B.E', 'honors': ['urn:li:fs_honor:(ACoAAAZBPSQBIsJzScA_qcydcJZhR2Z73yjw5VM,1977372872)'], 'schoolUrn': 'urn:li:fs_miniSchool:20420', 'entityUrn': 'urn:li:fs_education:(ACoAAAZBPSQBIsJzScA_qcydcJZhR2Z73yjw5VM,64024330)', 'school': {'objectUrn': 'urn:li:school:20420', 'entityUrn': 'urn:li:fs_miniSchool:20420', 'active': True, 'schoolName': 'PSG College of Technology', 'trackingId': 'FM+8f/7AQqSXrl+CW/+KsA==', 'logoUrl': 'https://media.licdn.com/dms/image/C4D0BAQFBRbmAcoPNug/company-logo_'}, 'activities': 'Secretary in Indian Society Of Technical Education - Students Chapter, PSGTECH, CBE.', 'grade': '9.57/10', 'timePeriod': {'endDate': {'year': 2013}, 'startDate': {'year': 2009}}, 'testScores': ['urn:li:fs_testScore:(ACoAAAZBPSQBIsJzScA_qcydcJZhR2Z73yjw5VM,74)'], 'schoolName': 'PSG College of Technology', 'fieldOfStudy': 'Computer Science and Engineering'}, {'entityUrn': 'urn:li:fs_education:(ACoAAAZBPSQBIsJzScA_qcydcJZhR2Z73yjw5VM,117939925)', 'grade': '97.16%', 'timePeriod': {'endDate': {'year': 2009}, 'startDate': {'year': 2007}}, 'degreeName': 'XII Standard', 'schoolName': 'SRV Higher Secondary School', 'fieldOfStudy': 'Computer Science'}]}\n",
      "\n",
      "\n",
      "\n",
      "\n",
      "geoloc\n",
      "{'summary': 'Software Engineer with a focus on Backend, AWS, Microservices, Golang, Ruby on Rails', 'industryName': 'Computer Software', 'lastName': 'Luo', 'locationName': 'United States', 'student': False, 'geoCountryName': 'United States', 'geoCountryUrn': 'urn:li:fs_geo:103644278', 'geoLocationBackfilled': True, 'elt': False, 'industryUrn': 'urn:li:fs_industry:4', 'firstName': 'Michael', 'entityUrn': 'urn:li:fs_profile:ACoAABShj7QB_534zx5MRyGE53NjLNVjKuNfZR0', 'geoLocation': {'geoUrn': 'urn:li:fs_geo:90000084'}, 'geoLocationName': 'San Francisco Bay Area', 'location': {'basicLocation': {'countryCode': 'us'}}, 'headline': 'Software Engineer at Twitch', 'displayPictureUrl': 'https://media.licdn.com/dms/image/C5603AQHRRzT6NeqkTw/profile-displayphoto-shrink_', 'profile_id': 'ACoAABShj7QB_534zx5MRyGE53NjLNVjKuNfZR0', 'experience': [{'locationName': 'San Francisco Bay Area', 'entityUrn': 'urn:li:fs_position:(ACoAABShj7QB_534zx5MRyGE53NjLNVjKuNfZR0,901946860)', 'geoLocationName': 'San Francisco Bay Area', 'geoUrn': 'urn:li:fs_geo:90000084', 'companyName': 'Twitch', 'timePeriod': {'startDate': {'month': 1, 'year': 2017}}, 'description': 'Backend — Twitch Payments\\n\\n• Helping hundreds of thousands of content creators earn a living on our live-streaming platform\\n• Building microservices, event-driven systems, and infrastructure to process hundreds of millions of dollars in payments\\n\\n[Golang, Ruby on Rails, Python, PostgreSQL, GraphQL, AWS (EC2, Beanstalk, Lambda, RDS, DynamoDB, SQS, SNS, S3, CloudFormation, ElastiCache), Microservices, Infrastructure as Code, Serverless Architecture]', 'company': {'employeeCountRange': {'start': 1001, 'end': 5000}, 'industries': ['Internet']}, 'title': 'Software Engineer', 'region': 'urn:li:fs_region:(us,84)', 'companyUrn': 'urn:li:fs_miniCompany:2320329', 'companyLogoUrl': 'https://media.licdn.com/dms/image/C560BAQETQlcAuxqFwg/company-logo_'}, {'locationName': 'San Francisco Bay Area', 'entityUrn': 'urn:li:fs_position:(ACoAABShj7QB_534zx5MRyGE53NjLNVjKuNfZR0,713668227)', 'geoLocationName': 'San Francisco Bay Area', 'geoUrn': 'urn:li:fs_geo:90000084', 'companyName': 'Amazon', 'timePeriod': {'endDate': {'month': 1, 'year': 2017}, 'startDate': {'month': 9, 'year': 2015}}, 'description': 'Backend — Amazon Prime Music & Amazon Music Unlimited\\n\\n• Launched Amazon Music Unlimited, a music subscription service offering unlimited access to 50M+ songs\\n• Built APIs related to the discovery experiences, personalized home tab, recommended music, and tracks/albums/playlists/stations/artists metadata aggregation\\n\\n[Java, Spring]', 'company': {'employeeCountRange': {'start': 10001}, 'industries': ['Internet']}, 'title': 'Software Engineer', 'region': 'urn:li:fs_region:(us,84)', 'companyUrn': 'urn:li:fs_miniCompany:1586', 'companyLogoUrl': 'https://media.licdn.com/dms/image/C560BAQFdwVGpSOHmgw/company-logo_'}, {'locationName': 'Greater San Diego Area', '$anti_abuse_annotations': [{'domainType': 'MEMBER_POSITION_LOCATION_NAME'}, {'domainType': 'MEMBER_POSITION_ID'}, {'domainType': 'MEMBER_POSITION_LOCATION_NAME'}, {'domainType': 'MEMBER_POSITION_COMPANY_NAME'}, {'domainType': 'MEMBER_POSITION_START_DATE'}, {'domainType': 'MEMBER_POSITION_END_DATE'}, {'domainType': 'MEMBER_POSITION_DESCRIPTION'}, {'domainType': 'MEMBER_POSITION_TITLE'}], 'entityUrn': 'urn:li:fs_position:(ACoAABShj7QB_534zx5MRyGE53NjLNVjKuNfZR0,661608362)', 'geoLocationName': 'Greater San Diego Area', 'geoUrn': 'urn:li:fs_geo:100737633', 'companyName': 'Self Employed', 'timePeriod': {'endDate': {'month': 9, 'year': 2015}, 'startDate': {'month': 4, 'year': 2015}}, 'description': 'Fullstack — eCommerce projects\\n\\n• Designed, implemented, and deployed a web application to help my client store and analyze Google Analytics data for their internet businesses.\\n\\n[Python, HTML, CSS, JavaScript, Google App Engine]', 'title': 'Freelance Software Developer', 'region': 'urn:li:fs_region:(us,732)'}, {'locationName': 'La Jolla', 'entityUrn': 'urn:li:fs_position:(ACoAABShj7QB_534zx5MRyGE53NjLNVjKuNfZR0,543384873)', 'geoLocationName': 'La Jolla', 'companyName': 'University of California San Diego', 'timePeriod': {'endDate': {'month': 3, 'year': 2015}, 'startDate': {'month': 1, 'year': 2012}}, 'description': '• Guided students through Java and C++ programming assignments for Data Structures and Intro to Java courses, graded assignments, lead discussions, and proctored exams for 10+ hours each week.\\n\\nTutor under Professor Jundt\\n• Introduction to Computer Science and Object-Oriented Programming: Java (CSE 11)\\n\\nTutor under Professor Alvarado\\n• Advanced Data Structures (CSE 100)\\n• Introduction to Computer Science: Java B (CSE 8B)\\n\\nTutor under Professor Simon\\n• Fluency in Information Technology (CSE 3)', 'company': {'employeeCountRange': {'start': 10001}, 'industries': ['Higher Education']}, 'title': 'CS Department Tutor', 'companyUrn': 'urn:li:fs_miniCompany:3382', 'companyLogoUrl': 'https://media.licdn.com/dms/image/C560BAQHQYa-3EY_aaQ/company-logo_'}, {'locationName': 'Greater Seattle Area', 'entityUrn': 'urn:li:fs_position:(ACoAABShj7QB_534zx5MRyGE53NjLNVjKuNfZR0,549738285)', 'geoLocationName': 'Greater Seattle Area', 'geoUrn': 'urn:li:fs_geo:90000091', 'companyName': 'Amazon', 'timePeriod': {'endDate': {'month': 9, 'year': 2014}, 'startDate': {'month': 6, 'year': 2014}}, 'description': 'Frontend — Amazon Wish List\\n\\n• Implemented and A/B tested Wish List UI components, helping to replace the classic blue & orange navigation bar with the black & orange design.\\n\\n[HTML, CSS, JavaScript, Perl, Mason]', 'company': {'employeeCountRange': {'start': 10001}, 'industries': ['Internet']}, 'title': 'Software Engineer Intern', 'region': 'urn:li:fs_region:(us,91)', 'companyUrn': 'urn:li:fs_miniCompany:1586', 'companyLogoUrl': 'https://media.licdn.com/dms/image/C560BAQFdwVGpSOHmgw/company-logo_'}], 'skills': [{'name': 'Software Development'}, {'name': 'Amazon Web Services (AWS)', 'standardizedSkillUrn': 'urn:li:fs_miniSkill:10798', 'standardizedSkill': {'name': 'Amazon Web Services (AWS)', 'entityUrn': 'urn:li:fs_miniSkill:10798'}}, {'name': 'Web Services'}, {'name': 'Object Oriented Design'}, {'name': 'Computer Science'}, {'name': 'Web Applications'}, {'name': 'Programming'}, {'name': 'Software Documentation'}, {'name': 'Technical Documentation'}, {'name': 'Data Structures'}, {'name': 'Algorithms'}, {'name': 'AWS Lambda'}, {'name': 'Python'}, {'name': 'Ruby'}, {'name': 'Java'}, {'name': 'SQL'}, {'name': 'PostgreSQL'}, {'name': 'Node.js'}, {'name': 'JavaScript'}, {'name': 'RESTful WebServices'}, {'name': 'Ruby on Rails'}, {'name': 'Git'}, {'name': 'MongoDB'}, {'name': 'MySQL'}, {'name': 'C'}, {'name': 'C++'}, {'name': 'Terraform'}, {'name': 'JSP'}, {'name': 'Bootstrap'}, {'name': 'AngularJS'}, {'name': 'HTML'}, {'name': 'CSS'}, {'name': 'jQuery'}, {'name': 'Perl'}, {'name': 'Vue.js'}, {'name': 'Amazon S3'}, {'name': 'Linux'}, {'name': 'GraphQL'}, {'name': 'Golang'}, {'name': 'Amazon Dynamodb'}, {'name': 'Infrastructure as Code'}, {'name': 'Amazon SQS'}, {'name': 'Web Application Development'}, {'name': 'Vim'}, {'name': 'Google App Engine'}, {'name': 'AWS Cloudformation'}, {'name': 'AWS CodePipeline'}, {'name': 'AWS CodeBuild'}, {'name': 'Software Architectural Design'}, {'name': 'Data Modeling'}], 'education': [{'courses': ['urn:li:fs_course:(ACoAABShj7QB_534zx5MRyGE53NjLNVjKuNfZR0,30)', 'urn:li:fs_course:(ACoAABShj7QB_534zx5MRyGE53NjLNVjKuNfZR0,31)', 'urn:li:fs_course:(ACoAABShj7QB_534zx5MRyGE53NjLNVjKuNfZR0,32)', 'urn:li:fs_course:(ACoAABShj7QB_534zx5MRyGE53NjLNVjKuNfZR0,33)', 'urn:li:fs_course:(ACoAABShj7QB_534zx5MRyGE53NjLNVjKuNfZR0,34)', 'urn:li:fs_course:(ACoAABShj7QB_534zx5MRyGE53NjLNVjKuNfZR0,35)', 'urn:li:fs_course:(ACoAABShj7QB_534zx5MRyGE53NjLNVjKuNfZR0,36)', 'urn:li:fs_course:(ACoAABShj7QB_534zx5MRyGE53NjLNVjKuNfZR0,549738492)', 'urn:li:fs_course:(ACoAABShj7QB_534zx5MRyGE53NjLNVjKuNfZR0,549738493)', 'urn:li:fs_course:(ACoAABShj7QB_534zx5MRyGE53NjLNVjKuNfZR0,549738494)', 'urn:li:fs_course:(ACoAABShj7QB_534zx5MRyGE53NjLNVjKuNfZR0,549738495)', 'urn:li:fs_course:(ACoAABShj7QB_534zx5MRyGE53NjLNVjKuNfZR0,549738496)'], 'entityUrn': 'urn:li:fs_education:(ACoAABShj7QB_534zx5MRyGE53NjLNVjKuNfZR0,222450480)', 'school': {'objectUrn': 'urn:li:school:17954', 'entityUrn': 'urn:li:fs_miniSchool:17954', 'active': True, 'schoolName': 'University of California San Diego', 'trackingId': 'RDD7yJ5LT3epI7w6WNRS0w==', 'logoUrl': 'https://media.licdn.com/dms/image/C560BAQHQYa-3EY_aaQ/company-logo_'}, 'activities': 'Theta Tau', 'timePeriod': {'endDate': {'year': 2015}}, 'degreeName': 'Bachelor of Science (B.S.)', 'schoolName': 'University of California San Diego', 'fieldOfStudy': 'Computer Science', 'schoolUrn': 'urn:li:fs_miniSchool:17954'}]}\n",
      "\n",
      "\n",
      "\n",
      "\n",
      "geoloc\n",
      "{'industryName': 'Computer Software', 'lastName': 'Liu', 'locationName': 'United States', 'student': False, 'geoCountryName': 'United States', 'geoCountryUrn': 'urn:li:fs_geo:103644278', 'geoLocationBackfilled': True, 'elt': False, 'industryUrn': 'urn:li:fs_industry:4', 'firstName': 'Haolan', 'entityUrn': 'urn:li:fs_profile:ACoAACMckFgB6oJ2yF0Rt3ECisRT7m5So30opSU', 'geoLocation': {'geoUrn': 'urn:li:fs_geo:103644278'}, 'location': {'preferredGeoPlace': 'urn:li:fs_city:(us,27-8)', 'basicLocation': {'countryCode': 'us'}}, 'headline': 'Student at UCSD, working on system and machine learning.\\npersonal webpage: LiuHaolan.github.io', 'displayPictureUrl': 'https://media.licdn.com/dms/image/C5603AQFIq-qY00F-mA/profile-displayphoto-shrink_', 'profile_id': 'ACoAACMckFgB6oJ2yF0Rt3ECisRT7m5So30opSU', 'experience': [{'locationName': 'Greater San Diego Area', 'entityUrn': 'urn:li:fs_position:(ACoAACMckFgB6oJ2yF0Rt3ECisRT7m5So30opSU,1477929536)', 'geoLocationName': 'Greater San Diego Area', 'geoUrn': 'urn:li:fs_geo:100737633', 'companyName': 'University of California San Diego', 'timePeriod': {'startDate': {'month': 7, 'year': 2019}}, 'company': {'employeeCountRange': {'start': 10001}, 'industries': ['Higher Education']}, 'title': 'Graduate Student Researcher', 'region': 'urn:li:fs_region:(us,732)', 'companyUrn': 'urn:li:fs_miniCompany:3382', 'companyLogoUrl': 'https://media.licdn.com/dms/image/C560BAQHQYa-3EY_aaQ/company-logo_'}, {'locationName': 'Hangzhou, Zhejiang, China', 'entityUrn': 'urn:li:fs_position:(ACoAACMckFgB6oJ2yF0Rt3ECisRT7m5So30opSU,1341338480)', 'geoLocationName': 'Hangzhou, Zhejiang, China', 'geoUrn': 'urn:li:fs_geo:90009563', 'companyName': 'Netease Games', 'timePeriod': {'endDate': {'month': 3, 'year': 2018}, 'startDate': {'month': 12, 'year': 2017}}, 'company': {'employeeCountRange': {'start': 1001, 'end': 5000}, 'industries': ['Computer Games']}, 'title': 'Game Developer Intern', 'region': 'urn:li:fs_region:(cn,8931)', 'companyUrn': 'urn:li:fs_miniCompany:3595008', 'companyLogoUrl': 'https://media.licdn.com/dms/image/C510BAQHGbqwZpJLLlA/company-logo_'}], 'skills': [], 'education': [{'entityUrn': 'urn:li:fs_education:(ACoAACMckFgB6oJ2yF0Rt3ECisRT7m5So30opSU,544499693)', 'school': {'objectUrn': 'urn:li:school:17954', 'entityUrn': 'urn:li:fs_miniSchool:17954', 'active': True, 'schoolName': 'University of California San Diego', 'trackingId': 'pFwwXaMrS5OpAfRl/SYL0g==', 'logoUrl': 'https://media.licdn.com/dms/image/C560BAQHQYa-3EY_aaQ/company-logo_'}, 'timePeriod': {'endDate': {'year': 2020}, 'startDate': {'year': 2018}}, 'degreeName': \"Master's degree\", 'schoolName': 'University of California San Diego', 'fieldOfStudy': 'Computational Science', 'degreeUrn': 'urn:li:fs_degree:500', 'schoolUrn': 'urn:li:fs_miniSchool:17954'}, {'entityUrn': 'urn:li:fs_education:(ACoAACMckFgB6oJ2yF0Rt3ECisRT7m5So30opSU,439530193)', 'school': {'objectUrn': 'urn:li:school:11469', 'entityUrn': 'urn:li:fs_miniSchool:11469', 'active': True, 'schoolName': 'Zhejiang University', 'trackingId': 'J9dLOuanT1GZqRj6KWCiKw==', 'logoUrl': 'https://media.licdn.com/dms/image/C510BAQFqHuGrMlNcfg/company-logo_'}, 'timePeriod': {'endDate': {'year': 2018}, 'startDate': {'year': 2014}}, 'degreeName': 'Bachelor of Engineering - BE', 'schoolName': 'Zhejiang University', 'fieldOfStudy': 'Information Engineering', 'degreeUrn': 'urn:li:fs_degree:269', 'schoolUrn': 'urn:li:fs_miniSchool:11469'}]}\n",
      "\n",
      "\n",
      "\n",
      "\n",
      "geoloc\n",
      "{'industryName': 'Information Technology & Services', 'lastName': 'Yi', 'locationName': 'United States', 'student': False, 'geoCountryName': 'United States', 'geoCountryUrn': 'urn:li:fs_geo:103644278', 'geoLocationBackfilled': True, 'elt': False, 'industryUrn': 'urn:li:fs_industry:96', 'firstName': 'An', 'entityUrn': 'urn:li:fs_profile:ACoAAB1fzSYBVZggvedd6Cld-Lt_aZAIHcrvwHQ', 'geoLocation': {'geoUrn': 'urn:li:fs_geo:90000084'}, 'geoLocationName': 'San Francisco Bay Area', 'location': {'basicLocation': {'countryCode': 'us'}}, 'headline': 'Pony.ai - Software Developer', 'displayPictureUrl': 'https://media.licdn.com/dms/image/C5603AQGCl2LNL15rIw/profile-displayphoto-shrink_', 'profile_id': 'ACoAAB1fzSYBVZggvedd6Cld-Lt_aZAIHcrvwHQ', 'experience': [{'entityUrn': 'urn:li:fs_position:(ACoAAB1fzSYBVZggvedd6Cld-Lt_aZAIHcrvwHQ,1225490346)', 'companyName': 'Pony.ai', 'timePeriod': {'startDate': {'month': 3, 'year': 2018}}, 'company': {'employeeCountRange': {'start': 51, 'end': 200}, 'industries': ['Information Technology and Services']}, 'title': 'Software Developer', 'companyUrn': 'urn:li:fs_miniCompany:18199023', 'companyLogoUrl': 'https://media.licdn.com/dms/image/C560BAQGdX2Q612KGNQ/company-logo_'}, {'locationName': 'Seattle', 'entityUrn': 'urn:li:fs_position:(ACoAAB1fzSYBVZggvedd6Cld-Lt_aZAIHcrvwHQ,1041981374)', 'geoLocationName': 'Seattle', 'companyName': 'Amazon', 'timePeriod': {'endDate': {'month': 9, 'year': 2017}, 'startDate': {'month': 6, 'year': 2017}}, 'description': 'Project: Predictive Delivery Window\\nImplemented a new notification in Java using Queue, Lambda, Cloud Watch, etc\\nin AWS and some internal services. To give customers more precise information,\\nwe’re using Predictive Delivery Window when their packages will arrive. We\\nextend surfacing this to customers via notifications which will actively push the\\ninformation to the customer.', 'company': {'employeeCountRange': {'start': 10001}, 'industries': ['Internet']}, 'title': 'Software Developer Internship', 'companyUrn': 'urn:li:fs_miniCompany:1586', 'companyLogoUrl': 'https://media.licdn.com/dms/image/C560BAQFdwVGpSOHmgw/company-logo_'}, {'entityUrn': 'urn:li:fs_position:(ACoAAB1fzSYBVZggvedd6Cld-Lt_aZAIHcrvwHQ,906914558)', 'companyName': 'TalkingData 【北京腾云天下科技有限公司】', 'timePeriod': {'endDate': {'month': 7, 'year': 2015}, 'startDate': {'month': 6, 'year': 2015}}, 'description': 'Project: Activity Recognition using Phone Accelerometer Data\\nAnalyzed the collected labeled accelerometer data from ∼ 10, 000 users in their\\ndaily activities such as walking, jogging, climbing, sitting and standing, by ex-\\ntracting 43 data features; Developed a modified k-Nearest Neighbors algorithm\\nfor personalization and online training; Conducted systematic tests and demon-\\nstrated accuracy over 92% in activity recognition.', 'company': {'employeeCountRange': {'start': 501, 'end': 1000}, 'industries': ['Internet']}, 'title': 'Software Developer Internship', 'companyUrn': 'urn:li:fs_miniCompany:3670212', 'companyLogoUrl': 'https://media.licdn.com/dms/image/C4E0BAQGzDjUQJH_FHQ/company-logo_'}], 'skills': [{'name': 'C++', 'standardizedSkillUrn': 'urn:li:fs_miniSkill:198', 'standardizedSkill': {'name': 'C++', 'entityUrn': 'urn:li:fs_miniSkill:198'}}, {'name': 'Java', 'standardizedSkillUrn': 'urn:li:fs_miniSkill:147', 'standardizedSkill': {'name': 'Java', 'entityUrn': 'urn:li:fs_miniSkill:147'}}, {'name': 'Python', 'standardizedSkillUrn': 'urn:li:fs_miniSkill:1346', 'standardizedSkill': {'name': 'Python (Programming Language)', 'entityUrn': 'urn:li:fs_miniSkill:1346'}}, {'name': 'C', 'standardizedSkillUrn': 'urn:li:fs_miniSkill:438', 'standardizedSkill': {'name': 'C (Programming Language)', 'entityUrn': 'urn:li:fs_miniSkill:438'}}, {'name': 'MATLAB', 'standardizedSkillUrn': 'urn:li:fs_miniSkill:1442', 'standardizedSkill': {'name': 'Matlab', 'entityUrn': 'urn:li:fs_miniSkill:1442'}}, {'name': 'Linux', 'standardizedSkillUrn': 'urn:li:fs_miniSkill:301', 'standardizedSkill': {'name': 'Linux', 'entityUrn': 'urn:li:fs_miniSkill:301'}}, {'name': 'LaTeX', 'standardizedSkillUrn': 'urn:li:fs_miniSkill:6420', 'standardizedSkill': {'name': 'LaTeX', 'entityUrn': 'urn:li:fs_miniSkill:6420'}}, {'name': '算法', 'standardizedSkillUrn': 'urn:li:fs_miniSkill:1070', 'standardizedSkill': {'name': 'Algorithms', 'entityUrn': 'urn:li:fs_miniSkill:1070'}}, {'name': 'Go'}, {'name': 'Algorithm Design'}], 'education': [{'entityUrn': 'urn:li:fs_education:(ACoAAB1fzSYBVZggvedd6Cld-Lt_aZAIHcrvwHQ,378679071)', 'school': {'objectUrn': 'urn:li:school:17954', 'entityUrn': 'urn:li:fs_miniSchool:17954', 'active': True, 'schoolName': 'University of California San Diego', 'trackingId': 'CUIAnAZvSLyvX4I/YcbmaQ==', 'logoUrl': 'https://media.licdn.com/dms/image/C560BAQHQYa-3EY_aaQ/company-logo_'}, 'timePeriod': {'endDate': {'year': 2018}, 'startDate': {'year': 2016}}, 'degreeName': \"Master's degree\", 'schoolName': 'University of California San Diego', 'fieldOfStudy': 'Computer Science', 'degreeUrn': 'urn:li:fs_degree:500', 'schoolUrn': 'urn:li:fs_miniSchool:17954'}, {'entityUrn': 'urn:li:fs_education:(ACoAAB1fzSYBVZggvedd6Cld-Lt_aZAIHcrvwHQ,338810394)', 'school': {'objectUrn': 'urn:li:school:11398', 'entityUrn': 'urn:li:fs_miniSchool:11398', 'active': True, 'schoolName': 'Tsinghua University', 'trackingId': 'OAWOvhbDQp2IbQ46IGILeQ==', 'logoUrl': 'https://media.licdn.com/dms/image/C4D0BAQFJU3_2fIeNWw/company-logo_'}, 'timePeriod': {'endDate': {'year': 2016}, 'startDate': {'year': 2012}}, 'description': 'Graduated from the special pilot class (Yao class) in the institute of interdisciplinary information sciences (IIIS).', 'degreeName': \"Bachelor's degree\", 'schoolName': 'Tsinghua University', 'fieldOfStudy': 'Computer Science', 'schoolUrn': 'urn:li:fs_miniSchool:11398'}]}\n",
      "\n",
      "\n",
      "\n",
      "\n",
      "geoloc\n",
      "{'summary': 'Interested in a variety of software development technologies.', 'industryName': 'Computer Software', 'lastName': 'Zhang', 'locationName': 'United States', 'student': False, 'geoCountryName': 'United States', 'geoCountryUrn': 'urn:li:fs_geo:103644278', 'geoLocationBackfilled': True, 'elt': False, 'industryUrn': 'urn:li:fs_industry:4', 'firstName': 'Yaming', 'entityUrn': 'urn:li:fs_profile:ACoAACQheIUBQS_3qepgYi5cmcPMw13X21eVAiE', 'geoLocation': {'geoUrn': 'urn:li:fs_geo:90000091'}, 'geoLocationName': 'Greater Seattle Area', 'location': {'basicLocation': {'countryCode': 'us'}}, 'headline': 'Software development engineer I at Amazon', 'displayPictureUrl': 'https://media.licdn.com/dms/image/C5603AQHKEB4-tVU9wQ/profile-displayphoto-shrink_', 'profile_id': 'ACoAACQheIUBQS_3qepgYi5cmcPMw13X21eVAiE', 'experience': [{'entityUrn': 'urn:li:fs_position:(ACoAACQheIUBQS_3qepgYi5cmcPMw13X21eVAiE,1470713822)', 'companyName': 'Amazon', 'timePeriod': {'startDate': {'month': 6, 'year': 2019}}, 'company': {'employeeCountRange': {'start': 10001}, 'industries': ['Internet']}, 'title': 'Software development engineer I', 'companyUrn': 'urn:li:fs_miniCompany:1586', 'companyLogoUrl': 'https://media.licdn.com/dms/image/C560BAQFdwVGpSOHmgw/company-logo_'}, {'locationName': 'Greater San Diego Area', 'entityUrn': 'urn:li:fs_position:(ACoAACQheIUBQS_3qepgYi5cmcPMw13X21eVAiE,1361028619)', 'geoLocationName': 'Greater San Diego Area', 'companyName': 'Humana', 'timePeriod': {'endDate': {'month': 3, 'year': 2019}, 'startDate': {'month': 6, 'year': 2018}}, 'description': 'Backend Development (C++)\\nInternal Tool (Java)\\nEnd-to-end Test Automation (Batch)', 'company': {'employeeCountRange': {'start': 10001}, 'industries': ['Health, Wellness and Fitness']}, 'title': 'Software Engineer Intern', 'companyUrn': 'urn:li:fs_miniCompany:4257', 'companyLogoUrl': 'https://media.licdn.com/dms/image/C4E0BAQEIdKhiAKeARg/company-logo_'}, {'locationName': 'Davis, CA', 'entityUrn': 'urn:li:fs_position:(ACoAACQheIUBQS_3qepgYi5cmcPMw13X21eVAiE,1208802227)', 'geoLocationName': 'Davis, CA', 'companyName': 'University of California, Davis', 'timePeriod': {'endDate': {'month': 9, 'year': 2016}, 'startDate': {'month': 7, 'year': 2016}}, 'description': 'Research Assistant at UC Davis UAV lab.', 'company': {'employeeCountRange': {'start': 10001}, 'industries': ['Higher Education']}, 'title': 'Research Assistant', 'companyUrn': 'urn:li:fs_miniCompany:2842', 'companyLogoUrl': 'https://media.licdn.com/dms/image/C560BAQHPrWjMxJrTXQ/company-logo_'}], 'skills': [{'name': 'Java'}, {'name': 'SQL'}, {'name': 'C++'}, {'name': 'Research'}, {'name': 'Python'}, {'name': 'JavaScript'}, {'name': 'Matlab'}, {'name': 'Android'}, {'name': 'OCaml'}, {'name': 'prolog'}, {'name': 'ROS'}], 'education': [{'entityUrn': 'urn:li:fs_education:(ACoAACQheIUBQS_3qepgYi5cmcPMw13X21eVAiE,462302360)', 'school': {'objectUrn': 'urn:li:school:17954', 'entityUrn': 'urn:li:fs_miniSchool:17954', 'active': True, 'schoolName': 'University of California San Diego', 'trackingId': 'XjbQHykGSvmrD3aFLBE/Rg==', 'logoUrl': 'https://media.licdn.com/dms/image/C560BAQHQYa-3EY_aaQ/company-logo_'}, 'timePeriod': {'endDate': {'year': 2019}, 'startDate': {'year': 2017}}, 'fieldOfStudyUrn': 'urn:li:fs_fieldOfStudy:100347', 'degreeName': \"Master's degree\", 'schoolName': 'University of California San Diego', 'fieldOfStudy': 'Computer Engineering', 'degreeUrn': 'urn:li:fs_degree:500', 'schoolUrn': 'urn:li:fs_miniSchool:17954'}, {'entityUrn': 'urn:li:fs_education:(ACoAACQheIUBQS_3qepgYi5cmcPMw13X21eVAiE,462302393)', 'school': {'objectUrn': 'urn:li:school:11469', 'entityUrn': 'urn:li:fs_miniSchool:11469', 'active': True, 'schoolName': 'Zhejiang University', 'trackingId': '62WfjS5tSPihMmx98Fuv2A==', 'logoUrl': 'https://media.licdn.com/dms/image/C510BAQFqHuGrMlNcfg/company-logo_'}, 'timePeriod': {'endDate': {'year': 2017}, 'startDate': {'year': 2013}}, 'fieldOfStudyUrn': 'urn:li:fs_fieldOfStudy:100379', 'degreeName': \"Bachelor's degree\", 'schoolName': 'Zhejiang University', 'fieldOfStudy': 'Mechatronics, Robotics, and Automation Engineering', 'degreeUrn': 'urn:li:fs_degree:200', 'schoolUrn': 'urn:li:fs_miniSchool:11469'}]}\n",
      "\n",
      "\n",
      "\n",
      "\n",
      "geoloc\n",
      "{'summary': \"I'm looking for 2020 Full-time SDE positions!\", 'industryName': 'Internet', 'lastName': 'Gu', 'locationName': 'Pudongxin District, Shanghai, China', 'student': False, 'geoCountryName': 'China', 'geoCountryUrn': 'urn:li:fs_geo:102890883', 'geoLocationBackfilled': True, 'elt': False, 'industryUrn': 'urn:li:fs_industry:6', 'firstName': 'Zhetao', 'entityUrn': 'urn:li:fs_profile:ACoAACb5HR4B1RZqNd-S3tMwh2pSgg6X-Xu3ZK8', 'geoLocation': {'geoUrn': 'urn:li:fs_geo:102772228'}, 'geoLocationName': 'Shanghai', 'location': {'preferredGeoPlace': 'urn:li:fs_city:(cn,30-12)', 'basicLocation': {'countryCode': 'cn'}}, 'state': {'stateCode': '30', 'entityUrn': 'urn:li:fs_state:(cn,30)', 'stateName': 'Shanghai'}, 'headline': 'Amazon Development Center - Software Engineer', 'displayPictureUrl': 'https://media.licdn.com/dms/image/C5103AQHoCXltX399WA/profile-displayphoto-shrink_', 'profile_id': 'ACoAACb5HR4B1RZqNd-S3tMwh2pSgg6X-Xu3ZK8', 'experience': [{'locationName': 'Seattle', 'entityUrn': 'urn:li:fs_position:(ACoAACb5HR4B1RZqNd-S3tMwh2pSgg6X-Xu3ZK8,1481796815)', 'geoLocationName': 'Seattle', 'companyName': '亚马逊网', 'timePeriod': {'endDate': {'month': 9, 'year': 2019}, 'startDate': {'month': 6, 'year': 2019}}, 'company': {'employeeCountRange': {'start': 10001}, 'industries': ['Internet']}, 'title': 'Software Engineer', 'companyUrn': 'urn:li:fs_miniCompany:1586', 'companyLogoUrl': 'https://media.licdn.com/dms/image/C560BAQFdwVGpSOHmgw/company-logo_'}, {'locationName': 'Shanghai', 'entityUrn': 'urn:li:fs_position:(ACoAACb5HR4B1RZqNd-S3tMwh2pSgg6X-Xu3ZK8,1371446259)', 'geoLocationName': 'Shanghai', 'companyName': '清影科技(深圳)有限公司', 'timePeriod': {'endDate': {'month': 6, 'year': 2018}, 'startDate': {'month': 2, 'year': 2018}}, 'company': {'industries': ['Management Consulting']}, 'title': 'Algorithm Engineer', 'companyUrn': 'urn:li:fs_miniCompany:32424961'}, {'entityUrn': 'urn:li:fs_position:(ACoAACb5HR4B1RZqNd-S3tMwh2pSgg6X-Xu3ZK8,1371602775)', 'companyName': '复旦大学', 'timePeriod': {'endDate': {'year': 2018}, 'startDate': {'month': 9, 'year': 2015}}, 'company': {'employeeCountRange': {'start': 1001, 'end': 5000}, 'industries': ['Higher Education']}, 'title': 'Research Assistant', 'companyUrn': 'urn:li:fs_miniCompany:22859', 'companyLogoUrl': 'https://media.licdn.com/dms/image/C4E0BAQFqaH7FoO2N-w/company-logo_'}, {'locationName': 'Shanghai', 'entityUrn': 'urn:li:fs_position:(ACoAACb5HR4B1RZqNd-S3tMwh2pSgg6X-Xu3ZK8,1371448175)', 'geoLocationName': 'Shanghai', 'companyName': '沈阳新松机器人自动化股份有限公司', 'timePeriod': {'endDate': {'month': 2, 'year': 2016}, 'startDate': {'month': 1, 'year': 2016}}, 'company': {'employeeCountRange': {'start': 0, 'end': 1}, 'industries': ['Industrial Automation']}, 'title': 'Research Development Internship', 'companyUrn': 'urn:li:fs_miniCompany:9200757', 'companyLogoUrl': 'https://media.licdn.com/dms/image/C4D0BAQEOrWt8Poawlw/company-logo_'}], 'skills': [{'name': 'deep learning'}, {'name': 'computer vision'}, {'name': 'Python'}, {'name': 'Java'}, {'name': 'C++'}], 'education': [{'entityUrn': 'urn:li:fs_education:(ACoAACb5HR4B1RZqNd-S3tMwh2pSgg6X-Xu3ZK8,549670771)', 'school': {'objectUrn': 'urn:li:school:17954', 'entityUrn': 'urn:li:fs_miniSchool:17954', 'active': True, 'schoolName': 'University of California San Diego', 'trackingId': 'ZCWVpIUZQsueDfmT2XX6Sg==', 'logoUrl': 'https://media.licdn.com/dms/image/C560BAQHQYa-3EY_aaQ/company-logo_'}, 'timePeriod': {'endDate': {'year': 2020}, 'startDate': {'year': 2018}}, 'degreeName': 'Master of Science - MS', 'schoolName': '美国加州大学圣迭戈分校', 'fieldOfStudy': 'Electrical and Computer Engineering', 'degreeUrn': 'urn:li:fs_degree:626', 'schoolUrn': 'urn:li:fs_miniSchool:17954'}, {'entityUrn': 'urn:li:fs_education:(ACoAACb5HR4B1RZqNd-S3tMwh2pSgg6X-Xu3ZK8,557100655)', 'school': {'objectUrn': 'urn:li:school:11109', 'entityUrn': 'urn:li:fs_miniSchool:11109', 'active': True, 'schoolName': 'Fudan University', 'trackingId': '/Oc0bGArSYmDRMSTyV1ULg==', 'logoUrl': 'https://media.licdn.com/dms/image/C4E0BAQFqaH7FoO2N-w/company-logo_'}, 'timePeriod': {'endDate': {'year': 2018}, 'startDate': {'year': 2014}}, 'degreeName': 'Bachelor of Engineering - BE', 'schoolName': '复旦大学', 'fieldOfStudy': 'Electrical Information Scrience and Technology', 'degreeUrn': 'urn:li:fs_degree:269', 'schoolUrn': 'urn:li:fs_miniSchool:11109'}, {'entityUrn': 'urn:li:fs_education:(ACoAACb5HR4B1RZqNd-S3tMwh2pSgg6X-Xu3ZK8,553110021)', 'school': {'objectUrn': 'urn:li:school:18729', 'entityUrn': 'urn:li:fs_miniSchool:18729', 'active': True, 'schoolName': 'Washington University in St. Louis', 'trackingId': 'fxAylEs7QEOi7UoULNNMAg==', 'logoUrl': 'https://media.licdn.com/dms/image/C4D0BAQHsOGDME0U7Vg/company-logo_'}, 'timePeriod': {'endDate': {'year': 2017}, 'startDate': {'year': 2017}}, 'degreeName': 'Exchange Program', 'schoolName': 'Washington University in St. Louis', 'schoolUrn': 'urn:li:fs_miniSchool:18729'}]}\n",
      "\n",
      "\n",
      "\n",
      "\n",
      "geoloc\n",
      "{'industryName': 'Internet', 'lastName': 'Xie', 'locationName': 'United States', 'student': False, 'geoCountryName': 'United States', 'geoCountryUrn': 'urn:li:fs_geo:103644278', 'geoLocationBackfilled': True, 'elt': False, 'industryUrn': 'urn:li:fs_industry:6', 'firstName': 'Scarlet Jiali', 'entityUrn': 'urn:li:fs_profile:ACoAABppj_sBB-ibDsgEmQI5tmhucGi_Fy4tQlc', 'geoLocation': {'geoUrn': 'urn:li:fs_geo:90000091'}, 'geoLocationName': 'Greater Seattle Area', 'location': {'basicLocation': {'countryCode': 'us'}}, 'headline': 'Software Development Engineer at Amazon', 'profile_id': 'ACoAABppj_sBB-ibDsgEmQI5tmhucGi_Fy4tQlc', 'experience': [{'locationName': 'Seattle, Washington', 'entityUrn': 'urn:li:fs_position:(ACoAABppj_sBB-ibDsgEmQI5tmhucGi_Fy4tQlc,1221386038)', 'geoLocationName': 'Seattle, Washington', 'companyName': 'Amazon', 'timePeriod': {'startDate': {'month': 2, 'year': 2018}}, 'description': 'Alexa shopping platform', 'company': {'employeeCountRange': {'start': 10001}, 'industries': ['Internet']}, 'title': 'Software Development Engineer', 'companyUrn': 'urn:li:fs_miniCompany:1586', 'companyLogoUrl': 'https://media.licdn.com/dms/image/C560BAQFdwVGpSOHmgw/company-logo_'}, {'locationName': 'Greater Seattle Area', 'entityUrn': 'urn:li:fs_position:(ACoAABppj_sBB-ibDsgEmQI5tmhucGi_Fy4tQlc,1041520953)', 'geoLocationName': 'Greater Seattle Area', 'geoUrn': 'urn:li:fs_geo:90000091', 'companyName': 'Amazon', 'timePeriod': {'endDate': {'month': 9, 'year': 2017}, 'startDate': {'month': 7, 'year': 2017}}, 'company': {'employeeCountRange': {'start': 10001}, 'industries': ['Internet']}, 'title': 'Software Development Engineer Intern', 'region': 'urn:li:fs_region:(us,91)', 'companyUrn': 'urn:li:fs_miniCompany:1586', 'companyLogoUrl': 'https://media.licdn.com/dms/image/C560BAQFdwVGpSOHmgw/company-logo_'}, {'entityUrn': 'urn:li:fs_position:(ACoAABppj_sBB-ibDsgEmQI5tmhucGi_Fy4tQlc,895457449)', 'companyName': 'ServiceNow', 'timePeriod': {'endDate': {'month': 3, 'year': 2017}, 'startDate': {'month': 1, 'year': 2017}}, 'company': {'employeeCountRange': {'start': 5001, 'end': 10000}, 'industries': ['Computer Software']}, 'title': 'Application Development Intern', 'companyUrn': 'urn:li:fs_miniCompany:29352', 'companyLogoUrl': 'https://media.licdn.com/dms/image/C4E0BAQEA_U8R9KDIiQ/company-logo_'}, {'entityUrn': 'urn:li:fs_position:(ACoAABppj_sBB-ibDsgEmQI5tmhucGi_Fy4tQlc,857954041)', 'companyName': 'CSE Department, UCSD', 'timePeriod': {'endDate': {'month': 9, 'year': 2016}, 'startDate': {'month': 8, 'year': 2016}}, 'title': 'Tutor'}], 'skills': [{'name': 'Java'}, {'name': 'Management'}, {'name': 'HTML'}, {'name': 'SQL'}, {'name': 'Research'}, {'name': 'PowerPoint'}, {'name': 'C++'}, {'name': 'JavaScript'}, {'name': 'Strategic Planning'}, {'name': 'User Experience'}, {'name': 'Machine Learning'}, {'name': 'Google Analytics', 'standardizedSkillUrn': 'urn:li:fs_miniSkill:4071', 'standardizedSkill': {'name': 'Google Analytics', 'entityUrn': 'urn:li:fs_miniSkill:4071'}}, {'name': 'C'}, {'name': 'Matlab'}, {'name': 'Microsoft PowerPoint'}, {'name': 'Microsoft Office'}], 'education': [{'courses': ['urn:li:fs_course:(ACoAABppj_sBB-ibDsgEmQI5tmhucGi_Fy4tQlc,1)', 'urn:li:fs_course:(ACoAABppj_sBB-ibDsgEmQI5tmhucGi_Fy4tQlc,2)', 'urn:li:fs_course:(ACoAABppj_sBB-ibDsgEmQI5tmhucGi_Fy4tQlc,3)', 'urn:li:fs_course:(ACoAABppj_sBB-ibDsgEmQI5tmhucGi_Fy4tQlc,4)'], 'entityUrn': 'urn:li:fs_education:(ACoAABppj_sBB-ibDsgEmQI5tmhucGi_Fy4tQlc,298100774)', 'school': {'objectUrn': 'urn:li:school:17954', 'entityUrn': 'urn:li:fs_miniSchool:17954', 'active': True, 'schoolName': 'University of California San Diego', 'trackingId': 'og0Cy9KGTaWNT7wW22BDBA==', 'logoUrl': 'https://media.licdn.com/dms/image/C560BAQHQYa-3EY_aaQ/company-logo_'}, 'activities': 'Tau Beta Pi', 'timePeriod': {'endDate': {'year': 2017}, 'startDate': {'year': 2014}}, 'description': 'Main focus: Machine learning, Data analysis and User experience.', 'fieldOfStudyUrn': 'urn:li:fs_fieldOfStudy:100189', 'degreeName': 'Bachelor of Science (B.S.)', 'schoolName': 'University of California, San Diego', 'fieldOfStudy': 'Computer Science', 'degreeUrn': 'urn:li:fs_degree:400', 'schoolUrn': 'urn:li:fs_miniSchool:17954'}, {'entityUrn': 'urn:li:fs_education:(ACoAABppj_sBB-ibDsgEmQI5tmhucGi_Fy4tQlc,385346672)', 'school': {'objectUrn': 'urn:li:school:17954', 'entityUrn': 'urn:li:fs_miniSchool:17954', 'active': True, 'schoolName': 'University of California San Diego', 'trackingId': 'NcR0hxmnQ6y030AEReKkaw==', 'logoUrl': 'https://media.licdn.com/dms/image/C560BAQHQYa-3EY_aaQ/company-logo_'}, 'timePeriod': {'endDate': {'year': 2017}, 'startDate': {'year': 2014}}, 'fieldOfStudyUrn': 'urn:li:fs_fieldOfStudy:100779', 'degreeName': 'Bachelor of Science (B.S.)', 'schoolName': 'University of California, San Diego', 'fieldOfStudy': 'Cognitive Science', 'degreeUrn': 'urn:li:fs_degree:400', 'schoolUrn': 'urn:li:fs_miniSchool:17954'}]}\n",
      "\n",
      "\n",
      "\n",
      "\n",
      "geoloc\n",
      "{'summary': 'Member Of Technical Staff @ Pensando Systems\\n\\nGitHub: https://github.com/yansun1996', 'industryName': 'Computer Software', 'lastName': 'Sun', 'locationName': 'United States', 'student': False, 'geoCountryName': 'United States', 'geoCountryUrn': 'urn:li:fs_geo:103644278', 'geoLocationBackfilled': True, 'elt': False, 'industryUrn': 'urn:li:fs_industry:4', 'firstName': 'Yan', 'entityUrn': 'urn:li:fs_profile:ACoAABqVMtMBw6D6lYc8KHNGiq-NQZ8U9ajxhko', 'geoLocation': {'geoUrn': 'urn:li:fs_geo:90000084'}, 'geoLocationName': 'San Francisco Bay Area', 'location': {'basicLocation': {'countryCode': 'us'}}, 'headline': 'Member Of Technical Staff at Pensando Systems', 'displayPictureUrl': 'https://media.licdn.com/dms/image/C5603AQF3ffydsv5E_A/profile-displayphoto-shrink_', 'profile_id': 'ACoAABqVMtMBw6D6lYc8KHNGiq-NQZ8U9ajxhko', 'experience': [{'locationName': 'San Francisco Bay Area', 'entityUrn': 'urn:li:fs_position:(ACoAABqVMtMBw6D6lYc8KHNGiq-NQZ8U9ajxhko,1534973399)', 'geoLocationName': 'San Francisco Bay Area', 'geoUrn': 'urn:li:fs_geo:90000084', 'companyName': 'Pensando Systems', 'timePeriod': {'startDate': {'month': 11, 'year': 2019}}, 'company': {'employeeCountRange': {'start': 51, 'end': 200}, 'industries': ['Information Technology and Services']}, 'title': 'Member Of Technical Staff', 'region': 'urn:li:fs_region:(us,84)', 'companyUrn': 'urn:li:fs_miniCompany:51665663', 'companyLogoUrl': 'https://media.licdn.com/dms/image/C4E0BAQGCt_QaOqAHpg/company-logo_'}, {'locationName': 'Greater San Diego Area', 'entityUrn': 'urn:li:fs_position:(ACoAABqVMtMBw6D6lYc8KHNGiq-NQZ8U9ajxhko,1485271561)', 'geoLocationName': 'Greater San Diego Area', 'geoUrn': 'urn:li:fs_geo:100737633', 'companyName': '12 Sigma Technologies ', 'timePeriod': {'endDate': {'month': 11, 'year': 2019}, 'startDate': {'month': 7, 'year': 2019}}, 'description': '● Lung Nodule product: Built 3D Mask R-CNN based model for lung segmentation and trained 3D U-Net based multiple head model for lung lobe segmentation by PyTorch. Added as a new feature in a new released version to assist in lung lobe 3D visualization and lung nodule localization.\\n\\n● DevOps: Initialized portable R&D environment by Docker images and container registry service on Alibaba Cloud across several research teams. Maintained Jenkins automation test tools for CI/CD pipeline and conducted release tests for several products. In collaboration with customer service team to optimize product feature based on customer feedback.', 'company': {'employeeCountRange': {'start': 51, 'end': 200}, 'industries': ['Computer Software']}, 'title': 'Data Scientist', 'region': 'urn:li:fs_region:(us,732)', 'companyUrn': 'urn:li:fs_miniCompany:24980620', 'companyLogoUrl': 'https://media.licdn.com/dms/image/C4E0BAQE0L-RHJuSQxQ/company-logo_'}, {'locationName': 'Greater San Diego Area', 'entityUrn': 'urn:li:fs_position:(ACoAABqVMtMBw6D6lYc8KHNGiq-NQZ8U9ajxhko,1452047279)', 'geoLocationName': 'Greater San Diego Area', 'companyName': '12 Sigma Technologies ', 'timePeriod': {'endDate': {'month': 6, 'year': 2019}, 'startDate': {'month': 4, 'year': 2019}}, 'description': '● OCR product: Created a back-end service and implemented related API to collect medical document image from different third-party medical devices and recognize patient ID via Optical Character Recognition (OCR) technique. Trained U-Net based deep learning model by Python and TensorFlow on synthetic text images with data augmentation. Obtained 96% accuracy on character recognition and outperformed previous version by 5% for large-scale release test.', 'company': {'employeeCountRange': {'start': 51, 'end': 200}, 'industries': ['Computer Software']}, 'title': 'Data Scientist Intern', 'companyUrn': 'urn:li:fs_miniCompany:24980620', 'companyLogoUrl': 'https://media.licdn.com/dms/image/C4E0BAQE0L-RHJuSQxQ/company-logo_'}, {'locationName': 'Beijing City, China', 'entityUrn': 'urn:li:fs_position:(ACoAABqVMtMBw6D6lYc8KHNGiq-NQZ8U9ajxhko,1346108206)', 'geoLocationName': 'Beijing City, China', 'geoUrn': 'urn:li:fs_geo:103873152', 'companyName': 'Weibo Corporation', 'timePeriod': {'endDate': {'month': 8, 'year': 2018}, 'startDate': {'month': 6, 'year': 2018}}, 'description': '● Created a new data preprocess pipeline by transferring one billion daily advertising data with high dimension and sparse feature from LIBSVM format to TFRecord format and saved data partitions into HDFS.\\n● Built an asynchronous distributed training pipeline with between-graph replication for Click-Through Rate (CTR) prediction by Python and TensorFlow. Improved model training efficiency by 20% compared to old version pipeline for daily offline computing. Merged into Weibo internal Hadoop based infrastructure and used by production system.', 'company': {'employeeCountRange': {'start': 1001, 'end': 5000}, 'industries': ['Internet']}, 'title': 'Machine Learning Engineer Intern', 'region': 'urn:li:fs_region:(cn,8911)', 'companyUrn': 'urn:li:fs_miniCompany:3761243', 'companyLogoUrl': 'https://media.licdn.com/dms/image/C4D0BAQFnV9XsonAcBg/company-logo_'}, {'locationName': 'Shanghai City, China', 'entityUrn': 'urn:li:fs_position:(ACoAABqVMtMBw6D6lYc8KHNGiq-NQZ8U9ajxhko,1050785630)', 'geoLocationName': 'Shanghai City, China', 'geoUrn': 'urn:li:fs_geo:102772228', 'companyName': 'Shanghai QuantDo Network Technology Co., Ltd.', 'timePeriod': {'endDate': {'month': 9, 'year': 2017}, 'startDate': {'month': 7, 'year': 2017}}, 'description': '● Developed Python scripts to generate MySQL statements for processing data from different commodity exchanges. \\n● Supervised the calculation of margin for futures contracts based on settlement price between trading sessions.\\n● Merged new version back-end pipeline into company’s online futures and option quantitative trading system.', 'company': {'employeeCountRange': {'start': 51, 'end': 200}, 'industries': ['Information Technology and Services']}, 'title': 'Software Engineer Intern', 'region': 'urn:li:fs_region:(cn,8909)', 'companyUrn': 'urn:li:fs_miniCompany:13177539', 'companyLogoUrl': 'https://media.licdn.com/dms/image/C560BAQFB5gdhpwHjjg/company-logo_'}], 'skills': [{'name': 'Python', 'standardizedSkillUrn': 'urn:li:fs_miniSkill:1346', 'standardizedSkill': {'name': 'Python (Programming Language)', 'entityUrn': 'urn:li:fs_miniSkill:1346'}}, {'name': 'C++', 'standardizedSkillUrn': 'urn:li:fs_miniSkill:198', 'standardizedSkill': {'name': 'C++', 'entityUrn': 'urn:li:fs_miniSkill:198'}}, {'name': 'LAMMPS', 'standardizedSkillUrn': 'urn:li:fs_miniSkill:23580', 'standardizedSkill': {'name': 'LAMMPS', 'entityUrn': 'urn:li:fs_miniSkill:23580'}}, {'name': 'Data Analysis'}, {'name': 'Computer Vision'}, {'name': 'Machine Learning'}, {'name': 'Artificial Intelligence'}, {'name': 'Matlab', 'standardizedSkillUrn': 'urn:li:fs_miniSkill:1442', 'standardizedSkill': {'name': 'Matlab', 'entityUrn': 'urn:li:fs_miniSkill:1442'}}, {'name': 'SQL'}, {'name': 'Linux'}, {'name': 'Microsoft Office'}, {'name': 'Hadoop'}, {'name': 'MySQL'}, {'name': 'Docker'}, {'name': 'Java'}, {'name': 'HTML'}, {'name': 'JavaScript'}, {'name': 'VASP', 'standardizedSkillUrn': 'urn:li:fs_miniSkill:46947', 'standardizedSkill': {'name': 'VASP', 'entityUrn': 'urn:li:fs_miniSkill:46947'}}, {'name': 'Molecular Dynamics', 'standardizedSkillUrn': 'urn:li:fs_miniSkill:10141', 'standardizedSkill': {'name': 'Molecular Dynamics', 'entityUrn': 'urn:li:fs_miniSkill:10141'}}, {'name': 'Deep Learning'}, {'name': 'TensorFlow'}, {'name': 'PyTorch'}, {'name': 'Data Science'}, {'name': 'Python (Programming Language)'}, {'name': 'Scikit-Learn'}, {'name': 'NumPy'}, {'name': 'Neural Networks'}, {'name': 'CSS'}], 'education': [{'courses': ['urn:li:fs_course:(ACoAABqVMtMBw6D6lYc8KHNGiq-NQZ8U9ajxhko,316267381)', 'urn:li:fs_course:(ACoAABqVMtMBw6D6lYc8KHNGiq-NQZ8U9ajxhko,316297524)', 'urn:li:fs_course:(ACoAABqVMtMBw6D6lYc8KHNGiq-NQZ8U9ajxhko,1284201220)', 'urn:li:fs_course:(ACoAABqVMtMBw6D6lYc8KHNGiq-NQZ8U9ajxhko,1284251032)', 'urn:li:fs_course:(ACoAABqVMtMBw6D6lYc8KHNGiq-NQZ8U9ajxhko,1284319792)', 'urn:li:fs_course:(ACoAABqVMtMBw6D6lYc8KHNGiq-NQZ8U9ajxhko,111657610)', 'urn:li:fs_course:(ACoAABqVMtMBw6D6lYc8KHNGiq-NQZ8U9ajxhko,111705498)', 'urn:li:fs_course:(ACoAABqVMtMBw6D6lYc8KHNGiq-NQZ8U9ajxhko,111785874)', 'urn:li:fs_course:(ACoAABqVMtMBw6D6lYc8KHNGiq-NQZ8U9ajxhko,111878001)', 'urn:li:fs_course:(ACoAABqVMtMBw6D6lYc8KHNGiq-NQZ8U9ajxhko,1142713338)', 'urn:li:fs_course:(ACoAABqVMtMBw6D6lYc8KHNGiq-NQZ8U9ajxhko,1142750559)'], 'projects': ['urn:li:fs_project:(ACoAABqVMtMBw6D6lYc8KHNGiq-NQZ8U9ajxhko,317243078)', 'urn:li:fs_project:(ACoAABqVMtMBw6D6lYc8KHNGiq-NQZ8U9ajxhko,317485258)', 'urn:li:fs_project:(ACoAABqVMtMBw6D6lYc8KHNGiq-NQZ8U9ajxhko,317548712)', 'urn:li:fs_project:(ACoAABqVMtMBw6D6lYc8KHNGiq-NQZ8U9ajxhko,310251176)', 'urn:li:fs_project:(ACoAABqVMtMBw6D6lYc8KHNGiq-NQZ8U9ajxhko,1403568559)', 'urn:li:fs_project:(ACoAABqVMtMBw6D6lYc8KHNGiq-NQZ8U9ajxhko,1405110466)', 'urn:li:fs_project:(ACoAABqVMtMBw6D6lYc8KHNGiq-NQZ8U9ajxhko,1653653907)'], 'entityUrn': 'urn:li:fs_education:(ACoAABqVMtMBw6D6lYc8KHNGiq-NQZ8U9ajxhko,440876410)', 'school': {'objectUrn': 'urn:li:school:17954', 'entityUrn': 'urn:li:fs_miniSchool:17954', 'active': True, 'schoolName': 'University of California San Diego', 'trackingId': 'w0YoW1+aScapJN540FPUJg==', 'logoUrl': 'https://media.licdn.com/dms/image/C560BAQHQYa-3EY_aaQ/company-logo_'}, 'timePeriod': {'endDate': {'year': 2019}, 'startDate': {'year': 2017}}, 'description': 'Major: Machine Learning and Data Science', 'fieldOfStudyUrn': 'urn:li:fs_fieldOfStudy:100351', 'degreeName': 'Master of Science - MS', 'schoolName': 'University of California San Diego', 'fieldOfStudy': 'Electrical and Computer Engineering', 'degreeUrn': 'urn:li:fs_degree:626', 'schoolUrn': 'urn:li:fs_miniSchool:17954'}, {'courses': ['urn:li:fs_course:(ACoAABqVMtMBw6D6lYc8KHNGiq-NQZ8U9ajxhko,315870233)', 'urn:li:fs_course:(ACoAABqVMtMBw6D6lYc8KHNGiq-NQZ8U9ajxhko,315938185)', 'urn:li:fs_course:(ACoAABqVMtMBw6D6lYc8KHNGiq-NQZ8U9ajxhko,315964036)', 'urn:li:fs_course:(ACoAABqVMtMBw6D6lYc8KHNGiq-NQZ8U9ajxhko,315996670)', 'urn:li:fs_course:(ACoAABqVMtMBw6D6lYc8KHNGiq-NQZ8U9ajxhko,316022805)', 'urn:li:fs_course:(ACoAABqVMtMBw6D6lYc8KHNGiq-NQZ8U9ajxhko,316043944)', 'urn:li:fs_course:(ACoAABqVMtMBw6D6lYc8KHNGiq-NQZ8U9ajxhko,316108589)', 'urn:li:fs_course:(ACoAABqVMtMBw6D6lYc8KHNGiq-NQZ8U9ajxhko,316149074)', 'urn:li:fs_course:(ACoAABqVMtMBw6D6lYc8KHNGiq-NQZ8U9ajxhko,316179054)', 'urn:li:fs_course:(ACoAABqVMtMBw6D6lYc8KHNGiq-NQZ8U9ajxhko,316224192)'], 'entityUrn': 'urn:li:fs_education:(ACoAABqVMtMBw6D6lYc8KHNGiq-NQZ8U9ajxhko,440871564)', 'school': {'objectUrn': 'urn:li:school:11319', 'entityUrn': 'urn:li:fs_miniSchool:11319', 'active': True, 'schoolName': 'Shanghai Jiao Tong University', 'trackingId': '/HWEFbXERQyMpTV3kUruuw==', 'logoUrl': 'https://media.licdn.com/dms/image/C4E0BAQFkNUM4pr0xcg/company-logo_'}, 'timePeriod': {'endDate': {'year': 2017}, 'startDate': {'year': 2014}}, 'fieldOfStudyUrn': 'urn:li:fs_fieldOfStudy:100189', 'degreeName': 'Bachelor of Engineering - BE', 'schoolName': 'Shanghai Jiao Tong University', 'fieldOfStudy': 'Computer Science', 'degreeUrn': 'urn:li:fs_degree:269', 'schoolUrn': 'urn:li:fs_miniSchool:11319'}, {'entityUrn': 'urn:li:fs_education:(ACoAABqVMtMBw6D6lYc8KHNGiq-NQZ8U9ajxhko,300405430)', 'school': {'objectUrn': 'urn:li:school:11319', 'entityUrn': 'urn:li:fs_miniSchool:11319', 'active': True, 'schoolName': 'Shanghai Jiao Tong University', 'trackingId': 'VDn3nrAvR/2dO6/bKqP9Pg==', 'logoUrl': 'https://media.licdn.com/dms/image/C4E0BAQFkNUM4pr0xcg/company-logo_'}, 'timePeriod': {'endDate': {'year': 2017}, 'startDate': {'year': 2013}}, 'fieldOfStudyUrn': 'urn:li:fs_fieldOfStudy:100902', 'degreeName': 'Bachelor of Engineering - BE', 'schoolName': 'Shanghai Jiao Tong University', 'fieldOfStudy': 'Materials Science and Engineering', 'degreeUrn': 'urn:li:fs_degree:269', 'schoolUrn': 'urn:li:fs_miniSchool:11319'}]}\n",
      "\n",
      "\n",
      "\n",
      "\n",
      "geoloc\n",
      "{'industryName': 'Computer Software', 'lastName': 'G.', 'locationName': 'United States', 'student': False, 'geoCountryName': 'United States', 'geoCountryUrn': 'urn:li:fs_geo:103644278', 'geoLocationBackfilled': True, 'elt': False, 'industryUrn': 'urn:li:fs_industry:4', 'firstName': 'Jay', 'entityUrn': 'urn:li:fs_profile:ACoAABdpugABs3xv2qMtsiRHEx-MbzwfinE7LFk', 'geoLocation': {'geoUrn': 'urn:li:fs_geo:103644278'}, 'location': {'basicLocation': {'countryCode': 'us'}}, 'headline': 'Software Engineer at Microsoft', 'profile_id': 'ACoAABdpugABs3xv2qMtsiRHEx-MbzwfinE7LFk', 'experience': [{'entityUrn': 'urn:li:fs_position:(ACoAABdpugABs3xv2qMtsiRHEx-MbzwfinE7LFk,1509230146)', 'companyName': 'Microsoft', 'timePeriod': {'startDate': {'month': 1, 'year': 2019}}, 'description': 'Azure Data Warehouse.', 'company': {'employeeCountRange': {'start': 10001}, 'industries': ['Computer Software']}, 'title': 'Software Engineer', 'companyUrn': 'urn:li:fs_miniCompany:1035', 'companyLogoUrl': 'https://media.licdn.com/dms/image/C4D0BAQEko6uLz7XylA/company-logo_'}, {'entityUrn': 'urn:li:fs_position:(ACoAABdpugABs3xv2qMtsiRHEx-MbzwfinE7LFk,1509231217)', 'companyName': 'Microsoft', 'timePeriod': {'endDate': {'month': 8, 'year': 2018}, 'startDate': {'month': 6, 'year': 2018}}, 'description': 'Developed column level database encryption for Azure Data Warehouse.', 'company': {'employeeCountRange': {'start': 10001}, 'industries': ['Computer Software']}, 'title': 'Software Engineer Intern', 'companyUrn': 'urn:li:fs_miniCompany:1035', 'companyLogoUrl': 'https://media.licdn.com/dms/image/C4D0BAQEko6uLz7XylA/company-logo_'}, {'entityUrn': 'urn:li:fs_position:(ACoAABdpugABs3xv2qMtsiRHEx-MbzwfinE7LFk,1509229879)', 'companyName': 'University of California San Diego', 'timePeriod': {'endDate': {'month': 6, 'year': 2018}, 'startDate': {'month': 1, 'year': 2018}}, 'description': 'Implemented fast perceptron-based learning for robot collision detection.', 'company': {'employeeCountRange': {'start': 10001}, 'industries': ['Higher Education']}, 'title': 'Undergraduate Researcher', 'companyUrn': 'urn:li:fs_miniCompany:3382', 'companyLogoUrl': 'https://media.licdn.com/dms/image/C560BAQHQYa-3EY_aaQ/company-logo_'}, {'entityUrn': 'urn:li:fs_position:(ACoAABdpugABs3xv2qMtsiRHEx-MbzwfinE7LFk,1509230314)', 'companyName': 'Amazon', 'timePeriod': {'endDate': {'month': 8, 'year': 2017}, 'startDate': {'month': 6, 'year': 2017}}, 'description': 'Saved engineers 4+ hours per RCA during DevOps by building a log search tool.', 'company': {'employeeCountRange': {'start': 10001}, 'industries': ['Internet']}, 'title': 'Software Engineer Intern', 'companyUrn': 'urn:li:fs_miniCompany:1586', 'companyLogoUrl': 'https://media.licdn.com/dms/image/C560BAQFdwVGpSOHmgw/company-logo_'}, {'entityUrn': 'urn:li:fs_position:(ACoAABdpugABs3xv2qMtsiRHEx-MbzwfinE7LFk,1509229901)', 'companyName': 'University of California San Diego', 'timePeriod': {'endDate': {'month': 3, 'year': 2017}, 'startDate': {'month': 1, 'year': 2017}}, 'description': 'Tutored object-oriented programming (CSE11) for Prof. Joe Politz.', 'company': {'employeeCountRange': {'start': 10001}, 'industries': ['Higher Education']}, 'title': 'Computer Science Tutor', 'companyUrn': 'urn:li:fs_miniCompany:3382', 'companyLogoUrl': 'https://media.licdn.com/dms/image/C560BAQHQYa-3EY_aaQ/company-logo_'}], 'skills': [], 'education': [{'entityUrn': 'urn:li:fs_education:(ACoAABdpugABs3xv2qMtsiRHEx-MbzwfinE7LFk,611188855)', 'school': {'objectUrn': 'urn:li:school:17954', 'entityUrn': 'urn:li:fs_miniSchool:17954', 'active': True, 'schoolName': 'University of California San Diego', 'trackingId': '949EnngWRg6mZLh0pJjsbg==', 'logoUrl': 'https://media.licdn.com/dms/image/C560BAQHQYa-3EY_aaQ/company-logo_'}, 'timePeriod': {'endDate': {'year': 2018}, 'startDate': {'year': 2014}}, 'degreeName': 'Bachelor of Science - BS', 'schoolName': 'University of California San Diego', 'fieldOfStudy': 'Computer Engineering', 'degreeUrn': 'urn:li:fs_degree:400', 'schoolUrn': 'urn:li:fs_miniSchool:17954'}]}\n",
      "\n",
      "\n",
      "\n",
      "\n",
      "geoloc\n",
      "{'summary': 'My Personal Website - https://jiapingl.github.io/', 'industryName': 'Internet', 'lastName': 'Luo', 'locationName': 'United States', 'student': False, 'geoCountryName': 'United States', 'geoCountryUrn': 'urn:li:fs_geo:103644278', 'geoLocationBackfilled': True, 'elt': False, 'industryUrn': 'urn:li:fs_industry:6', 'firstName': 'Jiaping', 'entityUrn': 'urn:li:fs_profile:ACoAACQ1nP0BkJ3kLY11967mgGmmABywp8913LI', 'geoLocation': {'geoUrn': 'urn:li:fs_geo:103644278'}, 'location': {'basicLocation': {'countryCode': 'us'}}, 'headline': 'Software Engineer at Facebook', 'displayPictureUrl': 'https://media.licdn.com/dms/image/C5603AQGXYHh05WGraA/profile-displayphoto-shrink_', 'profile_id': 'ACoAACQ1nP0BkJ3kLY11967mgGmmABywp8913LI', 'experience': [{'locationName': 'Menlo Park, California', 'entityUrn': 'urn:li:fs_position:(ACoAACQ1nP0BkJ3kLY11967mgGmmABywp8913LI,1474155603)', 'geoLocationName': 'Menlo Park, California', 'companyName': 'Facebook', 'timePeriod': {'startDate': {'month': 6, 'year': 2019}}, 'company': {'employeeCountRange': {'start': 10001}, 'industries': ['Internet']}, 'title': 'Software Engineer', 'companyUrn': 'urn:li:fs_miniCompany:10667', 'companyLogoUrl': 'https://media.licdn.com/dms/image/C560BAQFjQHzcZz7J6g/company-logo_'}, {'locationName': 'Greater San Diego Area', 'entityUrn': 'urn:li:fs_position:(ACoAACQ1nP0BkJ3kLY11967mgGmmABywp8913LI,1373061865)', 'geoLocationName': 'Greater San Diego Area', 'geoUrn': 'urn:li:fs_geo:100737633', 'companyName': 'San Diego Supercomputer Center', 'timePeriod': {'endDate': {'month': 3, 'year': 2019}, 'startDate': {'month': 10, 'year': 2018}}, 'description': '•  Worked at Visualization Group to develop custom modules for SeedMe2 project.\\n•  Developed a Cookie/Session based authentication module with external gateways to allow seamless data sharing.\\n•  Built an activity stream system to log messages automatically using hooks on per-user data subscription.\\n•  Increased 80% of monthly active users by extending invitations to non-site users using Ajax and mail service.\\n•  Performed Unit test on developed module using Drupal testing framework on recurring basis.', 'company': {'employeeCountRange': {'start': 201, 'end': 500}, 'industries': ['Information Technology and Services']}, 'title': 'Software Engineer Intern', 'region': 'urn:li:fs_region:(us,732)', 'companyUrn': 'urn:li:fs_miniCompany:10843', 'companyLogoUrl': 'https://media.licdn.com/dms/image/C560BAQELHgCB8o5tSA/company-logo_'}, {'locationName': 'Greater Los Angeles Area', 'entityUrn': 'urn:li:fs_position:(ACoAACQ1nP0BkJ3kLY11967mgGmmABywp8913LI,1373062760)', 'geoLocationName': 'Greater Los Angeles Area', 'geoUrn': 'urn:li:fs_geo:90000049', 'companyName': 'Endorsify', 'timePeriod': {'endDate': {'month': 9, 'year': 2018}, 'startDate': {'month': 7, 'year': 2018}}, 'description': '•  Developed reusable modules for influencer profile screen with React Native.\\n•  Implemented HTTP requests to back-end RESTful APIs and managed application state by Redux, greatly reduced application latency when presenting and manipulating large datasets.\\n•  Implemented user authentication using Laravel Passport guard with OAuth2 server implementation.\\n•  Architected instagram API integration into machine learning framework to synchronize influencer profile, allowing seamless update of data for application use.\\n•  Built responsive and interactive influencer statistics visualization with highchart.js.\\n•  Scheduled periodic laraval command cronjobs and queue jobs on AWS worker environment with Amazon SQS and daemon process that decreases 91\\\\% average latency in milliseconds.\\n•  Configured inbound and outbound traffic securely with VPC and bastion server, setting up staging server with load balancer and ElasticSearch for heavy HTTPS traffic and application use.', 'company': {'employeeCountRange': {'start': 2, 'end': 10}, 'industries': ['Marketing and Advertising']}, 'title': 'Software Engineer Intern', 'region': 'urn:li:fs_region:(us,49)', 'companyUrn': 'urn:li:fs_miniCompany:10906923', 'companyLogoUrl': 'https://media.licdn.com/dms/image/C560BAQGmQYoInVvxSQ/company-logo_'}], 'skills': [{'name': 'JavaScript'}, {'name': 'PHP'}, {'name': 'React.js'}, {'name': 'MongoDB'}, {'name': 'PostgreSQL'}, {'name': 'MySQL'}, {'name': 'Bootstrap'}, {'name': 'HTML5'}, {'name': 'CSS'}, {'name': 'Node.js'}, {'name': 'Git'}, {'name': 'Github'}, {'name': 'SQL'}, {'name': 'Redux.js'}, {'name': 'Express.js'}, {'name': 'Secure Shell (SSH)'}, {'name': 'Python (Programming Language)'}], 'education': [{'entityUrn': 'urn:li:fs_education:(ACoAACQ1nP0BkJ3kLY11967mgGmmABywp8913LI,463165424)', 'school': {'objectUrn': 'urn:li:school:17954', 'entityUrn': 'urn:li:fs_miniSchool:17954', 'active': True, 'schoolName': 'University of California San Diego', 'trackingId': 'ViUqfj+/S52VZipQ/xD5Mg==', 'logoUrl': 'https://media.licdn.com/dms/image/C560BAQHQYa-3EY_aaQ/company-logo_'}, 'timePeriod': {'endDate': {'year': 2019}, 'startDate': {'year': 2017}}, 'fieldOfStudyUrn': 'urn:li:fs_fieldOfStudy:100189', 'degreeName': \"Master's degree\", 'schoolName': 'University of California San Diego', 'fieldOfStudy': 'Computer Science', 'degreeUrn': 'urn:li:fs_degree:500', 'schoolUrn': 'urn:li:fs_miniSchool:17954'}, {'entityUrn': 'urn:li:fs_education:(ACoAACQ1nP0BkJ3kLY11967mgGmmABywp8913LI,463166589)', 'school': {'objectUrn': 'urn:li:school:11399', 'entityUrn': 'urn:li:fs_miniSchool:11399', 'active': True, 'schoolName': 'University of Electronic Science and Technology of China', 'trackingId': 'NZMUHu3tTzGgDDXWGdUGKw==', 'logoUrl': 'https://media.licdn.com/dms/image/C4D0BAQGLGzWGaWsaQQ/company-logo_'}, 'grade': '3.94/4.0', 'timePeriod': {'endDate': {'year': 2017}, 'startDate': {'year': 2013}}, 'fieldOfStudyUrn': 'urn:li:fs_fieldOfStudy:100351', 'degreeName': \"Bachelor's degree\", 'schoolName': 'University of Electronic Science and Technology of China', 'fieldOfStudy': 'Electrical and Electronics Engineering', 'honors': ['urn:li:fs_honor:(ACoAACQ1nP0BkJ3kLY11967mgGmmABywp8913LI,1040982888)', 'urn:li:fs_honor:(ACoAACQ1nP0BkJ3kLY11967mgGmmABywp8913LI,1041010382)'], 'degreeUrn': 'urn:li:fs_degree:200', 'schoolUrn': 'urn:li:fs_miniSchool:11399'}]}\n",
      "\n",
      "\n",
      "\n",
      "\n",
      "industry\n",
      "{'summary': 'Looking for Software Engineering (Front-end/Back-end) Summer Intern 2020', 'lastName': 'Xing', 'locationName': 'La Jolla, California', 'student': False, 'geoCountryName': 'United States', 'geoCountryUrn': 'urn:li:fs_geo:103644278', 'geoLocationBackfilled': True, 'elt': False, 'firstName': 'Yuchen', 'entityUrn': 'urn:li:fs_profile:ACoAAC15ZCsB4CohhX2Sg3bqR_a9x9cu34fqhrc', 'geoLocation': {'geoUrn': 'urn:li:fs_geo:100737633'}, 'geoLocationName': 'San Diego County, California', 'location': {'preferredGeoPlace': 'urn:li:fs_city:(us,7-1-0-37-24)', 'basicLocation': {'countryCode': 'us'}}, 'headline': 'M.S. in ECE, University of California, San Diego', 'displayPictureUrl': 'https://media.licdn.com/dms/image/C5603AQEbN6Lukl_h7g/profile-displayphoto-shrink_', 'profile_id': 'ACoAAC15ZCsB4CohhX2Sg3bqR_a9x9cu34fqhrc', 'experience': [{'locationName': 'Beijing, China', 'entityUrn': 'urn:li:fs_position:(ACoAAC15ZCsB4CohhX2Sg3bqR_a9x9cu34fqhrc,1517188020)', 'geoLocationName': 'Beijing, China', 'companyName': 'Aqrose', 'timePeriod': {'endDate': {'month': 9, 'year': 2018}, 'startDate': {'month': 6, 'year': 2018}}, 'company': {}, 'title': 'Software Engineer', 'companyUrn': 'urn:li:fs_miniCompany:27041851'}], 'skills': [{'name': 'JavaScript', 'standardizedSkillUrn': 'urn:li:fs_miniSkill:218', 'standardizedSkill': {'name': 'JavaScript', 'entityUrn': 'urn:li:fs_miniSkill:218'}}, {'name': 'Java', 'standardizedSkillUrn': 'urn:li:fs_miniSkill:147', 'standardizedSkill': {'name': 'Java', 'entityUrn': 'urn:li:fs_miniSkill:147'}}, {'name': 'c++'}, {'name': 'C'}, {'name': 'HTML'}, {'name': 'CSS'}, {'name': 'MATLAB', 'standardizedSkillUrn': 'urn:li:fs_miniSkill:1442', 'standardizedSkill': {'name': 'Matlab', 'entityUrn': 'urn:li:fs_miniSkill:1442'}}, {'name': 'Python', 'standardizedSkillUrn': 'urn:li:fs_miniSkill:1346', 'standardizedSkill': {'name': 'Python (Programming Language)', 'entityUrn': 'urn:li:fs_miniSkill:1346'}}, {'name': 'Git'}, {'name': 'Node.js', 'standardizedSkillUrn': 'urn:li:fs_miniSkill:18276', 'standardizedSkill': {'name': 'Node.js', 'entityUrn': 'urn:li:fs_miniSkill:18276'}}, {'name': 'React.js', 'standardizedSkillUrn': 'urn:li:fs_miniSkill:55007', 'standardizedSkill': {'name': 'React.js', 'entityUrn': 'urn:li:fs_miniSkill:55007'}}, {'name': 'MongoDB', 'standardizedSkillUrn': 'urn:li:fs_miniSkill:18235', 'standardizedSkill': {'name': 'MongoDB', 'entityUrn': 'urn:li:fs_miniSkill:18235'}}, {'name': 'Bootstrap', 'standardizedSkillUrn': 'urn:li:fs_miniSkill:50099', 'standardizedSkill': {'name': 'Bootstrap', 'entityUrn': 'urn:li:fs_miniSkill:50099'}}, {'name': 'Linux', 'standardizedSkillUrn': 'urn:li:fs_miniSkill:301', 'standardizedSkill': {'name': 'Linux', 'entityUrn': 'urn:li:fs_miniSkill:301'}}, {'name': 'MySQL'}], 'education': [{'entityUrn': 'urn:li:fs_education:(ACoAAC15ZCsB4CohhX2Sg3bqR_a9x9cu34fqhrc,613789228)', 'school': {'objectUrn': 'urn:li:school:17954', 'entityUrn': 'urn:li:fs_miniSchool:17954', 'active': True, 'schoolName': 'University of California San Diego', 'trackingId': '1HmUCes5SoqJrp43ap6swA==', 'logoUrl': 'https://media.licdn.com/dms/image/C560BAQHQYa-3EY_aaQ/company-logo_'}, 'timePeriod': {'endDate': {'year': 2021}, 'startDate': {'year': 2019}}, 'degreeName': 'Master of Science - MS', 'schoolName': '美国加州大学圣迭戈分校', 'fieldOfStudy': 'Electrical and Computer Engineering', 'degreeUrn': 'urn:li:fs_degree:626', 'schoolUrn': 'urn:li:fs_miniSchool:17954'}, {'entityUrn': 'urn:li:fs_education:(ACoAAC15ZCsB4CohhX2Sg3bqR_a9x9cu34fqhrc,613789284)', 'school': {'objectUrn': 'urn:li:school:11398', 'entityUrn': 'urn:li:fs_miniSchool:11398', 'active': True, 'schoolName': 'Tsinghua University', 'trackingId': 'uIi6PutUQxyLuSAkiqr0Dg==', 'logoUrl': 'https://media.licdn.com/dms/image/C4D0BAQFJU3_2fIeNWw/company-logo_'}, 'timePeriod': {'endDate': {'year': 2019}, 'startDate': {'year': 2015}}, 'degreeName': '学士', 'schoolName': '清华大学', 'fieldOfStudy': '自动化', 'degreeUrn': 'urn:li:fs_degree:200', 'schoolUrn': 'urn:li:fs_miniSchool:11398'}]}\n",
      "\n",
      "\n",
      "\n",
      "\n",
      "geoloc\n",
      "{'industryName': 'Information Technology & Services', 'lastName': 'Liu', 'locationName': 'United States', 'student': False, 'geoCountryName': 'United States', 'geoCountryUrn': 'urn:li:fs_geo:103644278', 'geoLocationBackfilled': True, 'elt': False, 'industryUrn': 'urn:li:fs_industry:96', 'firstName': 'Alfred', 'entityUrn': 'urn:li:fs_profile:ACoAABMi5NAB5kO5qqJr9Su0tx7i9kEpN9IpoWs', 'geoLocation': {'geoUrn': 'urn:li:fs_geo:90000049'}, 'geoLocationName': 'Los Angeles Metropolitan Area', 'location': {'basicLocation': {'countryCode': 'us'}}, 'headline': '--', 'profile_id': 'ACoAABMi5NAB5kO5qqJr9Su0tx7i9kEpN9IpoWs', 'experience': [{'locationName': 'United States', 'entityUrn': 'urn:li:fs_position:(ACoAABMi5NAB5kO5qqJr9Su0tx7i9kEpN9IpoWs,1392475836)', 'geoLocationName': 'United States', 'geoUrn': 'urn:li:fs_geo:103644278', 'companyName': 'Self-employed', 'timePeriod': {'startDate': {'year': 2017}}, 'title': 'Entrepreneur', 'region': 'urn:li:fs_region:(us,0)'}], 'skills': [{'name': 'Microsoft Office'}, {'name': 'Management'}, {'name': 'Microsoft Excel'}, {'name': 'Research'}, {'name': 'Sales'}, {'name': 'Process Improvement'}, {'name': 'Recruiting'}, {'name': 'Marketing'}, {'name': 'Event Planning'}, {'name': 'Project Management'}, {'name': 'Strategic Planning'}, {'name': 'Microsoft Word'}, {'name': 'PowerPoint'}, {'name': 'Photoshop'}, {'name': 'Windows'}, {'name': 'Outlook'}, {'name': 'HTML'}, {'name': 'Leadership'}, {'name': 'Training'}, {'name': 'English'}, {'name': 'Mandarin'}], 'education': [{'entityUrn': 'urn:li:fs_education:(ACoAABMi5NAB5kO5qqJr9Su0tx7i9kEpN9IpoWs,565702661)', 'school': {'objectUrn': 'urn:li:school:17954', 'entityUrn': 'urn:li:fs_miniSchool:17954', 'active': True, 'schoolName': 'University of California San Diego', 'trackingId': 'Z5Gwj9IXTWy7FwRhZBV0Eg==', 'logoUrl': 'https://media.licdn.com/dms/image/C560BAQHQYa-3EY_aaQ/company-logo_'}, 'degreeName': \"Bachelor's degree\", 'schoolName': 'University of California San Diego', 'fieldOfStudy': 'Economics with a minor in Business', 'schoolUrn': 'urn:li:fs_miniSchool:17954'}]}\n",
      "\n",
      "\n",
      "\n",
      "\n",
      "defaultdict(<class 'int'>, {'Wish': 1, 'Autodesk': 1, 'Moebius Solutions, Inc.': 1, 'University of California, Los Angeles': 1, 'Amazon': 44, 'Eureka By SAP S/4HANA': 1, 'YouTube': 1, 'Microsoft': 15, 'CliniComp, Intl.': 1, 'ICPC Lab of Zhejiang University City Colleage': 1, 'Zocdoc': 1, 'SAP': 1, 'University of California San Diego': 31, 'UCSD': 2, 'Facebook': 15, 'PlayStation': 1, 'Tencent': 5, 'Expedia Group': 1, 'Alibaba Group': 1, 'Google': 19, 'Yelp': 2, 'iTradeNetwork, Inc.': 1, 'Skyoo LLC': 1, '北京思图场景数据科技服务有限公司': 1, 'Amazon Web Services': 4, 'Hulu': 2, 'Underworld Productions': 1, 'Teradata': 3, '谷歌': 2, 'YAMAHA MUSIC': 1, 'Salesforce': 9, 'Intuit': 2, 'UC San Diego Academic Jobs': 1, 'Tucodec': 1, 'AppFolio, Inc.': 2, 'University of Wollongong': 1, 'Amazon Web Services (AWS)': 7, 'Bloomberg LP': 1, 'SAS': 1, 'Pony.ai': 2, 'Sansay': 1, 'Strong Technology': 1, 'American Express': 2, 'TuSimple': 13, 'CardConnect': 1, 'Qualcomm Institute - UCSD Division of Calit2': 1, 'Northrop Grumman': 1, 'University of California, San Diego - Jacobs School of Engineering': 13, 'Wuhan Gas & Heat Planning and Design Institute Co., Ltd': 1, 'Capital One': 1, 'Seismic': 1, 'Symantec': 1, 'Triton Software Engineering': 1, 'Pocket Gems': 1, 'Fortune Wealth Center': 1, 'UCSD Department of Computer Science and Engineering': 1, 'SenseTime 商汤科技': 1, 'Intel Corporation': 4, 'VeriCrypt': 1, 'Walmart Labs': 1, 'Computer Vision Lab': 1, 'Lytx, Inc.': 4, 'Morpheus Biolabs': 1, 'OPPO': 2, 'Med Data Quest': 1, 'DiDi': 2, 'YH Art Education': 1, 'System Energy Efficiency Lab - CSE Department - UC San Diego': 1, 'Whova': 3, 'Intel Software': 1, '清华大学': 2, 'UCSD Chinese Computer Community': 2, 'China Merchants Securities Co., Ltd.': 1, 'Apple': 2, 'ServiceNow': 7, 'Beijing Siemens Cerberus Electronics Ltd.': 1, 'Quantum Design': 1, 'Box': 1, 'Center for Applied Internet Data Analysis (CAIDA)': 1, 'National Taiwan University': 1, 'Momenta.ai': 1, 'UCSD CSE Department': 2, 'Kneron': 3, 'LiveRamp': 1, '美国加州大学圣地亚哥分校': 1, 'IBM': 3, 'Qualcomm': 5, 'Statistical Visual Computing Lab': 1, 'Amazon Lab126': 1, 'Verizon Wireless': 1, 'UCSD ARCLab': 1, 'Uber': 2, 'BAEBot': 1, '2Go Products LLC': 1, 'Yimian Data': 1, 'ForYoung Sports': 1, 'WeRide.ai': 1, 'The Good Face Project': 1, 'Zillow': 1, 'L3Harris Technologies': 1, 'DataHinge': 2, 'Aijia Home Furnishing Products Co., Ltd.': 1, 'LinkedIn': 2, 'AiLink Co.': 1, 'Swapsy': 1, 'Women in Computing at UCSD': 1, 'Single Particle': 1, 'Nullmax': 1, 'Xiaomi USA': 1, 'Deep Force': 1, 'Computer Science and Engineering at UC San Diego': 1, 'Synopsys Inc': 1, 'Cisco': 1, 'GoDaddy': 1, 'China Electronics Technology Group Corporation': 1, 'Segway Robotics': 1, 'Ai Master': 1, 'Visa': 1, 'Bentley Systems': 1, 'SES Networks': 1, 'San Diego Supercomputer Center': 1, 'ASML': 1, 'NiceChapter (lintcode.com & jiuzhang.com)': 1, 'Housecall Pro': 2, 'Salk Institute for Biological Studies': 1, 'University of Liverpool': 1, 'Memjet Technology': 1, 'NeuroLeap Corp': 1, '字节跳动': 1, 'Centauri': 1, 'Twitch': 1, 'SMIC': 1, '亚马逊': 2, 'Computational & Cognitive Neuroscience Lab, CogSci, UCSD': 1, 'Snap Inc.': 2, 'Horizon Robotics': 1, 'Vibely': 1, 'Perfect World Entertainment': 1, 'Deloitte': 1, 'Dassault Systèmes': 1, 'General Atomics Aeronautical Systems': 1, 'Pure Storage': 2, 'Beijing Tongtech Co,. Ltd.': 1, 'VMware': 4, 'Dhc Software Co., Ltd': 1, '腾讯': 2, '美国加州大学圣迭戈分校': 1, 'pSemi, A Murata Company': 1, 'Achieve Internet': 1, 'University of California, San Diego - School of Medicine': 1, 'Accenture': 1, 'Midea Group (Fortune Global 500 Company)': 1, 'Forkaia': 2, 'American Specialty Health': 1, 'Opendoor': 1, 'Dropbox': 1, 'Harvesthru': 1, 'Informatica': 1, 'SenseTime Group Limited': 1, 'UC San Diego Computer Science and Engineering Department (CSE)': 1, 'GrantPA': 1, 'Intelligent Software Engineering Laboratory': 1, 'China General Chamber of Commerce - USA': 1, '亚马逊网': 1, '力扣（LeetCode）': 1, 'Tsinghua Tongfang': 1, 'Private Tutoring Work': 1, 'BaySand Inc.': 1, 'TuSimple LLC': 1, 'The Goodface Project': 1, 'Bioprober Corporation': 1, 'Arista Networks': 2, 'Tezign 特赞': 1, 'Certona': 1, 'Smart Wheelchair at UCSD': 1, 'Webroot': 1, 'MediaTek': 1, 'BD': 1, 'China Life Asset Management Company': 1, 'National Chiao Tung University': 1, '英特尔': 1, 'Pensando Systems': 1, 'BiAffect': 3, 'Bagelcode': 1, 'Pure Technologies': 1, 'Experian DataLabs': 1, 'L3 Interstate Electronics Corporation': 1, '中国银行': 1, 'Yahoo': 1, '衍盛中国': 1, \"Macy's Technology\": 1, 'LaunchIt': 1, 'General Atomics': 1, 'Audible, Inc.': 1, 'Workday': 2, 'Havas Edge': 1, 'University of Cincinnati': 1, 'Center for Microbiome Innovation at UC San Diego': 1, 'Univeristy of  Delaware': 1, 'Aqrose': 1, 'Information Technique Dept. Bank of China': 1, 'Ometa Labs': 1, 'MobilityWare': 1, 'paq LLC': 1, 'TripAdvisor': 1, 'MEGVII旷视': 1, 'Self-employed': 1, 'Snowflake': 1, 'Shutterfly, Inc.': 1, 'Tusimple': 1, 'UCSD Machine Learning, Perception, and Cognition Lab': 1})\n",
      "defaultdict(<class 'int'>, {('San Diego County', ' California'): 396, ('Sunnyvale', ' California'): 1, ('San Francisco', ' California'): 3, ('Seattle', ' Washington'): 4, ('Redmond', ' Washington'): 1, ('Palo Alto', ' California'): 2, ('DuPage County', ' Illinois'): 1, ('Mountain View', ' California'): 2, ('San Jose', ' California'): 1, ('Chula Vista', ' California'): 1, ('Pittsburgh', ' Pennsylvania'): 1, ('Los Angeles', ' California'): 1, ('Morgan Hill', ' California'): 1, ('Bellevue', ' Washington'): 1, ('Castro Valley', ' California'): 1, ('Richardson', ' Texas'): 1})\n",
      "defaultdict(<class 'int'>, {'Computer Software': 337, 'Internet': 54, 'Higher Education': 4, 'Management Consulting': 1, 'Information Technology & Services': 13, 'Financial Services': 4, 'Marketing & Advertising': 1, 'Semiconductors': 2, 'Investment Management': 1, 'Consumer Electronics': 1, 'Computer Hardware': 1, 'Research': 3, 'Investment Banking/Venture': 1, 'Computer Networking': 2, 'Electrical & Electronic Manufacturing': 4, 'Computer & Network Security': 2, 'Venture Capital': 1, 'Wireless': 1, 'Biotechnology': 1})\n",
      "defaultdict(<class 'int'>, {'c/c++': 546, 'python (programming language)': 104, 'artificial intelligence (ai)': 12, 'deep learning': 41, 'mongodb': 42, 'airflow': 1, 'r': 43, 'python': 283, 'java': 344, 'javascript': 213, 'software development': 88, 'data analysis': 83, 'bash': 8, 'latex': 45, 'html5': 25, 'css': 81, 'jquery': 33, 'go': 12, 'arm assembly': 14, 'sql': 149, 'databases': 18, 'html': 167, 'javaserver pages (jsp)': 5, 'object oriented design': 12, 'parallel programming': 2, 'software engineering': 7, 'angularjs': 21, 'eclipse': 13, 'sony vegas': 2, 'webstorm': 1, 'matlab': 169, 'cascading style sheets (css)': 51, 'agile methodologies': 16, 'machine learning': 133, 'django': 29, 'linux': 139, 'bootstrap': 32, 'pytorch': 31, 'tensorflow': 38, 'scala': 6, 'apache spark': 19, 'computer security': 3, 'information security': 2, 'distributed systems': 17, 'network security': 1, 'android development': 31, 'penetration testing': 1, 'web development': 57, 'web applications': 8, 'game development': 3, 'artificial intelligence': 13, 'operating systems': 18, 'mysql': 92, 'hadoop': 21, 'json': 11, 'representational state transfer (rest)': 1, 'node.js': 70, 'kali linux': 1, 'restful architecture': 1, 'information security engineering': 1, 'bitcoin': 1, 'socket programming': 2, 'software engineering practices': 1, 'blockchains': 1, 'golang': 4, 'computer architecture': 8, 'computer hardware': 2, 'computer networking': 4, 'algorithms': 71, 'computer science': 31, 'computer programming': 1, 'c#': 51, 'research': 74, 'keras': 13, 'artificial neural networks': 3, 'large-scale data analysis': 1, 'react.js': 70, 'c (programming language)': 31, 'front-end development': 9, 'image processing': 7, 'network': 1, '软件开发': 5, 'design': 3, 'relational databases': 3, 'programming languages': 5, 'distributed applications': 4, 'data structures': 44, 'leadership': 67, 'computer vision': 37, 'ibm db2': 1, 'labview': 4, 'perl': 7, 'vhdl': 8, 'verilog': 22, 'arduino': 9, 'git': 93, 'ruby': 12, 'cadence virtuoso': 3, 'modelsim': 1, 'altera quartus': 2, 'php': 25, 'laravel': 2, 'vim': 15, 'i3': 1, 'redis': 10, 'back-end web development': 10, 'logo design': 1, 'user interface design': 6, 'graphic design': 3, 'web design': 4, 'photoshop': 11, 'illustrator': 2, 'unity3d': 9, 'redux.js': 16, 'amazon aurora': 1, 'user experience (ux)': 3, 'programming': 56, 'microcontrollers': 1, 'big data': 12, 'powerpoint': 24, 'microsoft word': 53, 'microsoft office': 112, 'microsoft excel': 70, '.net framework': 7, 'android': 20, 'amazon web services (aws)': 36, 'xgboost': 2, 'database management system (dbms)': 1, 'microprocessors': 1, 'numpy': 11, 'data science': 18, 'guice': 3, 'scikit-learn': 8, 'data': 3, 'public s': 1, 'haskell': 9, 'ocaml': 18, 'prolog': 6, 'coq': 1, 'compilers': 4, 'functional programming': 2, 'object-oriented programming (oop)': 17, 'public speaking': 43, 'theory of computation': 1, 'communication': 14, 'teamwork': 36, 'postgresql': 20, 'android studio': 22, 'raml': 1, 'rest api': 6, 'intellij idea': 7, 'microsoft powerpoint': 33, 'social media': 12, '算法': 4, '程序设计': 3, '写作': 1, 'xml': 15, 'aws': 6, '软件设计': 1, 'software design patterns': 5, 'shell scripting': 17, 'swift': 18, 'objective-c': 8, 'spring framework': 17, 'spring mvc': 15, 'struts': 2, 'hibernate': 11, 'openssl': 1, 'wireshark': 1, 'iptables': 1, 'zmap': 1, 'project management': 33, 'community outreach': 1, 'unix': 28, 'software engineers': 5, 'statistical data analysis': 7, 'critical thinking': 4, 'easily adaptable': 1, 'self-directed learning': 1, '机器学习': 1, '数据分析': 3, '研究': 3, 'assembly language': 17, 'javaserver pages standard tag library (jstl)': 1, 'data mining': 17, 'algorithm development': 2, 'academic writing': 2, 'scrum': 7, 'product design': 1, 'wireframing': 3, 'market research': 2, 'data entry': 2, 'editing': 3, 'social media marketing': 2, 'creative writing': 1, 'windows': 13, 'facebook': 2, 'youtube': 1, 'fundraising': 1, 'logical thinker': 1, 'social networking': 2, 'learning quickly': 1, 'pyspark': 6, 'dsp': 1, 'system design': 1, '网页程式设计': 1, 'docker': 22, 'algorithm': 4, 'data network': 1, 'restful 架构': 1, 'kotlin': 2, 'audio signal processing': 1, 'psychoacoustics': 1, 'digital signal processing': 2, 'angular': 10, 'spring boot': 15, 'flask': 14, 'express.js': 16, 'tomcat': 6, 'jenkins': 2, 'github': 11, 'continuous integration': 4, 'restful webservices': 8, 'test driven development': 1, '.net': 3, 'swift (programming language)': 4, 'mockito': 5, 'junit': 10, 'a/b testing': 3, 'multithreading': 1, 'queueing': 1, 'messaging': 1, 'teaching': 10, 'team leadership': 11, 'sparc assembly': 4, 'firebase': 18, 'econometrics': 4, 'computer graphics': 4, 'spark': 11, 'llvm': 4, 'agile application development': 4, 'selenium': 1, 'ruby on rails': 7, 'sas': 5, 'drinking boba': 1, 'agile': 1, 'english': 18, 'pascal': 1, 'opencv': 20, 'debugging': 4, 'student outreach': 1, 'quality assurance': 2, 'financial accounting': 2, 'meteor': 2, 'apache cordova': 1, 'natural language processing (nlp)': 11, 'video codec': 1, 'customer service': 18, '4g/lte': 1, 'hevc/h.265': 1, 'unix/linux': 2, 'visual studio': 9, 'internet protocol suite (tcp/ip)': 3, 'ios development': 7, 'blockchain': 1, 'ethereum': 1, 'open street maps': 1, 'react': 11, 'celery': 1, 'redux': 8, 'heroku': 3, 'd3': 1, 'jira': 5, 'webpack': 2, 'gunicore': 1, 'nginx': 4, 'json web token (jwt)': 2, 'hip hop': 1, 'java ': 3, 'caffe': 9, 'data analytics': 5, 'full-stack development': 5, 'nosql': 8, 'google cloud platform': 1, 'vue.js': 6, 'three.js': 1, 'pandas': 3, 'nodejs': 2, 'product management': 5, 'characterization': 1, 'materials science': 1, 'physics': 1, 'solidworks': 5, 'originlab': 3, 'x-ray diffraction analysis': 1, 'scanning electron microscope': 1, 'fluorescence spectrometer': 1, 'opengl': 8, 'sparc': 4, 'natural language processing': 8, 'html scripting': 1, 'server side programming': 1, 'user interface programming': 1, 'cloud computing': 4, 'microsoft sql server': 3, 'bluespec': 1, 'augular': 1, 'outlook': 3, 'photography': 2, 'nonprofits': 1, 'event planning': 6, 'public relations': 1, 'asp.net mvc framework': 1, 'unit testing': 5, 'system integration testing': 1, 'full stack': 1, 'testng': 1, 'dagger': 1, 'jackson': 1, 'maven': 4, 'thymeleaf': 1, 'mathematics': 7, 'tutoring': 2, 'calculus': 1, 'vector calculus': 1, 'linear algebra': 3, 'scratch': 1, 'r 语言': 1, 'node': 3, 'digital image processing': 2, 'operations research': 1, 'accounting': 1, 'business strategy': 4, 'finance': 3, 'spss': 3, 'management': 24, 'problem solving': 10, 'written communication': 3, 'business analysis': 2, 'presentations': 2, 'sales': 2, 'workday': 1, 'analytical skills': 6, 'operations management': 2, 'stata': 6, 'customer relationship management (crm)': 1, 'python3': 1, 'posix': 1, 'unity (游戏引擎)': 1, 'markdown': 2, 'elasticsearch': 4, 'mxnet': 2, 'pyqt': 3, 'visual basic': 2, 'jupyter notebook': 1, 'r studio': 1, 'mapreduce': 6, 'lua': 1, 'network programming': 1, 'multithreaded development': 1, 'microservices': 4, 'kubernetes': 6, 'jaeger': 1, 'fpga': 4, 'automation': 2, 'control systems design': 1, 'statistical modeling': 4, 'numerical analysis': 1, 'simulations': 2, 'mandarin': 4, 'ni labview': 2, 'autonomous vehicles': 3, 'point clouds': 1, 'internet information services (iis)': 1, 'powershell': 1, 'spanish': 1, 'chinese': 6, 'nsis': 1, 'msbuild': 1, 'violin': 1, 'nuget': 1, 'convolutional neural networks (cnn)': 2, 'testing': 3, 'japanese': 2, 'hive': 6, 'splunk': 1, 'pipeline development': 1, 'molecular biology': 3, 'biotechnology': 2, 'cell biology': 1, 'statistics': 9, 'data processing': 1, 'ngs': 1, 'rnaseq': 1, 'pipeline construction': 1, 'bioinformatics': 4, 'visual basic for applications (vba)': 3, 'retail': 1, 'recommender systems': 8, 'tableau': 15, 'google analytics': 4, 'customer analysis': 1, 'microsoft azure machine learning': 1, 'r shiny': 1, 'data visualization': 11, 'retail sales analysis': 1, 'predictive analytics': 1, 'kpi dashboards': 2, 'vba': 1, 'web scraping': 2, 'script': 1, 'quantitative analytics': 3, 'quantitative research': 1, 'marketing strategy': 2, 'python 3': 1, 'neural networks': 4, 'optimization theory': 1, 'html5 & css3': 1, 'jdbc': 1, 'javafx': 2, 'servlet': 1, 'tomcat 8': 1, 'cuda': 8, 'theano': 1, 'shell': 3, 'altas': 1, 'blas': 1, 'mpi': 2, 'marketing': 5, 'human resources': 1, 'recruiting': 2, 'business development': 2, 'software design': 5, 'writing': 1, 'coaching': 1, 'text-to-speech': 1, 'speech recognition': 2, 'linkedin': 2, 'pycharm': 1, 'clion': 1, 'google api': 1, 'android 开发': 1, 'lightgbm': 1, 'feature engineering': 1, 'long short-term memory (lstm)': 1, 'pruning': 1, 'linux/unix': 2, 'operating system': 1, 'jsp': 3, 'ajax': 9, 'electronics': 2, 'electrical engineering': 4, 'mybatis': 5, 'extract, transform, load (etl)': 1, 'database design': 1, 'netbeans': 1, 'soapui': 1, 'swagger': 1, 'visual studio code': 1, 'ant design': 1, 'hystrix': 1, 'back-end development': 2, 'assistant teaching': 1, 'mocha chai': 1, 'parallel computing': 4, 'pandas (software)': 2, 'pyramid': 1, 'stddraw': 1, 'sqlite': 4, 'xcode': 4, 'sql express': 1, 'apple numbers': 1, 'bioinfomatics': 1, 'biostatistics': 2, 'neuroscience': 1, 'immunology': 1, 'epidemiology': 1, 'graph mining': 1, 'computational biology': 1, 'unity': 8, 'virtual reality (vr)': 1, 'collaborative problem solving': 2, 'computer network': 1, 'javascript(es6+)': 1, 'html/css': 3, 'typescript': 6, 'self learning': 1, 'amazon s3': 4, 'aws lambda': 5, 'amazon sqs': 3, 'amazon simple notification service (sns)': 1, 'rabbitmq': 2, 'aws cloudformation': 3, 'amazon cloudwatch': 1, 'amazon api gateway': 1, 'web services': 4, 'data a': 1, 'web': 1, 'machi': 1, 'solution architecture': 1, 'applica': 1, 'human resources (hr)': 1, 'strategic planning': 9, 'project planning': 3, 'organization skills': 2, 'mikecrm': 1, 'bloomberg terminal': 1, 'microsoft access': 2, 'biochemistry': 2, 'spectroscopy': 1, 'organic synthesis': 1, 'nuclear magnetic resonance (nmr)': 1, 'uv/vis spectroscopy': 1, 'organic chemistry': 1, 'analytical chemistry': 1, 'catalysis': 1, 'chemdraw': 1, 'gc-ms': 1, 'esi-ms': 1, 'x-ray crystallography': 1, 'inorganic chemistry': 1, 'medicinal chemistry': 1, 'physical chemistry': 1, 'organometallic chemistry': 1, 'ir spectroscopy': 1, 'column chromatography': 1, 'scientific presentation': 1, 'thin-layer chromatography (tlc)': 1, 'adobe photoshop': 10, 'digital photography': 2, 'non-governmental organizations (ngos)': 1, 'lightroom': 1, 'adobe premiere pro': 3, 'lisp': 1, 'android testing': 1, 'android sdk': 3, 'android design': 1, 'agile & waterfall methodologies': 4, 'nlu': 1, 'integration testing': 1, 'scripting': 2, 'algorithm design': 8, 'telecommunications': 1, 'mathematica': 1, 'mathematical modeling': 2, 'ui design': 1, 'wordpress': 2, 'opengl shading language (glsl)': 2, 'backend engineering': 1, 'mobile application development': 4, 'database systems': 1, 'marketing materials': 1, 'team building': 2, 'react native': 10, 'flutter': 1, 'arm architecture': 3, 'basic': 1, 'jsx': 1, 'csharp': 1, 'express': 2, 'qt': 6, 'wxwidgets': 1, 'macroeconomics': 4, 'java database connectivity (jdbc)': 1, 'microeconomics': 3, 'atom': 1, 'game theory': 1, 'data access object (dao)': 1, 'code review': 1, 'drupal': 1, 'apache kafka': 7, 'machine learning algorithms': 2, 'adobe audition': 1, 'perforce 软件': 1, 'spring security': 4, 'xamarin': 1, 'tcl': 3, 'digital electronics': 1, 'analog circuits': 1, 'autocad': 4, 'mips assembly': 3, 'web framework': 1, 'bluetooth': 1, 'backbone.js': 1, 'perl script': 1, 'arm': 2, 'embedded software': 2, 'budgets': 1, 'negotiation': 2, 'beans': 1, 'pcr': 1, 'yaml': 1, 'matplotlib': 2, 'click': 1, 'ionic framework': 2, 'openstack': 3, 'red hat linux': 1, 'computer-aided design (cad)': 2, 'robotics': 5, 'electric motors': 1, 'manufacturing': 1, 'finite element analysis (fea)': 1, 'technical support': 1, 'database': 2, 'asp.net': 1, 'x86 assembly': 2, 'information technology': 3, 'api development': 1, 'bayesian inference': 1, 'start-ups': 2, 'neo4j': 4, 'analytics': 1, 'probability': 1, 'raspberry pi': 3, 'embedded systems': 5, 'java, c++, python, javascript, go': 1, 'pandas numpy and skilearn': 1, 'd3.js': 6, 'full web development stack(php, html, css, js, xml, xquery)': 1, 'financial analysis': 3, 'valuation': 1, 'excel vba': 3, 'presentation skills': 4, 'information processing': 1, 'quantative analysis': 1, 'quantitative models': 1, 'written expression': 1, 'sklearn': 2, 'web crawling': 2, 'cfa level iii candidate': 1, 'flume': 1, 'pipeline': 1, 'service': 1, 'selenium webdriver': 1, 'compiler': 1, 'aws ': 1, 'j2ee web services': 1, 'virtual reality': 3, 'axure rp': 2, 'user experience design': 1, 'human computer interaction': 2, 'indesign': 1, 'model united nations': 1, 'computer literacy': 1, 'scipy': 4, 'spices': 1, 'multisim': 2, 'quartus': 1, 'vcs': 1, 'astro': 1, 'dc': 1, 'primetime': 1, 'ads': 1, 'verilog-a': 1, 'asic': 2, 'aws command line interface (cli)': 1, 'applied machine learning': 1, 'jest': 3, 'product presentation': 1, 'software engineer': 1, 'javascript libraries': 1, 'micro': 1, 'software testing': 3, 'python 3.5': 1, 'rust (programming language)': 1, 'business analytics': 3, 'internal control': 1, 'radiant': 1, 'qgis': 1, 'team coordination': 1, 'software security': 1, 'debugging code': 1, 'rust': 1, 'server administration': 1, '计算机视觉': 1, 'reinforcement learning': 4, 'image recognition': 1, 'microcontroller': 1, 'analog signal processing': 1, 'openai': 1, 'image inpainting': 1, 'deep neural network': 1, 'support vector machine (svm)': 3, 'deep q learning': 1, 'ddpg': 1, 'policy gradient': 1, 'slam': 2, 'onnx': 1, 'image signal processing': 1, 'halide': 1, 'chinese translation': 1, 'engineering': 2, ' algorithms ': 1, 'keil': 1, 'ni multisim 软件': 1, 'altium designer': 2, 'modelsim 软件': 1, 'vivado': 1, 'sublime text': 1, 'full stack web development': 1, 'front-end design': 1, 'mean stack': 2, 'xilinx ise': 1, 'orcad': 1, '社交媒体': 1, '活动策划': 1, '项目管理': 2, '团队合作': 1, 'software project management': 1, 'apache': 1, 'team management': 3, 'software industry': 1, 'datatables': 1, 'valgrind': 3, 'salesforce.com': 1, 'aws s3': 1, 'steamvr': 1, 'oculus': 1, 'java swing': 1, 'knockoutjs': 1, 'google fit api': 1, 'firebase cloud firestore': 1, 'expresso': 1, 'robolectric': 1, 'zenhub': 1, 'gitlab': 1, 'circleci': 1, 'object mocking': 1, 'ui automation': 2, 'dependency injection': 1, 'design by contract': 1, 'jpa': 2, 'cypher query language': 1, 'printed circuit board (pcb) design': 1, 'autocad mechanical': 1, 'mechanical product design': 1, 'adobe illustrator': 2, 'oo software development': 1, 'algorithm analysis': 2, 'gdb': 1, 'graphql': 5, 'after effects': 1, 'animation': 1, 'selenium 测试': 1, '亚马逊网络服务系统 (aws)': 3, 'spring': 2, 'rdmbs': 1, 'rally': 1, 'html/css/js': 1, 'electron': 1, 'algorithm optimization': 1, 'systemverilog': 3, 'kaggle': 1, 'jupyter': 1, 'laboratory skills': 2, 'troubleshooting': 2, 'os x': 2, 'mac os': 2, 'qbasic': 1, 'vpython': 1, 'ssh': 1, 'logic design': 1, 'core java': 3, 'oop': 1, 'scalability': 1, 'genetic algorithms': 1, 'openmp': 2, 'creative problem solving': 2, 'team motivation': 1, 'priority management': 1, 'business innovation': 1, 'resource efficiency': 1, 'test automation': 2, 'ios': 3, 'text mining': 2, 'key performance indicators': 1, 'data modeling': 3, 'statistical modelling': 1, 'probabilistic models': 1, 'qlikview development': 1, 'data quality': 1, 'probabilistic modelling': 1, 'diango': 1, 'interaction design': 1, 'rapid prototyping': 2, 'websocket': 1, 'ux research': 2, 'fortran': 1, 'data cleaning': 2, 'cpp': 1, 'falsk': 1, 'scrapy': 1, 'applied mathematics': 1, 'multi-tasking': 1, 'self-study': 1, 'time management': 2, 'maple': 1, 'external audit': 1, 'sass': 1, '后端开发': 1, '统计数据分析': 1, 'probability theory': 1, 'software documentation': 1, 'technical documentation': 1, 'terraform': 1, 'amazon dynamodb': 4, 'infrastructure as code': 1, 'web application development': 2, 'google app engine': 1, 'aws codepipeline': 1, 'aws codebuild': 1, 'software architectural design': 1, 'social network analysis': 1, 'affective computing': 1, 'signal processing': 3, 'bayesian methods': 1, 'security': 2, 'passion': 1, 'philosophy & literature': 1, 'psychology analysis': 1, 'ros': 4, 'stm32': 1, 'data management': 1, 'back-end operations': 1, 'mobile product development': 1, 'coding experience': 1, 'web standards': 1, 'cef': 1, 'soft renderer': 1, 'task driven': 1, 'microsoft azure': 2, 'google cloud platform (gcp)': 3, 'strtuts': 1, 'codesys': 1, 'code composer studio': 1, 'circuit design': 1, 'speech': 1, 'freescale': 1, 'distributed system': 1, '分布式系统': 1, '电气工程': 1, '现场可编程逻辑门阵列': 1, 'powerbuilder': 1, 'gnu debugger': 1, 'play framework': 1, 'rubymine': 1, 'sqlalchemy': 2, 'computer systems': 1, 'agile software development': 1, 'cassandra': 1, 'raft': 1, 'hdfs': 1, 'training': 2, 'mobile applications': 3, 'design patterns': 3, 'easymock': 1, 'amazon ec2': 2, 'amazon ses': 1, 'bluespec verilog': 1, 'risc-v': 1, 'lambda expressions': 1, 'oracle sql developer': 2, 'computing theory': 1, 'vi': 1, 'gnu make': 1, 'arm 架构': 1, 'secure shell': 1, 'gnu/linux': 1, 'slam (simultaneous localization and mapping)': 1, 'arduino ide': 1, 'robot operating system (ros)': 2, 'creo parametric': 2, 'my batis': 1, 'rpc': 1, 'microsoft visual studio c++': 1, 'blender': 1, 'figma (software)': 1, 'sketch': 1, 'system testing': 1, 'front-end engineering': 1, 'agile web development': 1, 'less': 2, 'exploratory data analysis': 1, 'amazon ebs': 1, 'software': 1, '计算机科学': 1, 'competitive programming': 1, 'nesc': 1, 'visual analytics': 1, 'vlsi': 1, 'semiconductors': 1, 'eda': 1, 'strategic partnerships': 1, 'mergers': 1, 'product development': 1, 'executive management': 1, 'soc': 1, 'hardware': 1, 'sales management': 1, 'new business development': 1, 'international development': 1, 'mixed signal': 1, 'go-to-market strategy': 1, 'mergers & acquisitions': 1, 'consumer electronics': 1, 'ic': 1, 'analog': 1, 'digital signal processors': 1, 'integrated circuit design': 1, 'semiconductor industry': 1, 'lvs': 1, 'hardware architecture': 1, 'timing closure': 1, 'physical design': 1, 'cmos': 1, 'clock tree synthesis': 1, 'application-specific integrated circuits (asic)': 1, 'system on a chip (soc)': 1, 'integrated circuits (ic)': 1, 'field-programmable gate arrays (fpga)': 2, 'very-large-scale integration (vlsi)': 1, 'tex': 1, 'ibatis': 1, 'influxdb': 1, 'digital system': 1, 'networking': 2, 'python developing': 1, 'transmission control protocol (tcp)': 1, 'hypothesis testing': 2, 'internet protocol (ip)': 1, 'user experience': 2, 'gnu system building and management': 1, 'dom': 1, 'cli': 1, 'software solution architecture': 1, 'couchdb': 1, 'spirng mvn': 1, 'yarn': 1, 'ipsolve': 1, 'singing': 1, 'basketball': 1, 'guitar playing': 1, 'piano playing': 2, 'hip-hop dance': 1, 'version control': 1, 'polymorphism': 1, 'c language': 1, 'ms office suite': 1, 'monte carlo simulation': 1, '人工智能': 1, '数据挖掘': 1, '数据科学': 1, 'kubeflow': 1, 'sofrware engineering': 1, 'sentiment analysis': 2, 'microsoft project': 1, 'pantaho': 1, 'financial services': 1, 'confidentiality': 1, 'reporting & analysis': 1, 'pivot tables': 1, 'analog circuit design': 1, 'sockets': 1, 'continuous integration and continuous delivery (ci/cd)': 1, 'aws identity and access management (aws iam)': 1, 'amazon vpc': 1, 'amazon redshift': 1, 'docker products': 1, 'bootstrap 4': 1, 'css3': 2, 'javascript (es6)': 1, 'solr': 1, 'asterixdb': 1, 'nltk': 1, 'corenlp': 1, 'spacy': 1, 'asp.net core': 1, '.net core': 2, 'dart': 1, 'multithread programming ': 1, 'public key cryptography': 1, 'digital certificates': 1, 'financial markets': 1, 'linear regression': 1, 'gazebo': 1, 'libgdx': 1, 'ml': 1, 'al': 1, 'microstrategy': 1, 'polymerase chain reaction (pcr)': 1, 'lammps': 1, 'vasp': 1, 'molecular dynamics': 1, 'data engineering': 1, 'optimization': 1, 'c #': 1, 'apache hadoop': 1, 'spring cloud': 2, '自然语言处理': 1, 'cadence': 1, 'eat': 1, 'circuit': 1, 'embedded javascript (ejs)': 1, 'routing': 1, 'slack': 1, 'quantitative finance': 1, 'object detection': 1, 'financial engineering': 1, 'waterfall project management': 1, 'parse': 1, 'member of ieee': 1, 'tinyxml-2': 1, 'jquery mobile': 1, 'microsoft visual studio': 1, 'make': 1, 'qt designer': 1, 'keyboardist': 1, 'music': 1, 'gulp.js': 1, 'spring batch': 1, 'spring data': 2, 'firmware': 1, 'core data': 1, 'unreal engine 4': 1, 'data scraping': 1, 'application security': 1, 'etl tools': 1, 'economics': 1, 'time series analysis': 2, 'secure shell (ssh)': 1, 'apache zookeeper': 1, 'jmeter': 1, 'postman api': 1, 'swagger api': 1, ' jest': 1, 'npm': 1, 'elastic stack (elk)': 1, 'alibaba cloud': 2, 'eureka': 1, 'zuul api gateway': 1, '3d reconstruction': 1, 'openresty': 1, 'phantomjs': 1, 'scheme': 1, 'assembly': 1, 'pymongo': 1, 'web scrawler': 1, 'chinese&english': 1, 'diversity': 1, 'investigation': 1, 'reliability': 1, 'e-commerce': 1, 'python statistical libraries ': 1, 'wix': 1, 'design sprints': 1, 'storyboarding': 1, 'strategic roadmaps': 1, 'c++/c': 1, 'adobe lightroom': 2, 'french': 2, 'hospitality industry': 1, 'logistics management': 1, 'yoga': 1, 'pcl': 1, 'sensor fusion': 1, 'keynote': 1, 'apple pages': 1, 'adobe indesign': 1, 'hbase': 1, 'mokito': 1, 'metabolomics': 1, 'microbiome': 1, 'mass spectrometry': 1, 'music production': 1, 'logic pro': 1, 'final cut pro': 1, 'visualization': 1, 'musical directing': 1, 'etl': 2, 'modelling': 1, 'hadoop hive': 1, 'data analyze': 1, 'statistical analysis': 1, 'machine learning&deep learning': 1, 'mysq': 1, 'video post-production': 1, 'manifold learning': 1, 'software implementation': 1, 'apache pig': 1, 'oauth': 1, 'jboss application server': 1, 'javamail': 1, 'quartz': 1, 'idle': 1, 'software development life cycle (sdlc)': 1, 'process improvement': 1, 'biology': 1, 'business intelligence tools': 1, 'intelligence analysis': 1, 'interpersonal skills': 1, 'pentaho': 1, 'paper prototyping': 1, 'user interface prototyping': 1, 'ml algorithm building and optimization(gbm, neural network)': 1, 'data representation': 1, 'information extraction': 1, 'protocol buffers': 1, 'arm cortex-m': 1})\n"
     ]
    }
   ],
   "source": [
    "import json\n",
    "from collections import defaultdict\n",
    "\n",
    "companies = defaultdict(int)\n",
    "location = defaultdict(int)\n",
    "skills = defaultdict(int)\n",
    "industry = defaultdict(int)\n",
    "\n",
    "with open('143data1to437.json','r') as f:\n",
    "    allpeople = f.readlines()\n",
    "    \n",
    "    for person in allpeople:\n",
    "        info = json.loads(person)\n",
    "\n",
    "#         print(info[\"lastName\"], info[\"firstName\"])\n",
    "        try:\n",
    "            industry[info['industryName']] += 1\n",
    "        except:\n",
    "            print(\"industry\")\n",
    "            print(info)\n",
    "            print()\n",
    "            print()\n",
    "            print()\n",
    "            print()\n",
    "\n",
    "        if not info['student'] and info['experience']:\n",
    "            companies[info['experience'][0]['companyName']] += 1\n",
    "         \n",
    "        try:\n",
    "            curPlace = info['geoLocationName']\n",
    "            city, state = curPlace.split(',')\n",
    "            found = None #indicator of whether location has found in certain format\n",
    "            for savedCity, savedState in location:\n",
    "                if city in savedCity:\n",
    "                    found = True\n",
    "                    location[(savedCity, savedState)] += 1\n",
    "\n",
    "            if not found:\n",
    "                location[(city,state)] += 1\n",
    "        except:\n",
    "            print('geoloc')\n",
    "            print(info)\n",
    "            print()\n",
    "            print()\n",
    "            print()\n",
    "            print()\n",
    "        \n",
    "        try:\n",
    "            if info['skills']:\n",
    "                for skill in info['skills']:\n",
    "                    if skill['name'].lower() == 'c' or skill['name'].lower() == 'c++' or skill['name'].lower() == 'c/c++' :\n",
    "                        skills['c/c++'] += 1\n",
    "                    else:\n",
    "                        skills[skill['name'].lower()] += 1\n",
    "        except:\n",
    "            print('skill')\n",
    "            print(info)\n",
    "            print()\n",
    "            print()\n",
    "            print()\n",
    "            print()\n",
    "print(companies)\n",
    "print(location)\n",
    "print(industry)\n",
    "print(skills)\n",
    "        \n",
    "            "
   ]
  },
  {
   "cell_type": "code",
   "execution_count": null,
   "metadata": {},
   "outputs": [],
   "source": []
  },
  {
   "cell_type": "code",
   "execution_count": null,
   "metadata": {},
   "outputs": [],
   "source": []
  },
  {
   "cell_type": "markdown",
   "metadata": {},
   "source": [
    "## 2. Data Visualization"
   ]
  },
  {
   "cell_type": "markdown",
   "metadata": {},
   "source": [
    "### a. Employees Skills --- Pie Plot"
   ]
  },
  {
   "cell_type": "code",
   "execution_count": 65,
   "metadata": {
    "scrolled": false
   },
   "outputs": [
    {
     "data": {
      "text/html": [
       "        <script type=\"text/javascript\">\n",
       "        window.PlotlyConfig = {MathJaxConfig: 'local'};\n",
       "        if (window.MathJax) {MathJax.Hub.Config({SVG: {font: \"STIX-Web\"}});}\n",
       "        if (typeof require !== 'undefined') {\n",
       "        require.undef(\"plotly\");\n",
       "        requirejs.config({\n",
       "            paths: {\n",
       "                'plotly': ['https://cdn.plot.ly/plotly-latest.min']\n",
       "            }\n",
       "        });\n",
       "        require(['plotly'], function(Plotly) {\n",
       "            window._Plotly = Plotly;\n",
       "        });\n",
       "        }\n",
       "        </script>\n",
       "        "
      ]
     },
     "metadata": {},
     "output_type": "display_data"
    },
    {
     "data": {
      "application/vnd.plotly.v1+json": {
       "config": {
        "linkText": "Export to plot.ly",
        "plotlyServerURL": "https://plot.ly",
        "showLink": false
       },
       "data": [
        {
         "hole": 0,
         "hoverinfo": "label+percent",
         "labels": [
          "java",
          "javascript",
          "spring framework",
          "agile",
          "spring boot",
          "python",
          "react",
          "sql",
          "django",
          "mysql",
          "cascading style sheets (css)",
          "html",
          "linux",
          "hibernate",
          "git",
          "Others"
         ],
         "type": "pie",
         "values": [
          0.08247422680412371,
          0.05154639175257732,
          0.010309278350515464,
          0.010309278350515464,
          0.010309278350515464,
          0.07216494845360824,
          0.010309278350515464,
          0.030927835051546393,
          0.010309278350515464,
          0.020618556701030927,
          0.010309278350515464,
          0.030927835051546393,
          0.05154639175257732,
          0.010309278350515464,
          0.020618556701030927,
          0.5670103092783506
         ]
        }
       ],
       "layout": {
        "template": {
         "data": {
          "bar": [
           {
            "error_x": {
             "color": "#2a3f5f"
            },
            "error_y": {
             "color": "#2a3f5f"
            },
            "marker": {
             "line": {
              "color": "#E5ECF6",
              "width": 0.5
             }
            },
            "type": "bar"
           }
          ],
          "barpolar": [
           {
            "marker": {
             "line": {
              "color": "#E5ECF6",
              "width": 0.5
             }
            },
            "type": "barpolar"
           }
          ],
          "carpet": [
           {
            "aaxis": {
             "endlinecolor": "#2a3f5f",
             "gridcolor": "white",
             "linecolor": "white",
             "minorgridcolor": "white",
             "startlinecolor": "#2a3f5f"
            },
            "baxis": {
             "endlinecolor": "#2a3f5f",
             "gridcolor": "white",
             "linecolor": "white",
             "minorgridcolor": "white",
             "startlinecolor": "#2a3f5f"
            },
            "type": "carpet"
           }
          ],
          "choropleth": [
           {
            "colorbar": {
             "outlinewidth": 0,
             "ticks": ""
            },
            "type": "choropleth"
           }
          ],
          "contour": [
           {
            "colorbar": {
             "outlinewidth": 0,
             "ticks": ""
            },
            "colorscale": [
             [
              0,
              "#0d0887"
             ],
             [
              0.1111111111111111,
              "#46039f"
             ],
             [
              0.2222222222222222,
              "#7201a8"
             ],
             [
              0.3333333333333333,
              "#9c179e"
             ],
             [
              0.4444444444444444,
              "#bd3786"
             ],
             [
              0.5555555555555556,
              "#d8576b"
             ],
             [
              0.6666666666666666,
              "#ed7953"
             ],
             [
              0.7777777777777778,
              "#fb9f3a"
             ],
             [
              0.8888888888888888,
              "#fdca26"
             ],
             [
              1,
              "#f0f921"
             ]
            ],
            "type": "contour"
           }
          ],
          "contourcarpet": [
           {
            "colorbar": {
             "outlinewidth": 0,
             "ticks": ""
            },
            "type": "contourcarpet"
           }
          ],
          "heatmap": [
           {
            "colorbar": {
             "outlinewidth": 0,
             "ticks": ""
            },
            "colorscale": [
             [
              0,
              "#0d0887"
             ],
             [
              0.1111111111111111,
              "#46039f"
             ],
             [
              0.2222222222222222,
              "#7201a8"
             ],
             [
              0.3333333333333333,
              "#9c179e"
             ],
             [
              0.4444444444444444,
              "#bd3786"
             ],
             [
              0.5555555555555556,
              "#d8576b"
             ],
             [
              0.6666666666666666,
              "#ed7953"
             ],
             [
              0.7777777777777778,
              "#fb9f3a"
             ],
             [
              0.8888888888888888,
              "#fdca26"
             ],
             [
              1,
              "#f0f921"
             ]
            ],
            "type": "heatmap"
           }
          ],
          "heatmapgl": [
           {
            "colorbar": {
             "outlinewidth": 0,
             "ticks": ""
            },
            "colorscale": [
             [
              0,
              "#0d0887"
             ],
             [
              0.1111111111111111,
              "#46039f"
             ],
             [
              0.2222222222222222,
              "#7201a8"
             ],
             [
              0.3333333333333333,
              "#9c179e"
             ],
             [
              0.4444444444444444,
              "#bd3786"
             ],
             [
              0.5555555555555556,
              "#d8576b"
             ],
             [
              0.6666666666666666,
              "#ed7953"
             ],
             [
              0.7777777777777778,
              "#fb9f3a"
             ],
             [
              0.8888888888888888,
              "#fdca26"
             ],
             [
              1,
              "#f0f921"
             ]
            ],
            "type": "heatmapgl"
           }
          ],
          "histogram": [
           {
            "marker": {
             "colorbar": {
              "outlinewidth": 0,
              "ticks": ""
             }
            },
            "type": "histogram"
           }
          ],
          "histogram2d": [
           {
            "colorbar": {
             "outlinewidth": 0,
             "ticks": ""
            },
            "colorscale": [
             [
              0,
              "#0d0887"
             ],
             [
              0.1111111111111111,
              "#46039f"
             ],
             [
              0.2222222222222222,
              "#7201a8"
             ],
             [
              0.3333333333333333,
              "#9c179e"
             ],
             [
              0.4444444444444444,
              "#bd3786"
             ],
             [
              0.5555555555555556,
              "#d8576b"
             ],
             [
              0.6666666666666666,
              "#ed7953"
             ],
             [
              0.7777777777777778,
              "#fb9f3a"
             ],
             [
              0.8888888888888888,
              "#fdca26"
             ],
             [
              1,
              "#f0f921"
             ]
            ],
            "type": "histogram2d"
           }
          ],
          "histogram2dcontour": [
           {
            "colorbar": {
             "outlinewidth": 0,
             "ticks": ""
            },
            "colorscale": [
             [
              0,
              "#0d0887"
             ],
             [
              0.1111111111111111,
              "#46039f"
             ],
             [
              0.2222222222222222,
              "#7201a8"
             ],
             [
              0.3333333333333333,
              "#9c179e"
             ],
             [
              0.4444444444444444,
              "#bd3786"
             ],
             [
              0.5555555555555556,
              "#d8576b"
             ],
             [
              0.6666666666666666,
              "#ed7953"
             ],
             [
              0.7777777777777778,
              "#fb9f3a"
             ],
             [
              0.8888888888888888,
              "#fdca26"
             ],
             [
              1,
              "#f0f921"
             ]
            ],
            "type": "histogram2dcontour"
           }
          ],
          "mesh3d": [
           {
            "colorbar": {
             "outlinewidth": 0,
             "ticks": ""
            },
            "type": "mesh3d"
           }
          ],
          "parcoords": [
           {
            "line": {
             "colorbar": {
              "outlinewidth": 0,
              "ticks": ""
             }
            },
            "type": "parcoords"
           }
          ],
          "scatter": [
           {
            "marker": {
             "colorbar": {
              "outlinewidth": 0,
              "ticks": ""
             }
            },
            "type": "scatter"
           }
          ],
          "scatter3d": [
           {
            "line": {
             "colorbar": {
              "outlinewidth": 0,
              "ticks": ""
             }
            },
            "marker": {
             "colorbar": {
              "outlinewidth": 0,
              "ticks": ""
             }
            },
            "type": "scatter3d"
           }
          ],
          "scattercarpet": [
           {
            "marker": {
             "colorbar": {
              "outlinewidth": 0,
              "ticks": ""
             }
            },
            "type": "scattercarpet"
           }
          ],
          "scattergeo": [
           {
            "marker": {
             "colorbar": {
              "outlinewidth": 0,
              "ticks": ""
             }
            },
            "type": "scattergeo"
           }
          ],
          "scattergl": [
           {
            "marker": {
             "colorbar": {
              "outlinewidth": 0,
              "ticks": ""
             }
            },
            "type": "scattergl"
           }
          ],
          "scattermapbox": [
           {
            "marker": {
             "colorbar": {
              "outlinewidth": 0,
              "ticks": ""
             }
            },
            "type": "scattermapbox"
           }
          ],
          "scatterpolar": [
           {
            "marker": {
             "colorbar": {
              "outlinewidth": 0,
              "ticks": ""
             }
            },
            "type": "scatterpolar"
           }
          ],
          "scatterpolargl": [
           {
            "marker": {
             "colorbar": {
              "outlinewidth": 0,
              "ticks": ""
             }
            },
            "type": "scatterpolargl"
           }
          ],
          "scatterternary": [
           {
            "marker": {
             "colorbar": {
              "outlinewidth": 0,
              "ticks": ""
             }
            },
            "type": "scatterternary"
           }
          ],
          "surface": [
           {
            "colorbar": {
             "outlinewidth": 0,
             "ticks": ""
            },
            "colorscale": [
             [
              0,
              "#0d0887"
             ],
             [
              0.1111111111111111,
              "#46039f"
             ],
             [
              0.2222222222222222,
              "#7201a8"
             ],
             [
              0.3333333333333333,
              "#9c179e"
             ],
             [
              0.4444444444444444,
              "#bd3786"
             ],
             [
              0.5555555555555556,
              "#d8576b"
             ],
             [
              0.6666666666666666,
              "#ed7953"
             ],
             [
              0.7777777777777778,
              "#fb9f3a"
             ],
             [
              0.8888888888888888,
              "#fdca26"
             ],
             [
              1,
              "#f0f921"
             ]
            ],
            "type": "surface"
           }
          ],
          "table": [
           {
            "cells": {
             "fill": {
              "color": "#EBF0F8"
             },
             "line": {
              "color": "white"
             }
            },
            "header": {
             "fill": {
              "color": "#C8D4E3"
             },
             "line": {
              "color": "white"
             }
            },
            "type": "table"
           }
          ]
         },
         "layout": {
          "annotationdefaults": {
           "arrowcolor": "#2a3f5f",
           "arrowhead": 0,
           "arrowwidth": 1
          },
          "colorscale": {
           "diverging": [
            [
             0,
             "#8e0152"
            ],
            [
             0.1,
             "#c51b7d"
            ],
            [
             0.2,
             "#de77ae"
            ],
            [
             0.3,
             "#f1b6da"
            ],
            [
             0.4,
             "#fde0ef"
            ],
            [
             0.5,
             "#f7f7f7"
            ],
            [
             0.6,
             "#e6f5d0"
            ],
            [
             0.7,
             "#b8e186"
            ],
            [
             0.8,
             "#7fbc41"
            ],
            [
             0.9,
             "#4d9221"
            ],
            [
             1,
             "#276419"
            ]
           ],
           "sequential": [
            [
             0,
             "#0d0887"
            ],
            [
             0.1111111111111111,
             "#46039f"
            ],
            [
             0.2222222222222222,
             "#7201a8"
            ],
            [
             0.3333333333333333,
             "#9c179e"
            ],
            [
             0.4444444444444444,
             "#bd3786"
            ],
            [
             0.5555555555555556,
             "#d8576b"
            ],
            [
             0.6666666666666666,
             "#ed7953"
            ],
            [
             0.7777777777777778,
             "#fb9f3a"
            ],
            [
             0.8888888888888888,
             "#fdca26"
            ],
            [
             1,
             "#f0f921"
            ]
           ],
           "sequentialminus": [
            [
             0,
             "#0d0887"
            ],
            [
             0.1111111111111111,
             "#46039f"
            ],
            [
             0.2222222222222222,
             "#7201a8"
            ],
            [
             0.3333333333333333,
             "#9c179e"
            ],
            [
             0.4444444444444444,
             "#bd3786"
            ],
            [
             0.5555555555555556,
             "#d8576b"
            ],
            [
             0.6666666666666666,
             "#ed7953"
            ],
            [
             0.7777777777777778,
             "#fb9f3a"
            ],
            [
             0.8888888888888888,
             "#fdca26"
            ],
            [
             1,
             "#f0f921"
            ]
           ]
          },
          "colorway": [
           "#636efa",
           "#EF553B",
           "#00cc96",
           "#ab63fa",
           "#FFA15A",
           "#19d3f3",
           "#FF6692",
           "#B6E880",
           "#FF97FF",
           "#FECB52"
          ],
          "font": {
           "color": "#2a3f5f"
          },
          "geo": {
           "bgcolor": "white",
           "lakecolor": "white",
           "landcolor": "#E5ECF6",
           "showlakes": true,
           "showland": true,
           "subunitcolor": "white"
          },
          "hoverlabel": {
           "align": "left"
          },
          "hovermode": "closest",
          "mapbox": {
           "style": "light"
          },
          "paper_bgcolor": "white",
          "plot_bgcolor": "#E5ECF6",
          "polar": {
           "angularaxis": {
            "gridcolor": "white",
            "linecolor": "white",
            "ticks": ""
           },
           "bgcolor": "#E5ECF6",
           "radialaxis": {
            "gridcolor": "white",
            "linecolor": "white",
            "ticks": ""
           }
          },
          "scene": {
           "xaxis": {
            "backgroundcolor": "#E5ECF6",
            "gridcolor": "white",
            "gridwidth": 2,
            "linecolor": "white",
            "showbackground": true,
            "ticks": "",
            "zerolinecolor": "white"
           },
           "yaxis": {
            "backgroundcolor": "#E5ECF6",
            "gridcolor": "white",
            "gridwidth": 2,
            "linecolor": "white",
            "showbackground": true,
            "ticks": "",
            "zerolinecolor": "white"
           },
           "zaxis": {
            "backgroundcolor": "#E5ECF6",
            "gridcolor": "white",
            "gridwidth": 2,
            "linecolor": "white",
            "showbackground": true,
            "ticks": "",
            "zerolinecolor": "white"
           }
          },
          "shapedefaults": {
           "line": {
            "color": "#2a3f5f"
           }
          },
          "ternary": {
           "aaxis": {
            "gridcolor": "white",
            "linecolor": "white",
            "ticks": ""
           },
           "baxis": {
            "gridcolor": "white",
            "linecolor": "white",
            "ticks": ""
           },
           "bgcolor": "#E5ECF6",
           "caxis": {
            "gridcolor": "white",
            "linecolor": "white",
            "ticks": ""
           }
          },
          "title": {
           "x": 0.05
          },
          "xaxis": {
           "automargin": true,
           "gridcolor": "white",
           "linecolor": "white",
           "ticks": "",
           "zerolinecolor": "white",
           "zerolinewidth": 2
          },
          "yaxis": {
           "automargin": true,
           "gridcolor": "white",
           "linecolor": "white",
           "ticks": "",
           "zerolinecolor": "white",
           "zerolinewidth": 2
          }
         }
        },
        "title": {
         "font": {
          "color": "rgb(200, 100, 100)",
          "size": 30
         },
         "text": "Skills UCSD alumni mastered"
        }
       }
      },
      "text/html": [
       "<div>\n",
       "        \n",
       "        \n",
       "            <div id=\"c428832e-5bfc-45f6-80ff-db680fd02566\" class=\"plotly-graph-div\" style=\"height:525px; width:100%;\"></div>\n",
       "            <script type=\"text/javascript\">\n",
       "                require([\"plotly\"], function(Plotly) {\n",
       "                    window.PLOTLYENV=window.PLOTLYENV || {};\n",
       "                    \n",
       "                if (document.getElementById(\"c428832e-5bfc-45f6-80ff-db680fd02566\")) {\n",
       "                    Plotly.newPlot(\n",
       "                        'c428832e-5bfc-45f6-80ff-db680fd02566',\n",
       "                        [{\"hole\": 0, \"hoverinfo\": \"label+percent\", \"labels\": [\"java\", \"javascript\", \"spring framework\", \"agile\", \"spring boot\", \"python\", \"react\", \"sql\", \"django\", \"mysql\", \"cascading style sheets (css)\", \"html\", \"linux\", \"hibernate\", \"git\", \"Others\"], \"type\": \"pie\", \"values\": [0.08247422680412371, 0.05154639175257732, 0.010309278350515464, 0.010309278350515464, 0.010309278350515464, 0.07216494845360824, 0.010309278350515464, 0.030927835051546393, 0.010309278350515464, 0.020618556701030927, 0.010309278350515464, 0.030927835051546393, 0.05154639175257732, 0.010309278350515464, 0.020618556701030927, 0.5670103092783506]}],\n",
       "                        {\"template\": {\"data\": {\"bar\": [{\"error_x\": {\"color\": \"#2a3f5f\"}, \"error_y\": {\"color\": \"#2a3f5f\"}, \"marker\": {\"line\": {\"color\": \"#E5ECF6\", \"width\": 0.5}}, \"type\": \"bar\"}], \"barpolar\": [{\"marker\": {\"line\": {\"color\": \"#E5ECF6\", \"width\": 0.5}}, \"type\": \"barpolar\"}], \"carpet\": [{\"aaxis\": {\"endlinecolor\": \"#2a3f5f\", \"gridcolor\": \"white\", \"linecolor\": \"white\", \"minorgridcolor\": \"white\", \"startlinecolor\": \"#2a3f5f\"}, \"baxis\": {\"endlinecolor\": \"#2a3f5f\", \"gridcolor\": \"white\", \"linecolor\": \"white\", \"minorgridcolor\": \"white\", \"startlinecolor\": \"#2a3f5f\"}, \"type\": \"carpet\"}], \"choropleth\": [{\"colorbar\": {\"outlinewidth\": 0, \"ticks\": \"\"}, \"type\": \"choropleth\"}], \"contour\": [{\"colorbar\": {\"outlinewidth\": 0, \"ticks\": \"\"}, \"colorscale\": [[0.0, \"#0d0887\"], [0.1111111111111111, \"#46039f\"], [0.2222222222222222, \"#7201a8\"], [0.3333333333333333, \"#9c179e\"], [0.4444444444444444, \"#bd3786\"], [0.5555555555555556, \"#d8576b\"], [0.6666666666666666, \"#ed7953\"], [0.7777777777777778, \"#fb9f3a\"], [0.8888888888888888, \"#fdca26\"], [1.0, \"#f0f921\"]], \"type\": \"contour\"}], \"contourcarpet\": [{\"colorbar\": {\"outlinewidth\": 0, \"ticks\": \"\"}, \"type\": \"contourcarpet\"}], \"heatmap\": [{\"colorbar\": {\"outlinewidth\": 0, \"ticks\": \"\"}, \"colorscale\": [[0.0, \"#0d0887\"], [0.1111111111111111, \"#46039f\"], [0.2222222222222222, \"#7201a8\"], [0.3333333333333333, \"#9c179e\"], [0.4444444444444444, \"#bd3786\"], [0.5555555555555556, \"#d8576b\"], [0.6666666666666666, \"#ed7953\"], [0.7777777777777778, \"#fb9f3a\"], [0.8888888888888888, \"#fdca26\"], [1.0, \"#f0f921\"]], \"type\": \"heatmap\"}], \"heatmapgl\": [{\"colorbar\": {\"outlinewidth\": 0, \"ticks\": \"\"}, \"colorscale\": [[0.0, \"#0d0887\"], [0.1111111111111111, \"#46039f\"], [0.2222222222222222, \"#7201a8\"], [0.3333333333333333, \"#9c179e\"], [0.4444444444444444, \"#bd3786\"], [0.5555555555555556, \"#d8576b\"], [0.6666666666666666, \"#ed7953\"], [0.7777777777777778, \"#fb9f3a\"], [0.8888888888888888, \"#fdca26\"], [1.0, \"#f0f921\"]], \"type\": \"heatmapgl\"}], \"histogram\": [{\"marker\": {\"colorbar\": {\"outlinewidth\": 0, \"ticks\": \"\"}}, \"type\": \"histogram\"}], \"histogram2d\": [{\"colorbar\": {\"outlinewidth\": 0, \"ticks\": \"\"}, \"colorscale\": [[0.0, \"#0d0887\"], [0.1111111111111111, \"#46039f\"], [0.2222222222222222, \"#7201a8\"], [0.3333333333333333, \"#9c179e\"], [0.4444444444444444, \"#bd3786\"], [0.5555555555555556, \"#d8576b\"], [0.6666666666666666, \"#ed7953\"], [0.7777777777777778, \"#fb9f3a\"], [0.8888888888888888, \"#fdca26\"], [1.0, \"#f0f921\"]], \"type\": \"histogram2d\"}], \"histogram2dcontour\": [{\"colorbar\": {\"outlinewidth\": 0, \"ticks\": \"\"}, \"colorscale\": [[0.0, \"#0d0887\"], [0.1111111111111111, \"#46039f\"], [0.2222222222222222, \"#7201a8\"], [0.3333333333333333, \"#9c179e\"], [0.4444444444444444, \"#bd3786\"], [0.5555555555555556, \"#d8576b\"], [0.6666666666666666, \"#ed7953\"], [0.7777777777777778, \"#fb9f3a\"], [0.8888888888888888, \"#fdca26\"], [1.0, \"#f0f921\"]], \"type\": \"histogram2dcontour\"}], \"mesh3d\": [{\"colorbar\": {\"outlinewidth\": 0, \"ticks\": \"\"}, \"type\": \"mesh3d\"}], \"parcoords\": [{\"line\": {\"colorbar\": {\"outlinewidth\": 0, \"ticks\": \"\"}}, \"type\": \"parcoords\"}], \"scatter\": [{\"marker\": {\"colorbar\": {\"outlinewidth\": 0, \"ticks\": \"\"}}, \"type\": \"scatter\"}], \"scatter3d\": [{\"line\": {\"colorbar\": {\"outlinewidth\": 0, \"ticks\": \"\"}}, \"marker\": {\"colorbar\": {\"outlinewidth\": 0, \"ticks\": \"\"}}, \"type\": \"scatter3d\"}], \"scattercarpet\": [{\"marker\": {\"colorbar\": {\"outlinewidth\": 0, \"ticks\": \"\"}}, \"type\": \"scattercarpet\"}], \"scattergeo\": [{\"marker\": {\"colorbar\": {\"outlinewidth\": 0, \"ticks\": \"\"}}, \"type\": \"scattergeo\"}], \"scattergl\": [{\"marker\": {\"colorbar\": {\"outlinewidth\": 0, \"ticks\": \"\"}}, \"type\": \"scattergl\"}], \"scattermapbox\": [{\"marker\": {\"colorbar\": {\"outlinewidth\": 0, \"ticks\": \"\"}}, \"type\": \"scattermapbox\"}], \"scatterpolar\": [{\"marker\": {\"colorbar\": {\"outlinewidth\": 0, \"ticks\": \"\"}}, \"type\": \"scatterpolar\"}], \"scatterpolargl\": [{\"marker\": {\"colorbar\": {\"outlinewidth\": 0, \"ticks\": \"\"}}, \"type\": \"scatterpolargl\"}], \"scatterternary\": [{\"marker\": {\"colorbar\": {\"outlinewidth\": 0, \"ticks\": \"\"}}, \"type\": \"scatterternary\"}], \"surface\": [{\"colorbar\": {\"outlinewidth\": 0, \"ticks\": \"\"}, \"colorscale\": [[0.0, \"#0d0887\"], [0.1111111111111111, \"#46039f\"], [0.2222222222222222, \"#7201a8\"], [0.3333333333333333, \"#9c179e\"], [0.4444444444444444, \"#bd3786\"], [0.5555555555555556, \"#d8576b\"], [0.6666666666666666, \"#ed7953\"], [0.7777777777777778, \"#fb9f3a\"], [0.8888888888888888, \"#fdca26\"], [1.0, \"#f0f921\"]], \"type\": \"surface\"}], \"table\": [{\"cells\": {\"fill\": {\"color\": \"#EBF0F8\"}, \"line\": {\"color\": \"white\"}}, \"header\": {\"fill\": {\"color\": \"#C8D4E3\"}, \"line\": {\"color\": \"white\"}}, \"type\": \"table\"}]}, \"layout\": {\"annotationdefaults\": {\"arrowcolor\": \"#2a3f5f\", \"arrowhead\": 0, \"arrowwidth\": 1}, \"colorscale\": {\"diverging\": [[0, \"#8e0152\"], [0.1, \"#c51b7d\"], [0.2, \"#de77ae\"], [0.3, \"#f1b6da\"], [0.4, \"#fde0ef\"], [0.5, \"#f7f7f7\"], [0.6, \"#e6f5d0\"], [0.7, \"#b8e186\"], [0.8, \"#7fbc41\"], [0.9, \"#4d9221\"], [1, \"#276419\"]], \"sequential\": [[0.0, \"#0d0887\"], [0.1111111111111111, \"#46039f\"], [0.2222222222222222, \"#7201a8\"], [0.3333333333333333, \"#9c179e\"], [0.4444444444444444, \"#bd3786\"], [0.5555555555555556, \"#d8576b\"], [0.6666666666666666, \"#ed7953\"], [0.7777777777777778, \"#fb9f3a\"], [0.8888888888888888, \"#fdca26\"], [1.0, \"#f0f921\"]], \"sequentialminus\": [[0.0, \"#0d0887\"], [0.1111111111111111, \"#46039f\"], [0.2222222222222222, \"#7201a8\"], [0.3333333333333333, \"#9c179e\"], [0.4444444444444444, \"#bd3786\"], [0.5555555555555556, \"#d8576b\"], [0.6666666666666666, \"#ed7953\"], [0.7777777777777778, \"#fb9f3a\"], [0.8888888888888888, \"#fdca26\"], [1.0, \"#f0f921\"]]}, \"colorway\": [\"#636efa\", \"#EF553B\", \"#00cc96\", \"#ab63fa\", \"#FFA15A\", \"#19d3f3\", \"#FF6692\", \"#B6E880\", \"#FF97FF\", \"#FECB52\"], \"font\": {\"color\": \"#2a3f5f\"}, \"geo\": {\"bgcolor\": \"white\", \"lakecolor\": \"white\", \"landcolor\": \"#E5ECF6\", \"showlakes\": true, \"showland\": true, \"subunitcolor\": \"white\"}, \"hoverlabel\": {\"align\": \"left\"}, \"hovermode\": \"closest\", \"mapbox\": {\"style\": \"light\"}, \"paper_bgcolor\": \"white\", \"plot_bgcolor\": \"#E5ECF6\", \"polar\": {\"angularaxis\": {\"gridcolor\": \"white\", \"linecolor\": \"white\", \"ticks\": \"\"}, \"bgcolor\": \"#E5ECF6\", \"radialaxis\": {\"gridcolor\": \"white\", \"linecolor\": \"white\", \"ticks\": \"\"}}, \"scene\": {\"xaxis\": {\"backgroundcolor\": \"#E5ECF6\", \"gridcolor\": \"white\", \"gridwidth\": 2, \"linecolor\": \"white\", \"showbackground\": true, \"ticks\": \"\", \"zerolinecolor\": \"white\"}, \"yaxis\": {\"backgroundcolor\": \"#E5ECF6\", \"gridcolor\": \"white\", \"gridwidth\": 2, \"linecolor\": \"white\", \"showbackground\": true, \"ticks\": \"\", \"zerolinecolor\": \"white\"}, \"zaxis\": {\"backgroundcolor\": \"#E5ECF6\", \"gridcolor\": \"white\", \"gridwidth\": 2, \"linecolor\": \"white\", \"showbackground\": true, \"ticks\": \"\", \"zerolinecolor\": \"white\"}}, \"shapedefaults\": {\"line\": {\"color\": \"#2a3f5f\"}}, \"ternary\": {\"aaxis\": {\"gridcolor\": \"white\", \"linecolor\": \"white\", \"ticks\": \"\"}, \"baxis\": {\"gridcolor\": \"white\", \"linecolor\": \"white\", \"ticks\": \"\"}, \"bgcolor\": \"#E5ECF6\", \"caxis\": {\"gridcolor\": \"white\", \"linecolor\": \"white\", \"ticks\": \"\"}}, \"title\": {\"x\": 0.05}, \"xaxis\": {\"automargin\": true, \"gridcolor\": \"white\", \"linecolor\": \"white\", \"ticks\": \"\", \"zerolinecolor\": \"white\", \"zerolinewidth\": 2}, \"yaxis\": {\"automargin\": true, \"gridcolor\": \"white\", \"linecolor\": \"white\", \"ticks\": \"\", \"zerolinecolor\": \"white\", \"zerolinewidth\": 2}}}, \"title\": {\"font\": {\"color\": \"rgb(200, 100, 100)\", \"size\": 30}, \"text\": \"Skills UCSD alumni mastered\"}},\n",
       "                        {\"responsive\": true}\n",
       "                    ).then(function(){\n",
       "                            \n",
       "var gd = document.getElementById('c428832e-5bfc-45f6-80ff-db680fd02566');\n",
       "var x = new MutationObserver(function (mutations, observer) {{\n",
       "        var display = window.getComputedStyle(gd).display;\n",
       "        if (!display || display === 'none') {{\n",
       "            console.log([gd, 'removed!']);\n",
       "            Plotly.purge(gd);\n",
       "            observer.disconnect();\n",
       "        }}\n",
       "}});\n",
       "\n",
       "// Listen for the removal of the full notebook cells\n",
       "var notebookContainer = gd.closest('#notebook-container');\n",
       "if (notebookContainer) {{\n",
       "    x.observe(notebookContainer, {childList: true});\n",
       "}}\n",
       "\n",
       "// Listen for the clearing of the current output cell\n",
       "var outputEl = gd.closest('.output');\n",
       "if (outputEl) {{\n",
       "    x.observe(outputEl, {childList: true});\n",
       "}}\n",
       "\n",
       "                        })\n",
       "                };\n",
       "                });\n",
       "            </script>\n",
       "        </div>"
      ]
     },
     "metadata": {},
     "output_type": "display_data"
    }
   ],
   "source": [
    "import geoplotlib\n",
    "import json\n",
    "from collections import defaultdict\n",
    "import plotly\n",
    "# import plotly.plotly as py\n",
    "import plotly.offline as of\n",
    "import plotly.graph_objs as go\n",
    "\n",
    "# seperate the dict to be two lists\n",
    "def seperateData(data):\n",
    "    dictionary = dict(data)\n",
    "    keys = dictionary.keys()\n",
    "    values = dictionary.values()\n",
    "    return list(keys), list(values)\n",
    "\n",
    "# Set the top most skills we want to display\n",
    "def getHighest(key, values, num):\n",
    "    newKey = key[:num]\n",
    "    newValue = values[:num]\n",
    "    if num < len(key):\n",
    "        newKey.append(\"Others\")\n",
    "        newValue.append(sum(values[num:]))\n",
    "    return newKey, newValue\n",
    "    \n",
    "\n",
    "if __name__ == '__main__':\n",
    "    \n",
    "    #=============== Set up the data ===================#\n",
    "    skill, number = seperateData(skills)\n",
    "    number = [number[i]/sum(number) for i in range(len(number))] #convert number to percentage\n",
    "    skill, number = getHighest(skill, number, 15)  # Only display the top NO.15 skills\n",
    "\n",
    "    #===============Then Set up the figures ============#\n",
    "    of.offline.init_notebook_mode(connected=True)\n",
    "    trace = [go.Pie(\n",
    "        labels = skill, \n",
    "        values = number, \n",
    "        hole =  0,                          # Modify the radius of the hole, higher means larger hole\n",
    "        hoverinfo = \"label + percent\")]\n",
    "    layout = go.Layout(title =\"Skills UCSD alumni mastered\", titlefont=dict(color='rgb(200, 100, 100)',size=30))\n",
    "    data = [trace]\n",
    "    fig = go.Figure(data = trace, layout = layout)\n",
    "    of.iplot(fig)\n"
   ]
  },
  {
   "cell_type": "markdown",
   "metadata": {},
   "source": [
    "### b. People in different companies  -- Bar Chart"
   ]
  },
  {
   "cell_type": "code",
   "execution_count": 51,
   "metadata": {
    "scrolled": false
   },
   "outputs": [
    {
     "data": {
      "text/html": [
       "        <script type=\"text/javascript\">\n",
       "        window.PlotlyConfig = {MathJaxConfig: 'local'};\n",
       "        if (window.MathJax) {MathJax.Hub.Config({SVG: {font: \"STIX-Web\"}});}\n",
       "        if (typeof require !== 'undefined') {\n",
       "        require.undef(\"plotly\");\n",
       "        requirejs.config({\n",
       "            paths: {\n",
       "                'plotly': ['https://cdn.plot.ly/plotly-latest.min']\n",
       "            }\n",
       "        });\n",
       "        require(['plotly'], function(Plotly) {\n",
       "            window._Plotly = Plotly;\n",
       "        });\n",
       "        }\n",
       "        </script>\n",
       "        "
      ]
     },
     "metadata": {},
     "output_type": "display_data"
    },
    {
     "data": {
      "application/vnd.plotly.v1+json": {
       "config": {
        "linkText": "Export to plot.ly",
        "plotlyServerURL": "https://plot.ly",
        "showLink": false
       },
       "data": [
        {
         "orientation": "v",
         "type": "bar",
         "x": [
          "Amazon",
          "Uber",
          "Others"
         ],
         "y": [
          7,
          1,
          0
         ]
        }
       ],
       "layout": {
        "plot_bgcolor": "#E6E6FA",
        "template": {
         "data": {
          "bar": [
           {
            "error_x": {
             "color": "#2a3f5f"
            },
            "error_y": {
             "color": "#2a3f5f"
            },
            "marker": {
             "line": {
              "color": "#E5ECF6",
              "width": 0.5
             }
            },
            "type": "bar"
           }
          ],
          "barpolar": [
           {
            "marker": {
             "line": {
              "color": "#E5ECF6",
              "width": 0.5
             }
            },
            "type": "barpolar"
           }
          ],
          "carpet": [
           {
            "aaxis": {
             "endlinecolor": "#2a3f5f",
             "gridcolor": "white",
             "linecolor": "white",
             "minorgridcolor": "white",
             "startlinecolor": "#2a3f5f"
            },
            "baxis": {
             "endlinecolor": "#2a3f5f",
             "gridcolor": "white",
             "linecolor": "white",
             "minorgridcolor": "white",
             "startlinecolor": "#2a3f5f"
            },
            "type": "carpet"
           }
          ],
          "choropleth": [
           {
            "colorbar": {
             "outlinewidth": 0,
             "ticks": ""
            },
            "type": "choropleth"
           }
          ],
          "contour": [
           {
            "colorbar": {
             "outlinewidth": 0,
             "ticks": ""
            },
            "colorscale": [
             [
              0,
              "#0d0887"
             ],
             [
              0.1111111111111111,
              "#46039f"
             ],
             [
              0.2222222222222222,
              "#7201a8"
             ],
             [
              0.3333333333333333,
              "#9c179e"
             ],
             [
              0.4444444444444444,
              "#bd3786"
             ],
             [
              0.5555555555555556,
              "#d8576b"
             ],
             [
              0.6666666666666666,
              "#ed7953"
             ],
             [
              0.7777777777777778,
              "#fb9f3a"
             ],
             [
              0.8888888888888888,
              "#fdca26"
             ],
             [
              1,
              "#f0f921"
             ]
            ],
            "type": "contour"
           }
          ],
          "contourcarpet": [
           {
            "colorbar": {
             "outlinewidth": 0,
             "ticks": ""
            },
            "type": "contourcarpet"
           }
          ],
          "heatmap": [
           {
            "colorbar": {
             "outlinewidth": 0,
             "ticks": ""
            },
            "colorscale": [
             [
              0,
              "#0d0887"
             ],
             [
              0.1111111111111111,
              "#46039f"
             ],
             [
              0.2222222222222222,
              "#7201a8"
             ],
             [
              0.3333333333333333,
              "#9c179e"
             ],
             [
              0.4444444444444444,
              "#bd3786"
             ],
             [
              0.5555555555555556,
              "#d8576b"
             ],
             [
              0.6666666666666666,
              "#ed7953"
             ],
             [
              0.7777777777777778,
              "#fb9f3a"
             ],
             [
              0.8888888888888888,
              "#fdca26"
             ],
             [
              1,
              "#f0f921"
             ]
            ],
            "type": "heatmap"
           }
          ],
          "heatmapgl": [
           {
            "colorbar": {
             "outlinewidth": 0,
             "ticks": ""
            },
            "colorscale": [
             [
              0,
              "#0d0887"
             ],
             [
              0.1111111111111111,
              "#46039f"
             ],
             [
              0.2222222222222222,
              "#7201a8"
             ],
             [
              0.3333333333333333,
              "#9c179e"
             ],
             [
              0.4444444444444444,
              "#bd3786"
             ],
             [
              0.5555555555555556,
              "#d8576b"
             ],
             [
              0.6666666666666666,
              "#ed7953"
             ],
             [
              0.7777777777777778,
              "#fb9f3a"
             ],
             [
              0.8888888888888888,
              "#fdca26"
             ],
             [
              1,
              "#f0f921"
             ]
            ],
            "type": "heatmapgl"
           }
          ],
          "histogram": [
           {
            "marker": {
             "colorbar": {
              "outlinewidth": 0,
              "ticks": ""
             }
            },
            "type": "histogram"
           }
          ],
          "histogram2d": [
           {
            "colorbar": {
             "outlinewidth": 0,
             "ticks": ""
            },
            "colorscale": [
             [
              0,
              "#0d0887"
             ],
             [
              0.1111111111111111,
              "#46039f"
             ],
             [
              0.2222222222222222,
              "#7201a8"
             ],
             [
              0.3333333333333333,
              "#9c179e"
             ],
             [
              0.4444444444444444,
              "#bd3786"
             ],
             [
              0.5555555555555556,
              "#d8576b"
             ],
             [
              0.6666666666666666,
              "#ed7953"
             ],
             [
              0.7777777777777778,
              "#fb9f3a"
             ],
             [
              0.8888888888888888,
              "#fdca26"
             ],
             [
              1,
              "#f0f921"
             ]
            ],
            "type": "histogram2d"
           }
          ],
          "histogram2dcontour": [
           {
            "colorbar": {
             "outlinewidth": 0,
             "ticks": ""
            },
            "colorscale": [
             [
              0,
              "#0d0887"
             ],
             [
              0.1111111111111111,
              "#46039f"
             ],
             [
              0.2222222222222222,
              "#7201a8"
             ],
             [
              0.3333333333333333,
              "#9c179e"
             ],
             [
              0.4444444444444444,
              "#bd3786"
             ],
             [
              0.5555555555555556,
              "#d8576b"
             ],
             [
              0.6666666666666666,
              "#ed7953"
             ],
             [
              0.7777777777777778,
              "#fb9f3a"
             ],
             [
              0.8888888888888888,
              "#fdca26"
             ],
             [
              1,
              "#f0f921"
             ]
            ],
            "type": "histogram2dcontour"
           }
          ],
          "mesh3d": [
           {
            "colorbar": {
             "outlinewidth": 0,
             "ticks": ""
            },
            "type": "mesh3d"
           }
          ],
          "parcoords": [
           {
            "line": {
             "colorbar": {
              "outlinewidth": 0,
              "ticks": ""
             }
            },
            "type": "parcoords"
           }
          ],
          "scatter": [
           {
            "marker": {
             "colorbar": {
              "outlinewidth": 0,
              "ticks": ""
             }
            },
            "type": "scatter"
           }
          ],
          "scatter3d": [
           {
            "line": {
             "colorbar": {
              "outlinewidth": 0,
              "ticks": ""
             }
            },
            "marker": {
             "colorbar": {
              "outlinewidth": 0,
              "ticks": ""
             }
            },
            "type": "scatter3d"
           }
          ],
          "scattercarpet": [
           {
            "marker": {
             "colorbar": {
              "outlinewidth": 0,
              "ticks": ""
             }
            },
            "type": "scattercarpet"
           }
          ],
          "scattergeo": [
           {
            "marker": {
             "colorbar": {
              "outlinewidth": 0,
              "ticks": ""
             }
            },
            "type": "scattergeo"
           }
          ],
          "scattergl": [
           {
            "marker": {
             "colorbar": {
              "outlinewidth": 0,
              "ticks": ""
             }
            },
            "type": "scattergl"
           }
          ],
          "scattermapbox": [
           {
            "marker": {
             "colorbar": {
              "outlinewidth": 0,
              "ticks": ""
             }
            },
            "type": "scattermapbox"
           }
          ],
          "scatterpolar": [
           {
            "marker": {
             "colorbar": {
              "outlinewidth": 0,
              "ticks": ""
             }
            },
            "type": "scatterpolar"
           }
          ],
          "scatterpolargl": [
           {
            "marker": {
             "colorbar": {
              "outlinewidth": 0,
              "ticks": ""
             }
            },
            "type": "scatterpolargl"
           }
          ],
          "scatterternary": [
           {
            "marker": {
             "colorbar": {
              "outlinewidth": 0,
              "ticks": ""
             }
            },
            "type": "scatterternary"
           }
          ],
          "surface": [
           {
            "colorbar": {
             "outlinewidth": 0,
             "ticks": ""
            },
            "colorscale": [
             [
              0,
              "#0d0887"
             ],
             [
              0.1111111111111111,
              "#46039f"
             ],
             [
              0.2222222222222222,
              "#7201a8"
             ],
             [
              0.3333333333333333,
              "#9c179e"
             ],
             [
              0.4444444444444444,
              "#bd3786"
             ],
             [
              0.5555555555555556,
              "#d8576b"
             ],
             [
              0.6666666666666666,
              "#ed7953"
             ],
             [
              0.7777777777777778,
              "#fb9f3a"
             ],
             [
              0.8888888888888888,
              "#fdca26"
             ],
             [
              1,
              "#f0f921"
             ]
            ],
            "type": "surface"
           }
          ],
          "table": [
           {
            "cells": {
             "fill": {
              "color": "#EBF0F8"
             },
             "line": {
              "color": "white"
             }
            },
            "header": {
             "fill": {
              "color": "#C8D4E3"
             },
             "line": {
              "color": "white"
             }
            },
            "type": "table"
           }
          ]
         },
         "layout": {
          "annotationdefaults": {
           "arrowcolor": "#2a3f5f",
           "arrowhead": 0,
           "arrowwidth": 1
          },
          "colorscale": {
           "diverging": [
            [
             0,
             "#8e0152"
            ],
            [
             0.1,
             "#c51b7d"
            ],
            [
             0.2,
             "#de77ae"
            ],
            [
             0.3,
             "#f1b6da"
            ],
            [
             0.4,
             "#fde0ef"
            ],
            [
             0.5,
             "#f7f7f7"
            ],
            [
             0.6,
             "#e6f5d0"
            ],
            [
             0.7,
             "#b8e186"
            ],
            [
             0.8,
             "#7fbc41"
            ],
            [
             0.9,
             "#4d9221"
            ],
            [
             1,
             "#276419"
            ]
           ],
           "sequential": [
            [
             0,
             "#0d0887"
            ],
            [
             0.1111111111111111,
             "#46039f"
            ],
            [
             0.2222222222222222,
             "#7201a8"
            ],
            [
             0.3333333333333333,
             "#9c179e"
            ],
            [
             0.4444444444444444,
             "#bd3786"
            ],
            [
             0.5555555555555556,
             "#d8576b"
            ],
            [
             0.6666666666666666,
             "#ed7953"
            ],
            [
             0.7777777777777778,
             "#fb9f3a"
            ],
            [
             0.8888888888888888,
             "#fdca26"
            ],
            [
             1,
             "#f0f921"
            ]
           ],
           "sequentialminus": [
            [
             0,
             "#0d0887"
            ],
            [
             0.1111111111111111,
             "#46039f"
            ],
            [
             0.2222222222222222,
             "#7201a8"
            ],
            [
             0.3333333333333333,
             "#9c179e"
            ],
            [
             0.4444444444444444,
             "#bd3786"
            ],
            [
             0.5555555555555556,
             "#d8576b"
            ],
            [
             0.6666666666666666,
             "#ed7953"
            ],
            [
             0.7777777777777778,
             "#fb9f3a"
            ],
            [
             0.8888888888888888,
             "#fdca26"
            ],
            [
             1,
             "#f0f921"
            ]
           ]
          },
          "colorway": [
           "#636efa",
           "#EF553B",
           "#00cc96",
           "#ab63fa",
           "#FFA15A",
           "#19d3f3",
           "#FF6692",
           "#B6E880",
           "#FF97FF",
           "#FECB52"
          ],
          "font": {
           "color": "#2a3f5f"
          },
          "geo": {
           "bgcolor": "white",
           "lakecolor": "white",
           "landcolor": "#E5ECF6",
           "showlakes": true,
           "showland": true,
           "subunitcolor": "white"
          },
          "hoverlabel": {
           "align": "left"
          },
          "hovermode": "closest",
          "mapbox": {
           "style": "light"
          },
          "paper_bgcolor": "white",
          "plot_bgcolor": "#E5ECF6",
          "polar": {
           "angularaxis": {
            "gridcolor": "white",
            "linecolor": "white",
            "ticks": ""
           },
           "bgcolor": "#E5ECF6",
           "radialaxis": {
            "gridcolor": "white",
            "linecolor": "white",
            "ticks": ""
           }
          },
          "scene": {
           "xaxis": {
            "backgroundcolor": "#E5ECF6",
            "gridcolor": "white",
            "gridwidth": 2,
            "linecolor": "white",
            "showbackground": true,
            "ticks": "",
            "zerolinecolor": "white"
           },
           "yaxis": {
            "backgroundcolor": "#E5ECF6",
            "gridcolor": "white",
            "gridwidth": 2,
            "linecolor": "white",
            "showbackground": true,
            "ticks": "",
            "zerolinecolor": "white"
           },
           "zaxis": {
            "backgroundcolor": "#E5ECF6",
            "gridcolor": "white",
            "gridwidth": 2,
            "linecolor": "white",
            "showbackground": true,
            "ticks": "",
            "zerolinecolor": "white"
           }
          },
          "shapedefaults": {
           "line": {
            "color": "#2a3f5f"
           }
          },
          "ternary": {
           "aaxis": {
            "gridcolor": "white",
            "linecolor": "white",
            "ticks": ""
           },
           "baxis": {
            "gridcolor": "white",
            "linecolor": "white",
            "ticks": ""
           },
           "bgcolor": "#E5ECF6",
           "caxis": {
            "gridcolor": "white",
            "linecolor": "white",
            "ticks": ""
           }
          },
          "title": {
           "x": 0.05
          },
          "xaxis": {
           "automargin": true,
           "gridcolor": "white",
           "linecolor": "white",
           "ticks": "",
           "zerolinecolor": "white",
           "zerolinewidth": 2
          },
          "yaxis": {
           "automargin": true,
           "gridcolor": "white",
           "linecolor": "white",
           "ticks": "",
           "zerolinecolor": "white",
           "zerolinewidth": 2
          }
         }
        },
        "title": {
         "font": {
          "color": "rgb(200, 100, 100)",
          "size": 30
         },
         "text": " Companies UCSD alumni went to"
        }
       }
      },
      "text/html": [
       "<div>\n",
       "        \n",
       "        \n",
       "            <div id=\"d3edc898-842f-4cf2-856f-c4a2534261cf\" class=\"plotly-graph-div\" style=\"height:525px; width:100%;\"></div>\n",
       "            <script type=\"text/javascript\">\n",
       "                require([\"plotly\"], function(Plotly) {\n",
       "                    window.PLOTLYENV=window.PLOTLYENV || {};\n",
       "                    \n",
       "                if (document.getElementById(\"d3edc898-842f-4cf2-856f-c4a2534261cf\")) {\n",
       "                    Plotly.newPlot(\n",
       "                        'd3edc898-842f-4cf2-856f-c4a2534261cf',\n",
       "                        [{\"orientation\": \"v\", \"type\": \"bar\", \"x\": [\"Amazon\", \"Uber\", \"Others\"], \"y\": [7, 1, 0]}],\n",
       "                        {\"plot_bgcolor\": \"#E6E6FA\", \"template\": {\"data\": {\"bar\": [{\"error_x\": {\"color\": \"#2a3f5f\"}, \"error_y\": {\"color\": \"#2a3f5f\"}, \"marker\": {\"line\": {\"color\": \"#E5ECF6\", \"width\": 0.5}}, \"type\": \"bar\"}], \"barpolar\": [{\"marker\": {\"line\": {\"color\": \"#E5ECF6\", \"width\": 0.5}}, \"type\": \"barpolar\"}], \"carpet\": [{\"aaxis\": {\"endlinecolor\": \"#2a3f5f\", \"gridcolor\": \"white\", \"linecolor\": \"white\", \"minorgridcolor\": \"white\", \"startlinecolor\": \"#2a3f5f\"}, \"baxis\": {\"endlinecolor\": \"#2a3f5f\", \"gridcolor\": \"white\", \"linecolor\": \"white\", \"minorgridcolor\": \"white\", \"startlinecolor\": \"#2a3f5f\"}, \"type\": \"carpet\"}], \"choropleth\": [{\"colorbar\": {\"outlinewidth\": 0, \"ticks\": \"\"}, \"type\": \"choropleth\"}], \"contour\": [{\"colorbar\": {\"outlinewidth\": 0, \"ticks\": \"\"}, \"colorscale\": [[0.0, \"#0d0887\"], [0.1111111111111111, \"#46039f\"], [0.2222222222222222, \"#7201a8\"], [0.3333333333333333, \"#9c179e\"], [0.4444444444444444, \"#bd3786\"], [0.5555555555555556, \"#d8576b\"], [0.6666666666666666, \"#ed7953\"], [0.7777777777777778, \"#fb9f3a\"], [0.8888888888888888, \"#fdca26\"], [1.0, \"#f0f921\"]], \"type\": \"contour\"}], \"contourcarpet\": [{\"colorbar\": {\"outlinewidth\": 0, \"ticks\": \"\"}, \"type\": \"contourcarpet\"}], \"heatmap\": [{\"colorbar\": {\"outlinewidth\": 0, \"ticks\": \"\"}, \"colorscale\": [[0.0, \"#0d0887\"], [0.1111111111111111, \"#46039f\"], [0.2222222222222222, \"#7201a8\"], [0.3333333333333333, \"#9c179e\"], [0.4444444444444444, \"#bd3786\"], [0.5555555555555556, \"#d8576b\"], [0.6666666666666666, \"#ed7953\"], [0.7777777777777778, \"#fb9f3a\"], [0.8888888888888888, \"#fdca26\"], [1.0, \"#f0f921\"]], \"type\": \"heatmap\"}], \"heatmapgl\": [{\"colorbar\": {\"outlinewidth\": 0, \"ticks\": \"\"}, \"colorscale\": [[0.0, \"#0d0887\"], [0.1111111111111111, \"#46039f\"], [0.2222222222222222, \"#7201a8\"], [0.3333333333333333, \"#9c179e\"], [0.4444444444444444, \"#bd3786\"], [0.5555555555555556, \"#d8576b\"], [0.6666666666666666, \"#ed7953\"], [0.7777777777777778, \"#fb9f3a\"], [0.8888888888888888, \"#fdca26\"], [1.0, \"#f0f921\"]], \"type\": \"heatmapgl\"}], \"histogram\": [{\"marker\": {\"colorbar\": {\"outlinewidth\": 0, \"ticks\": \"\"}}, \"type\": \"histogram\"}], \"histogram2d\": [{\"colorbar\": {\"outlinewidth\": 0, \"ticks\": \"\"}, \"colorscale\": [[0.0, \"#0d0887\"], [0.1111111111111111, \"#46039f\"], [0.2222222222222222, \"#7201a8\"], [0.3333333333333333, \"#9c179e\"], [0.4444444444444444, \"#bd3786\"], [0.5555555555555556, \"#d8576b\"], [0.6666666666666666, \"#ed7953\"], [0.7777777777777778, \"#fb9f3a\"], [0.8888888888888888, \"#fdca26\"], [1.0, \"#f0f921\"]], \"type\": \"histogram2d\"}], \"histogram2dcontour\": [{\"colorbar\": {\"outlinewidth\": 0, \"ticks\": \"\"}, \"colorscale\": [[0.0, \"#0d0887\"], [0.1111111111111111, \"#46039f\"], [0.2222222222222222, \"#7201a8\"], [0.3333333333333333, \"#9c179e\"], [0.4444444444444444, \"#bd3786\"], [0.5555555555555556, \"#d8576b\"], [0.6666666666666666, \"#ed7953\"], [0.7777777777777778, \"#fb9f3a\"], [0.8888888888888888, \"#fdca26\"], [1.0, \"#f0f921\"]], \"type\": \"histogram2dcontour\"}], \"mesh3d\": [{\"colorbar\": {\"outlinewidth\": 0, \"ticks\": \"\"}, \"type\": \"mesh3d\"}], \"parcoords\": [{\"line\": {\"colorbar\": {\"outlinewidth\": 0, \"ticks\": \"\"}}, \"type\": \"parcoords\"}], \"scatter\": [{\"marker\": {\"colorbar\": {\"outlinewidth\": 0, \"ticks\": \"\"}}, \"type\": \"scatter\"}], \"scatter3d\": [{\"line\": {\"colorbar\": {\"outlinewidth\": 0, \"ticks\": \"\"}}, \"marker\": {\"colorbar\": {\"outlinewidth\": 0, \"ticks\": \"\"}}, \"type\": \"scatter3d\"}], \"scattercarpet\": [{\"marker\": {\"colorbar\": {\"outlinewidth\": 0, \"ticks\": \"\"}}, \"type\": \"scattercarpet\"}], \"scattergeo\": [{\"marker\": {\"colorbar\": {\"outlinewidth\": 0, \"ticks\": \"\"}}, \"type\": \"scattergeo\"}], \"scattergl\": [{\"marker\": {\"colorbar\": {\"outlinewidth\": 0, \"ticks\": \"\"}}, \"type\": \"scattergl\"}], \"scattermapbox\": [{\"marker\": {\"colorbar\": {\"outlinewidth\": 0, \"ticks\": \"\"}}, \"type\": \"scattermapbox\"}], \"scatterpolar\": [{\"marker\": {\"colorbar\": {\"outlinewidth\": 0, \"ticks\": \"\"}}, \"type\": \"scatterpolar\"}], \"scatterpolargl\": [{\"marker\": {\"colorbar\": {\"outlinewidth\": 0, \"ticks\": \"\"}}, \"type\": \"scatterpolargl\"}], \"scatterternary\": [{\"marker\": {\"colorbar\": {\"outlinewidth\": 0, \"ticks\": \"\"}}, \"type\": \"scatterternary\"}], \"surface\": [{\"colorbar\": {\"outlinewidth\": 0, \"ticks\": \"\"}, \"colorscale\": [[0.0, \"#0d0887\"], [0.1111111111111111, \"#46039f\"], [0.2222222222222222, \"#7201a8\"], [0.3333333333333333, \"#9c179e\"], [0.4444444444444444, \"#bd3786\"], [0.5555555555555556, \"#d8576b\"], [0.6666666666666666, \"#ed7953\"], [0.7777777777777778, \"#fb9f3a\"], [0.8888888888888888, \"#fdca26\"], [1.0, \"#f0f921\"]], \"type\": \"surface\"}], \"table\": [{\"cells\": {\"fill\": {\"color\": \"#EBF0F8\"}, \"line\": {\"color\": \"white\"}}, \"header\": {\"fill\": {\"color\": \"#C8D4E3\"}, \"line\": {\"color\": \"white\"}}, \"type\": \"table\"}]}, \"layout\": {\"annotationdefaults\": {\"arrowcolor\": \"#2a3f5f\", \"arrowhead\": 0, \"arrowwidth\": 1}, \"colorscale\": {\"diverging\": [[0, \"#8e0152\"], [0.1, \"#c51b7d\"], [0.2, \"#de77ae\"], [0.3, \"#f1b6da\"], [0.4, \"#fde0ef\"], [0.5, \"#f7f7f7\"], [0.6, \"#e6f5d0\"], [0.7, \"#b8e186\"], [0.8, \"#7fbc41\"], [0.9, \"#4d9221\"], [1, \"#276419\"]], \"sequential\": [[0.0, \"#0d0887\"], [0.1111111111111111, \"#46039f\"], [0.2222222222222222, \"#7201a8\"], [0.3333333333333333, \"#9c179e\"], [0.4444444444444444, \"#bd3786\"], [0.5555555555555556, \"#d8576b\"], [0.6666666666666666, \"#ed7953\"], [0.7777777777777778, \"#fb9f3a\"], [0.8888888888888888, \"#fdca26\"], [1.0, \"#f0f921\"]], \"sequentialminus\": [[0.0, \"#0d0887\"], [0.1111111111111111, \"#46039f\"], [0.2222222222222222, \"#7201a8\"], [0.3333333333333333, \"#9c179e\"], [0.4444444444444444, \"#bd3786\"], [0.5555555555555556, \"#d8576b\"], [0.6666666666666666, \"#ed7953\"], [0.7777777777777778, \"#fb9f3a\"], [0.8888888888888888, \"#fdca26\"], [1.0, \"#f0f921\"]]}, \"colorway\": [\"#636efa\", \"#EF553B\", \"#00cc96\", \"#ab63fa\", \"#FFA15A\", \"#19d3f3\", \"#FF6692\", \"#B6E880\", \"#FF97FF\", \"#FECB52\"], \"font\": {\"color\": \"#2a3f5f\"}, \"geo\": {\"bgcolor\": \"white\", \"lakecolor\": \"white\", \"landcolor\": \"#E5ECF6\", \"showlakes\": true, \"showland\": true, \"subunitcolor\": \"white\"}, \"hoverlabel\": {\"align\": \"left\"}, \"hovermode\": \"closest\", \"mapbox\": {\"style\": \"light\"}, \"paper_bgcolor\": \"white\", \"plot_bgcolor\": \"#E5ECF6\", \"polar\": {\"angularaxis\": {\"gridcolor\": \"white\", \"linecolor\": \"white\", \"ticks\": \"\"}, \"bgcolor\": \"#E5ECF6\", \"radialaxis\": {\"gridcolor\": \"white\", \"linecolor\": \"white\", \"ticks\": \"\"}}, \"scene\": {\"xaxis\": {\"backgroundcolor\": \"#E5ECF6\", \"gridcolor\": \"white\", \"gridwidth\": 2, \"linecolor\": \"white\", \"showbackground\": true, \"ticks\": \"\", \"zerolinecolor\": \"white\"}, \"yaxis\": {\"backgroundcolor\": \"#E5ECF6\", \"gridcolor\": \"white\", \"gridwidth\": 2, \"linecolor\": \"white\", \"showbackground\": true, \"ticks\": \"\", \"zerolinecolor\": \"white\"}, \"zaxis\": {\"backgroundcolor\": \"#E5ECF6\", \"gridcolor\": \"white\", \"gridwidth\": 2, \"linecolor\": \"white\", \"showbackground\": true, \"ticks\": \"\", \"zerolinecolor\": \"white\"}}, \"shapedefaults\": {\"line\": {\"color\": \"#2a3f5f\"}}, \"ternary\": {\"aaxis\": {\"gridcolor\": \"white\", \"linecolor\": \"white\", \"ticks\": \"\"}, \"baxis\": {\"gridcolor\": \"white\", \"linecolor\": \"white\", \"ticks\": \"\"}, \"bgcolor\": \"#E5ECF6\", \"caxis\": {\"gridcolor\": \"white\", \"linecolor\": \"white\", \"ticks\": \"\"}}, \"title\": {\"x\": 0.05}, \"xaxis\": {\"automargin\": true, \"gridcolor\": \"white\", \"linecolor\": \"white\", \"ticks\": \"\", \"zerolinecolor\": \"white\", \"zerolinewidth\": 2}, \"yaxis\": {\"automargin\": true, \"gridcolor\": \"white\", \"linecolor\": \"white\", \"ticks\": \"\", \"zerolinecolor\": \"white\", \"zerolinewidth\": 2}}}, \"title\": {\"font\": {\"color\": \"rgb(200, 100, 100)\", \"size\": 30}, \"text\": \" Companies UCSD alumni went to\"}},\n",
       "                        {\"responsive\": true}\n",
       "                    ).then(function(){\n",
       "                            \n",
       "var gd = document.getElementById('d3edc898-842f-4cf2-856f-c4a2534261cf');\n",
       "var x = new MutationObserver(function (mutations, observer) {{\n",
       "        var display = window.getComputedStyle(gd).display;\n",
       "        if (!display || display === 'none') {{\n",
       "            console.log([gd, 'removed!']);\n",
       "            Plotly.purge(gd);\n",
       "            observer.disconnect();\n",
       "        }}\n",
       "}});\n",
       "\n",
       "// Listen for the removal of the full notebook cells\n",
       "var notebookContainer = gd.closest('#notebook-container');\n",
       "if (notebookContainer) {{\n",
       "    x.observe(notebookContainer, {childList: true});\n",
       "}}\n",
       "\n",
       "// Listen for the clearing of the current output cell\n",
       "var outputEl = gd.closest('.output');\n",
       "if (outputEl) {{\n",
       "    x.observe(outputEl, {childList: true});\n",
       "}}\n",
       "\n",
       "                        })\n",
       "                };\n",
       "                });\n",
       "            </script>\n",
       "        </div>"
      ]
     },
     "metadata": {},
     "output_type": "display_data"
    }
   ],
   "source": [
    "if __name__ == '__main__':\n",
    "    #=============== Set up the data ===================#\n",
    "    company, number = seperateData(companies)\n",
    "    company, number = getHighest(company, number, 15)  # Only display the top NO.15 companies\n",
    "    \n",
    "    #============== Set up the Figures =================#\n",
    "    of.offline.init_notebook_mode(connected=True)\n",
    "    trace = [go.Bar(\n",
    "        x = company, \n",
    "        y = number, \n",
    "        orientation='v'\n",
    "    )]\n",
    "    layout = go.Layout(plot_bgcolor='#E6E6FA', title =\" Companies UCSD alumni went to\", titlefont=dict(color='rgb(200, 100, 100)',size=30))\n",
    "    data = [trace]\n",
    "    fig = go.Figure(data = trace, layout = layout)\n",
    "    of.iplot(fig)\n",
    "    "
   ]
  },
  {
   "cell_type": "markdown",
   "metadata": {},
   "source": [
    "### c. Industry that UCSD Alumni went to -- radar chart\n",
    "#### reference links: https://plot.ly/python/radar-chart/"
   ]
  },
  {
   "cell_type": "code",
   "execution_count": null,
   "metadata": {},
   "outputs": [],
   "source": [
    "if __name__ == '__main__':\n",
    "    #=============== Set up the data ===================#\n",
    "    industries, number = seperateData(industry)\n",
    "    print(industries)\n",
    "    industries, number = getHighest(industries, number, 15)  # Only display the top NO.15 industries\n",
    "    \n",
    "    #============== Set up the Figures =================#\n",
    "    fig = go.Figure()\n",
    "    fig.add_trace(go.Scatterpolar(\n",
    "      r=number,\n",
    "      theta=industries,\n",
    "      fill='toself',\n",
    "      name='Industry that UCSD Alumni went to',\n",
    "      opacity  = 0.5, # Set up the opacity of the figure\n",
    "    ))\n",
    "    \n",
    "    fig.update_layout(\n",
    "    polar=dict(\n",
    "    radialaxis=dict(\n",
    "      visible=True,\n",
    "      range=[0, 8]\n",
    "    )),\n",
    "    showlegend=True\n",
    "        \n",
    ")\n",
    "    fig.show()"
   ]
  },
  {
   "cell_type": "code",
   "execution_count": 63,
   "metadata": {},
   "outputs": [
    {
     "data": {
      "text/plain": [
       "['abbb', 'basd']"
      ]
     },
     "execution_count": 63,
     "metadata": {},
     "output_type": "execute_result"
    }
   ],
   "source": [
    "a = ['abbb','basd','cqwq','dad']\n",
    "a[:2]"
   ]
  }
 ],
 "metadata": {
  "kernelspec": {
   "display_name": "Python 3",
   "language": "python",
   "name": "python3"
  },
  "language_info": {
   "codemirror_mode": {
    "name": "ipython",
    "version": 3
   },
   "file_extension": ".py",
   "mimetype": "text/x-python",
   "name": "python",
   "nbconvert_exporter": "python",
   "pygments_lexer": "ipython3",
   "version": "3.6.8"
  }
 },
 "nbformat": 4,
 "nbformat_minor": 2
}
