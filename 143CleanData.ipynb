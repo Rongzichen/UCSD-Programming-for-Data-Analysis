{
 "cells": [
  {
   "cell_type": "markdown",
   "metadata": {},
   "source": [
    "# UCSD ECE143 Final Project"
   ]
  },
  {
   "cell_type": "markdown",
   "metadata": {},
   "source": [
    "## 1. Data Clean Up"
   ]
  },
  {
   "cell_type": "code",
   "execution_count": 38,
   "metadata": {},
   "outputs": [
    {
     "name": "stdout",
     "output_type": "stream",
     "text": [
      "geoloc\n",
      "geoloc\n",
      "industry\n",
      "geoloc\n",
      "geoloc\n",
      "geoloc\n",
      "geoloc\n",
      "geoloc\n",
      "geoloc\n",
      "geoloc\n",
      "geoloc\n",
      "geoloc\n",
      "geoloc\n",
      "geoloc\n",
      "geoloc\n",
      "geoloc\n",
      "geoloc\n",
      "geoloc\n",
      "industry\n",
      "geoloc\n",
      "geoloc\n",
      "geoloc\n",
      "geoloc\n",
      "geoloc\n",
      "geoloc\n",
      "geoloc\n",
      "geoloc\n",
      "geoloc\n",
      "geoloc\n",
      "geoloc\n",
      "geoloc\n",
      "geoloc\n",
      "geoloc\n",
      "geoloc\n",
      "geoloc\n",
      "industry\n",
      "geoloc\n",
      "geoloc\n",
      "geoloc\n",
      "geoloc\n",
      "geoloc\n",
      "geoloc\n",
      "geoloc\n",
      "geoloc\n",
      "geoloc\n",
      "geoloc\n",
      "geoloc\n",
      "geoloc\n",
      "geoloc\n",
      "geoloc\n",
      "geoloc\n",
      "geoloc\n",
      "geoloc\n",
      "defaultdict(<class 'int'>, {'Wish': 1, 'Autodesk': 1, 'Moebius Solutions, Inc.': 3, 'University of California, Los Angeles': 1, 'Amazon': 87, 'Eureka By SAP S/4HANA': 1, 'YouTube': 1, 'Microsoft': 21, 'CliniComp, Intl.': 1, 'ICPC Lab of Zhejiang University City Colleage': 1, 'Zocdoc': 1, 'SAP': 1, 'University of California San Diego': 54, 'UCSD': 4, 'Facebook': 26, 'PlayStation': 1, 'Tencent': 8, 'Expedia Group': 2, 'Alibaba Group': 2, 'Google': 41, 'Yelp': 2, 'iTradeNetwork, Inc.': 1, 'Skyoo LLC': 1, '北京思图场景数据科技服务有限公司': 1, 'Amazon Web Services': 7, 'Hulu': 3, 'Underworld Productions': 1, 'Teradata': 8, '谷歌': 4, 'YAMAHA MUSIC': 1, 'Salesforce': 10, 'Intuit': 4, 'UC San Diego Academic Jobs': 1, 'Tucodec': 1, 'AppFolio, Inc.': 4, 'University of Wollongong': 1, 'Amazon Web Services (AWS)': 18, 'Bloomberg LP': 2, 'SAS': 1, 'Pony.ai': 4, 'Sansay': 1, 'Strong Technology': 1, 'American Express': 3, 'TuSimple': 19, 'CardConnect': 1, 'Qualcomm Institute - UCSD Division of Calit2': 4, 'Northrop Grumman': 1, 'University of California, San Diego - Jacobs School of Engineering': 29, 'Wuhan Gas & Heat Planning and Design Institute Co., Ltd': 1, 'Capital One': 1, 'Seismic': 1, 'Symantec': 1, 'Triton Software Engineering': 2, 'Pocket Gems': 1, 'Fortune Wealth Center': 1, 'UCSD Department of Computer Science and Engineering': 1, 'SenseTime 商汤科技': 1, 'Intel Corporation': 6, 'VeriCrypt': 1, 'Walmart Labs': 1, 'Computer Vision Lab': 1, 'Lytx, Inc.': 7, 'Morpheus Biolabs': 1, 'OPPO': 2, 'Med Data Quest': 1, 'DiDi': 2, 'YH Art Education': 1, 'System Energy Efficiency Lab - CSE Department - UC San Diego': 1, 'Whova': 5, 'Intel Software': 1, '清华大学': 2, 'UCSD Chinese Computer Community': 2, 'China Merchants Securities Co., Ltd.': 1, 'Apple': 5, 'ServiceNow': 14, 'Beijing Siemens Cerberus Electronics Ltd.': 1, 'Quantum Design': 1, 'Box': 1, 'Center for Applied Internet Data Analysis (CAIDA)': 2, 'National Taiwan University': 1, 'Momenta.ai': 1, 'UCSD CSE Department': 4, 'Kneron': 6, 'LiveRamp': 1, '美国加州大学圣地亚哥分校': 2, 'IBM': 3, 'Qualcomm': 10, 'Statistical Visual Computing Lab': 1, 'Amazon Lab126': 2, 'Verizon Wireless': 1, 'UCSD ARCLab': 1, 'Uber': 7, 'BAEBot': 1, '2Go Products LLC': 1, 'Yimian Data': 1, 'ForYoung Sports': 1, 'WeRide.ai': 1, 'The Good Face Project': 1, 'Zillow': 1, 'L3Harris Technologies': 1, 'DataHinge': 2, 'Aijia Home Furnishing Products Co., Ltd.': 1, 'LinkedIn': 5, 'AiLink Co.': 1, 'Swapsy': 1, 'Women in Computing at UCSD': 1, 'Single Particle': 1, 'Nullmax': 1, 'Xiaomi USA': 1, 'Deep Force': 1, 'Computer Science and Engineering at UC San Diego': 1, 'Synopsys Inc': 2, 'Cisco': 2, 'GoDaddy': 1, 'China Electronics Technology Group Corporation': 1, 'Segway Robotics': 1, 'Ai Master': 1, 'Visa': 1, 'Bentley Systems': 2, 'SES Networks': 1, 'San Diego Supercomputer Center': 3, 'ASML': 1, 'NiceChapter (lintcode.com & jiuzhang.com)': 1, 'Housecall Pro': 3, 'Salk Institute for Biological Studies': 1, 'University of Liverpool': 1, 'Memjet Technology': 1, 'NeuroLeap Corp': 1, '字节跳动': 1, 'Centauri': 1, 'Twitch': 1, 'SMIC': 1, '亚马逊': 2, 'Computational & Cognitive Neuroscience Lab, CogSci, UCSD': 1, 'Snap Inc.': 3, 'Horizon Robotics': 1, 'Vibely': 1, 'Perfect World Entertainment': 1, 'Deloitte': 1, 'Dassault Systèmes': 1, 'General Atomics Aeronautical Systems': 2, 'Pure Storage': 7, 'Beijing Tongtech Co,. Ltd.': 1, 'VMware': 8, 'Dhc Software Co., Ltd': 1, '腾讯': 2, '美国加州大学圣迭戈分校': 1, 'pSemi, A Murata Company': 1, 'Achieve Internet': 1, 'University of California, San Diego - School of Medicine': 2, 'Accenture': 1, 'Midea Group (Fortune Global 500 Company)': 1, 'Forkaia': 2, 'American Specialty Health': 1, 'Opendoor': 1, 'Dropbox': 2, 'Harvesthru': 1, 'Informatica': 1, 'SenseTime Group Limited': 1, 'UC San Diego Computer Science and Engineering Department (CSE)': 1, 'GrantPA': 1, 'Intelligent Software Engineering Laboratory': 1, 'China General Chamber of Commerce - USA': 1, '亚马逊网': 1, '力扣（LeetCode）': 1, 'Tsinghua Tongfang': 1, 'Private Tutoring Work': 1, 'BaySand Inc.': 1, 'TuSimple LLC': 1, 'The Goodface Project': 1, 'Bioprober Corporation': 1, 'Arista Networks': 2, 'Tezign 特赞': 1, 'Certona': 1, 'Smart Wheelchair at UCSD': 1, 'Webroot': 1, 'MediaTek': 2, 'BD': 1, 'China Life Asset Management Company': 1, 'National Chiao Tung University': 1, '英特尔': 1, 'Pensando Systems': 1, 'BiAffect': 3, 'Bagelcode': 1, 'Pure Technologies': 1, 'Experian DataLabs': 1, 'L3 Interstate Electronics Corporation': 1, '中国银行': 1, 'Yahoo': 2, '衍盛中国': 1, \"Macy's Technology\": 1, 'LaunchIt': 3, 'General Atomics': 1, 'Audible, Inc.': 1, 'Workday': 4, 'Havas Edge': 1, 'University of Cincinnati': 1, 'Center for Microbiome Innovation at UC San Diego': 2, 'Univeristy of  Delaware': 1, 'Aqrose': 1, 'Information Technique Dept. Bank of China': 1, 'Ometa Labs': 1, 'MobilityWare': 1, 'paq LLC': 1, 'TripAdvisor': 1, 'MEGVII旷视': 1, 'Self-employed': 1, 'Snowflake': 1, 'Shutterfly, Inc.': 1, 'Tusimple': 1, 'UCSD Machine Learning, Perception, and Cognition Lab': 1, '依图科技': 1, 'JD.COM': 2, 'Chinese Engineering Society ': 1, '南京大学': 1, 'Piper Networks': 1, 'Beijing MinSi Science and Technology LTd': 1, 'Dexcom ': 1, 'Mentor Graphics': 1, 'Fujian Newland Software Engineering Co., Ltd.': 1, 'HP': 2, 'CSBio': 1, 'Tandem Diabetes Care': 1, 'Bloom Energy': 1, 'Changjiang Securities Co., Ltd': 1, 'Industrial Technology Research Institute (ITRI)(工業技術研究院, 工研院)': 1, 'Oriza Fofs': 1, 'Soochow University': 1, 'University of Massachusetts Medical School': 1, 'PushAuto': 1, 'Product Space': 2, 'Lumnus Consulting': 1, 'Seeking Alpha': 1, 'San Diego Unified School District': 1, 'Varfaj Partners': 1, 'PetDesk': 1, 'eBATTERY': 1, 'Huawei': 1, 'UC San Diego Health': 1, 'Brain Corp': 2, 'Shift Technologies, Inc.': 1, '中国银河证券': 1, 'SAP SuccessFactors': 1, '阿里巴巴': 2, 'UCSD Computer Science and Engineering Department': 1, 'JT Asset Management': 1, 'Versa Inc.': 1, 'Shanghai Hengqi Education Training Co Ltd': 1, 'Singapore University of Technology and Design (SUTD)': 1, 'Ezoic': 1, 'Kwai Inc.': 1, 'QueUp': 1, 'Oracle': 2, 'Verily Life Sciences': 1, 'Verizon Media': 1, 'Beijing Thunisoft Corporation Limited': 1, 'AL International Education Center': 1, 'ByteDance Inc.': 1, 'Sohu.Com Inc.': 1, 'Shanghai LinkSure Network Technology Co., Ltd.（WiFi Master Key）': 1, 'Dexcom': 1, 'Don Cleveland Lab': 1, 'Laserfiche': 2, 'Asian Infrastructure Investment Bank': 1, 'Lucid Fusion': 1, 'Boston Consulting Group (BCG)': 1, 'Muslim Women in Tech': 1, 'Anhui USTC iFLYTEK Co': 1, 'Texas Instruments': 1, 'Electrical and Computer Engineering Department, UC San Diego': 1, 'Huawei, Hisilicon': 1, 'GAC R&D Center Silicon Valley': 1, 'AWM Smart Shelf': 1, 'Essential': 1, 'CITIC Securities Company Limited': 1, 'Ad-Juster, Inc.': 1, 'Nanome Inc.': 3, 'TRITON FUNDS LLC': 1, 'Oath': 1, '美國加州大學聖地牙哥分校': 1, 'InMotion USA': 1, 'University of California, Berkeley': 1, 'group project': 1, 'Hookit | Sponsorship Analytics & Valuation': 1, 'UCSD Design Lab': 2, 'UCSD Advanced Robotics and Controls Lab': 1, 'China Everbright Technology': 1, 'MadCap Software, Inc.': 1, 'Triton Engineering Student Council (TESC)': 1, 'Databricks': 1, 'UCLA Henry Samueli School of Engineering and Applied Science': 1, 'Stanford University': 1, 'Altum': 1, 'BioDuro': 1, 'Tsinghua University': 1, 'Tsunami XR': 1, 'UC San Diego CSE Department': 1, 'Nokia Bell Labs': 1, 'StepStone Group': 1, 'State Key Lab of CAD & CG, Zhejiang Unviersity': 1, 'Stockwell ': 1, 'Google Summer of Code': 1, 'Institute of Computing Technology, Chinese Academy of Sciences': 1, 'ResMed': 2, 'Jingoal Inc': 1, 'San Diego Labsandmore': 1, 'University of California, San Diego': 1, 'Halıcıoğlu Data Science Institute, UC San Diego': 2, '日月光集團': 1, 'University of Illinois at Urbana-Champaign': 2, 'GraphPad': 1, 'snapIoT': 1, 'Huatai Security Ltd.': 1, 'Airbnb': 1, 'Agora.io': 1, 'Princeton University': 1, 'MyCase': 1, 'Scripps Institution of Oceanography': 1, 'VectorZero': 1, 'HJX (shenzhen) Investment Co., Ltd.': 1, 'Veeva Systems': 1, 'UC San Diego Extension': 1, 'Raken': 1, 'Schneider Electric': 1, 'Zhao Yunde‘s lab': 1, 'Juvo': 1, 'Professor Curt Schurgers': 1, 'UC San Diego Thurgood Marshall College Student Council': 1, 'InGenius Inc.': 1, 'Marcus & Millichap': 1, 'Advanced Webhosting': 1, 'MongoDB': 1, 'State Grid Corporation of China': 1, 'UC San Diego Natural Language Processing Lab': 1, 'LUFAX Co., Ltd, Associate Of China Ping An Group': 1, 'Aspire Team': 1, 'ThoughtSTEM': 1, 'Three Wire Systems': 1, 'Cymer': 1, 'FICO®': 1, 'Fresh Brewed Tech': 1, 'Foodla AB': 1, 'Goldman Sachs': 1, 'Hikvision': 1, 'Illumina': 1, 'Alhambra Unified School District': 1, 'BitUniverse': 1, 'Indeed.com': 1, 'Shepherd Ventures': 2, 'Wuhan Magicision Intelligent Technology co., Ltd': 1, 'University of Colorado Boulder': 1, '京东': 1, 'Cognomotiv': 1, 'ByteDance': 1, 'CR Medicon': 1, 'San Diego Super Computer Ctr': 1, 'mlPC Lab, Department of Cognitive Science, UCSD': 1, 'Overleaf (Writelatex Limited)': 1, 'Instagram': 1, 'Daasity': 1, 'University of Southampton': 1, 'Ignidus Technology, Inc.': 1, 'PlayStation Network': 1, 'Simon Fraser University': 1, 'MAIVEN.AI (Neocortex Ventures)': 1, 'Zhejiang Guozi Robotics Co., Ltd': 1, 'Kitu Systems, Inc.': 1, 'Locbit': 1, 'Sojern': 1, 'NewDo Venture': 1})\n",
      "defaultdict(<class 'int'>, {('San Diego County', ' California'): 725, ('Sunnyvale', ' California'): 5, ('San Francisco', ' California'): 5, ('Seattle', ' Washington'): 17, ('Redmond', ' Washington'): 1, ('Palo Alto', ' California'): 4, ('DuPage County', ' Illinois'): 1, ('Mountain View', ' California'): 6, ('San Jose', ' California'): 1, ('Chula Vista', ' California'): 1, ('Pittsburgh', ' Pennsylvania'): 4, ('Los Angeles', ' California'): 3, ('Morgan Hill', ' California'): 1, ('Bellevue', ' Washington'): 2, ('Castro Valley', ' California'): 1, ('Richardson', ' Texas'): 1, ('Irvine', ' California'): 1, ('Cupertino', ' California'): 1, ('El Cajon', ' California'): 2, ('Trabuco Canyon', ' California'): 1, ('New York', ' New York'): 2, ('Santa Clara', ' California'): 1, ('Orange County', ' California'): 3, ('Corona', ' California'): 1, ('Carlsbad', ' California'): 1, ('Stanford', ' California'): 1, ('Milpitas', ' California'): 1, ('Princeton', ' New Jersey'): 1, ('Walnut', ' California'): 1, ('Berlin', ' Berlin'): 1, ('Encinitas', ' California'): 1, ('Minneapolis', ' Minnesota'): 1, ('Fremont', ' California'): 1, ('La Puente', ' California'): 1})\n",
      "defaultdict(<class 'int'>, {'Computer Software': 608, 'Internet': 108, 'Higher Education': 17, 'Management Consulting': 3, 'Information Technology & Services': 31, 'Financial Services': 12, 'Marketing & Advertising': 2, 'Semiconductors': 3, 'Investment Management': 1, 'Consumer Electronics': 1, 'Computer Hardware': 5, 'Research': 13, 'Investment Banking/Venture': 1, 'Computer Networking': 7, 'Electrical & Electronic Manufacturing': 8, 'Computer & Network Security': 3, 'Venture Capital': 5, 'Wireless': 2, 'Biotechnology': 5, 'Chemicals': 1, 'Banking': 1, 'Program Development': 2, 'Pharmaceuticals': 1, 'Medical Device': 1, 'Computer Games': 1, 'Online Publishing': 1, 'Mechanical or Industrial Engineering': 2, 'Education Management': 1, 'Telecommunications': 1})\n",
      "defaultdict(<class 'int'>, {'c/c++': 1021, 'python (programming language)': 191, 'artificial intelligence (ai)': 27, 'deep learning': 81, 'mongodb': 85, 'airflow': 1, 'r': 101, 'python': 562, 'java': 656, 'javascript': 383, 'software development': 158, 'data analysis': 173, 'bash': 32, 'latex': 91, 'html5': 47, 'css': 146, 'jquery': 65, 'go': 20, 'arm assembly': 24, 'sql': 304, 'databases': 41, 'html': 306, 'javaserver pages (jsp)': 6, 'object oriented design': 21, 'parallel programming': 3, 'software engineering': 18, 'angularjs': 38, 'eclipse': 36, 'sony vegas': 2, 'webstorm': 1, 'matlab': 320, 'cascading style sheets (css)': 97, 'agile methodologies': 36, 'machine learning': 252, 'django': 48, 'linux': 259, 'bootstrap': 55, 'pytorch': 55, 'tensorflow': 82, 'scala': 21, 'apache spark': 43, 'computer security': 3, 'information security': 2, 'distributed systems': 30, 'network security': 1, 'android development': 56, 'penetration testing': 1, 'web development': 96, 'web applications': 16, 'game development': 6, 'artificial intelligence': 19, 'operating systems': 28, 'mysql': 178, 'hadoop': 46, 'json': 19, 'representational state transfer (rest)': 5, 'node.js': 134, 'kali linux': 1, 'restful architecture': 1, 'information security engineering': 1, 'bitcoin': 1, 'socket programming': 3, 'software engineering practices': 1, 'blockchains': 1, 'golang': 8, 'computer architecture': 13, 'computer hardware': 6, 'computer networking': 6, 'algorithms': 131, 'computer science': 68, 'computer programming': 1, 'c#': 95, 'research': 153, 'keras': 31, 'artificial neural networks': 7, 'large-scale data analysis': 1, 'react.js': 113, 'c (programming language)': 69, 'front-end development': 18, 'image processing': 23, 'network': 1, '软件开发': 5, 'design': 4, 'relational databases': 4, 'programming languages': 6, 'distributed applications': 6, 'data structures': 96, 'leadership': 146, 'computer vision': 70, 'ibm db2': 1, 'labview': 9, 'perl': 11, 'vhdl': 15, 'verilog': 45, 'arduino': 23, 'git': 185, 'ruby': 23, 'cadence virtuoso': 5, 'modelsim': 3, 'altera quartus': 4, 'php': 53, 'laravel': 2, 'vim': 32, 'i3': 1, 'redis': 16, 'back-end web development': 17, 'logo design': 1, 'user interface design': 12, 'graphic design': 6, 'web design': 11, 'photoshop': 21, 'illustrator': 2, 'unity3d': 18, 'redux.js': 21, 'amazon aurora': 2, 'user experience (ux)': 7, 'programming': 118, 'microcontrollers': 4, 'big data': 24, 'powerpoint': 41, 'microsoft word': 114, 'microsoft office': 238, 'microsoft excel': 159, '.net framework': 11, 'android': 39, 'amazon web services (aws)': 70, 'xgboost': 4, 'database management system (dbms)': 2, 'microprocessors': 1, 'numpy': 20, 'data science': 44, 'guice': 4, 'scikit-learn': 20, 'data': 3, 'public s': 1, 'haskell': 22, 'ocaml': 32, 'prolog': 14, 'coq': 1, 'compilers': 5, 'functional programming': 2, 'object-oriented programming (oop)': 44, 'public speaking': 99, 'theory of computation': 1, 'communication': 27, 'teamwork': 80, 'postgresql': 34, 'android studio': 35, 'raml': 1, 'rest api': 6, 'intellij idea': 10, 'microsoft powerpoint': 78, 'social media': 31, '算法': 5, '程序设计': 3, '写作': 1, 'xml': 27, 'aws': 8, '软件设计': 1, 'software design patterns': 6, 'shell scripting': 31, 'swift': 38, 'objective-c': 12, 'spring framework': 32, 'spring mvc': 21, 'struts': 2, 'hibernate': 14, 'openssl': 1, 'wireshark': 1, 'iptables': 1, 'zmap': 1, 'project management': 58, 'community outreach': 3, 'unix': 62, 'software engineers': 5, 'statistical data analysis': 13, 'critical thinking': 7, 'easily adaptable': 3, 'self-directed learning': 2, '机器学习': 4, '数据分析': 5, '研究': 4, 'assembly language': 35, 'javaserver pages standard tag library (jstl)': 1, 'data mining': 46, 'algorithm development': 3, 'academic writing': 2, 'scrum': 14, 'product design': 2, 'wireframing': 3, 'market research': 7, 'data entry': 2, 'editing': 5, 'social media marketing': 5, 'creative writing': 2, 'windows': 27, 'facebook': 2, 'youtube': 1, 'fundraising': 4, 'logical thinker': 1, 'social networking': 4, 'learning quickly': 1, 'pyspark': 8, 'dsp': 2, 'system design': 1, '网页程式设计': 1, 'docker': 45, 'algorithm': 6, 'data network': 1, 'restful 架构': 1, 'kotlin': 6, 'audio signal processing': 1, 'psychoacoustics': 1, 'digital signal processing': 4, 'angular': 16, 'spring boot': 23, 'flask': 22, 'express.js': 27, 'tomcat': 7, 'jenkins': 11, 'github': 23, 'continuous integration': 7, 'restful webservices': 20, 'test driven development': 2, '.net': 4, 'swift (programming language)': 9, 'mockito': 8, 'junit': 16, 'a/b testing': 7, 'multithreading': 1, 'queueing': 1, 'messaging': 1, 'teaching': 24, 'team leadership': 25, 'sparc assembly': 4, 'firebase': 29, 'econometrics': 5, 'computer graphics': 5, 'spark': 26, 'llvm': 6, 'agile application development': 5, 'selenium': 6, 'ruby on rails': 19, 'sas': 7, 'drinking boba': 1, 'agile': 8, 'english': 34, 'pascal': 3, 'opencv': 41, 'debugging': 9, 'student outreach': 1, 'quality assurance': 2, 'financial accounting': 3, 'meteor': 2, 'apache cordova': 1, 'natural language processing (nlp)': 15, 'video codec': 1, 'customer service': 53, '4g/lte': 1, 'hevc/h.265': 1, 'unix/linux': 3, 'visual studio': 20, 'internet protocol suite (tcp/ip)': 4, 'ios development': 22, 'blockchain': 2, 'ethereum': 1, 'open street maps': 1, 'react': 21, 'celery': 1, 'redux': 9, 'heroku': 5, 'd3': 1, 'jira': 12, 'webpack': 2, 'gunicore': 1, 'nginx': 6, 'json web token (jwt)': 2, 'hip hop': 1, 'java ': 3, 'caffe': 14, 'data analytics': 10, 'full-stack development': 12, 'nosql': 12, 'google cloud platform': 1, 'vue.js': 10, 'three.js': 3, 'pandas': 7, 'nodejs': 3, 'product management': 9, 'characterization': 1, 'materials science': 1, 'physics': 3, 'solidworks': 16, 'originlab': 5, 'x-ray diffraction analysis': 2, 'scanning electron microscope': 1, 'fluorescence spectrometer': 1, 'opengl': 18, 'sparc': 11, 'natural language processing': 16, 'html scripting': 2, 'server side programming': 2, 'user interface programming': 1, 'cloud computing': 14, 'microsoft sql server': 12, 'bluespec': 2, 'augular': 1, 'outlook': 5, 'photography': 5, 'nonprofits': 3, 'event planning': 18, 'public relations': 1, 'asp.net mvc framework': 2, 'unit testing': 10, 'system integration testing': 1, 'full stack': 1, 'testng': 1, 'dagger': 2, 'jackson': 1, 'maven': 7, 'thymeleaf': 1, 'mathematics': 21, 'tutoring': 10, 'calculus': 3, 'vector calculus': 1, 'linear algebra': 9, 'scratch': 1, 'r 语言': 3, 'node': 5, 'digital image processing': 2, 'operations research': 1, 'accounting': 1, 'business strategy': 5, 'finance': 5, 'spss': 6, 'management': 43, 'problem solving': 16, 'written communication': 3, 'business analysis': 5, 'presentations': 4, 'sales': 3, 'workday': 1, 'analytical skills': 9, 'operations management': 2, 'stata': 17, 'customer relationship management (crm)': 3, 'python3': 1, 'posix': 1, 'unity (游戏引擎)': 2, 'markdown': 2, 'elasticsearch': 10, 'mxnet': 3, 'pyqt': 3, 'visual basic': 3, 'jupyter notebook': 2, 'r studio': 1, 'mapreduce': 13, 'lua': 2, 'network programming': 1, 'multithreaded development': 1, 'microservices': 9, 'kubernetes': 14, 'jaeger': 1, 'fpga': 6, 'automation': 2, 'control systems design': 1, 'statistical modeling': 13, 'numerical analysis': 5, 'simulations': 4, 'mandarin': 5, 'ni labview': 2, 'autonomous vehicles': 4, 'point clouds': 1, 'internet information services (iis)': 1, 'powershell': 2, 'spanish': 2, 'chinese': 15, 'nsis': 1, 'msbuild': 1, 'violin': 1, 'nuget': 1, 'convolutional neural networks (cnn)': 4, 'testing': 11, 'japanese': 5, 'hive': 12, 'splunk': 3, 'pipeline development': 1, 'molecular biology': 6, 'biotechnology': 2, 'cell biology': 2, 'statistics': 33, 'data processing': 2, 'ngs': 1, 'rnaseq': 2, 'pipeline construction': 1, 'bioinformatics': 6, 'visual basic for applications (vba)': 6, 'retail': 1, 'recommender systems': 20, 'tableau': 36, 'google analytics': 6, 'customer analysis': 4, 'microsoft azure machine learning': 1, 'r shiny': 2, 'data visualization': 24, 'retail sales analysis': 1, 'predictive analytics': 5, 'kpi dashboards': 2, 'vba': 1, 'web scraping': 7, 'script': 1, 'quantitative analytics': 5, 'quantitative research': 2, 'marketing strategy': 4, 'python 3': 1, 'neural networks': 14, 'optimization theory': 1, 'html5 & css3': 1, 'jdbc': 3, 'javafx': 2, 'servlet': 1, 'tomcat 8': 1, 'cuda': 11, 'theano': 5, 'shell': 5, 'altas': 1, 'blas': 1, 'mpi': 3, 'marketing': 13, 'human resources': 1, 'recruiting': 3, 'business development': 3, 'software design': 10, 'writing': 5, 'coaching': 1, 'text-to-speech': 1, 'speech recognition': 2, 'linkedin': 4, 'pycharm': 2, 'clion': 1, 'google api': 1, 'android 开发': 1, 'lightgbm': 1, 'feature engineering': 4, 'long short-term memory (lstm)': 1, 'pruning': 1, 'linux/unix': 2, 'operating system': 2, 'jsp': 8, 'ajax': 22, 'electronics': 4, 'electrical engineering': 7, 'mybatis': 7, 'extract, transform, load (etl)': 3, 'database design': 1, 'netbeans': 3, 'soapui': 1, 'swagger': 1, 'visual studio code': 1, 'ant design': 2, 'hystrix': 1, 'back-end development': 2, 'assistant teaching': 1, 'mocha chai': 1, 'parallel computing': 5, 'pandas (software)': 9, 'pyramid': 1, 'stddraw': 1, 'sqlite': 12, 'xcode': 11, 'sql express': 1, 'apple numbers': 1, 'bioinfomatics': 1, 'biostatistics': 2, 'neuroscience': 1, 'immunology': 1, 'epidemiology': 1, 'graph mining': 1, 'computational biology': 2, 'unity': 19, 'virtual reality (vr)': 2, 'collaborative problem solving': 4, 'computer network': 1, 'javascript(es6+)': 1, 'html/css': 5, 'typescript': 10, 'self learning': 2, 'amazon s3': 6, 'aws lambda': 7, 'amazon sqs': 4, 'amazon simple notification service (sns)': 1, 'rabbitmq': 3, 'aws cloudformation': 3, 'amazon cloudwatch': 1, 'amazon api gateway': 1, 'web services': 6, 'data a': 1, 'web': 2, 'machi': 1, 'solution architecture': 1, 'applica': 1, 'human resources (hr)': 1, 'strategic planning': 16, 'project planning': 5, 'organization skills': 2, 'mikecrm': 1, 'bloomberg terminal': 2, 'microsoft access': 3, 'biochemistry': 4, 'spectroscopy': 1, 'organic synthesis': 1, 'nuclear magnetic resonance (nmr)': 1, 'uv/vis spectroscopy': 1, 'organic chemistry': 2, 'analytical chemistry': 2, 'catalysis': 1, 'chemdraw': 1, 'gc-ms': 1, 'esi-ms': 1, 'x-ray crystallography': 1, 'inorganic chemistry': 1, 'medicinal chemistry': 1, 'physical chemistry': 1, 'organometallic chemistry': 1, 'ir spectroscopy': 1, 'column chromatography': 1, 'scientific presentation': 1, 'thin-layer chromatography (tlc)': 1, 'adobe photoshop': 29, 'digital photography': 3, 'non-governmental organizations (ngos)': 1, 'lightroom': 2, 'adobe premiere pro': 5, 'lisp': 1, 'android testing': 1, 'android sdk': 4, 'android design': 1, 'agile & waterfall methodologies': 6, 'nlu': 1, 'integration testing': 1, 'scripting': 2, 'algorithm design': 14, 'telecommunications': 1, 'mathematica': 4, 'mathematical modeling': 6, 'ui design': 1, 'wordpress': 5, 'opengl shading language (glsl)': 3, 'backend engineering': 1, 'mobile application development': 6, 'database systems': 2, 'marketing materials': 1, 'team building': 6, 'react native': 20, 'flutter': 3, 'arm architecture': 7, 'basic': 1, 'jsx': 1, 'csharp': 1, 'express': 5, 'qt': 12, 'wxwidgets': 2, 'macroeconomics': 4, 'java database connectivity (jdbc)': 4, 'microeconomics': 3, 'atom': 2, 'game theory': 3, 'data access object (dao)': 1, 'code review': 1, 'drupal': 1, 'apache kafka': 8, 'machine learning algorithms': 3, 'adobe audition': 1, 'perforce 软件': 1, 'spring security': 4, 'xamarin': 1, 'tcl': 5, 'digital electronics': 1, 'analog circuits': 3, 'autocad': 5, 'mips assembly': 5, 'web framework': 1, 'bluetooth': 1, 'backbone.js': 3, 'perl script': 1, 'arm': 6, 'embedded software': 4, 'budgets': 1, 'negotiation': 2, 'beans': 1, 'pcr': 2, 'yaml': 1, 'matplotlib': 5, 'click': 1, 'ionic framework': 2, 'openstack': 3, 'red hat linux': 1, 'computer-aided design (cad)': 3, 'robotics': 10, 'electric motors': 1, 'manufacturing': 1, 'finite element analysis (fea)': 2, 'technical support': 2, 'database': 3, 'asp.net': 5, 'x86 assembly': 6, 'information technology': 6, 'api development': 3, 'bayesian inference': 2, 'start-ups': 2, 'neo4j': 6, 'analytics': 7, 'probability': 4, 'raspberry pi': 7, 'embedded systems': 10, 'java, c++, python, javascript, go': 1, 'pandas numpy and skilearn': 1, 'd3.js': 12, 'full web development stack(php, html, css, js, xml, xquery)': 1, 'financial analysis': 10, 'valuation': 1, 'excel vba': 3, 'presentation skills': 5, 'information processing': 1, 'quantative analysis': 1, 'quantitative models': 1, 'written expression': 1, 'sklearn': 3, 'web crawling': 5, 'cfa level iii candidate': 1, 'flume': 1, 'pipeline': 1, 'service': 1, 'selenium webdriver': 2, 'compiler': 2, 'aws ': 1, 'j2ee web services': 1, 'virtual reality': 5, 'axure rp': 4, 'user experience design': 1, 'human computer interaction': 3, 'indesign': 1, 'model united nations': 1, 'computer literacy': 1, 'scipy': 6, 'spices': 1, 'multisim': 2, 'quartus': 1, 'vcs': 1, 'astro': 1, 'dc': 1, 'primetime': 1, 'ads': 1, 'verilog-a': 1, 'asic': 2, 'aws command line interface (cli)': 1, 'applied machine learning': 1, 'jest': 3, 'product presentation': 1, 'software engineer': 1, 'javascript libraries': 1, 'micro': 1, 'software testing': 5, 'python 3.5': 1, 'rust (programming language)': 1, 'business analytics': 7, 'internal control': 1, 'radiant': 2, 'qgis': 1, 'team coordination': 1, 'software security': 1, 'debugging code': 1, 'rust': 2, 'server administration': 1, '计算机视觉': 2, 'reinforcement learning': 10, 'image recognition': 1, 'microcontroller': 1, 'analog signal processing': 1, 'openai': 2, 'image inpainting': 1, 'deep neural network': 1, 'support vector machine (svm)': 3, 'deep q learning': 1, 'ddpg': 1, 'policy gradient': 1, 'slam': 6, 'onnx': 1, 'image signal processing': 1, 'halide': 1, 'chinese translation': 1, 'engineering': 6, ' algorithms ': 1, 'keil': 1, 'ni multisim 软件': 1, 'altium designer': 3, 'modelsim 软件': 1, 'vivado': 1, 'sublime text': 3, 'full stack web development': 1, 'front-end design': 2, 'mean stack': 4, 'xilinx ise': 2, 'orcad': 1, '社交媒体': 1, '活动策划': 2, '项目管理': 2, '团队合作': 1, 'software project management': 1, 'apache': 4, 'team management': 4, 'software industry': 1, 'datatables': 1, 'valgrind': 4, 'salesforce.com': 1, 'aws s3': 1, 'steamvr': 1, 'oculus': 1, 'java swing': 1, 'knockoutjs': 1, 'google fit api': 1, 'firebase cloud firestore': 1, 'expresso': 1, 'robolectric': 1, 'zenhub': 1, 'gitlab': 1, 'circleci': 1, 'object mocking': 1, 'ui automation': 2, 'dependency injection': 1, 'design by contract': 1, 'jpa': 3, 'cypher query language': 1, 'printed circuit board (pcb) design': 1, 'autocad mechanical': 1, 'mechanical product design': 1, 'adobe illustrator': 5, 'oo software development': 1, 'algorithm analysis': 4, 'gdb': 4, 'graphql': 6, 'after effects': 1, 'animation': 1, 'selenium 测试': 1, '亚马逊网络服务系统 (aws)': 3, 'spring': 3, 'rdmbs': 1, 'rally': 1, 'html/css/js': 1, 'electron': 1, 'algorithm optimization': 1, 'systemverilog': 8, 'kaggle': 1, 'jupyter': 4, 'laboratory skills': 2, 'troubleshooting': 5, 'os x': 4, 'mac os': 2, 'qbasic': 1, 'vpython': 1, 'ssh': 1, 'logic design': 1, 'core java': 3, 'oop': 3, 'scalability': 3, 'genetic algorithms': 2, 'openmp': 3, 'creative problem solving': 3, 'team motivation': 1, 'priority management': 1, 'business innovation': 1, 'resource efficiency': 1, 'test automation': 4, 'ios': 5, 'text mining': 2, 'key performance indicators': 1, 'data modeling': 4, 'statistical modelling': 1, 'probabilistic models': 1, 'qlikview development': 1, 'data quality': 1, 'probabilistic modelling': 1, 'diango': 1, 'interaction design': 1, 'rapid prototyping': 2, 'websocket': 1, 'ux research': 2, 'fortran': 1, 'data cleaning': 4, 'cpp': 1, 'falsk': 1, 'scrapy': 2, 'applied mathematics': 2, 'multi-tasking': 1, 'self-study': 1, 'time management': 9, 'maple': 1, 'external audit': 1, 'sass': 1, '后端开发': 1, '统计数据分析': 1, 'probability theory': 1, 'software documentation': 2, 'technical documentation': 2, 'terraform': 1, 'amazon dynamodb': 6, 'infrastructure as code': 1, 'web application development': 2, 'google app engine': 3, 'aws codepipeline': 1, 'aws codebuild': 1, 'software architectural design': 1, 'social network analysis': 2, 'affective computing': 1, 'signal processing': 12, 'bayesian methods': 1, 'security': 2, 'passion': 1, 'philosophy & literature': 1, 'psychology analysis': 1, 'ros': 5, 'stm32': 2, 'data management': 2, 'back-end operations': 1, 'mobile product development': 1, 'coding experience': 2, 'web standards': 1, 'cef': 1, 'soft renderer': 1, 'task driven': 1, 'microsoft azure': 7, 'google cloud platform (gcp)': 8, 'strtuts': 1, 'codesys': 1, 'code composer studio': 1, 'circuit design': 3, 'speech': 1, 'freescale': 1, 'distributed system': 1, '分布式系统': 2, '电气工程': 2, '现场可编程逻辑门阵列': 1, 'powerbuilder': 1, 'gnu debugger': 1, 'play framework': 3, 'rubymine': 2, 'sqlalchemy': 2, 'computer systems': 1, 'agile software development': 1, 'cassandra': 4, 'raft': 1, 'hdfs': 2, 'training': 4, 'mobile applications': 5, 'design patterns': 5, 'easymock': 1, 'amazon ec2': 6, 'amazon ses': 1, 'bluespec verilog': 1, 'risc-v': 1, 'lambda expressions': 1, 'oracle sql developer': 4, 'computing theory': 1, 'vi': 1, 'gnu make': 1, 'arm 架构': 1, 'secure shell': 1, 'gnu/linux': 2, 'slam (simultaneous localization and mapping)': 1, 'arduino ide': 2, 'robot operating system (ros)': 3, 'creo parametric': 2, 'my batis': 1, 'rpc': 1, 'microsoft visual studio c++': 3, 'blender': 2, 'figma (software)': 1, 'sketch': 1, 'system testing': 2, 'front-end engineering': 2, 'agile web development': 2, 'less': 2, 'exploratory data analysis': 2, 'amazon ebs': 1, 'software': 3, '计算机科学': 1, 'competitive programming': 1, 'nesc': 1, 'visual analytics': 1, 'vlsi': 2, 'semiconductors': 1, 'eda': 3, 'strategic partnerships': 1, 'mergers': 1, 'product development': 5, 'executive management': 1, 'soc': 1, 'hardware': 2, 'sales management': 1, 'new business development': 1, 'international development': 1, 'mixed signal': 1, 'go-to-market strategy': 2, 'mergers & acquisitions': 1, 'consumer electronics': 2, 'ic': 1, 'analog': 1, 'digital signal processors': 1, 'integrated circuit design': 1, 'semiconductor industry': 1, 'lvs': 1, 'hardware architecture': 1, 'timing closure': 1, 'physical design': 1, 'cmos': 1, 'clock tree synthesis': 1, 'application-specific integrated circuits (asic)': 2, 'system on a chip (soc)': 1, 'integrated circuits (ic)': 1, 'field-programmable gate arrays (fpga)': 5, 'very-large-scale integration (vlsi)': 1, 'tex': 1, 'ibatis': 1, 'influxdb': 1, 'digital system': 1, 'networking': 10, 'python developing': 1, 'transmission control protocol (tcp)': 1, 'hypothesis testing': 3, 'internet protocol (ip)': 1, 'user experience': 5, 'gnu system building and management': 1, 'dom': 1, 'cli': 1, 'software solution architecture': 1, 'couchdb': 1, 'spirng mvn': 1, 'yarn': 1, 'ipsolve': 1, 'singing': 1, 'basketball': 1, 'guitar playing': 1, 'piano playing': 3, 'hip-hop dance': 1, 'version control': 3, 'polymorphism': 1, 'c language': 1, 'ms office suite': 1, 'monte carlo simulation': 1, '人工智能': 1, '数据挖掘': 1, '数据科学': 1, 'kubeflow': 1, 'sofrware engineering': 1, 'sentiment analysis': 3, 'microsoft project': 3, 'pantaho': 1, 'financial services': 1, 'confidentiality': 1, 'reporting & analysis': 1, 'pivot tables': 3, 'analog circuit design': 5, 'sockets': 1, 'continuous integration and continuous delivery (ci/cd)': 3, 'aws identity and access management (aws iam)': 1, 'amazon vpc': 1, 'amazon redshift': 2, 'docker products': 4, 'bootstrap 4': 1, 'css3': 2, 'javascript (es6)': 1, 'solr': 2, 'asterixdb': 2, 'nltk': 2, 'corenlp': 1, 'spacy': 1, 'asp.net core': 2, '.net core': 3, 'dart': 2, 'multithread programming ': 1, 'public key cryptography': 1, 'digital certificates': 1, 'financial markets': 1, 'linear regression': 1, 'gazebo': 1, 'libgdx': 1, 'ml': 1, 'al': 2, 'microstrategy': 1, 'polymerase chain reaction (pcr)': 1, 'lammps': 1, 'vasp': 1, 'molecular dynamics': 1, 'data engineering': 3, 'optimization': 7, 'c #': 1, 'apache hadoop': 3, 'spring cloud': 3, '自然语言处理': 1, 'cadence': 5, 'eat': 1, 'circuit': 2, 'embedded javascript (ejs)': 2, 'routing': 1, 'slack': 1, 'quantitative finance': 1, 'object detection': 4, 'financial engineering': 1, 'waterfall project management': 1, 'parse': 1, 'member of ieee': 1, 'tinyxml-2': 1, 'jquery mobile': 1, 'microsoft visual studio': 3, 'make': 2, 'qt designer': 1, 'keyboardist': 1, 'music': 1, 'gulp.js': 2, 'spring batch': 1, 'spring data': 2, 'firmware': 1, 'core data': 1, 'unreal engine 4': 1, 'data scraping': 2, 'application security': 1, 'etl tools': 2, 'economics': 3, 'time series analysis': 3, 'secure shell (ssh)': 1, 'apache zookeeper': 1, 'jmeter': 1, 'postman api': 2, 'swagger api': 1, ' jest': 1, 'npm': 3, 'elastic stack (elk)': 3, 'alibaba cloud': 2, 'eureka': 1, 'zuul api gateway': 1, '3d reconstruction': 1, 'openresty': 1, 'phantomjs': 1, 'scheme': 1, 'assembly': 1, 'pymongo': 1, 'web scrawler': 1, 'chinese&english': 1, 'diversity': 1, 'investigation': 2, 'reliability': 2, 'e-commerce': 2, 'python statistical libraries ': 1, 'wix': 1, 'design sprints': 1, 'storyboarding': 1, 'strategic roadmaps': 1, 'c++/c': 1, 'adobe lightroom': 2, 'french': 3, 'hospitality industry': 1, 'logistics management': 1, 'yoga': 1, 'pcl': 1, 'sensor fusion': 1, 'keynote': 1, 'apple pages': 1, 'adobe indesign': 1, 'hbase': 4, 'mokito': 1, 'metabolomics': 1, 'microbiome': 1, 'mass spectrometry': 1, 'music production': 1, 'logic pro': 1, 'final cut pro': 1, 'visualization': 2, 'musical directing': 1, 'etl': 4, 'modelling': 1, 'hadoop hive': 1, 'data analyze': 1, 'statistical analysis': 1, 'machine learning&deep learning': 1, 'mysq': 2, 'video post-production': 1, 'manifold learning': 1, 'software implementation': 1, 'apache pig': 1, 'oauth': 1, 'jboss application server': 1, 'javamail': 1, 'quartz': 1, 'idle': 1, 'software development life cycle (sdlc)': 3, 'process improvement': 2, 'biology': 1, 'business intelligence tools': 1, 'intelligence analysis': 1, 'interpersonal skills': 1, 'pentaho': 1, 'paper prototyping': 1, 'user interface prototyping': 1, 'ml algorithm building and optimization(gbm, neural network)': 1, 'data representation': 2, 'information extraction': 1, 'protocol buffers': 1, 'arm cortex-m': 2, 'mobile robotics': 1, 'gpu programming': 1, 'feature selection': 1, 'pattern recognition': 3, 'igor pro': 1, 'yii': 1, 'espresso': 1, 'pspice': 4, 'electromagnetics': 1, 'big data analytics': 2, 'xaml': 1, 'neuro-linguistic programming (nlp)': 2, 'path planning': 1, 'statistical learning': 1, 'posture estimation': 1, 'commercial products': 1, 'product analysis': 2, 'data manipulation': 3, 'web dev': 1, 'numpy/pandas': 1, 'internet of things': 2, 'power system/smart grid': 1, 'vlsi cad/hls': 1, 'oracle database': 3, 'pl/sql': 1, 'strategy': 3, 'digital marketing': 2, 'market analysis': 1, 'business process improvement': 1, 'powerbi': 1, 'interpreting data': 1, 'ｓｑｌ': 1, 'analytic problem solving': 1, 'marketing campaigns': 1, 'data preparation': 1, 'databricks': 1, 'management information systems (mis)': 1, 'marketing analytics': 1, 'cyber-security': 2, 'entrepreneurship': 5, 'social entrepreneurship': 1, 'software development tools': 1, 'microsoft visual studio code': 1, 'scipi': 1, 'apache zeppelin': 1, 'hadoop ecosystem': 1, 'log analysis': 1, 'spc': 1, 'chemical engineering': 1, 'process engineering': 1, 'arduino 平台': 1, 'cell culturing': 1, 'biomedical research': 1, 'nanobioelectronics fabrication (screen printing)': 1, 'aspen plus 软件': 1, 'comsol 软件': 1, 'jmp 软件': 1, 'bloomberg': 1, 'design thinking': 1, 'isa': 1, 'unsupervised learning': 2, 'supervised learning': 2, 'recurrent neural networks (rnn)': 1, 'cell phone repair': 1, 'inkscape': 3, 'eagle pcb': 3, 'app development': 1, '機器學習': 1, '軟體開發': 1, 'forth': 1, 'academic tutoring': 2, \"rubik's cube\": 2, 'marathon': 1, 'product demonstration': 1, 'cloud applications': 1, 'r programming': 1, 'financial modeling': 2, 'socket.io': 1, 'semantic ui': 3, 'json-rpc': 1, 'sql server': 1, 'j2ee application development': 1, 'multi-threaded development': 1, 'mason': 1, 'rest': 1, 'subversion': 3, 'digital circuit design': 2, 'vivado design suite': 1, 'orcad capture cis': 1, 'eaglecad': 1, 'http': 3, 'mvc': 2, 'grpc': 2, 'cookies': 1, 'web hosting': 1, 'go (programming language)': 5, 'openshift': 1, 'moq': 1, 'nunit': 1, 'information retrieval': 4, 'bootstrapjs': 1, 'webgl': 2, 'asp.net mvc': 3, 'linq': 1, 'white box testing': 1, 'webrtc': 1, 'jazz music': 1, 'competetive math': 1, 'technical analysis': 1, 'risk management': 2, 'derivatives': 2, 'alternative investments': 1, 'bonds': 1, 'trading': 1, 'econ 171': 1, 'mocha': 2, 'protractor': 2, 'htt': 1, 'https': 1, 'search engines': 2, 'quantum mechanics': 2, 'program management': 3, 'technical program management': 1, 'cross-functional team leadership': 1, 'product strategy': 1, 'adaptive leadership': 1, 'cross-functional collaborations': 1, 'cross-functional communication': 1, 'sourcetree': 1, 'product roadmap': 1, 'product vision': 1, 'product requirement definition': 1, 'user acceptance testing': 1, 'adobe after effects': 2, 'metadata': 1, 'parsing': 1, 'technical recruiting': 1, 'full-life cycle recruiting': 1, 'phone screening': 1, 'resume writing': 1, 'relationship building': 1, 'business relationship building': 1, 'interpersonal relationships': 1, 'interviewing': 1, 'interview preparation': 1, 'telephone interviewing': 1, 'mock interviews': 1, 'linkedin recruiter': 1, 'boolean searching': 1, 'job fairs': 1, 'job description development': 1, 'screening': 1, 'it recruitment': 1, 'talent management': 1, 'sourcing': 1, 'strategic sourcing': 1, 'executive search': 1, 'nanotechnology': 1, 'julia ': 1, 'compiler optimization': 1, 'linux shell': 1, 'arcgis pro': 1, 'geographic information systems (gis)': 1, 'arcgis': 1, 'bahasa indonesia': 1, 'ubuntu': 3, '领导力': 2, '团队建设': 1, 'cmocka': 1, 'microscopy': 1, 'molecular cloning': 1, 'cell culture': 1, 'fluorescence microscopy': 1, 'confocal microscopy': 1, 'protein purification': 1, 'protein expression': 1, 'western blotting': 1, 'gimp': 1, 'graphpad prism': 1, 'imagej': 1, 'flowjo': 1, 'animal behavior': 1, 'drosophila': 1, 'genetic engineering': 1, 'consolidation': 1, 'flow cytometry': 1, 'cell sorting': 1, 'lentivirus': 1, 'facs': 1, 'deep neural networks (dnn)': 1, 'rstudio': 1, 'tcp/ip': 2, 'agile method': 1, 'javacript': 1, 'hindi': 1, 'operating s': 1, 'aws sagemaker': 1, 'korean': 1, 'apis': 1, 'artifactory': 2, 'computational complexity': 1, 'education': 1, 'music performance': 1, 'data collection': 1, 'high performance computing (hpc)': 1, 'mentoring': 2, 'account management': 1, 'multimedia': 1, 'educational technology': 1, 'cluster analysis': 1, 'feedback control systems': 1, 'digital circuit': 1, 'machine vision': 3, 'gradle': 2, 'autohotkey': 1, 'client server technologies': 1, 'wireless communications systems': 1, 'satellite communications (satcom)': 1, 'terahertz communications': 1, 'personalized search': 1, 'computational advertising': 1, 'hplc': 1, 'adobe creative suite': 1, 'java web': 1, 'dockor': 1, 'reporting and documantation': 1, 'trilingual- mandarin, english and japanese': 1, 'matlab & stata': 1, 'inventory coordination': 1, 'revenue forecasting': 1, 'investment consulting': 1, 'liaison and coordination': 1, 'nlp': 1, '网页制作html，css，javascri': 1, 'sts': 1, 'centos': 2, 'excel': 4, 'product engineering': 1, 'soldering': 6, 'particle filters': 1, 'biomedical engineering': 1, 'microfluidics': 1, 'bioprinting': 1, 'windows software development': 1, 'life sciences': 1, 'science': 1, 'multivariate statistics ': 1, 'vue': 2, 'html/css/javascript': 1, 'c+': 1, 'project team management': 2, 'circuit analysis': 4, 'afm': 1, 'filmetrics': 1, 'chemical mechanical polishing': 1, 'rtl coding': 1, 'rtl design': 1, 'proficient in logic pro x, adobe premiere pro; familiar with java and c++': 1, 'distribued systems': 1, 'business intelligence': 2, 'predictive modeling': 2, 'piano performance': 1, 'ureal engine 4': 1, 'database administration': 2, 'team problem solving': 1, 'system administration': 2, 'network administration': 3, 'hive sql': 1, 'mechanical engineering': 1, 'computing': 1, 'mems': 1, 'l-edit': 1, 'biophotonics': 1, 'comsol': 3, 'vive': 1, 'graphics': 1, 'data retrieval': 1, 'gaming': 1, 'c++ language': 1, 'solid-state drive (ssd)': 1, 'process automation': 2, 'systems programming': 2, 'combinatorics': 1, 'discrete mathematics': 2, 'differential equations': 1, 'qa': 1, 'python ': 1, 'linux ': 1, 'unix ': 1, 'volunteer management': 1, 'circuits': 1, 'containerization': 1, 'computational modeling': 1, 'numerical simulation': 1, 'cantonese': 1, 'group work': 2, 'debate': 2, 'translation': 1, 'robotc': 1, '核心 java': 1, 'java 小程序': 1, 'text analytics': 1, 'academic research': 1, 'gradient boosting': 1, 'evolutionary algorithms': 1, 'fast rcnn': 1, 'keyword trend revelation': 1, 'user intention understanding': 1, 'knowledge discovery': 1, 'user research': 1, 'lamp': 1, 'phpmyadmin': 1, 'cmake': 1, 'mariadb': 2, 'owncloud': 1, 'ceph': 1, 'glusterfs': 1, 'gerrit': 1, 'octave': 2, 'deluge': 1, 'flexget': 1, 'vsftpd': 1, 'samba': 1, 'emby': 1, 'crystal reports': 1, 'selenium testing': 1, 'scss': 1, 'kibana': 1, 'cisco networking': 1, 'microsoft servers': 1, 'virtualization': 2, 'cybersecurity': 1, 'it infrastructure management': 1, 'linux server': 1, 'numerical optimization': 1, 'continuous delivery': 1, 'web analytics': 2, 'chemistry': 2, 'community service': 1, 'generic programming': 1, 'game programming': 1, 'game design': 3, 'modding': 1, 'bayesian statistics': 1, 'tensor flow': 1, 'optimizations': 1, 'genetics': 1, 'bowtie': 1, 'cufflinks': 1, 'homer': 1, 'cytoscape': 1, 'sequence alignment': 1, 'technological innovation': 1, 'multivariable calculus': 1, 'laboratory': 1, 'video production': 1, 'phylogenetics': 1, 'instructional design': 1, 'sequence analysis': 1, 'r ': 1, 'julia (programming language)': 1, 'jmp': 2, 'regression analysis': 2, 'vex robotics structure and programming': 1, 'corel videostudio pro multilingual': 1, 'openmpi': 1, 'mkl-dnn': 1, 'anaconda': 1, 'seaborn': 2, 'snowboarding': 1, 'computer engineering': 1, 'original research': 1, 'javascript extension (jsx)': 1, 'open source software': 1, 'backend': 1, 'angular material': 1, 'apache tomcat': 2, 'asynctask': 1, 'devops': 1, 'database development': 1, 'auditing': 1, 'budget control': 1, 'reporting': 1, '计算机图形': 1, '游戏编程': 1, '虚拟实境': 1, '培训': 1, '管理人员': 1, '顾客服务': 1, '公开演讲': 1, '教学': 1, 'sagemath': 1, 'xhr': 1, 'pdo': 1, 'user experience design (ued)': 1, 'dota2 professional player': 1, 'metadata management': 1, 'computer repair': 2, 'wireless networking': 1, 'software installation': 1, 'rxjava': 2, 'cognitive science': 1, 'japanese culture': 1, 'augmented reality': 1, 'peer tutoring': 2, 'servicenow': 1, 'failure analysis': 1, 'lumerical fdtd': 1, 'ultrafast spectroscopy': 1, 'design of experiments (doe)': 1, 'django/python': 1, 'virtual machine': 1, 'sdlc': 1, 'virtual environment': 1, 'cat herding': 1, 'story writing': 1, 'story telling': 1, 'pan handling': 1, 'six sigma': 1, 'customer support': 1, 'travel': 1, 'technical writing': 1, 'report writing': 1, 'proposal writing': 1, 'adobe xd': 1, 'collaborative filtering': 1, 'restorative': 1, 'qt creator': 1, 'ruby ': 1, 'es6': 1, 'american sign language': 1, 'bilingual communications': 1, 'openqa': 1, 'localization': 1, 'gameplay': 1, 'shiro': 1, 'get things done': 1, 'fast learner': 1, 'concurrent program reliability': 1, 'big data analysis': 1, 'code analysis': 1, 'analysis': 1, 'mobile devices': 1, 'rspec': 1, 'edge computing': 1, 'actionscript': 1, 'teamcity': 1, 'amazon rds': 1, 'aws gateway': 1, 'c++ ': 1, 'algorithmic trading': 1, 'real estate': 1, 'eviews': 1, 'aesthetics': 1, 'music composition': 1, 'piano': 1, 'search engine optimization (seo)': 2, 'cinematography': 1, 'erhu': 1, 'data visualisation': 1, 'amazon elastic mapreduce (emr)': 1, 'amazon elastic beanstalk': 1, 'kafka': 1, 'ar.js': 1, 'serverless computing': 1, 'pig': 1, 'android mobile development': 1, 'programming (java, c++, python)': 1, 'jade': 1, 'qa engineering': 1, 'performance testing': 1, 'agile project management': 2, 'trello': 1, 'mongoose': 1, 'jqu': 1, 'lecturing': 1, 'xilinx': 1, 'vmware': 1, 'autodesk inventor': 2, 'mathematical analysis': 1, 'mathematical physics': 1, 'sql ': 1, 'fintech': 1, 'astrophysics': 1, 'relational data modeling': 1, 'ancient philosophy': 1, 'adobe creative suite (photoshop, illustrator, sketch3)': 1, 'understanding of customer relationship management (crm) systems': 1, 'international relations': 1, 'international business': 1, 'direct mail': 1, 'azure': 1, 'panda3d': 1, 'phpstorm': 1, 'qemu': 1, 'system software': 1, 'azure service bus': 1, 'sql azure': 1, 'confluence': 1, 'insomnia': 1, 'dagger (software)': 1, 'python/pycharm': 1, 'autodesk fusion 360': 1, 'system modeling': 1, 'arduino c': 1, 'black belt in taekwondo': 1, 'affinity designer': 1, 'mac': 1, 'ansible': 2, 'spice': 1, 'synopsys tools': 1, 'synopsys primetime': 1, 'javasc': 1, 'elixir': 1, 'toefl': 1, 'ap calculus': 1, 'algebra': 1, 'sap hana': 1, 'litho': 1, 'technical leadership': 1, 'ext js': 1, 'container': 1, 'windows nano server': 1, 'ami': 2, 'matlab, simulink, python, c++11, javascript': 1, 'classic/modern control theory': 1, 'motion planning, slam, ros': 1, 'sensors': 1, 'mechanical design': 1, '3d printing': 1, 'computational fluid dynamics (cfd)': 1, 'simulink': 3, 'solidworks (autocad)': 1, 'mechatronics': 1, 'rethinkdb': 1, 'scala 语言': 1, 'bootstrapping': 1, 'cocos2d': 1, 'writer': 1, 'polymers': 1, 'medical imaging': 1, 'human anatomy': 1, 'data structure': 1, 'data visulization': 1, 'sprint': 1, 'cryptography': 1, 'network systems': 1, 'verification and validation (v&v)': 1, 'fpga prototyping': 1, 'video games': 1, 'game testing': 1, 'construct 2': 1, 'aws(ec2, emr)': 1, 'sql server express': 1, 'apsys (advanced physical models of semiconductor devices)': 1, 'silvaco': 1, 'electron beam lithography': 1, 'e-beam evaporation': 1, 'plasma etch': 1, 'photolithography': 1, 'plasma-enhanced chemical vapor deposition (pecvd)': 1, 'ellipsometry': 1, 'technology consulting': 1, 'financial statements': 1, 'portfolio management': 1, 'business planning': 1, 'pure mathematics': 1, 'windows azure pack': 1, 'web d': 1, 'lucene': 2, 'relevance': 1, 's&p capital iq': 1, 'military': 1, 'navy': 1, 'systems engineering': 2, 'organizational leadership': 1, 'convex optimization': 1, 'multilayer perceptron': 1, 'hadoop/spark': 1, 'probabilistic graphical models': 1, 'clinical data management': 1, 'tableau 智能软件': 2, 'administration': 1, 'kanban': 1, 'suse linux enterprise server (sles)': 1, 'stacki': 1, 'c programming': 1, 'jsf': 1, 'vdhl': 1, 'infrastructure': 1, 'gruntjs': 1, 'dreamweaver': 1, 'mamp': 1, 'random forest': 1, 'logistic regression': 1, '经济学': 1, 'terminal emulation': 1, 'zend framework': 1, 'consulting': 1, 'sap businessobjects': 1, 'object-oriented design': 1, 'analytical thinking': 1, 'cucumber': 1, 'adb/flashtool': 1, 'basic circuits': 1, 'multimeter': 1, 'oscilloscope': 1, 'function generator': 1, 'fourier analysis': 1, 'akka': 1, 'elementui': 1, 'travis ci': 1, 'sbt': 1, 'svrkit': 1, 'clinical trials': 1, 'survival analysis': 1, 'model-view-controller (mvc)': 1, 'gensim': 1, 'beautiful soup': 1, 'java programming ': 1, 'cobol': 1, 'visual fox pro': 1, 'qualitative research': 1, 'elementary education': 1, 'research and development (r&d)': 1, 'cad': 1, 'demand forecasting': 1, 'agile development': 1})\n"
     ]
    }
   ],
   "source": [
    "import json\n",
    "from collections import defaultdict\n",
    "\n",
    "companies = defaultdict(int)\n",
    "location = defaultdict(int)\n",
    "skills = defaultdict(int)\n",
    "industry = defaultdict(int)\n",
    "\n",
    "with open('143dataall.json','r') as f:\n",
    "    allpeople = f.readlines()\n",
    "    \n",
    "    for person in allpeople:\n",
    "        info = json.loads(person)\n",
    "        if info:\n",
    "\n",
    "            try:\n",
    "                industry[info['industryName']] += 1\n",
    "            except:\n",
    "                # printing failure reason\n",
    "                print(\"industry\")\n",
    "#                 print(info)\n",
    "#                 print()\n",
    "#                 print()\n",
    "#                 print()\n",
    "#                 print()\n",
    "\n",
    "            if info['experience']:\n",
    "                companies[info['experience'][0]['companyName']] += 1\n",
    "\n",
    "            try:\n",
    "                # split the location in city and state for furture analysis\n",
    "                # and save that into tuple\n",
    "                curPlace = info['geoLocationName']\n",
    "                city, state = curPlace.split(',')\n",
    "                found = None #indicator of whether location has found in certain format\n",
    "                for savedCity, savedState in location:\n",
    "                    if city in savedCity:\n",
    "                        found = True\n",
    "                        location[(savedCity, savedState)] += 1\n",
    "\n",
    "                if not found:\n",
    "                    location[(city,state)] += 1\n",
    "            except:\n",
    "                # printing failure reason\n",
    "                print('geoloc')\n",
    "#                 print(info)\n",
    "#                 print()\n",
    "#                 print()\n",
    "#                 print()\n",
    "#                 print()\n",
    "\n",
    "            try:\n",
    "                if info['skills']:\n",
    "                    for skill in info['skills']:\n",
    "                        if skill['name'].lower() == 'c' or skill['name'].lower() == 'c++' or skill['name'].lower() == 'c/c++' :\n",
    "                            skills['c/c++'] += 1\n",
    "                        else:\n",
    "                            skills[skill['name'].lower()] += 1\n",
    "            except:\n",
    "                print('skill')\n",
    "#                 print(info)\n",
    "#                 print()\n",
    "#                 print()\n",
    "#                 print()\n",
    "#                 print()\n",
    "print(companies)\n",
    "print(location)\n",
    "print(industry)\n",
    "print(skills)"
   ]
  },
  {
   "cell_type": "code",
   "execution_count": 2,
   "metadata": {},
   "outputs": [],
   "source": [
    "assert info"
   ]
  },
  {
   "cell_type": "code",
   "execution_count": null,
   "metadata": {},
   "outputs": [],
   "source": []
  },
  {
   "cell_type": "markdown",
   "metadata": {},
   "source": [
    "## 2. Data Visualization"
   ]
  },
  {
   "cell_type": "markdown",
   "metadata": {},
   "source": [
    "### a. Necessary methods and constant"
   ]
  },
  {
   "cell_type": "code",
   "execution_count": 39,
   "metadata": {},
   "outputs": [
    {
     "name": "stdout",
     "output_type": "stream",
     "text": [
      "minority major , minor: design, and program of concentration: perspective of social sciences   computer software\n",
      "minority major , information technology - mobility   computer software\n",
      "PoTenTial False!! ,  machine learning and data science   computer software\n",
      "PoTenTial False!! ,  computer science   higher education\n",
      "minority major , management science   management consulting\n",
      "PoTenTial False!! ,  applied mathematics   computer software\n",
      "PoTenTial False!! ,  machine learning and data science   information technology & services\n",
      "PoTenTial False!! ,  machine learning and data science   computer software\n",
      "PoTenTial False!! ,  electrical engineering   computer software\n",
      "PoTenTial False!! ,  electrical engineering   computer software\n",
      "PoTenTial False!! ,  machine learning and data science   computer software\n",
      "PoTenTial False!! ,  intelligent systems   computer software\n",
      "minority major , management science   financial services\n",
      "PoTenTial False!! ,  electrical engineering   internet\n",
      "minority major , analytics   computer software\n",
      "PoTenTial False!! ,  applied mathematics   computer software\n",
      "PoTenTial False!! ,  biochemistry and biostatistics   higher education\n",
      "PoTenTial False!! ,  computer science   marketing & advertising\n",
      "PoTenTial False!! ,  intelligent systems   computer software\n",
      "PoTenTial False!! ,  machine learning and data science   internet\n",
      "PoTenTial False!! ,  computer science   higher education\n",
      "PoTenTial False!! ,  machine learning and data science   computer software\n",
      "PoTenTial False!! ,  machine learning and data science   computer software\n",
      "minority major , analytics   financial services\n",
      "minority major , management science   investment management\n",
      "PoTenTial False!! ,  machine learning and data science   information technology & services\n",
      "PoTenTial False!! ,  electrical engineering   computer software\n",
      "PoTenTial False!! ,  intelligent systems   computer software\n",
      "PoTenTial False!! ,  computer science   consumer electronics\n",
      "PoTenTial False!! ,  electrical engineering   computer software\n",
      "PoTenTial False!! ,  electrical engineering   computer software\n",
      "PoTenTial False!! ,  machine learning and data science   internet\n",
      "PoTenTial False!! ,  machine learning and data science   computer software\n",
      "minority major , analytics   computer hardware\n",
      "minority major , cognitive science   research\n",
      "PoTenTial False!! ,  electrical engineering   computer software\n",
      "minority major , management science   investment banking/venture\n",
      "PoTenTial False!! ,  machine learning and data science   computer software\n",
      "PoTenTial False!! ,  computer science   computer networking\n",
      "PoTenTial False!! ,  electrical engineering   computer software\n",
      "minority major , management science   electrical & electronic manufacturing\n",
      "PoTenTial False!! ,  computer science   research\n",
      "PoTenTial False!! ,  applied mathematics   computer & network security\n",
      "PoTenTial False!! ,  computer science   computer networking\n",
      "PoTenTial False!! ,  computer science   financial services\n",
      "PoTenTial False!! ,  applied mathematics   research\n",
      "minority major , analytics   internet\n",
      "PoTenTial False!! ,  computer science   electrical & electronic manufacturing\n",
      "PoTenTial False!! ,  economics   information technology & services\n",
      "PoTenTial False!! ,  applied mathematics   internet\n",
      "PoTenTial False!! ,  electrical engineering   computer software\n",
      "PoTenTial False!! ,  machine learning and data science   computer software\n",
      "minority major , analytics   computer software\n",
      "PoTenTial False!! ,  computer science   electrical & electronic manufacturing\n",
      "PoTenTial False!! ,  computer science   higher education\n",
      "PoTenTial False!! ,  computer science   wireless\n",
      "PoTenTial False!! ,  computer science   computer & network security\n",
      "PoTenTial False!! ,  computer science   biotechnology\n",
      "PoTenTial False!! ,  biochemistry and biostatistics   information technology & services\n",
      "PoTenTial False!! ,  applied mathematics   computer software\n",
      "PoTenTial False!! ,  economics   information technology & services\n",
      "minority major , analytics   internet\n",
      "PoTenTial False!! ,  computer science   electrical & electronic manufacturing\n",
      "PoTenTial False!! ,  intelligent systems   computer software\n",
      "PoTenTial False!! ,  intelligent systems   computer software\n",
      "PoTenTial False!! ,  electrical engineering   chemicals\n",
      "PoTenTial False!! ,  electrical engineering   computer software\n",
      "PoTenTial False!! ,  intelligent systems   computer software\n",
      "PoTenTial False!! ,  intelligent systems   computer software\n",
      "PoTenTial False!! ,  business   computer software\n",
      "PoTenTial False!! ,  computer science   semiconductors\n",
      "minority major , analytics   information technology & services\n",
      "PoTenTial False!! ,  electrical engineering   higher education\n",
      "PoTenTial False!! ,  electrical engineering   computer software\n",
      "PoTenTial False!! ,  computer science   program development\n",
      "minority major , analytics   venture capital\n",
      "PoTenTial False!! ,  electrical engineering   higher education\n",
      "PoTenTial False!! ,  machine learning and data science   computer software\n",
      "minority major , eecs   computer software\n",
      "PoTenTial False!! ,  computer science   research\n",
      "PoTenTial False!! ,  electrical engineering   management consulting\n",
      "minority major , cybersecurity    computer & network security\n",
      "PoTenTial False!! ,  computer science   research\n",
      "minority major , management science   computer software\n",
      "minority major , political science, concentration in international relations. double minor in history and philosophy   computer software\n",
      "minority major , management science   information technology & services\n",
      "PoTenTial False!! ,  intelligent systems   computer software\n",
      "PoTenTial False!! ,  computer science   higher education\n",
      "PoTenTial False!! ,  applied mathematics   financial services\n",
      "minority major , analytics   information technology & services\n",
      "PoTenTial False!! ,  electrical engineering   higher education\n",
      "PoTenTial False!! ,  computer science   computer networking\n",
      "PoTenTial False!! ,  computer science   higher education\n",
      "PoTenTial False!! ,  computer science   pharmaceuticals\n",
      "PoTenTial False!! ,  electrical engineering   medical device\n",
      "minority major , analytics   financial services\n",
      "minority major , information technology - mobility   computer software\n",
      "PoTenTial False!! ,  electrical engineering   computer software\n",
      "PoTenTial False!! ,  electrical engineering   biotechnology\n",
      "minority major , cognitive science   computer software\n",
      "PoTenTial False!! ,  machine learning and data science   computer software\n",
      "minority major , operations research   computer software\n",
      "PoTenTial False!! ,  electrical engineering   computer games\n",
      "minority major , cognitive science   online publishing\n",
      "PoTenTial False!! ,  computer science   higher education\n",
      "PoTenTial False!! ,  machine learning and data science   internet\n",
      "PoTenTial False!! ,  computer science   program development\n",
      "PoTenTial False!! ,  biochemistry and biostatistics   internet\n",
      "PoTenTial False!! ,  computer science   computer hardware\n",
      "PoTenTial False!! ,  applied mathematics   computer software\n",
      "minority major , management science   computer software\n",
      "minority major , management science   information technology & services\n",
      "minority major , analytics   computer software\n",
      "minority major , analytics   information technology & services\n",
      "PoTenTial False!! ,  computer science   research\n",
      "minority major , information technology - mobility   computer software\n",
      "PoTenTial False!! ,  computer science   computer networking\n",
      "PoTenTial False!! ,  intelligent systems   computer software\n",
      "PoTenTial False!! ,  computer science   research\n",
      "PoTenTial False!! ,  applied mathematics   computer software\n",
      "minority major , analytics   biotechnology\n",
      "PoTenTial False!! ,  biochemistry and biostatistics   higher education\n",
      "PoTenTial False!! ,  computer science   higher education\n",
      "PoTenTial False!! ,  intelligent systems   computer software\n",
      "PoTenTial False!! ,  finance, general   biotechnology\n",
      "PoTenTial False!! ,  applied mathematics   venture capital\n",
      "PoTenTial False!! ,  machine learning and data science   computer software\n",
      "minority major , management science   computer software\n",
      "PoTenTial False!! ,  applied mathematics   computer software\n",
      "PoTenTial False!! ,  computer science   higher education\n",
      "PoTenTial False!! ,  economics   internet\n",
      "minority major , cognitive science   electrical & electronic manufacturing\n",
      "PoTenTial False!! ,  computer science   research\n",
      "PoTenTial False!! ,  applied mathematics   internet\n",
      "PoTenTial False!! ,  applied mathematics   higher education\n",
      "minority major , cognitive science   computer software\n",
      "PoTenTial False!! ,  electrical engineering   mechanical or industrial engineering\n",
      "PoTenTial False!! ,  electrical engineering   computer software\n",
      "PoTenTial False!! ,  electrical engineering   education management\n",
      "PoTenTial False!! ,  applied mathematics   internet\n",
      "PoTenTial False!! ,  computer science   electrical & electronic manufacturing\n",
      "minority major , analytics   internet\n",
      "PoTenTial False!! ,  electrical engineering   computer software\n",
      "PoTenTial False!! ,  computer science   higher education\n",
      "PoTenTial False!! ,  applied mathematics   computer software\n",
      "PoTenTial False!! ,  computer science   computer hardware\n",
      "minority major , cognitive science   research\n",
      "PoTenTial False!! ,  electrical engineering   mechanical or industrial engineering\n",
      "PoTenTial False!! ,  machine learning and data science   computer software\n",
      "minority major , management science   telecommunications\n",
      "PoTenTial False!! ,  computer science   computer networking\n",
      "PoTenTial False!! ,  computer science   higher education\n",
      "PoTenTial False!! ,  machine learning and data science   computer software\n",
      "PoTenTial False!! ,  computer science   research\n",
      "PoTenTial False!! ,  applied mathematics   internet\n",
      "minority major , analytics   wireless\n",
      "PoTenTial False!! ,  computer science   research\n",
      "PoTenTial False!! ,  computer science   research\n",
      "PoTenTial False!! ,  computer science   computer networking\n",
      "PoTenTial False!! ,  computer science   research\n",
      "minority major , analytics   information technology & services\n",
      "minority major , analytics   information technology & services\n",
      "PoTenTial False!! ,  biochemistry and biostatistics   computer software\n",
      "PoTenTial False!! ,  computer science   electrical & electronic manufacturing\n",
      "PoTenTial False!! ,  applied mathematics   computer software\n",
      "PoTenTial False!! ,  electrical engineering   computer software\n",
      "minority major , analytics   internet\n",
      "PoTenTial False!! ,  applied mathematics   financial services\n",
      "defaultdict(<class 'int'>, {'computer science': 661, 'minor: design, and program of concentration: perspective of social sciences': 1, 'information technology - mobility': 3, 'machine learning and data science': 18, 'management science': 11, 'applied mathematics': 21, 'electrical engineering': 29, 'intelligent systems': 10, 'computational science': 13, 'analytics': 18, 'finance, general': 8, 'biochemistry and biostatistics': 5, 'integrated circuit design': 1, 'cognitive science': 6, '计算机科学': 1, 'economics': 4, 'business': 3, 'eecs': 1, 'cybersecurity ': 1, 'political science, concentration in international relations. double minor in history and philosophy': 1, 'operations research': 1, 'nanoscale devices and systems': 1, 'quantitative finance': 2, 'bioinformatics and systems biology': 1}) 24\n",
      "defaultdict(<class 'int'>, {'computer software': 589, 'higher education': 16, 'management consulting': 3, 'internet': 105, 'information technology & services': 29, 'financial services': 12, 'marketing & advertising': 2, 'semiconductors': 2, 'investment management': 1, 'consumer electronics': 1, 'computer hardware': 5, 'research': 13, 'investment banking/venture': 1, 'computer networking': 7, 'electrical & electronic manufacturing': 8, 'computer & network security': 3, 'venture capital': 5, 'wireless': 2, 'biotechnology': 5, 'chemicals': 1, 'banking': 1, 'program development': 2, 'pharmaceuticals': 1, 'medical device': 1, 'computer games': 1, 'online publishing': 1, 'mechanical or industrial engineering': 2, 'education management': 1, 'telecommunications': 1}) 29\n",
      "676  of total  852\n"
     ]
    }
   ],
   "source": [
    "import json\n",
    "from collections import defaultdict\n",
    "import plotly\n",
    "# import plotly.plotly as py\n",
    "import plotly.offline as of\n",
    "import plotly.graph_objs as go\n",
    "import math\n",
    "import addfips\n",
    "import xlrd\n",
    "import difflib\n",
    "\n",
    "# seperate the dict to be two lists\n",
    "def seperateData(data):\n",
    "    dictionary = dict(data)\n",
    "    keys = dictionary.keys()\n",
    "    values = dictionary.values()\n",
    "    return list(keys), list(values)\n",
    "\n",
    "# Set the top most skills we want to display\n",
    "def getHighest(key, values, num):\n",
    "    key, values = getSorted(key, values)\n",
    "    newKey = key[:num]\n",
    "    newValue = values[:num]\n",
    "#     if num < len(key):\n",
    "#         newKey.append(\"Others\")\n",
    "#         newValue.append(sum(values[num:]))\n",
    "    return newKey, newValue\n",
    "\n",
    "# Sort the key and values\n",
    "def getSorted(key, values):\n",
    "    tmpDict = dict(zip(key, values))\n",
    "    tmpDict_inv = {str(v):k for k, v in tmpDict.items()}\n",
    "#     print(tmpDict_inv)\n",
    "    tmp = values[:]\n",
    "    tmp.sort(reverse=True)\n",
    "    return [tmpDict_inv[str(i)] for i in tmp], tmp\n",
    "\n",
    "# seperate the data for location information\n",
    "def seperate_Loc_Data(data):\n",
    "    dictionary = dict(data)\n",
    "    keys = dictionary.keys()\n",
    "    tmp = list(keys)\n",
    "    values = dictionary.values()\n",
    "    res = []\n",
    "    for elem in keys:\n",
    "        state = elem[1].strip()\n",
    "        if state in us_state_abbrev:\n",
    "            res.append(us_state_abbrev[state])\n",
    "    return res, list(values)\n",
    "\n",
    "def seperate_City_Data(data):\n",
    "    dictionary = dict(data)\n",
    "    keys = dictionary.keys()\n",
    "    tmp = list(keys)\n",
    "    values = dictionary.values()\n",
    "    res = []\n",
    "    for elem in keys:\n",
    "        state = elem[1].strip()\n",
    "        city = elem[0].strip()\n",
    "#         print(city)\n",
    "        if state in us_state_abbrev:\n",
    "            res.append(city)\n",
    "    return res, list(values)\n",
    "\n",
    "\n",
    "def seperate_City_State_Data(data):\n",
    "    dictionary = dict(data)\n",
    "    keys = dictionary.keys()\n",
    "    tmp = list(keys)\n",
    "    v = list(dictionary.values())\n",
    "    values = []\n",
    "    res = []\n",
    "    for i in range(len(keys)):\n",
    "        state = tmp[i][1].strip()\n",
    "        city = tmp[i][0].strip()\n",
    "#         print(city)\n",
    "        if state in us_state_abbrev:\n",
    "            res.append((state, city))\n",
    "            values.append(v[i])\n",
    "    return res, list(values)\n",
    "\n",
    "# count statistics data for loc and values\n",
    "def coordinate_Loc_Val(loc, values):\n",
    "    res = dict()\n",
    "    for i in range(len(loc)):\n",
    "        if loc[i] not in res: res[loc[i]] = values[i]\n",
    "        else: res[loc[i]] += values[i]\n",
    "    return list(res.keys()), [math.log(i+1) for i in list(res.values())]\n",
    "\n",
    "def coordinate_City_Val(loc, city, values):\n",
    "    res = dict()\n",
    "    print(loc)\n",
    "    print(city)\n",
    "    for i in range(len(loc)):\n",
    "        if (loc[i],city[i]) not in res: res[(loc[i],city[i])] = values[i]\n",
    "        else: res[(loc[i],city[i])] += values[i]\n",
    "    return list(res.keys()), list(res.values())\n",
    "\n",
    "\n",
    "\n",
    "def getFIPS_General(city_tuple, values): # not used as the addfips lib can not recognize some cities\n",
    "    res = []\n",
    "    af = addfips.AddFIPS()\n",
    "#     print(city_tuple)\n",
    "#     print(values)\n",
    "    for i in range(len (values)):\n",
    "        res.append(af.get_county_fips(city_tuple[i][1], state=city_tuple[i][0]))\n",
    "    res, values = getSorted(res, values)\n",
    "    return res\n",
    "\n",
    "\n",
    "def getFIPS(city_tuple, values):\n",
    "    print(city_tuple)\n",
    "    print(values)\n",
    "    res = []\n",
    "    v = []\n",
    "    for i in range(len(values)):\n",
    "        if city_tuple[i][1] == 'San Diego County':\n",
    "            res.append('06073')\n",
    "            v.append(values[i])\n",
    "        elif city_tuple[i][1] == 'Sunnyvale':\n",
    "            res.append('06085')\n",
    "            v.append(values[i])\n",
    "        elif city_tuple[i][1] == 'San Francisco':\n",
    "            res.append('06075')\n",
    "            v.append(values[i])\n",
    "        elif city_tuple[i][1] == 'Seattle':\n",
    "            res.append('63000')\n",
    "            v.append(values[i])\n",
    "        elif city_tuple[i][1] == 'Redmond':\n",
    "            res.append('57535')\n",
    "            v.append(values[i])\n",
    "        elif city_tuple[i][1] == 'Palo Alto':\n",
    "            res.append('06086') # should be the same with sunnyvale\n",
    "            v.append(values[i])\n",
    "        elif city_tuple[i][1] == 'DuPage County':\n",
    "            res.append('17043')\n",
    "            v.append(values[i])\n",
    "        elif city_tuple[i][1] == 'Mountain View':\n",
    "            res.append('06087') # should be the same with sunnyvale\n",
    "            v.append(values[i])\n",
    "        elif city_tuple[i][1] == 'Los Angeles':\n",
    "            res.append('06037')\n",
    "            v.append(values[i])\n",
    "        elif city_tuple[i][1] == 'Morgan Hill':\n",
    "            res.append('06074') # Should be the same with San Fransisco\n",
    "            v.append(values[i])\n",
    "        elif city_tuple[i][1] == 'Castro Valley':\n",
    "            res.append('06075')\n",
    "            v.append(values[i])\n",
    "        elif city_tuple[i][1] == 'Irvine':\n",
    "            res.append('06059') # can't find it\n",
    "            v.append(values[i])\n",
    "        elif (city_tuple[i][1] == 'Cupertino' or city_tuple[i][1] == 'San Jose'):\n",
    "            res.append('06081')\n",
    "            v.append(values[i])\n",
    "        elif city_tuple[i][1] == 'El Cajon':\n",
    "            res.append('06071')\n",
    "            v.append(values[i])\n",
    "        elif city_tuple[i][1] == 'Trabuco Canyon':\n",
    "            res.append('06065')\n",
    "            v.append(values[i])\n",
    "        elif city_tuple[i][1] == 'Santa Clara':\n",
    "            res.append('06085')\n",
    "            v.append(values[i])\n",
    "        elif city_tuple[i][1] == 'Orange County':\n",
    "            res.append('06059')\n",
    "            v.append(values[i])\n",
    "        elif city_tuple[i][1] == 'Corona':\n",
    "            res.append('06011')\n",
    "            v.append(values[i])\n",
    "        elif city_tuple[i][1] == 'Trabuco Canyon':\n",
    "            res.append('06065')\n",
    "            v.append(values[i])\n",
    "        elif city_tuple[i][1] == 'Trabuco Canyon':\n",
    "            res.append('06065')\n",
    "            v.append(values[i])\n",
    "    return res, v\n",
    "\n",
    "us_state_abbrev = {\n",
    "    'Alabama': 'AL',\n",
    "    'Alaska': 'AK',\n",
    "    'Arizona': 'AZ',\n",
    "    'Arkansas': 'AR',\n",
    "    'California': 'CA',\n",
    "    'Colorado': 'CO',\n",
    "    'Connecticut': 'CT',\n",
    "    'Delaware': 'DE',\n",
    "    'District of Columbia': 'DC',\n",
    "    'Florida': 'FL',\n",
    "    'Georgia': 'GA',\n",
    "    'Hawaii': 'HI',\n",
    "    'Idaho': 'ID',\n",
    "    'Illinois': 'IL',\n",
    "    'Indiana': 'IN',\n",
    "    'Iowa': 'IA',\n",
    "    'Kansas': 'KS',\n",
    "    'Kentucky': 'KY',\n",
    "    'Louisiana': 'LA',\n",
    "    'Maine': 'ME',\n",
    "    'Maryland': 'MD',\n",
    "    'Massachusetts': 'MA',\n",
    "    'Michigan': 'MI',\n",
    "    'Minnesota': 'MN',\n",
    "    'Mississippi': 'MS',\n",
    "    'Missouri': 'MO',\n",
    "    'Montana': 'MT',\n",
    "    'Nebraska': 'NE',\n",
    "    'Nevada': 'NV',\n",
    "    'New Hampshire': 'NH',\n",
    "    'New Jersey': 'NJ',\n",
    "    'New Mexico': 'NM',\n",
    "    'New York': 'NY',\n",
    "    'North Carolina': 'NC',\n",
    "    'North Dakota': 'ND',\n",
    "    'Northern Mariana Islands':'MP',\n",
    "    'Ohio': 'OH',\n",
    "    'Oklahoma': 'OK',\n",
    "    'Oregon': 'OR',\n",
    "    'Palau': 'PW',\n",
    "    'Pennsylvania': 'PA',\n",
    "    'Puerto Rico': 'PR',\n",
    "    'Rhode Island': 'RI',\n",
    "    'South Carolina': 'SC',\n",
    "    'South Dakota': 'SD',\n",
    "    'Tennessee': 'TN',\n",
    "    'Texas': 'TX',\n",
    "    'Utah': 'UT',\n",
    "    'Vermont': 'VT',\n",
    "    'Virgin Islands': 'VI',\n",
    "    'Virginia': 'VA',\n",
    "    'Washington': 'WA',\n",
    "    'West Virginia': 'WV',\n",
    "    'Wisconsin': 'WI',\n",
    "    'Wyoming': 'WY',\n",
    "}\n",
    "\n",
    "\n",
    "def checkAlign(major, industry):\n",
    "    '''\n",
    "    this function check major and industry align or not\n",
    "    if can't determine, print out for manual check\n",
    "    : param major: input major\n",
    "    : param industry: input working industry\n",
    "    '''\n",
    "    if major == 'computer science' or major == 'computational science' or major == '计算机科学':\n",
    "        if industry == 'computer software' or industry == 'internet' \\\n",
    "        or industry == 'information technology & services':\n",
    "            return True\n",
    "        else:\n",
    "            print(\"PoTenTial False!! , \", major, ' ', industry)\n",
    "            return False\n",
    "    elif major == 'electrical engineering' or major == 'integrated circuit design' or major == 'nanoscale devices and systems':\n",
    "        if industry == 'semiconductors' or industry == 'consumer electronics' or industry == 'computer hardware'\\\n",
    "        or industry == 'computer networking' or industry == 'electrical & electronic manufacturing' \\\n",
    "        or industry == 'wireless' or industry == 'telecommunications':\n",
    "            return True\n",
    "        else:\n",
    "            print(\"PoTenTial False!! , \", major, ' ', industry)\n",
    "            return False\n",
    "            \n",
    "    elif major == 'machine learning and data science' or major == 'intelligent systems':\n",
    "        print(\"PoTenTial False!! , \", major, ' ', industry)\n",
    "        if industry == 'computer software' or industry == 'research':\n",
    "            return True\n",
    "        else:\n",
    "            return False\n",
    "        \n",
    "    elif major == 'applied mathematics':\n",
    "        if industry == 'information technology & services':\n",
    "            return True\n",
    "        else:\n",
    "            print(\"PoTenTial False!! , \", major, ' ', industry)\n",
    "            return False\n",
    "            \n",
    "    elif major == 'finance, general' or major == 'economics' or major == 'business' or major == 'quantitative finance':\n",
    "        if industry == 'management consulting' or industry == 'financial services' or \\\n",
    "        industry == 'marketing & advertising' or industry == 'investment banking/venture' or\\\n",
    "        industry == 'banking' or industry == 'venture capital':\n",
    "            return True\n",
    "        else:\n",
    "            print(\"PoTenTial False!! , \", major, ' ', industry)\n",
    "            return False\n",
    "            \n",
    "    elif major == 'biochemistry and biostatistics' or major == 'bioinformatics and systems biology':\n",
    "        if industry == 'research' or industry == 'biotechnology':\n",
    "            return True\n",
    "        else:\n",
    "            print(\"PoTenTial False!! , \", major, ' ', industry)\n",
    "            return False\n",
    "    else:\n",
    "        print('minority major ,', major, ' ', industry)\n",
    "        return False\n",
    "\n",
    "    \n",
    "    \n",
    "with open('143dataall.json','r') as f:\n",
    "    allpeople = f.readlines()\n",
    "    field_of_study = defaultdict(int)\n",
    "    industryName = defaultdict(int)\n",
    "    \n",
    "    align = 0\n",
    "    numpeople = len(allpeople)\n",
    "    \n",
    "    for person in allpeople:\n",
    "        info = json.loads(person)\n",
    "        if info:\n",
    "            if 'education' in info and 'industryName' in info and info['education'] and 'fieldOfStudy' in info['education'][0]:\n",
    "            #make sure all of the keys exist\n",
    "                thisEdu = None\n",
    "                thisIndustry = None\n",
    "\n",
    "                # try to merge some of the majors by ckecking whether it is at least 50%\n",
    "                # align with the exist major\n",
    "                \n",
    "                for key in field_of_study:\n",
    "                    tmp = info['education'][0]['fieldOfStudy'].lower()\n",
    "                    s = difflib.SequenceMatcher(None, key, tmp)\n",
    "                    match = s.find_longest_match(0, len(key), 0, len(tmp))\n",
    "                    \n",
    "                    \n",
    "                    if match.size > 0.5 * min(len(tmp), len(key)):\n",
    "                        field_of_study[key] += 1\n",
    "                        thisEdu = key\n",
    "                        break\n",
    "                if not thisEdu:\n",
    "                    field_of_study[info['education'][0]['fieldOfStudy'].lower()] += 1\n",
    "                    thisEdu = info['education'][0]['fieldOfStudy'].lower()\n",
    "                    \n",
    "                industryName[info['industryName'].lower()] += 1\n",
    "                thisIndustry = info['industryName'].lower()\n",
    "                \n",
    "                # check a potential match below\n",
    "                if checkAlign(thisEdu, thisIndustry):\n",
    "                    align += 1\n",
    "                    \n",
    "    print(field_of_study, len(field_of_study))\n",
    "    print(industryName, len(industryName))\n",
    "    print(align, \" of total \", numpeople)"
   ]
  },
  {
   "cell_type": "markdown",
   "metadata": {},
   "source": [
    "### a. Employees Skills --- Pie Plot"
   ]
  },
  {
   "cell_type": "code",
   "execution_count": 46,
   "metadata": {
    "scrolled": false
   },
   "outputs": [
    {
     "data": {
      "text/html": [
       "        <script type=\"text/javascript\">\n",
       "        window.PlotlyConfig = {MathJaxConfig: 'local'};\n",
       "        if (window.MathJax) {MathJax.Hub.Config({SVG: {font: \"STIX-Web\"}});}\n",
       "        if (typeof require !== 'undefined') {\n",
       "        require.undef(\"plotly\");\n",
       "        requirejs.config({\n",
       "            paths: {\n",
       "                'plotly': ['https://cdn.plot.ly/plotly-latest.min']\n",
       "            }\n",
       "        });\n",
       "        require(['plotly'], function(Plotly) {\n",
       "            window._Plotly = Plotly;\n",
       "        });\n",
       "        }\n",
       "        </script>\n",
       "        "
      ]
     },
     "metadata": {},
     "output_type": "display_data"
    },
    {
     "data": {
      "application/vnd.plotly.v1+json": {
       "config": {
        "linkText": "Export to plot.ly",
        "plotlyServerURL": "https://plot.ly",
        "showLink": false
       },
       "data": [
        {
         "hole": 0,
         "hoverinfo": "label+percent",
         "labels": [
          "c/c++",
          "java",
          "python",
          "javascript",
          "matlab",
          "html",
          "sql",
          "linux",
          "machine learning",
          "microsoft office",
          "python (programming language)",
          "git",
          "mysql",
          "data analysis",
          "microsoft excel"
         ],
         "text": [
          "c/c++",
          "java",
          "python",
          "javascript",
          "matlab",
          "html",
          "sql",
          "linux",
          "machine learning",
          "microsoft office",
          "python (programming language)",
          "git",
          "mysql",
          "data analysis",
          "microsoft excel"
         ],
         "textposition": "auto",
         "type": "pie",
         "values": [
          0.07293378098435603,
          0.0468604900350025,
          0.04014572469462104,
          0.02735909707836274,
          0.022858775626830488,
          0.021858704193156654,
          0.021715836845488962,
          0.018501321522965925,
          0.01800128580612901,
          0.017001214372455175,
          0.013643831702264447,
          0.013215229659261377,
          0.01271519394242446,
          0.012358025573255233,
          0.011357954139581398
         ]
        }
       ],
       "layout": {
        "template": {
         "data": {
          "bar": [
           {
            "error_x": {
             "color": "#2a3f5f"
            },
            "error_y": {
             "color": "#2a3f5f"
            },
            "marker": {
             "line": {
              "color": "#E5ECF6",
              "width": 0.5
             }
            },
            "type": "bar"
           }
          ],
          "barpolar": [
           {
            "marker": {
             "line": {
              "color": "#E5ECF6",
              "width": 0.5
             }
            },
            "type": "barpolar"
           }
          ],
          "carpet": [
           {
            "aaxis": {
             "endlinecolor": "#2a3f5f",
             "gridcolor": "white",
             "linecolor": "white",
             "minorgridcolor": "white",
             "startlinecolor": "#2a3f5f"
            },
            "baxis": {
             "endlinecolor": "#2a3f5f",
             "gridcolor": "white",
             "linecolor": "white",
             "minorgridcolor": "white",
             "startlinecolor": "#2a3f5f"
            },
            "type": "carpet"
           }
          ],
          "choropleth": [
           {
            "colorbar": {
             "outlinewidth": 0,
             "ticks": ""
            },
            "type": "choropleth"
           }
          ],
          "contour": [
           {
            "colorbar": {
             "outlinewidth": 0,
             "ticks": ""
            },
            "colorscale": [
             [
              0,
              "#0d0887"
             ],
             [
              0.1111111111111111,
              "#46039f"
             ],
             [
              0.2222222222222222,
              "#7201a8"
             ],
             [
              0.3333333333333333,
              "#9c179e"
             ],
             [
              0.4444444444444444,
              "#bd3786"
             ],
             [
              0.5555555555555556,
              "#d8576b"
             ],
             [
              0.6666666666666666,
              "#ed7953"
             ],
             [
              0.7777777777777778,
              "#fb9f3a"
             ],
             [
              0.8888888888888888,
              "#fdca26"
             ],
             [
              1,
              "#f0f921"
             ]
            ],
            "type": "contour"
           }
          ],
          "contourcarpet": [
           {
            "colorbar": {
             "outlinewidth": 0,
             "ticks": ""
            },
            "type": "contourcarpet"
           }
          ],
          "heatmap": [
           {
            "colorbar": {
             "outlinewidth": 0,
             "ticks": ""
            },
            "colorscale": [
             [
              0,
              "#0d0887"
             ],
             [
              0.1111111111111111,
              "#46039f"
             ],
             [
              0.2222222222222222,
              "#7201a8"
             ],
             [
              0.3333333333333333,
              "#9c179e"
             ],
             [
              0.4444444444444444,
              "#bd3786"
             ],
             [
              0.5555555555555556,
              "#d8576b"
             ],
             [
              0.6666666666666666,
              "#ed7953"
             ],
             [
              0.7777777777777778,
              "#fb9f3a"
             ],
             [
              0.8888888888888888,
              "#fdca26"
             ],
             [
              1,
              "#f0f921"
             ]
            ],
            "type": "heatmap"
           }
          ],
          "heatmapgl": [
           {
            "colorbar": {
             "outlinewidth": 0,
             "ticks": ""
            },
            "colorscale": [
             [
              0,
              "#0d0887"
             ],
             [
              0.1111111111111111,
              "#46039f"
             ],
             [
              0.2222222222222222,
              "#7201a8"
             ],
             [
              0.3333333333333333,
              "#9c179e"
             ],
             [
              0.4444444444444444,
              "#bd3786"
             ],
             [
              0.5555555555555556,
              "#d8576b"
             ],
             [
              0.6666666666666666,
              "#ed7953"
             ],
             [
              0.7777777777777778,
              "#fb9f3a"
             ],
             [
              0.8888888888888888,
              "#fdca26"
             ],
             [
              1,
              "#f0f921"
             ]
            ],
            "type": "heatmapgl"
           }
          ],
          "histogram": [
           {
            "marker": {
             "colorbar": {
              "outlinewidth": 0,
              "ticks": ""
             }
            },
            "type": "histogram"
           }
          ],
          "histogram2d": [
           {
            "colorbar": {
             "outlinewidth": 0,
             "ticks": ""
            },
            "colorscale": [
             [
              0,
              "#0d0887"
             ],
             [
              0.1111111111111111,
              "#46039f"
             ],
             [
              0.2222222222222222,
              "#7201a8"
             ],
             [
              0.3333333333333333,
              "#9c179e"
             ],
             [
              0.4444444444444444,
              "#bd3786"
             ],
             [
              0.5555555555555556,
              "#d8576b"
             ],
             [
              0.6666666666666666,
              "#ed7953"
             ],
             [
              0.7777777777777778,
              "#fb9f3a"
             ],
             [
              0.8888888888888888,
              "#fdca26"
             ],
             [
              1,
              "#f0f921"
             ]
            ],
            "type": "histogram2d"
           }
          ],
          "histogram2dcontour": [
           {
            "colorbar": {
             "outlinewidth": 0,
             "ticks": ""
            },
            "colorscale": [
             [
              0,
              "#0d0887"
             ],
             [
              0.1111111111111111,
              "#46039f"
             ],
             [
              0.2222222222222222,
              "#7201a8"
             ],
             [
              0.3333333333333333,
              "#9c179e"
             ],
             [
              0.4444444444444444,
              "#bd3786"
             ],
             [
              0.5555555555555556,
              "#d8576b"
             ],
             [
              0.6666666666666666,
              "#ed7953"
             ],
             [
              0.7777777777777778,
              "#fb9f3a"
             ],
             [
              0.8888888888888888,
              "#fdca26"
             ],
             [
              1,
              "#f0f921"
             ]
            ],
            "type": "histogram2dcontour"
           }
          ],
          "mesh3d": [
           {
            "colorbar": {
             "outlinewidth": 0,
             "ticks": ""
            },
            "type": "mesh3d"
           }
          ],
          "parcoords": [
           {
            "line": {
             "colorbar": {
              "outlinewidth": 0,
              "ticks": ""
             }
            },
            "type": "parcoords"
           }
          ],
          "scatter": [
           {
            "marker": {
             "colorbar": {
              "outlinewidth": 0,
              "ticks": ""
             }
            },
            "type": "scatter"
           }
          ],
          "scatter3d": [
           {
            "line": {
             "colorbar": {
              "outlinewidth": 0,
              "ticks": ""
             }
            },
            "marker": {
             "colorbar": {
              "outlinewidth": 0,
              "ticks": ""
             }
            },
            "type": "scatter3d"
           }
          ],
          "scattercarpet": [
           {
            "marker": {
             "colorbar": {
              "outlinewidth": 0,
              "ticks": ""
             }
            },
            "type": "scattercarpet"
           }
          ],
          "scattergeo": [
           {
            "marker": {
             "colorbar": {
              "outlinewidth": 0,
              "ticks": ""
             }
            },
            "type": "scattergeo"
           }
          ],
          "scattergl": [
           {
            "marker": {
             "colorbar": {
              "outlinewidth": 0,
              "ticks": ""
             }
            },
            "type": "scattergl"
           }
          ],
          "scattermapbox": [
           {
            "marker": {
             "colorbar": {
              "outlinewidth": 0,
              "ticks": ""
             }
            },
            "type": "scattermapbox"
           }
          ],
          "scatterpolar": [
           {
            "marker": {
             "colorbar": {
              "outlinewidth": 0,
              "ticks": ""
             }
            },
            "type": "scatterpolar"
           }
          ],
          "scatterpolargl": [
           {
            "marker": {
             "colorbar": {
              "outlinewidth": 0,
              "ticks": ""
             }
            },
            "type": "scatterpolargl"
           }
          ],
          "scatterternary": [
           {
            "marker": {
             "colorbar": {
              "outlinewidth": 0,
              "ticks": ""
             }
            },
            "type": "scatterternary"
           }
          ],
          "surface": [
           {
            "colorbar": {
             "outlinewidth": 0,
             "ticks": ""
            },
            "colorscale": [
             [
              0,
              "#0d0887"
             ],
             [
              0.1111111111111111,
              "#46039f"
             ],
             [
              0.2222222222222222,
              "#7201a8"
             ],
             [
              0.3333333333333333,
              "#9c179e"
             ],
             [
              0.4444444444444444,
              "#bd3786"
             ],
             [
              0.5555555555555556,
              "#d8576b"
             ],
             [
              0.6666666666666666,
              "#ed7953"
             ],
             [
              0.7777777777777778,
              "#fb9f3a"
             ],
             [
              0.8888888888888888,
              "#fdca26"
             ],
             [
              1,
              "#f0f921"
             ]
            ],
            "type": "surface"
           }
          ],
          "table": [
           {
            "cells": {
             "fill": {
              "color": "#EBF0F8"
             },
             "line": {
              "color": "white"
             }
            },
            "header": {
             "fill": {
              "color": "#C8D4E3"
             },
             "line": {
              "color": "white"
             }
            },
            "type": "table"
           }
          ]
         },
         "layout": {
          "annotationdefaults": {
           "arrowcolor": "#2a3f5f",
           "arrowhead": 0,
           "arrowwidth": 1
          },
          "colorscale": {
           "diverging": [
            [
             0,
             "#8e0152"
            ],
            [
             0.1,
             "#c51b7d"
            ],
            [
             0.2,
             "#de77ae"
            ],
            [
             0.3,
             "#f1b6da"
            ],
            [
             0.4,
             "#fde0ef"
            ],
            [
             0.5,
             "#f7f7f7"
            ],
            [
             0.6,
             "#e6f5d0"
            ],
            [
             0.7,
             "#b8e186"
            ],
            [
             0.8,
             "#7fbc41"
            ],
            [
             0.9,
             "#4d9221"
            ],
            [
             1,
             "#276419"
            ]
           ],
           "sequential": [
            [
             0,
             "#0d0887"
            ],
            [
             0.1111111111111111,
             "#46039f"
            ],
            [
             0.2222222222222222,
             "#7201a8"
            ],
            [
             0.3333333333333333,
             "#9c179e"
            ],
            [
             0.4444444444444444,
             "#bd3786"
            ],
            [
             0.5555555555555556,
             "#d8576b"
            ],
            [
             0.6666666666666666,
             "#ed7953"
            ],
            [
             0.7777777777777778,
             "#fb9f3a"
            ],
            [
             0.8888888888888888,
             "#fdca26"
            ],
            [
             1,
             "#f0f921"
            ]
           ],
           "sequentialminus": [
            [
             0,
             "#0d0887"
            ],
            [
             0.1111111111111111,
             "#46039f"
            ],
            [
             0.2222222222222222,
             "#7201a8"
            ],
            [
             0.3333333333333333,
             "#9c179e"
            ],
            [
             0.4444444444444444,
             "#bd3786"
            ],
            [
             0.5555555555555556,
             "#d8576b"
            ],
            [
             0.6666666666666666,
             "#ed7953"
            ],
            [
             0.7777777777777778,
             "#fb9f3a"
            ],
            [
             0.8888888888888888,
             "#fdca26"
            ],
            [
             1,
             "#f0f921"
            ]
           ]
          },
          "colorway": [
           "#636efa",
           "#EF553B",
           "#00cc96",
           "#ab63fa",
           "#FFA15A",
           "#19d3f3",
           "#FF6692",
           "#B6E880",
           "#FF97FF",
           "#FECB52"
          ],
          "font": {
           "color": "#2a3f5f"
          },
          "geo": {
           "bgcolor": "white",
           "lakecolor": "white",
           "landcolor": "#E5ECF6",
           "showlakes": true,
           "showland": true,
           "subunitcolor": "white"
          },
          "hoverlabel": {
           "align": "left"
          },
          "hovermode": "closest",
          "mapbox": {
           "style": "light"
          },
          "paper_bgcolor": "white",
          "plot_bgcolor": "#E5ECF6",
          "polar": {
           "angularaxis": {
            "gridcolor": "white",
            "linecolor": "white",
            "ticks": ""
           },
           "bgcolor": "#E5ECF6",
           "radialaxis": {
            "gridcolor": "white",
            "linecolor": "white",
            "ticks": ""
           }
          },
          "scene": {
           "xaxis": {
            "backgroundcolor": "#E5ECF6",
            "gridcolor": "white",
            "gridwidth": 2,
            "linecolor": "white",
            "showbackground": true,
            "ticks": "",
            "zerolinecolor": "white"
           },
           "yaxis": {
            "backgroundcolor": "#E5ECF6",
            "gridcolor": "white",
            "gridwidth": 2,
            "linecolor": "white",
            "showbackground": true,
            "ticks": "",
            "zerolinecolor": "white"
           },
           "zaxis": {
            "backgroundcolor": "#E5ECF6",
            "gridcolor": "white",
            "gridwidth": 2,
            "linecolor": "white",
            "showbackground": true,
            "ticks": "",
            "zerolinecolor": "white"
           }
          },
          "shapedefaults": {
           "line": {
            "color": "#2a3f5f"
           }
          },
          "ternary": {
           "aaxis": {
            "gridcolor": "white",
            "linecolor": "white",
            "ticks": ""
           },
           "baxis": {
            "gridcolor": "white",
            "linecolor": "white",
            "ticks": ""
           },
           "bgcolor": "#E5ECF6",
           "caxis": {
            "gridcolor": "white",
            "linecolor": "white",
            "ticks": ""
           }
          },
          "title": {
           "x": 0.05
          },
          "xaxis": {
           "automargin": true,
           "gridcolor": "white",
           "linecolor": "white",
           "ticks": "",
           "zerolinecolor": "white",
           "zerolinewidth": 2
          },
          "yaxis": {
           "automargin": true,
           "gridcolor": "white",
           "linecolor": "white",
           "ticks": "",
           "zerolinecolor": "white",
           "zerolinewidth": 2
          }
         }
        },
        "title": {
         "font": {
          "color": "rgb(200, 100, 100)",
          "size": 30
         },
         "text": "Top 15 Skills UCSD alumni mastered"
        }
       }
      },
      "text/html": [
       "<div>\n",
       "        \n",
       "        \n",
       "            <div id=\"e6a79e66-4736-48f6-a09d-25bc71f8e365\" class=\"plotly-graph-div\" style=\"height:525px; width:100%;\"></div>\n",
       "            <script type=\"text/javascript\">\n",
       "                require([\"plotly\"], function(Plotly) {\n",
       "                    window.PLOTLYENV=window.PLOTLYENV || {};\n",
       "                    \n",
       "                if (document.getElementById(\"e6a79e66-4736-48f6-a09d-25bc71f8e365\")) {\n",
       "                    Plotly.newPlot(\n",
       "                        'e6a79e66-4736-48f6-a09d-25bc71f8e365',\n",
       "                        [{\"hole\": 0, \"hoverinfo\": \"label+percent\", \"labels\": [\"c/c++\", \"java\", \"python\", \"javascript\", \"matlab\", \"html\", \"sql\", \"linux\", \"machine learning\", \"microsoft office\", \"python (programming language)\", \"git\", \"mysql\", \"data analysis\", \"microsoft excel\"], \"text\": [\"c/c++\", \"java\", \"python\", \"javascript\", \"matlab\", \"html\", \"sql\", \"linux\", \"machine learning\", \"microsoft office\", \"python (programming language)\", \"git\", \"mysql\", \"data analysis\", \"microsoft excel\"], \"textposition\": \"auto\", \"type\": \"pie\", \"values\": [0.07293378098435603, 0.0468604900350025, 0.04014572469462104, 0.02735909707836274, 0.022858775626830488, 0.021858704193156654, 0.021715836845488962, 0.018501321522965925, 0.01800128580612901, 0.017001214372455175, 0.013643831702264447, 0.013215229659261377, 0.01271519394242446, 0.012358025573255233, 0.011357954139581398]}],\n",
       "                        {\"template\": {\"data\": {\"bar\": [{\"error_x\": {\"color\": \"#2a3f5f\"}, \"error_y\": {\"color\": \"#2a3f5f\"}, \"marker\": {\"line\": {\"color\": \"#E5ECF6\", \"width\": 0.5}}, \"type\": \"bar\"}], \"barpolar\": [{\"marker\": {\"line\": {\"color\": \"#E5ECF6\", \"width\": 0.5}}, \"type\": \"barpolar\"}], \"carpet\": [{\"aaxis\": {\"endlinecolor\": \"#2a3f5f\", \"gridcolor\": \"white\", \"linecolor\": \"white\", \"minorgridcolor\": \"white\", \"startlinecolor\": \"#2a3f5f\"}, \"baxis\": {\"endlinecolor\": \"#2a3f5f\", \"gridcolor\": \"white\", \"linecolor\": \"white\", \"minorgridcolor\": \"white\", \"startlinecolor\": \"#2a3f5f\"}, \"type\": \"carpet\"}], \"choropleth\": [{\"colorbar\": {\"outlinewidth\": 0, \"ticks\": \"\"}, \"type\": \"choropleth\"}], \"contour\": [{\"colorbar\": {\"outlinewidth\": 0, \"ticks\": \"\"}, \"colorscale\": [[0.0, \"#0d0887\"], [0.1111111111111111, \"#46039f\"], [0.2222222222222222, \"#7201a8\"], [0.3333333333333333, \"#9c179e\"], [0.4444444444444444, \"#bd3786\"], [0.5555555555555556, \"#d8576b\"], [0.6666666666666666, \"#ed7953\"], [0.7777777777777778, \"#fb9f3a\"], [0.8888888888888888, \"#fdca26\"], [1.0, \"#f0f921\"]], \"type\": \"contour\"}], \"contourcarpet\": [{\"colorbar\": {\"outlinewidth\": 0, \"ticks\": \"\"}, \"type\": \"contourcarpet\"}], \"heatmap\": [{\"colorbar\": {\"outlinewidth\": 0, \"ticks\": \"\"}, \"colorscale\": [[0.0, \"#0d0887\"], [0.1111111111111111, \"#46039f\"], [0.2222222222222222, \"#7201a8\"], [0.3333333333333333, \"#9c179e\"], [0.4444444444444444, \"#bd3786\"], [0.5555555555555556, \"#d8576b\"], [0.6666666666666666, \"#ed7953\"], [0.7777777777777778, \"#fb9f3a\"], [0.8888888888888888, \"#fdca26\"], [1.0, \"#f0f921\"]], \"type\": \"heatmap\"}], \"heatmapgl\": [{\"colorbar\": {\"outlinewidth\": 0, \"ticks\": \"\"}, \"colorscale\": [[0.0, \"#0d0887\"], [0.1111111111111111, \"#46039f\"], [0.2222222222222222, \"#7201a8\"], [0.3333333333333333, \"#9c179e\"], [0.4444444444444444, \"#bd3786\"], [0.5555555555555556, \"#d8576b\"], [0.6666666666666666, \"#ed7953\"], [0.7777777777777778, \"#fb9f3a\"], [0.8888888888888888, \"#fdca26\"], [1.0, \"#f0f921\"]], \"type\": \"heatmapgl\"}], \"histogram\": [{\"marker\": {\"colorbar\": {\"outlinewidth\": 0, \"ticks\": \"\"}}, \"type\": \"histogram\"}], \"histogram2d\": [{\"colorbar\": {\"outlinewidth\": 0, \"ticks\": \"\"}, \"colorscale\": [[0.0, \"#0d0887\"], [0.1111111111111111, \"#46039f\"], [0.2222222222222222, \"#7201a8\"], [0.3333333333333333, \"#9c179e\"], [0.4444444444444444, \"#bd3786\"], [0.5555555555555556, \"#d8576b\"], [0.6666666666666666, \"#ed7953\"], [0.7777777777777778, \"#fb9f3a\"], [0.8888888888888888, \"#fdca26\"], [1.0, \"#f0f921\"]], \"type\": \"histogram2d\"}], \"histogram2dcontour\": [{\"colorbar\": {\"outlinewidth\": 0, \"ticks\": \"\"}, \"colorscale\": [[0.0, \"#0d0887\"], [0.1111111111111111, \"#46039f\"], [0.2222222222222222, \"#7201a8\"], [0.3333333333333333, \"#9c179e\"], [0.4444444444444444, \"#bd3786\"], [0.5555555555555556, \"#d8576b\"], [0.6666666666666666, \"#ed7953\"], [0.7777777777777778, \"#fb9f3a\"], [0.8888888888888888, \"#fdca26\"], [1.0, \"#f0f921\"]], \"type\": \"histogram2dcontour\"}], \"mesh3d\": [{\"colorbar\": {\"outlinewidth\": 0, \"ticks\": \"\"}, \"type\": \"mesh3d\"}], \"parcoords\": [{\"line\": {\"colorbar\": {\"outlinewidth\": 0, \"ticks\": \"\"}}, \"type\": \"parcoords\"}], \"scatter\": [{\"marker\": {\"colorbar\": {\"outlinewidth\": 0, \"ticks\": \"\"}}, \"type\": \"scatter\"}], \"scatter3d\": [{\"line\": {\"colorbar\": {\"outlinewidth\": 0, \"ticks\": \"\"}}, \"marker\": {\"colorbar\": {\"outlinewidth\": 0, \"ticks\": \"\"}}, \"type\": \"scatter3d\"}], \"scattercarpet\": [{\"marker\": {\"colorbar\": {\"outlinewidth\": 0, \"ticks\": \"\"}}, \"type\": \"scattercarpet\"}], \"scattergeo\": [{\"marker\": {\"colorbar\": {\"outlinewidth\": 0, \"ticks\": \"\"}}, \"type\": \"scattergeo\"}], \"scattergl\": [{\"marker\": {\"colorbar\": {\"outlinewidth\": 0, \"ticks\": \"\"}}, \"type\": \"scattergl\"}], \"scattermapbox\": [{\"marker\": {\"colorbar\": {\"outlinewidth\": 0, \"ticks\": \"\"}}, \"type\": \"scattermapbox\"}], \"scatterpolar\": [{\"marker\": {\"colorbar\": {\"outlinewidth\": 0, \"ticks\": \"\"}}, \"type\": \"scatterpolar\"}], \"scatterpolargl\": [{\"marker\": {\"colorbar\": {\"outlinewidth\": 0, \"ticks\": \"\"}}, \"type\": \"scatterpolargl\"}], \"scatterternary\": [{\"marker\": {\"colorbar\": {\"outlinewidth\": 0, \"ticks\": \"\"}}, \"type\": \"scatterternary\"}], \"surface\": [{\"colorbar\": {\"outlinewidth\": 0, \"ticks\": \"\"}, \"colorscale\": [[0.0, \"#0d0887\"], [0.1111111111111111, \"#46039f\"], [0.2222222222222222, \"#7201a8\"], [0.3333333333333333, \"#9c179e\"], [0.4444444444444444, \"#bd3786\"], [0.5555555555555556, \"#d8576b\"], [0.6666666666666666, \"#ed7953\"], [0.7777777777777778, \"#fb9f3a\"], [0.8888888888888888, \"#fdca26\"], [1.0, \"#f0f921\"]], \"type\": \"surface\"}], \"table\": [{\"cells\": {\"fill\": {\"color\": \"#EBF0F8\"}, \"line\": {\"color\": \"white\"}}, \"header\": {\"fill\": {\"color\": \"#C8D4E3\"}, \"line\": {\"color\": \"white\"}}, \"type\": \"table\"}]}, \"layout\": {\"annotationdefaults\": {\"arrowcolor\": \"#2a3f5f\", \"arrowhead\": 0, \"arrowwidth\": 1}, \"colorscale\": {\"diverging\": [[0, \"#8e0152\"], [0.1, \"#c51b7d\"], [0.2, \"#de77ae\"], [0.3, \"#f1b6da\"], [0.4, \"#fde0ef\"], [0.5, \"#f7f7f7\"], [0.6, \"#e6f5d0\"], [0.7, \"#b8e186\"], [0.8, \"#7fbc41\"], [0.9, \"#4d9221\"], [1, \"#276419\"]], \"sequential\": [[0.0, \"#0d0887\"], [0.1111111111111111, \"#46039f\"], [0.2222222222222222, \"#7201a8\"], [0.3333333333333333, \"#9c179e\"], [0.4444444444444444, \"#bd3786\"], [0.5555555555555556, \"#d8576b\"], [0.6666666666666666, \"#ed7953\"], [0.7777777777777778, \"#fb9f3a\"], [0.8888888888888888, \"#fdca26\"], [1.0, \"#f0f921\"]], \"sequentialminus\": [[0.0, \"#0d0887\"], [0.1111111111111111, \"#46039f\"], [0.2222222222222222, \"#7201a8\"], [0.3333333333333333, \"#9c179e\"], [0.4444444444444444, \"#bd3786\"], [0.5555555555555556, \"#d8576b\"], [0.6666666666666666, \"#ed7953\"], [0.7777777777777778, \"#fb9f3a\"], [0.8888888888888888, \"#fdca26\"], [1.0, \"#f0f921\"]]}, \"colorway\": [\"#636efa\", \"#EF553B\", \"#00cc96\", \"#ab63fa\", \"#FFA15A\", \"#19d3f3\", \"#FF6692\", \"#B6E880\", \"#FF97FF\", \"#FECB52\"], \"font\": {\"color\": \"#2a3f5f\"}, \"geo\": {\"bgcolor\": \"white\", \"lakecolor\": \"white\", \"landcolor\": \"#E5ECF6\", \"showlakes\": true, \"showland\": true, \"subunitcolor\": \"white\"}, \"hoverlabel\": {\"align\": \"left\"}, \"hovermode\": \"closest\", \"mapbox\": {\"style\": \"light\"}, \"paper_bgcolor\": \"white\", \"plot_bgcolor\": \"#E5ECF6\", \"polar\": {\"angularaxis\": {\"gridcolor\": \"white\", \"linecolor\": \"white\", \"ticks\": \"\"}, \"bgcolor\": \"#E5ECF6\", \"radialaxis\": {\"gridcolor\": \"white\", \"linecolor\": \"white\", \"ticks\": \"\"}}, \"scene\": {\"xaxis\": {\"backgroundcolor\": \"#E5ECF6\", \"gridcolor\": \"white\", \"gridwidth\": 2, \"linecolor\": \"white\", \"showbackground\": true, \"ticks\": \"\", \"zerolinecolor\": \"white\"}, \"yaxis\": {\"backgroundcolor\": \"#E5ECF6\", \"gridcolor\": \"white\", \"gridwidth\": 2, \"linecolor\": \"white\", \"showbackground\": true, \"ticks\": \"\", \"zerolinecolor\": \"white\"}, \"zaxis\": {\"backgroundcolor\": \"#E5ECF6\", \"gridcolor\": \"white\", \"gridwidth\": 2, \"linecolor\": \"white\", \"showbackground\": true, \"ticks\": \"\", \"zerolinecolor\": \"white\"}}, \"shapedefaults\": {\"line\": {\"color\": \"#2a3f5f\"}}, \"ternary\": {\"aaxis\": {\"gridcolor\": \"white\", \"linecolor\": \"white\", \"ticks\": \"\"}, \"baxis\": {\"gridcolor\": \"white\", \"linecolor\": \"white\", \"ticks\": \"\"}, \"bgcolor\": \"#E5ECF6\", \"caxis\": {\"gridcolor\": \"white\", \"linecolor\": \"white\", \"ticks\": \"\"}}, \"title\": {\"x\": 0.05}, \"xaxis\": {\"automargin\": true, \"gridcolor\": \"white\", \"linecolor\": \"white\", \"ticks\": \"\", \"zerolinecolor\": \"white\", \"zerolinewidth\": 2}, \"yaxis\": {\"automargin\": true, \"gridcolor\": \"white\", \"linecolor\": \"white\", \"ticks\": \"\", \"zerolinecolor\": \"white\", \"zerolinewidth\": 2}}}, \"title\": {\"font\": {\"color\": \"rgb(200, 100, 100)\", \"size\": 30}, \"text\": \"Top 15 Skills UCSD alumni mastered\"}},\n",
       "                        {\"responsive\": true}\n",
       "                    ).then(function(){\n",
       "                            \n",
       "var gd = document.getElementById('e6a79e66-4736-48f6-a09d-25bc71f8e365');\n",
       "var x = new MutationObserver(function (mutations, observer) {{\n",
       "        var display = window.getComputedStyle(gd).display;\n",
       "        if (!display || display === 'none') {{\n",
       "            console.log([gd, 'removed!']);\n",
       "            Plotly.purge(gd);\n",
       "            observer.disconnect();\n",
       "        }}\n",
       "}});\n",
       "\n",
       "// Listen for the removal of the full notebook cells\n",
       "var notebookContainer = gd.closest('#notebook-container');\n",
       "if (notebookContainer) {{\n",
       "    x.observe(notebookContainer, {childList: true});\n",
       "}}\n",
       "\n",
       "// Listen for the clearing of the current output cell\n",
       "var outputEl = gd.closest('.output');\n",
       "if (outputEl) {{\n",
       "    x.observe(outputEl, {childList: true});\n",
       "}}\n",
       "\n",
       "                        })\n",
       "                };\n",
       "                });\n",
       "            </script>\n",
       "        </div>"
      ]
     },
     "metadata": {},
     "output_type": "display_data"
    }
   ],
   "source": [
    "if __name__ == '__main__':\n",
    "    \n",
    "    #=============== Set up the data ===================#\n",
    "    skill, number = seperateData(skills)\n",
    "    number = [number[i]/sum(number) for i in range(len(number))] #convert number to percentage\n",
    "    skill, number = getHighest(skill, number, 15)  # Only display the top NO.15 skills\n",
    "\n",
    "    #===============Then Set up the figures ============#\n",
    "    of.offline.init_notebook_mode(connected=True)\n",
    "    trace = [go.Pie(\n",
    "        labels = skill, \n",
    "        values = number, \n",
    "        hole =  0,                          # Modify the radius of the hole, higher means larger hole\n",
    "        text = skill,\n",
    "        textposition = 'auto',\n",
    "        hoverinfo = \"label + percent\")\n",
    "            ]\n",
    "    layout = go.Layout(title =\"Top 15 Skills UCSD alumni mastered\", titlefont=dict(color='rgb(200, 100, 100)',size=30))\n",
    "    data = [trace]\n",
    "    fig = go.Figure(data = trace, layout = layout)\n",
    "    of.iplot(fig)\n"
   ]
  },
  {
   "cell_type": "markdown",
   "metadata": {},
   "source": [
    "### b. People in different companies  -- Bar Chart"
   ]
  },
  {
   "cell_type": "code",
   "execution_count": 12,
   "metadata": {
    "scrolled": false
   },
   "outputs": [
    {
     "name": "stdout",
     "output_type": "stream",
     "text": [
      "['Amazon', 'University of California San Diego', 'Google', 'University of California, San Diego - Jacobs School of Engineering', 'Facebook', 'Microsoft', 'TuSimple', 'Amazon Web Services (AWS)', 'ServiceNow', 'Qualcomm'] [87, 54, 41, 29, 26, 21, 19, 18, 14, 10]\n",
      "['Amazon', 'University of California San Diego', 'Google', 'University of California, San Diego - Jacobs School of Engineering', 'Facebook', 'Microsoft', 'TuSimple', 'Amazon Web Services (AWS)', 'ServiceNow', 'Qualcomm'] [87, 54, 41, 29, 26, 21, 19, 18, 14, 10]\n"
     ]
    },
    {
     "data": {
      "text/html": [
       "        <script type=\"text/javascript\">\n",
       "        window.PlotlyConfig = {MathJaxConfig: 'local'};\n",
       "        if (window.MathJax) {MathJax.Hub.Config({SVG: {font: \"STIX-Web\"}});}\n",
       "        if (typeof require !== 'undefined') {\n",
       "        require.undef(\"plotly\");\n",
       "        requirejs.config({\n",
       "            paths: {\n",
       "                'plotly': ['https://cdn.plot.ly/plotly-latest.min']\n",
       "            }\n",
       "        });\n",
       "        require(['plotly'], function(Plotly) {\n",
       "            window._Plotly = Plotly;\n",
       "        });\n",
       "        }\n",
       "        </script>\n",
       "        "
      ]
     },
     "metadata": {},
     "output_type": "display_data"
    },
    {
     "data": {
      "application/vnd.plotly.v1+json": {
       "config": {
        "linkText": "Export to plot.ly",
        "plotlyServerURL": "https://plot.ly",
        "showLink": false
       },
       "data": [
        {
         "marker": {
          "color": "rgb(255, 125, 102)"
         },
         "orientation": "v",
         "text": [
          "87",
          "54",
          "41",
          "29",
          "26",
          "21",
          "19",
          "18",
          "14",
          "10"
         ],
         "type": "bar",
         "x": [
          "Amazon",
          "University of California San Diego",
          "Google",
          "University of California, San Diego - Jacobs School of Engineering",
          "Facebook",
          "Microsoft",
          "TuSimple",
          "Amazon Web Services (AWS)",
          "ServiceNow",
          "Qualcomm"
         ],
         "y": [
          87,
          54,
          41,
          29,
          26,
          21,
          19,
          18,
          14,
          10
         ]
        }
       ],
       "layout": {
        "plot_bgcolor": "#fff",
        "template": {
         "data": {
          "bar": [
           {
            "error_x": {
             "color": "#2a3f5f"
            },
            "error_y": {
             "color": "#2a3f5f"
            },
            "marker": {
             "line": {
              "color": "#E5ECF6",
              "width": 0.5
             }
            },
            "type": "bar"
           }
          ],
          "barpolar": [
           {
            "marker": {
             "line": {
              "color": "#E5ECF6",
              "width": 0.5
             }
            },
            "type": "barpolar"
           }
          ],
          "carpet": [
           {
            "aaxis": {
             "endlinecolor": "#2a3f5f",
             "gridcolor": "white",
             "linecolor": "white",
             "minorgridcolor": "white",
             "startlinecolor": "#2a3f5f"
            },
            "baxis": {
             "endlinecolor": "#2a3f5f",
             "gridcolor": "white",
             "linecolor": "white",
             "minorgridcolor": "white",
             "startlinecolor": "#2a3f5f"
            },
            "type": "carpet"
           }
          ],
          "choropleth": [
           {
            "colorbar": {
             "outlinewidth": 0,
             "ticks": ""
            },
            "type": "choropleth"
           }
          ],
          "contour": [
           {
            "colorbar": {
             "outlinewidth": 0,
             "ticks": ""
            },
            "colorscale": [
             [
              0,
              "#0d0887"
             ],
             [
              0.1111111111111111,
              "#46039f"
             ],
             [
              0.2222222222222222,
              "#7201a8"
             ],
             [
              0.3333333333333333,
              "#9c179e"
             ],
             [
              0.4444444444444444,
              "#bd3786"
             ],
             [
              0.5555555555555556,
              "#d8576b"
             ],
             [
              0.6666666666666666,
              "#ed7953"
             ],
             [
              0.7777777777777778,
              "#fb9f3a"
             ],
             [
              0.8888888888888888,
              "#fdca26"
             ],
             [
              1,
              "#f0f921"
             ]
            ],
            "type": "contour"
           }
          ],
          "contourcarpet": [
           {
            "colorbar": {
             "outlinewidth": 0,
             "ticks": ""
            },
            "type": "contourcarpet"
           }
          ],
          "heatmap": [
           {
            "colorbar": {
             "outlinewidth": 0,
             "ticks": ""
            },
            "colorscale": [
             [
              0,
              "#0d0887"
             ],
             [
              0.1111111111111111,
              "#46039f"
             ],
             [
              0.2222222222222222,
              "#7201a8"
             ],
             [
              0.3333333333333333,
              "#9c179e"
             ],
             [
              0.4444444444444444,
              "#bd3786"
             ],
             [
              0.5555555555555556,
              "#d8576b"
             ],
             [
              0.6666666666666666,
              "#ed7953"
             ],
             [
              0.7777777777777778,
              "#fb9f3a"
             ],
             [
              0.8888888888888888,
              "#fdca26"
             ],
             [
              1,
              "#f0f921"
             ]
            ],
            "type": "heatmap"
           }
          ],
          "heatmapgl": [
           {
            "colorbar": {
             "outlinewidth": 0,
             "ticks": ""
            },
            "colorscale": [
             [
              0,
              "#0d0887"
             ],
             [
              0.1111111111111111,
              "#46039f"
             ],
             [
              0.2222222222222222,
              "#7201a8"
             ],
             [
              0.3333333333333333,
              "#9c179e"
             ],
             [
              0.4444444444444444,
              "#bd3786"
             ],
             [
              0.5555555555555556,
              "#d8576b"
             ],
             [
              0.6666666666666666,
              "#ed7953"
             ],
             [
              0.7777777777777778,
              "#fb9f3a"
             ],
             [
              0.8888888888888888,
              "#fdca26"
             ],
             [
              1,
              "#f0f921"
             ]
            ],
            "type": "heatmapgl"
           }
          ],
          "histogram": [
           {
            "marker": {
             "colorbar": {
              "outlinewidth": 0,
              "ticks": ""
             }
            },
            "type": "histogram"
           }
          ],
          "histogram2d": [
           {
            "colorbar": {
             "outlinewidth": 0,
             "ticks": ""
            },
            "colorscale": [
             [
              0,
              "#0d0887"
             ],
             [
              0.1111111111111111,
              "#46039f"
             ],
             [
              0.2222222222222222,
              "#7201a8"
             ],
             [
              0.3333333333333333,
              "#9c179e"
             ],
             [
              0.4444444444444444,
              "#bd3786"
             ],
             [
              0.5555555555555556,
              "#d8576b"
             ],
             [
              0.6666666666666666,
              "#ed7953"
             ],
             [
              0.7777777777777778,
              "#fb9f3a"
             ],
             [
              0.8888888888888888,
              "#fdca26"
             ],
             [
              1,
              "#f0f921"
             ]
            ],
            "type": "histogram2d"
           }
          ],
          "histogram2dcontour": [
           {
            "colorbar": {
             "outlinewidth": 0,
             "ticks": ""
            },
            "colorscale": [
             [
              0,
              "#0d0887"
             ],
             [
              0.1111111111111111,
              "#46039f"
             ],
             [
              0.2222222222222222,
              "#7201a8"
             ],
             [
              0.3333333333333333,
              "#9c179e"
             ],
             [
              0.4444444444444444,
              "#bd3786"
             ],
             [
              0.5555555555555556,
              "#d8576b"
             ],
             [
              0.6666666666666666,
              "#ed7953"
             ],
             [
              0.7777777777777778,
              "#fb9f3a"
             ],
             [
              0.8888888888888888,
              "#fdca26"
             ],
             [
              1,
              "#f0f921"
             ]
            ],
            "type": "histogram2dcontour"
           }
          ],
          "mesh3d": [
           {
            "colorbar": {
             "outlinewidth": 0,
             "ticks": ""
            },
            "type": "mesh3d"
           }
          ],
          "parcoords": [
           {
            "line": {
             "colorbar": {
              "outlinewidth": 0,
              "ticks": ""
             }
            },
            "type": "parcoords"
           }
          ],
          "scatter": [
           {
            "marker": {
             "colorbar": {
              "outlinewidth": 0,
              "ticks": ""
             }
            },
            "type": "scatter"
           }
          ],
          "scatter3d": [
           {
            "line": {
             "colorbar": {
              "outlinewidth": 0,
              "ticks": ""
             }
            },
            "marker": {
             "colorbar": {
              "outlinewidth": 0,
              "ticks": ""
             }
            },
            "type": "scatter3d"
           }
          ],
          "scattercarpet": [
           {
            "marker": {
             "colorbar": {
              "outlinewidth": 0,
              "ticks": ""
             }
            },
            "type": "scattercarpet"
           }
          ],
          "scattergeo": [
           {
            "marker": {
             "colorbar": {
              "outlinewidth": 0,
              "ticks": ""
             }
            },
            "type": "scattergeo"
           }
          ],
          "scattergl": [
           {
            "marker": {
             "colorbar": {
              "outlinewidth": 0,
              "ticks": ""
             }
            },
            "type": "scattergl"
           }
          ],
          "scattermapbox": [
           {
            "marker": {
             "colorbar": {
              "outlinewidth": 0,
              "ticks": ""
             }
            },
            "type": "scattermapbox"
           }
          ],
          "scatterpolar": [
           {
            "marker": {
             "colorbar": {
              "outlinewidth": 0,
              "ticks": ""
             }
            },
            "type": "scatterpolar"
           }
          ],
          "scatterpolargl": [
           {
            "marker": {
             "colorbar": {
              "outlinewidth": 0,
              "ticks": ""
             }
            },
            "type": "scatterpolargl"
           }
          ],
          "scatterternary": [
           {
            "marker": {
             "colorbar": {
              "outlinewidth": 0,
              "ticks": ""
             }
            },
            "type": "scatterternary"
           }
          ],
          "surface": [
           {
            "colorbar": {
             "outlinewidth": 0,
             "ticks": ""
            },
            "colorscale": [
             [
              0,
              "#0d0887"
             ],
             [
              0.1111111111111111,
              "#46039f"
             ],
             [
              0.2222222222222222,
              "#7201a8"
             ],
             [
              0.3333333333333333,
              "#9c179e"
             ],
             [
              0.4444444444444444,
              "#bd3786"
             ],
             [
              0.5555555555555556,
              "#d8576b"
             ],
             [
              0.6666666666666666,
              "#ed7953"
             ],
             [
              0.7777777777777778,
              "#fb9f3a"
             ],
             [
              0.8888888888888888,
              "#fdca26"
             ],
             [
              1,
              "#f0f921"
             ]
            ],
            "type": "surface"
           }
          ],
          "table": [
           {
            "cells": {
             "fill": {
              "color": "#EBF0F8"
             },
             "line": {
              "color": "white"
             }
            },
            "header": {
             "fill": {
              "color": "#C8D4E3"
             },
             "line": {
              "color": "white"
             }
            },
            "type": "table"
           }
          ]
         },
         "layout": {
          "annotationdefaults": {
           "arrowcolor": "#2a3f5f",
           "arrowhead": 0,
           "arrowwidth": 1
          },
          "colorscale": {
           "diverging": [
            [
             0,
             "#8e0152"
            ],
            [
             0.1,
             "#c51b7d"
            ],
            [
             0.2,
             "#de77ae"
            ],
            [
             0.3,
             "#f1b6da"
            ],
            [
             0.4,
             "#fde0ef"
            ],
            [
             0.5,
             "#f7f7f7"
            ],
            [
             0.6,
             "#e6f5d0"
            ],
            [
             0.7,
             "#b8e186"
            ],
            [
             0.8,
             "#7fbc41"
            ],
            [
             0.9,
             "#4d9221"
            ],
            [
             1,
             "#276419"
            ]
           ],
           "sequential": [
            [
             0,
             "#0d0887"
            ],
            [
             0.1111111111111111,
             "#46039f"
            ],
            [
             0.2222222222222222,
             "#7201a8"
            ],
            [
             0.3333333333333333,
             "#9c179e"
            ],
            [
             0.4444444444444444,
             "#bd3786"
            ],
            [
             0.5555555555555556,
             "#d8576b"
            ],
            [
             0.6666666666666666,
             "#ed7953"
            ],
            [
             0.7777777777777778,
             "#fb9f3a"
            ],
            [
             0.8888888888888888,
             "#fdca26"
            ],
            [
             1,
             "#f0f921"
            ]
           ],
           "sequentialminus": [
            [
             0,
             "#0d0887"
            ],
            [
             0.1111111111111111,
             "#46039f"
            ],
            [
             0.2222222222222222,
             "#7201a8"
            ],
            [
             0.3333333333333333,
             "#9c179e"
            ],
            [
             0.4444444444444444,
             "#bd3786"
            ],
            [
             0.5555555555555556,
             "#d8576b"
            ],
            [
             0.6666666666666666,
             "#ed7953"
            ],
            [
             0.7777777777777778,
             "#fb9f3a"
            ],
            [
             0.8888888888888888,
             "#fdca26"
            ],
            [
             1,
             "#f0f921"
            ]
           ]
          },
          "colorway": [
           "#636efa",
           "#EF553B",
           "#00cc96",
           "#ab63fa",
           "#FFA15A",
           "#19d3f3",
           "#FF6692",
           "#B6E880",
           "#FF97FF",
           "#FECB52"
          ],
          "font": {
           "color": "#2a3f5f"
          },
          "geo": {
           "bgcolor": "white",
           "lakecolor": "white",
           "landcolor": "#E5ECF6",
           "showlakes": true,
           "showland": true,
           "subunitcolor": "white"
          },
          "hoverlabel": {
           "align": "left"
          },
          "hovermode": "closest",
          "mapbox": {
           "style": "light"
          },
          "paper_bgcolor": "white",
          "plot_bgcolor": "#E5ECF6",
          "polar": {
           "angularaxis": {
            "gridcolor": "white",
            "linecolor": "white",
            "ticks": ""
           },
           "bgcolor": "#E5ECF6",
           "radialaxis": {
            "gridcolor": "white",
            "linecolor": "white",
            "ticks": ""
           }
          },
          "scene": {
           "xaxis": {
            "backgroundcolor": "#E5ECF6",
            "gridcolor": "white",
            "gridwidth": 2,
            "linecolor": "white",
            "showbackground": true,
            "ticks": "",
            "zerolinecolor": "white"
           },
           "yaxis": {
            "backgroundcolor": "#E5ECF6",
            "gridcolor": "white",
            "gridwidth": 2,
            "linecolor": "white",
            "showbackground": true,
            "ticks": "",
            "zerolinecolor": "white"
           },
           "zaxis": {
            "backgroundcolor": "#E5ECF6",
            "gridcolor": "white",
            "gridwidth": 2,
            "linecolor": "white",
            "showbackground": true,
            "ticks": "",
            "zerolinecolor": "white"
           }
          },
          "shapedefaults": {
           "line": {
            "color": "#2a3f5f"
           }
          },
          "ternary": {
           "aaxis": {
            "gridcolor": "white",
            "linecolor": "white",
            "ticks": ""
           },
           "baxis": {
            "gridcolor": "white",
            "linecolor": "white",
            "ticks": ""
           },
           "bgcolor": "#E5ECF6",
           "caxis": {
            "gridcolor": "white",
            "linecolor": "white",
            "ticks": ""
           }
          },
          "title": {
           "x": 0.05
          },
          "xaxis": {
           "automargin": true,
           "gridcolor": "white",
           "linecolor": "white",
           "ticks": "",
           "zerolinecolor": "white",
           "zerolinewidth": 2
          },
          "yaxis": {
           "automargin": true,
           "gridcolor": "white",
           "linecolor": "white",
           "ticks": "",
           "zerolinecolor": "white",
           "zerolinewidth": 2
          }
         }
        },
        "title": {
         "font": {
          "color": "rgb(200, 100, 100)",
          "size": 30
         },
         "text": " Top 10 Companies UCSD alumni went to"
        }
       }
      },
      "text/html": [
       "<div>\n",
       "        \n",
       "        \n",
       "            <div id=\"b3626c5e-2c8a-4c4d-aa38-8137255f64d5\" class=\"plotly-graph-div\" style=\"height:525px; width:100%;\"></div>\n",
       "            <script type=\"text/javascript\">\n",
       "                require([\"plotly\"], function(Plotly) {\n",
       "                    window.PLOTLYENV=window.PLOTLYENV || {};\n",
       "                    \n",
       "                if (document.getElementById(\"b3626c5e-2c8a-4c4d-aa38-8137255f64d5\")) {\n",
       "                    Plotly.newPlot(\n",
       "                        'b3626c5e-2c8a-4c4d-aa38-8137255f64d5',\n",
       "                        [{\"marker\": {\"color\": \"rgb(255, 125, 102)\"}, \"orientation\": \"v\", \"text\": [\"87\", \"54\", \"41\", \"29\", \"26\", \"21\", \"19\", \"18\", \"14\", \"10\"], \"type\": \"bar\", \"x\": [\"Amazon\", \"University of California San Diego\", \"Google\", \"University of California, San Diego - Jacobs School of Engineering\", \"Facebook\", \"Microsoft\", \"TuSimple\", \"Amazon Web Services (AWS)\", \"ServiceNow\", \"Qualcomm\"], \"y\": [87, 54, 41, 29, 26, 21, 19, 18, 14, 10]}],\n",
       "                        {\"plot_bgcolor\": \"#fff\", \"template\": {\"data\": {\"bar\": [{\"error_x\": {\"color\": \"#2a3f5f\"}, \"error_y\": {\"color\": \"#2a3f5f\"}, \"marker\": {\"line\": {\"color\": \"#E5ECF6\", \"width\": 0.5}}, \"type\": \"bar\"}], \"barpolar\": [{\"marker\": {\"line\": {\"color\": \"#E5ECF6\", \"width\": 0.5}}, \"type\": \"barpolar\"}], \"carpet\": [{\"aaxis\": {\"endlinecolor\": \"#2a3f5f\", \"gridcolor\": \"white\", \"linecolor\": \"white\", \"minorgridcolor\": \"white\", \"startlinecolor\": \"#2a3f5f\"}, \"baxis\": {\"endlinecolor\": \"#2a3f5f\", \"gridcolor\": \"white\", \"linecolor\": \"white\", \"minorgridcolor\": \"white\", \"startlinecolor\": \"#2a3f5f\"}, \"type\": \"carpet\"}], \"choropleth\": [{\"colorbar\": {\"outlinewidth\": 0, \"ticks\": \"\"}, \"type\": \"choropleth\"}], \"contour\": [{\"colorbar\": {\"outlinewidth\": 0, \"ticks\": \"\"}, \"colorscale\": [[0.0, \"#0d0887\"], [0.1111111111111111, \"#46039f\"], [0.2222222222222222, \"#7201a8\"], [0.3333333333333333, \"#9c179e\"], [0.4444444444444444, \"#bd3786\"], [0.5555555555555556, \"#d8576b\"], [0.6666666666666666, \"#ed7953\"], [0.7777777777777778, \"#fb9f3a\"], [0.8888888888888888, \"#fdca26\"], [1.0, \"#f0f921\"]], \"type\": \"contour\"}], \"contourcarpet\": [{\"colorbar\": {\"outlinewidth\": 0, \"ticks\": \"\"}, \"type\": \"contourcarpet\"}], \"heatmap\": [{\"colorbar\": {\"outlinewidth\": 0, \"ticks\": \"\"}, \"colorscale\": [[0.0, \"#0d0887\"], [0.1111111111111111, \"#46039f\"], [0.2222222222222222, \"#7201a8\"], [0.3333333333333333, \"#9c179e\"], [0.4444444444444444, \"#bd3786\"], [0.5555555555555556, \"#d8576b\"], [0.6666666666666666, \"#ed7953\"], [0.7777777777777778, \"#fb9f3a\"], [0.8888888888888888, \"#fdca26\"], [1.0, \"#f0f921\"]], \"type\": \"heatmap\"}], \"heatmapgl\": [{\"colorbar\": {\"outlinewidth\": 0, \"ticks\": \"\"}, \"colorscale\": [[0.0, \"#0d0887\"], [0.1111111111111111, \"#46039f\"], [0.2222222222222222, \"#7201a8\"], [0.3333333333333333, \"#9c179e\"], [0.4444444444444444, \"#bd3786\"], [0.5555555555555556, \"#d8576b\"], [0.6666666666666666, \"#ed7953\"], [0.7777777777777778, \"#fb9f3a\"], [0.8888888888888888, \"#fdca26\"], [1.0, \"#f0f921\"]], \"type\": \"heatmapgl\"}], \"histogram\": [{\"marker\": {\"colorbar\": {\"outlinewidth\": 0, \"ticks\": \"\"}}, \"type\": \"histogram\"}], \"histogram2d\": [{\"colorbar\": {\"outlinewidth\": 0, \"ticks\": \"\"}, \"colorscale\": [[0.0, \"#0d0887\"], [0.1111111111111111, \"#46039f\"], [0.2222222222222222, \"#7201a8\"], [0.3333333333333333, \"#9c179e\"], [0.4444444444444444, \"#bd3786\"], [0.5555555555555556, \"#d8576b\"], [0.6666666666666666, \"#ed7953\"], [0.7777777777777778, \"#fb9f3a\"], [0.8888888888888888, \"#fdca26\"], [1.0, \"#f0f921\"]], \"type\": \"histogram2d\"}], \"histogram2dcontour\": [{\"colorbar\": {\"outlinewidth\": 0, \"ticks\": \"\"}, \"colorscale\": [[0.0, \"#0d0887\"], [0.1111111111111111, \"#46039f\"], [0.2222222222222222, \"#7201a8\"], [0.3333333333333333, \"#9c179e\"], [0.4444444444444444, \"#bd3786\"], [0.5555555555555556, \"#d8576b\"], [0.6666666666666666, \"#ed7953\"], [0.7777777777777778, \"#fb9f3a\"], [0.8888888888888888, \"#fdca26\"], [1.0, \"#f0f921\"]], \"type\": \"histogram2dcontour\"}], \"mesh3d\": [{\"colorbar\": {\"outlinewidth\": 0, \"ticks\": \"\"}, \"type\": \"mesh3d\"}], \"parcoords\": [{\"line\": {\"colorbar\": {\"outlinewidth\": 0, \"ticks\": \"\"}}, \"type\": \"parcoords\"}], \"scatter\": [{\"marker\": {\"colorbar\": {\"outlinewidth\": 0, \"ticks\": \"\"}}, \"type\": \"scatter\"}], \"scatter3d\": [{\"line\": {\"colorbar\": {\"outlinewidth\": 0, \"ticks\": \"\"}}, \"marker\": {\"colorbar\": {\"outlinewidth\": 0, \"ticks\": \"\"}}, \"type\": \"scatter3d\"}], \"scattercarpet\": [{\"marker\": {\"colorbar\": {\"outlinewidth\": 0, \"ticks\": \"\"}}, \"type\": \"scattercarpet\"}], \"scattergeo\": [{\"marker\": {\"colorbar\": {\"outlinewidth\": 0, \"ticks\": \"\"}}, \"type\": \"scattergeo\"}], \"scattergl\": [{\"marker\": {\"colorbar\": {\"outlinewidth\": 0, \"ticks\": \"\"}}, \"type\": \"scattergl\"}], \"scattermapbox\": [{\"marker\": {\"colorbar\": {\"outlinewidth\": 0, \"ticks\": \"\"}}, \"type\": \"scattermapbox\"}], \"scatterpolar\": [{\"marker\": {\"colorbar\": {\"outlinewidth\": 0, \"ticks\": \"\"}}, \"type\": \"scatterpolar\"}], \"scatterpolargl\": [{\"marker\": {\"colorbar\": {\"outlinewidth\": 0, \"ticks\": \"\"}}, \"type\": \"scatterpolargl\"}], \"scatterternary\": [{\"marker\": {\"colorbar\": {\"outlinewidth\": 0, \"ticks\": \"\"}}, \"type\": \"scatterternary\"}], \"surface\": [{\"colorbar\": {\"outlinewidth\": 0, \"ticks\": \"\"}, \"colorscale\": [[0.0, \"#0d0887\"], [0.1111111111111111, \"#46039f\"], [0.2222222222222222, \"#7201a8\"], [0.3333333333333333, \"#9c179e\"], [0.4444444444444444, \"#bd3786\"], [0.5555555555555556, \"#d8576b\"], [0.6666666666666666, \"#ed7953\"], [0.7777777777777778, \"#fb9f3a\"], [0.8888888888888888, \"#fdca26\"], [1.0, \"#f0f921\"]], \"type\": \"surface\"}], \"table\": [{\"cells\": {\"fill\": {\"color\": \"#EBF0F8\"}, \"line\": {\"color\": \"white\"}}, \"header\": {\"fill\": {\"color\": \"#C8D4E3\"}, \"line\": {\"color\": \"white\"}}, \"type\": \"table\"}]}, \"layout\": {\"annotationdefaults\": {\"arrowcolor\": \"#2a3f5f\", \"arrowhead\": 0, \"arrowwidth\": 1}, \"colorscale\": {\"diverging\": [[0, \"#8e0152\"], [0.1, \"#c51b7d\"], [0.2, \"#de77ae\"], [0.3, \"#f1b6da\"], [0.4, \"#fde0ef\"], [0.5, \"#f7f7f7\"], [0.6, \"#e6f5d0\"], [0.7, \"#b8e186\"], [0.8, \"#7fbc41\"], [0.9, \"#4d9221\"], [1, \"#276419\"]], \"sequential\": [[0.0, \"#0d0887\"], [0.1111111111111111, \"#46039f\"], [0.2222222222222222, \"#7201a8\"], [0.3333333333333333, \"#9c179e\"], [0.4444444444444444, \"#bd3786\"], [0.5555555555555556, \"#d8576b\"], [0.6666666666666666, \"#ed7953\"], [0.7777777777777778, \"#fb9f3a\"], [0.8888888888888888, \"#fdca26\"], [1.0, \"#f0f921\"]], \"sequentialminus\": [[0.0, \"#0d0887\"], [0.1111111111111111, \"#46039f\"], [0.2222222222222222, \"#7201a8\"], [0.3333333333333333, \"#9c179e\"], [0.4444444444444444, \"#bd3786\"], [0.5555555555555556, \"#d8576b\"], [0.6666666666666666, \"#ed7953\"], [0.7777777777777778, \"#fb9f3a\"], [0.8888888888888888, \"#fdca26\"], [1.0, \"#f0f921\"]]}, \"colorway\": [\"#636efa\", \"#EF553B\", \"#00cc96\", \"#ab63fa\", \"#FFA15A\", \"#19d3f3\", \"#FF6692\", \"#B6E880\", \"#FF97FF\", \"#FECB52\"], \"font\": {\"color\": \"#2a3f5f\"}, \"geo\": {\"bgcolor\": \"white\", \"lakecolor\": \"white\", \"landcolor\": \"#E5ECF6\", \"showlakes\": true, \"showland\": true, \"subunitcolor\": \"white\"}, \"hoverlabel\": {\"align\": \"left\"}, \"hovermode\": \"closest\", \"mapbox\": {\"style\": \"light\"}, \"paper_bgcolor\": \"white\", \"plot_bgcolor\": \"#E5ECF6\", \"polar\": {\"angularaxis\": {\"gridcolor\": \"white\", \"linecolor\": \"white\", \"ticks\": \"\"}, \"bgcolor\": \"#E5ECF6\", \"radialaxis\": {\"gridcolor\": \"white\", \"linecolor\": \"white\", \"ticks\": \"\"}}, \"scene\": {\"xaxis\": {\"backgroundcolor\": \"#E5ECF6\", \"gridcolor\": \"white\", \"gridwidth\": 2, \"linecolor\": \"white\", \"showbackground\": true, \"ticks\": \"\", \"zerolinecolor\": \"white\"}, \"yaxis\": {\"backgroundcolor\": \"#E5ECF6\", \"gridcolor\": \"white\", \"gridwidth\": 2, \"linecolor\": \"white\", \"showbackground\": true, \"ticks\": \"\", \"zerolinecolor\": \"white\"}, \"zaxis\": {\"backgroundcolor\": \"#E5ECF6\", \"gridcolor\": \"white\", \"gridwidth\": 2, \"linecolor\": \"white\", \"showbackground\": true, \"ticks\": \"\", \"zerolinecolor\": \"white\"}}, \"shapedefaults\": {\"line\": {\"color\": \"#2a3f5f\"}}, \"ternary\": {\"aaxis\": {\"gridcolor\": \"white\", \"linecolor\": \"white\", \"ticks\": \"\"}, \"baxis\": {\"gridcolor\": \"white\", \"linecolor\": \"white\", \"ticks\": \"\"}, \"bgcolor\": \"#E5ECF6\", \"caxis\": {\"gridcolor\": \"white\", \"linecolor\": \"white\", \"ticks\": \"\"}}, \"title\": {\"x\": 0.05}, \"xaxis\": {\"automargin\": true, \"gridcolor\": \"white\", \"linecolor\": \"white\", \"ticks\": \"\", \"zerolinecolor\": \"white\", \"zerolinewidth\": 2}, \"yaxis\": {\"automargin\": true, \"gridcolor\": \"white\", \"linecolor\": \"white\", \"ticks\": \"\", \"zerolinecolor\": \"white\", \"zerolinewidth\": 2}}}, \"title\": {\"font\": {\"color\": \"rgb(200, 100, 100)\", \"size\": 30}, \"text\": \" Top 10 Companies UCSD alumni went to\"}},\n",
       "                        {\"responsive\": true}\n",
       "                    ).then(function(){\n",
       "                            \n",
       "var gd = document.getElementById('b3626c5e-2c8a-4c4d-aa38-8137255f64d5');\n",
       "var x = new MutationObserver(function (mutations, observer) {{\n",
       "        var display = window.getComputedStyle(gd).display;\n",
       "        if (!display || display === 'none') {{\n",
       "            console.log([gd, 'removed!']);\n",
       "            Plotly.purge(gd);\n",
       "            observer.disconnect();\n",
       "        }}\n",
       "}});\n",
       "\n",
       "// Listen for the removal of the full notebook cells\n",
       "var notebookContainer = gd.closest('#notebook-container');\n",
       "if (notebookContainer) {{\n",
       "    x.observe(notebookContainer, {childList: true});\n",
       "}}\n",
       "\n",
       "// Listen for the clearing of the current output cell\n",
       "var outputEl = gd.closest('.output');\n",
       "if (outputEl) {{\n",
       "    x.observe(outputEl, {childList: true});\n",
       "}}\n",
       "\n",
       "                        })\n",
       "                };\n",
       "                });\n",
       "            </script>\n",
       "        </div>"
      ]
     },
     "metadata": {},
     "output_type": "display_data"
    }
   ],
   "source": [
    "if __name__ == '__main__':\n",
    "    #=============== Set up the data ===================#\n",
    "    company, number = seperateData(companies)\n",
    "    company, number = getHighest(company, number, 10)  # Only display the top NO.15 companies\n",
    "    print(company, number)\n",
    "    company, number = getSorted(company, number)\n",
    "    print(company, number)\n",
    "    #============== Set up the Figures =================#\n",
    "    of.offline.init_notebook_mode(connected=True)\n",
    "    trace = [go.Bar(\n",
    "        x = company,\n",
    "        y = number,\n",
    "        orientation='v',\n",
    "        text = number,\n",
    "#         textposition = 'auto',\n",
    "        marker_color='rgb(255, 125, 102)'\n",
    "    )]\n",
    "    layout = go.Layout(plot_bgcolor='#fff', title =\" Top 10 Companies UCSD alumni went to\", titlefont=dict(color='rgb(200, 100, 100)',size=30))\n",
    "    data = [trace]\n",
    "    fig = go.Figure(data = trace, layout = layout)\n",
    "    of.iplot(fig)\n",
    "    "
   ]
  },
  {
   "cell_type": "markdown",
   "metadata": {},
   "source": [
    "### c. Industry that UCSD Alumni went to -- radar chart\n",
    "#### reference links: https://plot.ly/python/radar-chart/"
   ]
  },
  {
   "cell_type": "code",
   "execution_count": 14,
   "metadata": {},
   "outputs": [
    {
     "data": {
      "application/vnd.plotly.v1+json": {
       "config": {
        "plotlyServerURL": "https://plot.ly"
       },
       "data": [
        {
         "fill": "toself",
         "marker": {
          "color": "rgb(255, 125, 102)"
         },
         "name": "Industry that UCSD Alumni went to",
         "opacity": 0.5,
         "r": [
          608,
          108,
          31,
          17,
          13
         ],
         "theta": [
          "Computer Software",
          "Internet",
          "Information Technology & Services",
          "Higher Education",
          "Research"
         ],
         "type": "scatterpolar"
        }
       ],
       "layout": {
        "plot_bgcolor": "#fff",
        "polar": {
         "radialaxis": {
          "range": [
           0,
           620
          ],
          "visible": true
         }
        },
        "showlegend": true,
        "template": {
         "data": {
          "bar": [
           {
            "error_x": {
             "color": "#2a3f5f"
            },
            "error_y": {
             "color": "#2a3f5f"
            },
            "marker": {
             "line": {
              "color": "#E5ECF6",
              "width": 0.5
             }
            },
            "type": "bar"
           }
          ],
          "barpolar": [
           {
            "marker": {
             "line": {
              "color": "#E5ECF6",
              "width": 0.5
             }
            },
            "type": "barpolar"
           }
          ],
          "carpet": [
           {
            "aaxis": {
             "endlinecolor": "#2a3f5f",
             "gridcolor": "white",
             "linecolor": "white",
             "minorgridcolor": "white",
             "startlinecolor": "#2a3f5f"
            },
            "baxis": {
             "endlinecolor": "#2a3f5f",
             "gridcolor": "white",
             "linecolor": "white",
             "minorgridcolor": "white",
             "startlinecolor": "#2a3f5f"
            },
            "type": "carpet"
           }
          ],
          "choropleth": [
           {
            "colorbar": {
             "outlinewidth": 0,
             "ticks": ""
            },
            "type": "choropleth"
           }
          ],
          "contour": [
           {
            "colorbar": {
             "outlinewidth": 0,
             "ticks": ""
            },
            "colorscale": [
             [
              0,
              "#0d0887"
             ],
             [
              0.1111111111111111,
              "#46039f"
             ],
             [
              0.2222222222222222,
              "#7201a8"
             ],
             [
              0.3333333333333333,
              "#9c179e"
             ],
             [
              0.4444444444444444,
              "#bd3786"
             ],
             [
              0.5555555555555556,
              "#d8576b"
             ],
             [
              0.6666666666666666,
              "#ed7953"
             ],
             [
              0.7777777777777778,
              "#fb9f3a"
             ],
             [
              0.8888888888888888,
              "#fdca26"
             ],
             [
              1,
              "#f0f921"
             ]
            ],
            "type": "contour"
           }
          ],
          "contourcarpet": [
           {
            "colorbar": {
             "outlinewidth": 0,
             "ticks": ""
            },
            "type": "contourcarpet"
           }
          ],
          "heatmap": [
           {
            "colorbar": {
             "outlinewidth": 0,
             "ticks": ""
            },
            "colorscale": [
             [
              0,
              "#0d0887"
             ],
             [
              0.1111111111111111,
              "#46039f"
             ],
             [
              0.2222222222222222,
              "#7201a8"
             ],
             [
              0.3333333333333333,
              "#9c179e"
             ],
             [
              0.4444444444444444,
              "#bd3786"
             ],
             [
              0.5555555555555556,
              "#d8576b"
             ],
             [
              0.6666666666666666,
              "#ed7953"
             ],
             [
              0.7777777777777778,
              "#fb9f3a"
             ],
             [
              0.8888888888888888,
              "#fdca26"
             ],
             [
              1,
              "#f0f921"
             ]
            ],
            "type": "heatmap"
           }
          ],
          "heatmapgl": [
           {
            "colorbar": {
             "outlinewidth": 0,
             "ticks": ""
            },
            "colorscale": [
             [
              0,
              "#0d0887"
             ],
             [
              0.1111111111111111,
              "#46039f"
             ],
             [
              0.2222222222222222,
              "#7201a8"
             ],
             [
              0.3333333333333333,
              "#9c179e"
             ],
             [
              0.4444444444444444,
              "#bd3786"
             ],
             [
              0.5555555555555556,
              "#d8576b"
             ],
             [
              0.6666666666666666,
              "#ed7953"
             ],
             [
              0.7777777777777778,
              "#fb9f3a"
             ],
             [
              0.8888888888888888,
              "#fdca26"
             ],
             [
              1,
              "#f0f921"
             ]
            ],
            "type": "heatmapgl"
           }
          ],
          "histogram": [
           {
            "marker": {
             "colorbar": {
              "outlinewidth": 0,
              "ticks": ""
             }
            },
            "type": "histogram"
           }
          ],
          "histogram2d": [
           {
            "colorbar": {
             "outlinewidth": 0,
             "ticks": ""
            },
            "colorscale": [
             [
              0,
              "#0d0887"
             ],
             [
              0.1111111111111111,
              "#46039f"
             ],
             [
              0.2222222222222222,
              "#7201a8"
             ],
             [
              0.3333333333333333,
              "#9c179e"
             ],
             [
              0.4444444444444444,
              "#bd3786"
             ],
             [
              0.5555555555555556,
              "#d8576b"
             ],
             [
              0.6666666666666666,
              "#ed7953"
             ],
             [
              0.7777777777777778,
              "#fb9f3a"
             ],
             [
              0.8888888888888888,
              "#fdca26"
             ],
             [
              1,
              "#f0f921"
             ]
            ],
            "type": "histogram2d"
           }
          ],
          "histogram2dcontour": [
           {
            "colorbar": {
             "outlinewidth": 0,
             "ticks": ""
            },
            "colorscale": [
             [
              0,
              "#0d0887"
             ],
             [
              0.1111111111111111,
              "#46039f"
             ],
             [
              0.2222222222222222,
              "#7201a8"
             ],
             [
              0.3333333333333333,
              "#9c179e"
             ],
             [
              0.4444444444444444,
              "#bd3786"
             ],
             [
              0.5555555555555556,
              "#d8576b"
             ],
             [
              0.6666666666666666,
              "#ed7953"
             ],
             [
              0.7777777777777778,
              "#fb9f3a"
             ],
             [
              0.8888888888888888,
              "#fdca26"
             ],
             [
              1,
              "#f0f921"
             ]
            ],
            "type": "histogram2dcontour"
           }
          ],
          "mesh3d": [
           {
            "colorbar": {
             "outlinewidth": 0,
             "ticks": ""
            },
            "type": "mesh3d"
           }
          ],
          "parcoords": [
           {
            "line": {
             "colorbar": {
              "outlinewidth": 0,
              "ticks": ""
             }
            },
            "type": "parcoords"
           }
          ],
          "scatter": [
           {
            "marker": {
             "colorbar": {
              "outlinewidth": 0,
              "ticks": ""
             }
            },
            "type": "scatter"
           }
          ],
          "scatter3d": [
           {
            "line": {
             "colorbar": {
              "outlinewidth": 0,
              "ticks": ""
             }
            },
            "marker": {
             "colorbar": {
              "outlinewidth": 0,
              "ticks": ""
             }
            },
            "type": "scatter3d"
           }
          ],
          "scattercarpet": [
           {
            "marker": {
             "colorbar": {
              "outlinewidth": 0,
              "ticks": ""
             }
            },
            "type": "scattercarpet"
           }
          ],
          "scattergeo": [
           {
            "marker": {
             "colorbar": {
              "outlinewidth": 0,
              "ticks": ""
             }
            },
            "type": "scattergeo"
           }
          ],
          "scattergl": [
           {
            "marker": {
             "colorbar": {
              "outlinewidth": 0,
              "ticks": ""
             }
            },
            "type": "scattergl"
           }
          ],
          "scattermapbox": [
           {
            "marker": {
             "colorbar": {
              "outlinewidth": 0,
              "ticks": ""
             }
            },
            "type": "scattermapbox"
           }
          ],
          "scatterpolar": [
           {
            "marker": {
             "colorbar": {
              "outlinewidth": 0,
              "ticks": ""
             }
            },
            "type": "scatterpolar"
           }
          ],
          "scatterpolargl": [
           {
            "marker": {
             "colorbar": {
              "outlinewidth": 0,
              "ticks": ""
             }
            },
            "type": "scatterpolargl"
           }
          ],
          "scatterternary": [
           {
            "marker": {
             "colorbar": {
              "outlinewidth": 0,
              "ticks": ""
             }
            },
            "type": "scatterternary"
           }
          ],
          "surface": [
           {
            "colorbar": {
             "outlinewidth": 0,
             "ticks": ""
            },
            "colorscale": [
             [
              0,
              "#0d0887"
             ],
             [
              0.1111111111111111,
              "#46039f"
             ],
             [
              0.2222222222222222,
              "#7201a8"
             ],
             [
              0.3333333333333333,
              "#9c179e"
             ],
             [
              0.4444444444444444,
              "#bd3786"
             ],
             [
              0.5555555555555556,
              "#d8576b"
             ],
             [
              0.6666666666666666,
              "#ed7953"
             ],
             [
              0.7777777777777778,
              "#fb9f3a"
             ],
             [
              0.8888888888888888,
              "#fdca26"
             ],
             [
              1,
              "#f0f921"
             ]
            ],
            "type": "surface"
           }
          ],
          "table": [
           {
            "cells": {
             "fill": {
              "color": "#EBF0F8"
             },
             "line": {
              "color": "white"
             }
            },
            "header": {
             "fill": {
              "color": "#C8D4E3"
             },
             "line": {
              "color": "white"
             }
            },
            "type": "table"
           }
          ]
         },
         "layout": {
          "annotationdefaults": {
           "arrowcolor": "#2a3f5f",
           "arrowhead": 0,
           "arrowwidth": 1
          },
          "colorscale": {
           "diverging": [
            [
             0,
             "#8e0152"
            ],
            [
             0.1,
             "#c51b7d"
            ],
            [
             0.2,
             "#de77ae"
            ],
            [
             0.3,
             "#f1b6da"
            ],
            [
             0.4,
             "#fde0ef"
            ],
            [
             0.5,
             "#f7f7f7"
            ],
            [
             0.6,
             "#e6f5d0"
            ],
            [
             0.7,
             "#b8e186"
            ],
            [
             0.8,
             "#7fbc41"
            ],
            [
             0.9,
             "#4d9221"
            ],
            [
             1,
             "#276419"
            ]
           ],
           "sequential": [
            [
             0,
             "#0d0887"
            ],
            [
             0.1111111111111111,
             "#46039f"
            ],
            [
             0.2222222222222222,
             "#7201a8"
            ],
            [
             0.3333333333333333,
             "#9c179e"
            ],
            [
             0.4444444444444444,
             "#bd3786"
            ],
            [
             0.5555555555555556,
             "#d8576b"
            ],
            [
             0.6666666666666666,
             "#ed7953"
            ],
            [
             0.7777777777777778,
             "#fb9f3a"
            ],
            [
             0.8888888888888888,
             "#fdca26"
            ],
            [
             1,
             "#f0f921"
            ]
           ],
           "sequentialminus": [
            [
             0,
             "#0d0887"
            ],
            [
             0.1111111111111111,
             "#46039f"
            ],
            [
             0.2222222222222222,
             "#7201a8"
            ],
            [
             0.3333333333333333,
             "#9c179e"
            ],
            [
             0.4444444444444444,
             "#bd3786"
            ],
            [
             0.5555555555555556,
             "#d8576b"
            ],
            [
             0.6666666666666666,
             "#ed7953"
            ],
            [
             0.7777777777777778,
             "#fb9f3a"
            ],
            [
             0.8888888888888888,
             "#fdca26"
            ],
            [
             1,
             "#f0f921"
            ]
           ]
          },
          "colorway": [
           "#636efa",
           "#EF553B",
           "#00cc96",
           "#ab63fa",
           "#FFA15A",
           "#19d3f3",
           "#FF6692",
           "#B6E880",
           "#FF97FF",
           "#FECB52"
          ],
          "font": {
           "color": "#2a3f5f"
          },
          "geo": {
           "bgcolor": "white",
           "lakecolor": "white",
           "landcolor": "#E5ECF6",
           "showlakes": true,
           "showland": true,
           "subunitcolor": "white"
          },
          "hoverlabel": {
           "align": "left"
          },
          "hovermode": "closest",
          "mapbox": {
           "style": "light"
          },
          "paper_bgcolor": "white",
          "plot_bgcolor": "#E5ECF6",
          "polar": {
           "angularaxis": {
            "gridcolor": "white",
            "linecolor": "white",
            "ticks": ""
           },
           "bgcolor": "#E5ECF6",
           "radialaxis": {
            "gridcolor": "white",
            "linecolor": "white",
            "ticks": ""
           }
          },
          "scene": {
           "xaxis": {
            "backgroundcolor": "#E5ECF6",
            "gridcolor": "white",
            "gridwidth": 2,
            "linecolor": "white",
            "showbackground": true,
            "ticks": "",
            "zerolinecolor": "white"
           },
           "yaxis": {
            "backgroundcolor": "#E5ECF6",
            "gridcolor": "white",
            "gridwidth": 2,
            "linecolor": "white",
            "showbackground": true,
            "ticks": "",
            "zerolinecolor": "white"
           },
           "zaxis": {
            "backgroundcolor": "#E5ECF6",
            "gridcolor": "white",
            "gridwidth": 2,
            "linecolor": "white",
            "showbackground": true,
            "ticks": "",
            "zerolinecolor": "white"
           }
          },
          "shapedefaults": {
           "line": {
            "color": "#2a3f5f"
           }
          },
          "ternary": {
           "aaxis": {
            "gridcolor": "white",
            "linecolor": "white",
            "ticks": ""
           },
           "baxis": {
            "gridcolor": "white",
            "linecolor": "white",
            "ticks": ""
           },
           "bgcolor": "#E5ECF6",
           "caxis": {
            "gridcolor": "white",
            "linecolor": "white",
            "ticks": ""
           }
          },
          "title": {
           "x": 0.05
          },
          "xaxis": {
           "automargin": true,
           "gridcolor": "white",
           "linecolor": "white",
           "ticks": "",
           "zerolinecolor": "white",
           "zerolinewidth": 2
          },
          "yaxis": {
           "automargin": true,
           "gridcolor": "white",
           "linecolor": "white",
           "ticks": "",
           "zerolinecolor": "white",
           "zerolinewidth": 2
          }
         }
        },
        "title": {
         "font": {
          "color": "rgb(200, 100, 100)",
          "size": 30
         },
         "text": " Top 5 Industry UCSD alumni went to"
        }
       }
      },
      "text/html": [
       "<div>\n",
       "        \n",
       "        \n",
       "            <div id=\"4e9d68eb-4a27-4ed6-9eab-572742cdb7ac\" class=\"plotly-graph-div\" style=\"height:525px; width:100%;\"></div>\n",
       "            <script type=\"text/javascript\">\n",
       "                require([\"plotly\"], function(Plotly) {\n",
       "                    window.PLOTLYENV=window.PLOTLYENV || {};\n",
       "                    \n",
       "                if (document.getElementById(\"4e9d68eb-4a27-4ed6-9eab-572742cdb7ac\")) {\n",
       "                    Plotly.newPlot(\n",
       "                        '4e9d68eb-4a27-4ed6-9eab-572742cdb7ac',\n",
       "                        [{\"fill\": \"toself\", \"marker\": {\"color\": \"rgb(255, 125, 102)\"}, \"name\": \"Industry that UCSD Alumni went to\", \"opacity\": 0.5, \"r\": [608, 108, 31, 17, 13], \"theta\": [\"Computer Software\", \"Internet\", \"Information Technology & Services\", \"Higher Education\", \"Research\"], \"type\": \"scatterpolar\"}],\n",
       "                        {\"plot_bgcolor\": \"#fff\", \"polar\": {\"radialaxis\": {\"range\": [0, 620], \"visible\": true}}, \"showlegend\": true, \"template\": {\"data\": {\"bar\": [{\"error_x\": {\"color\": \"#2a3f5f\"}, \"error_y\": {\"color\": \"#2a3f5f\"}, \"marker\": {\"line\": {\"color\": \"#E5ECF6\", \"width\": 0.5}}, \"type\": \"bar\"}], \"barpolar\": [{\"marker\": {\"line\": {\"color\": \"#E5ECF6\", \"width\": 0.5}}, \"type\": \"barpolar\"}], \"carpet\": [{\"aaxis\": {\"endlinecolor\": \"#2a3f5f\", \"gridcolor\": \"white\", \"linecolor\": \"white\", \"minorgridcolor\": \"white\", \"startlinecolor\": \"#2a3f5f\"}, \"baxis\": {\"endlinecolor\": \"#2a3f5f\", \"gridcolor\": \"white\", \"linecolor\": \"white\", \"minorgridcolor\": \"white\", \"startlinecolor\": \"#2a3f5f\"}, \"type\": \"carpet\"}], \"choropleth\": [{\"colorbar\": {\"outlinewidth\": 0, \"ticks\": \"\"}, \"type\": \"choropleth\"}], \"contour\": [{\"colorbar\": {\"outlinewidth\": 0, \"ticks\": \"\"}, \"colorscale\": [[0.0, \"#0d0887\"], [0.1111111111111111, \"#46039f\"], [0.2222222222222222, \"#7201a8\"], [0.3333333333333333, \"#9c179e\"], [0.4444444444444444, \"#bd3786\"], [0.5555555555555556, \"#d8576b\"], [0.6666666666666666, \"#ed7953\"], [0.7777777777777778, \"#fb9f3a\"], [0.8888888888888888, \"#fdca26\"], [1.0, \"#f0f921\"]], \"type\": \"contour\"}], \"contourcarpet\": [{\"colorbar\": {\"outlinewidth\": 0, \"ticks\": \"\"}, \"type\": \"contourcarpet\"}], \"heatmap\": [{\"colorbar\": {\"outlinewidth\": 0, \"ticks\": \"\"}, \"colorscale\": [[0.0, \"#0d0887\"], [0.1111111111111111, \"#46039f\"], [0.2222222222222222, \"#7201a8\"], [0.3333333333333333, \"#9c179e\"], [0.4444444444444444, \"#bd3786\"], [0.5555555555555556, \"#d8576b\"], [0.6666666666666666, \"#ed7953\"], [0.7777777777777778, \"#fb9f3a\"], [0.8888888888888888, \"#fdca26\"], [1.0, \"#f0f921\"]], \"type\": \"heatmap\"}], \"heatmapgl\": [{\"colorbar\": {\"outlinewidth\": 0, \"ticks\": \"\"}, \"colorscale\": [[0.0, \"#0d0887\"], [0.1111111111111111, \"#46039f\"], [0.2222222222222222, \"#7201a8\"], [0.3333333333333333, \"#9c179e\"], [0.4444444444444444, \"#bd3786\"], [0.5555555555555556, \"#d8576b\"], [0.6666666666666666, \"#ed7953\"], [0.7777777777777778, \"#fb9f3a\"], [0.8888888888888888, \"#fdca26\"], [1.0, \"#f0f921\"]], \"type\": \"heatmapgl\"}], \"histogram\": [{\"marker\": {\"colorbar\": {\"outlinewidth\": 0, \"ticks\": \"\"}}, \"type\": \"histogram\"}], \"histogram2d\": [{\"colorbar\": {\"outlinewidth\": 0, \"ticks\": \"\"}, \"colorscale\": [[0.0, \"#0d0887\"], [0.1111111111111111, \"#46039f\"], [0.2222222222222222, \"#7201a8\"], [0.3333333333333333, \"#9c179e\"], [0.4444444444444444, \"#bd3786\"], [0.5555555555555556, \"#d8576b\"], [0.6666666666666666, \"#ed7953\"], [0.7777777777777778, \"#fb9f3a\"], [0.8888888888888888, \"#fdca26\"], [1.0, \"#f0f921\"]], \"type\": \"histogram2d\"}], \"histogram2dcontour\": [{\"colorbar\": {\"outlinewidth\": 0, \"ticks\": \"\"}, \"colorscale\": [[0.0, \"#0d0887\"], [0.1111111111111111, \"#46039f\"], [0.2222222222222222, \"#7201a8\"], [0.3333333333333333, \"#9c179e\"], [0.4444444444444444, \"#bd3786\"], [0.5555555555555556, \"#d8576b\"], [0.6666666666666666, \"#ed7953\"], [0.7777777777777778, \"#fb9f3a\"], [0.8888888888888888, \"#fdca26\"], [1.0, \"#f0f921\"]], \"type\": \"histogram2dcontour\"}], \"mesh3d\": [{\"colorbar\": {\"outlinewidth\": 0, \"ticks\": \"\"}, \"type\": \"mesh3d\"}], \"parcoords\": [{\"line\": {\"colorbar\": {\"outlinewidth\": 0, \"ticks\": \"\"}}, \"type\": \"parcoords\"}], \"scatter\": [{\"marker\": {\"colorbar\": {\"outlinewidth\": 0, \"ticks\": \"\"}}, \"type\": \"scatter\"}], \"scatter3d\": [{\"line\": {\"colorbar\": {\"outlinewidth\": 0, \"ticks\": \"\"}}, \"marker\": {\"colorbar\": {\"outlinewidth\": 0, \"ticks\": \"\"}}, \"type\": \"scatter3d\"}], \"scattercarpet\": [{\"marker\": {\"colorbar\": {\"outlinewidth\": 0, \"ticks\": \"\"}}, \"type\": \"scattercarpet\"}], \"scattergeo\": [{\"marker\": {\"colorbar\": {\"outlinewidth\": 0, \"ticks\": \"\"}}, \"type\": \"scattergeo\"}], \"scattergl\": [{\"marker\": {\"colorbar\": {\"outlinewidth\": 0, \"ticks\": \"\"}}, \"type\": \"scattergl\"}], \"scattermapbox\": [{\"marker\": {\"colorbar\": {\"outlinewidth\": 0, \"ticks\": \"\"}}, \"type\": \"scattermapbox\"}], \"scatterpolar\": [{\"marker\": {\"colorbar\": {\"outlinewidth\": 0, \"ticks\": \"\"}}, \"type\": \"scatterpolar\"}], \"scatterpolargl\": [{\"marker\": {\"colorbar\": {\"outlinewidth\": 0, \"ticks\": \"\"}}, \"type\": \"scatterpolargl\"}], \"scatterternary\": [{\"marker\": {\"colorbar\": {\"outlinewidth\": 0, \"ticks\": \"\"}}, \"type\": \"scatterternary\"}], \"surface\": [{\"colorbar\": {\"outlinewidth\": 0, \"ticks\": \"\"}, \"colorscale\": [[0.0, \"#0d0887\"], [0.1111111111111111, \"#46039f\"], [0.2222222222222222, \"#7201a8\"], [0.3333333333333333, \"#9c179e\"], [0.4444444444444444, \"#bd3786\"], [0.5555555555555556, \"#d8576b\"], [0.6666666666666666, \"#ed7953\"], [0.7777777777777778, \"#fb9f3a\"], [0.8888888888888888, \"#fdca26\"], [1.0, \"#f0f921\"]], \"type\": \"surface\"}], \"table\": [{\"cells\": {\"fill\": {\"color\": \"#EBF0F8\"}, \"line\": {\"color\": \"white\"}}, \"header\": {\"fill\": {\"color\": \"#C8D4E3\"}, \"line\": {\"color\": \"white\"}}, \"type\": \"table\"}]}, \"layout\": {\"annotationdefaults\": {\"arrowcolor\": \"#2a3f5f\", \"arrowhead\": 0, \"arrowwidth\": 1}, \"colorscale\": {\"diverging\": [[0, \"#8e0152\"], [0.1, \"#c51b7d\"], [0.2, \"#de77ae\"], [0.3, \"#f1b6da\"], [0.4, \"#fde0ef\"], [0.5, \"#f7f7f7\"], [0.6, \"#e6f5d0\"], [0.7, \"#b8e186\"], [0.8, \"#7fbc41\"], [0.9, \"#4d9221\"], [1, \"#276419\"]], \"sequential\": [[0.0, \"#0d0887\"], [0.1111111111111111, \"#46039f\"], [0.2222222222222222, \"#7201a8\"], [0.3333333333333333, \"#9c179e\"], [0.4444444444444444, \"#bd3786\"], [0.5555555555555556, \"#d8576b\"], [0.6666666666666666, \"#ed7953\"], [0.7777777777777778, \"#fb9f3a\"], [0.8888888888888888, \"#fdca26\"], [1.0, \"#f0f921\"]], \"sequentialminus\": [[0.0, \"#0d0887\"], [0.1111111111111111, \"#46039f\"], [0.2222222222222222, \"#7201a8\"], [0.3333333333333333, \"#9c179e\"], [0.4444444444444444, \"#bd3786\"], [0.5555555555555556, \"#d8576b\"], [0.6666666666666666, \"#ed7953\"], [0.7777777777777778, \"#fb9f3a\"], [0.8888888888888888, \"#fdca26\"], [1.0, \"#f0f921\"]]}, \"colorway\": [\"#636efa\", \"#EF553B\", \"#00cc96\", \"#ab63fa\", \"#FFA15A\", \"#19d3f3\", \"#FF6692\", \"#B6E880\", \"#FF97FF\", \"#FECB52\"], \"font\": {\"color\": \"#2a3f5f\"}, \"geo\": {\"bgcolor\": \"white\", \"lakecolor\": \"white\", \"landcolor\": \"#E5ECF6\", \"showlakes\": true, \"showland\": true, \"subunitcolor\": \"white\"}, \"hoverlabel\": {\"align\": \"left\"}, \"hovermode\": \"closest\", \"mapbox\": {\"style\": \"light\"}, \"paper_bgcolor\": \"white\", \"plot_bgcolor\": \"#E5ECF6\", \"polar\": {\"angularaxis\": {\"gridcolor\": \"white\", \"linecolor\": \"white\", \"ticks\": \"\"}, \"bgcolor\": \"#E5ECF6\", \"radialaxis\": {\"gridcolor\": \"white\", \"linecolor\": \"white\", \"ticks\": \"\"}}, \"scene\": {\"xaxis\": {\"backgroundcolor\": \"#E5ECF6\", \"gridcolor\": \"white\", \"gridwidth\": 2, \"linecolor\": \"white\", \"showbackground\": true, \"ticks\": \"\", \"zerolinecolor\": \"white\"}, \"yaxis\": {\"backgroundcolor\": \"#E5ECF6\", \"gridcolor\": \"white\", \"gridwidth\": 2, \"linecolor\": \"white\", \"showbackground\": true, \"ticks\": \"\", \"zerolinecolor\": \"white\"}, \"zaxis\": {\"backgroundcolor\": \"#E5ECF6\", \"gridcolor\": \"white\", \"gridwidth\": 2, \"linecolor\": \"white\", \"showbackground\": true, \"ticks\": \"\", \"zerolinecolor\": \"white\"}}, \"shapedefaults\": {\"line\": {\"color\": \"#2a3f5f\"}}, \"ternary\": {\"aaxis\": {\"gridcolor\": \"white\", \"linecolor\": \"white\", \"ticks\": \"\"}, \"baxis\": {\"gridcolor\": \"white\", \"linecolor\": \"white\", \"ticks\": \"\"}, \"bgcolor\": \"#E5ECF6\", \"caxis\": {\"gridcolor\": \"white\", \"linecolor\": \"white\", \"ticks\": \"\"}}, \"title\": {\"x\": 0.05}, \"xaxis\": {\"automargin\": true, \"gridcolor\": \"white\", \"linecolor\": \"white\", \"ticks\": \"\", \"zerolinecolor\": \"white\", \"zerolinewidth\": 2}, \"yaxis\": {\"automargin\": true, \"gridcolor\": \"white\", \"linecolor\": \"white\", \"ticks\": \"\", \"zerolinecolor\": \"white\", \"zerolinewidth\": 2}}}, \"title\": {\"font\": {\"color\": \"rgb(200, 100, 100)\", \"size\": 30}, \"text\": \" Top 5 Industry UCSD alumni went to\"}},\n",
       "                        {\"responsive\": true}\n",
       "                    ).then(function(){\n",
       "                            \n",
       "var gd = document.getElementById('4e9d68eb-4a27-4ed6-9eab-572742cdb7ac');\n",
       "var x = new MutationObserver(function (mutations, observer) {{\n",
       "        var display = window.getComputedStyle(gd).display;\n",
       "        if (!display || display === 'none') {{\n",
       "            console.log([gd, 'removed!']);\n",
       "            Plotly.purge(gd);\n",
       "            observer.disconnect();\n",
       "        }}\n",
       "}});\n",
       "\n",
       "// Listen for the removal of the full notebook cells\n",
       "var notebookContainer = gd.closest('#notebook-container');\n",
       "if (notebookContainer) {{\n",
       "    x.observe(notebookContainer, {childList: true});\n",
       "}}\n",
       "\n",
       "// Listen for the clearing of the current output cell\n",
       "var outputEl = gd.closest('.output');\n",
       "if (outputEl) {{\n",
       "    x.observe(outputEl, {childList: true});\n",
       "}}\n",
       "\n",
       "                        })\n",
       "                };\n",
       "                });\n",
       "            </script>\n",
       "        </div>"
      ]
     },
     "metadata": {},
     "output_type": "display_data"
    }
   ],
   "source": [
    "if __name__ == '__main__':\n",
    "    #=============== Set up the data ===================#\n",
    "    industries, number = seperateData(industry)\n",
    "#     print(industries)\n",
    "    industries, number = getHighest(industries, number, 5)  # Only display the top NO.15 industries\n",
    "\n",
    "    #============== Set up the Figures =================#\n",
    "    fig = go.Figure()\n",
    "    fig.add_trace(go.Scatterpolar(\n",
    "      r=number,\n",
    "      theta=industries,\n",
    "      fill='toself',\n",
    "      name='Industry that UCSD Alumni went to',\n",
    "      opacity  = 0.5, # Set up the opacity of the figure\n",
    "      marker_color='rgb(255, 125, 102)' #Adjust the color of the covered area\n",
    "    ))\n",
    "\n",
    "    fig.update_layout(\n",
    "    plot_bgcolor='#fff',\n",
    "    polar=dict(\n",
    "    radialaxis=dict(\n",
    "      visible=True,\n",
    "      range=[0, 620]\n",
    "    )),\n",
    "    title =\" Top 5 Industry UCSD alumni went to\", \n",
    "    titlefont=dict(color='rgb(200, 100, 100)',size=30),\n",
    "    showlegend=True\n",
    ")\n",
    "    fig.show()"
   ]
  },
  {
   "cell_type": "markdown",
   "metadata": {},
   "source": [
    "### d. Location that UCSD Alumni went to"
   ]
  },
  {
   "cell_type": "code",
   "execution_count": 36,
   "metadata": {},
   "outputs": [
    {
     "name": "stdout",
     "output_type": "stream",
     "text": [
      "[('California', 'San Diego County'), ('California', 'Sunnyvale'), ('California', 'San Francisco'), ('Washington', 'Seattle'), ('Washington', 'Redmond'), ('California', 'Palo Alto'), ('Illinois', 'DuPage County'), ('California', 'Mountain View'), ('California', 'San Jose'), ('California', 'Chula Vista'), ('Pennsylvania', 'Pittsburgh'), ('California', 'Los Angeles'), ('California', 'Morgan Hill'), ('Washington', 'Bellevue'), ('California', 'Castro Valley'), ('Texas', 'Richardson'), ('California', 'Irvine'), ('California', 'Cupertino'), ('California', 'El Cajon'), ('California', 'Trabuco Canyon'), ('New York', 'New York'), ('California', 'Santa Clara'), ('California', 'Orange County'), ('California', 'Corona'), ('California', 'Carlsbad'), ('California', 'Stanford'), ('California', 'Milpitas'), ('New Jersey', 'Princeton'), ('California', 'Walnut'), ('California', 'Encinitas'), ('Minnesota', 'Minneapolis'), ('California', 'Fremont'), ('California', 'La Puente')]\n",
      "[725, 5, 5, 17, 1, 4, 1, 6, 1, 1, 4, 3, 1, 2, 1, 1, 1, 1, 2, 1, 2, 1, 3, 1, 1, 1, 1, 1, 1, 1, 1, 1, 1]\n"
     ]
    },
    {
     "data": {
      "application/vnd.plotly.v1+json": {
       "config": {
        "plotlyServerURL": "https://plot.ly"
       },
       "data": [
        {
         "fill": "toself",
         "fillcolor": "rgb(255, 255, 160)",
         "hoverinfo": "none",
         "line": {
          "color": "rgb(0, 0, 0)",
          "width": 0
         },
         "mode": "lines",
         "name": "1",
         "type": "scatter",
         "x": [
          -88.263176,
          -87.92067,
          -87.914265,
          -88.026752,
          -88.03056099999999,
          -88.261952,
          -88.263176,
          null,
          -122.52085199999999,
          -122.496786,
          -122.502426880724,
          -122.39137503156,
          -122.389313,
          -122.355627,
          -122.378545,
          -122.127706,
          -122.11516140516001,
          -122.190506,
          -122.202653,
          -122.15328,
          -122.152774,
          -122.31768199999999,
          -122.292973615833,
          -122.405073,
          -122.40084999999999,
          -122.459577,
          -122.516689,
          -122.52085199999999,
          null,
          -123.013916,
          -123.003507,
          -122.99875399999999,
          -123.002794,
          -123.013916,
          null,
          -122.33204578072701,
          -122.327561619753,
          -122.33227,
          -122.33204578072701,
          null,
          -122.377679,
          -122.362911,
          -122.36229399999999,
          -122.372836,
          -122.377679,
          null,
          -122.420365736738,
          -122.41847,
          -122.419827349401,
          -122.420365736738,
          null,
          -122.514483,
          -122.407452,
          -122.360238,
          -122.502426880724,
          -122.514483,
          null,
          -118.11442,
          -118.058918,
          -117.976593,
          -117.97649799999999,
          -117.783287,
          -117.53644800000001,
          -117.533999,
          -117.413314,
          -117.51021,
          -117.508614,
          -117.57848,
          -117.596147232519,
          -118.11442,
          null,
          -122.52085199999999,
          -122.496786,
          -122.502426880724,
          -122.39137503156,
          -122.389313,
          -122.355627,
          -122.378545,
          -122.127706,
          -122.11516140516001,
          -122.190506,
          -122.202653,
          -122.15328,
          -122.152774,
          -122.31768199999999,
          -122.292973615833,
          -122.405073,
          -122.40084999999999,
          -122.459577,
          -122.516689,
          -122.52085199999999,
          null,
          -117.676286,
          -117.655386,
          -117.610947,
          -117.610386,
          -117.55837700000001,
          -117.558312,
          -116.929537,
          -116.929558,
          -115.31621200000001,
          -115.316065,
          -114.435429,
          -114.438266,
          -114.535478,
          -114.50792,
          -114.52805,
          -114.494197,
          -114.53152299999999,
          -114.524599,
          -114.627125,
          -117.241271,
          -117.364272,
          -117.509722,
          -117.413314,
          -117.533999,
          -117.53644800000001,
          -117.580136,
          -117.676286,
          null,
          -122.202653,
          -122.190506,
          -122.11516140516001,
          -122.058336,
          -121.865267,
          -121.47295199999999,
          -121.456651,
          -121.409075,
          -121.405753,
          -121.458051,
          -121.45575,
          -121.399019,
          -121.35955799999999,
          -121.23711,
          -121.217339,
          -121.245384,
          -121.208198,
          -121.248647,
          -121.246638,
          -121.215406,
          -121.48894899999999,
          -121.575402,
          -121.59035399999999,
          -121.738697,
          -121.718762,
          -121.75492,
          -122.026107,
          -122.193062,
          -122.202653,
          null,
          -122.78509,
          -122.136006,
          -122.136161,
          -121.890013,
          -121.946821,
          -121.917214,
          -121.939172,
          -121.795894,
          -121.834566,
          -121.835488,
          -122.340172,
          -122.40921399999999,
          -122.409983,
          -122.492023,
          -122.47729,
          -122.515331,
          -122.679729,
          -122.758114,
          -122.77547,
          -122.742212,
          -122.78509,
          null
         ],
         "y": [
          41.974644,
          41.994031,
          41.716746,
          41.685369,
          41.72893,
          41.724652,
          41.974644,
          null,
          37.594178,
          37.612136,
          37.7081329861058,
          37.708331,
          37.640193,
          37.615293,
          37.605592,
          37.500053,
          37.4662797321484,
          37.430955999999995,
          37.363046,
          37.2896,
          37.215444,
          37.186945,
          37.1073182889556,
          37.195791,
          37.359224999999995,
          37.492731,
          37.521339999999995,
          37.594178,
          null,
          37.700355,
          37.704395999999996,
          37.697438,
          37.692736,
          37.700355,
          null,
          37.7877603470098,
          37.7806441119025,
          37.781517,
          37.7877603470098,
          null,
          37.830459999999995,
          37.822696,
          37.807016,
          37.811068,
          37.830459999999995,
          null,
          37.863342297173695,
          37.861764,
          37.8600830082779,
          37.863342297173695,
          null,
          37.780829,
          37.811440999999995,
          37.719421,
          37.7081329861058,
          37.780829,
          null,
          33.745176,
          33.846121,
          33.902809999999995,
          33.94605,
          33.946411,
          33.757664999999996,
          33.710355,
          33.659302,
          33.533999,
          33.469614,
          33.453927,
          33.3871676935322,
          33.745176,
          null,
          37.594178,
          37.612136,
          37.7081329861058,
          37.708331,
          37.640193,
          37.615293,
          37.605592,
          37.500053,
          37.4662797321484,
          37.430955999999995,
          37.363046,
          37.2896,
          37.215444,
          37.186945,
          37.1073182889556,
          37.195791,
          37.359224999999995,
          37.492731,
          37.521339999999995,
          37.594178,
          null,
          33.888815,
          33.925114,
          33.925114,
          33.971613999999995,
          33.98842,
          34.033451,
          34.004914,
          34.034113,
          34.03411,
          34.077843,
          34.079727,
          34.022608999999996,
          33.934650999999995,
          33.903807,
          33.814963,
          33.707921999999996,
          33.675108,
          33.552231,
          33.433554,
          33.431993,
          33.505024999999996,
          33.505019,
          33.659302,
          33.710355,
          33.757664999999996,
          33.767987999999995,
          33.888815,
          null,
          37.363046,
          37.430955999999995,
          37.4662797321484,
          37.446788,
          37.484637,
          37.482333,
          37.395534999999995,
          37.380672,
          37.31099,
          37.284138999999996,
          37.24944,
          37.150135,
          37.184453,
          37.157204,
          37.123042,
          37.089501,
          37.061288999999995,
          37.03368,
          36.987048,
          36.961248,
          36.983148,
          36.893032999999996,
          36.926151,
          36.989990999999996,
          37.007557,
          37.048449999999995,
          37.16681,
          37.318276999999995,
          37.363046,
          null,
          39.382974999999995,
          39.385494,
          39.414499,
          39.383863999999996,
          39.249842,
          39.147278,
          39.136145,
          38.994582,
          38.968151999999996,
          38.924481,
          38.924246,
          38.963001,
          39.017517,
          39.053503,
          39.17395,
          39.209215,
          39.22453,
          39.285379999999996,
          39.315182,
          39.365293,
          39.382974999999995,
          null
         ]
        },
        {
         "fill": "toself",
         "fillcolor": "rgb(255, 240, 0)",
         "hoverinfo": "none",
         "line": {
          "color": "rgb(0, 0, 0)",
          "width": 0
         },
         "mode": "lines",
         "name": "2",
         "type": "scatter",
         "x": [
          -117.802539,
          -117.76769,
          -117.730125,
          -117.646374,
          -117.667292,
          -117.632011,
          -117.63299599999999,
          -115.64802031181802,
          -114.633487,
          -114.634382,
          -114.470477,
          -114.436466,
          -114.380838,
          -114.386699,
          -114.176909,
          -114.131211,
          -114.435429,
          -115.316065,
          -115.31621200000001,
          -116.929558,
          -116.929537,
          -117.558312,
          -117.55837700000001,
          -117.610386,
          -117.610947,
          -117.655386,
          -117.673749,
          -117.802539,
          null
         ],
         "y": [
          33.975550999999996,
          34.023506,
          34.021370999999995,
          34.28917,
          34.822525999999996,
          34.822269999999996,
          35.797250999999996,
          35.8096294219517,
          35.001857,
          34.87289,
          34.711368,
          34.595400000000005,
          34.529724,
          34.457910999999996,
          34.349306,
          34.26273,
          34.079727,
          34.077843,
          34.03411,
          34.034113,
          34.004914,
          34.033451,
          33.98842,
          33.971613999999995,
          33.925114,
          33.925114,
          33.870830999999995,
          33.975550999999996,
          null
         ]
        },
        {
         "fill": "toself",
         "fillcolor": "rgb(255, 210, 0)",
         "hoverinfo": "none",
         "line": {
          "color": "rgb(0, 0, 0)",
          "width": 0
         },
         "mode": "lines",
         "name": "3",
         "type": "scatter",
         "x": [
          -118.604415,
          -118.370323,
          -118.305084,
          -118.465368,
          -118.48875,
          -118.575394,
          -118.604415,
          null,
          -118.6105,
          -118.573897,
          -118.354185,
          -118.431809,
          -118.50620599999999,
          -118.6105,
          null,
          -118.944502,
          -118.940801,
          -118.788889,
          -118.66815199999999,
          -118.66771299999999,
          -118.632495,
          -118.894474,
          -117.667292,
          -117.646374,
          -117.730125,
          -117.785062,
          -117.783287,
          -117.97649799999999,
          -117.976593,
          -118.058918,
          -118.11541107728301,
          -118.18035,
          -118.183342,
          -118.269645,
          -118.411211,
          -118.42840699999999,
          -118.391103,
          -118.460611,
          -118.543115,
          -118.744952,
          -118.806367,
          -118.944502,
          null,
          -118.11442,
          -118.058918,
          -117.976593,
          -117.97649799999999,
          -117.783287,
          -117.53644800000001,
          -117.533999,
          -117.413314,
          -117.51021,
          -117.508614,
          -117.57848,
          -117.596147232519,
          -118.11442,
          null
         ],
         "y": [
          33.478552,
          33.409285,
          33.310323,
          33.326056,
          33.419826,
          33.440179,
          33.478552,
          null,
          33.032941,
          33.03055,
          32.820918999999996,
          32.801462,
          32.852985,
          33.032941,
          null,
          34.046563,
          34.074967,
          34.168214,
          34.168195,
          34.240404,
          34.240426,
          34.817972,
          34.822525999999996,
          34.28917,
          34.021370999999995,
          34.004809,
          33.946411,
          33.94605,
          33.902809999999995,
          33.846121,
          33.7432945549888,
          33.763413,
          33.723186,
          33.704029999999996,
          33.741985,
          33.774715,
          33.838771,
          33.969111,
          34.038508,
          34.032103,
          34.000198,
          34.046563,
          null,
          33.745176,
          33.846121,
          33.902809999999995,
          33.94605,
          33.946411,
          33.757664999999996,
          33.710355,
          33.659302,
          33.533999,
          33.469614,
          33.453927,
          33.3871676935322,
          33.745176,
          null
         ]
        },
        {
         "fill": "toself",
         "fillcolor": "rgb(255, 180, 0)",
         "hoverinfo": "none",
         "line": {
          "color": "rgb(0, 0, 0)",
          "width": 0
         },
         "mode": "lines",
         "name": "4",
         "type": "scatter",
         "x": [],
         "y": []
        },
        {
         "fill": "toself",
         "fillcolor": "rgb(255, 120, 0)",
         "hoverinfo": "none",
         "line": {
          "color": "rgb(0, 0, 0)",
          "width": 0
         },
         "mode": "lines",
         "name": "5",
         "type": "scatter",
         "x": [
          -122.202653,
          -122.190506,
          -122.11516140516001,
          -122.058336,
          -121.865267,
          -121.47295199999999,
          -121.456651,
          -121.409075,
          -121.405753,
          -121.458051,
          -121.45575,
          -121.399019,
          -121.35955799999999,
          -121.23711,
          -121.217339,
          -121.245384,
          -121.208198,
          -121.248647,
          -121.246638,
          -121.215406,
          -121.48894899999999,
          -121.575402,
          -121.59035399999999,
          -121.738697,
          -121.718762,
          -121.75492,
          -122.026107,
          -122.193062,
          -122.202653,
          null,
          -123.013916,
          -123.003507,
          -122.99875399999999,
          -123.002794,
          -123.013916,
          null,
          -122.33204578072701,
          -122.327561619753,
          -122.33227,
          -122.33204578072701,
          null,
          -122.377679,
          -122.362911,
          -122.36229399999999,
          -122.372836,
          -122.377679,
          null,
          -122.420365736738,
          -122.41847,
          -122.419827349401,
          -122.420365736738,
          null,
          -122.514483,
          -122.407452,
          -122.360238,
          -122.502426880724,
          -122.514483,
          null
         ],
         "y": [
          37.363046,
          37.430955999999995,
          37.4662797321484,
          37.446788,
          37.484637,
          37.482333,
          37.395534999999995,
          37.380672,
          37.31099,
          37.284138999999996,
          37.24944,
          37.150135,
          37.184453,
          37.157204,
          37.123042,
          37.089501,
          37.061288999999995,
          37.03368,
          36.987048,
          36.961248,
          36.983148,
          36.893032999999996,
          36.926151,
          36.989990999999996,
          37.007557,
          37.048449999999995,
          37.16681,
          37.318276999999995,
          37.363046,
          null,
          37.700355,
          37.704395999999996,
          37.697438,
          37.692736,
          37.700355,
          null,
          37.7877603470098,
          37.7806441119025,
          37.781517,
          37.7877603470098,
          null,
          37.830459999999995,
          37.822696,
          37.807016,
          37.811068,
          37.830459999999995,
          null,
          37.863342297173695,
          37.861764,
          37.8600830082779,
          37.863342297173695,
          null,
          37.780829,
          37.811440999999995,
          37.719421,
          37.7081329861058,
          37.780829,
          null
         ]
        },
        {
         "fill": "toself",
         "fillcolor": "rgb(255, 90, 0)",
         "hoverinfo": "none",
         "line": {
          "color": "rgb(0, 0, 0)",
          "width": 0
         },
         "mode": "lines",
         "name": "6",
         "type": "scatter",
         "x": [
          -122.31768199999999,
          -122.152774,
          -122.152278,
          -122.026107,
          -121.75492,
          -121.718762,
          -121.738697,
          -121.581354,
          -121.725594,
          -121.810551858284,
          -121.930069,
          -122.105976,
          -122.223799,
          -122.31768199999999,
          null
         ],
         "y": [
          37.186945,
          37.215444,
          37.286055,
          37.16681,
          37.048449999999995,
          37.007557,
          36.989990999999996,
          36.899152,
          36.914345,
          36.8506482495196,
          36.97815,
          36.955951,
          37.025672,
          37.186945,
          null
         ]
        },
        {
         "fill": "toself",
         "fillcolor": "rgb(255, 60, 0)",
         "hoverinfo": "none",
         "line": {
          "color": "rgb(0, 0, 0)",
          "width": 0
         },
         "mode": "lines",
         "name": "17",
         "type": "scatter",
         "x": [],
         "y": []
        },
        {
         "fill": "toself",
         "fillcolor": "rgb(255, 30, 0)",
         "hoverinfo": "none",
         "line": {
          "color": "rgb(0, 0, 0)",
          "width": 0
         },
         "mode": "lines",
         "name": "725",
         "type": "scatter",
         "x": [
          -117.596147232519,
          -117.57848,
          -117.508614,
          -117.509722,
          -117.364272,
          -117.241271,
          -116.085165,
          -116.10618141881301,
          -117.12486200000001,
          -117.168866,
          -117.246069,
          -117.28217000000001,
          -117.25447,
          -117.328359,
          -117.505919,
          -117.596147232519,
          null
         ],
         "y": [
          33.3871676935322,
          33.453927,
          33.469614,
          33.505019,
          33.505024999999996,
          33.431993,
          33.425931999999996,
          32.6186413746915,
          32.534155999999996,
          32.671952,
          32.669351999999996,
          32.839546999999996,
          32.900146,
          33.121842,
          33.333253,
          33.3871676935322,
          null
         ]
        },
        {
         "hoverinfo": "text",
         "legendgroup": "centroids",
         "marker": {
          "color": "white",
          "opacity": 0
         },
         "mode": "markers",
         "name": "US Counties",
         "selected": {
          "marker": {
           "color": "white",
           "opacity": 1,
           "size": 3
          }
         },
         "showlegend": false,
         "text": [
          "County: San Francisco<br>State: California<br>FIPS: 06075<br>Value: 1",
          "County: San Francisco<br>State: California<br>FIPS: 06075<br>Value: 1",
          "County: San Francisco<br>State: California<br>FIPS: 06075<br>Value: 1",
          "County: San Francisco<br>State: California<br>FIPS: 06075<br>Value: 1",
          "County: San Francisco<br>State: California<br>FIPS: 06075<br>Value: 1",
          "County: Los Angeles<br>State: California<br>FIPS: 06037<br>Value: 3",
          "County: Los Angeles<br>State: California<br>FIPS: 06037<br>Value: 3",
          "County: Los Angeles<br>State: California<br>FIPS: 06037<br>Value: 3",
          "County: San Francisco<br>State: California<br>FIPS: 06075<br>Value: 5",
          "County: San Francisco<br>State: California<br>FIPS: 06075<br>Value: 5",
          "County: San Francisco<br>State: California<br>FIPS: 06075<br>Value: 5",
          "County: San Francisco<br>State: California<br>FIPS: 06075<br>Value: 5",
          "County: San Francisco<br>State: California<br>FIPS: 06075<br>Value: 5",
          "County: San Diego<br>State: California<br>FIPS: 06073<br>Value: 725",
          "County: Santa Clara<br>State: California<br>FIPS: 06085<br>Value: 5",
          "County: DuPage<br>State: Illinois<br>FIPS: 17043<br>Value: 1",
          "County: Santa Cruz<br>State: California<br>FIPS: 06087<br>Value: 6",
          "County: San Mateo<br>State: California<br>FIPS: 06081<br>Value: 1",
          "County: Orange<br>State: California<br>FIPS: 06059<br>Value: 1",
          "County: San Mateo<br>State: California<br>FIPS: 06081<br>Value: 1",
          "County: San Bernardino<br>State: California<br>FIPS: 06071<br>Value: 2",
          "County: Riverside<br>State: California<br>FIPS: 06065<br>Value: 1",
          "County: Santa Clara<br>State: California<br>FIPS: 06085<br>Value: 1",
          "County: Orange<br>State: California<br>FIPS: 06059<br>Value: 3",
          "County: Colusa<br>State: California<br>FIPS: 06011<br>Value: 1"
         ],
         "type": "scatter",
         "unselected": {
          "marker": {
           "opacity": 0
          }
         },
         "x": [
          [
           -123.00529439291685
          ],
          [
           -122.33062580015999
          ],
          [
           -122.36897731254817
          ],
          [
           -122.41954035391676
          ],
          [
           -122.4408700569418
          ],
          [
           -118.43439079091362
          ],
          [
           -118.49014796829917
          ],
          [
           -118.2170365255692
          ],
          [
           -123.00529439291685
          ],
          [
           -122.33062580015999
          ],
          [
           -122.36897731254817
          ],
          [
           -122.41954035391676
          ],
          [
           -122.4408700569418
          ],
          -116.73529316484134,
          -121.69512828430553,
          -88.08563348856732,
          -122.00183000196053,
          -122.32901123344624,
          -117.76107879941756,
          -122.32901123344624,
          -116.17840761818748,
          -115.99381567477099,
          -121.69512828430553,
          -117.76107879941756,
          -122.23695928777937
         ],
         "y": [
          [
           37.698262123124536
          ],
          [
           37.78330715297076
          ],
          [
           37.819750171626495
          ],
          [
           37.86191467461643
          ],
          [
           37.75512499012593
          ],
          [
           33.38251324242627
          ],
          [
           32.90130583174091
          ],
          [
           34.358917475517885
          ],
          [
           37.698262123124536
          ],
          [
           37.78330715297076
          ],
          [
           37.819750171626495
          ],
          [
           37.86191467461643
          ],
          [
           37.75512499012593
          ],
          33.03413701794012,
          37.23178985468803,
          41.85194704762981,
          37.05617890779834,
          37.42289274415368,
          33.702973868568144,
          37.42289274415368,
          34.84138099581411,
          33.743649292569536,
          37.23178985468803,
          33.702973868568144,
          39.177483923534496
         ]
        },
        {
         "hoverinfo": "text",
         "legendgroup": "States",
         "line": {
          "color": "rgb(155,155,155)",
          "width": 1
         },
         "mode": "lines",
         "showlegend": false,
         "type": "scatter",
         "x": [
          -118.604415,
          -118.370323,
          -118.305084,
          -118.465368,
          -118.48875,
          -118.575394,
          -118.604415,
          null,
          -118.6105,
          -118.573897,
          -118.354185,
          -118.431809,
          -118.50620599999999,
          -118.6105,
          null,
          -119.052774,
          -119.049684,
          -119.031145,
          -119.03233399999999,
          -119.052774,
          null,
          -119.441226,
          -119.396251,
          -119.373406,
          -119.357462,
          -119.441226,
          null,
          -119.577271,
          -119.528778,
          -119.434402,
          -119.546212,
          -119.577271,
          null,
          -119.929889,
          -119.759428,
          -119.637742,
          -119.584301,
          -119.52064,
          -119.560464,
          -119.818249,
          -119.873358,
          -119.876329,
          -119.929889,
          null,
          -120.249536,
          -120.043259,
          -120.046575,
          -119.980156,
          -119.968636,
          -120.11588499999999,
          -120.249536,
          null,
          -120.450064,
          -120.368278,
          -120.307219,
          -120.35793,
          -120.450064,
          null,
          -122.377679,
          -122.362911,
          -122.36229399999999,
          -122.372836,
          -122.377679,
          null,
          -122.446316,
          -122.424651,
          -122.41847,
          -122.441271,
          -122.446316,
          null,
          -123.013916,
          -123.003507,
          -122.99875399999999,
          -123.002794,
          -123.013916,
          null,
          -124.217495,
          -124.216181,
          -124.213021,
          -124.215001,
          -124.217495,
          null,
          -124.408601,
          -124.158322,
          -124.111756,
          -124.153622,
          -124.165414,
          -124.106986,
          -124.066057,
          -124.147412,
          -124.254954,
          -124.208439,
          -124.21160499999999,
          -119.999168,
          -120.001014,
          -117.500117,
          -114.633487,
          -114.634382,
          -114.470477,
          -114.436466,
          -114.380838,
          -114.386699,
          -114.176909,
          -114.131211,
          -114.434181,
          -114.438266,
          -114.535478,
          -114.50792,
          -114.52805,
          -114.494197,
          -114.53152299999999,
          -114.524599,
          -114.643302,
          -114.72528199999999,
          -114.698035,
          -114.731223,
          -114.672088,
          -114.706488,
          -114.66506,
          -114.52013,
          -114.469039,
          -114.468971,
          -114.530755,
          -114.526856,
          -114.618373,
          -114.701918,
          -114.719633,
          -117.12486200000001,
          -117.168866,
          -117.246069,
          -117.28217000000001,
          -117.25447,
          -117.328359,
          -117.46979400000001,
          -117.652692,
          -117.714617,
          -117.784888,
          -118.132698,
          -118.18035,
          -118.183342,
          -118.269645,
          -118.411211,
          -118.42840699999999,
          -118.391103,
          -118.519514,
          -118.744952,
          -118.806367,
          -119.129252,
          -119.216441,
          -119.278644,
          -119.563986,
          -119.878199,
          -120.008077,
          -120.141165,
          -120.452811,
          -120.511421,
          -120.63672199999999,
          -120.60045,
          -120.637415,
          -120.610266,
          -120.672269,
          -120.629931,
          -120.644311,
          -120.856047,
          -120.8996,
          -120.862684,
          -120.88475700000001,
          -121.003359,
          -121.166712,
          -121.28653,
          -121.332449,
          -121.46491,
          -121.503112,
          -121.574602,
          -121.717176,
          -121.902729,
          -121.903195,
          -121.95447300000001,
          -121.925937,
          -121.932508,
          -121.978714,
          -121.93643,
          -121.860604,
          -121.81446199999999,
          -121.78827799999999,
          -121.862266,
          -121.930069,
          -122.06642099999999,
          -122.135161,
          -122.405073,
          -122.40084999999999,
          -122.459577,
          -122.499289,
          -122.519533,
          -122.494085,
          -122.514483,
          -122.478083,
          -122.385323,
          -122.356784,
          -122.39319,
          -122.389313,
          -122.355627,
          -122.378545,
          -122.136422,
          -122.08874,
          -122.038599,
          -122.055541,
          -122.10942,
          -122.170648,
          -122.252172,
          -122.24394699999999,
          -122.33227,
          -122.342253,
          -122.296618,
          -122.311399,
          -122.390546,
          -122.430087,
          -122.367582,
          -122.367909,
          -122.283478,
          -122.262861,
          -122.282824,
          -122.393588,
          -122.489974,
          -122.497828,
          -122.447304,
          -122.495553,
          -122.479512,
          -122.50506,
          -122.438268,
          -122.457999,
          -122.501019,
          -122.472736,
          -122.527399,
          -122.641963,
          -122.72518099999999,
          -122.856573,
          -122.939711,
          -122.981776,
          -122.963544,
          -123.024066,
          -122.949074,
          -122.995631,
          -122.972101,
          -122.977082,
          -123.024333,
          -123.063671,
          -123.128825,
          -123.33189899999999,
          -123.441774,
          -123.727976,
          -123.74192099999999,
          -123.69124,
          -123.827716,
          -123.766475,
          -123.851714,
          -124.079983,
          -124.11054899999999,
          -124.360604,
          -124.347853,
          -124.408601,
          null,
          null
         ],
         "y": [
          33.478552,
          33.409285,
          33.310323,
          33.326056,
          33.419826,
          33.440179,
          33.478552,
          null,
          33.032941,
          33.03055,
          32.820918999999996,
          32.801462,
          32.852985,
          33.032941,
          null,
          33.46586,
          33.483900999999996,
          33.489649,
          33.468834,
          33.46586,
          null,
          34.014075,
          34.005918,
          34.015440999999996,
          34.015919,
          34.014075,
          null,
          33.278582,
          33.285416999999995,
          33.227021,
          33.232561,
          33.278582,
          null,
          34.059734,
          34.058835,
          34.013177999999996,
          34.053643,
          34.034262,
          33.995529999999995,
          33.959858,
          33.980374999999995,
          34.032087,
          34.059734,
          null,
          34.002477,
          34.035806,
          34.000001999999995,
          33.983653,
          33.942878,
          33.894360999999996,
          34.002477,
          null,
          34.034194,
          34.076465,
          34.022375,
          34.015029,
          34.034194,
          null,
          37.830459999999995,
          37.822696,
          37.807016,
          37.811068,
          37.830459999999995,
          null,
          37.861046,
          37.870736,
          37.852720999999995,
          37.855142,
          37.861046,
          null,
          37.700355,
          37.704395999999996,
          37.697438,
          37.692736,
          37.700355,
          null,
          41.95081,
          41.952211999999996,
          41.951023,
          41.949734,
          41.95081,
          null,
          40.443200999999995,
          40.876069,
          41.026883,
          41.05355,
          41.129822,
          41.229678,
          41.470258,
          41.717954999999996,
          41.778169999999996,
          41.888192,
          41.99846,
          41.99454,
          38.999573999999996,
          37.22038,
          35.001857,
          34.87289,
          34.711368,
          34.595400000000005,
          34.529724,
          34.457910999999996,
          34.349306,
          34.26273,
          34.087379,
          34.022608999999996,
          33.934650999999995,
          33.903807,
          33.814963,
          33.707921999999996,
          33.675108,
          33.552231,
          33.416745,
          33.405048,
          33.352441999999996,
          33.302434,
          33.258499,
          33.08816,
          33.033908,
          33.029984,
          32.972294999999995,
          32.845155,
          32.793485,
          32.757093999999995,
          32.728245,
          32.745548,
          32.718762999999996,
          32.534155999999996,
          32.671952,
          32.669351999999996,
          32.839546999999996,
          32.900146,
          33.121842,
          33.296417,
          33.446154,
          33.459914,
          33.541525,
          33.753217,
          33.763413,
          33.723186,
          33.704029999999996,
          33.741985,
          33.774715,
          33.838771,
          34.027509,
          34.032103,
          34.000198,
          34.10084,
          34.146105,
          34.266902,
          34.41532,
          34.406912999999996,
          34.460446999999995,
          34.473405,
          34.442442,
          34.522953,
          34.560967,
          34.70464,
          34.755894999999995,
          34.85818,
          34.90254,
          35.061515,
          35.139616,
          35.206486999999996,
          35.255337,
          35.346776,
          35.430195999999995,
          35.46071,
          35.635399,
          35.665524,
          35.783106,
          35.888456999999995,
          36.000299,
          36.025155999999996,
          36.195146,
          36.306379,
          36.393603,
          36.518904,
          36.525172999999995,
          36.559934999999996,
          36.581488,
          36.636745999999995,
          36.611135999999995,
          36.682857999999996,
          36.803993999999996,
          36.931551999999996,
          36.97815,
          36.948271,
          36.967774,
          37.195791,
          37.359224999999995,
          37.492731,
          37.495340999999996,
          37.537302,
          37.644034999999995,
          37.780829,
          37.810828,
          37.790724,
          37.729504999999996,
          37.707530999999996,
          37.640193,
          37.615293,
          37.605592,
          37.507576,
          37.452267,
          37.454622,
          37.49523,
          37.500254,
          37.678503,
          37.724952,
          37.751779,
          37.781517,
          37.805558,
          37.828465,
          37.895793999999995,
          37.90911,
          37.963114999999995,
          37.978168,
          38.01253,
          38.022673999999995,
          38.0446,
          38.082889,
          38.143449,
          38.112013999999995,
          38.019402,
          37.984387,
          37.970523,
          37.942526,
          37.936414,
          37.880973999999995,
          37.861768999999995,
          37.893662,
          37.831927,
          37.814947,
          37.897507,
          37.902691,
          38.016717,
          38.031908,
          38.009119,
          37.989914,
          37.994878,
          38.15406,
          38.238626,
          38.232652,
          38.267902,
          38.310573,
          38.302178,
          38.450418,
          38.565542,
          38.699743999999995,
          38.919429,
          38.956227999999996,
          39.050795,
          39.348433,
          39.552803,
          39.832041,
          40.029773,
          40.103764999999996,
          40.257206,
          40.314634,
          40.443200999999995,
          null,
          null
         ]
        }
       ],
       "layout": {
        "annotations": [
         {
          "showarrow": false,
          "text": "<b></b>",
          "x": 1,
          "xanchor": "right",
          "xref": "paper",
          "y": 1.05,
          "yref": "paper"
         }
        ],
        "dragmode": "select",
        "height": 450,
        "hovermode": "closest",
        "legend": {
         "traceorder": "reversed",
         "x": 1,
         "xanchor": "right",
         "y": 1,
         "yanchor": "top"
        },
        "margin": {
         "b": 20,
         "l": 20,
         "r": 20,
         "t": 40
        },
        "width": 900,
        "xaxis": {
         "autorange": false,
         "fixedrange": true,
         "range": [
          -124.408601,
          -87.914265
         ],
         "showgrid": false,
         "showticklabels": false,
         "zeroline": false
        },
        "yaxis": {
         "autorange": false,
         "fixedrange": true,
         "range": [
          29.967440799999995,
          44.5651752
         ],
         "showgrid": false,
         "showticklabels": false,
         "zeroline": false
        }
       }
      },
      "text/html": [
       "<div>\n",
       "        \n",
       "        \n",
       "            <div id=\"05f23c7d-f7d6-4a7e-a5a1-52adc0c7e7c9\" class=\"plotly-graph-div\" style=\"height:450px; width:900px;\"></div>\n",
       "            <script type=\"text/javascript\">\n",
       "                require([\"plotly\"], function(Plotly) {\n",
       "                    window.PLOTLYENV=window.PLOTLYENV || {};\n",
       "                    \n",
       "                if (document.getElementById(\"05f23c7d-f7d6-4a7e-a5a1-52adc0c7e7c9\")) {\n",
       "                    Plotly.newPlot(\n",
       "                        '05f23c7d-f7d6-4a7e-a5a1-52adc0c7e7c9',\n",
       "                        [{\"fill\": \"toself\", \"fillcolor\": \"rgb(255, 255, 160)\", \"hoverinfo\": \"none\", \"line\": {\"color\": \"rgb(0, 0, 0)\", \"width\": 0}, \"mode\": \"lines\", \"name\": \"1\", \"type\": \"scatter\", \"x\": [-88.263176, -87.92067, -87.914265, -88.026752, -88.03056099999999, -88.261952, -88.263176, null, -122.52085199999999, -122.496786, -122.502426880724, -122.39137503156, -122.389313, -122.355627, -122.378545, -122.127706, -122.11516140516001, -122.190506, -122.202653, -122.15328, -122.152774, -122.31768199999999, -122.292973615833, -122.405073, -122.40084999999999, -122.459577, -122.516689, -122.52085199999999, null, -123.013916, -123.003507, -122.99875399999999, -123.002794, -123.013916, null, -122.33204578072701, -122.327561619753, -122.33227, -122.33204578072701, null, -122.377679, -122.362911, -122.36229399999999, -122.372836, -122.377679, null, -122.420365736738, -122.41847, -122.419827349401, -122.420365736738, null, -122.514483, -122.407452, -122.360238, -122.502426880724, -122.514483, null, -118.11442, -118.058918, -117.976593, -117.97649799999999, -117.783287, -117.53644800000001, -117.533999, -117.413314, -117.51021, -117.508614, -117.57848, -117.596147232519, -118.11442, null, -122.52085199999999, -122.496786, -122.502426880724, -122.39137503156, -122.389313, -122.355627, -122.378545, -122.127706, -122.11516140516001, -122.190506, -122.202653, -122.15328, -122.152774, -122.31768199999999, -122.292973615833, -122.405073, -122.40084999999999, -122.459577, -122.516689, -122.52085199999999, null, -117.676286, -117.655386, -117.610947, -117.610386, -117.55837700000001, -117.558312, -116.929537, -116.929558, -115.31621200000001, -115.316065, -114.435429, -114.438266, -114.535478, -114.50792, -114.52805, -114.494197, -114.53152299999999, -114.524599, -114.627125, -117.241271, -117.364272, -117.509722, -117.413314, -117.533999, -117.53644800000001, -117.580136, -117.676286, null, -122.202653, -122.190506, -122.11516140516001, -122.058336, -121.865267, -121.47295199999999, -121.456651, -121.409075, -121.405753, -121.458051, -121.45575, -121.399019, -121.35955799999999, -121.23711, -121.217339, -121.245384, -121.208198, -121.248647, -121.246638, -121.215406, -121.48894899999999, -121.575402, -121.59035399999999, -121.738697, -121.718762, -121.75492, -122.026107, -122.193062, -122.202653, null, -122.78509, -122.136006, -122.136161, -121.890013, -121.946821, -121.917214, -121.939172, -121.795894, -121.834566, -121.835488, -122.340172, -122.40921399999999, -122.409983, -122.492023, -122.47729, -122.515331, -122.679729, -122.758114, -122.77547, -122.742212, -122.78509, null], \"y\": [41.974644, 41.994031, 41.716746, 41.685369, 41.72893, 41.724652, 41.974644, null, 37.594178, 37.612136, 37.7081329861058, 37.708331, 37.640193, 37.615293, 37.605592, 37.500053, 37.4662797321484, 37.430955999999995, 37.363046, 37.2896, 37.215444, 37.186945, 37.1073182889556, 37.195791, 37.359224999999995, 37.492731, 37.521339999999995, 37.594178, null, 37.700355, 37.704395999999996, 37.697438, 37.692736, 37.700355, null, 37.7877603470098, 37.7806441119025, 37.781517, 37.7877603470098, null, 37.830459999999995, 37.822696, 37.807016, 37.811068, 37.830459999999995, null, 37.863342297173695, 37.861764, 37.8600830082779, 37.863342297173695, null, 37.780829, 37.811440999999995, 37.719421, 37.7081329861058, 37.780829, null, 33.745176, 33.846121, 33.902809999999995, 33.94605, 33.946411, 33.757664999999996, 33.710355, 33.659302, 33.533999, 33.469614, 33.453927, 33.3871676935322, 33.745176, null, 37.594178, 37.612136, 37.7081329861058, 37.708331, 37.640193, 37.615293, 37.605592, 37.500053, 37.4662797321484, 37.430955999999995, 37.363046, 37.2896, 37.215444, 37.186945, 37.1073182889556, 37.195791, 37.359224999999995, 37.492731, 37.521339999999995, 37.594178, null, 33.888815, 33.925114, 33.925114, 33.971613999999995, 33.98842, 34.033451, 34.004914, 34.034113, 34.03411, 34.077843, 34.079727, 34.022608999999996, 33.934650999999995, 33.903807, 33.814963, 33.707921999999996, 33.675108, 33.552231, 33.433554, 33.431993, 33.505024999999996, 33.505019, 33.659302, 33.710355, 33.757664999999996, 33.767987999999995, 33.888815, null, 37.363046, 37.430955999999995, 37.4662797321484, 37.446788, 37.484637, 37.482333, 37.395534999999995, 37.380672, 37.31099, 37.284138999999996, 37.24944, 37.150135, 37.184453, 37.157204, 37.123042, 37.089501, 37.061288999999995, 37.03368, 36.987048, 36.961248, 36.983148, 36.893032999999996, 36.926151, 36.989990999999996, 37.007557, 37.048449999999995, 37.16681, 37.318276999999995, 37.363046, null, 39.382974999999995, 39.385494, 39.414499, 39.383863999999996, 39.249842, 39.147278, 39.136145, 38.994582, 38.968151999999996, 38.924481, 38.924246, 38.963001, 39.017517, 39.053503, 39.17395, 39.209215, 39.22453, 39.285379999999996, 39.315182, 39.365293, 39.382974999999995, null]}, {\"fill\": \"toself\", \"fillcolor\": \"rgb(255, 240, 0)\", \"hoverinfo\": \"none\", \"line\": {\"color\": \"rgb(0, 0, 0)\", \"width\": 0}, \"mode\": \"lines\", \"name\": \"2\", \"type\": \"scatter\", \"x\": [-117.802539, -117.76769, -117.730125, -117.646374, -117.667292, -117.632011, -117.63299599999999, -115.64802031181802, -114.633487, -114.634382, -114.470477, -114.436466, -114.380838, -114.386699, -114.176909, -114.131211, -114.435429, -115.316065, -115.31621200000001, -116.929558, -116.929537, -117.558312, -117.55837700000001, -117.610386, -117.610947, -117.655386, -117.673749, -117.802539, null], \"y\": [33.975550999999996, 34.023506, 34.021370999999995, 34.28917, 34.822525999999996, 34.822269999999996, 35.797250999999996, 35.8096294219517, 35.001857, 34.87289, 34.711368, 34.595400000000005, 34.529724, 34.457910999999996, 34.349306, 34.26273, 34.079727, 34.077843, 34.03411, 34.034113, 34.004914, 34.033451, 33.98842, 33.971613999999995, 33.925114, 33.925114, 33.870830999999995, 33.975550999999996, null]}, {\"fill\": \"toself\", \"fillcolor\": \"rgb(255, 210, 0)\", \"hoverinfo\": \"none\", \"line\": {\"color\": \"rgb(0, 0, 0)\", \"width\": 0}, \"mode\": \"lines\", \"name\": \"3\", \"type\": \"scatter\", \"x\": [-118.604415, -118.370323, -118.305084, -118.465368, -118.48875, -118.575394, -118.604415, null, -118.6105, -118.573897, -118.354185, -118.431809, -118.50620599999999, -118.6105, null, -118.944502, -118.940801, -118.788889, -118.66815199999999, -118.66771299999999, -118.632495, -118.894474, -117.667292, -117.646374, -117.730125, -117.785062, -117.783287, -117.97649799999999, -117.976593, -118.058918, -118.11541107728301, -118.18035, -118.183342, -118.269645, -118.411211, -118.42840699999999, -118.391103, -118.460611, -118.543115, -118.744952, -118.806367, -118.944502, null, -118.11442, -118.058918, -117.976593, -117.97649799999999, -117.783287, -117.53644800000001, -117.533999, -117.413314, -117.51021, -117.508614, -117.57848, -117.596147232519, -118.11442, null], \"y\": [33.478552, 33.409285, 33.310323, 33.326056, 33.419826, 33.440179, 33.478552, null, 33.032941, 33.03055, 32.820918999999996, 32.801462, 32.852985, 33.032941, null, 34.046563, 34.074967, 34.168214, 34.168195, 34.240404, 34.240426, 34.817972, 34.822525999999996, 34.28917, 34.021370999999995, 34.004809, 33.946411, 33.94605, 33.902809999999995, 33.846121, 33.7432945549888, 33.763413, 33.723186, 33.704029999999996, 33.741985, 33.774715, 33.838771, 33.969111, 34.038508, 34.032103, 34.000198, 34.046563, null, 33.745176, 33.846121, 33.902809999999995, 33.94605, 33.946411, 33.757664999999996, 33.710355, 33.659302, 33.533999, 33.469614, 33.453927, 33.3871676935322, 33.745176, null]}, {\"fill\": \"toself\", \"fillcolor\": \"rgb(255, 180, 0)\", \"hoverinfo\": \"none\", \"line\": {\"color\": \"rgb(0, 0, 0)\", \"width\": 0}, \"mode\": \"lines\", \"name\": \"4\", \"type\": \"scatter\", \"x\": [], \"y\": []}, {\"fill\": \"toself\", \"fillcolor\": \"rgb(255, 120, 0)\", \"hoverinfo\": \"none\", \"line\": {\"color\": \"rgb(0, 0, 0)\", \"width\": 0}, \"mode\": \"lines\", \"name\": \"5\", \"type\": \"scatter\", \"x\": [-122.202653, -122.190506, -122.11516140516001, -122.058336, -121.865267, -121.47295199999999, -121.456651, -121.409075, -121.405753, -121.458051, -121.45575, -121.399019, -121.35955799999999, -121.23711, -121.217339, -121.245384, -121.208198, -121.248647, -121.246638, -121.215406, -121.48894899999999, -121.575402, -121.59035399999999, -121.738697, -121.718762, -121.75492, -122.026107, -122.193062, -122.202653, null, -123.013916, -123.003507, -122.99875399999999, -123.002794, -123.013916, null, -122.33204578072701, -122.327561619753, -122.33227, -122.33204578072701, null, -122.377679, -122.362911, -122.36229399999999, -122.372836, -122.377679, null, -122.420365736738, -122.41847, -122.419827349401, -122.420365736738, null, -122.514483, -122.407452, -122.360238, -122.502426880724, -122.514483, null], \"y\": [37.363046, 37.430955999999995, 37.4662797321484, 37.446788, 37.484637, 37.482333, 37.395534999999995, 37.380672, 37.31099, 37.284138999999996, 37.24944, 37.150135, 37.184453, 37.157204, 37.123042, 37.089501, 37.061288999999995, 37.03368, 36.987048, 36.961248, 36.983148, 36.893032999999996, 36.926151, 36.989990999999996, 37.007557, 37.048449999999995, 37.16681, 37.318276999999995, 37.363046, null, 37.700355, 37.704395999999996, 37.697438, 37.692736, 37.700355, null, 37.7877603470098, 37.7806441119025, 37.781517, 37.7877603470098, null, 37.830459999999995, 37.822696, 37.807016, 37.811068, 37.830459999999995, null, 37.863342297173695, 37.861764, 37.8600830082779, 37.863342297173695, null, 37.780829, 37.811440999999995, 37.719421, 37.7081329861058, 37.780829, null]}, {\"fill\": \"toself\", \"fillcolor\": \"rgb(255, 90, 0)\", \"hoverinfo\": \"none\", \"line\": {\"color\": \"rgb(0, 0, 0)\", \"width\": 0}, \"mode\": \"lines\", \"name\": \"6\", \"type\": \"scatter\", \"x\": [-122.31768199999999, -122.152774, -122.152278, -122.026107, -121.75492, -121.718762, -121.738697, -121.581354, -121.725594, -121.810551858284, -121.930069, -122.105976, -122.223799, -122.31768199999999, null], \"y\": [37.186945, 37.215444, 37.286055, 37.16681, 37.048449999999995, 37.007557, 36.989990999999996, 36.899152, 36.914345, 36.8506482495196, 36.97815, 36.955951, 37.025672, 37.186945, null]}, {\"fill\": \"toself\", \"fillcolor\": \"rgb(255, 60, 0)\", \"hoverinfo\": \"none\", \"line\": {\"color\": \"rgb(0, 0, 0)\", \"width\": 0}, \"mode\": \"lines\", \"name\": \"17\", \"type\": \"scatter\", \"x\": [], \"y\": []}, {\"fill\": \"toself\", \"fillcolor\": \"rgb(255, 30, 0)\", \"hoverinfo\": \"none\", \"line\": {\"color\": \"rgb(0, 0, 0)\", \"width\": 0}, \"mode\": \"lines\", \"name\": \"725\", \"type\": \"scatter\", \"x\": [-117.596147232519, -117.57848, -117.508614, -117.509722, -117.364272, -117.241271, -116.085165, -116.10618141881301, -117.12486200000001, -117.168866, -117.246069, -117.28217000000001, -117.25447, -117.328359, -117.505919, -117.596147232519, null], \"y\": [33.3871676935322, 33.453927, 33.469614, 33.505019, 33.505024999999996, 33.431993, 33.425931999999996, 32.6186413746915, 32.534155999999996, 32.671952, 32.669351999999996, 32.839546999999996, 32.900146, 33.121842, 33.333253, 33.3871676935322, null]}, {\"hoverinfo\": \"text\", \"legendgroup\": \"centroids\", \"marker\": {\"color\": \"white\", \"opacity\": 0}, \"mode\": \"markers\", \"name\": \"US Counties\", \"selected\": {\"marker\": {\"color\": \"white\", \"opacity\": 1, \"size\": 3}}, \"showlegend\": false, \"text\": [\"County: San Francisco<br>State: California<br>FIPS: 06075<br>Value: 1\", \"County: San Francisco<br>State: California<br>FIPS: 06075<br>Value: 1\", \"County: San Francisco<br>State: California<br>FIPS: 06075<br>Value: 1\", \"County: San Francisco<br>State: California<br>FIPS: 06075<br>Value: 1\", \"County: San Francisco<br>State: California<br>FIPS: 06075<br>Value: 1\", \"County: Los Angeles<br>State: California<br>FIPS: 06037<br>Value: 3\", \"County: Los Angeles<br>State: California<br>FIPS: 06037<br>Value: 3\", \"County: Los Angeles<br>State: California<br>FIPS: 06037<br>Value: 3\", \"County: San Francisco<br>State: California<br>FIPS: 06075<br>Value: 5\", \"County: San Francisco<br>State: California<br>FIPS: 06075<br>Value: 5\", \"County: San Francisco<br>State: California<br>FIPS: 06075<br>Value: 5\", \"County: San Francisco<br>State: California<br>FIPS: 06075<br>Value: 5\", \"County: San Francisco<br>State: California<br>FIPS: 06075<br>Value: 5\", \"County: San Diego<br>State: California<br>FIPS: 06073<br>Value: 725\", \"County: Santa Clara<br>State: California<br>FIPS: 06085<br>Value: 5\", \"County: DuPage<br>State: Illinois<br>FIPS: 17043<br>Value: 1\", \"County: Santa Cruz<br>State: California<br>FIPS: 06087<br>Value: 6\", \"County: San Mateo<br>State: California<br>FIPS: 06081<br>Value: 1\", \"County: Orange<br>State: California<br>FIPS: 06059<br>Value: 1\", \"County: San Mateo<br>State: California<br>FIPS: 06081<br>Value: 1\", \"County: San Bernardino<br>State: California<br>FIPS: 06071<br>Value: 2\", \"County: Riverside<br>State: California<br>FIPS: 06065<br>Value: 1\", \"County: Santa Clara<br>State: California<br>FIPS: 06085<br>Value: 1\", \"County: Orange<br>State: California<br>FIPS: 06059<br>Value: 3\", \"County: Colusa<br>State: California<br>FIPS: 06011<br>Value: 1\"], \"type\": \"scatter\", \"unselected\": {\"marker\": {\"opacity\": 0}}, \"x\": [[-123.00529439291685], [-122.33062580015999], [-122.36897731254817], [-122.41954035391676], [-122.4408700569418], [-118.43439079091362], [-118.49014796829917], [-118.2170365255692], [-123.00529439291685], [-122.33062580015999], [-122.36897731254817], [-122.41954035391676], [-122.4408700569418], -116.73529316484134, -121.69512828430553, -88.08563348856732, -122.00183000196053, -122.32901123344624, -117.76107879941756, -122.32901123344624, -116.17840761818748, -115.99381567477099, -121.69512828430553, -117.76107879941756, -122.23695928777937], \"y\": [[37.698262123124536], [37.78330715297076], [37.819750171626495], [37.86191467461643], [37.75512499012593], [33.38251324242627], [32.90130583174091], [34.358917475517885], [37.698262123124536], [37.78330715297076], [37.819750171626495], [37.86191467461643], [37.75512499012593], 33.03413701794012, 37.23178985468803, 41.85194704762981, 37.05617890779834, 37.42289274415368, 33.702973868568144, 37.42289274415368, 34.84138099581411, 33.743649292569536, 37.23178985468803, 33.702973868568144, 39.177483923534496]}, {\"hoverinfo\": \"text\", \"legendgroup\": \"States\", \"line\": {\"color\": \"rgb(155,155,155)\", \"width\": 1}, \"mode\": \"lines\", \"showlegend\": false, \"type\": \"scatter\", \"x\": [-118.604415, -118.370323, -118.305084, -118.465368, -118.48875, -118.575394, -118.604415, null, -118.6105, -118.573897, -118.354185, -118.431809, -118.50620599999999, -118.6105, null, -119.052774, -119.049684, -119.031145, -119.03233399999999, -119.052774, null, -119.441226, -119.396251, -119.373406, -119.357462, -119.441226, null, -119.577271, -119.528778, -119.434402, -119.546212, -119.577271, null, -119.929889, -119.759428, -119.637742, -119.584301, -119.52064, -119.560464, -119.818249, -119.873358, -119.876329, -119.929889, null, -120.249536, -120.043259, -120.046575, -119.980156, -119.968636, -120.11588499999999, -120.249536, null, -120.450064, -120.368278, -120.307219, -120.35793, -120.450064, null, -122.377679, -122.362911, -122.36229399999999, -122.372836, -122.377679, null, -122.446316, -122.424651, -122.41847, -122.441271, -122.446316, null, -123.013916, -123.003507, -122.99875399999999, -123.002794, -123.013916, null, -124.217495, -124.216181, -124.213021, -124.215001, -124.217495, null, -124.408601, -124.158322, -124.111756, -124.153622, -124.165414, -124.106986, -124.066057, -124.147412, -124.254954, -124.208439, -124.21160499999999, -119.999168, -120.001014, -117.500117, -114.633487, -114.634382, -114.470477, -114.436466, -114.380838, -114.386699, -114.176909, -114.131211, -114.434181, -114.438266, -114.535478, -114.50792, -114.52805, -114.494197, -114.53152299999999, -114.524599, -114.643302, -114.72528199999999, -114.698035, -114.731223, -114.672088, -114.706488, -114.66506, -114.52013, -114.469039, -114.468971, -114.530755, -114.526856, -114.618373, -114.701918, -114.719633, -117.12486200000001, -117.168866, -117.246069, -117.28217000000001, -117.25447, -117.328359, -117.46979400000001, -117.652692, -117.714617, -117.784888, -118.132698, -118.18035, -118.183342, -118.269645, -118.411211, -118.42840699999999, -118.391103, -118.519514, -118.744952, -118.806367, -119.129252, -119.216441, -119.278644, -119.563986, -119.878199, -120.008077, -120.141165, -120.452811, -120.511421, -120.63672199999999, -120.60045, -120.637415, -120.610266, -120.672269, -120.629931, -120.644311, -120.856047, -120.8996, -120.862684, -120.88475700000001, -121.003359, -121.166712, -121.28653, -121.332449, -121.46491, -121.503112, -121.574602, -121.717176, -121.902729, -121.903195, -121.95447300000001, -121.925937, -121.932508, -121.978714, -121.93643, -121.860604, -121.81446199999999, -121.78827799999999, -121.862266, -121.930069, -122.06642099999999, -122.135161, -122.405073, -122.40084999999999, -122.459577, -122.499289, -122.519533, -122.494085, -122.514483, -122.478083, -122.385323, -122.356784, -122.39319, -122.389313, -122.355627, -122.378545, -122.136422, -122.08874, -122.038599, -122.055541, -122.10942, -122.170648, -122.252172, -122.24394699999999, -122.33227, -122.342253, -122.296618, -122.311399, -122.390546, -122.430087, -122.367582, -122.367909, -122.283478, -122.262861, -122.282824, -122.393588, -122.489974, -122.497828, -122.447304, -122.495553, -122.479512, -122.50506, -122.438268, -122.457999, -122.501019, -122.472736, -122.527399, -122.641963, -122.72518099999999, -122.856573, -122.939711, -122.981776, -122.963544, -123.024066, -122.949074, -122.995631, -122.972101, -122.977082, -123.024333, -123.063671, -123.128825, -123.33189899999999, -123.441774, -123.727976, -123.74192099999999, -123.69124, -123.827716, -123.766475, -123.851714, -124.079983, -124.11054899999999, -124.360604, -124.347853, -124.408601, null, null], \"y\": [33.478552, 33.409285, 33.310323, 33.326056, 33.419826, 33.440179, 33.478552, null, 33.032941, 33.03055, 32.820918999999996, 32.801462, 32.852985, 33.032941, null, 33.46586, 33.483900999999996, 33.489649, 33.468834, 33.46586, null, 34.014075, 34.005918, 34.015440999999996, 34.015919, 34.014075, null, 33.278582, 33.285416999999995, 33.227021, 33.232561, 33.278582, null, 34.059734, 34.058835, 34.013177999999996, 34.053643, 34.034262, 33.995529999999995, 33.959858, 33.980374999999995, 34.032087, 34.059734, null, 34.002477, 34.035806, 34.000001999999995, 33.983653, 33.942878, 33.894360999999996, 34.002477, null, 34.034194, 34.076465, 34.022375, 34.015029, 34.034194, null, 37.830459999999995, 37.822696, 37.807016, 37.811068, 37.830459999999995, null, 37.861046, 37.870736, 37.852720999999995, 37.855142, 37.861046, null, 37.700355, 37.704395999999996, 37.697438, 37.692736, 37.700355, null, 41.95081, 41.952211999999996, 41.951023, 41.949734, 41.95081, null, 40.443200999999995, 40.876069, 41.026883, 41.05355, 41.129822, 41.229678, 41.470258, 41.717954999999996, 41.778169999999996, 41.888192, 41.99846, 41.99454, 38.999573999999996, 37.22038, 35.001857, 34.87289, 34.711368, 34.595400000000005, 34.529724, 34.457910999999996, 34.349306, 34.26273, 34.087379, 34.022608999999996, 33.934650999999995, 33.903807, 33.814963, 33.707921999999996, 33.675108, 33.552231, 33.416745, 33.405048, 33.352441999999996, 33.302434, 33.258499, 33.08816, 33.033908, 33.029984, 32.972294999999995, 32.845155, 32.793485, 32.757093999999995, 32.728245, 32.745548, 32.718762999999996, 32.534155999999996, 32.671952, 32.669351999999996, 32.839546999999996, 32.900146, 33.121842, 33.296417, 33.446154, 33.459914, 33.541525, 33.753217, 33.763413, 33.723186, 33.704029999999996, 33.741985, 33.774715, 33.838771, 34.027509, 34.032103, 34.000198, 34.10084, 34.146105, 34.266902, 34.41532, 34.406912999999996, 34.460446999999995, 34.473405, 34.442442, 34.522953, 34.560967, 34.70464, 34.755894999999995, 34.85818, 34.90254, 35.061515, 35.139616, 35.206486999999996, 35.255337, 35.346776, 35.430195999999995, 35.46071, 35.635399, 35.665524, 35.783106, 35.888456999999995, 36.000299, 36.025155999999996, 36.195146, 36.306379, 36.393603, 36.518904, 36.525172999999995, 36.559934999999996, 36.581488, 36.636745999999995, 36.611135999999995, 36.682857999999996, 36.803993999999996, 36.931551999999996, 36.97815, 36.948271, 36.967774, 37.195791, 37.359224999999995, 37.492731, 37.495340999999996, 37.537302, 37.644034999999995, 37.780829, 37.810828, 37.790724, 37.729504999999996, 37.707530999999996, 37.640193, 37.615293, 37.605592, 37.507576, 37.452267, 37.454622, 37.49523, 37.500254, 37.678503, 37.724952, 37.751779, 37.781517, 37.805558, 37.828465, 37.895793999999995, 37.90911, 37.963114999999995, 37.978168, 38.01253, 38.022673999999995, 38.0446, 38.082889, 38.143449, 38.112013999999995, 38.019402, 37.984387, 37.970523, 37.942526, 37.936414, 37.880973999999995, 37.861768999999995, 37.893662, 37.831927, 37.814947, 37.897507, 37.902691, 38.016717, 38.031908, 38.009119, 37.989914, 37.994878, 38.15406, 38.238626, 38.232652, 38.267902, 38.310573, 38.302178, 38.450418, 38.565542, 38.699743999999995, 38.919429, 38.956227999999996, 39.050795, 39.348433, 39.552803, 39.832041, 40.029773, 40.103764999999996, 40.257206, 40.314634, 40.443200999999995, null, null]}],\n",
       "                        {\"annotations\": [{\"showarrow\": false, \"text\": \"<b></b>\", \"x\": 1, \"xanchor\": \"right\", \"xref\": \"paper\", \"y\": 1.05, \"yref\": \"paper\"}], \"dragmode\": \"select\", \"height\": 450, \"hovermode\": \"closest\", \"legend\": {\"traceorder\": \"reversed\", \"x\": 1, \"xanchor\": \"right\", \"y\": 1, \"yanchor\": \"top\"}, \"margin\": {\"b\": 20, \"l\": 20, \"r\": 20, \"t\": 40}, \"width\": 900, \"xaxis\": {\"autorange\": false, \"fixedrange\": true, \"range\": [-124.408601, -87.914265], \"showgrid\": false, \"showticklabels\": false, \"zeroline\": false}, \"yaxis\": {\"autorange\": false, \"fixedrange\": true, \"range\": [29.967440799999995, 44.5651752], \"showgrid\": false, \"showticklabels\": false, \"zeroline\": false}},\n",
       "                        {\"responsive\": true}\n",
       "                    ).then(function(){\n",
       "                            \n",
       "var gd = document.getElementById('05f23c7d-f7d6-4a7e-a5a1-52adc0c7e7c9');\n",
       "var x = new MutationObserver(function (mutations, observer) {{\n",
       "        var display = window.getComputedStyle(gd).display;\n",
       "        if (!display || display === 'none') {{\n",
       "            console.log([gd, 'removed!']);\n",
       "            Plotly.purge(gd);\n",
       "            observer.disconnect();\n",
       "        }}\n",
       "}});\n",
       "\n",
       "// Listen for the removal of the full notebook cells\n",
       "var notebookContainer = gd.closest('#notebook-container');\n",
       "if (notebookContainer) {{\n",
       "    x.observe(notebookContainer, {childList: true});\n",
       "}}\n",
       "\n",
       "// Listen for the clearing of the current output cell\n",
       "var outputEl = gd.closest('.output');\n",
       "if (outputEl) {{\n",
       "    x.observe(outputEl, {childList: true});\n",
       "}}\n",
       "\n",
       "                        })\n",
       "                };\n",
       "                });\n",
       "            </script>\n",
       "        </div>"
      ]
     },
     "metadata": {},
     "output_type": "display_data"
    }
   ],
   "source": [
    "import plotly.figure_factory as ff\n",
    "import plotly.graph_objects as go\n",
    "import plotly\n",
    "import geopandas\n",
    "\n",
    "loc, value = seperate_Loc_Data(location)\n",
    "loc, value = coordinate_Loc_Val(loc, value)\n",
    "city, value = seperate_City_State_Data(location)\n",
    "fips, value = getFIPS(city, value)\n",
    "\n",
    "scope = ['California']\n",
    "values = range(len(fips))\n",
    "# print(len(fips))\n",
    "colorscale = [\n",
    "    'rgb(255, 0, 0)',\n",
    "    'rgb(255, 30, 0)',\n",
    "    'rgb(255, 60, 0)',\n",
    "    'rgb(255, 90, 0)',\n",
    "    'rgb(255, 120, 0)',\n",
    "    'rgb(255, 180, 0)',\n",
    "    'rgb(255, 210, 0)',\n",
    "    'rgb(255, 240, 0)',\n",
    "    'rgb(255, 255, 160)'\n",
    "]\n",
    "\n",
    "colorscale.reverse()\n",
    "\n",
    "fig = ff.create_choropleth(fips=fips, values=value, colorscale = colorscale, scope=['CA'],state_outline={'color': 'rgb(155,155,155)','width': 1}, \n",
    "                           round_legend_values=True)\n",
    "fig.layout.template = None\n",
    "fig.show()\n"
   ]
  },
  {
   "cell_type": "code",
   "execution_count": 103,
   "metadata": {},
   "outputs": [
    {
     "data": {
      "application/vnd.plotly.v1+json": {
       "config": {
        "plotlyServerURL": "https://plot.ly"
       },
       "data": [
        {
         "colorbar": {
          "title": {
           "text": "Number of Alumni"
          }
         },
         "colorscale": [
          [
           0,
           "rgb(255,245,240)"
          ],
          [
           0.125,
           "rgb(254,224,210)"
          ],
          [
           0.25,
           "rgb(252,187,161)"
          ],
          [
           0.375,
           "rgb(252,146,114)"
          ],
          [
           0.5,
           "rgb(251,106,74)"
          ],
          [
           0.625,
           "rgb(239,59,44)"
          ],
          [
           0.75,
           "rgb(203,24,29)"
          ],
          [
           0.875,
           "rgb(165,15,21)"
          ],
          [
           1,
           "rgb(103,0,13)"
          ]
         ],
         "locationmode": "USA-states",
         "locations": [
          "CA",
          "WA",
          "IL",
          "PA",
          "TX",
          "NY",
          "NJ",
          "MN"
         ],
         "marker": {
          "line": {
           "color": "black"
          }
         },
         "type": "choropleth",
         "z": [
          6.646390514847729,
          3.044522437723423,
          0.6931471805599453,
          1.6094379124341003,
          0.6931471805599453,
          1.0986122886681098,
          0.6931471805599453,
          0.6931471805599453
         ]
        }
       ],
       "layout": {
        "geo": {
         "scope": "usa"
        },
        "template": {
         "data": {
          "bar": [
           {
            "error_x": {
             "color": "#2a3f5f"
            },
            "error_y": {
             "color": "#2a3f5f"
            },
            "marker": {
             "line": {
              "color": "#E5ECF6",
              "width": 0.5
             }
            },
            "type": "bar"
           }
          ],
          "barpolar": [
           {
            "marker": {
             "line": {
              "color": "#E5ECF6",
              "width": 0.5
             }
            },
            "type": "barpolar"
           }
          ],
          "carpet": [
           {
            "aaxis": {
             "endlinecolor": "#2a3f5f",
             "gridcolor": "white",
             "linecolor": "white",
             "minorgridcolor": "white",
             "startlinecolor": "#2a3f5f"
            },
            "baxis": {
             "endlinecolor": "#2a3f5f",
             "gridcolor": "white",
             "linecolor": "white",
             "minorgridcolor": "white",
             "startlinecolor": "#2a3f5f"
            },
            "type": "carpet"
           }
          ],
          "choropleth": [
           {
            "colorbar": {
             "outlinewidth": 0,
             "ticks": ""
            },
            "type": "choropleth"
           }
          ],
          "contour": [
           {
            "colorbar": {
             "outlinewidth": 0,
             "ticks": ""
            },
            "colorscale": [
             [
              0,
              "#0d0887"
             ],
             [
              0.1111111111111111,
              "#46039f"
             ],
             [
              0.2222222222222222,
              "#7201a8"
             ],
             [
              0.3333333333333333,
              "#9c179e"
             ],
             [
              0.4444444444444444,
              "#bd3786"
             ],
             [
              0.5555555555555556,
              "#d8576b"
             ],
             [
              0.6666666666666666,
              "#ed7953"
             ],
             [
              0.7777777777777778,
              "#fb9f3a"
             ],
             [
              0.8888888888888888,
              "#fdca26"
             ],
             [
              1,
              "#f0f921"
             ]
            ],
            "type": "contour"
           }
          ],
          "contourcarpet": [
           {
            "colorbar": {
             "outlinewidth": 0,
             "ticks": ""
            },
            "type": "contourcarpet"
           }
          ],
          "heatmap": [
           {
            "colorbar": {
             "outlinewidth": 0,
             "ticks": ""
            },
            "colorscale": [
             [
              0,
              "#0d0887"
             ],
             [
              0.1111111111111111,
              "#46039f"
             ],
             [
              0.2222222222222222,
              "#7201a8"
             ],
             [
              0.3333333333333333,
              "#9c179e"
             ],
             [
              0.4444444444444444,
              "#bd3786"
             ],
             [
              0.5555555555555556,
              "#d8576b"
             ],
             [
              0.6666666666666666,
              "#ed7953"
             ],
             [
              0.7777777777777778,
              "#fb9f3a"
             ],
             [
              0.8888888888888888,
              "#fdca26"
             ],
             [
              1,
              "#f0f921"
             ]
            ],
            "type": "heatmap"
           }
          ],
          "heatmapgl": [
           {
            "colorbar": {
             "outlinewidth": 0,
             "ticks": ""
            },
            "colorscale": [
             [
              0,
              "#0d0887"
             ],
             [
              0.1111111111111111,
              "#46039f"
             ],
             [
              0.2222222222222222,
              "#7201a8"
             ],
             [
              0.3333333333333333,
              "#9c179e"
             ],
             [
              0.4444444444444444,
              "#bd3786"
             ],
             [
              0.5555555555555556,
              "#d8576b"
             ],
             [
              0.6666666666666666,
              "#ed7953"
             ],
             [
              0.7777777777777778,
              "#fb9f3a"
             ],
             [
              0.8888888888888888,
              "#fdca26"
             ],
             [
              1,
              "#f0f921"
             ]
            ],
            "type": "heatmapgl"
           }
          ],
          "histogram": [
           {
            "marker": {
             "colorbar": {
              "outlinewidth": 0,
              "ticks": ""
             }
            },
            "type": "histogram"
           }
          ],
          "histogram2d": [
           {
            "colorbar": {
             "outlinewidth": 0,
             "ticks": ""
            },
            "colorscale": [
             [
              0,
              "#0d0887"
             ],
             [
              0.1111111111111111,
              "#46039f"
             ],
             [
              0.2222222222222222,
              "#7201a8"
             ],
             [
              0.3333333333333333,
              "#9c179e"
             ],
             [
              0.4444444444444444,
              "#bd3786"
             ],
             [
              0.5555555555555556,
              "#d8576b"
             ],
             [
              0.6666666666666666,
              "#ed7953"
             ],
             [
              0.7777777777777778,
              "#fb9f3a"
             ],
             [
              0.8888888888888888,
              "#fdca26"
             ],
             [
              1,
              "#f0f921"
             ]
            ],
            "type": "histogram2d"
           }
          ],
          "histogram2dcontour": [
           {
            "colorbar": {
             "outlinewidth": 0,
             "ticks": ""
            },
            "colorscale": [
             [
              0,
              "#0d0887"
             ],
             [
              0.1111111111111111,
              "#46039f"
             ],
             [
              0.2222222222222222,
              "#7201a8"
             ],
             [
              0.3333333333333333,
              "#9c179e"
             ],
             [
              0.4444444444444444,
              "#bd3786"
             ],
             [
              0.5555555555555556,
              "#d8576b"
             ],
             [
              0.6666666666666666,
              "#ed7953"
             ],
             [
              0.7777777777777778,
              "#fb9f3a"
             ],
             [
              0.8888888888888888,
              "#fdca26"
             ],
             [
              1,
              "#f0f921"
             ]
            ],
            "type": "histogram2dcontour"
           }
          ],
          "mesh3d": [
           {
            "colorbar": {
             "outlinewidth": 0,
             "ticks": ""
            },
            "type": "mesh3d"
           }
          ],
          "parcoords": [
           {
            "line": {
             "colorbar": {
              "outlinewidth": 0,
              "ticks": ""
             }
            },
            "type": "parcoords"
           }
          ],
          "scatter": [
           {
            "marker": {
             "colorbar": {
              "outlinewidth": 0,
              "ticks": ""
             }
            },
            "type": "scatter"
           }
          ],
          "scatter3d": [
           {
            "line": {
             "colorbar": {
              "outlinewidth": 0,
              "ticks": ""
             }
            },
            "marker": {
             "colorbar": {
              "outlinewidth": 0,
              "ticks": ""
             }
            },
            "type": "scatter3d"
           }
          ],
          "scattercarpet": [
           {
            "marker": {
             "colorbar": {
              "outlinewidth": 0,
              "ticks": ""
             }
            },
            "type": "scattercarpet"
           }
          ],
          "scattergeo": [
           {
            "marker": {
             "colorbar": {
              "outlinewidth": 0,
              "ticks": ""
             }
            },
            "type": "scattergeo"
           }
          ],
          "scattergl": [
           {
            "marker": {
             "colorbar": {
              "outlinewidth": 0,
              "ticks": ""
             }
            },
            "type": "scattergl"
           }
          ],
          "scattermapbox": [
           {
            "marker": {
             "colorbar": {
              "outlinewidth": 0,
              "ticks": ""
             }
            },
            "type": "scattermapbox"
           }
          ],
          "scatterpolar": [
           {
            "marker": {
             "colorbar": {
              "outlinewidth": 0,
              "ticks": ""
             }
            },
            "type": "scatterpolar"
           }
          ],
          "scatterpolargl": [
           {
            "marker": {
             "colorbar": {
              "outlinewidth": 0,
              "ticks": ""
             }
            },
            "type": "scatterpolargl"
           }
          ],
          "scatterternary": [
           {
            "marker": {
             "colorbar": {
              "outlinewidth": 0,
              "ticks": ""
             }
            },
            "type": "scatterternary"
           }
          ],
          "surface": [
           {
            "colorbar": {
             "outlinewidth": 0,
             "ticks": ""
            },
            "colorscale": [
             [
              0,
              "#0d0887"
             ],
             [
              0.1111111111111111,
              "#46039f"
             ],
             [
              0.2222222222222222,
              "#7201a8"
             ],
             [
              0.3333333333333333,
              "#9c179e"
             ],
             [
              0.4444444444444444,
              "#bd3786"
             ],
             [
              0.5555555555555556,
              "#d8576b"
             ],
             [
              0.6666666666666666,
              "#ed7953"
             ],
             [
              0.7777777777777778,
              "#fb9f3a"
             ],
             [
              0.8888888888888888,
              "#fdca26"
             ],
             [
              1,
              "#f0f921"
             ]
            ],
            "type": "surface"
           }
          ],
          "table": [
           {
            "cells": {
             "fill": {
              "color": "#EBF0F8"
             },
             "line": {
              "color": "white"
             }
            },
            "header": {
             "fill": {
              "color": "#C8D4E3"
             },
             "line": {
              "color": "white"
             }
            },
            "type": "table"
           }
          ]
         },
         "layout": {
          "annotationdefaults": {
           "arrowcolor": "#2a3f5f",
           "arrowhead": 0,
           "arrowwidth": 1
          },
          "colorscale": {
           "diverging": [
            [
             0,
             "#8e0152"
            ],
            [
             0.1,
             "#c51b7d"
            ],
            [
             0.2,
             "#de77ae"
            ],
            [
             0.3,
             "#f1b6da"
            ],
            [
             0.4,
             "#fde0ef"
            ],
            [
             0.5,
             "#f7f7f7"
            ],
            [
             0.6,
             "#e6f5d0"
            ],
            [
             0.7,
             "#b8e186"
            ],
            [
             0.8,
             "#7fbc41"
            ],
            [
             0.9,
             "#4d9221"
            ],
            [
             1,
             "#276419"
            ]
           ],
           "sequential": [
            [
             0,
             "#0d0887"
            ],
            [
             0.1111111111111111,
             "#46039f"
            ],
            [
             0.2222222222222222,
             "#7201a8"
            ],
            [
             0.3333333333333333,
             "#9c179e"
            ],
            [
             0.4444444444444444,
             "#bd3786"
            ],
            [
             0.5555555555555556,
             "#d8576b"
            ],
            [
             0.6666666666666666,
             "#ed7953"
            ],
            [
             0.7777777777777778,
             "#fb9f3a"
            ],
            [
             0.8888888888888888,
             "#fdca26"
            ],
            [
             1,
             "#f0f921"
            ]
           ],
           "sequentialminus": [
            [
             0,
             "#0d0887"
            ],
            [
             0.1111111111111111,
             "#46039f"
            ],
            [
             0.2222222222222222,
             "#7201a8"
            ],
            [
             0.3333333333333333,
             "#9c179e"
            ],
            [
             0.4444444444444444,
             "#bd3786"
            ],
            [
             0.5555555555555556,
             "#d8576b"
            ],
            [
             0.6666666666666666,
             "#ed7953"
            ],
            [
             0.7777777777777778,
             "#fb9f3a"
            ],
            [
             0.8888888888888888,
             "#fdca26"
            ],
            [
             1,
             "#f0f921"
            ]
           ]
          },
          "colorway": [
           "#636efa",
           "#EF553B",
           "#00cc96",
           "#ab63fa",
           "#FFA15A",
           "#19d3f3",
           "#FF6692",
           "#B6E880",
           "#FF97FF",
           "#FECB52"
          ],
          "font": {
           "color": "#2a3f5f"
          },
          "geo": {
           "bgcolor": "white",
           "lakecolor": "white",
           "landcolor": "#E5ECF6",
           "showlakes": true,
           "showland": true,
           "subunitcolor": "white"
          },
          "hoverlabel": {
           "align": "left"
          },
          "hovermode": "closest",
          "mapbox": {
           "style": "light"
          },
          "paper_bgcolor": "white",
          "plot_bgcolor": "#E5ECF6",
          "polar": {
           "angularaxis": {
            "gridcolor": "white",
            "linecolor": "white",
            "ticks": ""
           },
           "bgcolor": "#E5ECF6",
           "radialaxis": {
            "gridcolor": "white",
            "linecolor": "white",
            "ticks": ""
           }
          },
          "scene": {
           "xaxis": {
            "backgroundcolor": "#E5ECF6",
            "gridcolor": "white",
            "gridwidth": 2,
            "linecolor": "white",
            "showbackground": true,
            "ticks": "",
            "zerolinecolor": "white"
           },
           "yaxis": {
            "backgroundcolor": "#E5ECF6",
            "gridcolor": "white",
            "gridwidth": 2,
            "linecolor": "white",
            "showbackground": true,
            "ticks": "",
            "zerolinecolor": "white"
           },
           "zaxis": {
            "backgroundcolor": "#E5ECF6",
            "gridcolor": "white",
            "gridwidth": 2,
            "linecolor": "white",
            "showbackground": true,
            "ticks": "",
            "zerolinecolor": "white"
           }
          },
          "shapedefaults": {
           "line": {
            "color": "#2a3f5f"
           }
          },
          "ternary": {
           "aaxis": {
            "gridcolor": "white",
            "linecolor": "white",
            "ticks": ""
           },
           "baxis": {
            "gridcolor": "white",
            "linecolor": "white",
            "ticks": ""
           },
           "bgcolor": "#E5ECF6",
           "caxis": {
            "gridcolor": "white",
            "linecolor": "white",
            "ticks": ""
           }
          },
          "title": {
           "x": 0.05
          },
          "xaxis": {
           "automargin": true,
           "gridcolor": "white",
           "linecolor": "white",
           "ticks": "",
           "zerolinecolor": "white",
           "zerolinewidth": 2
          },
          "yaxis": {
           "automargin": true,
           "gridcolor": "white",
           "linecolor": "white",
           "ticks": "",
           "zerolinecolor": "white",
           "zerolinewidth": 2
          }
         }
        },
        "title": {
         "text": "UCSD Alumni Employment Localization Distribution"
        }
       }
      },
      "text/html": [
       "<div>\n",
       "        \n",
       "        \n",
       "            <div id=\"c02683bc-b2d0-4678-b9c0-077dc06a5661\" class=\"plotly-graph-div\" style=\"height:525px; width:100%;\"></div>\n",
       "            <script type=\"text/javascript\">\n",
       "                require([\"plotly\"], function(Plotly) {\n",
       "                    window.PLOTLYENV=window.PLOTLYENV || {};\n",
       "                    \n",
       "                if (document.getElementById(\"c02683bc-b2d0-4678-b9c0-077dc06a5661\")) {\n",
       "                    Plotly.newPlot(\n",
       "                        'c02683bc-b2d0-4678-b9c0-077dc06a5661',\n",
       "                        [{\"colorbar\": {\"title\": {\"text\": \"Number of Alumni\"}}, \"colorscale\": [[0.0, \"rgb(255,245,240)\"], [0.125, \"rgb(254,224,210)\"], [0.25, \"rgb(252,187,161)\"], [0.375, \"rgb(252,146,114)\"], [0.5, \"rgb(251,106,74)\"], [0.625, \"rgb(239,59,44)\"], [0.75, \"rgb(203,24,29)\"], [0.875, \"rgb(165,15,21)\"], [1.0, \"rgb(103,0,13)\"]], \"locationmode\": \"USA-states\", \"locations\": [\"CA\", \"WA\", \"IL\", \"PA\", \"TX\", \"NY\", \"NJ\", \"MN\"], \"marker\": {\"line\": {\"color\": \"black\"}}, \"type\": \"choropleth\", \"z\": [6.646390514847729, 3.044522437723423, 0.6931471805599453, 1.6094379124341003, 0.6931471805599453, 1.0986122886681098, 0.6931471805599453, 0.6931471805599453]}],\n",
       "                        {\"geo\": {\"scope\": \"usa\"}, \"template\": {\"data\": {\"bar\": [{\"error_x\": {\"color\": \"#2a3f5f\"}, \"error_y\": {\"color\": \"#2a3f5f\"}, \"marker\": {\"line\": {\"color\": \"#E5ECF6\", \"width\": 0.5}}, \"type\": \"bar\"}], \"barpolar\": [{\"marker\": {\"line\": {\"color\": \"#E5ECF6\", \"width\": 0.5}}, \"type\": \"barpolar\"}], \"carpet\": [{\"aaxis\": {\"endlinecolor\": \"#2a3f5f\", \"gridcolor\": \"white\", \"linecolor\": \"white\", \"minorgridcolor\": \"white\", \"startlinecolor\": \"#2a3f5f\"}, \"baxis\": {\"endlinecolor\": \"#2a3f5f\", \"gridcolor\": \"white\", \"linecolor\": \"white\", \"minorgridcolor\": \"white\", \"startlinecolor\": \"#2a3f5f\"}, \"type\": \"carpet\"}], \"choropleth\": [{\"colorbar\": {\"outlinewidth\": 0, \"ticks\": \"\"}, \"type\": \"choropleth\"}], \"contour\": [{\"colorbar\": {\"outlinewidth\": 0, \"ticks\": \"\"}, \"colorscale\": [[0.0, \"#0d0887\"], [0.1111111111111111, \"#46039f\"], [0.2222222222222222, \"#7201a8\"], [0.3333333333333333, \"#9c179e\"], [0.4444444444444444, \"#bd3786\"], [0.5555555555555556, \"#d8576b\"], [0.6666666666666666, \"#ed7953\"], [0.7777777777777778, \"#fb9f3a\"], [0.8888888888888888, \"#fdca26\"], [1.0, \"#f0f921\"]], \"type\": \"contour\"}], \"contourcarpet\": [{\"colorbar\": {\"outlinewidth\": 0, \"ticks\": \"\"}, \"type\": \"contourcarpet\"}], \"heatmap\": [{\"colorbar\": {\"outlinewidth\": 0, \"ticks\": \"\"}, \"colorscale\": [[0.0, \"#0d0887\"], [0.1111111111111111, \"#46039f\"], [0.2222222222222222, \"#7201a8\"], [0.3333333333333333, \"#9c179e\"], [0.4444444444444444, \"#bd3786\"], [0.5555555555555556, \"#d8576b\"], [0.6666666666666666, \"#ed7953\"], [0.7777777777777778, \"#fb9f3a\"], [0.8888888888888888, \"#fdca26\"], [1.0, \"#f0f921\"]], \"type\": \"heatmap\"}], \"heatmapgl\": [{\"colorbar\": {\"outlinewidth\": 0, \"ticks\": \"\"}, \"colorscale\": [[0.0, \"#0d0887\"], [0.1111111111111111, \"#46039f\"], [0.2222222222222222, \"#7201a8\"], [0.3333333333333333, \"#9c179e\"], [0.4444444444444444, \"#bd3786\"], [0.5555555555555556, \"#d8576b\"], [0.6666666666666666, \"#ed7953\"], [0.7777777777777778, \"#fb9f3a\"], [0.8888888888888888, \"#fdca26\"], [1.0, \"#f0f921\"]], \"type\": \"heatmapgl\"}], \"histogram\": [{\"marker\": {\"colorbar\": {\"outlinewidth\": 0, \"ticks\": \"\"}}, \"type\": \"histogram\"}], \"histogram2d\": [{\"colorbar\": {\"outlinewidth\": 0, \"ticks\": \"\"}, \"colorscale\": [[0.0, \"#0d0887\"], [0.1111111111111111, \"#46039f\"], [0.2222222222222222, \"#7201a8\"], [0.3333333333333333, \"#9c179e\"], [0.4444444444444444, \"#bd3786\"], [0.5555555555555556, \"#d8576b\"], [0.6666666666666666, \"#ed7953\"], [0.7777777777777778, \"#fb9f3a\"], [0.8888888888888888, \"#fdca26\"], [1.0, \"#f0f921\"]], \"type\": \"histogram2d\"}], \"histogram2dcontour\": [{\"colorbar\": {\"outlinewidth\": 0, \"ticks\": \"\"}, \"colorscale\": [[0.0, \"#0d0887\"], [0.1111111111111111, \"#46039f\"], [0.2222222222222222, \"#7201a8\"], [0.3333333333333333, \"#9c179e\"], [0.4444444444444444, \"#bd3786\"], [0.5555555555555556, \"#d8576b\"], [0.6666666666666666, \"#ed7953\"], [0.7777777777777778, \"#fb9f3a\"], [0.8888888888888888, \"#fdca26\"], [1.0, \"#f0f921\"]], \"type\": \"histogram2dcontour\"}], \"mesh3d\": [{\"colorbar\": {\"outlinewidth\": 0, \"ticks\": \"\"}, \"type\": \"mesh3d\"}], \"parcoords\": [{\"line\": {\"colorbar\": {\"outlinewidth\": 0, \"ticks\": \"\"}}, \"type\": \"parcoords\"}], \"scatter\": [{\"marker\": {\"colorbar\": {\"outlinewidth\": 0, \"ticks\": \"\"}}, \"type\": \"scatter\"}], \"scatter3d\": [{\"line\": {\"colorbar\": {\"outlinewidth\": 0, \"ticks\": \"\"}}, \"marker\": {\"colorbar\": {\"outlinewidth\": 0, \"ticks\": \"\"}}, \"type\": \"scatter3d\"}], \"scattercarpet\": [{\"marker\": {\"colorbar\": {\"outlinewidth\": 0, \"ticks\": \"\"}}, \"type\": \"scattercarpet\"}], \"scattergeo\": [{\"marker\": {\"colorbar\": {\"outlinewidth\": 0, \"ticks\": \"\"}}, \"type\": \"scattergeo\"}], \"scattergl\": [{\"marker\": {\"colorbar\": {\"outlinewidth\": 0, \"ticks\": \"\"}}, \"type\": \"scattergl\"}], \"scattermapbox\": [{\"marker\": {\"colorbar\": {\"outlinewidth\": 0, \"ticks\": \"\"}}, \"type\": \"scattermapbox\"}], \"scatterpolar\": [{\"marker\": {\"colorbar\": {\"outlinewidth\": 0, \"ticks\": \"\"}}, \"type\": \"scatterpolar\"}], \"scatterpolargl\": [{\"marker\": {\"colorbar\": {\"outlinewidth\": 0, \"ticks\": \"\"}}, \"type\": \"scatterpolargl\"}], \"scatterternary\": [{\"marker\": {\"colorbar\": {\"outlinewidth\": 0, \"ticks\": \"\"}}, \"type\": \"scatterternary\"}], \"surface\": [{\"colorbar\": {\"outlinewidth\": 0, \"ticks\": \"\"}, \"colorscale\": [[0.0, \"#0d0887\"], [0.1111111111111111, \"#46039f\"], [0.2222222222222222, \"#7201a8\"], [0.3333333333333333, \"#9c179e\"], [0.4444444444444444, \"#bd3786\"], [0.5555555555555556, \"#d8576b\"], [0.6666666666666666, \"#ed7953\"], [0.7777777777777778, \"#fb9f3a\"], [0.8888888888888888, \"#fdca26\"], [1.0, \"#f0f921\"]], \"type\": \"surface\"}], \"table\": [{\"cells\": {\"fill\": {\"color\": \"#EBF0F8\"}, \"line\": {\"color\": \"white\"}}, \"header\": {\"fill\": {\"color\": \"#C8D4E3\"}, \"line\": {\"color\": \"white\"}}, \"type\": \"table\"}]}, \"layout\": {\"annotationdefaults\": {\"arrowcolor\": \"#2a3f5f\", \"arrowhead\": 0, \"arrowwidth\": 1}, \"colorscale\": {\"diverging\": [[0, \"#8e0152\"], [0.1, \"#c51b7d\"], [0.2, \"#de77ae\"], [0.3, \"#f1b6da\"], [0.4, \"#fde0ef\"], [0.5, \"#f7f7f7\"], [0.6, \"#e6f5d0\"], [0.7, \"#b8e186\"], [0.8, \"#7fbc41\"], [0.9, \"#4d9221\"], [1, \"#276419\"]], \"sequential\": [[0.0, \"#0d0887\"], [0.1111111111111111, \"#46039f\"], [0.2222222222222222, \"#7201a8\"], [0.3333333333333333, \"#9c179e\"], [0.4444444444444444, \"#bd3786\"], [0.5555555555555556, \"#d8576b\"], [0.6666666666666666, \"#ed7953\"], [0.7777777777777778, \"#fb9f3a\"], [0.8888888888888888, \"#fdca26\"], [1.0, \"#f0f921\"]], \"sequentialminus\": [[0.0, \"#0d0887\"], [0.1111111111111111, \"#46039f\"], [0.2222222222222222, \"#7201a8\"], [0.3333333333333333, \"#9c179e\"], [0.4444444444444444, \"#bd3786\"], [0.5555555555555556, \"#d8576b\"], [0.6666666666666666, \"#ed7953\"], [0.7777777777777778, \"#fb9f3a\"], [0.8888888888888888, \"#fdca26\"], [1.0, \"#f0f921\"]]}, \"colorway\": [\"#636efa\", \"#EF553B\", \"#00cc96\", \"#ab63fa\", \"#FFA15A\", \"#19d3f3\", \"#FF6692\", \"#B6E880\", \"#FF97FF\", \"#FECB52\"], \"font\": {\"color\": \"#2a3f5f\"}, \"geo\": {\"bgcolor\": \"white\", \"lakecolor\": \"white\", \"landcolor\": \"#E5ECF6\", \"showlakes\": true, \"showland\": true, \"subunitcolor\": \"white\"}, \"hoverlabel\": {\"align\": \"left\"}, \"hovermode\": \"closest\", \"mapbox\": {\"style\": \"light\"}, \"paper_bgcolor\": \"white\", \"plot_bgcolor\": \"#E5ECF6\", \"polar\": {\"angularaxis\": {\"gridcolor\": \"white\", \"linecolor\": \"white\", \"ticks\": \"\"}, \"bgcolor\": \"#E5ECF6\", \"radialaxis\": {\"gridcolor\": \"white\", \"linecolor\": \"white\", \"ticks\": \"\"}}, \"scene\": {\"xaxis\": {\"backgroundcolor\": \"#E5ECF6\", \"gridcolor\": \"white\", \"gridwidth\": 2, \"linecolor\": \"white\", \"showbackground\": true, \"ticks\": \"\", \"zerolinecolor\": \"white\"}, \"yaxis\": {\"backgroundcolor\": \"#E5ECF6\", \"gridcolor\": \"white\", \"gridwidth\": 2, \"linecolor\": \"white\", \"showbackground\": true, \"ticks\": \"\", \"zerolinecolor\": \"white\"}, \"zaxis\": {\"backgroundcolor\": \"#E5ECF6\", \"gridcolor\": \"white\", \"gridwidth\": 2, \"linecolor\": \"white\", \"showbackground\": true, \"ticks\": \"\", \"zerolinecolor\": \"white\"}}, \"shapedefaults\": {\"line\": {\"color\": \"#2a3f5f\"}}, \"ternary\": {\"aaxis\": {\"gridcolor\": \"white\", \"linecolor\": \"white\", \"ticks\": \"\"}, \"baxis\": {\"gridcolor\": \"white\", \"linecolor\": \"white\", \"ticks\": \"\"}, \"bgcolor\": \"#E5ECF6\", \"caxis\": {\"gridcolor\": \"white\", \"linecolor\": \"white\", \"ticks\": \"\"}}, \"title\": {\"x\": 0.05}, \"xaxis\": {\"automargin\": true, \"gridcolor\": \"white\", \"linecolor\": \"white\", \"ticks\": \"\", \"zerolinecolor\": \"white\", \"zerolinewidth\": 2}, \"yaxis\": {\"automargin\": true, \"gridcolor\": \"white\", \"linecolor\": \"white\", \"ticks\": \"\", \"zerolinecolor\": \"white\", \"zerolinewidth\": 2}}}, \"title\": {\"text\": \"UCSD Alumni Employment Localization Distribution\"}},\n",
       "                        {\"responsive\": true}\n",
       "                    ).then(function(){\n",
       "                            \n",
       "var gd = document.getElementById('c02683bc-b2d0-4678-b9c0-077dc06a5661');\n",
       "var x = new MutationObserver(function (mutations, observer) {{\n",
       "        var display = window.getComputedStyle(gd).display;\n",
       "        if (!display || display === 'none') {{\n",
       "            console.log([gd, 'removed!']);\n",
       "            Plotly.purge(gd);\n",
       "            observer.disconnect();\n",
       "        }}\n",
       "}});\n",
       "\n",
       "// Listen for the removal of the full notebook cells\n",
       "var notebookContainer = gd.closest('#notebook-container');\n",
       "if (notebookContainer) {{\n",
       "    x.observe(notebookContainer, {childList: true});\n",
       "}}\n",
       "\n",
       "// Listen for the clearing of the current output cell\n",
       "var outputEl = gd.closest('.output');\n",
       "if (outputEl) {{\n",
       "    x.observe(outputEl, {childList: true});\n",
       "}}\n",
       "\n",
       "                        })\n",
       "                };\n",
       "                });\n",
       "            </script>\n",
       "        </div>"
      ]
     },
     "metadata": {},
     "output_type": "display_data"
    }
   ],
   "source": [
    "import plotly.graph_objects as go\n",
    "import pandas as pd\n",
    "\n",
    "# df = pd.read_csv('2011_us_ag_exports.csv')\n",
    "loc, value = seperate_Loc_Data(location)\n",
    "loc, value = coordinate_Loc_Val(loc, value)\n",
    "line = plotly.graph_objects.choropleth.marker.Line()\n",
    "\n",
    "fig = go.Figure(data=go.Choropleth(\n",
    "    locations=loc, # Spatial coordinates\n",
    "    z = value, # Data to be color-coded\n",
    "    locationmode = 'USA-states', # set of locations match entries in `locations`\n",
    "    marker_line_color = 'black', # display the color of the state boundary\n",
    "    colorscale = 'Reds',\n",
    "    colorbar_title = \"Number of Alumni\",\n",
    "))\n",
    "fig.update_layout(\n",
    "    title_text = 'UCSD Alumni Employment Localization Distribution',\n",
    "    geo_scope='usa', # limite map scope to USA\n",
    ")\n",
    "fig.show()\n"
   ]
  },
  {
   "cell_type": "code",
   "execution_count": 6,
   "metadata": {},
   "outputs": [
    {
     "data": {
      "text/html": [
       "        <script type=\"text/javascript\">\n",
       "        window.PlotlyConfig = {MathJaxConfig: 'local'};\n",
       "        if (window.MathJax) {MathJax.Hub.Config({SVG: {font: \"STIX-Web\"}});}\n",
       "        if (typeof require !== 'undefined') {\n",
       "        require.undef(\"plotly\");\n",
       "        requirejs.config({\n",
       "            paths: {\n",
       "                'plotly': ['https://cdn.plot.ly/plotly-latest.min']\n",
       "            }\n",
       "        });\n",
       "        require(['plotly'], function(Plotly) {\n",
       "            window._Plotly = Plotly;\n",
       "        });\n",
       "        }\n",
       "        </script>\n",
       "        "
      ]
     },
     "metadata": {},
     "output_type": "display_data"
    },
    {
     "data": {
      "application/vnd.plotly.v1+json": {
       "config": {
        "linkText": "Export to plot.ly",
        "plotlyServerURL": "https://plot.ly",
        "showLink": false
       },
       "data": [
        {
         "hole": 0,
         "hoverinfo": "label+percent",
         "labels": [
          "aligned",
          "not aligned"
         ],
         "type": "pie",
         "values": [
          676,
          176
         ]
        }
       ],
       "layout": {
        "template": {
         "data": {
          "bar": [
           {
            "error_x": {
             "color": "#2a3f5f"
            },
            "error_y": {
             "color": "#2a3f5f"
            },
            "marker": {
             "line": {
              "color": "#E5ECF6",
              "width": 0.5
             }
            },
            "type": "bar"
           }
          ],
          "barpolar": [
           {
            "marker": {
             "line": {
              "color": "#E5ECF6",
              "width": 0.5
             }
            },
            "type": "barpolar"
           }
          ],
          "carpet": [
           {
            "aaxis": {
             "endlinecolor": "#2a3f5f",
             "gridcolor": "white",
             "linecolor": "white",
             "minorgridcolor": "white",
             "startlinecolor": "#2a3f5f"
            },
            "baxis": {
             "endlinecolor": "#2a3f5f",
             "gridcolor": "white",
             "linecolor": "white",
             "minorgridcolor": "white",
             "startlinecolor": "#2a3f5f"
            },
            "type": "carpet"
           }
          ],
          "choropleth": [
           {
            "colorbar": {
             "outlinewidth": 0,
             "ticks": ""
            },
            "type": "choropleth"
           }
          ],
          "contour": [
           {
            "colorbar": {
             "outlinewidth": 0,
             "ticks": ""
            },
            "colorscale": [
             [
              0,
              "#0d0887"
             ],
             [
              0.1111111111111111,
              "#46039f"
             ],
             [
              0.2222222222222222,
              "#7201a8"
             ],
             [
              0.3333333333333333,
              "#9c179e"
             ],
             [
              0.4444444444444444,
              "#bd3786"
             ],
             [
              0.5555555555555556,
              "#d8576b"
             ],
             [
              0.6666666666666666,
              "#ed7953"
             ],
             [
              0.7777777777777778,
              "#fb9f3a"
             ],
             [
              0.8888888888888888,
              "#fdca26"
             ],
             [
              1,
              "#f0f921"
             ]
            ],
            "type": "contour"
           }
          ],
          "contourcarpet": [
           {
            "colorbar": {
             "outlinewidth": 0,
             "ticks": ""
            },
            "type": "contourcarpet"
           }
          ],
          "heatmap": [
           {
            "colorbar": {
             "outlinewidth": 0,
             "ticks": ""
            },
            "colorscale": [
             [
              0,
              "#0d0887"
             ],
             [
              0.1111111111111111,
              "#46039f"
             ],
             [
              0.2222222222222222,
              "#7201a8"
             ],
             [
              0.3333333333333333,
              "#9c179e"
             ],
             [
              0.4444444444444444,
              "#bd3786"
             ],
             [
              0.5555555555555556,
              "#d8576b"
             ],
             [
              0.6666666666666666,
              "#ed7953"
             ],
             [
              0.7777777777777778,
              "#fb9f3a"
             ],
             [
              0.8888888888888888,
              "#fdca26"
             ],
             [
              1,
              "#f0f921"
             ]
            ],
            "type": "heatmap"
           }
          ],
          "heatmapgl": [
           {
            "colorbar": {
             "outlinewidth": 0,
             "ticks": ""
            },
            "colorscale": [
             [
              0,
              "#0d0887"
             ],
             [
              0.1111111111111111,
              "#46039f"
             ],
             [
              0.2222222222222222,
              "#7201a8"
             ],
             [
              0.3333333333333333,
              "#9c179e"
             ],
             [
              0.4444444444444444,
              "#bd3786"
             ],
             [
              0.5555555555555556,
              "#d8576b"
             ],
             [
              0.6666666666666666,
              "#ed7953"
             ],
             [
              0.7777777777777778,
              "#fb9f3a"
             ],
             [
              0.8888888888888888,
              "#fdca26"
             ],
             [
              1,
              "#f0f921"
             ]
            ],
            "type": "heatmapgl"
           }
          ],
          "histogram": [
           {
            "marker": {
             "colorbar": {
              "outlinewidth": 0,
              "ticks": ""
             }
            },
            "type": "histogram"
           }
          ],
          "histogram2d": [
           {
            "colorbar": {
             "outlinewidth": 0,
             "ticks": ""
            },
            "colorscale": [
             [
              0,
              "#0d0887"
             ],
             [
              0.1111111111111111,
              "#46039f"
             ],
             [
              0.2222222222222222,
              "#7201a8"
             ],
             [
              0.3333333333333333,
              "#9c179e"
             ],
             [
              0.4444444444444444,
              "#bd3786"
             ],
             [
              0.5555555555555556,
              "#d8576b"
             ],
             [
              0.6666666666666666,
              "#ed7953"
             ],
             [
              0.7777777777777778,
              "#fb9f3a"
             ],
             [
              0.8888888888888888,
              "#fdca26"
             ],
             [
              1,
              "#f0f921"
             ]
            ],
            "type": "histogram2d"
           }
          ],
          "histogram2dcontour": [
           {
            "colorbar": {
             "outlinewidth": 0,
             "ticks": ""
            },
            "colorscale": [
             [
              0,
              "#0d0887"
             ],
             [
              0.1111111111111111,
              "#46039f"
             ],
             [
              0.2222222222222222,
              "#7201a8"
             ],
             [
              0.3333333333333333,
              "#9c179e"
             ],
             [
              0.4444444444444444,
              "#bd3786"
             ],
             [
              0.5555555555555556,
              "#d8576b"
             ],
             [
              0.6666666666666666,
              "#ed7953"
             ],
             [
              0.7777777777777778,
              "#fb9f3a"
             ],
             [
              0.8888888888888888,
              "#fdca26"
             ],
             [
              1,
              "#f0f921"
             ]
            ],
            "type": "histogram2dcontour"
           }
          ],
          "mesh3d": [
           {
            "colorbar": {
             "outlinewidth": 0,
             "ticks": ""
            },
            "type": "mesh3d"
           }
          ],
          "parcoords": [
           {
            "line": {
             "colorbar": {
              "outlinewidth": 0,
              "ticks": ""
             }
            },
            "type": "parcoords"
           }
          ],
          "scatter": [
           {
            "marker": {
             "colorbar": {
              "outlinewidth": 0,
              "ticks": ""
             }
            },
            "type": "scatter"
           }
          ],
          "scatter3d": [
           {
            "line": {
             "colorbar": {
              "outlinewidth": 0,
              "ticks": ""
             }
            },
            "marker": {
             "colorbar": {
              "outlinewidth": 0,
              "ticks": ""
             }
            },
            "type": "scatter3d"
           }
          ],
          "scattercarpet": [
           {
            "marker": {
             "colorbar": {
              "outlinewidth": 0,
              "ticks": ""
             }
            },
            "type": "scattercarpet"
           }
          ],
          "scattergeo": [
           {
            "marker": {
             "colorbar": {
              "outlinewidth": 0,
              "ticks": ""
             }
            },
            "type": "scattergeo"
           }
          ],
          "scattergl": [
           {
            "marker": {
             "colorbar": {
              "outlinewidth": 0,
              "ticks": ""
             }
            },
            "type": "scattergl"
           }
          ],
          "scattermapbox": [
           {
            "marker": {
             "colorbar": {
              "outlinewidth": 0,
              "ticks": ""
             }
            },
            "type": "scattermapbox"
           }
          ],
          "scatterpolar": [
           {
            "marker": {
             "colorbar": {
              "outlinewidth": 0,
              "ticks": ""
             }
            },
            "type": "scatterpolar"
           }
          ],
          "scatterpolargl": [
           {
            "marker": {
             "colorbar": {
              "outlinewidth": 0,
              "ticks": ""
             }
            },
            "type": "scatterpolargl"
           }
          ],
          "scatterternary": [
           {
            "marker": {
             "colorbar": {
              "outlinewidth": 0,
              "ticks": ""
             }
            },
            "type": "scatterternary"
           }
          ],
          "surface": [
           {
            "colorbar": {
             "outlinewidth": 0,
             "ticks": ""
            },
            "colorscale": [
             [
              0,
              "#0d0887"
             ],
             [
              0.1111111111111111,
              "#46039f"
             ],
             [
              0.2222222222222222,
              "#7201a8"
             ],
             [
              0.3333333333333333,
              "#9c179e"
             ],
             [
              0.4444444444444444,
              "#bd3786"
             ],
             [
              0.5555555555555556,
              "#d8576b"
             ],
             [
              0.6666666666666666,
              "#ed7953"
             ],
             [
              0.7777777777777778,
              "#fb9f3a"
             ],
             [
              0.8888888888888888,
              "#fdca26"
             ],
             [
              1,
              "#f0f921"
             ]
            ],
            "type": "surface"
           }
          ],
          "table": [
           {
            "cells": {
             "fill": {
              "color": "#EBF0F8"
             },
             "line": {
              "color": "white"
             }
            },
            "header": {
             "fill": {
              "color": "#C8D4E3"
             },
             "line": {
              "color": "white"
             }
            },
            "type": "table"
           }
          ]
         },
         "layout": {
          "annotationdefaults": {
           "arrowcolor": "#2a3f5f",
           "arrowhead": 0,
           "arrowwidth": 1
          },
          "colorscale": {
           "diverging": [
            [
             0,
             "#8e0152"
            ],
            [
             0.1,
             "#c51b7d"
            ],
            [
             0.2,
             "#de77ae"
            ],
            [
             0.3,
             "#f1b6da"
            ],
            [
             0.4,
             "#fde0ef"
            ],
            [
             0.5,
             "#f7f7f7"
            ],
            [
             0.6,
             "#e6f5d0"
            ],
            [
             0.7,
             "#b8e186"
            ],
            [
             0.8,
             "#7fbc41"
            ],
            [
             0.9,
             "#4d9221"
            ],
            [
             1,
             "#276419"
            ]
           ],
           "sequential": [
            [
             0,
             "#0d0887"
            ],
            [
             0.1111111111111111,
             "#46039f"
            ],
            [
             0.2222222222222222,
             "#7201a8"
            ],
            [
             0.3333333333333333,
             "#9c179e"
            ],
            [
             0.4444444444444444,
             "#bd3786"
            ],
            [
             0.5555555555555556,
             "#d8576b"
            ],
            [
             0.6666666666666666,
             "#ed7953"
            ],
            [
             0.7777777777777778,
             "#fb9f3a"
            ],
            [
             0.8888888888888888,
             "#fdca26"
            ],
            [
             1,
             "#f0f921"
            ]
           ],
           "sequentialminus": [
            [
             0,
             "#0d0887"
            ],
            [
             0.1111111111111111,
             "#46039f"
            ],
            [
             0.2222222222222222,
             "#7201a8"
            ],
            [
             0.3333333333333333,
             "#9c179e"
            ],
            [
             0.4444444444444444,
             "#bd3786"
            ],
            [
             0.5555555555555556,
             "#d8576b"
            ],
            [
             0.6666666666666666,
             "#ed7953"
            ],
            [
             0.7777777777777778,
             "#fb9f3a"
            ],
            [
             0.8888888888888888,
             "#fdca26"
            ],
            [
             1,
             "#f0f921"
            ]
           ]
          },
          "colorway": [
           "#636efa",
           "#EF553B",
           "#00cc96",
           "#ab63fa",
           "#FFA15A",
           "#19d3f3",
           "#FF6692",
           "#B6E880",
           "#FF97FF",
           "#FECB52"
          ],
          "font": {
           "color": "#2a3f5f"
          },
          "geo": {
           "bgcolor": "white",
           "lakecolor": "white",
           "landcolor": "#E5ECF6",
           "showlakes": true,
           "showland": true,
           "subunitcolor": "white"
          },
          "hoverlabel": {
           "align": "left"
          },
          "hovermode": "closest",
          "mapbox": {
           "style": "light"
          },
          "paper_bgcolor": "white",
          "plot_bgcolor": "#E5ECF6",
          "polar": {
           "angularaxis": {
            "gridcolor": "white",
            "linecolor": "white",
            "ticks": ""
           },
           "bgcolor": "#E5ECF6",
           "radialaxis": {
            "gridcolor": "white",
            "linecolor": "white",
            "ticks": ""
           }
          },
          "scene": {
           "xaxis": {
            "backgroundcolor": "#E5ECF6",
            "gridcolor": "white",
            "gridwidth": 2,
            "linecolor": "white",
            "showbackground": true,
            "ticks": "",
            "zerolinecolor": "white"
           },
           "yaxis": {
            "backgroundcolor": "#E5ECF6",
            "gridcolor": "white",
            "gridwidth": 2,
            "linecolor": "white",
            "showbackground": true,
            "ticks": "",
            "zerolinecolor": "white"
           },
           "zaxis": {
            "backgroundcolor": "#E5ECF6",
            "gridcolor": "white",
            "gridwidth": 2,
            "linecolor": "white",
            "showbackground": true,
            "ticks": "",
            "zerolinecolor": "white"
           }
          },
          "shapedefaults": {
           "line": {
            "color": "#2a3f5f"
           }
          },
          "ternary": {
           "aaxis": {
            "gridcolor": "white",
            "linecolor": "white",
            "ticks": ""
           },
           "baxis": {
            "gridcolor": "white",
            "linecolor": "white",
            "ticks": ""
           },
           "bgcolor": "#E5ECF6",
           "caxis": {
            "gridcolor": "white",
            "linecolor": "white",
            "ticks": ""
           }
          },
          "title": {
           "x": 0.05
          },
          "xaxis": {
           "automargin": true,
           "gridcolor": "white",
           "linecolor": "white",
           "ticks": "",
           "zerolinecolor": "white",
           "zerolinewidth": 2
          },
          "yaxis": {
           "automargin": true,
           "gridcolor": "white",
           "linecolor": "white",
           "ticks": "",
           "zerolinecolor": "white",
           "zerolinewidth": 2
          }
         }
        },
        "title": {
         "font": {
          "color": "rgb(255, 128, 0)",
          "size": 30
         },
         "text": "Percentage that UCSD Alumni's jobs aligned with their major"
        }
       }
      },
      "text/html": [
       "<div>\n",
       "        \n",
       "        \n",
       "            <div id=\"8cc15c31-c408-4aaf-8513-4636d5bf53ac\" class=\"plotly-graph-div\" style=\"height:525px; width:100%;\"></div>\n",
       "            <script type=\"text/javascript\">\n",
       "                require([\"plotly\"], function(Plotly) {\n",
       "                    window.PLOTLYENV=window.PLOTLYENV || {};\n",
       "                    \n",
       "                if (document.getElementById(\"8cc15c31-c408-4aaf-8513-4636d5bf53ac\")) {\n",
       "                    Plotly.newPlot(\n",
       "                        '8cc15c31-c408-4aaf-8513-4636d5bf53ac',\n",
       "                        [{\"hole\": 0, \"hoverinfo\": \"label+percent\", \"labels\": [\"aligned\", \"not aligned\"], \"type\": \"pie\", \"values\": [676, 176]}],\n",
       "                        {\"template\": {\"data\": {\"bar\": [{\"error_x\": {\"color\": \"#2a3f5f\"}, \"error_y\": {\"color\": \"#2a3f5f\"}, \"marker\": {\"line\": {\"color\": \"#E5ECF6\", \"width\": 0.5}}, \"type\": \"bar\"}], \"barpolar\": [{\"marker\": {\"line\": {\"color\": \"#E5ECF6\", \"width\": 0.5}}, \"type\": \"barpolar\"}], \"carpet\": [{\"aaxis\": {\"endlinecolor\": \"#2a3f5f\", \"gridcolor\": \"white\", \"linecolor\": \"white\", \"minorgridcolor\": \"white\", \"startlinecolor\": \"#2a3f5f\"}, \"baxis\": {\"endlinecolor\": \"#2a3f5f\", \"gridcolor\": \"white\", \"linecolor\": \"white\", \"minorgridcolor\": \"white\", \"startlinecolor\": \"#2a3f5f\"}, \"type\": \"carpet\"}], \"choropleth\": [{\"colorbar\": {\"outlinewidth\": 0, \"ticks\": \"\"}, \"type\": \"choropleth\"}], \"contour\": [{\"colorbar\": {\"outlinewidth\": 0, \"ticks\": \"\"}, \"colorscale\": [[0.0, \"#0d0887\"], [0.1111111111111111, \"#46039f\"], [0.2222222222222222, \"#7201a8\"], [0.3333333333333333, \"#9c179e\"], [0.4444444444444444, \"#bd3786\"], [0.5555555555555556, \"#d8576b\"], [0.6666666666666666, \"#ed7953\"], [0.7777777777777778, \"#fb9f3a\"], [0.8888888888888888, \"#fdca26\"], [1.0, \"#f0f921\"]], \"type\": \"contour\"}], \"contourcarpet\": [{\"colorbar\": {\"outlinewidth\": 0, \"ticks\": \"\"}, \"type\": \"contourcarpet\"}], \"heatmap\": [{\"colorbar\": {\"outlinewidth\": 0, \"ticks\": \"\"}, \"colorscale\": [[0.0, \"#0d0887\"], [0.1111111111111111, \"#46039f\"], [0.2222222222222222, \"#7201a8\"], [0.3333333333333333, \"#9c179e\"], [0.4444444444444444, \"#bd3786\"], [0.5555555555555556, \"#d8576b\"], [0.6666666666666666, \"#ed7953\"], [0.7777777777777778, \"#fb9f3a\"], [0.8888888888888888, \"#fdca26\"], [1.0, \"#f0f921\"]], \"type\": \"heatmap\"}], \"heatmapgl\": [{\"colorbar\": {\"outlinewidth\": 0, \"ticks\": \"\"}, \"colorscale\": [[0.0, \"#0d0887\"], [0.1111111111111111, \"#46039f\"], [0.2222222222222222, \"#7201a8\"], [0.3333333333333333, \"#9c179e\"], [0.4444444444444444, \"#bd3786\"], [0.5555555555555556, \"#d8576b\"], [0.6666666666666666, \"#ed7953\"], [0.7777777777777778, \"#fb9f3a\"], [0.8888888888888888, \"#fdca26\"], [1.0, \"#f0f921\"]], \"type\": \"heatmapgl\"}], \"histogram\": [{\"marker\": {\"colorbar\": {\"outlinewidth\": 0, \"ticks\": \"\"}}, \"type\": \"histogram\"}], \"histogram2d\": [{\"colorbar\": {\"outlinewidth\": 0, \"ticks\": \"\"}, \"colorscale\": [[0.0, \"#0d0887\"], [0.1111111111111111, \"#46039f\"], [0.2222222222222222, \"#7201a8\"], [0.3333333333333333, \"#9c179e\"], [0.4444444444444444, \"#bd3786\"], [0.5555555555555556, \"#d8576b\"], [0.6666666666666666, \"#ed7953\"], [0.7777777777777778, \"#fb9f3a\"], [0.8888888888888888, \"#fdca26\"], [1.0, \"#f0f921\"]], \"type\": \"histogram2d\"}], \"histogram2dcontour\": [{\"colorbar\": {\"outlinewidth\": 0, \"ticks\": \"\"}, \"colorscale\": [[0.0, \"#0d0887\"], [0.1111111111111111, \"#46039f\"], [0.2222222222222222, \"#7201a8\"], [0.3333333333333333, \"#9c179e\"], [0.4444444444444444, \"#bd3786\"], [0.5555555555555556, \"#d8576b\"], [0.6666666666666666, \"#ed7953\"], [0.7777777777777778, \"#fb9f3a\"], [0.8888888888888888, \"#fdca26\"], [1.0, \"#f0f921\"]], \"type\": \"histogram2dcontour\"}], \"mesh3d\": [{\"colorbar\": {\"outlinewidth\": 0, \"ticks\": \"\"}, \"type\": \"mesh3d\"}], \"parcoords\": [{\"line\": {\"colorbar\": {\"outlinewidth\": 0, \"ticks\": \"\"}}, \"type\": \"parcoords\"}], \"scatter\": [{\"marker\": {\"colorbar\": {\"outlinewidth\": 0, \"ticks\": \"\"}}, \"type\": \"scatter\"}], \"scatter3d\": [{\"line\": {\"colorbar\": {\"outlinewidth\": 0, \"ticks\": \"\"}}, \"marker\": {\"colorbar\": {\"outlinewidth\": 0, \"ticks\": \"\"}}, \"type\": \"scatter3d\"}], \"scattercarpet\": [{\"marker\": {\"colorbar\": {\"outlinewidth\": 0, \"ticks\": \"\"}}, \"type\": \"scattercarpet\"}], \"scattergeo\": [{\"marker\": {\"colorbar\": {\"outlinewidth\": 0, \"ticks\": \"\"}}, \"type\": \"scattergeo\"}], \"scattergl\": [{\"marker\": {\"colorbar\": {\"outlinewidth\": 0, \"ticks\": \"\"}}, \"type\": \"scattergl\"}], \"scattermapbox\": [{\"marker\": {\"colorbar\": {\"outlinewidth\": 0, \"ticks\": \"\"}}, \"type\": \"scattermapbox\"}], \"scatterpolar\": [{\"marker\": {\"colorbar\": {\"outlinewidth\": 0, \"ticks\": \"\"}}, \"type\": \"scatterpolar\"}], \"scatterpolargl\": [{\"marker\": {\"colorbar\": {\"outlinewidth\": 0, \"ticks\": \"\"}}, \"type\": \"scatterpolargl\"}], \"scatterternary\": [{\"marker\": {\"colorbar\": {\"outlinewidth\": 0, \"ticks\": \"\"}}, \"type\": \"scatterternary\"}], \"surface\": [{\"colorbar\": {\"outlinewidth\": 0, \"ticks\": \"\"}, \"colorscale\": [[0.0, \"#0d0887\"], [0.1111111111111111, \"#46039f\"], [0.2222222222222222, \"#7201a8\"], [0.3333333333333333, \"#9c179e\"], [0.4444444444444444, \"#bd3786\"], [0.5555555555555556, \"#d8576b\"], [0.6666666666666666, \"#ed7953\"], [0.7777777777777778, \"#fb9f3a\"], [0.8888888888888888, \"#fdca26\"], [1.0, \"#f0f921\"]], \"type\": \"surface\"}], \"table\": [{\"cells\": {\"fill\": {\"color\": \"#EBF0F8\"}, \"line\": {\"color\": \"white\"}}, \"header\": {\"fill\": {\"color\": \"#C8D4E3\"}, \"line\": {\"color\": \"white\"}}, \"type\": \"table\"}]}, \"layout\": {\"annotationdefaults\": {\"arrowcolor\": \"#2a3f5f\", \"arrowhead\": 0, \"arrowwidth\": 1}, \"colorscale\": {\"diverging\": [[0, \"#8e0152\"], [0.1, \"#c51b7d\"], [0.2, \"#de77ae\"], [0.3, \"#f1b6da\"], [0.4, \"#fde0ef\"], [0.5, \"#f7f7f7\"], [0.6, \"#e6f5d0\"], [0.7, \"#b8e186\"], [0.8, \"#7fbc41\"], [0.9, \"#4d9221\"], [1, \"#276419\"]], \"sequential\": [[0.0, \"#0d0887\"], [0.1111111111111111, \"#46039f\"], [0.2222222222222222, \"#7201a8\"], [0.3333333333333333, \"#9c179e\"], [0.4444444444444444, \"#bd3786\"], [0.5555555555555556, \"#d8576b\"], [0.6666666666666666, \"#ed7953\"], [0.7777777777777778, \"#fb9f3a\"], [0.8888888888888888, \"#fdca26\"], [1.0, \"#f0f921\"]], \"sequentialminus\": [[0.0, \"#0d0887\"], [0.1111111111111111, \"#46039f\"], [0.2222222222222222, \"#7201a8\"], [0.3333333333333333, \"#9c179e\"], [0.4444444444444444, \"#bd3786\"], [0.5555555555555556, \"#d8576b\"], [0.6666666666666666, \"#ed7953\"], [0.7777777777777778, \"#fb9f3a\"], [0.8888888888888888, \"#fdca26\"], [1.0, \"#f0f921\"]]}, \"colorway\": [\"#636efa\", \"#EF553B\", \"#00cc96\", \"#ab63fa\", \"#FFA15A\", \"#19d3f3\", \"#FF6692\", \"#B6E880\", \"#FF97FF\", \"#FECB52\"], \"font\": {\"color\": \"#2a3f5f\"}, \"geo\": {\"bgcolor\": \"white\", \"lakecolor\": \"white\", \"landcolor\": \"#E5ECF6\", \"showlakes\": true, \"showland\": true, \"subunitcolor\": \"white\"}, \"hoverlabel\": {\"align\": \"left\"}, \"hovermode\": \"closest\", \"mapbox\": {\"style\": \"light\"}, \"paper_bgcolor\": \"white\", \"plot_bgcolor\": \"#E5ECF6\", \"polar\": {\"angularaxis\": {\"gridcolor\": \"white\", \"linecolor\": \"white\", \"ticks\": \"\"}, \"bgcolor\": \"#E5ECF6\", \"radialaxis\": {\"gridcolor\": \"white\", \"linecolor\": \"white\", \"ticks\": \"\"}}, \"scene\": {\"xaxis\": {\"backgroundcolor\": \"#E5ECF6\", \"gridcolor\": \"white\", \"gridwidth\": 2, \"linecolor\": \"white\", \"showbackground\": true, \"ticks\": \"\", \"zerolinecolor\": \"white\"}, \"yaxis\": {\"backgroundcolor\": \"#E5ECF6\", \"gridcolor\": \"white\", \"gridwidth\": 2, \"linecolor\": \"white\", \"showbackground\": true, \"ticks\": \"\", \"zerolinecolor\": \"white\"}, \"zaxis\": {\"backgroundcolor\": \"#E5ECF6\", \"gridcolor\": \"white\", \"gridwidth\": 2, \"linecolor\": \"white\", \"showbackground\": true, \"ticks\": \"\", \"zerolinecolor\": \"white\"}}, \"shapedefaults\": {\"line\": {\"color\": \"#2a3f5f\"}}, \"ternary\": {\"aaxis\": {\"gridcolor\": \"white\", \"linecolor\": \"white\", \"ticks\": \"\"}, \"baxis\": {\"gridcolor\": \"white\", \"linecolor\": \"white\", \"ticks\": \"\"}, \"bgcolor\": \"#E5ECF6\", \"caxis\": {\"gridcolor\": \"white\", \"linecolor\": \"white\", \"ticks\": \"\"}}, \"title\": {\"x\": 0.05}, \"xaxis\": {\"automargin\": true, \"gridcolor\": \"white\", \"linecolor\": \"white\", \"ticks\": \"\", \"zerolinecolor\": \"white\", \"zerolinewidth\": 2}, \"yaxis\": {\"automargin\": true, \"gridcolor\": \"white\", \"linecolor\": \"white\", \"ticks\": \"\", \"zerolinecolor\": \"white\", \"zerolinewidth\": 2}}}, \"title\": {\"font\": {\"color\": \"rgb(255, 128, 0)\", \"size\": 30}, \"text\": \"Percentage that UCSD Alumni's jobs aligned with their major\"}},\n",
       "                        {\"responsive\": true}\n",
       "                    ).then(function(){\n",
       "                            \n",
       "var gd = document.getElementById('8cc15c31-c408-4aaf-8513-4636d5bf53ac');\n",
       "var x = new MutationObserver(function (mutations, observer) {{\n",
       "        var display = window.getComputedStyle(gd).display;\n",
       "        if (!display || display === 'none') {{\n",
       "            console.log([gd, 'removed!']);\n",
       "            Plotly.purge(gd);\n",
       "            observer.disconnect();\n",
       "        }}\n",
       "}});\n",
       "\n",
       "// Listen for the removal of the full notebook cells\n",
       "var notebookContainer = gd.closest('#notebook-container');\n",
       "if (notebookContainer) {{\n",
       "    x.observe(notebookContainer, {childList: true});\n",
       "}}\n",
       "\n",
       "// Listen for the clearing of the current output cell\n",
       "var outputEl = gd.closest('.output');\n",
       "if (outputEl) {{\n",
       "    x.observe(outputEl, {childList: true});\n",
       "}}\n",
       "\n",
       "                        })\n",
       "                };\n",
       "                });\n",
       "            </script>\n",
       "        </div>"
      ]
     },
     "metadata": {},
     "output_type": "display_data"
    }
   ],
   "source": [
    "import matplotlib.pyplot as plt\n",
    "\n",
    "# Data to plot\n",
    "labels = 'aligned', 'not aligned'\n",
    "sizes = [align, numpeople - align]\n",
    "colors = ['gold', 'lightskyblue']\n",
    "explode = (0.1, 0)  # explode 1st slice\n",
    "\n",
    "# plt.axis('equal')\n",
    "label = ['aligned', 'not aligned']\n",
    "of.offline.init_notebook_mode(connected=True)\n",
    "trace = [go.Pie(\n",
    "        labels = label, \n",
    "        values = sizes, \n",
    "        hole =  0,                          # Modify the radius of the hole, higher means larger hole\n",
    "        hoverinfo = \"label + percent\")]\n",
    "layout = go.Layout(title =\"Percentage that UCSD Alumni's jobs aligned with their major\", titlefont=dict(color='rgb(255, 128, 0)',size=30))\n",
    "data = [trace]\n",
    "fig = go.Figure(data = trace, layout = layout)\n",
    "of.iplot(fig)\n"
   ]
  },
  {
   "cell_type": "code",
   "execution_count": 11,
   "metadata": {},
   "outputs": [
    {
     "data": {
      "image/png": "[encoded data removed]",
      "text/plain": [
       "<Figure size 576x576 with 1 Axes>"
      ]
     },
     "metadata": {
      "needs_background": "light"
     },
     "output_type": "display_data"
    }
   ],
   "source": [
    "from wordcloud import WordCloud\n",
    "import matplotlib.pyplot as plt\n",
    "\n",
    "%matplotlib inline\n",
    "#\n",
    "# this block was used to create word cloud plot\n",
    "#\n",
    "#\n",
    "wc = WordCloud(width = 800, height = 400,background_color ='white').generate_from_frequencies(field_of_study)\n",
    "plt.figure(figsize = (8, 8), facecolor = None)\n",
    "plt.imshow(wc, interpolation='bilinear') \n",
    "plt.axis(\"off\")\n",
    "plt.tight_layout(pad = 0)"
   ]
  },
  {
   "cell_type": "markdown",
   "metadata": {},
   "source": [
    "### Draw the Line Chart for UCSD incoming student location"
   ]
  },
  {
   "cell_type": "code",
   "execution_count": 39,
   "metadata": {},
   "outputs": [
    {
     "data": {
      "application/vnd.plotly.v1+json": {
       "config": {
        "plotlyServerURL": "https://plot.ly"
       },
       "data": [
        {
         "line": {
          "color": "red",
          "width": 2
         },
         "mode": "lines+markers",
         "name": "Los Angeles",
         "type": "scatter",
         "x": [
          2011,
          2012,
          2013,
          2014,
          2015,
          2016
         ],
         "y": [
          0.41,
          0.37,
          0.38,
          0.37,
          0.32,
          0.36
         ]
        },
        {
         "line": {
          "color": "orange",
          "width": 2
         },
         "mode": "lines+markers",
         "name": "San Diego",
         "type": "scatter",
         "x": [
          2011,
          2012,
          2013,
          2014,
          2015,
          2016
         ],
         "y": [
          0.14,
          0.11,
          0.13,
          0.13,
          0.12,
          0.14
         ]
        },
        {
         "mode": "lines+markers",
         "name": "San Francisco",
         "type": "scatter",
         "x": [
          2011,
          2012,
          2013,
          2014,
          2015,
          2016
         ],
         "y": [
          0.18,
          0.19,
          0.16,
          0.16,
          0.16,
          0.14
         ]
        },
        {
         "line": {
          "color": "royalblue",
          "dash": "dot",
          "width": 6
         },
         "mode": "lines+markers",
         "name": "International",
         "type": "scatter",
         "x": [
          2011,
          2012,
          2013,
          2014,
          2015,
          2016
         ],
         "y": [
          0.11,
          0.15,
          0.16,
          0.21,
          0.24,
          0.22
         ]
        }
       ],
       "layout": {
        "template": {
         "data": {
          "bar": [
           {
            "error_x": {
             "color": "#2a3f5f"
            },
            "error_y": {
             "color": "#2a3f5f"
            },
            "marker": {
             "line": {
              "color": "#E5ECF6",
              "width": 0.5
             }
            },
            "type": "bar"
           }
          ],
          "barpolar": [
           {
            "marker": {
             "line": {
              "color": "#E5ECF6",
              "width": 0.5
             }
            },
            "type": "barpolar"
           }
          ],
          "carpet": [
           {
            "aaxis": {
             "endlinecolor": "#2a3f5f",
             "gridcolor": "white",
             "linecolor": "white",
             "minorgridcolor": "white",
             "startlinecolor": "#2a3f5f"
            },
            "baxis": {
             "endlinecolor": "#2a3f5f",
             "gridcolor": "white",
             "linecolor": "white",
             "minorgridcolor": "white",
             "startlinecolor": "#2a3f5f"
            },
            "type": "carpet"
           }
          ],
          "choropleth": [
           {
            "colorbar": {
             "outlinewidth": 0,
             "ticks": ""
            },
            "type": "choropleth"
           }
          ],
          "contour": [
           {
            "colorbar": {
             "outlinewidth": 0,
             "ticks": ""
            },
            "colorscale": [
             [
              0,
              "#0d0887"
             ],
             [
              0.1111111111111111,
              "#46039f"
             ],
             [
              0.2222222222222222,
              "#7201a8"
             ],
             [
              0.3333333333333333,
              "#9c179e"
             ],
             [
              0.4444444444444444,
              "#bd3786"
             ],
             [
              0.5555555555555556,
              "#d8576b"
             ],
             [
              0.6666666666666666,
              "#ed7953"
             ],
             [
              0.7777777777777778,
              "#fb9f3a"
             ],
             [
              0.8888888888888888,
              "#fdca26"
             ],
             [
              1,
              "#f0f921"
             ]
            ],
            "type": "contour"
           }
          ],
          "contourcarpet": [
           {
            "colorbar": {
             "outlinewidth": 0,
             "ticks": ""
            },
            "type": "contourcarpet"
           }
          ],
          "heatmap": [
           {
            "colorbar": {
             "outlinewidth": 0,
             "ticks": ""
            },
            "colorscale": [
             [
              0,
              "#0d0887"
             ],
             [
              0.1111111111111111,
              "#46039f"
             ],
             [
              0.2222222222222222,
              "#7201a8"
             ],
             [
              0.3333333333333333,
              "#9c179e"
             ],
             [
              0.4444444444444444,
              "#bd3786"
             ],
             [
              0.5555555555555556,
              "#d8576b"
             ],
             [
              0.6666666666666666,
              "#ed7953"
             ],
             [
              0.7777777777777778,
              "#fb9f3a"
             ],
             [
              0.8888888888888888,
              "#fdca26"
             ],
             [
              1,
              "#f0f921"
             ]
            ],
            "type": "heatmap"
           }
          ],
          "heatmapgl": [
           {
            "colorbar": {
             "outlinewidth": 0,
             "ticks": ""
            },
            "colorscale": [
             [
              0,
              "#0d0887"
             ],
             [
              0.1111111111111111,
              "#46039f"
             ],
             [
              0.2222222222222222,
              "#7201a8"
             ],
             [
              0.3333333333333333,
              "#9c179e"
             ],
             [
              0.4444444444444444,
              "#bd3786"
             ],
             [
              0.5555555555555556,
              "#d8576b"
             ],
             [
              0.6666666666666666,
              "#ed7953"
             ],
             [
              0.7777777777777778,
              "#fb9f3a"
             ],
             [
              0.8888888888888888,
              "#fdca26"
             ],
             [
              1,
              "#f0f921"
             ]
            ],
            "type": "heatmapgl"
           }
          ],
          "histogram": [
           {
            "marker": {
             "colorbar": {
              "outlinewidth": 0,
              "ticks": ""
             }
            },
            "type": "histogram"
           }
          ],
          "histogram2d": [
           {
            "colorbar": {
             "outlinewidth": 0,
             "ticks": ""
            },
            "colorscale": [
             [
              0,
              "#0d0887"
             ],
             [
              0.1111111111111111,
              "#46039f"
             ],
             [
              0.2222222222222222,
              "#7201a8"
             ],
             [
              0.3333333333333333,
              "#9c179e"
             ],
             [
              0.4444444444444444,
              "#bd3786"
             ],
             [
              0.5555555555555556,
              "#d8576b"
             ],
             [
              0.6666666666666666,
              "#ed7953"
             ],
             [
              0.7777777777777778,
              "#fb9f3a"
             ],
             [
              0.8888888888888888,
              "#fdca26"
             ],
             [
              1,
              "#f0f921"
             ]
            ],
            "type": "histogram2d"
           }
          ],
          "histogram2dcontour": [
           {
            "colorbar": {
             "outlinewidth": 0,
             "ticks": ""
            },
            "colorscale": [
             [
              0,
              "#0d0887"
             ],
             [
              0.1111111111111111,
              "#46039f"
             ],
             [
              0.2222222222222222,
              "#7201a8"
             ],
             [
              0.3333333333333333,
              "#9c179e"
             ],
             [
              0.4444444444444444,
              "#bd3786"
             ],
             [
              0.5555555555555556,
              "#d8576b"
             ],
             [
              0.6666666666666666,
              "#ed7953"
             ],
             [
              0.7777777777777778,
              "#fb9f3a"
             ],
             [
              0.8888888888888888,
              "#fdca26"
             ],
             [
              1,
              "#f0f921"
             ]
            ],
            "type": "histogram2dcontour"
           }
          ],
          "mesh3d": [
           {
            "colorbar": {
             "outlinewidth": 0,
             "ticks": ""
            },
            "type": "mesh3d"
           }
          ],
          "parcoords": [
           {
            "line": {
             "colorbar": {
              "outlinewidth": 0,
              "ticks": ""
             }
            },
            "type": "parcoords"
           }
          ],
          "scatter": [
           {
            "marker": {
             "colorbar": {
              "outlinewidth": 0,
              "ticks": ""
             }
            },
            "type": "scatter"
           }
          ],
          "scatter3d": [
           {
            "line": {
             "colorbar": {
              "outlinewidth": 0,
              "ticks": ""
             }
            },
            "marker": {
             "colorbar": {
              "outlinewidth": 0,
              "ticks": ""
             }
            },
            "type": "scatter3d"
           }
          ],
          "scattercarpet": [
           {
            "marker": {
             "colorbar": {
              "outlinewidth": 0,
              "ticks": ""
             }
            },
            "type": "scattercarpet"
           }
          ],
          "scattergeo": [
           {
            "marker": {
             "colorbar": {
              "outlinewidth": 0,
              "ticks": ""
             }
            },
            "type": "scattergeo"
           }
          ],
          "scattergl": [
           {
            "marker": {
             "colorbar": {
              "outlinewidth": 0,
              "ticks": ""
             }
            },
            "type": "scattergl"
           }
          ],
          "scattermapbox": [
           {
            "marker": {
             "colorbar": {
              "outlinewidth": 0,
              "ticks": ""
             }
            },
            "type": "scattermapbox"
           }
          ],
          "scatterpolar": [
           {
            "marker": {
             "colorbar": {
              "outlinewidth": 0,
              "ticks": ""
             }
            },
            "type": "scatterpolar"
           }
          ],
          "scatterpolargl": [
           {
            "marker": {
             "colorbar": {
              "outlinewidth": 0,
              "ticks": ""
             }
            },
            "type": "scatterpolargl"
           }
          ],
          "scatterternary": [
           {
            "marker": {
             "colorbar": {
              "outlinewidth": 0,
              "ticks": ""
             }
            },
            "type": "scatterternary"
           }
          ],
          "surface": [
           {
            "colorbar": {
             "outlinewidth": 0,
             "ticks": ""
            },
            "colorscale": [
             [
              0,
              "#0d0887"
             ],
             [
              0.1111111111111111,
              "#46039f"
             ],
             [
              0.2222222222222222,
              "#7201a8"
             ],
             [
              0.3333333333333333,
              "#9c179e"
             ],
             [
              0.4444444444444444,
              "#bd3786"
             ],
             [
              0.5555555555555556,
              "#d8576b"
             ],
             [
              0.6666666666666666,
              "#ed7953"
             ],
             [
              0.7777777777777778,
              "#fb9f3a"
             ],
             [
              0.8888888888888888,
              "#fdca26"
             ],
             [
              1,
              "#f0f921"
             ]
            ],
            "type": "surface"
           }
          ],
          "table": [
           {
            "cells": {
             "fill": {
              "color": "#EBF0F8"
             },
             "line": {
              "color": "white"
             }
            },
            "header": {
             "fill": {
              "color": "#C8D4E3"
             },
             "line": {
              "color": "white"
             }
            },
            "type": "table"
           }
          ]
         },
         "layout": {
          "annotationdefaults": {
           "arrowcolor": "#2a3f5f",
           "arrowhead": 0,
           "arrowwidth": 1
          },
          "colorscale": {
           "diverging": [
            [
             0,
             "#8e0152"
            ],
            [
             0.1,
             "#c51b7d"
            ],
            [
             0.2,
             "#de77ae"
            ],
            [
             0.3,
             "#f1b6da"
            ],
            [
             0.4,
             "#fde0ef"
            ],
            [
             0.5,
             "#f7f7f7"
            ],
            [
             0.6,
             "#e6f5d0"
            ],
            [
             0.7,
             "#b8e186"
            ],
            [
             0.8,
             "#7fbc41"
            ],
            [
             0.9,
             "#4d9221"
            ],
            [
             1,
             "#276419"
            ]
           ],
           "sequential": [
            [
             0,
             "#0d0887"
            ],
            [
             0.1111111111111111,
             "#46039f"
            ],
            [
             0.2222222222222222,
             "#7201a8"
            ],
            [
             0.3333333333333333,
             "#9c179e"
            ],
            [
             0.4444444444444444,
             "#bd3786"
            ],
            [
             0.5555555555555556,
             "#d8576b"
            ],
            [
             0.6666666666666666,
             "#ed7953"
            ],
            [
             0.7777777777777778,
             "#fb9f3a"
            ],
            [
             0.8888888888888888,
             "#fdca26"
            ],
            [
             1,
             "#f0f921"
            ]
           ],
           "sequentialminus": [
            [
             0,
             "#0d0887"
            ],
            [
             0.1111111111111111,
             "#46039f"
            ],
            [
             0.2222222222222222,
             "#7201a8"
            ],
            [
             0.3333333333333333,
             "#9c179e"
            ],
            [
             0.4444444444444444,
             "#bd3786"
            ],
            [
             0.5555555555555556,
             "#d8576b"
            ],
            [
             0.6666666666666666,
             "#ed7953"
            ],
            [
             0.7777777777777778,
             "#fb9f3a"
            ],
            [
             0.8888888888888888,
             "#fdca26"
            ],
            [
             1,
             "#f0f921"
            ]
           ]
          },
          "colorway": [
           "#636efa",
           "#EF553B",
           "#00cc96",
           "#ab63fa",
           "#FFA15A",
           "#19d3f3",
           "#FF6692",
           "#B6E880",
           "#FF97FF",
           "#FECB52"
          ],
          "font": {
           "color": "#2a3f5f"
          },
          "geo": {
           "bgcolor": "white",
           "lakecolor": "white",
           "landcolor": "#E5ECF6",
           "showlakes": true,
           "showland": true,
           "subunitcolor": "white"
          },
          "hoverlabel": {
           "align": "left"
          },
          "hovermode": "closest",
          "mapbox": {
           "style": "light"
          },
          "paper_bgcolor": "white",
          "plot_bgcolor": "#E5ECF6",
          "polar": {
           "angularaxis": {
            "gridcolor": "white",
            "linecolor": "white",
            "ticks": ""
           },
           "bgcolor": "#E5ECF6",
           "radialaxis": {
            "gridcolor": "white",
            "linecolor": "white",
            "ticks": ""
           }
          },
          "scene": {
           "xaxis": {
            "backgroundcolor": "#E5ECF6",
            "gridcolor": "white",
            "gridwidth": 2,
            "linecolor": "white",
            "showbackground": true,
            "ticks": "",
            "zerolinecolor": "white"
           },
           "yaxis": {
            "backgroundcolor": "#E5ECF6",
            "gridcolor": "white",
            "gridwidth": 2,
            "linecolor": "white",
            "showbackground": true,
            "ticks": "",
            "zerolinecolor": "white"
           },
           "zaxis": {
            "backgroundcolor": "#E5ECF6",
            "gridcolor": "white",
            "gridwidth": 2,
            "linecolor": "white",
            "showbackground": true,
            "ticks": "",
            "zerolinecolor": "white"
           }
          },
          "shapedefaults": {
           "line": {
            "color": "#2a3f5f"
           }
          },
          "ternary": {
           "aaxis": {
            "gridcolor": "white",
            "linecolor": "white",
            "ticks": ""
           },
           "baxis": {
            "gridcolor": "white",
            "linecolor": "white",
            "ticks": ""
           },
           "bgcolor": "#E5ECF6",
           "caxis": {
            "gridcolor": "white",
            "linecolor": "white",
            "ticks": ""
           }
          },
          "title": {
           "x": 0.05
          },
          "xaxis": {
           "automargin": true,
           "gridcolor": "white",
           "linecolor": "white",
           "ticks": "",
           "zerolinecolor": "white",
           "zerolinewidth": 2
          },
          "yaxis": {
           "automargin": true,
           "gridcolor": "white",
           "linecolor": "white",
           "ticks": "",
           "zerolinecolor": "white",
           "zerolinewidth": 2
          }
         }
        },
        "title": {
         "font": {
          "color": "rgb(255, 100, 0)",
          "size": 30
         },
         "text": "Regional Distribution for incoming UCSD Student"
        },
        "xaxis": {
         "title": {
          "text": "Year"
         }
        },
        "yaxis": {
         "title": {
          "text": "Percentage"
         }
        }
       }
      },
      "text/html": [
       "<div>\n",
       "        \n",
       "        \n",
       "            <div id=\"e394e645-07eb-40fb-bbc4-8b5134166573\" class=\"plotly-graph-div\" style=\"height:525px; width:100%;\"></div>\n",
       "            <script type=\"text/javascript\">\n",
       "                require([\"plotly\"], function(Plotly) {\n",
       "                    window.PLOTLYENV=window.PLOTLYENV || {};\n",
       "                    \n",
       "                if (document.getElementById(\"e394e645-07eb-40fb-bbc4-8b5134166573\")) {\n",
       "                    Plotly.newPlot(\n",
       "                        'e394e645-07eb-40fb-bbc4-8b5134166573',\n",
       "                        [{\"line\": {\"color\": \"red\", \"width\": 2}, \"mode\": \"lines+markers\", \"name\": \"Los Angeles\", \"type\": \"scatter\", \"x\": [2011, 2012, 2013, 2014, 2015, 2016], \"y\": [0.41, 0.37, 0.38, 0.37, 0.32, 0.36]}, {\"line\": {\"color\": \"orange\", \"width\": 2}, \"mode\": \"lines+markers\", \"name\": \"San Diego\", \"type\": \"scatter\", \"x\": [2011, 2012, 2013, 2014, 2015, 2016], \"y\": [0.14, 0.11, 0.13, 0.13, 0.12, 0.14]}, {\"mode\": \"lines+markers\", \"name\": \"San Francisco\", \"type\": \"scatter\", \"x\": [2011, 2012, 2013, 2014, 2015, 2016], \"y\": [0.18, 0.19, 0.16, 0.16, 0.16, 0.14]}, {\"line\": {\"color\": \"royalblue\", \"dash\": \"dot\", \"width\": 6}, \"mode\": \"lines+markers\", \"name\": \"International\", \"type\": \"scatter\", \"x\": [2011, 2012, 2013, 2014, 2015, 2016], \"y\": [0.11, 0.15, 0.16, 0.21, 0.24, 0.22]}],\n",
       "                        {\"template\": {\"data\": {\"bar\": [{\"error_x\": {\"color\": \"#2a3f5f\"}, \"error_y\": {\"color\": \"#2a3f5f\"}, \"marker\": {\"line\": {\"color\": \"#E5ECF6\", \"width\": 0.5}}, \"type\": \"bar\"}], \"barpolar\": [{\"marker\": {\"line\": {\"color\": \"#E5ECF6\", \"width\": 0.5}}, \"type\": \"barpolar\"}], \"carpet\": [{\"aaxis\": {\"endlinecolor\": \"#2a3f5f\", \"gridcolor\": \"white\", \"linecolor\": \"white\", \"minorgridcolor\": \"white\", \"startlinecolor\": \"#2a3f5f\"}, \"baxis\": {\"endlinecolor\": \"#2a3f5f\", \"gridcolor\": \"white\", \"linecolor\": \"white\", \"minorgridcolor\": \"white\", \"startlinecolor\": \"#2a3f5f\"}, \"type\": \"carpet\"}], \"choropleth\": [{\"colorbar\": {\"outlinewidth\": 0, \"ticks\": \"\"}, \"type\": \"choropleth\"}], \"contour\": [{\"colorbar\": {\"outlinewidth\": 0, \"ticks\": \"\"}, \"colorscale\": [[0.0, \"#0d0887\"], [0.1111111111111111, \"#46039f\"], [0.2222222222222222, \"#7201a8\"], [0.3333333333333333, \"#9c179e\"], [0.4444444444444444, \"#bd3786\"], [0.5555555555555556, \"#d8576b\"], [0.6666666666666666, \"#ed7953\"], [0.7777777777777778, \"#fb9f3a\"], [0.8888888888888888, \"#fdca26\"], [1.0, \"#f0f921\"]], \"type\": \"contour\"}], \"contourcarpet\": [{\"colorbar\": {\"outlinewidth\": 0, \"ticks\": \"\"}, \"type\": \"contourcarpet\"}], \"heatmap\": [{\"colorbar\": {\"outlinewidth\": 0, \"ticks\": \"\"}, \"colorscale\": [[0.0, \"#0d0887\"], [0.1111111111111111, \"#46039f\"], [0.2222222222222222, \"#7201a8\"], [0.3333333333333333, \"#9c179e\"], [0.4444444444444444, \"#bd3786\"], [0.5555555555555556, \"#d8576b\"], [0.6666666666666666, \"#ed7953\"], [0.7777777777777778, \"#fb9f3a\"], [0.8888888888888888, \"#fdca26\"], [1.0, \"#f0f921\"]], \"type\": \"heatmap\"}], \"heatmapgl\": [{\"colorbar\": {\"outlinewidth\": 0, \"ticks\": \"\"}, \"colorscale\": [[0.0, \"#0d0887\"], [0.1111111111111111, \"#46039f\"], [0.2222222222222222, \"#7201a8\"], [0.3333333333333333, \"#9c179e\"], [0.4444444444444444, \"#bd3786\"], [0.5555555555555556, \"#d8576b\"], [0.6666666666666666, \"#ed7953\"], [0.7777777777777778, \"#fb9f3a\"], [0.8888888888888888, \"#fdca26\"], [1.0, \"#f0f921\"]], \"type\": \"heatmapgl\"}], \"histogram\": [{\"marker\": {\"colorbar\": {\"outlinewidth\": 0, \"ticks\": \"\"}}, \"type\": \"histogram\"}], \"histogram2d\": [{\"colorbar\": {\"outlinewidth\": 0, \"ticks\": \"\"}, \"colorscale\": [[0.0, \"#0d0887\"], [0.1111111111111111, \"#46039f\"], [0.2222222222222222, \"#7201a8\"], [0.3333333333333333, \"#9c179e\"], [0.4444444444444444, \"#bd3786\"], [0.5555555555555556, \"#d8576b\"], [0.6666666666666666, \"#ed7953\"], [0.7777777777777778, \"#fb9f3a\"], [0.8888888888888888, \"#fdca26\"], [1.0, \"#f0f921\"]], \"type\": \"histogram2d\"}], \"histogram2dcontour\": [{\"colorbar\": {\"outlinewidth\": 0, \"ticks\": \"\"}, \"colorscale\": [[0.0, \"#0d0887\"], [0.1111111111111111, \"#46039f\"], [0.2222222222222222, \"#7201a8\"], [0.3333333333333333, \"#9c179e\"], [0.4444444444444444, \"#bd3786\"], [0.5555555555555556, \"#d8576b\"], [0.6666666666666666, \"#ed7953\"], [0.7777777777777778, \"#fb9f3a\"], [0.8888888888888888, \"#fdca26\"], [1.0, \"#f0f921\"]], \"type\": \"histogram2dcontour\"}], \"mesh3d\": [{\"colorbar\": {\"outlinewidth\": 0, \"ticks\": \"\"}, \"type\": \"mesh3d\"}], \"parcoords\": [{\"line\": {\"colorbar\": {\"outlinewidth\": 0, \"ticks\": \"\"}}, \"type\": \"parcoords\"}], \"scatter\": [{\"marker\": {\"colorbar\": {\"outlinewidth\": 0, \"ticks\": \"\"}}, \"type\": \"scatter\"}], \"scatter3d\": [{\"line\": {\"colorbar\": {\"outlinewidth\": 0, \"ticks\": \"\"}}, \"marker\": {\"colorbar\": {\"outlinewidth\": 0, \"ticks\": \"\"}}, \"type\": \"scatter3d\"}], \"scattercarpet\": [{\"marker\": {\"colorbar\": {\"outlinewidth\": 0, \"ticks\": \"\"}}, \"type\": \"scattercarpet\"}], \"scattergeo\": [{\"marker\": {\"colorbar\": {\"outlinewidth\": 0, \"ticks\": \"\"}}, \"type\": \"scattergeo\"}], \"scattergl\": [{\"marker\": {\"colorbar\": {\"outlinewidth\": 0, \"ticks\": \"\"}}, \"type\": \"scattergl\"}], \"scattermapbox\": [{\"marker\": {\"colorbar\": {\"outlinewidth\": 0, \"ticks\": \"\"}}, \"type\": \"scattermapbox\"}], \"scatterpolar\": [{\"marker\": {\"colorbar\": {\"outlinewidth\": 0, \"ticks\": \"\"}}, \"type\": \"scatterpolar\"}], \"scatterpolargl\": [{\"marker\": {\"colorbar\": {\"outlinewidth\": 0, \"ticks\": \"\"}}, \"type\": \"scatterpolargl\"}], \"scatterternary\": [{\"marker\": {\"colorbar\": {\"outlinewidth\": 0, \"ticks\": \"\"}}, \"type\": \"scatterternary\"}], \"surface\": [{\"colorbar\": {\"outlinewidth\": 0, \"ticks\": \"\"}, \"colorscale\": [[0.0, \"#0d0887\"], [0.1111111111111111, \"#46039f\"], [0.2222222222222222, \"#7201a8\"], [0.3333333333333333, \"#9c179e\"], [0.4444444444444444, \"#bd3786\"], [0.5555555555555556, \"#d8576b\"], [0.6666666666666666, \"#ed7953\"], [0.7777777777777778, \"#fb9f3a\"], [0.8888888888888888, \"#fdca26\"], [1.0, \"#f0f921\"]], \"type\": \"surface\"}], \"table\": [{\"cells\": {\"fill\": {\"color\": \"#EBF0F8\"}, \"line\": {\"color\": \"white\"}}, \"header\": {\"fill\": {\"color\": \"#C8D4E3\"}, \"line\": {\"color\": \"white\"}}, \"type\": \"table\"}]}, \"layout\": {\"annotationdefaults\": {\"arrowcolor\": \"#2a3f5f\", \"arrowhead\": 0, \"arrowwidth\": 1}, \"colorscale\": {\"diverging\": [[0, \"#8e0152\"], [0.1, \"#c51b7d\"], [0.2, \"#de77ae\"], [0.3, \"#f1b6da\"], [0.4, \"#fde0ef\"], [0.5, \"#f7f7f7\"], [0.6, \"#e6f5d0\"], [0.7, \"#b8e186\"], [0.8, \"#7fbc41\"], [0.9, \"#4d9221\"], [1, \"#276419\"]], \"sequential\": [[0.0, \"#0d0887\"], [0.1111111111111111, \"#46039f\"], [0.2222222222222222, \"#7201a8\"], [0.3333333333333333, \"#9c179e\"], [0.4444444444444444, \"#bd3786\"], [0.5555555555555556, \"#d8576b\"], [0.6666666666666666, \"#ed7953\"], [0.7777777777777778, \"#fb9f3a\"], [0.8888888888888888, \"#fdca26\"], [1.0, \"#f0f921\"]], \"sequentialminus\": [[0.0, \"#0d0887\"], [0.1111111111111111, \"#46039f\"], [0.2222222222222222, \"#7201a8\"], [0.3333333333333333, \"#9c179e\"], [0.4444444444444444, \"#bd3786\"], [0.5555555555555556, \"#d8576b\"], [0.6666666666666666, \"#ed7953\"], [0.7777777777777778, \"#fb9f3a\"], [0.8888888888888888, \"#fdca26\"], [1.0, \"#f0f921\"]]}, \"colorway\": [\"#636efa\", \"#EF553B\", \"#00cc96\", \"#ab63fa\", \"#FFA15A\", \"#19d3f3\", \"#FF6692\", \"#B6E880\", \"#FF97FF\", \"#FECB52\"], \"font\": {\"color\": \"#2a3f5f\"}, \"geo\": {\"bgcolor\": \"white\", \"lakecolor\": \"white\", \"landcolor\": \"#E5ECF6\", \"showlakes\": true, \"showland\": true, \"subunitcolor\": \"white\"}, \"hoverlabel\": {\"align\": \"left\"}, \"hovermode\": \"closest\", \"mapbox\": {\"style\": \"light\"}, \"paper_bgcolor\": \"white\", \"plot_bgcolor\": \"#E5ECF6\", \"polar\": {\"angularaxis\": {\"gridcolor\": \"white\", \"linecolor\": \"white\", \"ticks\": \"\"}, \"bgcolor\": \"#E5ECF6\", \"radialaxis\": {\"gridcolor\": \"white\", \"linecolor\": \"white\", \"ticks\": \"\"}}, \"scene\": {\"xaxis\": {\"backgroundcolor\": \"#E5ECF6\", \"gridcolor\": \"white\", \"gridwidth\": 2, \"linecolor\": \"white\", \"showbackground\": true, \"ticks\": \"\", \"zerolinecolor\": \"white\"}, \"yaxis\": {\"backgroundcolor\": \"#E5ECF6\", \"gridcolor\": \"white\", \"gridwidth\": 2, \"linecolor\": \"white\", \"showbackground\": true, \"ticks\": \"\", \"zerolinecolor\": \"white\"}, \"zaxis\": {\"backgroundcolor\": \"#E5ECF6\", \"gridcolor\": \"white\", \"gridwidth\": 2, \"linecolor\": \"white\", \"showbackground\": true, \"ticks\": \"\", \"zerolinecolor\": \"white\"}}, \"shapedefaults\": {\"line\": {\"color\": \"#2a3f5f\"}}, \"ternary\": {\"aaxis\": {\"gridcolor\": \"white\", \"linecolor\": \"white\", \"ticks\": \"\"}, \"baxis\": {\"gridcolor\": \"white\", \"linecolor\": \"white\", \"ticks\": \"\"}, \"bgcolor\": \"#E5ECF6\", \"caxis\": {\"gridcolor\": \"white\", \"linecolor\": \"white\", \"ticks\": \"\"}}, \"title\": {\"x\": 0.05}, \"xaxis\": {\"automargin\": true, \"gridcolor\": \"white\", \"linecolor\": \"white\", \"ticks\": \"\", \"zerolinecolor\": \"white\", \"zerolinewidth\": 2}, \"yaxis\": {\"automargin\": true, \"gridcolor\": \"white\", \"linecolor\": \"white\", \"ticks\": \"\", \"zerolinecolor\": \"white\", \"zerolinewidth\": 2}}}, \"title\": {\"font\": {\"color\": \"rgb(255, 100, 0)\", \"size\": 30}, \"text\": \"Regional Distribution for incoming UCSD Student\"}, \"xaxis\": {\"title\": {\"text\": \"Year\"}}, \"yaxis\": {\"title\": {\"text\": \"Percentage\"}}},\n",
       "                        {\"responsive\": true}\n",
       "                    ).then(function(){\n",
       "                            \n",
       "var gd = document.getElementById('e394e645-07eb-40fb-bbc4-8b5134166573');\n",
       "var x = new MutationObserver(function (mutations, observer) {{\n",
       "        var display = window.getComputedStyle(gd).display;\n",
       "        if (!display || display === 'none') {{\n",
       "            console.log([gd, 'removed!']);\n",
       "            Plotly.purge(gd);\n",
       "            observer.disconnect();\n",
       "        }}\n",
       "}});\n",
       "\n",
       "// Listen for the removal of the full notebook cells\n",
       "var notebookContainer = gd.closest('#notebook-container');\n",
       "if (notebookContainer) {{\n",
       "    x.observe(notebookContainer, {childList: true});\n",
       "}}\n",
       "\n",
       "// Listen for the clearing of the current output cell\n",
       "var outputEl = gd.closest('.output');\n",
       "if (outputEl) {{\n",
       "    x.observe(outputEl, {childList: true});\n",
       "}}\n",
       "\n",
       "                        })\n",
       "                };\n",
       "                });\n",
       "            </script>\n",
       "        </div>"
      ]
     },
     "metadata": {},
     "output_type": "display_data"
    }
   ],
   "source": [
    "incoming = dict()\n",
    "# Date gathered from UCSD Website\n",
    "incoming['San Diego'] = [0.14, 0.11, 0.13, 0.13, 0.12, 0.14]\n",
    "incoming['Los Angeles'] = [0.41, 0.37, 0.38, 0.37, 0.32, 0.36]\n",
    "incoming['San Francisco'] = [0.18, 0.19, 0.16, 0.16, 0.16,0.14]\n",
    "incoming['Other CA'] = [0.1, 0.09, 0.1, 0.09, 0.08, 0.08]\n",
    "incoming['Out-of-state'] = [0.07, 0.1, 0.07, 0.06, 0.08,0.07]\n",
    "incoming['International'] = [0.11, 0.15, 0.16, 0.21, 0.24, 0.22]\n",
    "\n",
    "random_x = [2011, 2012, 2013, 2014, 2015, 2016]\n",
    "random_y0 = (incoming['San Diego'])\n",
    "# Create traces\n",
    "fig = go.Figure()\n",
    "fig.add_trace(go.Scatter(x=random_x, y=incoming['Los Angeles'],\n",
    "                    mode='lines+markers',\n",
    "                    name='Los Angeles',\n",
    "                    line=dict(color='red', width=2)))\n",
    "fig.add_trace(go.Scatter(x=random_x, y=incoming['San Diego'],\n",
    "                    mode='lines+markers',\n",
    "                    name='San Diego',\n",
    "                    line=dict(color='orange', width=2)))\n",
    "fig.add_trace(go.Scatter(x=random_x, y=incoming['San Francisco'],\n",
    "                    mode='lines+markers',\n",
    "                    name='San Francisco'))\n",
    "# fig.add_trace(go.Scatter(x=random_x, y=incoming['Other CA'],\n",
    "#                     mode='lines+markers',\n",
    "#                     name='Other CA'))\n",
    "# fig.add_trace(go.Scatter(x=random_x, y=incoming['Out-of-state'],\n",
    "#                     mode='lines+markers',\n",
    "#                     name='Out-of-state'))\n",
    "fig.add_trace(go.Scatter(x=random_x, y=incoming['International'],\n",
    "                    mode='lines+markers',\n",
    "                    name='International',\n",
    "                    line=dict(color='royalblue', width=6, dash='dot')))\n",
    "# fig.add_trace(go.Scatter(x=random_x, y=random_y2,\n",
    "#                     mode='markers', name='markers'))\n",
    "\n",
    "# Edit the layout\n",
    "fig.update_layout(title='Regional Distribution for incoming UCSD Student',titlefont=dict(color='rgb(255, 100, 0)',size=30),\n",
    "                   xaxis_title='Year',\n",
    "                   yaxis_title='Percentage')\n",
    "fig.show()\n"
   ]
  },
  {
   "cell_type": "code",
   "execution_count": null,
   "metadata": {},
   "outputs": [],
   "source": []
  },
  {
   "cell_type": "code",
   "execution_count": null,
   "metadata": {},
   "outputs": [],
   "source": []
  }
 ],
 "metadata": {
  "kernelspec": {
   "display_name": "Python 3",
   "language": "python",
   "name": "python3"
  },
  "language_info": {
   "codemirror_mode": {
    "name": "ipython",
    "version": 3
   },
   "file_extension": ".py",
   "mimetype": "text/x-python",
   "name": "python",
   "nbconvert_exporter": "python",
   "pygments_lexer": "ipython3",
   "version": "3.6.8"
  }
 },
 "nbformat": 4,
 "nbformat_minor": 2
}
